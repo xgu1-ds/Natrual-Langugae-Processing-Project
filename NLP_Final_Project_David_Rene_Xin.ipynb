{
 "cells": [
  {
   "cell_type": "markdown",
   "metadata": {
    "ExecuteTime": {
     "end_time": "2020-03-21T16:02:52.736050Z",
     "start_time": "2020-03-21T16:02:52.732058Z"
    }
   },
   "source": [
    "<font size=\"5\">__NLP Final Project__</font><br><br>\n",
    "<font size=\"3\">__Topic Modeling: Finding Related Articles__</font><br><br>\n",
    "Team Member:\n",
    "- David Kurniadi\n",
    "- Rene Lizarra\n",
    "- Xin Gu"
   ]
  },
  {
   "cell_type": "code",
   "execution_count": 46,
   "metadata": {
    "ExecuteTime": {
     "end_time": "2020-04-25T16:56:38.911366Z",
     "start_time": "2020-04-25T16:56:38.902165Z"
    }
   },
   "outputs": [],
   "source": [
    "import numpy as np \n",
    "import pandas as pd\n",
    "import os\n",
    "import json\n",
    "import glob\n",
    "import sys\n",
    "import scispacy\n",
    "import spacy\n",
    "import joblib\n",
    "from sklearn.feature_extraction import text\n",
    "from sklearn.feature_extraction.text import CountVectorizer, TfidfVectorizer\n",
    "from sklearn.decomposition import LatentDirichletAllocation\n",
    "from scipy.spatial.distance import jensenshannon\n",
    "import pyLDAvis\n",
    "import pyLDAvis.sklearn\n",
    "from IPython.display import HTML, display\n",
    "from ipywidgets import interact, Layout, HBox, VBox, Box\n",
    "import ipywidgets as widgets\n",
    "from IPython.display import clear_output\n",
    "from tqdm import tqdm\n",
    "\n",
    "import nltk\n",
    "from nltk.tokenize import sent_tokenize\n",
    "from nltk.corpus import stopwords\n",
    "from sklearn.metrics.pairwise import cosine_similarity"
   ]
  },
  {
   "cell_type": "code",
   "execution_count": 47,
   "metadata": {
    "ExecuteTime": {
     "end_time": "2020-04-25T16:56:40.432164Z",
     "start_time": "2020-04-25T16:56:40.428168Z"
    }
   },
   "outputs": [],
   "source": [
    "import sys\n",
    "import warnings\n",
    "\n",
    "if not sys.warnoptions:\n",
    "    warnings.simplefilter(\"ignore\")"
   ]
  },
  {
   "cell_type": "code",
   "execution_count": 48,
   "metadata": {
    "ExecuteTime": {
     "end_time": "2020-04-25T16:56:42.506693Z",
     "start_time": "2020-04-25T16:56:42.502690Z"
    }
   },
   "outputs": [],
   "source": [
    "pyLDAvis.enable_notebook()"
   ]
  },
  {
   "cell_type": "code",
   "execution_count": 49,
   "metadata": {
    "ExecuteTime": {
     "end_time": "2020-04-25T16:56:44.033696Z",
     "start_time": "2020-04-25T16:56:44.029696Z"
    }
   },
   "outputs": [],
   "source": [
    "pd.set_option('display.max_rows', None)\n",
    "pd.set_option('display.max_columns', None)\n",
    "pd.set_option('display.width', None)\n",
    "pd.set_option('display.max_colwidth', 100)"
   ]
  },
  {
   "cell_type": "markdown",
   "metadata": {},
   "source": [
    "## Load and Prepare Data"
   ]
  },
  {
   "cell_type": "markdown",
   "metadata": {},
   "source": [
    "### Kaggle_Covid19_All_Sources.csv"
   ]
  },
  {
   "cell_type": "code",
   "execution_count": 50,
   "metadata": {
    "ExecuteTime": {
     "end_time": "2020-04-25T16:56:48.704695Z",
     "start_time": "2020-04-25T16:56:48.698693Z"
    }
   },
   "outputs": [],
   "source": [
    "sys.path.insert(0, \"../\")\n",
    "root_path = './CORD-19-research-challenge/2020-03-13/'"
   ]
  },
  {
   "cell_type": "code",
   "execution_count": 51,
   "metadata": {
    "ExecuteTime": {
     "end_time": "2020-04-25T16:56:50.340957Z",
     "start_time": "2020-04-25T16:56:50.330964Z"
    }
   },
   "outputs": [],
   "source": [
    "corona_features = {\"doc_id\": [None], \"source\": [None], \"title\": [None],\n",
    "                  \"abstract\": [None], \"text_body\": [None]}\n",
    "corona_df = pd.DataFrame.from_dict(corona_features)"
   ]
  },
  {
   "cell_type": "code",
   "execution_count": 52,
   "metadata": {
    "ExecuteTime": {
     "end_time": "2020-04-25T16:56:51.247960Z",
     "start_time": "2020-04-25T16:56:51.240960Z"
    }
   },
   "outputs": [
    {
     "data": {
      "text/plain": [
       "(1, 5)"
      ]
     },
     "execution_count": 52,
     "metadata": {},
     "output_type": "execute_result"
    }
   ],
   "source": [
    "corona_df.shape"
   ]
  },
  {
   "cell_type": "markdown",
   "metadata": {},
   "source": [
    "### Get all JSON files"
   ]
  },
  {
   "cell_type": "code",
   "execution_count": 53,
   "metadata": {
    "ExecuteTime": {
     "end_time": "2020-04-25T16:56:55.757966Z",
     "start_time": "2020-04-25T16:56:55.096966Z"
    }
   },
   "outputs": [],
   "source": [
    "json_filenames = glob.glob(f'{root_path}/**/*.json', recursive=True)"
   ]
  },
  {
   "cell_type": "code",
   "execution_count": 54,
   "metadata": {
    "ExecuteTime": {
     "end_time": "2020-04-25T16:56:56.366964Z",
     "start_time": "2020-04-25T16:56:56.343964Z"
    }
   },
   "outputs": [
    {
     "data": {
      "text/plain": [
       "['./CORD-19-research-challenge/2020-03-13\\\\biorxiv_medrxiv\\\\0015023cc06b5362d332b3baf348d11567ca2fbb.json',\n",
       " './CORD-19-research-challenge/2020-03-13\\\\biorxiv_medrxiv\\\\004f0f8bb66cf446678dc13cf2701feec4f36d76.json',\n",
       " './CORD-19-research-challenge/2020-03-13\\\\biorxiv_medrxiv\\\\00d16927588fb04d4be0e6b269fc02f0d3c2aa7b.json',\n",
       " './CORD-19-research-challenge/2020-03-13\\\\biorxiv_medrxiv\\\\013d9d1cba8a54d5d3718c229b812d7cf91b6c89.json',\n",
       " './CORD-19-research-challenge/2020-03-13\\\\biorxiv_medrxiv\\\\01d162d7fae6aaba8e6e60e563ef4c2fca7b0e18.json',\n",
       " './CORD-19-research-challenge/2020-03-13\\\\biorxiv_medrxiv\\\\01e3b313e78a352593be2ff64927192af66619b5.json',\n",
       " './CORD-19-research-challenge/2020-03-13\\\\biorxiv_medrxiv\\\\02201e4601ab0eb70b6c26480cf2bfeae2625193.json',\n",
       " './CORD-19-research-challenge/2020-03-13\\\\biorxiv_medrxiv\\\\0255ea4b2f26a51a3bfa3bd8f3e1978c82c976d5.json',\n",
       " './CORD-19-research-challenge/2020-03-13\\\\biorxiv_medrxiv\\\\029c1c588047f1d612a219ee15494d2d19ff7439.json',\n",
       " './CORD-19-research-challenge/2020-03-13\\\\biorxiv_medrxiv\\\\03ce432f27c7df6af22b92245a614db2ecb5de5f.json',\n",
       " './CORD-19-research-challenge/2020-03-13\\\\biorxiv_medrxiv\\\\03ea3a614b56409d3f099c9ad764864293132540.json',\n",
       " './CORD-19-research-challenge/2020-03-13\\\\biorxiv_medrxiv\\\\04030bba3035a58c7725ae267973206f6eb6c0b4.json',\n",
       " './CORD-19-research-challenge/2020-03-13\\\\biorxiv_medrxiv\\\\05082393ba4c7ec530190dd887d99c74fd72f6d6.json',\n",
       " './CORD-19-research-challenge/2020-03-13\\\\biorxiv_medrxiv\\\\0562f70516579d557cd1486000bb7aac5ccec2a1.json',\n",
       " './CORD-19-research-challenge/2020-03-13\\\\biorxiv_medrxiv\\\\05d99c07db59b6948e39bfa62c2cbbf62944059a.json',\n",
       " './CORD-19-research-challenge/2020-03-13\\\\biorxiv_medrxiv\\\\0624a12abfe85c8b5070850d912a2db4cd453236.json',\n",
       " './CORD-19-research-challenge/2020-03-13\\\\biorxiv_medrxiv\\\\06a1002f9fbea7179ac3572843f66b14568af6e4.json',\n",
       " './CORD-19-research-challenge/2020-03-13\\\\biorxiv_medrxiv\\\\06c1b3535b83251cf92c01258b5048beeab7a460.json',\n",
       " './CORD-19-research-challenge/2020-03-13\\\\biorxiv_medrxiv\\\\07e833d0917cace550853f72923856d0fe1a7120.json',\n",
       " './CORD-19-research-challenge/2020-03-13\\\\biorxiv_medrxiv\\\\08660499ee722a74043f8417faee3e1eeb9d0f5f.json',\n",
       " './CORD-19-research-challenge/2020-03-13\\\\biorxiv_medrxiv\\\\08a22278486e12768ce186677a6a89663d24586f.json',\n",
       " './CORD-19-research-challenge/2020-03-13\\\\biorxiv_medrxiv\\\\090b6c8b3df30bc248221869f673a2d970caa1b9.json',\n",
       " './CORD-19-research-challenge/2020-03-13\\\\biorxiv_medrxiv\\\\091a8e9a61e19e88caeb039f0e3888d111b20439.json',\n",
       " './CORD-19-research-challenge/2020-03-13\\\\biorxiv_medrxiv\\\\09b6706748f0c1ae0da436ac2dfac9052b84e4ea.json',\n",
       " './CORD-19-research-challenge/2020-03-13\\\\biorxiv_medrxiv\\\\09c9fcabc66a106e01ef42247cbd86b6d85bd67f.json',\n",
       " './CORD-19-research-challenge/2020-03-13\\\\biorxiv_medrxiv\\\\09ec8daa8e32168d92d05b86de1784c639685fb4.json',\n",
       " './CORD-19-research-challenge/2020-03-13\\\\biorxiv_medrxiv\\\\0a32446730827ad8152c6a61e4738e4e0b231412.json',\n",
       " './CORD-19-research-challenge/2020-03-13\\\\biorxiv_medrxiv\\\\0a43046c154d0e521a6c425df215d90f3c62681e.json',\n",
       " './CORD-19-research-challenge/2020-03-13\\\\biorxiv_medrxiv\\\\0ab795fc615df6457551a8e231dce1f268eef9d2.json',\n",
       " './CORD-19-research-challenge/2020-03-13\\\\biorxiv_medrxiv\\\\0acc1f9a1c333a9a6b2dbba4a252d7576f024783.json',\n",
       " './CORD-19-research-challenge/2020-03-13\\\\biorxiv_medrxiv\\\\0aff00101d5ccc6592987185ab833f95d842f98b.json',\n",
       " './CORD-19-research-challenge/2020-03-13\\\\biorxiv_medrxiv\\\\0b282573f5c63c943021c10ca39a1ed21acfb429.json',\n",
       " './CORD-19-research-challenge/2020-03-13\\\\biorxiv_medrxiv\\\\0b460e73926eb107001c95c0dfeae2362b4251b0.json',\n",
       " './CORD-19-research-challenge/2020-03-13\\\\biorxiv_medrxiv\\\\0b48e1bfcdff9a42c88cc80a98661feb2703390d.json',\n",
       " './CORD-19-research-challenge/2020-03-13\\\\biorxiv_medrxiv\\\\0b4b4e5bb8d0d5167eec1e203b5dad283bd364a5.json',\n",
       " './CORD-19-research-challenge/2020-03-13\\\\biorxiv_medrxiv\\\\0bd443591b5e10934beef050b516afeca6b668fe.json',\n",
       " './CORD-19-research-challenge/2020-03-13\\\\biorxiv_medrxiv\\\\0c27c0ddaa4761f6155838df81a88d24619720f8.json',\n",
       " './CORD-19-research-challenge/2020-03-13\\\\biorxiv_medrxiv\\\\0cad40f50e41144e8b64744251515eca8cfac5f7.json',\n",
       " './CORD-19-research-challenge/2020-03-13\\\\biorxiv_medrxiv\\\\0cb9c296684ca5e71462d825cab2827854a01544.json',\n",
       " './CORD-19-research-challenge/2020-03-13\\\\biorxiv_medrxiv\\\\0d7964c665ff0107c674bc6dab8f252cab08038e.json',\n",
       " './CORD-19-research-challenge/2020-03-13\\\\biorxiv_medrxiv\\\\0da2ec30d7dfdef624833a36890f0297f19d09ec.json',\n",
       " './CORD-19-research-challenge/2020-03-13\\\\biorxiv_medrxiv\\\\0e2ba405f636e06821999876cd82c00e26404b43.json',\n",
       " './CORD-19-research-challenge/2020-03-13\\\\biorxiv_medrxiv\\\\0eda8331214ca028350b07e2953702f3078a105e.json',\n",
       " './CORD-19-research-challenge/2020-03-13\\\\biorxiv_medrxiv\\\\0eee9760aee0ca2fdf8d1d215c3689d5f8d84df5.json',\n",
       " './CORD-19-research-challenge/2020-03-13\\\\biorxiv_medrxiv\\\\0fa18c47543c3ce69a3c9e4d77958c4d3691b1ed.json',\n",
       " './CORD-19-research-challenge/2020-03-13\\\\biorxiv_medrxiv\\\\0fbb18050e29ca78191625d42576b1c574027377.json',\n",
       " './CORD-19-research-challenge/2020-03-13\\\\biorxiv_medrxiv\\\\0fd300aefb704c20f32152b97b6194015f1c74e7.json',\n",
       " './CORD-19-research-challenge/2020-03-13\\\\biorxiv_medrxiv\\\\0ff4ad5359ee2df3568605385a8616d8da66bf2c.json',\n",
       " './CORD-19-research-challenge/2020-03-13\\\\biorxiv_medrxiv\\\\10138816c67a562b55bc9c2b882b62c81fc4b062.json',\n",
       " './CORD-19-research-challenge/2020-03-13\\\\biorxiv_medrxiv\\\\10424da2599f0258bfaf71a3186b999ab2d747d0.json',\n",
       " './CORD-19-research-challenge/2020-03-13\\\\biorxiv_medrxiv\\\\10525ac89e46be4cb9cb9fd1131d28411a902047.json',\n",
       " './CORD-19-research-challenge/2020-03-13\\\\biorxiv_medrxiv\\\\107f0d5a47f48f85d6645cac0e7008edc4d9d8cd.json',\n",
       " './CORD-19-research-challenge/2020-03-13\\\\biorxiv_medrxiv\\\\10abb3e977aa476a39bce4f1feda37c2e1250106.json',\n",
       " './CORD-19-research-challenge/2020-03-13\\\\biorxiv_medrxiv\\\\110b4b089bd757bd54587c2ab3262a374462c098.json',\n",
       " './CORD-19-research-challenge/2020-03-13\\\\biorxiv_medrxiv\\\\111b9a6e91c938696fcdb4cb128b8ae739dbe11c.json',\n",
       " './CORD-19-research-challenge/2020-03-13\\\\biorxiv_medrxiv\\\\114ed64f52f503d9d2e2ba1fd1ee62b0a168cd84.json',\n",
       " './CORD-19-research-challenge/2020-03-13\\\\biorxiv_medrxiv\\\\11875dfda6cd04d5032611edf0e340582ceb620f.json',\n",
       " './CORD-19-research-challenge/2020-03-13\\\\biorxiv_medrxiv\\\\11f96d05db6854ef95312aa3a4736724ce1f02d6.json',\n",
       " './CORD-19-research-challenge/2020-03-13\\\\biorxiv_medrxiv\\\\1218f278a4f8d83dac14b23c8f698062812ef9d5.json',\n",
       " './CORD-19-research-challenge/2020-03-13\\\\biorxiv_medrxiv\\\\123db7cdec9fc63aa09782ea9f4267603be8f74d.json',\n",
       " './CORD-19-research-challenge/2020-03-13\\\\biorxiv_medrxiv\\\\12920263b2846c61d6f2b6105189367a8ff1bc39.json',\n",
       " './CORD-19-research-challenge/2020-03-13\\\\biorxiv_medrxiv\\\\12c8ef5614d9a35bed3ff95a3b1dc971842514fe.json',\n",
       " './CORD-19-research-challenge/2020-03-13\\\\biorxiv_medrxiv\\\\12fac9aedb1a09a3922a3c084ce4723708e463d6.json',\n",
       " './CORD-19-research-challenge/2020-03-13\\\\biorxiv_medrxiv\\\\136ee862ad53b606c8f2bea917b9705f5079e88e.json',\n",
       " './CORD-19-research-challenge/2020-03-13\\\\biorxiv_medrxiv\\\\138d4617f4f4984bec9cf2c7540fed533d9e4d6e.json',\n",
       " './CORD-19-research-challenge/2020-03-13\\\\biorxiv_medrxiv\\\\13bf9fe0df944c0ee0debb0d445527ad4418cc19.json',\n",
       " './CORD-19-research-challenge/2020-03-13\\\\biorxiv_medrxiv\\\\14783283da3482bf2aab4e6100fe4ea5c29d8db7.json',\n",
       " './CORD-19-research-challenge/2020-03-13\\\\biorxiv_medrxiv\\\\158e546658e42ab0a89d174bc9facb437a034df6.json',\n",
       " './CORD-19-research-challenge/2020-03-13\\\\biorxiv_medrxiv\\\\15ad534bb2ec7bc4b0ee83ddac11a1b837d743c6.json',\n",
       " './CORD-19-research-challenge/2020-03-13\\\\biorxiv_medrxiv\\\\15e5dd0eb126bfe384c25ba551317eb9ba2ad1ef.json',\n",
       " './CORD-19-research-challenge/2020-03-13\\\\biorxiv_medrxiv\\\\160ecaaa5a766c289fc2f6b5499f0dfe7aab971c.json',\n",
       " './CORD-19-research-challenge/2020-03-13\\\\biorxiv_medrxiv\\\\164b0678afc42f1923aa100b624ca969a53fb3b2.json',\n",
       " './CORD-19-research-challenge/2020-03-13\\\\biorxiv_medrxiv\\\\180c88b68816bbb6eb57aa515a3aec4020178729.json',\n",
       " './CORD-19-research-challenge/2020-03-13\\\\biorxiv_medrxiv\\\\181b7b57851e6f58a601b68e613d10c10616f774.json',\n",
       " './CORD-19-research-challenge/2020-03-13\\\\biorxiv_medrxiv\\\\18dc6a67045d2687d2b5c11c85797f42824ed243.json',\n",
       " './CORD-19-research-challenge/2020-03-13\\\\biorxiv_medrxiv\\\\1983cbc32412a9a7b1601b6778605f9e98ab69e0.json',\n",
       " './CORD-19-research-challenge/2020-03-13\\\\biorxiv_medrxiv\\\\1a12cc7d49d8521bec5d447ebb413cbcf5aca8f4.json',\n",
       " './CORD-19-research-challenge/2020-03-13\\\\biorxiv_medrxiv\\\\1a791c5c6543aca9391b77ae58b79d7ddf3c1f3c.json',\n",
       " './CORD-19-research-challenge/2020-03-13\\\\biorxiv_medrxiv\\\\1a9c229f4f866db4f9c23a77b8c1275b52407c64.json',\n",
       " './CORD-19-research-challenge/2020-03-13\\\\biorxiv_medrxiv\\\\1ad1d4b84aea4ceaf05c62a1ad04e7150f7f4684.json',\n",
       " './CORD-19-research-challenge/2020-03-13\\\\biorxiv_medrxiv\\\\1b4ab28a9391d516e1753874c73d2d244104f825.json',\n",
       " './CORD-19-research-challenge/2020-03-13\\\\biorxiv_medrxiv\\\\1b531d266b4933bf8040739ed199914655b075d6.json',\n",
       " './CORD-19-research-challenge/2020-03-13\\\\biorxiv_medrxiv\\\\1b9fed2824e97db8cb35912549dd2e9cde7b6c18.json',\n",
       " './CORD-19-research-challenge/2020-03-13\\\\biorxiv_medrxiv\\\\1c06378f629bfa8870c89b3abfdecfc19db9b459.json',\n",
       " './CORD-19-research-challenge/2020-03-13\\\\biorxiv_medrxiv\\\\1c0b25c8e3c89243fd8797e2e964e12689bc8556.json',\n",
       " './CORD-19-research-challenge/2020-03-13\\\\biorxiv_medrxiv\\\\1c66ec8950cbd1e0f0d4bc4a43ba9c79411cc5fa.json',\n",
       " './CORD-19-research-challenge/2020-03-13\\\\biorxiv_medrxiv\\\\1d2947d5c0addcbbcfa71d87ea074a8b6ff2a973.json',\n",
       " './CORD-19-research-challenge/2020-03-13\\\\biorxiv_medrxiv\\\\1d882d90109fb4496088342cf2bcaa4fec40cf9f.json',\n",
       " './CORD-19-research-challenge/2020-03-13\\\\biorxiv_medrxiv\\\\1dd898b5ca1ae70ec0e3cad89fc87a165002a99e.json',\n",
       " './CORD-19-research-challenge/2020-03-13\\\\biorxiv_medrxiv\\\\1df9ce60e358f6cef0be3f6e15fe2a9c6f93f39c.json',\n",
       " './CORD-19-research-challenge/2020-03-13\\\\biorxiv_medrxiv\\\\1dfcd4615a8763e053bd2fdb845f09fab68109f1.json',\n",
       " './CORD-19-research-challenge/2020-03-13\\\\biorxiv_medrxiv\\\\1e45cd5feb7928bbc8bcd524d9c6b7adeae08a6b.json',\n",
       " './CORD-19-research-challenge/2020-03-13\\\\biorxiv_medrxiv\\\\1eaa329f608055620a57e6273e9d1c409de1e9ee.json',\n",
       " './CORD-19-research-challenge/2020-03-13\\\\biorxiv_medrxiv\\\\1f783a5e029f80516169b19fe6e0dacc1e171f87.json',\n",
       " './CORD-19-research-challenge/2020-03-13\\\\biorxiv_medrxiv\\\\1f9d3f9a1a0e8db6a086e0a2b5ba50cf9f235dae.json',\n",
       " './CORD-19-research-challenge/2020-03-13\\\\biorxiv_medrxiv\\\\1fb909712eea684a4fae4f0b419ca6bc7ba8e396.json',\n",
       " './CORD-19-research-challenge/2020-03-13\\\\biorxiv_medrxiv\\\\20154fa12ca525582cd1b42019927e8f7816fb51.json',\n",
       " './CORD-19-research-challenge/2020-03-13\\\\biorxiv_medrxiv\\\\207dcb6e3cd43cdea91d29a15be1ee34068bd54e.json',\n",
       " './CORD-19-research-challenge/2020-03-13\\\\biorxiv_medrxiv\\\\20f2a638e2c9a1917b7c001c371335da3d288505.json',\n",
       " './CORD-19-research-challenge/2020-03-13\\\\biorxiv_medrxiv\\\\21100aba41a4bfb48d7dc37f1bf5dbb38bf3867a.json',\n",
       " './CORD-19-research-challenge/2020-03-13\\\\biorxiv_medrxiv\\\\22264c65eb6c14ba96287ba4da536424dd083253.json',\n",
       " './CORD-19-research-challenge/2020-03-13\\\\biorxiv_medrxiv\\\\224a389bd5dbeab45b8a25965298016fbc44d669.json',\n",
       " './CORD-19-research-challenge/2020-03-13\\\\biorxiv_medrxiv\\\\228edf7f7e53e88e246fc77b7b7664ac35d7278e.json',\n",
       " './CORD-19-research-challenge/2020-03-13\\\\biorxiv_medrxiv\\\\22a4d26bde67d878869443ea26140f3d8239bed0.json',\n",
       " './CORD-19-research-challenge/2020-03-13\\\\biorxiv_medrxiv\\\\22f3be8bbf6d792549b7a6088df7440e425cb34f.json',\n",
       " './CORD-19-research-challenge/2020-03-13\\\\biorxiv_medrxiv\\\\233978852b45429db49d2aabe1c9c9bfe73b1884.json',\n",
       " './CORD-19-research-challenge/2020-03-13\\\\biorxiv_medrxiv\\\\23f1bab7d94bd0564e2319fddf75c1c7987ce75f.json',\n",
       " './CORD-19-research-challenge/2020-03-13\\\\biorxiv_medrxiv\\\\24e17488d399c436305c819953beae2961214771.json',\n",
       " './CORD-19-research-challenge/2020-03-13\\\\biorxiv_medrxiv\\\\24ff82a421f1a33db3ebaa22652bd62e0cb77c57.json',\n",
       " './CORD-19-research-challenge/2020-03-13\\\\biorxiv_medrxiv\\\\2536b83acf84368d7c13be81fe07aa0575115da7.json',\n",
       " './CORD-19-research-challenge/2020-03-13\\\\biorxiv_medrxiv\\\\264a816e7099246c13a5dad3a581a474d85d50bd.json',\n",
       " './CORD-19-research-challenge/2020-03-13\\\\biorxiv_medrxiv\\\\267729947ca478946d5a4bffb8e13d50c3545120.json',\n",
       " './CORD-19-research-challenge/2020-03-13\\\\biorxiv_medrxiv\\\\26cb6703ca72bf97887abbc29a40b1bd9d7890f4.json',\n",
       " './CORD-19-research-challenge/2020-03-13\\\\biorxiv_medrxiv\\\\26e75d3c815aae7fd9b094c3e5c74d3f7132ca13.json',\n",
       " './CORD-19-research-challenge/2020-03-13\\\\biorxiv_medrxiv\\\\26f1c42474966b8daede2912e06175bd8b864f8e.json',\n",
       " './CORD-19-research-challenge/2020-03-13\\\\biorxiv_medrxiv\\\\278e2c52630f1dbbda6a79db15a2260510586150.json',\n",
       " './CORD-19-research-challenge/2020-03-13\\\\biorxiv_medrxiv\\\\2858f25f5364b0ef37ceeaa370471ee6b3fac29d.json',\n",
       " './CORD-19-research-challenge/2020-03-13\\\\biorxiv_medrxiv\\\\28b107243576723248ad4053261000311a22f134.json',\n",
       " './CORD-19-research-challenge/2020-03-13\\\\biorxiv_medrxiv\\\\2913d91f13fd59c698f68ba63008d8e0550c0607.json',\n",
       " './CORD-19-research-challenge/2020-03-13\\\\biorxiv_medrxiv\\\\295036c0448244642eb6533de571def6cd8437e5.json',\n",
       " './CORD-19-research-challenge/2020-03-13\\\\biorxiv_medrxiv\\\\2989bf36068372cfedef82f58f4777e60ccbcfaa.json',\n",
       " './CORD-19-research-challenge/2020-03-13\\\\biorxiv_medrxiv\\\\29b3eaeacecf2bfc95b9a493dbb1ba4b2323dd46.json',\n",
       " './CORD-19-research-challenge/2020-03-13\\\\biorxiv_medrxiv\\\\29bc34aad802ab6b35074f23c631540a84b16d0d.json',\n",
       " './CORD-19-research-challenge/2020-03-13\\\\biorxiv_medrxiv\\\\2af91bbb625d983d5ad3aadb9e5f1d82268a0f1f.json',\n",
       " './CORD-19-research-challenge/2020-03-13\\\\biorxiv_medrxiv\\\\2afff5fe89a3e3ec270a41c2b929dfeec68d7d50.json',\n",
       " './CORD-19-research-challenge/2020-03-13\\\\biorxiv_medrxiv\\\\2c18d80cfc792faa3d6e35c72d4b6b58ee93fdad.json',\n",
       " './CORD-19-research-challenge/2020-03-13\\\\biorxiv_medrxiv\\\\2cc809ed4d5c3640ee2351fdb1876e8ff6c01b51.json',\n",
       " './CORD-19-research-challenge/2020-03-13\\\\biorxiv_medrxiv\\\\2cfe7a4cc1fceed0ad7ffbd6244a61e0b2c3ac8b.json',\n",
       " './CORD-19-research-challenge/2020-03-13\\\\biorxiv_medrxiv\\\\2d02192c3d251c2b561d37274350660277658a74.json',\n",
       " './CORD-19-research-challenge/2020-03-13\\\\biorxiv_medrxiv\\\\2d0285c90976dfa43d58eca6b7d1d7ef29994fc2.json',\n",
       " './CORD-19-research-challenge/2020-03-13\\\\biorxiv_medrxiv\\\\2da0a7ba851e53d21dba05042a397eafcdab093d.json',\n",
       " './CORD-19-research-challenge/2020-03-13\\\\biorxiv_medrxiv\\\\2dc6766fe253b1b832d8a3074404fb5daae4762f.json',\n",
       " './CORD-19-research-challenge/2020-03-13\\\\biorxiv_medrxiv\\\\2e41aee6651cf4cab4edf5aa67cc401c2bef9d67.json',\n",
       " './CORD-19-research-challenge/2020-03-13\\\\biorxiv_medrxiv\\\\2e5d79e1e6ebeed6cffdad2b474ca7675da969e7.json',\n",
       " './CORD-19-research-challenge/2020-03-13\\\\biorxiv_medrxiv\\\\2e7c17caecfe67b64f9b59df404f0761df96987f.json',\n",
       " './CORD-19-research-challenge/2020-03-13\\\\biorxiv_medrxiv\\\\2ea102f58147dab02e4dea90eb90dbc67149f678.json',\n",
       " './CORD-19-research-challenge/2020-03-13\\\\biorxiv_medrxiv\\\\2eac7de1c407d9eab13a6d538142cd21a814ee7b.json',\n",
       " './CORD-19-research-challenge/2020-03-13\\\\biorxiv_medrxiv\\\\2fe18190f7b54e589dccf1d3bbfd73e87bfd2ab9.json',\n",
       " './CORD-19-research-challenge/2020-03-13\\\\biorxiv_medrxiv\\\\2fe6b550f737baa47a5f2c8ab64cc3d9271c308a.json',\n",
       " './CORD-19-research-challenge/2020-03-13\\\\biorxiv_medrxiv\\\\2ff168d83528e6dd46e8c5358fb84fd63f7a8f2c.json',\n",
       " './CORD-19-research-challenge/2020-03-13\\\\biorxiv_medrxiv\\\\2ffc83b88bc84615273e97d8109e5439ce4dce60.json',\n",
       " './CORD-19-research-challenge/2020-03-13\\\\biorxiv_medrxiv\\\\3028628066ec2401f3981f4e70c5b1acd4cef573.json',\n",
       " './CORD-19-research-challenge/2020-03-13\\\\biorxiv_medrxiv\\\\30457ee3ce0001f33938fbc246b4ce4eacd74f5d.json',\n",
       " './CORD-19-research-challenge/2020-03-13\\\\biorxiv_medrxiv\\\\30814fcc87b8f3e5d4f7431d75b9505b049021e0.json',\n",
       " './CORD-19-research-challenge/2020-03-13\\\\biorxiv_medrxiv\\\\30b5c7b8faf95265f67ae59f4686eaf9b2772893.json',\n",
       " './CORD-19-research-challenge/2020-03-13\\\\biorxiv_medrxiv\\\\311a15d92b87b2bc41f00afed881b95e93c22fcc.json',\n",
       " './CORD-19-research-challenge/2020-03-13\\\\biorxiv_medrxiv\\\\313dd0869f169624e78d770963eacb0d1641cafa.json',\n",
       " './CORD-19-research-challenge/2020-03-13\\\\biorxiv_medrxiv\\\\315197247b230bab03786c197dc1fc795164c371.json',\n",
       " './CORD-19-research-challenge/2020-03-13\\\\biorxiv_medrxiv\\\\317215c463463ddb39fa7564f67239dc484b86a9.json',\n",
       " './CORD-19-research-challenge/2020-03-13\\\\biorxiv_medrxiv\\\\317943dec06b88c1c62ef0ecd832f0d644b1d417.json',\n",
       " './CORD-19-research-challenge/2020-03-13\\\\biorxiv_medrxiv\\\\31e67053158e68f513214a7a33046b5cc5f26249.json',\n",
       " './CORD-19-research-challenge/2020-03-13\\\\biorxiv_medrxiv\\\\329dfdd2fbe4b3c510c5329219bfd33764ab1710.json',\n",
       " './CORD-19-research-challenge/2020-03-13\\\\biorxiv_medrxiv\\\\32c2e402c3c88c3024a4dec3d78ba67c24f89ca6.json',\n",
       " './CORD-19-research-challenge/2020-03-13\\\\biorxiv_medrxiv\\\\3319392ca8bd2b8f2e2d00bccdb80deaa8a77c2e.json',\n",
       " './CORD-19-research-challenge/2020-03-13\\\\biorxiv_medrxiv\\\\331a7033bb8e6d4618e4e83b74aff1aec42764a6.json',\n",
       " './CORD-19-research-challenge/2020-03-13\\\\biorxiv_medrxiv\\\\33565294e6bc67fb7ee14dcae6cfdb08148f4ea5.json',\n",
       " './CORD-19-research-challenge/2020-03-13\\\\biorxiv_medrxiv\\\\33bd85ea9ca61c4d0674c43ae5b901b271b46f1e.json',\n",
       " './CORD-19-research-challenge/2020-03-13\\\\biorxiv_medrxiv\\\\341fe593ea84b66223d50924bddbba252c37bc4e.json',\n",
       " './CORD-19-research-challenge/2020-03-13\\\\biorxiv_medrxiv\\\\3461d71f6890f7e5ba53bf168be3945cdb16d901.json',\n",
       " './CORD-19-research-challenge/2020-03-13\\\\biorxiv_medrxiv\\\\35604e3a5d38d6794543372e4dd9ccf1d8d9cd2a.json',\n",
       " './CORD-19-research-challenge/2020-03-13\\\\biorxiv_medrxiv\\\\3579a2b0053bef55f93716e444173727a6c94c6d.json',\n",
       " './CORD-19-research-challenge/2020-03-13\\\\biorxiv_medrxiv\\\\35ac99bfeb665ce0a2ae361dba1161e69eb8b7d5.json',\n",
       " './CORD-19-research-challenge/2020-03-13\\\\biorxiv_medrxiv\\\\36521caf90f471c9da1a4e84f8562440d73ead9a.json',\n",
       " './CORD-19-research-challenge/2020-03-13\\\\biorxiv_medrxiv\\\\368fb114dfd565dedb635f62b9062956b49cd475.json',\n",
       " './CORD-19-research-challenge/2020-03-13\\\\biorxiv_medrxiv\\\\36a5f6d55d7c5f67d4344e36da0a72856ad3dda0.json',\n",
       " './CORD-19-research-challenge/2020-03-13\\\\biorxiv_medrxiv\\\\36e602b7081e7bb8a1cfeaa2fb92b0c43abd4fef.json',\n",
       " './CORD-19-research-challenge/2020-03-13\\\\biorxiv_medrxiv\\\\374a5295716649a80dca87097ad9ac902d344db6.json',\n",
       " './CORD-19-research-challenge/2020-03-13\\\\biorxiv_medrxiv\\\\37afeaa38d66b8097cc7637bf62ac7d142e6b362.json',\n",
       " './CORD-19-research-challenge/2020-03-13\\\\biorxiv_medrxiv\\\\380a4d07d22910246c6f189fd2da93b270b96981.json',\n",
       " './CORD-19-research-challenge/2020-03-13\\\\biorxiv_medrxiv\\\\38bab3f17b186bd8ee289e5d135bb7d500ef500b.json',\n",
       " './CORD-19-research-challenge/2020-03-13\\\\biorxiv_medrxiv\\\\38e796bbec2f90b1b802c14dc922102e96f6361e.json',\n",
       " './CORD-19-research-challenge/2020-03-13\\\\biorxiv_medrxiv\\\\395e8569a0e6fc129029cb0b8cda1f7381954976.json',\n",
       " './CORD-19-research-challenge/2020-03-13\\\\biorxiv_medrxiv\\\\3a6544f6f247366d4c12167f7fba743e9d981c63.json',\n",
       " './CORD-19-research-challenge/2020-03-13\\\\biorxiv_medrxiv\\\\3a73b880acd8983f87b210ff7fee434fd6ecc8c8.json',\n",
       " './CORD-19-research-challenge/2020-03-13\\\\biorxiv_medrxiv\\\\3a81dbb6350d25798f401c332abcf1b49616ffef.json',\n",
       " './CORD-19-research-challenge/2020-03-13\\\\biorxiv_medrxiv\\\\3afd5fba7dc182ddfa769c0d766134b525581005.json',\n",
       " './CORD-19-research-challenge/2020-03-13\\\\biorxiv_medrxiv\\\\3b181a741d4beafda3ba3a8fc68239493d49f6aa.json',\n",
       " './CORD-19-research-challenge/2020-03-13\\\\biorxiv_medrxiv\\\\3b22eecad8a582436c52284a4db2198a98a94e18.json',\n",
       " './CORD-19-research-challenge/2020-03-13\\\\biorxiv_medrxiv\\\\3b73c8abb7528c958cec0bae1890828af007b599.json',\n",
       " './CORD-19-research-challenge/2020-03-13\\\\biorxiv_medrxiv\\\\3c12e50b9da4b1fde21d68040610b73b8c216bf3.json',\n",
       " './CORD-19-research-challenge/2020-03-13\\\\biorxiv_medrxiv\\\\3c14c4c3a176c86833794029e787ce460c9d89dd.json',\n",
       " './CORD-19-research-challenge/2020-03-13\\\\biorxiv_medrxiv\\\\3c476baf5542bef88b8aad92bcca6786d1afa282.json',\n",
       " './CORD-19-research-challenge/2020-03-13\\\\biorxiv_medrxiv\\\\3c70c99afc7a38df3c4807857856ea258d378429.json',\n",
       " './CORD-19-research-challenge/2020-03-13\\\\biorxiv_medrxiv\\\\3c94f582610453b6c1389c3a5d6ad57bcf0ba033.json',\n",
       " './CORD-19-research-challenge/2020-03-13\\\\biorxiv_medrxiv\\\\3d3d536de77577af8dbf3067883990ff6d17faa8.json',\n",
       " './CORD-19-research-challenge/2020-03-13\\\\biorxiv_medrxiv\\\\3d498994d143a4ed7cc381700a19f2790d46bb36.json',\n",
       " './CORD-19-research-challenge/2020-03-13\\\\biorxiv_medrxiv\\\\3d5093a8e079fb17262111e5ef94bf01a3007971.json',\n",
       " './CORD-19-research-challenge/2020-03-13\\\\biorxiv_medrxiv\\\\3d690de86ca6e200f4f9cac61b004e47ad753aae.json',\n",
       " './CORD-19-research-challenge/2020-03-13\\\\biorxiv_medrxiv\\\\3da1a03cb675f463b0d8e30744aa33512241dd29.json',\n",
       " './CORD-19-research-challenge/2020-03-13\\\\biorxiv_medrxiv\\\\3ddc987158400d3867939d3594da56dd546d6ddd.json',\n",
       " './CORD-19-research-challenge/2020-03-13\\\\biorxiv_medrxiv\\\\3deb6393bd43f440a69c84da9ed61986b1781d36.json',\n",
       " './CORD-19-research-challenge/2020-03-13\\\\biorxiv_medrxiv\\\\3e5633a9a76a8c03e4ec57e4659872a63f045117.json',\n",
       " './CORD-19-research-challenge/2020-03-13\\\\biorxiv_medrxiv\\\\3e9ae5329eecab16d7c39f1f6dc778cf4a53ee0d.json',\n",
       " './CORD-19-research-challenge/2020-03-13\\\\biorxiv_medrxiv\\\\3ebbcdddb122f405061bb5e1ddcf94abe9258d58.json',\n",
       " './CORD-19-research-challenge/2020-03-13\\\\biorxiv_medrxiv\\\\3fac0b7a9917984764a77f7fcb327e820e770d1b.json',\n",
       " './CORD-19-research-challenge/2020-03-13\\\\biorxiv_medrxiv\\\\3fe2552d3d8e6c9ead2c41e30fbb69e917277f53.json',\n",
       " './CORD-19-research-challenge/2020-03-13\\\\biorxiv_medrxiv\\\\402041df2d9812dbcdae08153d0350eee170eea9.json',\n",
       " './CORD-19-research-challenge/2020-03-13\\\\biorxiv_medrxiv\\\\403d885a33958731c4607ea632453e25a89e2b57.json',\n",
       " './CORD-19-research-challenge/2020-03-13\\\\biorxiv_medrxiv\\\\409c431edf54d022463f40f2d31a0dfab42f5324.json',\n",
       " './CORD-19-research-challenge/2020-03-13\\\\biorxiv_medrxiv\\\\4144f646c2005c781d7834d5950dc3490cd082d0.json',\n",
       " './CORD-19-research-challenge/2020-03-13\\\\biorxiv_medrxiv\\\\4151e9b4ea5395d73bf33309dbca26551cc7c657.json',\n",
       " './CORD-19-research-challenge/2020-03-13\\\\biorxiv_medrxiv\\\\41d412415c46baf70ca91ebf049c0352ead19f18.json',\n",
       " './CORD-19-research-challenge/2020-03-13\\\\biorxiv_medrxiv\\\\41fc7191573c2f01fdef9c8ebb072e5f54cbb598.json',\n",
       " './CORD-19-research-challenge/2020-03-13\\\\biorxiv_medrxiv\\\\4380f0251c595d6cb551e643198d2dacd3c6746c.json',\n",
       " './CORD-19-research-challenge/2020-03-13\\\\biorxiv_medrxiv\\\\43f760b5cb9c3b430c6d0b31fa90d42e71a6429c.json',\n",
       " './CORD-19-research-challenge/2020-03-13\\\\biorxiv_medrxiv\\\\4485b9462ebf52c0062692d7ab7e423c2ae05d9e.json',\n",
       " './CORD-19-research-challenge/2020-03-13\\\\biorxiv_medrxiv\\\\44a440cc1c135c938d2216ea672f8ef4f9c01296.json',\n",
       " './CORD-19-research-challenge/2020-03-13\\\\biorxiv_medrxiv\\\\44b6eea3629b4e13595dc49813ee39a0d20dc5f2.json',\n",
       " './CORD-19-research-challenge/2020-03-13\\\\biorxiv_medrxiv\\\\45f184e736c4a857bc0e3df0d55962f743c1493a.json',\n",
       " './CORD-19-research-challenge/2020-03-13\\\\biorxiv_medrxiv\\\\4602afcb8d95ebd9da583124384fd74299d20f5b.json',\n",
       " './CORD-19-research-challenge/2020-03-13\\\\biorxiv_medrxiv\\\\46030e9b8451bf3b0c90833dbeacce286a263a09.json',\n",
       " './CORD-19-research-challenge/2020-03-13\\\\biorxiv_medrxiv\\\\4609a2dd3568a7241548b7303e0d836e33d4d5ca.json',\n",
       " './CORD-19-research-challenge/2020-03-13\\\\biorxiv_medrxiv\\\\462cbb326ccd8587cae7a3538c8c6712d9013698.json',\n",
       " './CORD-19-research-challenge/2020-03-13\\\\biorxiv_medrxiv\\\\46634d03aa169aab9c372746ebaf3aaa65d7c7d9.json',\n",
       " './CORD-19-research-challenge/2020-03-13\\\\biorxiv_medrxiv\\\\47b07518dc0f608e53198bb5f8a95caa1c164fe5.json',\n",
       " './CORD-19-research-challenge/2020-03-13\\\\biorxiv_medrxiv\\\\47f65bff75b7752a38ccbb540fbd74955b3addea.json',\n",
       " './CORD-19-research-challenge/2020-03-13\\\\biorxiv_medrxiv\\\\48656efc59191537073975938f25f201524971af.json',\n",
       " './CORD-19-research-challenge/2020-03-13\\\\biorxiv_medrxiv\\\\48df5b06710467cbe5b41dd851e946fc936ecf15.json',\n",
       " './CORD-19-research-challenge/2020-03-13\\\\biorxiv_medrxiv\\\\49ac69f362c27acbc6de0c5cbb640267e7a1e797.json',\n",
       " './CORD-19-research-challenge/2020-03-13\\\\biorxiv_medrxiv\\\\4a24fcf8d2a7c69aef247ea12a740145daf68407.json',\n",
       " './CORD-19-research-challenge/2020-03-13\\\\biorxiv_medrxiv\\\\4b1a08339bb5508f830e09f1a2c3a8022526cce0.json',\n",
       " './CORD-19-research-challenge/2020-03-13\\\\biorxiv_medrxiv\\\\4b56993a4d0f091e70ef5dec2e5a61c3043f752e.json',\n",
       " './CORD-19-research-challenge/2020-03-13\\\\biorxiv_medrxiv\\\\4b57ff228e46255a0ba7114af86ff26af4152d9b.json',\n",
       " './CORD-19-research-challenge/2020-03-13\\\\biorxiv_medrxiv\\\\4b5ba0d8c476c899a79cec7872f7d2287937a59d.json',\n",
       " './CORD-19-research-challenge/2020-03-13\\\\biorxiv_medrxiv\\\\4b8bdaf9670d7c24f952ca38bfe6c699152421b7.json',\n",
       " './CORD-19-research-challenge/2020-03-13\\\\biorxiv_medrxiv\\\\4bc43084ccdb8d3bb704ca577473169cd1a64f9c.json',\n",
       " './CORD-19-research-challenge/2020-03-13\\\\biorxiv_medrxiv\\\\4bd697fdded7ee65154e28def586a7e9b60e7078.json',\n",
       " './CORD-19-research-challenge/2020-03-13\\\\biorxiv_medrxiv\\\\4c24ee4a86de1d5207d93ce39132f7b660cf82e0.json',\n",
       " './CORD-19-research-challenge/2020-03-13\\\\biorxiv_medrxiv\\\\4c35605124dd8011395240fac71e80b52ddbbe7e.json',\n",
       " './CORD-19-research-challenge/2020-03-13\\\\biorxiv_medrxiv\\\\4c84d1153daa335f5ff6d61db665024b32ac8195.json',\n",
       " './CORD-19-research-challenge/2020-03-13\\\\biorxiv_medrxiv\\\\4ce668fe6eee9f59ed5ad0dfc0e9787777acd3be.json',\n",
       " './CORD-19-research-challenge/2020-03-13\\\\biorxiv_medrxiv\\\\4d1090e239baa1ea54af521f4b8bd8b5ab51fd35.json',\n",
       " './CORD-19-research-challenge/2020-03-13\\\\biorxiv_medrxiv\\\\4da8a87e614373d56070ed272487451266dce919.json',\n",
       " './CORD-19-research-challenge/2020-03-13\\\\biorxiv_medrxiv\\\\4e2bc97a6164191ba3d53abfa49ccd973aa80326.json',\n",
       " './CORD-19-research-challenge/2020-03-13\\\\biorxiv_medrxiv\\\\4e3f4e31c370281c2d721d6113265c25d9c566c5.json',\n",
       " './CORD-19-research-challenge/2020-03-13\\\\biorxiv_medrxiv\\\\4e7cd4e923777d6caaa76bb2b93f6121bcd5b6a3.json',\n",
       " './CORD-19-research-challenge/2020-03-13\\\\biorxiv_medrxiv\\\\4eb8b7fd0032816e4a29d65b06939266d6446624.json',\n",
       " './CORD-19-research-challenge/2020-03-13\\\\biorxiv_medrxiv\\\\4ed084719f40fac25989dbc99d08c2c609b33289.json',\n",
       " './CORD-19-research-challenge/2020-03-13\\\\biorxiv_medrxiv\\\\4f1c22de2d2e0b3f2a12bf2a557d429d3ae31a5b.json',\n",
       " './CORD-19-research-challenge/2020-03-13\\\\biorxiv_medrxiv\\\\4f392ef1aa2234dda52ab8e6540f275322a20697.json',\n",
       " './CORD-19-research-challenge/2020-03-13\\\\biorxiv_medrxiv\\\\4f5901d41427c10d4dafdc6d3cef2dd20bba871a.json',\n",
       " './CORD-19-research-challenge/2020-03-13\\\\biorxiv_medrxiv\\\\4f8d24c531d2c334969e09e4b5aed66dcc925c4b.json',\n",
       " './CORD-19-research-challenge/2020-03-13\\\\biorxiv_medrxiv\\\\500c5ea0961b573ba5355d364ca94c00a0a26e4a.json',\n",
       " './CORD-19-research-challenge/2020-03-13\\\\biorxiv_medrxiv\\\\50688ca74af7fb4395c03e3cf7ec3bddc84e6165.json',\n",
       " './CORD-19-research-challenge/2020-03-13\\\\biorxiv_medrxiv\\\\50aa3305f87a409bd1601bdec5d3cd404fe825a3.json',\n",
       " './CORD-19-research-challenge/2020-03-13\\\\biorxiv_medrxiv\\\\50ed5cabf8d74c2a700184f876ad15de2239adfa.json',\n",
       " './CORD-19-research-challenge/2020-03-13\\\\biorxiv_medrxiv\\\\510ecab01c66bc2a911abcf67451ec482ed18a05.json',\n",
       " './CORD-19-research-challenge/2020-03-13\\\\biorxiv_medrxiv\\\\5129bb31949c66ebd544658c531004046d4102da.json',\n",
       " './CORD-19-research-challenge/2020-03-13\\\\biorxiv_medrxiv\\\\518b635f78bdc65dc6666380eafc3b7a283b3af7.json',\n",
       " './CORD-19-research-challenge/2020-03-13\\\\biorxiv_medrxiv\\\\526c800695643e303ad5671d00693dd0f9b84eb0.json',\n",
       " './CORD-19-research-challenge/2020-03-13\\\\biorxiv_medrxiv\\\\52a8089242fbe484e537cd8ea5c0c9ec3bf32150.json',\n",
       " './CORD-19-research-challenge/2020-03-13\\\\biorxiv_medrxiv\\\\530f3ba1a2c044305d73123fd8d2246f63120bc3.json',\n",
       " './CORD-19-research-challenge/2020-03-13\\\\biorxiv_medrxiv\\\\532dc582abd41e833303742ca40976db63fe6fc1.json',\n",
       " './CORD-19-research-challenge/2020-03-13\\\\biorxiv_medrxiv\\\\53326420d7eb607538a248c0da27d3b092f651e2.json',\n",
       " './CORD-19-research-challenge/2020-03-13\\\\biorxiv_medrxiv\\\\53442eacc3f233078507fa37b78267399e8c1e3b.json',\n",
       " './CORD-19-research-challenge/2020-03-13\\\\biorxiv_medrxiv\\\\536dc3fc3226429da5bf028cc5563bf9ac5b6311.json',\n",
       " './CORD-19-research-challenge/2020-03-13\\\\biorxiv_medrxiv\\\\537009c0181c3269f40753f75ddca4d17ae8abae.json',\n",
       " './CORD-19-research-challenge/2020-03-13\\\\biorxiv_medrxiv\\\\54122e9771f67d234bdcc67172a788bc96eec34e.json',\n",
       " './CORD-19-research-challenge/2020-03-13\\\\biorxiv_medrxiv\\\\541777e512aa3907a9db91cde5207a07eabde5ef.json',\n",
       " './CORD-19-research-challenge/2020-03-13\\\\biorxiv_medrxiv\\\\541e7d329fa466fe7b961263666386dddec75894.json',\n",
       " './CORD-19-research-challenge/2020-03-13\\\\biorxiv_medrxiv\\\\54ae20515fcef8417e255b19df1a5bf6f2ab40bb.json',\n",
       " './CORD-19-research-challenge/2020-03-13\\\\biorxiv_medrxiv\\\\54cfc3c68e1e4832fee5b3294e5673e37978ebdf.json',\n",
       " './CORD-19-research-challenge/2020-03-13\\\\biorxiv_medrxiv\\\\54d2fd5689ac3255e8041c36b5fb333a3bd3f9b2.json',\n",
       " './CORD-19-research-challenge/2020-03-13\\\\biorxiv_medrxiv\\\\5502de277b6ee34f29d813cc49d7cda1168c202d.json',\n",
       " './CORD-19-research-challenge/2020-03-13\\\\biorxiv_medrxiv\\\\5507325ad63261970f22c625abcfa59f99e24efd.json',\n",
       " './CORD-19-research-challenge/2020-03-13\\\\biorxiv_medrxiv\\\\552548a4e9a576953acad9fa549ec4d796fe52c9.json',\n",
       " './CORD-19-research-challenge/2020-03-13\\\\biorxiv_medrxiv\\\\5570cb9ff2905fda60cfd6e94f3c32774b765265.json',\n",
       " './CORD-19-research-challenge/2020-03-13\\\\biorxiv_medrxiv\\\\5585d267f9b505b068f9f72bff5f12c248472f0a.json',\n",
       " './CORD-19-research-challenge/2020-03-13\\\\biorxiv_medrxiv\\\\558d318e1655da9f5e9507ccf24fc773a0d377ff.json',\n",
       " './CORD-19-research-challenge/2020-03-13\\\\biorxiv_medrxiv\\\\55e0d20b6cc56c2cdc131e1dcc51f752575cf532.json',\n",
       " './CORD-19-research-challenge/2020-03-13\\\\biorxiv_medrxiv\\\\564f8823050b52b5f5c36638ac1ae07557963f36.json',\n",
       " './CORD-19-research-challenge/2020-03-13\\\\biorxiv_medrxiv\\\\56a81431a148344381a1da80c877885f3f3d6d59.json',\n",
       " './CORD-19-research-challenge/2020-03-13\\\\biorxiv_medrxiv\\\\5796fdc80a85b6e634a279c57711356055b65880.json',\n",
       " './CORD-19-research-challenge/2020-03-13\\\\biorxiv_medrxiv\\\\57e01ad2a4961cd5cc6a3733f5f8c013a8946f3c.json',\n",
       " './CORD-19-research-challenge/2020-03-13\\\\biorxiv_medrxiv\\\\57eb12d93057a4bc1a043420327251b2327c9b39.json',\n",
       " './CORD-19-research-challenge/2020-03-13\\\\biorxiv_medrxiv\\\\58bc0f2712ea1ced1f886c9fdd17b8cf014e66cb.json',\n",
       " './CORD-19-research-challenge/2020-03-13\\\\biorxiv_medrxiv\\\\594d23a412649df7dbfef5347a2a0c208ed4417d.json',\n",
       " './CORD-19-research-challenge/2020-03-13\\\\biorxiv_medrxiv\\\\598b8f280571ace476ad56a469e7959918fa7958.json',\n",
       " './CORD-19-research-challenge/2020-03-13\\\\biorxiv_medrxiv\\\\59eab95c43fdea01481fdbf9bae45dfe28ffc693.json',\n",
       " './CORD-19-research-challenge/2020-03-13\\\\biorxiv_medrxiv\\\\5a425d474d13cbcfc448f36de539d4a679f7b618.json',\n",
       " './CORD-19-research-challenge/2020-03-13\\\\biorxiv_medrxiv\\\\5a5a7b6d40c4b752aabf69f69bbd7c71e2658e8e.json',\n",
       " './CORD-19-research-challenge/2020-03-13\\\\biorxiv_medrxiv\\\\5a843f4299b04090ff76451decfe9f0b025cfe48.json',\n",
       " './CORD-19-research-challenge/2020-03-13\\\\biorxiv_medrxiv\\\\5a9164999237a46d3d6aed53bd59b17d91a9e6d0.json',\n",
       " './CORD-19-research-challenge/2020-03-13\\\\biorxiv_medrxiv\\\\5b1a2b3207e3f674b94f6f271b92c29f3a8a6754.json',\n",
       " './CORD-19-research-challenge/2020-03-13\\\\biorxiv_medrxiv\\\\5b27a16123f46b5aaeda3171d22e075dcbd36ee6.json',\n",
       " './CORD-19-research-challenge/2020-03-13\\\\biorxiv_medrxiv\\\\5b9a15ad62b0e85fcb5012e7e08e5183b4da786b.json',\n",
       " './CORD-19-research-challenge/2020-03-13\\\\biorxiv_medrxiv\\\\5ba386b58c8d194e8cbe581eed95f7c64d05cd53.json',\n",
       " './CORD-19-research-challenge/2020-03-13\\\\biorxiv_medrxiv\\\\5bb89950ec5a06e2b7f69b2a9c4213dda19b1ab0.json',\n",
       " './CORD-19-research-challenge/2020-03-13\\\\biorxiv_medrxiv\\\\5bbc428de7fc2f10c24d8439edda26d84b319687.json',\n",
       " './CORD-19-research-challenge/2020-03-13\\\\biorxiv_medrxiv\\\\5c31897d01f3edc7f58a0f03fceec2373fcfdc3d.json',\n",
       " './CORD-19-research-challenge/2020-03-13\\\\biorxiv_medrxiv\\\\5c525cc04075b7c82e52b1e80d96bb394b1a0907.json',\n",
       " './CORD-19-research-challenge/2020-03-13\\\\biorxiv_medrxiv\\\\5cf2bec1530cef38cd0eea173fb90ba1a788e11f.json',\n",
       " './CORD-19-research-challenge/2020-03-13\\\\biorxiv_medrxiv\\\\5cfb44ecdfb61b2898b6cf7315b1e810874a9560.json',\n",
       " './CORD-19-research-challenge/2020-03-13\\\\biorxiv_medrxiv\\\\5d3612cd95331a2f0c43ef9d03ce583b5ff8c995.json',\n",
       " './CORD-19-research-challenge/2020-03-13\\\\biorxiv_medrxiv\\\\5d768aca47f1452fd3e3d2c246926b8532ca1c87.json',\n",
       " './CORD-19-research-challenge/2020-03-13\\\\biorxiv_medrxiv\\\\5d9e490190986584d799e2828c6fd9679e5ae159.json',\n",
       " './CORD-19-research-challenge/2020-03-13\\\\biorxiv_medrxiv\\\\5daceb492bad28a61fc43c4be83a164042d8c430.json',\n",
       " './CORD-19-research-challenge/2020-03-13\\\\biorxiv_medrxiv\\\\5f06ba54c9208857d92abfd16488c44217f8d726.json',\n",
       " './CORD-19-research-challenge/2020-03-13\\\\biorxiv_medrxiv\\\\5f6a410a4ba086b296100a8a5a10df59eb337c90.json',\n",
       " './CORD-19-research-challenge/2020-03-13\\\\biorxiv_medrxiv\\\\5f72fd41d7ba8d4d7de7aa1f83fc5c90ffa50b03.json',\n",
       " './CORD-19-research-challenge/2020-03-13\\\\biorxiv_medrxiv\\\\5fb2cce255dd56b944ae52cec664bd7f4f222c66.json',\n",
       " './CORD-19-research-challenge/2020-03-13\\\\biorxiv_medrxiv\\\\610549c879c62efc42f2ad32f63c65b25d8931c7.json',\n",
       " './CORD-19-research-challenge/2020-03-13\\\\biorxiv_medrxiv\\\\6186828135d9e5e7e50f66567505d02e910b3ee2.json',\n",
       " './CORD-19-research-challenge/2020-03-13\\\\biorxiv_medrxiv\\\\618cd102ec5051a05ca5131e21961c964152f15c.json',\n",
       " './CORD-19-research-challenge/2020-03-13\\\\biorxiv_medrxiv\\\\620d69e419e3c8756de8bf96d86f6bf0de7ed919.json',\n",
       " './CORD-19-research-challenge/2020-03-13\\\\biorxiv_medrxiv\\\\62298f90df017016d34e978befc29acbec201ccd.json',\n",
       " './CORD-19-research-challenge/2020-03-13\\\\biorxiv_medrxiv\\\\63781701d3aac3b1640caae24b2c8c2a06c8e6ab.json',\n",
       " './CORD-19-research-challenge/2020-03-13\\\\biorxiv_medrxiv\\\\63b645b7d8cd2502bedca374d0418486838bf4a0.json',\n",
       " './CORD-19-research-challenge/2020-03-13\\\\biorxiv_medrxiv\\\\6445688d3f59cb7e02f2a8b28450cdf118a8a373.json',\n",
       " './CORD-19-research-challenge/2020-03-13\\\\biorxiv_medrxiv\\\\64478db449af8e4a5645c17f548649a0159da0c6.json',\n",
       " './CORD-19-research-challenge/2020-03-13\\\\biorxiv_medrxiv\\\\6499f5c865c3db3bdfc1e969ea940a80d547a5bb.json',\n",
       " './CORD-19-research-challenge/2020-03-13\\\\biorxiv_medrxiv\\\\64b327001f8fa95b83dc23259a2ad617be12498c.json',\n",
       " './CORD-19-research-challenge/2020-03-13\\\\biorxiv_medrxiv\\\\656ef218f7dcea5555a59cdc29d0f9ec8d5c2a82.json',\n",
       " './CORD-19-research-challenge/2020-03-13\\\\biorxiv_medrxiv\\\\661003bddb5c847237ff4a1f34a823f7971e2090.json',\n",
       " './CORD-19-research-challenge/2020-03-13\\\\biorxiv_medrxiv\\\\671b44ae9bec89cacf7ae9e7b2a79649a9b66773.json',\n",
       " './CORD-19-research-challenge/2020-03-13\\\\biorxiv_medrxiv\\\\6726b273f345838661eaa39e8adb5df4e1815a9a.json',\n",
       " './CORD-19-research-challenge/2020-03-13\\\\biorxiv_medrxiv\\\\672ca9b6e50e26c49fc7be2ef3b4f685badf9db1.json',\n",
       " './CORD-19-research-challenge/2020-03-13\\\\biorxiv_medrxiv\\\\681c5099b2afb08fe5cb2f58d92e9c6e4873bec2.json',\n",
       " './CORD-19-research-challenge/2020-03-13\\\\biorxiv_medrxiv\\\\683416e300a4f4075835852558855b07c342bd72.json',\n",
       " './CORD-19-research-challenge/2020-03-13\\\\biorxiv_medrxiv\\\\685cdc49b5db13ec22f0eda615b026bf59cd23f4.json',\n",
       " './CORD-19-research-challenge/2020-03-13\\\\biorxiv_medrxiv\\\\68e509d42a7d3349550512d80eca4e2b2123613f.json',\n",
       " './CORD-19-research-challenge/2020-03-13\\\\biorxiv_medrxiv\\\\68ed7bb581b0cf32116ee46767c08e3180b05c34.json',\n",
       " './CORD-19-research-challenge/2020-03-13\\\\biorxiv_medrxiv\\\\69008e4d4e158ae9484c3821e4384aa5948c3209.json',\n",
       " './CORD-19-research-challenge/2020-03-13\\\\biorxiv_medrxiv\\\\691da9d5576aa959e22114a1ebb35548efd276a0.json',\n",
       " './CORD-19-research-challenge/2020-03-13\\\\biorxiv_medrxiv\\\\691f54c001708f6684ae7837adc749fe09404e61.json',\n",
       " './CORD-19-research-challenge/2020-03-13\\\\biorxiv_medrxiv\\\\69f473aee22a4ac8df15a54a6109b70b1ae9b7e7.json',\n",
       " './CORD-19-research-challenge/2020-03-13\\\\biorxiv_medrxiv\\\\6a8d26d75bd44c7666c9b7ed782c13a57f409122.json',\n",
       " './CORD-19-research-challenge/2020-03-13\\\\biorxiv_medrxiv\\\\6aa2716c00d89f4b760a9167b15d6203303ae6b9.json',\n",
       " './CORD-19-research-challenge/2020-03-13\\\\biorxiv_medrxiv\\\\6ad14ceec74dc9b3d3dc6db7fc319b9dc22dc546.json',\n",
       " './CORD-19-research-challenge/2020-03-13\\\\biorxiv_medrxiv\\\\6ae20454d1a9f228864de24660c2460becbc8151.json',\n",
       " './CORD-19-research-challenge/2020-03-13\\\\biorxiv_medrxiv\\\\6b039b72ca7301c604c743ce7ca3e2c4f5659068.json',\n",
       " './CORD-19-research-challenge/2020-03-13\\\\biorxiv_medrxiv\\\\6bdd6867205d9b09f833f01c65f1bbfdae469164.json',\n",
       " './CORD-19-research-challenge/2020-03-13\\\\biorxiv_medrxiv\\\\6c3e940e2848827af17dd23005a9dee8ac0cd349.json',\n",
       " './CORD-19-research-challenge/2020-03-13\\\\biorxiv_medrxiv\\\\6c91b00faa16142426820016ad3a7847fc77c8e4.json',\n",
       " './CORD-19-research-challenge/2020-03-13\\\\biorxiv_medrxiv\\\\6cb02c7565f6f74a3d165e14196de5e9e87d2d04.json',\n",
       " './CORD-19-research-challenge/2020-03-13\\\\biorxiv_medrxiv\\\\6cbefcf4c0fbb8466db7d00b8f53e1f37a6bf8b5.json',\n",
       " './CORD-19-research-challenge/2020-03-13\\\\biorxiv_medrxiv\\\\6cf87a546884756094da0d300e85a061c2cc43ea.json',\n",
       " './CORD-19-research-challenge/2020-03-13\\\\biorxiv_medrxiv\\\\6d0127f985edbe088bc279865bef25a31f54a066.json',\n",
       " './CORD-19-research-challenge/2020-03-13\\\\biorxiv_medrxiv\\\\6d1b40bcdde63e22931509db389c6bf1949901dd.json',\n",
       " './CORD-19-research-challenge/2020-03-13\\\\biorxiv_medrxiv\\\\6d3b3f4ab80a61c45f82c61c6c756cfc6ddf4bf2.json',\n",
       " './CORD-19-research-challenge/2020-03-13\\\\biorxiv_medrxiv\\\\6efe01046ce81279412ea440a4b246f942f29124.json',\n",
       " './CORD-19-research-challenge/2020-03-13\\\\biorxiv_medrxiv\\\\6f53b9dff58818839c45410d11b58f0f3e327d8a.json',\n",
       " './CORD-19-research-challenge/2020-03-13\\\\biorxiv_medrxiv\\\\6f8a531b4b84d4daaadcff9d7e03ee24274baf0b.json',\n",
       " './CORD-19-research-challenge/2020-03-13\\\\biorxiv_medrxiv\\\\70c7260fc0702bd4a554421ac68972c991313e56.json',\n",
       " './CORD-19-research-challenge/2020-03-13\\\\biorxiv_medrxiv\\\\70cc2e5152d3dc4d44494124ff556c9bbe9e6f41.json',\n",
       " './CORD-19-research-challenge/2020-03-13\\\\biorxiv_medrxiv\\\\7116ddab89281e7641fb659019c90ee3715f5039.json',\n",
       " './CORD-19-research-challenge/2020-03-13\\\\biorxiv_medrxiv\\\\712f1a74a5083d690832eed5fd9ff16a04434d8d.json',\n",
       " './CORD-19-research-challenge/2020-03-13\\\\biorxiv_medrxiv\\\\7207df5b61e93fa5a2b6e720c91aed05270e81be.json',\n",
       " './CORD-19-research-challenge/2020-03-13\\\\biorxiv_medrxiv\\\\7325363d061f0f4699e29bfa544438e14e7c207d.json',\n",
       " './CORD-19-research-challenge/2020-03-13\\\\biorxiv_medrxiv\\\\7344c6de7ce2258e74ce131bed72e6ad465f0ce8.json',\n",
       " './CORD-19-research-challenge/2020-03-13\\\\biorxiv_medrxiv\\\\734779fad93249a2f6fede6afd10eeff7b37919b.json',\n",
       " './CORD-19-research-challenge/2020-03-13\\\\biorxiv_medrxiv\\\\736b4793b11d01f4b55ea53eaf59f7325493b27b.json',\n",
       " './CORD-19-research-challenge/2020-03-13\\\\biorxiv_medrxiv\\\\7395de48b2402e5e1561a93b99e8aae8728c6ff1.json',\n",
       " './CORD-19-research-challenge/2020-03-13\\\\biorxiv_medrxiv\\\\73998a3f565b661816d48aa7c20fa5ae617864d5.json',\n",
       " './CORD-19-research-challenge/2020-03-13\\\\biorxiv_medrxiv\\\\73a954bbd21a08cf0a662b37f1f97989285969c4.json',\n",
       " './CORD-19-research-challenge/2020-03-13\\\\biorxiv_medrxiv\\\\73c8af41cfdbf52c0dfba37727e3b94cb56b495e.json',\n",
       " './CORD-19-research-challenge/2020-03-13\\\\biorxiv_medrxiv\\\\73d80c8f5780d70bd8d343188c56e898e91557b6.json',\n",
       " './CORD-19-research-challenge/2020-03-13\\\\biorxiv_medrxiv\\\\74b00f19c3af87d1081644f02490ba250f57b7ca.json',\n",
       " './CORD-19-research-challenge/2020-03-13\\\\biorxiv_medrxiv\\\\74bee8bf3229f4c28991a7231c02d911d24770e9.json',\n",
       " './CORD-19-research-challenge/2020-03-13\\\\biorxiv_medrxiv\\\\75216c0238ddc17dec8ef66adcc84bd48922cae4.json',\n",
       " './CORD-19-research-challenge/2020-03-13\\\\biorxiv_medrxiv\\\\754315299d847600d6c5d414665c728d40bf731d.json',\n",
       " './CORD-19-research-challenge/2020-03-13\\\\biorxiv_medrxiv\\\\75e68869f9b65bca661e768402395d9dede6de2c.json',\n",
       " './CORD-19-research-challenge/2020-03-13\\\\biorxiv_medrxiv\\\\760481ce5a46e6efa12a80202bbd240dcbefa8fd.json',\n",
       " './CORD-19-research-challenge/2020-03-13\\\\biorxiv_medrxiv\\\\7607a4ad84452e29998a80f44bfd6bb2f5f68a7f.json',\n",
       " './CORD-19-research-challenge/2020-03-13\\\\biorxiv_medrxiv\\\\77a04c5091c0457ad305691d4d4f24354d6bae79.json',\n",
       " './CORD-19-research-challenge/2020-03-13\\\\biorxiv_medrxiv\\\\7808e4cd470a379b12470833f4a6fc7e1b567c96.json',\n",
       " './CORD-19-research-challenge/2020-03-13\\\\biorxiv_medrxiv\\\\780fc85ab807f33f706a38c86480e284da800cb8.json',\n",
       " './CORD-19-research-challenge/2020-03-13\\\\biorxiv_medrxiv\\\\7837a1b529936ac78b802e41daa73ddab8bfc41a.json',\n",
       " './CORD-19-research-challenge/2020-03-13\\\\biorxiv_medrxiv\\\\7852aafdfb9e59e6af78a47af796325434f8922a.json',\n",
       " './CORD-19-research-challenge/2020-03-13\\\\biorxiv_medrxiv\\\\78ab74f8133c0dfe8fb414c216350dd37f69b0bf.json',\n",
       " './CORD-19-research-challenge/2020-03-13\\\\biorxiv_medrxiv\\\\78e49fdb6f0aa9924a5b510341d52b618fff0ca6.json',\n",
       " './CORD-19-research-challenge/2020-03-13\\\\biorxiv_medrxiv\\\\7a51b191fd6575831585eee67a0ac67f209d8fcb.json',\n",
       " './CORD-19-research-challenge/2020-03-13\\\\biorxiv_medrxiv\\\\7aa49aa2b76ea92b9265ad9d5a9d9ef0ea585b24.json',\n",
       " './CORD-19-research-challenge/2020-03-13\\\\biorxiv_medrxiv\\\\7ab9f9fcea519ebce527c3ede8091beedbb26ad9.json',\n",
       " './CORD-19-research-challenge/2020-03-13\\\\biorxiv_medrxiv\\\\7b40dfdf9a60cfe4a199cb967ee458b7dfaabe0c.json',\n",
       " './CORD-19-research-challenge/2020-03-13\\\\biorxiv_medrxiv\\\\7b5be48b7769ccad2f44a8c54efcea5281a6c633.json',\n",
       " './CORD-19-research-challenge/2020-03-13\\\\biorxiv_medrxiv\\\\7b89a657dde3e5888c31d1d5ef3b90ceb0f66a62.json',\n",
       " './CORD-19-research-challenge/2020-03-13\\\\biorxiv_medrxiv\\\\7bc87a77a7aba144248cfa3bc514541f09047edf.json',\n",
       " './CORD-19-research-challenge/2020-03-13\\\\biorxiv_medrxiv\\\\7bdceb3b947ec934199d0c97fb9ec5a0e2bac776.json',\n",
       " './CORD-19-research-challenge/2020-03-13\\\\biorxiv_medrxiv\\\\7c17c6f5e434f1d8227c9d8c5f9da26200364491.json',\n",
       " './CORD-19-research-challenge/2020-03-13\\\\biorxiv_medrxiv\\\\7cdd50888f639629380fa9906d73f97010158127.json',\n",
       " './CORD-19-research-challenge/2020-03-13\\\\biorxiv_medrxiv\\\\7d3dcbbc2b0741fc544693d7b3fc185f0bd50eac.json',\n",
       " './CORD-19-research-challenge/2020-03-13\\\\biorxiv_medrxiv\\\\7d91bba210d98289dac830135c56c13e206837ec.json',\n",
       " './CORD-19-research-challenge/2020-03-13\\\\biorxiv_medrxiv\\\\7d98a73314cd9f923aaa367f3f4de056b8cedec5.json',\n",
       " './CORD-19-research-challenge/2020-03-13\\\\biorxiv_medrxiv\\\\7e6bd4f9d794f87445f67c9ed9d5699706040fa4.json',\n",
       " './CORD-19-research-challenge/2020-03-13\\\\biorxiv_medrxiv\\\\7e80848c7b22e870b0e0a458dce96f6955576f04.json',\n",
       " './CORD-19-research-challenge/2020-03-13\\\\biorxiv_medrxiv\\\\7e9cd4bbf0fba1cc0bcded40041fd01b9dfb683f.json',\n",
       " './CORD-19-research-challenge/2020-03-13\\\\biorxiv_medrxiv\\\\7ea2f1ca7b3c2370d413ae990eb71b2b990c91fe.json',\n",
       " './CORD-19-research-challenge/2020-03-13\\\\biorxiv_medrxiv\\\\7ed2c0786eef3d39fa0435b461aa34ab454a4753.json',\n",
       " './CORD-19-research-challenge/2020-03-13\\\\biorxiv_medrxiv\\\\7f8c673d136b9bc0aeda55e49cc72aacaa5688de.json',\n",
       " './CORD-19-research-challenge/2020-03-13\\\\biorxiv_medrxiv\\\\7fb7c0c48b30e66dfaea5fdec16d999ed52d1ee0.json',\n",
       " './CORD-19-research-challenge/2020-03-13\\\\biorxiv_medrxiv\\\\7fd337f16780aba8f1e599ce7516dc9b1d80a546.json',\n",
       " './CORD-19-research-challenge/2020-03-13\\\\biorxiv_medrxiv\\\\815745bf1b522d33fd7371cc9a6561a2a93ef87e.json',\n",
       " './CORD-19-research-challenge/2020-03-13\\\\biorxiv_medrxiv\\\\815f653470c57a95b92e3857d8f5d038b4000d99.json',\n",
       " './CORD-19-research-challenge/2020-03-13\\\\biorxiv_medrxiv\\\\82468c289eb562a3e63d084238c08f62e617eb64.json',\n",
       " './CORD-19-research-challenge/2020-03-13\\\\biorxiv_medrxiv\\\\82c1bf108f88d4ec2b4e68106d9531f1c8b45a5c.json',\n",
       " './CORD-19-research-challenge/2020-03-13\\\\biorxiv_medrxiv\\\\83323659de2f2d5ed3ca6ada7cf137a8a17bb014.json',\n",
       " './CORD-19-research-challenge/2020-03-13\\\\biorxiv_medrxiv\\\\8349823092836fe397a59e38615d1491423dbe70.json',\n",
       " './CORD-19-research-challenge/2020-03-13\\\\biorxiv_medrxiv\\\\836190d366ba8e34c3a5df8a24d17a36fd503505.json',\n",
       " './CORD-19-research-challenge/2020-03-13\\\\biorxiv_medrxiv\\\\8367c21d603a58c206ae740debdb10099f84f198.json',\n",
       " './CORD-19-research-challenge/2020-03-13\\\\biorxiv_medrxiv\\\\837c77d566651f559ed3f78c2e490213f99212e6.json',\n",
       " './CORD-19-research-challenge/2020-03-13\\\\biorxiv_medrxiv\\\\83cca3779f8aeea47c5426e1d0fa65f1e9567e0c.json',\n",
       " './CORD-19-research-challenge/2020-03-13\\\\biorxiv_medrxiv\\\\84c3cb4cff4551bf95b6f79bd6c52525faee0a44.json',\n",
       " './CORD-19-research-challenge/2020-03-13\\\\biorxiv_medrxiv\\\\854a29cd858f64982c799eb27c0a45cb762adfa8.json',\n",
       " './CORD-19-research-challenge/2020-03-13\\\\biorxiv_medrxiv\\\\86b6b0c1b2777541feb83116bcb7a5cb12a52310.json',\n",
       " './CORD-19-research-challenge/2020-03-13\\\\biorxiv_medrxiv\\\\874eaaeda2e803101ab952b3d9bc73426111b3d4.json',\n",
       " './CORD-19-research-challenge/2020-03-13\\\\biorxiv_medrxiv\\\\875b7c463f00772fa0dc18ada678bc1ff16a4274.json',\n",
       " './CORD-19-research-challenge/2020-03-13\\\\biorxiv_medrxiv\\\\8762adc9311e5803d1de438493772269acfe7fa3.json',\n",
       " './CORD-19-research-challenge/2020-03-13\\\\biorxiv_medrxiv\\\\87b89b038b28d2ba0bcfd2203845bf15f922c1b5.json',\n",
       " './CORD-19-research-challenge/2020-03-13\\\\biorxiv_medrxiv\\\\87bfa13221ccf5a02d4a888ef1320b57f2c2d5e2.json',\n",
       " './CORD-19-research-challenge/2020-03-13\\\\biorxiv_medrxiv\\\\88e3b43319399c339186c02c44d369228c35eef4.json',\n",
       " './CORD-19-research-challenge/2020-03-13\\\\biorxiv_medrxiv\\\\896cb03362facd2a670bee13dc5368b81768b2ba.json',\n",
       " './CORD-19-research-challenge/2020-03-13\\\\biorxiv_medrxiv\\\\898880683d9a962428033fd7500f74647c4a36f0.json',\n",
       " './CORD-19-research-challenge/2020-03-13\\\\biorxiv_medrxiv\\\\8a1fde8c65e439496ac5810504de23ef77312f28.json',\n",
       " './CORD-19-research-challenge/2020-03-13\\\\biorxiv_medrxiv\\\\8aa021696a6accab9053f1d779eef6710439bfa5.json',\n",
       " './CORD-19-research-challenge/2020-03-13\\\\biorxiv_medrxiv\\\\8b2e50eb3ea84225580fbdbccccb4fcd3f062feb.json',\n",
       " './CORD-19-research-challenge/2020-03-13\\\\biorxiv_medrxiv\\\\8b71ce92ec03e066eca7792bfd17e2f210d50ce3.json',\n",
       " './CORD-19-research-challenge/2020-03-13\\\\biorxiv_medrxiv\\\\8b88901d0bb033af3a18ebcdf7f2aa7110b21504.json',\n",
       " './CORD-19-research-challenge/2020-03-13\\\\biorxiv_medrxiv\\\\8b88d01563538e4abd29c3ba493c534af30664cc.json',\n",
       " './CORD-19-research-challenge/2020-03-13\\\\biorxiv_medrxiv\\\\8bd8158e4a47c65b12a462b49b4b8b4af1488dc3.json',\n",
       " './CORD-19-research-challenge/2020-03-13\\\\biorxiv_medrxiv\\\\8c223fd63ba6a924ecd3df8d32bcf0556758cb95.json',\n",
       " './CORD-19-research-challenge/2020-03-13\\\\biorxiv_medrxiv\\\\8c900409a679dc1f16ef13c73500cbb53605b683.json',\n",
       " './CORD-19-research-challenge/2020-03-13\\\\biorxiv_medrxiv\\\\8cfb8dfc2f8b2c6e1d60ff48da02de6670694869.json',\n",
       " './CORD-19-research-challenge/2020-03-13\\\\biorxiv_medrxiv\\\\8d6d3be5f9353eb3358b44e646c83f1a90861b4d.json',\n",
       " './CORD-19-research-challenge/2020-03-13\\\\biorxiv_medrxiv\\\\8e0481979dcd13b668686cbf3e2c8b51e5b8cf64.json',\n",
       " './CORD-19-research-challenge/2020-03-13\\\\biorxiv_medrxiv\\\\8e830dc6cb2de091920ff5b3b14f806a61a8aef4.json',\n",
       " './CORD-19-research-challenge/2020-03-13\\\\biorxiv_medrxiv\\\\8eb99586e9103599ab2f58cc33ca94cd0b60ae53.json',\n",
       " './CORD-19-research-challenge/2020-03-13\\\\biorxiv_medrxiv\\\\8eef6fec694446e150e95dfbef3a3579ae8806d3.json',\n",
       " './CORD-19-research-challenge/2020-03-13\\\\biorxiv_medrxiv\\\\8f4b98da50277e6c9516aef0227f5cca9af6b5e8.json',\n",
       " './CORD-19-research-challenge/2020-03-13\\\\biorxiv_medrxiv\\\\901572f1595cb6ea733858d3fc15b8ea46054061.json',\n",
       " './CORD-19-research-challenge/2020-03-13\\\\biorxiv_medrxiv\\\\905603e9db862f9b4b42a95f51e9c8d0015d1dff.json',\n",
       " './CORD-19-research-challenge/2020-03-13\\\\biorxiv_medrxiv\\\\906b616191eea5e5e724d47546f7d2d9d096ed7a.json',\n",
       " './CORD-19-research-challenge/2020-03-13\\\\biorxiv_medrxiv\\\\907da65e13cde5d7ad71f304967a7ab9dcb5efa1.json',\n",
       " './CORD-19-research-challenge/2020-03-13\\\\biorxiv_medrxiv\\\\90b5ecf991032f3918ad43b252e17d1171b4ea63.json',\n",
       " './CORD-19-research-challenge/2020-03-13\\\\biorxiv_medrxiv\\\\90e28ff462882ca7a9329beb879f73c2e99430e4.json',\n",
       " './CORD-19-research-challenge/2020-03-13\\\\biorxiv_medrxiv\\\\91098f6fe46a21565bf0cb06fe960cdb2c3f5e38.json',\n",
       " './CORD-19-research-challenge/2020-03-13\\\\biorxiv_medrxiv\\\\91233a0c35364955d1fdbf2f980f7220f9bafc70.json',\n",
       " './CORD-19-research-challenge/2020-03-13\\\\biorxiv_medrxiv\\\\9211b1703c76e20afdee8fcb9f7996edadef0e9e.json',\n",
       " './CORD-19-research-challenge/2020-03-13\\\\biorxiv_medrxiv\\\\924500c41931aa9192ccc820467818297c1679d8.json',\n",
       " './CORD-19-research-challenge/2020-03-13\\\\biorxiv_medrxiv\\\\9261e7a9a4d3febda29d574074a79f02376249a3.json',\n",
       " './CORD-19-research-challenge/2020-03-13\\\\biorxiv_medrxiv\\\\92860a0f4425d12aafb8e096d8e65d38eb67dff5.json',\n",
       " './CORD-19-research-challenge/2020-03-13\\\\biorxiv_medrxiv\\\\92c020779e68e82d9a5f5898435e618caa63a099.json',\n",
       " './CORD-19-research-challenge/2020-03-13\\\\biorxiv_medrxiv\\\\93d8f1552a81587e2f88e38580cbe4753b9934f1.json',\n",
       " './CORD-19-research-challenge/2020-03-13\\\\biorxiv_medrxiv\\\\93f67ffe7803061de9b19c4dfa346b3aa97aa4eb.json',\n",
       " './CORD-19-research-challenge/2020-03-13\\\\biorxiv_medrxiv\\\\94284e14b36025dc9c7072dc90dfd8c72dc429ad.json',\n",
       " './CORD-19-research-challenge/2020-03-13\\\\biorxiv_medrxiv\\\\949feecec7c10e71532e860f7f1230bd696e8234.json',\n",
       " './CORD-19-research-challenge/2020-03-13\\\\biorxiv_medrxiv\\\\94df380f8a3bab7e30d39cc9d7e95d1f302f5f9f.json',\n",
       " './CORD-19-research-challenge/2020-03-13\\\\biorxiv_medrxiv\\\\95688a7f321e4fc9cce4af03c8e3eb8e7ad8f935.json',\n",
       " './CORD-19-research-challenge/2020-03-13\\\\biorxiv_medrxiv\\\\95754ec84bdee0637765a5ee34983a5f6cc86eed.json',\n",
       " './CORD-19-research-challenge/2020-03-13\\\\biorxiv_medrxiv\\\\957e71389292e0881dff2bbe0e87fe6bf8b2d381.json',\n",
       " './CORD-19-research-challenge/2020-03-13\\\\biorxiv_medrxiv\\\\960732b8d97d746a065188436b88f8b26af9ab4b.json',\n",
       " './CORD-19-research-challenge/2020-03-13\\\\biorxiv_medrxiv\\\\96ef1767754a53f792951ba1752440ae94e90c60.json',\n",
       " './CORD-19-research-challenge/2020-03-13\\\\biorxiv_medrxiv\\\\9701a8c529cd8c18124da4cd61c1165a64b50281.json',\n",
       " './CORD-19-research-challenge/2020-03-13\\\\biorxiv_medrxiv\\\\97027e08cb413795cf19064338efd049fe5d491b.json',\n",
       " './CORD-19-research-challenge/2020-03-13\\\\biorxiv_medrxiv\\\\970a28c4a3c1fbcb5322772956955b8c4a3bb257.json',\n",
       " './CORD-19-research-challenge/2020-03-13\\\\biorxiv_medrxiv\\\\97339c9d365437d54ea33be1a1b634d35f460208.json',\n",
       " './CORD-19-research-challenge/2020-03-13\\\\biorxiv_medrxiv\\\\975349ac1c79fc64525ee17e7d088c88c2c2071b.json',\n",
       " './CORD-19-research-challenge/2020-03-13\\\\biorxiv_medrxiv\\\\97a34a062a7ad09f7633d4a0e76d013b28b9b582.json',\n",
       " './CORD-19-research-challenge/2020-03-13\\\\biorxiv_medrxiv\\\\97e0830fe6c8bf6facb896320dd1b8d31ab49a54.json',\n",
       " './CORD-19-research-challenge/2020-03-13\\\\biorxiv_medrxiv\\\\982a6fe2fdba30430b547741811ff4411f1485f1.json',\n",
       " './CORD-19-research-challenge/2020-03-13\\\\biorxiv_medrxiv\\\\9896bc65559e6406d0d3cb35e9b01b953d61959d.json',\n",
       " './CORD-19-research-challenge/2020-03-13\\\\biorxiv_medrxiv\\\\99a46ba28f5811c112876ec77f570d6c10778db6.json',\n",
       " './CORD-19-research-challenge/2020-03-13\\\\biorxiv_medrxiv\\\\99dab788e984601ee4efcd1138926caf10c00dcf.json',\n",
       " './CORD-19-research-challenge/2020-03-13\\\\biorxiv_medrxiv\\\\9a077c5ff1dcbb9104feeaa832e73ccdcf5fdcc9.json',\n",
       " './CORD-19-research-challenge/2020-03-13\\\\biorxiv_medrxiv\\\\9a3de625119a83aa1401eeb297937d9605f0d1f1.json',\n",
       " './CORD-19-research-challenge/2020-03-13\\\\biorxiv_medrxiv\\\\9aef9e1c22896809852ec6c94e413aff33b3d9cf.json',\n",
       " './CORD-19-research-challenge/2020-03-13\\\\biorxiv_medrxiv\\\\9af0b8e13e1e5ac714135dca8ba6d5216966066b.json',\n",
       " './CORD-19-research-challenge/2020-03-13\\\\biorxiv_medrxiv\\\\9b17a9fa6be11d8b3dbed9f3dea2516020083bd3.json',\n",
       " './CORD-19-research-challenge/2020-03-13\\\\biorxiv_medrxiv\\\\9b5f5119bbfbded3245acc37859cefde967458e7.json',\n",
       " './CORD-19-research-challenge/2020-03-13\\\\biorxiv_medrxiv\\\\9bbfd3d34ee18ea1b9f4669331a6cee9c5992893.json',\n",
       " './CORD-19-research-challenge/2020-03-13\\\\biorxiv_medrxiv\\\\9bf1677e5f822110e736076a4ba6960a80f2f348.json',\n",
       " './CORD-19-research-challenge/2020-03-13\\\\biorxiv_medrxiv\\\\9c32d461dc9d4737756a990cf13bae1a03e078a9.json',\n",
       " './CORD-19-research-challenge/2020-03-13\\\\biorxiv_medrxiv\\\\9c33486a49de4aea64ce61c0a2c21a88c316b6a8.json',\n",
       " './CORD-19-research-challenge/2020-03-13\\\\biorxiv_medrxiv\\\\9ca81dfa68fcbff13166d810aca929027bb3763b.json',\n",
       " './CORD-19-research-challenge/2020-03-13\\\\biorxiv_medrxiv\\\\9cfdce851951c817101b36f7b292e744906474c4.json',\n",
       " './CORD-19-research-challenge/2020-03-13\\\\biorxiv_medrxiv\\\\9daed5e675ac113d1939056dcebbb1f32ec0d7ec.json',\n",
       " './CORD-19-research-challenge/2020-03-13\\\\biorxiv_medrxiv\\\\9e780780dbaf35c0d537ddb290dfd484148a3c55.json',\n",
       " './CORD-19-research-challenge/2020-03-13\\\\biorxiv_medrxiv\\\\9e94f9379fd74fcacc4f3a57e03cbe9035efee8e.json',\n",
       " './CORD-19-research-challenge/2020-03-13\\\\biorxiv_medrxiv\\\\9fb5ca87ca47d35d87161158ae37fc0ca642c51e.json',\n",
       " './CORD-19-research-challenge/2020-03-13\\\\biorxiv_medrxiv\\\\a01672035e0b9d21f9a934b9c9071610513325f2.json',\n",
       " './CORD-19-research-challenge/2020-03-13\\\\biorxiv_medrxiv\\\\a05179c57d5e1cdddc839ff3c0b70a614efbb6cb.json',\n",
       " './CORD-19-research-challenge/2020-03-13\\\\biorxiv_medrxiv\\\\a09c1ad0f05bbcc256cd667ad7411e6690134370.json',\n",
       " './CORD-19-research-challenge/2020-03-13\\\\biorxiv_medrxiv\\\\a0ecc9b46addbc1faab491434b5331702f7883b8.json',\n",
       " './CORD-19-research-challenge/2020-03-13\\\\biorxiv_medrxiv\\\\a1bff76ce360e8990b0a4ee2a5228a6e6e63d9c1.json',\n",
       " './CORD-19-research-challenge/2020-03-13\\\\biorxiv_medrxiv\\\\a22ceac8d5e1cfaf2e79557d3c794458d0e1cdbe.json',\n",
       " './CORD-19-research-challenge/2020-03-13\\\\biorxiv_medrxiv\\\\a2a6e262098539eb875a26800d9f6d3d0d5d1875.json',\n",
       " './CORD-19-research-challenge/2020-03-13\\\\biorxiv_medrxiv\\\\a2ab0a998912ed2ec93187333dca03aa22e39a71.json',\n",
       " './CORD-19-research-challenge/2020-03-13\\\\biorxiv_medrxiv\\\\a2ba0a34df31fd8059ed22787331a75b65eafa74.json',\n",
       " './CORD-19-research-challenge/2020-03-13\\\\biorxiv_medrxiv\\\\a3116a1ea2e157c8855023d968cc0f0bd6c9846f.json',\n",
       " './CORD-19-research-challenge/2020-03-13\\\\biorxiv_medrxiv\\\\a33f451d8e2caff57c1133f14198454a64993c47.json',\n",
       " './CORD-19-research-challenge/2020-03-13\\\\biorxiv_medrxiv\\\\a34d2c1876ffedc4f95f3af13ac06039cd38a5b0.json',\n",
       " './CORD-19-research-challenge/2020-03-13\\\\biorxiv_medrxiv\\\\a36bfdd1c9a1666401269fb0c08a3c2922bd6812.json',\n",
       " './CORD-19-research-challenge/2020-03-13\\\\biorxiv_medrxiv\\\\a388cca261e8af7936cf3b79c35f43442f65706b.json',\n",
       " './CORD-19-research-challenge/2020-03-13\\\\biorxiv_medrxiv\\\\a3dcd6b3f0551e607d0235616109ab8d506f81a2.json',\n",
       " './CORD-19-research-challenge/2020-03-13\\\\biorxiv_medrxiv\\\\a42ff48d50aa3a0ebfe840d46ed2204c49955442.json',\n",
       " './CORD-19-research-challenge/2020-03-13\\\\biorxiv_medrxiv\\\\a44334e676e43c1889d282b0f0a8365f0f1e0c52.json',\n",
       " './CORD-19-research-challenge/2020-03-13\\\\biorxiv_medrxiv\\\\a4d1861ceb0adf8dbdb8aed9465a3487fded5568.json',\n",
       " './CORD-19-research-challenge/2020-03-13\\\\biorxiv_medrxiv\\\\a5039336577ac0fed15b784adb912df2a6a143f3.json',\n",
       " './CORD-19-research-challenge/2020-03-13\\\\biorxiv_medrxiv\\\\a555fbeeffc44dfdb5087c83395f0f743654cbba.json',\n",
       " './CORD-19-research-challenge/2020-03-13\\\\biorxiv_medrxiv\\\\a5944e859b017fd4504ea042daaec613f3fba167.json',\n",
       " './CORD-19-research-challenge/2020-03-13\\\\biorxiv_medrxiv\\\\a59906b732bf4a489e282c3e4f499d4166c622e7.json',\n",
       " './CORD-19-research-challenge/2020-03-13\\\\biorxiv_medrxiv\\\\a625e5d6fc8956c231c500a40e887e248a69de61.json',\n",
       " './CORD-19-research-challenge/2020-03-13\\\\biorxiv_medrxiv\\\\a6af28a7f0a0d8d1e4d5b06f5ae38412298bbcb4.json',\n",
       " './CORD-19-research-challenge/2020-03-13\\\\biorxiv_medrxiv\\\\a6b05fa393f9404c906099e179ca476294068394.json',\n",
       " './CORD-19-research-challenge/2020-03-13\\\\biorxiv_medrxiv\\\\a6d2875c8b70a41ea815511417546a0689816964.json',\n",
       " './CORD-19-research-challenge/2020-03-13\\\\biorxiv_medrxiv\\\\a6e5c7919fa1f35244c27ef7e31f6b5817211b66.json',\n",
       " './CORD-19-research-challenge/2020-03-13\\\\biorxiv_medrxiv\\\\a726e1844e86c7c17b8b4461dd4c29ad3094c792.json',\n",
       " './CORD-19-research-challenge/2020-03-13\\\\biorxiv_medrxiv\\\\a7804d77d1a75810af0148d8fea8acbe2941f1b9.json',\n",
       " './CORD-19-research-challenge/2020-03-13\\\\biorxiv_medrxiv\\\\a7a4a5568e5b7c921bc616eedf532a393229decb.json',\n",
       " './CORD-19-research-challenge/2020-03-13\\\\biorxiv_medrxiv\\\\a7ac40c0f2083c733cc714e563b21c2d606818c0.json',\n",
       " './CORD-19-research-challenge/2020-03-13\\\\biorxiv_medrxiv\\\\a83b9f98ccbd6dd76d47c49cfe5785f9c2ecc09e.json',\n",
       " './CORD-19-research-challenge/2020-03-13\\\\biorxiv_medrxiv\\\\a891d059692c951d1fb0fb36914fe451f973684a.json',\n",
       " './CORD-19-research-challenge/2020-03-13\\\\biorxiv_medrxiv\\\\a8be6ba53508e988c2c8c153478ff615b0d77687.json',\n",
       " './CORD-19-research-challenge/2020-03-13\\\\biorxiv_medrxiv\\\\a8e53c77bc72f467723a7d5b8020875c0e96f8aa.json',\n",
       " './CORD-19-research-challenge/2020-03-13\\\\biorxiv_medrxiv\\\\a9a978c056422f979395ce56c96738d33b104a3e.json',\n",
       " './CORD-19-research-challenge/2020-03-13\\\\biorxiv_medrxiv\\\\a9c58042555c0d56b8e94bc5558db0c3dd697dcc.json',\n",
       " './CORD-19-research-challenge/2020-03-13\\\\biorxiv_medrxiv\\\\aa507fcd3876f8c422993c8dd13847b1b8e77471.json',\n",
       " './CORD-19-research-challenge/2020-03-13\\\\biorxiv_medrxiv\\\\aa5a99e67d3e887b3fa88575fb0d4a662d0a60ce.json',\n",
       " './CORD-19-research-challenge/2020-03-13\\\\biorxiv_medrxiv\\\\aacc3acdd6a928fd820d51a2d1ea98c164b6abd4.json',\n",
       " './CORD-19-research-challenge/2020-03-13\\\\biorxiv_medrxiv\\\\aad76905ce54679c80b75e4ee35717c30e7e1099.json',\n",
       " './CORD-19-research-challenge/2020-03-13\\\\biorxiv_medrxiv\\\\ab1692d56f32fdb0922e5f323f6ca385fb1e0808.json',\n",
       " './CORD-19-research-challenge/2020-03-13\\\\biorxiv_medrxiv\\\\abcfffafab399149d4adadd6bb458c4994e2025d.json',\n",
       " './CORD-19-research-challenge/2020-03-13\\\\biorxiv_medrxiv\\\\abe590b95aa51e7309844156acdae4085870ea33.json',\n",
       " './CORD-19-research-challenge/2020-03-13\\\\biorxiv_medrxiv\\\\ac35eeb6eaaf382fe0e123719f7dc409046e5d87.json',\n",
       " './CORD-19-research-challenge/2020-03-13\\\\biorxiv_medrxiv\\\\ac4a3bbe27272cd6780e7168906b0bf1413fc749.json',\n",
       " './CORD-19-research-challenge/2020-03-13\\\\biorxiv_medrxiv\\\\ac81102667b0d56edeb8ab0044765dc49a19f374.json',\n",
       " './CORD-19-research-challenge/2020-03-13\\\\biorxiv_medrxiv\\\\acb0e11e5763dbf7588ec435751a2ab705a783f1.json',\n",
       " './CORD-19-research-challenge/2020-03-13\\\\biorxiv_medrxiv\\\\acd5cb2ba08da5c0f6bc310d74d497d38aa86be2.json',\n",
       " './CORD-19-research-challenge/2020-03-13\\\\biorxiv_medrxiv\\\\acd8d28ae75dc1ec5fea2d767e3158545011c1f7.json',\n",
       " './CORD-19-research-challenge/2020-03-13\\\\biorxiv_medrxiv\\\\adb09e4e5c7331b2aa661b3d3bb0a643e00d11bc.json',\n",
       " './CORD-19-research-challenge/2020-03-13\\\\biorxiv_medrxiv\\\\adb3a6501ad731eda95d0a1a182a793a0dcd58b0.json',\n",
       " './CORD-19-research-challenge/2020-03-13\\\\biorxiv_medrxiv\\\\ae4f1ac93bb55da1231f08eb1654f19352ab1a3f.json',\n",
       " './CORD-19-research-challenge/2020-03-13\\\\biorxiv_medrxiv\\\\ae61300f4e7a12a68baf114f199eb51940c7aad3.json',\n",
       " './CORD-19-research-challenge/2020-03-13\\\\biorxiv_medrxiv\\\\ae66f22f886d3b019934ae237c11a5fb53dbefb2.json',\n",
       " './CORD-19-research-challenge/2020-03-13\\\\biorxiv_medrxiv\\\\ae6fc64042b050df93ebb8f8045892952f18510f.json',\n",
       " './CORD-19-research-challenge/2020-03-13\\\\biorxiv_medrxiv\\\\aef0734eb2538d3624d650a4ae20c3f66cace5f2.json',\n",
       " './CORD-19-research-challenge/2020-03-13\\\\biorxiv_medrxiv\\\\af266fac8970a7960e96630a67d91bec5dda0335.json',\n",
       " './CORD-19-research-challenge/2020-03-13\\\\biorxiv_medrxiv\\\\b0746b57a6c8f3cd9e52a27b0d708d069134b502.json',\n",
       " './CORD-19-research-challenge/2020-03-13\\\\biorxiv_medrxiv\\\\b0899a264af548a89d649154aec569889717b295.json',\n",
       " './CORD-19-research-challenge/2020-03-13\\\\biorxiv_medrxiv\\\\b117016a887f05386acc4387dab5bf8c769cf90e.json',\n",
       " './CORD-19-research-challenge/2020-03-13\\\\biorxiv_medrxiv\\\\b1a5096c2bfbb4ab9826c36e3961929a744134ca.json',\n",
       " './CORD-19-research-challenge/2020-03-13\\\\biorxiv_medrxiv\\\\b1b9d81726e56c2781ce6b63ae5015cf2f314c6f.json',\n",
       " './CORD-19-research-challenge/2020-03-13\\\\biorxiv_medrxiv\\\\b1ce6ca5960cb799403188ca303a364428f812d8.json',\n",
       " './CORD-19-research-challenge/2020-03-13\\\\biorxiv_medrxiv\\\\b1e7752cbf528db99723a3a67b49b9b5c6e449af.json',\n",
       " './CORD-19-research-challenge/2020-03-13\\\\biorxiv_medrxiv\\\\b38ed62b303eaa444d188deb2ab0b23bbdb79211.json',\n",
       " './CORD-19-research-challenge/2020-03-13\\\\biorxiv_medrxiv\\\\b38f3c83aaa3fa7c8f5c87af266793afcbd11c86.json',\n",
       " './CORD-19-research-challenge/2020-03-13\\\\biorxiv_medrxiv\\\\b3cb1d91dcd7f78dd9bbc88b93d2403eb6869746.json',\n",
       " './CORD-19-research-challenge/2020-03-13\\\\biorxiv_medrxiv\\\\b4d9a00412c65725de441654454803bb20ecb931.json',\n",
       " './CORD-19-research-challenge/2020-03-13\\\\biorxiv_medrxiv\\\\b4edd81e0d2770b0d6e0e3c93c7fffc43e3caa80.json',\n",
       " './CORD-19-research-challenge/2020-03-13\\\\biorxiv_medrxiv\\\\b4fc44eabb1f640124fff98990c85dc5c9984aee.json',\n",
       " './CORD-19-research-challenge/2020-03-13\\\\biorxiv_medrxiv\\\\b5161b031c7f720562e94735a018d1c3c8be3ae5.json',\n",
       " './CORD-19-research-challenge/2020-03-13\\\\biorxiv_medrxiv\\\\b51d1c7287ac75790a52752489577d33d522898b.json',\n",
       " './CORD-19-research-challenge/2020-03-13\\\\biorxiv_medrxiv\\\\b53dd68cad40cbcd698a848f53853e5f03d44a1f.json',\n",
       " './CORD-19-research-challenge/2020-03-13\\\\biorxiv_medrxiv\\\\b579c3547bba2a33057373d57b7c05f37dd4cfc3.json',\n",
       " './CORD-19-research-challenge/2020-03-13\\\\biorxiv_medrxiv\\\\b5b029e65b963ae092dd88b21911e74b0cf557cc.json',\n",
       " './CORD-19-research-challenge/2020-03-13\\\\biorxiv_medrxiv\\\\b5e1d36298a78690140d5ccb9673dbd48a0ddcd3.json',\n",
       " './CORD-19-research-challenge/2020-03-13\\\\biorxiv_medrxiv\\\\b696d208705fcb1925693c5f0d118733bb557ea6.json',\n",
       " './CORD-19-research-challenge/2020-03-13\\\\biorxiv_medrxiv\\\\b6d2052bb9aef4f3b1d21e86ca164cd43d020857.json',\n",
       " './CORD-19-research-challenge/2020-03-13\\\\biorxiv_medrxiv\\\\b6e92eda6c26b456165422d4e5552b81754c4a82.json',\n",
       " './CORD-19-research-challenge/2020-03-13\\\\biorxiv_medrxiv\\\\b705170c7527f5bc6842d90bf443fa9f9ee00bf9.json',\n",
       " './CORD-19-research-challenge/2020-03-13\\\\biorxiv_medrxiv\\\\b7f94d0b929301cc7a5d8f68a74d4f0270c74649.json',\n",
       " './CORD-19-research-challenge/2020-03-13\\\\biorxiv_medrxiv\\\\b801b7f92cff2155d98f0e3404229c67b60e2f9f.json',\n",
       " './CORD-19-research-challenge/2020-03-13\\\\biorxiv_medrxiv\\\\b80d9de7750d627a0189fcd2dfd82c7efcb1c079.json',\n",
       " './CORD-19-research-challenge/2020-03-13\\\\biorxiv_medrxiv\\\\b8bb4db131a25b1bbb30d4205b16dc9ef988d22f.json',\n",
       " './CORD-19-research-challenge/2020-03-13\\\\biorxiv_medrxiv\\\\b9548530d954b407b35fb266e2b4192402c982a1.json',\n",
       " './CORD-19-research-challenge/2020-03-13\\\\biorxiv_medrxiv\\\\b970b7a807f37678f91d4b989ffdb7d7606d754d.json',\n",
       " './CORD-19-research-challenge/2020-03-13\\\\biorxiv_medrxiv\\\\b9b0cad2db02479624a3d087626811e4d2fbcdb9.json',\n",
       " './CORD-19-research-challenge/2020-03-13\\\\biorxiv_medrxiv\\\\ba1c4c0de19352d0b9ed7db6199803b621f0a8f2.json',\n",
       " './CORD-19-research-challenge/2020-03-13\\\\biorxiv_medrxiv\\\\ba3efcd6b74e55327fd7db470d824fc18943f30e.json',\n",
       " './CORD-19-research-challenge/2020-03-13\\\\biorxiv_medrxiv\\\\ba92c589f077b55e9cd13264d619c2ffe9d3ce7a.json',\n",
       " './CORD-19-research-challenge/2020-03-13\\\\biorxiv_medrxiv\\\\baabfb35a321ea12028160e0d2c1552a2fda2dd5.json',\n",
       " './CORD-19-research-challenge/2020-03-13\\\\biorxiv_medrxiv\\\\bad4192bbc6d41c066bc947eaeeafc53024c98be.json',\n",
       " './CORD-19-research-challenge/2020-03-13\\\\biorxiv_medrxiv\\\\bb8e3d331bb2975e1c644c8729b842797da2d626.json',\n",
       " './CORD-19-research-challenge/2020-03-13\\\\biorxiv_medrxiv\\\\bb97f90ff5bfd41f2f1148c5cbdb257fdba535df.json',\n",
       " './CORD-19-research-challenge/2020-03-13\\\\biorxiv_medrxiv\\\\bbba5ff9ab9eccef99a0bbc6ea557a373158bbcd.json',\n",
       " './CORD-19-research-challenge/2020-03-13\\\\biorxiv_medrxiv\\\\bc65a0655d7b88cade3fbec16f3e9706c4cfc5aa.json',\n",
       " './CORD-19-research-challenge/2020-03-13\\\\biorxiv_medrxiv\\\\bca15ad98e1d08c6a62c9c0486de84bc15a9f661.json',\n",
       " './CORD-19-research-challenge/2020-03-13\\\\biorxiv_medrxiv\\\\bcef0894cf382a83c2aa4d9c803978780c2809db.json',\n",
       " './CORD-19-research-challenge/2020-03-13\\\\biorxiv_medrxiv\\\\bd872a86902d848bd94694469bb0c5cb05bea483.json',\n",
       " './CORD-19-research-challenge/2020-03-13\\\\biorxiv_medrxiv\\\\bd8f57ea4aadeda075d557f566a1909d68e658c4.json',\n",
       " './CORD-19-research-challenge/2020-03-13\\\\biorxiv_medrxiv\\\\bf04c9ddc80690a5e2d3c74d79a797319e36e5b6.json',\n",
       " './CORD-19-research-challenge/2020-03-13\\\\biorxiv_medrxiv\\\\bf39a81c9aab9e0569f33d93d5e203d320dac024.json',\n",
       " './CORD-19-research-challenge/2020-03-13\\\\biorxiv_medrxiv\\\\bfb0852ef4dd124ba671303aee7a71a08c7c21a7.json',\n",
       " './CORD-19-research-challenge/2020-03-13\\\\biorxiv_medrxiv\\\\bfed3ce6a6df2d442d96d0cab07d4bc1f2347255.json',\n",
       " './CORD-19-research-challenge/2020-03-13\\\\biorxiv_medrxiv\\\\c04c7fb330a409a00f67040dde0f83b3da88eacb.json',\n",
       " './CORD-19-research-challenge/2020-03-13\\\\biorxiv_medrxiv\\\\c04e10858012bdd666d50c0d69c3d1e7224ccbea.json',\n",
       " './CORD-19-research-challenge/2020-03-13\\\\biorxiv_medrxiv\\\\c08c3b98a956287a6eaf99f6d90969d7dd1410d1.json',\n",
       " './CORD-19-research-challenge/2020-03-13\\\\biorxiv_medrxiv\\\\c10661c9b35e068691b879661bcebeba3bd6aad9.json',\n",
       " './CORD-19-research-challenge/2020-03-13\\\\biorxiv_medrxiv\\\\c124701d09545e0117cca7a3a5f449584223899f.json',\n",
       " './CORD-19-research-challenge/2020-03-13\\\\biorxiv_medrxiv\\\\c12ad8b411c24fe215be91d1f990645743e55ab5.json',\n",
       " './CORD-19-research-challenge/2020-03-13\\\\biorxiv_medrxiv\\\\c14d50924f959d38ff7857e6db3a60c929448956.json',\n",
       " './CORD-19-research-challenge/2020-03-13\\\\biorxiv_medrxiv\\\\c15f8c23eedbedf8d48bbc88b8225ae9c9d234bf.json',\n",
       " './CORD-19-research-challenge/2020-03-13\\\\biorxiv_medrxiv\\\\c1a08ce8f2c5d5311b19822c3df5aa9d25c4d93c.json',\n",
       " './CORD-19-research-challenge/2020-03-13\\\\biorxiv_medrxiv\\\\c1ae608c7ffb926a0f50a6a34c0780983274ea74.json',\n",
       " './CORD-19-research-challenge/2020-03-13\\\\biorxiv_medrxiv\\\\c2510fbc213aa74c6c3195cbc8033c7d0f11b248.json',\n",
       " './CORD-19-research-challenge/2020-03-13\\\\biorxiv_medrxiv\\\\c2af4db8591a8ef84229eb08359c0a50efa24544.json',\n",
       " './CORD-19-research-challenge/2020-03-13\\\\biorxiv_medrxiv\\\\c3e5af129cd3332c6a01776cbb9534bceb46e21a.json',\n",
       " './CORD-19-research-challenge/2020-03-13\\\\biorxiv_medrxiv\\\\c41fdb2efd6d61384a92a84cbba3f8233629a41b.json',\n",
       " './CORD-19-research-challenge/2020-03-13\\\\biorxiv_medrxiv\\\\c42a617a00afe6a36bde0a8e3638e0f55bfee4f7.json',\n",
       " './CORD-19-research-challenge/2020-03-13\\\\biorxiv_medrxiv\\\\c4ce14ce42fa4360dfe3515ec9d1584847381c27.json',\n",
       " './CORD-19-research-challenge/2020-03-13\\\\biorxiv_medrxiv\\\\c4dc1c0360d3fe9ceddc4650aea022f24d88cd99.json',\n",
       " './CORD-19-research-challenge/2020-03-13\\\\biorxiv_medrxiv\\\\c5bf5beb177c16aa29255e89e0cf47e4e9467cce.json',\n",
       " './CORD-19-research-challenge/2020-03-13\\\\biorxiv_medrxiv\\\\c6012a6141f5ad05ac983aa9f1a7c57938363b16.json',\n",
       " './CORD-19-research-challenge/2020-03-13\\\\biorxiv_medrxiv\\\\c6039f8933305c9f44a44c81a15b321b6c2848dc.json',\n",
       " './CORD-19-research-challenge/2020-03-13\\\\biorxiv_medrxiv\\\\c672f5b0d7c0a40f7cc1bdf079066d72eb8f64ec.json',\n",
       " './CORD-19-research-challenge/2020-03-13\\\\biorxiv_medrxiv\\\\c6ec1380338cb2467dc6fc14add09ca5bea18411.json',\n",
       " './CORD-19-research-challenge/2020-03-13\\\\biorxiv_medrxiv\\\\c72595eda8a721e9bff19fcc18ecbb8510054f37.json',\n",
       " './CORD-19-research-challenge/2020-03-13\\\\biorxiv_medrxiv\\\\c8437a45bfb84fb206fe03fd18d28858bae32651.json',\n",
       " './CORD-19-research-challenge/2020-03-13\\\\biorxiv_medrxiv\\\\c8559b6ddd6213bc91524397933bce33aea7d50f.json',\n",
       " './CORD-19-research-challenge/2020-03-13\\\\biorxiv_medrxiv\\\\c85f571a674c7fed0ccb9176e9cf9f3d3659ca32.json',\n",
       " './CORD-19-research-challenge/2020-03-13\\\\biorxiv_medrxiv\\\\c8b6f2752a842dd9eb9c50a82112748ef10ba259.json',\n",
       " './CORD-19-research-challenge/2020-03-13\\\\biorxiv_medrxiv\\\\c8c052d27aaf8015316dcd2644fa5e0b3870cea1.json',\n",
       " './CORD-19-research-challenge/2020-03-13\\\\biorxiv_medrxiv\\\\c8d206a4f9af0709b6e9ee90c4d854d482cb0784.json',\n",
       " './CORD-19-research-challenge/2020-03-13\\\\biorxiv_medrxiv\\\\c8df44a3612e85e267351e936ddeb8fc5867afa1.json',\n",
       " './CORD-19-research-challenge/2020-03-13\\\\biorxiv_medrxiv\\\\c8e940f25e802de4fb2abd917b76b8dffc5a23ae.json',\n",
       " './CORD-19-research-challenge/2020-03-13\\\\biorxiv_medrxiv\\\\c9533866dd77deaa65ee1015b57bca5486f93326.json',\n",
       " './CORD-19-research-challenge/2020-03-13\\\\biorxiv_medrxiv\\\\c954675ee859e2f7b8f352a398a67469b50f05de.json',\n",
       " './CORD-19-research-challenge/2020-03-13\\\\biorxiv_medrxiv\\\\ca88735399ff43d0e673876200655099f06f5567.json',\n",
       " './CORD-19-research-challenge/2020-03-13\\\\biorxiv_medrxiv\\\\cb346b64e20934bc01f7727cf51494b22f172de0.json',\n",
       " './CORD-19-research-challenge/2020-03-13\\\\biorxiv_medrxiv\\\\cb3974f33a1d54369d630e62052d603148bb12e7.json',\n",
       " './CORD-19-research-challenge/2020-03-13\\\\biorxiv_medrxiv\\\\cbc05d14c57b91081970a232ab83bc993f998fe2.json',\n",
       " './CORD-19-research-challenge/2020-03-13\\\\biorxiv_medrxiv\\\\cc41c51293ed24a57ddf467e462ec9399463ee33.json',\n",
       " './CORD-19-research-challenge/2020-03-13\\\\biorxiv_medrxiv\\\\cc5e36a8d22f6b1708b1c43764806b1722aa1754.json',\n",
       " './CORD-19-research-challenge/2020-03-13\\\\biorxiv_medrxiv\\\\cddff59aa11d3d8005e389b47cb7c4501a21d593.json',\n",
       " './CORD-19-research-challenge/2020-03-13\\\\biorxiv_medrxiv\\\\cdfc8be07677f50c91106e5b56379acb0d0eb289.json',\n",
       " './CORD-19-research-challenge/2020-03-13\\\\biorxiv_medrxiv\\\\ce16fdcdc9f5932ac2e66646317a33f142ee1eb6.json',\n",
       " './CORD-19-research-challenge/2020-03-13\\\\biorxiv_medrxiv\\\\ce97f5b8be9e2d7eeb169762fc07a08bacb3e8cf.json',\n",
       " './CORD-19-research-challenge/2020-03-13\\\\biorxiv_medrxiv\\\\d010cc0209bc5a0eee6259f72c42590c448da1cf.json',\n",
       " './CORD-19-research-challenge/2020-03-13\\\\biorxiv_medrxiv\\\\d01e580a45c457c7c200cd884e746b4d836e2ea9.json',\n",
       " './CORD-19-research-challenge/2020-03-13\\\\biorxiv_medrxiv\\\\d069dfb7f0aefcdc2c890a1bbe773ebd26b01a55.json',\n",
       " './CORD-19-research-challenge/2020-03-13\\\\biorxiv_medrxiv\\\\d0b33d173f1d32662e2ad8d7e85181f9b23f010c.json',\n",
       " './CORD-19-research-challenge/2020-03-13\\\\biorxiv_medrxiv\\\\d10525ee12ac8eb0941e0b21d04b3552baaeb79d.json',\n",
       " './CORD-19-research-challenge/2020-03-13\\\\biorxiv_medrxiv\\\\d12b31daa935e9043a9f526a2547b6216ada7cde.json',\n",
       " './CORD-19-research-challenge/2020-03-13\\\\biorxiv_medrxiv\\\\d14f165645f21a60d224c6286c5e51799797eceb.json',\n",
       " './CORD-19-research-challenge/2020-03-13\\\\biorxiv_medrxiv\\\\d1b26388670660f66249b55ece2beccee4c18d1a.json',\n",
       " './CORD-19-research-challenge/2020-03-13\\\\biorxiv_medrxiv\\\\d1c77a93f69b5dbcf3806674bff9fe4677209ae5.json',\n",
       " './CORD-19-research-challenge/2020-03-13\\\\biorxiv_medrxiv\\\\d23c6a066a58dbe5ec5fa57e67f1b795337299f7.json',\n",
       " './CORD-19-research-challenge/2020-03-13\\\\biorxiv_medrxiv\\\\d2609c4d8837558f4b8f32170422ce1cd12425a6.json',\n",
       " './CORD-19-research-challenge/2020-03-13\\\\biorxiv_medrxiv\\\\d2616cd5feadf2f63508144580ce2b9e172decf5.json',\n",
       " './CORD-19-research-challenge/2020-03-13\\\\biorxiv_medrxiv\\\\d29c253b473969c4d92ea9911d3badb9a7ee63f2.json',\n",
       " './CORD-19-research-challenge/2020-03-13\\\\biorxiv_medrxiv\\\\d2c7ac58cc309df9d3da8e766184d09c32d16dca.json',\n",
       " './CORD-19-research-challenge/2020-03-13\\\\biorxiv_medrxiv\\\\d34a47b592e9c6e84b5b4115474349acbc0fb925.json',\n",
       " './CORD-19-research-challenge/2020-03-13\\\\biorxiv_medrxiv\\\\d37a760a6ae9f4df3da850e9a71b88d340c54588.json',\n",
       " './CORD-19-research-challenge/2020-03-13\\\\biorxiv_medrxiv\\\\d3c2e2839498c613ee95739dce7052109750362c.json',\n",
       " './CORD-19-research-challenge/2020-03-13\\\\biorxiv_medrxiv\\\\d418cdee18b07a0adfb553d43b4a08f7736fa9f3.json',\n",
       " './CORD-19-research-challenge/2020-03-13\\\\biorxiv_medrxiv\\\\d47377d0da60ea7aab2522c204ad65753b0545fe.json',\n",
       " './CORD-19-research-challenge/2020-03-13\\\\biorxiv_medrxiv\\\\d485fce0c7ad92a1e1606eb81043bf9e12714562.json',\n",
       " './CORD-19-research-challenge/2020-03-13\\\\biorxiv_medrxiv\\\\d49f8ba7212183bc1b7f2cb6dd709dd197303b3d.json',\n",
       " './CORD-19-research-challenge/2020-03-13\\\\biorxiv_medrxiv\\\\d4cfb1fc4fc53abbc1d4b0ca60276c6af6632c3c.json',\n",
       " './CORD-19-research-challenge/2020-03-13\\\\biorxiv_medrxiv\\\\d4dde806ec1cfa2209b422f67ed42bcaf6bd7201.json',\n",
       " './CORD-19-research-challenge/2020-03-13\\\\biorxiv_medrxiv\\\\d4e1b8705646c89433773a9f67bdb8c12fcf4cef.json',\n",
       " './CORD-19-research-challenge/2020-03-13\\\\biorxiv_medrxiv\\\\d5efae48a9bbfccac8d9e6c1a80c8c605d80ee21.json',\n",
       " './CORD-19-research-challenge/2020-03-13\\\\biorxiv_medrxiv\\\\d5f14e63b86239f491c9dd1749cff01dc4d633cb.json',\n",
       " './CORD-19-research-challenge/2020-03-13\\\\biorxiv_medrxiv\\\\d5f7332f6dba1d990d54b5887a175e530d144130.json',\n",
       " './CORD-19-research-challenge/2020-03-13\\\\biorxiv_medrxiv\\\\d618a596def847bdfc19991c694e09bdeccf2287.json',\n",
       " './CORD-19-research-challenge/2020-03-13\\\\biorxiv_medrxiv\\\\d7111b44f2d13b24a11d55c8be2d2bbe6b245eac.json',\n",
       " './CORD-19-research-challenge/2020-03-13\\\\biorxiv_medrxiv\\\\d75c48f51b2a5c26a41fe615339e5947d5e9cb30.json',\n",
       " './CORD-19-research-challenge/2020-03-13\\\\biorxiv_medrxiv\\\\d7701711485f822c0f43df58b48faf6a433028c4.json',\n",
       " './CORD-19-research-challenge/2020-03-13\\\\biorxiv_medrxiv\\\\d810f78f8850d9386abc6fdd8d652f2f85191753.json',\n",
       " './CORD-19-research-challenge/2020-03-13\\\\biorxiv_medrxiv\\\\d82fe700418fb6494ffb9a2c0cf4f6b8012b3824.json',\n",
       " './CORD-19-research-challenge/2020-03-13\\\\biorxiv_medrxiv\\\\d83e3c028de1950c4f8dedae21eb90f90c4ed6c3.json',\n",
       " './CORD-19-research-challenge/2020-03-13\\\\biorxiv_medrxiv\\\\d85d142716f7f85cd27b54fc38a9e2968cf14346.json',\n",
       " './CORD-19-research-challenge/2020-03-13\\\\biorxiv_medrxiv\\\\d8c2466863d8ff87bc1aaf5218ce6f3f7fb29c3b.json',\n",
       " './CORD-19-research-challenge/2020-03-13\\\\biorxiv_medrxiv\\\\d91120d80916351170b34715ea4ab141f02c51fb.json',\n",
       " './CORD-19-research-challenge/2020-03-13\\\\biorxiv_medrxiv\\\\d92e6ddc127c4dd588cfa8fd584a9a1adb4bbe86.json',\n",
       " './CORD-19-research-challenge/2020-03-13\\\\biorxiv_medrxiv\\\\d9eeeb81d17be6a722b11081f13576de197d249f.json',\n",
       " './CORD-19-research-challenge/2020-03-13\\\\biorxiv_medrxiv\\\\da3aa20131ac2805c0d9e1b29f094683479ab5b7.json',\n",
       " './CORD-19-research-challenge/2020-03-13\\\\biorxiv_medrxiv\\\\da5ecffba8c5d1b7afee057ff61149fb976501ce.json',\n",
       " './CORD-19-research-challenge/2020-03-13\\\\biorxiv_medrxiv\\\\dac1b1607ae72b9509ab26367e0d55016e8132a8.json',\n",
       " './CORD-19-research-challenge/2020-03-13\\\\biorxiv_medrxiv\\\\daf32e013d325a6feb80e83d15aabc64a48fae33.json',\n",
       " './CORD-19-research-challenge/2020-03-13\\\\biorxiv_medrxiv\\\\daf507bcd9337e05d4bdc3da73e05639837f2031.json',\n",
       " './CORD-19-research-challenge/2020-03-13\\\\biorxiv_medrxiv\\\\db142fe07544dcf0e454f8a9f39452f0aa92a6ca.json',\n",
       " './CORD-19-research-challenge/2020-03-13\\\\biorxiv_medrxiv\\\\dbefc8ad2a3de5d1696b7e604de8bce1da2ea8cd.json',\n",
       " './CORD-19-research-challenge/2020-03-13\\\\biorxiv_medrxiv\\\\dc3d8b94ae9acb1ec585507d0d77164a7f688d10.json',\n",
       " './CORD-19-research-challenge/2020-03-13\\\\biorxiv_medrxiv\\\\dca8ced82157924ed86c698a7dd482be81b4b266.json',\n",
       " './CORD-19-research-challenge/2020-03-13\\\\biorxiv_medrxiv\\\\dcd7a1235ea74e3ef71d051103bf8a64c3c8f457.json',\n",
       " './CORD-19-research-challenge/2020-03-13\\\\biorxiv_medrxiv\\\\dd2cd004a197872cfce1c31a9685d6972f838efa.json',\n",
       " './CORD-19-research-challenge/2020-03-13\\\\biorxiv_medrxiv\\\\ddbf32ef7d7bd337dbfe05cbf8239b0fb698bb6a.json',\n",
       " './CORD-19-research-challenge/2020-03-13\\\\biorxiv_medrxiv\\\\ddefea974fdb2730133e762ece41335b3d3cb94d.json',\n",
       " './CORD-19-research-challenge/2020-03-13\\\\biorxiv_medrxiv\\\\de3ae7971891058db2f4b36cd216531e6f533332.json',\n",
       " './CORD-19-research-challenge/2020-03-13\\\\biorxiv_medrxiv\\\\df6013a1630aa41627cc84c8e780d40ff93785cc.json',\n",
       " './CORD-19-research-challenge/2020-03-13\\\\biorxiv_medrxiv\\\\dfb0fedbeed56bd2b795a67faab28295afc14c96.json',\n",
       " './CORD-19-research-challenge/2020-03-13\\\\biorxiv_medrxiv\\\\dfb2f07149617b0c2911899ac61563e808e2cee1.json',\n",
       " './CORD-19-research-challenge/2020-03-13\\\\biorxiv_medrxiv\\\\dff716159738acd6bd53b4be12af45358a58752e.json',\n",
       " './CORD-19-research-challenge/2020-03-13\\\\biorxiv_medrxiv\\\\e01948b342544a5fcd8c14d757501779029c6d6d.json',\n",
       " './CORD-19-research-challenge/2020-03-13\\\\biorxiv_medrxiv\\\\e046a06f262d74d025272ad697d358c4afb5d9bd.json',\n",
       " './CORD-19-research-challenge/2020-03-13\\\\biorxiv_medrxiv\\\\e05c39ce913edc81f93c9247f9714d6cddd30073.json',\n",
       " './CORD-19-research-challenge/2020-03-13\\\\biorxiv_medrxiv\\\\e066fdbb4a9338a57477424cb66fd4d75b2fd66d.json',\n",
       " './CORD-19-research-challenge/2020-03-13\\\\biorxiv_medrxiv\\\\e0a53c258ee0483666329ccab591c0753ff49531.json',\n",
       " './CORD-19-research-challenge/2020-03-13\\\\biorxiv_medrxiv\\\\e0fd364797eb02a280e25e2649dfe6d6c0d33e05.json',\n",
       " './CORD-19-research-challenge/2020-03-13\\\\biorxiv_medrxiv\\\\e1008925754f127b74ab07e83fd64c0260b980a2.json',\n",
       " './CORD-19-research-challenge/2020-03-13\\\\biorxiv_medrxiv\\\\e1632ff25e6c30d4d89828154be1389a90109db8.json',\n",
       " './CORD-19-research-challenge/2020-03-13\\\\biorxiv_medrxiv\\\\e18620d5cff022d18aa23da2fa4634331fa54860.json',\n",
       " './CORD-19-research-challenge/2020-03-13\\\\biorxiv_medrxiv\\\\e226beab8af4202a5182f7603fe468dedd5dee6a.json',\n",
       " './CORD-19-research-challenge/2020-03-13\\\\biorxiv_medrxiv\\\\e29b287d326be9c2c0a7dcd7a81cb49cc2125360.json',\n",
       " './CORD-19-research-challenge/2020-03-13\\\\biorxiv_medrxiv\\\\e350e1b4aab99c73d0e0d03121b50c059c04fd61.json',\n",
       " './CORD-19-research-challenge/2020-03-13\\\\biorxiv_medrxiv\\\\e3f19f88e7e3d1279b4d93e4db041e44a8d35dbb.json',\n",
       " './CORD-19-research-challenge/2020-03-13\\\\biorxiv_medrxiv\\\\e4701bdf5d414ea8ca38a4d8d3f69540805293b0.json',\n",
       " './CORD-19-research-challenge/2020-03-13\\\\biorxiv_medrxiv\\\\e476334b4f415f8fde5e2f560fd1ad0fa314af90.json',\n",
       " './CORD-19-research-challenge/2020-03-13\\\\biorxiv_medrxiv\\\\e4cb4af2f4ec6f023096afcf7b3d4410584e1393.json',\n",
       " './CORD-19-research-challenge/2020-03-13\\\\biorxiv_medrxiv\\\\e4d752fd72eb7b1089e4b820598b1f69f50bc636.json',\n",
       " './CORD-19-research-challenge/2020-03-13\\\\biorxiv_medrxiv\\\\e4e5e67fd4f75548dffab7f75484bc14fa15c0c2.json',\n",
       " './CORD-19-research-challenge/2020-03-13\\\\biorxiv_medrxiv\\\\e4f66cfdaf836895e7d37941223f11ebc41dbb57.json',\n",
       " './CORD-19-research-challenge/2020-03-13\\\\biorxiv_medrxiv\\\\e5163021a1b88e2c2335cca27fbfcf883f870830.json',\n",
       " './CORD-19-research-challenge/2020-03-13\\\\biorxiv_medrxiv\\\\e53f5a6c4cbac340f0d97a4ba3289c30b7222dd5.json',\n",
       " './CORD-19-research-challenge/2020-03-13\\\\biorxiv_medrxiv\\\\e560eb28bb3f35099d2632f80adaa14436516474.json',\n",
       " './CORD-19-research-challenge/2020-03-13\\\\biorxiv_medrxiv\\\\e5f19b6daf956e815c779228cc0cad1293d65bbb.json',\n",
       " './CORD-19-research-challenge/2020-03-13\\\\biorxiv_medrxiv\\\\e60640bfc445db0f53b5d92cb9f69cd943f1b73a.json',\n",
       " './CORD-19-research-challenge/2020-03-13\\\\biorxiv_medrxiv\\\\e62e453735dc2022f4d81aa9b22769de30d0bb90.json',\n",
       " './CORD-19-research-challenge/2020-03-13\\\\biorxiv_medrxiv\\\\e6fe63419fe399f9c77513c1c11a043db006a2f3.json',\n",
       " './CORD-19-research-challenge/2020-03-13\\\\biorxiv_medrxiv\\\\e7bdd52badd2d2ca8ce7bd838ca42d02ca3396ee.json',\n",
       " './CORD-19-research-challenge/2020-03-13\\\\biorxiv_medrxiv\\\\e7c3ec3dcb3469ee4d608029e7aa3068a4c90c54.json',\n",
       " './CORD-19-research-challenge/2020-03-13\\\\biorxiv_medrxiv\\\\e7ff9455c483c237c3ee08b9d230b7be65c064bf.json',\n",
       " './CORD-19-research-challenge/2020-03-13\\\\biorxiv_medrxiv\\\\e8b2e667f2145ec96fbb6400fb41b05cafa26e37.json',\n",
       " './CORD-19-research-challenge/2020-03-13\\\\biorxiv_medrxiv\\\\e8b8e0f027881d2480d808b05d9281a7ff4e9b4d.json',\n",
       " './CORD-19-research-challenge/2020-03-13\\\\biorxiv_medrxiv\\\\e901cf35efbad09a224f2c500f7aef1f6d2d3b6a.json',\n",
       " './CORD-19-research-challenge/2020-03-13\\\\biorxiv_medrxiv\\\\e93ba7d8a047795d5ec114741f32f5b18e8567c7.json',\n",
       " './CORD-19-research-challenge/2020-03-13\\\\biorxiv_medrxiv\\\\ea17aad7692bb5040f3b2ba1d01b8249e4969469.json',\n",
       " './CORD-19-research-challenge/2020-03-13\\\\biorxiv_medrxiv\\\\ea7cf2347337e379e62c9bf09b2db9b44fb2e812.json',\n",
       " './CORD-19-research-challenge/2020-03-13\\\\biorxiv_medrxiv\\\\ea84759e67802b696a5c60503c024546e542d572.json',\n",
       " './CORD-19-research-challenge/2020-03-13\\\\biorxiv_medrxiv\\\\ea94779ce166bcbf3813ccaab028524ff397089b.json',\n",
       " './CORD-19-research-challenge/2020-03-13\\\\biorxiv_medrxiv\\\\eae11a3f01b79e76a968bfb84886432f04584596.json',\n",
       " './CORD-19-research-challenge/2020-03-13\\\\biorxiv_medrxiv\\\\eaf0b485f290fa884dd18de71be79d86de20eb31.json',\n",
       " './CORD-19-research-challenge/2020-03-13\\\\biorxiv_medrxiv\\\\eb5e5088c41f976387784acd57dbb683932c6002.json',\n",
       " './CORD-19-research-challenge/2020-03-13\\\\biorxiv_medrxiv\\\\eb7fc5004191e8fce0d6e4ff98de6865872e665f.json',\n",
       " './CORD-19-research-challenge/2020-03-13\\\\biorxiv_medrxiv\\\\eb8ac60527db35b10881cb4fd86b8a6e21983d02.json',\n",
       " './CORD-19-research-challenge/2020-03-13\\\\biorxiv_medrxiv\\\\ebb553a859d31ebcfc57d489ca84af0df894dab8.json',\n",
       " './CORD-19-research-challenge/2020-03-13\\\\biorxiv_medrxiv\\\\ebed882da10cbf669cbb86802e9fa07a4a33ef91.json',\n",
       " './CORD-19-research-challenge/2020-03-13\\\\biorxiv_medrxiv\\\\ec223563f366aa8ed21ec84d1b0d21a911362cfa.json',\n",
       " './CORD-19-research-challenge/2020-03-13\\\\biorxiv_medrxiv\\\\ec6adb9dc121bcbb8215cb16b880d6dc6497d209.json',\n",
       " './CORD-19-research-challenge/2020-03-13\\\\biorxiv_medrxiv\\\\ec90b0b861d31f910433d388370344024ca7c35d.json',\n",
       " './CORD-19-research-challenge/2020-03-13\\\\biorxiv_medrxiv\\\\eca1cf50bd67a7efbcaf78864f5f5b3b850243d6.json',\n",
       " './CORD-19-research-challenge/2020-03-13\\\\biorxiv_medrxiv\\\\eccef80cfbe078235df22398f195d5db462d8000.json',\n",
       " './CORD-19-research-challenge/2020-03-13\\\\biorxiv_medrxiv\\\\ed0a318f34fe2d65cce6127be009ad7d5f3c7cae.json',\n",
       " './CORD-19-research-challenge/2020-03-13\\\\biorxiv_medrxiv\\\\ee986ee9617cddea4f905898fc76512afd10ae1f.json',\n",
       " './CORD-19-research-challenge/2020-03-13\\\\biorxiv_medrxiv\\\\eeae21c913759e8cf4c345e561457fe7ef84480f.json',\n",
       " './CORD-19-research-challenge/2020-03-13\\\\biorxiv_medrxiv\\\\eec5b4ce2de8d9d00be664e6af79cac476991bbf.json',\n",
       " './CORD-19-research-challenge/2020-03-13\\\\biorxiv_medrxiv\\\\f056da9c64fbf00a4645ae326e8a4339d015d155.json',\n",
       " './CORD-19-research-challenge/2020-03-13\\\\biorxiv_medrxiv\\\\f0cd43222c9a51d619357babc4d0ac984e8e45a0.json',\n",
       " './CORD-19-research-challenge/2020-03-13\\\\biorxiv_medrxiv\\\\f0e75c4697317cbd0e3a5cdd722fe0526595db64.json',\n",
       " './CORD-19-research-challenge/2020-03-13\\\\biorxiv_medrxiv\\\\f0f3f4ab41fdd2d12c3fa45dc53a17d7c58a4068.json',\n",
       " './CORD-19-research-challenge/2020-03-13\\\\biorxiv_medrxiv\\\\f122e125c2cd3580b1a38e27c780b99f671fd78f.json',\n",
       " './CORD-19-research-challenge/2020-03-13\\\\biorxiv_medrxiv\\\\f126b7f9c8ba02a0f872b51cf95d08086e0bd4ac.json',\n",
       " './CORD-19-research-challenge/2020-03-13\\\\biorxiv_medrxiv\\\\f162829ffeba4cedd16aaf7f09902182c5cf903c.json',\n",
       " './CORD-19-research-challenge/2020-03-13\\\\biorxiv_medrxiv\\\\f17c6ac4986aecba2dc22f67b32f2d16b369117b.json',\n",
       " './CORD-19-research-challenge/2020-03-13\\\\biorxiv_medrxiv\\\\f19e2df932f90f387fe71533f3802875d9042160.json',\n",
       " './CORD-19-research-challenge/2020-03-13\\\\biorxiv_medrxiv\\\\f24d3b4b4af138be06b7452b7acefc8948bc1056.json',\n",
       " './CORD-19-research-challenge/2020-03-13\\\\biorxiv_medrxiv\\\\f32841f22efe8c2bccd0d04a0c0b47e6ecf86b61.json',\n",
       " './CORD-19-research-challenge/2020-03-13\\\\biorxiv_medrxiv\\\\f339a22cebc1bc0099beb7aea41be09cc916e5dc.json',\n",
       " './CORD-19-research-challenge/2020-03-13\\\\biorxiv_medrxiv\\\\f33c6d94b0efaa198f8f3f20e644625fa3fe10d2.json',\n",
       " './CORD-19-research-challenge/2020-03-13\\\\biorxiv_medrxiv\\\\f3ff1ecae96700f41b83d2a034a3a959428388b0.json',\n",
       " './CORD-19-research-challenge/2020-03-13\\\\biorxiv_medrxiv\\\\f40eaec892778166e4f8f8eeb576893e82a591be.json',\n",
       " './CORD-19-research-challenge/2020-03-13\\\\biorxiv_medrxiv\\\\f47af9fe364fd9bac5e061142208d801667c5aca.json',\n",
       " './CORD-19-research-challenge/2020-03-13\\\\biorxiv_medrxiv\\\\f49a9b36227a498495c9788a4e5e4d6429b71eab.json',\n",
       " './CORD-19-research-challenge/2020-03-13\\\\biorxiv_medrxiv\\\\f4d76fb8161f4cee6987d7d412798e1276348858.json',\n",
       " './CORD-19-research-challenge/2020-03-13\\\\biorxiv_medrxiv\\\\f4f4b045dce8ff5ff1f5aaa48a6bdbaaa7b05179.json',\n",
       " './CORD-19-research-challenge/2020-03-13\\\\biorxiv_medrxiv\\\\f53e10f9cd4b97134ded58b3de4bcc36a55304d3.json',\n",
       " './CORD-19-research-challenge/2020-03-13\\\\biorxiv_medrxiv\\\\f5d9ab798adf8face1655d476644ebb75fbfef18.json',\n",
       " './CORD-19-research-challenge/2020-03-13\\\\biorxiv_medrxiv\\\\f6312e7233ad4c0780492db3c05a61abe4fb6b22.json',\n",
       " './CORD-19-research-challenge/2020-03-13\\\\biorxiv_medrxiv\\\\f634f2b73197fdda1d444dcdd6bd84a96ea148ad.json',\n",
       " './CORD-19-research-challenge/2020-03-13\\\\biorxiv_medrxiv\\\\f6f1ec12291f743de1504003929ea654217f2af6.json',\n",
       " './CORD-19-research-challenge/2020-03-13\\\\biorxiv_medrxiv\\\\f7891683eecd12b3908862fc7ef1d341ca7a293c.json',\n",
       " './CORD-19-research-challenge/2020-03-13\\\\biorxiv_medrxiv\\\\f810de29894bfa40d93bc6dde3efc22c9d0d3f4c.json',\n",
       " './CORD-19-research-challenge/2020-03-13\\\\biorxiv_medrxiv\\\\f82372b109168b411344f537210c63cc6ed323ed.json',\n",
       " './CORD-19-research-challenge/2020-03-13\\\\biorxiv_medrxiv\\\\f8360b0e64d444215d21a61e056b070f12417e53.json',\n",
       " './CORD-19-research-challenge/2020-03-13\\\\biorxiv_medrxiv\\\\f854d7b750541d65c48df953a65028a50ce57881.json',\n",
       " './CORD-19-research-challenge/2020-03-13\\\\biorxiv_medrxiv\\\\f863247dc84916a96448088399badefd09d54fb8.json',\n",
       " './CORD-19-research-challenge/2020-03-13\\\\biorxiv_medrxiv\\\\f879c69d61f14d7efc51023258d1361bc681d403.json',\n",
       " './CORD-19-research-challenge/2020-03-13\\\\biorxiv_medrxiv\\\\f87eec8279bc79900914c5689bb42f49f41aace5.json',\n",
       " './CORD-19-research-challenge/2020-03-13\\\\biorxiv_medrxiv\\\\f89618a7949b8ff9b92c87ca5b839a3107957b5c.json',\n",
       " './CORD-19-research-challenge/2020-03-13\\\\biorxiv_medrxiv\\\\f8e8a9c6f5662c1739be031e6134284ef08ea8b2.json',\n",
       " './CORD-19-research-challenge/2020-03-13\\\\biorxiv_medrxiv\\\\f8eee21acf147a7088fa376af6c3d85e606b47c4.json',\n",
       " './CORD-19-research-challenge/2020-03-13\\\\biorxiv_medrxiv\\\\f905f78b32f63c6d14a79984dfb33f1b358b8ab4.json',\n",
       " './CORD-19-research-challenge/2020-03-13\\\\biorxiv_medrxiv\\\\f93daa3d8d53761cfcf4c9fb8ff03dace02a858c.json',\n",
       " './CORD-19-research-challenge/2020-03-13\\\\biorxiv_medrxiv\\\\f9b108c052ded463773a9838a8157ac7d5ba6d1a.json',\n",
       " './CORD-19-research-challenge/2020-03-13\\\\biorxiv_medrxiv\\\\f9c6a656d0ce352cc1fa0df8d83e6d4a1f53d7c2.json',\n",
       " './CORD-19-research-challenge/2020-03-13\\\\biorxiv_medrxiv\\\\fa6c14304fc37470639d55f97f7903035d768bd2.json',\n",
       " './CORD-19-research-challenge/2020-03-13\\\\biorxiv_medrxiv\\\\fb7371ad31cd501854660876a282060402082537.json',\n",
       " './CORD-19-research-challenge/2020-03-13\\\\biorxiv_medrxiv\\\\fbc41a8e025cd6eb2d7c156aad3b6923af2349c4.json',\n",
       " './CORD-19-research-challenge/2020-03-13\\\\biorxiv_medrxiv\\\\fbebe4b66073c44cface2e842754bce26e3e2913.json',\n",
       " './CORD-19-research-challenge/2020-03-13\\\\biorxiv_medrxiv\\\\fc15f433048e4d9464964930c36a1e7057ba1088.json',\n",
       " './CORD-19-research-challenge/2020-03-13\\\\biorxiv_medrxiv\\\\fc7a6b5d1852c5ecce2d20fd0d73d5f957ed7055.json',\n",
       " './CORD-19-research-challenge/2020-03-13\\\\biorxiv_medrxiv\\\\fcb76f0907f67a850fd4560218034f214fa28bcc.json',\n",
       " './CORD-19-research-challenge/2020-03-13\\\\biorxiv_medrxiv\\\\fccf6791aac676cf26c0be7745e217f9b8d6336c.json',\n",
       " './CORD-19-research-challenge/2020-03-13\\\\biorxiv_medrxiv\\\\fd14ed7c073b7ff03afa517e9c0fd1e849878252.json',\n",
       " './CORD-19-research-challenge/2020-03-13\\\\biorxiv_medrxiv\\\\fd3fc2c49f5cc27e4262261d0c9045911d65cb6e.json',\n",
       " './CORD-19-research-challenge/2020-03-13\\\\biorxiv_medrxiv\\\\fd847a97e6fce134345b25ae9240c4ebb680cca5.json',\n",
       " './CORD-19-research-challenge/2020-03-13\\\\biorxiv_medrxiv\\\\fd8d54106cd0cc2d09b1fda70f668736b5d0bd5c.json',\n",
       " './CORD-19-research-challenge/2020-03-13\\\\biorxiv_medrxiv\\\\fd96fc1859201e13e35526c188e022fa6e335327.json',\n",
       " './CORD-19-research-challenge/2020-03-13\\\\biorxiv_medrxiv\\\\fda076d8d8b2fb52990e3db1982e4af2ff0fb08e.json',\n",
       " './CORD-19-research-challenge/2020-03-13\\\\biorxiv_medrxiv\\\\fda16c1ee2fbae3368f64a138aa27d972a83e020.json',\n",
       " './CORD-19-research-challenge/2020-03-13\\\\biorxiv_medrxiv\\\\fe09ebcf10de441c0ad0a90f0926ec0aed5a0577.json',\n",
       " './CORD-19-research-challenge/2020-03-13\\\\biorxiv_medrxiv\\\\fe66306680e5be9820e2cc3742b663a782eb1b31.json',\n",
       " './CORD-19-research-challenge/2020-03-13\\\\biorxiv_medrxiv\\\\fe685aa676e739bd52ba2585a7e5b27c55e2d0d6.json',\n",
       " './CORD-19-research-challenge/2020-03-13\\\\biorxiv_medrxiv\\\\feb8807e8418fdd6c4b8816ea761c9a68767a407.json',\n",
       " './CORD-19-research-challenge/2020-03-13\\\\biorxiv_medrxiv\\\\fec0c97b9bdc012b76f082b8bcd6ba0efbb4f5c3.json',\n",
       " './CORD-19-research-challenge/2020-03-13\\\\biorxiv_medrxiv\\\\ff067164497bcfbd9145be223dcd2b05f159dd63.json',\n",
       " './CORD-19-research-challenge/2020-03-13\\\\biorxiv_medrxiv\\\\ff54e3e961a72eb1d2500166809b3651b2f98cf6.json',\n",
       " './CORD-19-research-challenge/2020-03-13\\\\biorxiv_medrxiv\\\\ff6bd29c8ecd325c4edddb2b050d5f4919db6112.json',\n",
       " './CORD-19-research-challenge/2020-03-13\\\\biorxiv_medrxiv\\\\ff6c0b549e3f20ec78845f981f19687eece4addf.json',\n",
       " './CORD-19-research-challenge/2020-03-13\\\\biorxiv_medrxiv\\\\ffbd7555a337706238c211197b221795e4e35146.json',\n",
       " './CORD-19-research-challenge/2020-03-13\\\\biorxiv_medrxiv\\\\ffbf8ea9948d73572fd052a74afa01b19e6758a3.json',\n",
       " './CORD-19-research-challenge/2020-03-13\\\\biorxiv_medrxiv\\\\ffc9bc4ac6548cb1c03c2c6f088ab1c1c2067c6f.json',\n",
       " './CORD-19-research-challenge/2020-03-13\\\\comm_use_subset\\\\000b7d1517ceebb34e1e3e817695b6de03e2fa78.json',\n",
       " './CORD-19-research-challenge/2020-03-13\\\\comm_use_subset\\\\00142f93c18b07350be89e96372d240372437ed9.json',\n",
       " './CORD-19-research-challenge/2020-03-13\\\\comm_use_subset\\\\0022796bb2112abd2e6423ba2d57751db06049fb.json',\n",
       " './CORD-19-research-challenge/2020-03-13\\\\comm_use_subset\\\\00326efcca0852dc6e39dc6b7786267e1bc4f194.json',\n",
       " './CORD-19-research-challenge/2020-03-13\\\\comm_use_subset\\\\00352a58c8766861effed18a4b079d1683fec2ec.json',\n",
       " './CORD-19-research-challenge/2020-03-13\\\\comm_use_subset\\\\0043d044273b8eb1585d3a66061e9b4e03edc062.json',\n",
       " './CORD-19-research-challenge/2020-03-13\\\\comm_use_subset\\\\0049ba8861864506e1e8559e7815f4de8b03dbed.json',\n",
       " './CORD-19-research-challenge/2020-03-13\\\\comm_use_subset\\\\00623bf2715e25d3acacb3f210d6888ed840e3cb.json',\n",
       " './CORD-19-research-challenge/2020-03-13\\\\comm_use_subset\\\\0072159e1ebecc889e9bcabb58bb45c47e18a403.json',\n",
       " './CORD-19-research-challenge/2020-03-13\\\\comm_use_subset\\\\007618ad76a3548195ab5d11c1e2459931c91cd1.json',\n",
       " './CORD-19-research-challenge/2020-03-13\\\\comm_use_subset\\\\007bf75961da42a7e0cc8e2855e5c208a5ec65c1.json',\n",
       " './CORD-19-research-challenge/2020-03-13\\\\comm_use_subset\\\\0080d3bd9fb92e022c27715c2d1249042aa998b8.json',\n",
       " './CORD-19-research-challenge/2020-03-13\\\\comm_use_subset\\\\0089aa4b17549b9774f13a9e2e12a84fc827d60b.json',\n",
       " './CORD-19-research-challenge/2020-03-13\\\\comm_use_subset\\\\008c1ceaeffe7abc87b031af39fae2632fa72897.json',\n",
       " './CORD-19-research-challenge/2020-03-13\\\\comm_use_subset\\\\008d980cbcc283a9b707de3d9a02573dde8528ac.json',\n",
       " './CORD-19-research-challenge/2020-03-13\\\\comm_use_subset\\\\009002e8a66b8c1df088cf04069629fd76b13bb9.json',\n",
       " './CORD-19-research-challenge/2020-03-13\\\\comm_use_subset\\\\0093f9ae0861afc0d29fff935ae6a3af898cea00.json',\n",
       " './CORD-19-research-challenge/2020-03-13\\\\comm_use_subset\\\\0094b25e2500306fadbdfb41d520f2970bb086d3.json',\n",
       " './CORD-19-research-challenge/2020-03-13\\\\comm_use_subset\\\\00951716e01c8e0cc341770389fc38d1b5455210.json',\n",
       " './CORD-19-research-challenge/2020-03-13\\\\comm_use_subset\\\\009892e02bc1a4c9abf6f547b979e68ecbde8087.json',\n",
       " './CORD-19-research-challenge/2020-03-13\\\\comm_use_subset\\\\00acd3fd31ed0cde8df286697caefc5298e54df1.json',\n",
       " './CORD-19-research-challenge/2020-03-13\\\\comm_use_subset\\\\00ae0041374cbbf28df0d2cbeb08c1396a4f7878.json',\n",
       " './CORD-19-research-challenge/2020-03-13\\\\comm_use_subset\\\\00af80743cef9bd8c04c532d74e9c67f0c9312e4.json',\n",
       " './CORD-19-research-challenge/2020-03-13\\\\comm_use_subset\\\\00b88130d2a7c8489e209742494303b6731d7544.json',\n",
       " './CORD-19-research-challenge/2020-03-13\\\\comm_use_subset\\\\00c19aff3efc6e6430f77d81580ac927990ad5a2.json',\n",
       " './CORD-19-research-challenge/2020-03-13\\\\comm_use_subset\\\\00c88aab2bfcca0db253c972382e5eee245d071e.json',\n",
       " './CORD-19-research-challenge/2020-03-13\\\\comm_use_subset\\\\00cb1a95986171a256f5ef14701bd8f571221a28.json',\n",
       " './CORD-19-research-challenge/2020-03-13\\\\comm_use_subset\\\\00ccc4ef2b6c6f238836b7feb5123bd6a822cc08.json',\n",
       " './CORD-19-research-challenge/2020-03-13\\\\comm_use_subset\\\\00cf719db65d07c0c7bdea9defaea448fc5f5786.json',\n",
       " './CORD-19-research-challenge/2020-03-13\\\\comm_use_subset\\\\00dce8da5fcee849b30c9d7a7e358c5855b14ca9.json',\n",
       " './CORD-19-research-challenge/2020-03-13\\\\comm_use_subset\\\\00f1ef126735474ccaf3a8d1cce9a4823d7f1228.json',\n",
       " './CORD-19-research-challenge/2020-03-13\\\\comm_use_subset\\\\00f7d667e3362066c08f7d6594d1d3b0cb16e08e.json',\n",
       " './CORD-19-research-challenge/2020-03-13\\\\comm_use_subset\\\\00fcc6277c19f6b180232d7a6fe0b0abfafb21f7.json',\n",
       " './CORD-19-research-challenge/2020-03-13\\\\comm_use_subset\\\\010ad052b58172981e089bc73b9ad16a732960f2.json',\n",
       " './CORD-19-research-challenge/2020-03-13\\\\comm_use_subset\\\\01110a24b6ce133ae80d21a36c7994e364ba296c.json',\n",
       " './CORD-19-research-challenge/2020-03-13\\\\comm_use_subset\\\\0113b9a8d82039e8474e887038d643853b5fdfeb.json',\n",
       " './CORD-19-research-challenge/2020-03-13\\\\comm_use_subset\\\\0116dea9b6d4c58748d1a38b69b4fe6e06868aa4.json',\n",
       " './CORD-19-research-challenge/2020-03-13\\\\comm_use_subset\\\\011b8a7002da6c0fae7ca76c127567a6462daf5d.json',\n",
       " './CORD-19-research-challenge/2020-03-13\\\\comm_use_subset\\\\01234cee305e37a78cedea8148bf6177d47fe66b.json',\n",
       " './CORD-19-research-challenge/2020-03-13\\\\comm_use_subset\\\\01285aff189f375f52b762256d8f419ccad3077c.json',\n",
       " './CORD-19-research-challenge/2020-03-13\\\\comm_use_subset\\\\012debf5a240a496518af146ddfc16c958339c2b.json',\n",
       " './CORD-19-research-challenge/2020-03-13\\\\comm_use_subset\\\\0132b8c2721692d9f53bd33a738fa94618bb4e91.json',\n",
       " './CORD-19-research-challenge/2020-03-13\\\\comm_use_subset\\\\013ff749a58f92db7e227f7acbe47d050175851c.json',\n",
       " './CORD-19-research-challenge/2020-03-13\\\\comm_use_subset\\\\014336e4855d194c1833ba91c8ae3b302cbeafe2.json',\n",
       " './CORD-19-research-challenge/2020-03-13\\\\comm_use_subset\\\\014d7df59dc6c5ed456bf19b76b394e920d3a9dc.json',\n",
       " './CORD-19-research-challenge/2020-03-13\\\\comm_use_subset\\\\015729be3f439e9ef2033276a4ef14df8873dda9.json',\n",
       " './CORD-19-research-challenge/2020-03-13\\\\comm_use_subset\\\\015a5be4701f244a51d6c244c2ba5b69ac68dd9d.json',\n",
       " './CORD-19-research-challenge/2020-03-13\\\\comm_use_subset\\\\015c335c8cb9e5eabb352e81c0f38bf6f781b202.json',\n",
       " './CORD-19-research-challenge/2020-03-13\\\\comm_use_subset\\\\0162b627476379a84d5a92480a881efdd3063f66.json',\n",
       " './CORD-19-research-challenge/2020-03-13\\\\comm_use_subset\\\\01669153236899edec9fff5fc4fb19a742c3dfef.json',\n",
       " './CORD-19-research-challenge/2020-03-13\\\\comm_use_subset\\\\0180abece22ace6548f4601591c98059808d0509.json',\n",
       " './CORD-19-research-challenge/2020-03-13\\\\comm_use_subset\\\\0181010a40e179c9b66d8b1f0eaac4fbf0ab6341.json',\n",
       " './CORD-19-research-challenge/2020-03-13\\\\comm_use_subset\\\\018269476cd191365d6b8bed046078aea07c8c01.json',\n",
       " './CORD-19-research-challenge/2020-03-13\\\\comm_use_subset\\\\01880ef487dfed3681dd6d296a0a82417b8f38a0.json',\n",
       " './CORD-19-research-challenge/2020-03-13\\\\comm_use_subset\\\\0188acc1eba8c0a3adef55aeada7de552cf855be.json',\n",
       " './CORD-19-research-challenge/2020-03-13\\\\comm_use_subset\\\\018b618ea132d47ffb43b003a6c78cb9eeadc017.json',\n",
       " './CORD-19-research-challenge/2020-03-13\\\\comm_use_subset\\\\01a462bf8cf2cd973d1651b991d27c9556d2ae3c.json',\n",
       " './CORD-19-research-challenge/2020-03-13\\\\comm_use_subset\\\\01b5ae0cce289ca9cdcebc4079f960e833cfbd79.json',\n",
       " './CORD-19-research-challenge/2020-03-13\\\\comm_use_subset\\\\01be6aef7ae6555eef2062bddb57f8643d1244e9.json',\n",
       " './CORD-19-research-challenge/2020-03-13\\\\comm_use_subset\\\\01bf19ea2cb2baab425377eaae3286190e9bf975.json',\n",
       " './CORD-19-research-challenge/2020-03-13\\\\comm_use_subset\\\\01c25f9838ef8e005bf720c4f76e67a9f1038ff0.json',\n",
       " './CORD-19-research-challenge/2020-03-13\\\\comm_use_subset\\\\01c6c44650ad5466cdb134a28d0b14700fa3906d.json',\n",
       " './CORD-19-research-challenge/2020-03-13\\\\comm_use_subset\\\\01c6ed4b3dee404e4d908af40ab93183b573e9ec.json',\n",
       " './CORD-19-research-challenge/2020-03-13\\\\comm_use_subset\\\\01cadfe2bb23b6989e57fce2ba744691557faa93.json',\n",
       " './CORD-19-research-challenge/2020-03-13\\\\comm_use_subset\\\\01cff21366d475b5bc294c90da89a521b510234a.json',\n",
       " './CORD-19-research-challenge/2020-03-13\\\\comm_use_subset\\\\01e22956c79df3220a67bce71cf22de95d29b723.json',\n",
       " './CORD-19-research-challenge/2020-03-13\\\\comm_use_subset\\\\02049ffbdb20997055c4def3516af0e6e40dd427.json',\n",
       " './CORD-19-research-challenge/2020-03-13\\\\comm_use_subset\\\\021144f6c1945b9bff9ea9e4b04b24dcf53330b4.json',\n",
       " './CORD-19-research-challenge/2020-03-13\\\\comm_use_subset\\\\021af77daa9633d212e816cdbaf9f89240bfa3a0.json',\n",
       " './CORD-19-research-challenge/2020-03-13\\\\comm_use_subset\\\\021fba0f252408868fa29b65686dedb3b3d6bf02.json',\n",
       " './CORD-19-research-challenge/2020-03-13\\\\comm_use_subset\\\\02276a07ed2aa49afe07d97e7d7286b2b6fea532.json',\n",
       " './CORD-19-research-challenge/2020-03-13\\\\comm_use_subset\\\\022efb5d64e88419546d697b6a5a96e6bc8a9fab.json',\n",
       " './CORD-19-research-challenge/2020-03-13\\\\comm_use_subset\\\\0234207cba8165f1e1852b92ae0fa0d9e2f870fb.json',\n",
       " './CORD-19-research-challenge/2020-03-13\\\\comm_use_subset\\\\023858d3191988a37587ab951db561a3db3ae2cd.json',\n",
       " './CORD-19-research-challenge/2020-03-13\\\\comm_use_subset\\\\023af2216525c16fa52a75b99cc91ebb03e93107.json',\n",
       " './CORD-19-research-challenge/2020-03-13\\\\comm_use_subset\\\\023b805a96c852619186f55af4bbbdd5f9fa8156.json',\n",
       " './CORD-19-research-challenge/2020-03-13\\\\comm_use_subset\\\\023dff96542ca1e77e3a1d08a2f3893ca1ebc057.json',\n",
       " './CORD-19-research-challenge/2020-03-13\\\\comm_use_subset\\\\0241ada1b12eaacadc56a59586bc1728a580583d.json',\n",
       " './CORD-19-research-challenge/2020-03-13\\\\comm_use_subset\\\\02480623218229a12cdbc4800defc262f7cc175c.json',\n",
       " './CORD-19-research-challenge/2020-03-13\\\\comm_use_subset\\\\024d0bef5417a110fb52607e85ec80eb4d7d92a3.json',\n",
       " './CORD-19-research-challenge/2020-03-13\\\\comm_use_subset\\\\025509677d6507aaf63c46fc8efbe60b6d63a820.json',\n",
       " './CORD-19-research-challenge/2020-03-13\\\\comm_use_subset\\\\0257dffb6a2cc8bdf6d252c400a38419ef256505.json',\n",
       " './CORD-19-research-challenge/2020-03-13\\\\comm_use_subset\\\\0257e6797e12beb91a4a4fcd7130f90d84260718.json',\n",
       " './CORD-19-research-challenge/2020-03-13\\\\comm_use_subset\\\\0263ef539a1344a642b1f4ff11aee6bc6ca84a34.json',\n",
       " './CORD-19-research-challenge/2020-03-13\\\\comm_use_subset\\\\026447f6e8f25d774926c5f38f8c8ae1f62aa54d.json',\n",
       " './CORD-19-research-challenge/2020-03-13\\\\comm_use_subset\\\\02652961663ca435c195fb0ed3e43642e04cfab3.json',\n",
       " './CORD-19-research-challenge/2020-03-13\\\\comm_use_subset\\\\0266337807a2aab25e7dc43967cba01860fe5d86.json',\n",
       " './CORD-19-research-challenge/2020-03-13\\\\comm_use_subset\\\\026c59766e222f22b416a6525ae3194a140b5faa.json',\n",
       " './CORD-19-research-challenge/2020-03-13\\\\comm_use_subset\\\\02753048c4dc699d155288935b9dc6517a79f279.json',\n",
       " './CORD-19-research-challenge/2020-03-13\\\\comm_use_subset\\\\02766b20eeb39ff051a2f110def2e4bf8b9b010b.json',\n",
       " './CORD-19-research-challenge/2020-03-13\\\\comm_use_subset\\\\02783b0989ab6a54fd4af139d787b69b9d9d009e.json',\n",
       " './CORD-19-research-challenge/2020-03-13\\\\comm_use_subset\\\\027f86c44365e0ba6a6c26e24134c4c3e98a72ef.json',\n",
       " './CORD-19-research-challenge/2020-03-13\\\\comm_use_subset\\\\028382edbe67a35f1e099fa0607fa9a4922a45d1.json',\n",
       " './CORD-19-research-challenge/2020-03-13\\\\comm_use_subset\\\\02843e9be924677d6541e0221a26501ce2111aaa.json',\n",
       " './CORD-19-research-challenge/2020-03-13\\\\comm_use_subset\\\\0293ec2b1cf8097392297cffd06854d2f37348f4.json',\n",
       " './CORD-19-research-challenge/2020-03-13\\\\comm_use_subset\\\\02974b9466bf593193d05ada669d7ff0567bb657.json',\n",
       " './CORD-19-research-challenge/2020-03-13\\\\comm_use_subset\\\\02998402c64a65e3ea2fd0fdd8f688aeebda6192.json',\n",
       " './CORD-19-research-challenge/2020-03-13\\\\comm_use_subset\\\\02a009e42054081b441d0f4b203679c4b0cae38d.json',\n",
       " './CORD-19-research-challenge/2020-03-13\\\\comm_use_subset\\\\02a29bd2f39ecdbbb5e51a003c0bc7818029f384.json',\n",
       " './CORD-19-research-challenge/2020-03-13\\\\comm_use_subset\\\\02a9fd5f564cb3a5b6b1fdbcd9df585b8e24a2de.json',\n",
       " './CORD-19-research-challenge/2020-03-13\\\\comm_use_subset\\\\02aabb0b8eb8a3f3692e162442bbed19c5f915b6.json',\n",
       " './CORD-19-research-challenge/2020-03-13\\\\comm_use_subset\\\\02b20ad26d6b2f05b38712292186edbf3aa05862.json',\n",
       " './CORD-19-research-challenge/2020-03-13\\\\comm_use_subset\\\\02b8dea56378d11fe92d6a60ff37a34b0d6ea63e.json',\n",
       " './CORD-19-research-challenge/2020-03-13\\\\comm_use_subset\\\\02bfb4c09489a5f48c23e8441e37b055bf7228ee.json',\n",
       " './CORD-19-research-challenge/2020-03-13\\\\comm_use_subset\\\\02c4e304d5e063e9bd66d293a8c1472a5865c173.json',\n",
       " './CORD-19-research-challenge/2020-03-13\\\\comm_use_subset\\\\02c9b77cb2898b1597278dbf32a0c61be93d1983.json',\n",
       " './CORD-19-research-challenge/2020-03-13\\\\comm_use_subset\\\\02d808df510466b74102dd922486bf922a5ed947.json',\n",
       " './CORD-19-research-challenge/2020-03-13\\\\comm_use_subset\\\\02da3b3b4a31f4e15f06a0f076524bea9ab0f92a.json',\n",
       " './CORD-19-research-challenge/2020-03-13\\\\comm_use_subset\\\\02e34b2fe0968cb8a46313fe767858da7e2691b1.json',\n",
       " './CORD-19-research-challenge/2020-03-13\\\\comm_use_subset\\\\02fdaf97dd0af539eada2af2f1563e0d77a28f92.json',\n",
       " './CORD-19-research-challenge/2020-03-13\\\\comm_use_subset\\\\02fe68e2ba45e7f0c6f746d4b3db36f8f99ae4f5.json',\n",
       " './CORD-19-research-challenge/2020-03-13\\\\comm_use_subset\\\\0304ed96b29c38014a17bacefcc294a02c04d0a0.json',\n",
       " './CORD-19-research-challenge/2020-03-13\\\\comm_use_subset\\\\03148d1ba3c986ec7306ab2a90bcd6082c512f49.json',\n",
       " './CORD-19-research-challenge/2020-03-13\\\\comm_use_subset\\\\031fd47b33af0e00eeb5e76c0d010df92df6bef6.json',\n",
       " './CORD-19-research-challenge/2020-03-13\\\\comm_use_subset\\\\03203ab50eb64271a9e825f94a1b1a6c46ea14b3.json',\n",
       " './CORD-19-research-challenge/2020-03-13\\\\comm_use_subset\\\\0326bf875d2a22d7c4a4328dcd34c2d801fd110e.json',\n",
       " './CORD-19-research-challenge/2020-03-13\\\\comm_use_subset\\\\0330ede445d96dd0a27f474f945d6ce2e7085f15.json',\n",
       " './CORD-19-research-challenge/2020-03-13\\\\comm_use_subset\\\\033321dcd825a79a8ba380ba3d52d4ea71f45c81.json',\n",
       " './CORD-19-research-challenge/2020-03-13\\\\comm_use_subset\\\\033460fbe61491f8505732ee22a5cb3387f3e4a3.json',\n",
       " './CORD-19-research-challenge/2020-03-13\\\\comm_use_subset\\\\033b167546d99b583a32a437dc71c73bdad6e83d.json',\n",
       " './CORD-19-research-challenge/2020-03-13\\\\comm_use_subset\\\\034cab326c750ea98f621e9c65371b8f139fbfb4.json',\n",
       " './CORD-19-research-challenge/2020-03-13\\\\comm_use_subset\\\\035dfb6e2398c95bbf6b65db97b443908a43e093.json',\n",
       " './CORD-19-research-challenge/2020-03-13\\\\comm_use_subset\\\\035f1d6b6c461d045fd19d69e4e9c1de221f4a0d.json',\n",
       " './CORD-19-research-challenge/2020-03-13\\\\comm_use_subset\\\\036bbd8c099c5721274abb4067872f2a68b6193a.json',\n",
       " './CORD-19-research-challenge/2020-03-13\\\\comm_use_subset\\\\03774b269b5de5338590b1960b6468881604a3dc.json',\n",
       " './CORD-19-research-challenge/2020-03-13\\\\comm_use_subset\\\\03797126b6e6689cc02878e641e5271d3b9a5d3b.json',\n",
       " './CORD-19-research-challenge/2020-03-13\\\\comm_use_subset\\\\0391c13dbb9949494913c209424ed61d3a652753.json',\n",
       " './CORD-19-research-challenge/2020-03-13\\\\comm_use_subset\\\\0396bc111213d601eeb67ae191530309bdbb6220.json',\n",
       " './CORD-19-research-challenge/2020-03-13\\\\comm_use_subset\\\\039ca136c69c998e9a2677259d9de2941a13304a.json',\n",
       " './CORD-19-research-challenge/2020-03-13\\\\comm_use_subset\\\\039ca723ee32358eb70a084eaee19e1b6adc3033.json',\n",
       " './CORD-19-research-challenge/2020-03-13\\\\comm_use_subset\\\\03a158fb5fcbfccd841b4a9638e840a0302b9459.json',\n",
       " './CORD-19-research-challenge/2020-03-13\\\\comm_use_subset\\\\03ae4b61aa2d9641f38287806612fc16f58d4299.json',\n",
       " './CORD-19-research-challenge/2020-03-13\\\\comm_use_subset\\\\03b35e72b8abfe6c88da27e72b5ecc8e77211dd2.json',\n",
       " './CORD-19-research-challenge/2020-03-13\\\\comm_use_subset\\\\03b9acce84a4799d4be1152a36abfaf52fb3b523.json',\n",
       " './CORD-19-research-challenge/2020-03-13\\\\comm_use_subset\\\\03bb746ba6fb4c250b5f8f9ff0e5013b2c49b8f7.json',\n",
       " './CORD-19-research-challenge/2020-03-13\\\\comm_use_subset\\\\03ca47766e6f3e8d5d71fa25d86803f82d690b38.json',\n",
       " './CORD-19-research-challenge/2020-03-13\\\\comm_use_subset\\\\03d32bf9da6495150f5016a0bf2d4b7647620c7d.json',\n",
       " './CORD-19-research-challenge/2020-03-13\\\\comm_use_subset\\\\03d40dcd5d29728439528bd955afcba42bc0c2b9.json',\n",
       " './CORD-19-research-challenge/2020-03-13\\\\comm_use_subset\\\\03d7c96afa37141562c3ac9297882dbe59d2e0e4.json',\n",
       " './CORD-19-research-challenge/2020-03-13\\\\comm_use_subset\\\\03dce266594748330a10d2d11dbe611bf42aa42d.json',\n",
       " './CORD-19-research-challenge/2020-03-13\\\\comm_use_subset\\\\03e779f9defa0b9cb6a9943947e41b9c1532e3d3.json',\n",
       " './CORD-19-research-challenge/2020-03-13\\\\comm_use_subset\\\\03e9a22249dd6e201e347bb87cf96a931120f5c5.json',\n",
       " './CORD-19-research-challenge/2020-03-13\\\\comm_use_subset\\\\03f315449023c980e42af7eb150d0cd9cab57f5a.json',\n",
       " './CORD-19-research-challenge/2020-03-13\\\\comm_use_subset\\\\03fa4232b3fbc44b6029d52c3120f4e82fdc49c0.json',\n",
       " './CORD-19-research-challenge/2020-03-13\\\\comm_use_subset\\\\03fd3a4ec79ffea2a049338b2818457e98496df6.json',\n",
       " './CORD-19-research-challenge/2020-03-13\\\\comm_use_subset\\\\0401a5bebe76fc07dde0f103a248118ce30facda.json',\n",
       " './CORD-19-research-challenge/2020-03-13\\\\comm_use_subset\\\\04034022f265da392051b3e3fcef2e580247d6c4.json',\n",
       " './CORD-19-research-challenge/2020-03-13\\\\comm_use_subset\\\\040c9714be80e4a337f6737d17e94171c25cc076.json',\n",
       " './CORD-19-research-challenge/2020-03-13\\\\comm_use_subset\\\\0414c8763c6ec295be60d86698ec3a76e981e54f.json',\n",
       " './CORD-19-research-challenge/2020-03-13\\\\comm_use_subset\\\\04299cd1ecb45c984de64da12daf3ccc1fe2abe2.json',\n",
       " './CORD-19-research-challenge/2020-03-13\\\\comm_use_subset\\\\042a57ce54d353b67f9faff39f7829c45dc7b101.json',\n",
       " './CORD-19-research-challenge/2020-03-13\\\\comm_use_subset\\\\042c9d15e000e5ea7b91612b4c10175e88112278.json',\n",
       " './CORD-19-research-challenge/2020-03-13\\\\comm_use_subset\\\\0435b8c5081db34e2c6c62b8f7b998927fa28776.json',\n",
       " './CORD-19-research-challenge/2020-03-13\\\\comm_use_subset\\\\044b6504465e3d1b00fcc328c6731bcd034b1691.json',\n",
       " './CORD-19-research-challenge/2020-03-13\\\\comm_use_subset\\\\0450e1d435d63e69e1867c2eba65c0c08af70038.json',\n",
       " './CORD-19-research-challenge/2020-03-13\\\\comm_use_subset\\\\04510f144938a17bf2c2a9683ce3479ff0246b94.json',\n",
       " './CORD-19-research-challenge/2020-03-13\\\\comm_use_subset\\\\045b111f0f2584890e9271399aa93c917a496662.json',\n",
       " './CORD-19-research-challenge/2020-03-13\\\\comm_use_subset\\\\04603867552ffafcaeff68fe8bf7f190ebb08a78.json',\n",
       " './CORD-19-research-challenge/2020-03-13\\\\comm_use_subset\\\\0469d052ac583aa5b739be7fedecec5307548d49.json',\n",
       " './CORD-19-research-challenge/2020-03-13\\\\comm_use_subset\\\\046a56d635edc933ed8f30ccf1ae9fd488dfe645.json',\n",
       " './CORD-19-research-challenge/2020-03-13\\\\comm_use_subset\\\\04799a6c57e1d3f9488b24a4fc2580bbb3818665.json',\n",
       " './CORD-19-research-challenge/2020-03-13\\\\comm_use_subset\\\\047a76d5e047a00728847bcdd162cb925486d0ab.json',\n",
       " './CORD-19-research-challenge/2020-03-13\\\\comm_use_subset\\\\0480084eefee6333df832a821af8945ea7ab379a.json',\n",
       " './CORD-19-research-challenge/2020-03-13\\\\comm_use_subset\\\\048b240dcabbd623a6cda8c4236ea50d7961315c.json',\n",
       " './CORD-19-research-challenge/2020-03-13\\\\comm_use_subset\\\\0491da5ae5c2fa38824350bde5462ed82ebc24e7.json',\n",
       " './CORD-19-research-challenge/2020-03-13\\\\comm_use_subset\\\\049294a884d39102b06a634ba0f4bd3185fcc478.json',\n",
       " './CORD-19-research-challenge/2020-03-13\\\\comm_use_subset\\\\049d68aa5279d807e4125c33a3d563f6df987cb4.json',\n",
       " './CORD-19-research-challenge/2020-03-13\\\\comm_use_subset\\\\04a02b2f24ba9cf14a860a98b25f65ef2afd73fd.json',\n",
       " './CORD-19-research-challenge/2020-03-13\\\\comm_use_subset\\\\04a0ec4b6cb5eeb0d2cbf2c8ea8829b5c476b1b9.json',\n",
       " './CORD-19-research-challenge/2020-03-13\\\\comm_use_subset\\\\04a253fd34bd82b3cf7868fca967469c66e392ab.json',\n",
       " './CORD-19-research-challenge/2020-03-13\\\\comm_use_subset\\\\04abbb8d91bd1a15a6c70ce3c0bd339f92468265.json',\n",
       " './CORD-19-research-challenge/2020-03-13\\\\comm_use_subset\\\\04b5f15cca91a7b810216682780f8ea6e1ab3046.json',\n",
       " './CORD-19-research-challenge/2020-03-13\\\\comm_use_subset\\\\04b9001d61d666e065f28a9e628991f4d76d71bc.json',\n",
       " './CORD-19-research-challenge/2020-03-13\\\\comm_use_subset\\\\04bc03c90437934a75fc6fdc228817234ef84c3a.json',\n",
       " './CORD-19-research-challenge/2020-03-13\\\\comm_use_subset\\\\04be45dba1c24d640d5da8298c5f01e3165d84c4.json',\n",
       " './CORD-19-research-challenge/2020-03-13\\\\comm_use_subset\\\\04c1c40f4464bc035e57d0ecf2f8a033e4e7f466.json',\n",
       " './CORD-19-research-challenge/2020-03-13\\\\comm_use_subset\\\\04c221e49d8355ce52360d5e37dc583f6502cc92.json',\n",
       " './CORD-19-research-challenge/2020-03-13\\\\comm_use_subset\\\\04c80346278c76be38e11fba9ee1a0fccc13c57f.json',\n",
       " './CORD-19-research-challenge/2020-03-13\\\\comm_use_subset\\\\04cf308cfa2f72131ecbb07bacb894bab15aa66e.json',\n",
       " './CORD-19-research-challenge/2020-03-13\\\\comm_use_subset\\\\04d02a37dcbb17916d2a5c03288cb9b59000ebba.json',\n",
       " './CORD-19-research-challenge/2020-03-13\\\\comm_use_subset\\\\04d638b3c1d8b8fcd771e569e439b364d4ac2c1a.json',\n",
       " './CORD-19-research-challenge/2020-03-13\\\\comm_use_subset\\\\04d774680876efd10e478ed5f2ef7a7a2e860acf.json',\n",
       " './CORD-19-research-challenge/2020-03-13\\\\comm_use_subset\\\\04d9df812fd77e1231263d42ab45e570cd94d956.json',\n",
       " './CORD-19-research-challenge/2020-03-13\\\\comm_use_subset\\\\04dc7b970967766934f12292c0a007ebabe22652.json',\n",
       " './CORD-19-research-challenge/2020-03-13\\\\comm_use_subset\\\\04e314a46a06814267d29c2e6dfc00bf4121cc94.json',\n",
       " './CORD-19-research-challenge/2020-03-13\\\\comm_use_subset\\\\04ed44ad0aed30771e1ba0f38e4aa00101d1b8c3.json',\n",
       " './CORD-19-research-challenge/2020-03-13\\\\comm_use_subset\\\\04f4cff6c1a32e0edb50bdb8daf00f82708a5142.json',\n",
       " './CORD-19-research-challenge/2020-03-13\\\\comm_use_subset\\\\04fa24d6f02d6b2fd44a0cb7aa2a7e7149e6cacc.json',\n",
       " './CORD-19-research-challenge/2020-03-13\\\\comm_use_subset\\\\050e73f86cfa4ab3f3fc84b0cb55ac779fb9abc2.json',\n",
       " './CORD-19-research-challenge/2020-03-13\\\\comm_use_subset\\\\0511ed1c3e91902ab662c81f8fc20c83a840e8d0.json',\n",
       " './CORD-19-research-challenge/2020-03-13\\\\comm_use_subset\\\\05186884eb6aed574507e7f0f9316375ffbc6494.json',\n",
       " './CORD-19-research-challenge/2020-03-13\\\\comm_use_subset\\\\05192151667b1bb4e3405de11f6e4ae2f844e7c5.json',\n",
       " './CORD-19-research-challenge/2020-03-13\\\\comm_use_subset\\\\051cf89045450e5eff3fc9ba4fdc518fe1d623b8.json',\n",
       " './CORD-19-research-challenge/2020-03-13\\\\comm_use_subset\\\\05252b1035b0647c566b72ef0ef269f3fc385c90.json',\n",
       " './CORD-19-research-challenge/2020-03-13\\\\comm_use_subset\\\\05257a2230897ea006b3f68dbf0d71e1e7216f55.json',\n",
       " './CORD-19-research-challenge/2020-03-13\\\\comm_use_subset\\\\0529ed2074b15413b032e82de1fcce37efde51a2.json',\n",
       " './CORD-19-research-challenge/2020-03-13\\\\comm_use_subset\\\\052a16d442ede77ed4bdeaa05037270f251dedc4.json',\n",
       " ...]"
      ]
     },
     "execution_count": 54,
     "metadata": {},
     "output_type": "execute_result"
    }
   ],
   "source": [
    "json_filenames"
   ]
  },
  {
   "cell_type": "markdown",
   "metadata": {},
   "source": [
    "### Iterate over the files and populate the data frame. "
   ]
  },
  {
   "cell_type": "code",
   "execution_count": 55,
   "metadata": {
    "ExecuteTime": {
     "end_time": "2020-04-25T16:57:00.661621Z",
     "start_time": "2020-04-25T16:57:00.650615Z"
    }
   },
   "outputs": [],
   "source": [
    "################################################################################################\n",
    "#\n",
    "#    Title: Create Corona.csv File\n",
    "#    Author: Frank Mitchell\n",
    "#    Date: 2020\n",
    "#    Code version: 1\n",
    "#    Availability: https://www.kaggle.com/fmitchell259/create-corona-csv-file\n",
    "# \n",
    "################################################################################################\n",
    "\n",
    "def return_corona_df(json_filenames, df, source):\n",
    "\n",
    "    for file_name in json_filenames:\n",
    "\n",
    "        row = {\"doc_id\": None, \"source\": None, \"title\": None,\n",
    "              \"abstract\": None, \"text_body\": None}\n",
    "\n",
    "        with open(file_name) as json_data:\n",
    "            data = json.load(json_data)\n",
    "\n",
    "            row['doc_id'] = data['paper_id']\n",
    "            row['title'] = data['metadata']['title']\n",
    "\n",
    "            abstract_list = [data['abstract'][x]['text'] for x in range(len(data['abstract']) - 1)]\n",
    "            abstract = \"\\n \".join(abstract_list)\n",
    "\n",
    "            row['abstract'] = abstract\n",
    "            \n",
    "            body_list = []\n",
    "            for _ in range(len(data['body_text'])):\n",
    "                try:\n",
    "                    body_list.append(data['body_text'][_]['text'])\n",
    "                except:\n",
    "                    pass\n",
    "\n",
    "            body = \"\\n \".join(body_list)\n",
    "            \n",
    "            row['text_body'] = body\n",
    "            \n",
    "            if source == 'b':\n",
    "                row['source'] = \"biorxiv_medrxiv\"\n",
    "            elif source == \"c\":\n",
    "                row['source'] = \"common_use_sub\"\n",
    "            elif source == \"n\":\n",
    "                row['source'] = \"non_common_use\"\n",
    "            elif source == \"p\":\n",
    "                row['source'] = \"pmc_custom_license\"\n",
    "            \n",
    "            df = df.append(row, ignore_index=True)\n",
    "    \n",
    "    return df"
   ]
  },
  {
   "cell_type": "code",
   "execution_count": 56,
   "metadata": {
    "ExecuteTime": {
     "end_time": "2020-04-25T16:59:01.799644Z",
     "start_time": "2020-04-25T16:57:01.579642Z"
    }
   },
   "outputs": [],
   "source": [
    "corona_df = return_corona_df(json_filenames, corona_df, 'b')"
   ]
  },
  {
   "cell_type": "code",
   "execution_count": 57,
   "metadata": {
    "ExecuteTime": {
     "end_time": "2020-04-25T16:59:01.813640Z",
     "start_time": "2020-04-25T16:59:01.803645Z"
    }
   },
   "outputs": [
    {
     "data": {
      "text/plain": [
       "(13203, 5)"
      ]
     },
     "execution_count": 57,
     "metadata": {},
     "output_type": "execute_result"
    }
   ],
   "source": [
    "corona_df.shape"
   ]
  },
  {
   "cell_type": "code",
   "execution_count": 58,
   "metadata": {
    "ExecuteTime": {
     "end_time": "2020-04-25T16:59:24.504919Z",
     "start_time": "2020-04-25T16:59:17.420756Z"
    }
   },
   "outputs": [],
   "source": [
    "corona_out = corona_df.to_csv('kaggle_covid19.csv')"
   ]
  },
  {
   "cell_type": "code",
   "execution_count": 59,
   "metadata": {
    "ExecuteTime": {
     "end_time": "2020-04-25T16:59:25.456577Z",
     "start_time": "2020-04-25T16:59:25.441578Z"
    }
   },
   "outputs": [
    {
     "data": {
      "text/html": [
       "<div>\n",
       "<style scoped>\n",
       "    .dataframe tbody tr th:only-of-type {\n",
       "        vertical-align: middle;\n",
       "    }\n",
       "\n",
       "    .dataframe tbody tr th {\n",
       "        vertical-align: top;\n",
       "    }\n",
       "\n",
       "    .dataframe thead th {\n",
       "        text-align: right;\n",
       "    }\n",
       "</style>\n",
       "<table border=\"1\" class=\"dataframe\">\n",
       "  <thead>\n",
       "    <tr style=\"text-align: right;\">\n",
       "      <th></th>\n",
       "      <th>doc_id</th>\n",
       "      <th>source</th>\n",
       "      <th>title</th>\n",
       "      <th>abstract</th>\n",
       "      <th>text_body</th>\n",
       "    </tr>\n",
       "  </thead>\n",
       "  <tbody>\n",
       "    <tr>\n",
       "      <th>0</th>\n",
       "      <td>None</td>\n",
       "      <td>None</td>\n",
       "      <td>None</td>\n",
       "      <td>None</td>\n",
       "      <td>None</td>\n",
       "    </tr>\n",
       "    <tr>\n",
       "      <th>1</th>\n",
       "      <td>0015023cc06b5362d332b3baf348d11567ca2fbb</td>\n",
       "      <td>biorxiv_medrxiv</td>\n",
       "      <td>The RNA pseudoknots in foot-and-mouth disease virus are dispensable for genome replication but e...</td>\n",
       "      <td>word count: 194 22 Text word count: 5168 23 24 25 author/funder. All rights reserved. No reuse a...</td>\n",
       "      <td>VP3, and VP0 (which is further processed to VP2 and VP4 during virus assembly) (6). The P2 64 an...</td>\n",
       "    </tr>\n",
       "    <tr>\n",
       "      <th>2</th>\n",
       "      <td>004f0f8bb66cf446678dc13cf2701feec4f36d76</td>\n",
       "      <td>biorxiv_medrxiv</td>\n",
       "      <td>Healthcare-resource-adjusted vulnerabilities towards the 2019-nCoV epidemic across China</td>\n",
       "      <td></td>\n",
       "      <td>The 2019-nCoV epidemic has spread across China and 24 other countries 1-3 as of February 8, 2020...</td>\n",
       "    </tr>\n",
       "    <tr>\n",
       "      <th>3</th>\n",
       "      <td>00d16927588fb04d4be0e6b269fc02f0d3c2aa7b</td>\n",
       "      <td>biorxiv_medrxiv</td>\n",
       "      <td>Real-time, MinION-based, amplicon sequencing for lineage typing of infectious bronchitis virus f...</td>\n",
       "      <td>Infectious bronchitis (IB) causes significant economic losses in the global poultry industry. Co...</td>\n",
       "      <td>Infectious bronchitis (IB), which is caused by infectious bronchitis virus (IBV), is one of the ...</td>\n",
       "    </tr>\n",
       "    <tr>\n",
       "      <th>4</th>\n",
       "      <td>013d9d1cba8a54d5d3718c229b812d7cf91b6c89</td>\n",
       "      <td>biorxiv_medrxiv</td>\n",
       "      <td>Assessing spread risk of Wuhan novel coronavirus within and beyond China, January-April 2020: a ...</td>\n",
       "      <td></td>\n",
       "      <td>In December 2019, a cluster of patients with pneumonia of unknown cause were reported in the cit...</td>\n",
       "    </tr>\n",
       "  </tbody>\n",
       "</table>\n",
       "</div>"
      ],
      "text/plain": [
       "                                     doc_id           source  \\\n",
       "0                                      None             None   \n",
       "1  0015023cc06b5362d332b3baf348d11567ca2fbb  biorxiv_medrxiv   \n",
       "2  004f0f8bb66cf446678dc13cf2701feec4f36d76  biorxiv_medrxiv   \n",
       "3  00d16927588fb04d4be0e6b269fc02f0d3c2aa7b  biorxiv_medrxiv   \n",
       "4  013d9d1cba8a54d5d3718c229b812d7cf91b6c89  biorxiv_medrxiv   \n",
       "\n",
       "                                                                                                 title  \\\n",
       "0                                                                                                 None   \n",
       "1  The RNA pseudoknots in foot-and-mouth disease virus are dispensable for genome replication but e...   \n",
       "2             Healthcare-resource-adjusted vulnerabilities towards the 2019-nCoV epidemic across China   \n",
       "3  Real-time, MinION-based, amplicon sequencing for lineage typing of infectious bronchitis virus f...   \n",
       "4  Assessing spread risk of Wuhan novel coronavirus within and beyond China, January-April 2020: a ...   \n",
       "\n",
       "                                                                                              abstract  \\\n",
       "0                                                                                                 None   \n",
       "1  word count: 194 22 Text word count: 5168 23 24 25 author/funder. All rights reserved. No reuse a...   \n",
       "2                                                                                                        \n",
       "3  Infectious bronchitis (IB) causes significant economic losses in the global poultry industry. Co...   \n",
       "4                                                                                                        \n",
       "\n",
       "                                                                                             text_body  \n",
       "0                                                                                                 None  \n",
       "1  VP3, and VP0 (which is further processed to VP2 and VP4 during virus assembly) (6). The P2 64 an...  \n",
       "2  The 2019-nCoV epidemic has spread across China and 24 other countries 1-3 as of February 8, 2020...  \n",
       "3  Infectious bronchitis (IB), which is caused by infectious bronchitis virus (IBV), is one of the ...  \n",
       "4  In December 2019, a cluster of patients with pneumonia of unknown cause were reported in the cit...  "
      ]
     },
     "execution_count": 59,
     "metadata": {},
     "output_type": "execute_result"
    }
   ],
   "source": [
    "corona_df.head()"
   ]
  },
  {
   "cell_type": "markdown",
   "metadata": {},
   "source": [
    "### Load All Sources Metadata"
   ]
  },
  {
   "cell_type": "code",
   "execution_count": 60,
   "metadata": {
    "ExecuteTime": {
     "end_time": "2020-04-25T16:59:37.439981Z",
     "start_time": "2020-04-25T16:59:29.387576Z"
    }
   },
   "outputs": [],
   "source": [
    "sources = pd.read_csv('./CORD-19-research-challenge/2020-03-13/all_sources_metadata_2020-03-13.csv')\n",
    "\n",
    "sources.drop_duplicates(subset=['sha'], inplace=True)\n",
    "\n",
    "def doi_url(d):\n",
    "    if d.startswith('http://'):\n",
    "        return d\n",
    "    elif d.startswith('doi.org'):\n",
    "        return f'http://{d}'\n",
    "    else:\n",
    "        return f'http://doi.org/{d}'\n",
    "\n",
    "sources.doi = sources.doi.fillna('').apply(doi_url)\n",
    "\n",
    "papers = pd.read_csv('kaggle_covid19.csv')\n",
    "papers = papers.iloc[1:, 1:].reset_index(drop=True)"
   ]
  },
  {
   "cell_type": "markdown",
   "metadata": {},
   "source": [
    "### Merge All Data Frames"
   ]
  },
  {
   "cell_type": "code",
   "execution_count": 61,
   "metadata": {
    "ExecuteTime": {
     "end_time": "2020-04-25T16:59:39.811610Z",
     "start_time": "2020-04-25T16:59:39.749579Z"
    }
   },
   "outputs": [],
   "source": [
    "cols_to_use = sources.columns.difference(papers.columns)\n",
    "all_data = pd.merge(papers, sources[cols_to_use], left_on='doc_id', right_on='sha', how='left')"
   ]
  },
  {
   "cell_type": "code",
   "execution_count": 62,
   "metadata": {
    "ExecuteTime": {
     "end_time": "2020-04-25T16:59:48.587501Z",
     "start_time": "2020-04-25T16:59:40.944589Z"
    }
   },
   "outputs": [],
   "source": [
    "all_data.to_csv('Kaggle_Covid19_All_Sources.csv')"
   ]
  },
  {
   "cell_type": "markdown",
   "metadata": {},
   "source": [
    "### Upload from CSV into Data Frame for building LDA model"
   ]
  },
  {
   "cell_type": "code",
   "execution_count": 63,
   "metadata": {
    "ExecuteTime": {
     "end_time": "2020-04-25T16:59:53.183026Z",
     "start_time": "2020-04-25T16:59:48.591460Z"
    }
   },
   "outputs": [],
   "source": [
    "all_data = pd.read_csv('Kaggle_Covid19_All_Sources.csv')"
   ]
  },
  {
   "cell_type": "markdown",
   "metadata": {},
   "source": [
    "### Data Preparations"
   ]
  },
  {
   "cell_type": "code",
   "execution_count": 64,
   "metadata": {
    "ExecuteTime": {
     "end_time": "2020-04-25T16:59:54.155022Z",
     "start_time": "2020-04-25T16:59:54.123025Z"
    }
   },
   "outputs": [],
   "source": [
    "all_data['publish_year'] = all_data.publish_time.str[:4].fillna(-1).astype(int) # 360 times None\n",
    "\n",
    "all_data.title = all_data.title.astype(str) # change to string, there are also some numeric values"
   ]
  },
  {
   "cell_type": "code",
   "execution_count": 65,
   "metadata": {
    "ExecuteTime": {
     "end_time": "2020-04-25T16:59:55.195178Z",
     "start_time": "2020-04-25T16:59:55.158172Z"
    }
   },
   "outputs": [
    {
     "data": {
      "text/html": [
       "<div>\n",
       "<style scoped>\n",
       "    .dataframe tbody tr th:only-of-type {\n",
       "        vertical-align: middle;\n",
       "    }\n",
       "\n",
       "    .dataframe tbody tr th {\n",
       "        vertical-align: top;\n",
       "    }\n",
       "\n",
       "    .dataframe thead th {\n",
       "        text-align: right;\n",
       "    }\n",
       "</style>\n",
       "<table border=\"1\" class=\"dataframe\">\n",
       "  <thead>\n",
       "    <tr style=\"text-align: right;\">\n",
       "      <th></th>\n",
       "      <th>Unnamed: 0</th>\n",
       "      <th>doc_id</th>\n",
       "      <th>source</th>\n",
       "      <th>title</th>\n",
       "      <th>abstract</th>\n",
       "      <th>text_body</th>\n",
       "      <th>Microsoft Academic Paper ID</th>\n",
       "      <th>WHO #Covidence</th>\n",
       "      <th>authors</th>\n",
       "      <th>doi</th>\n",
       "      <th>has_full_text</th>\n",
       "      <th>journal</th>\n",
       "      <th>license</th>\n",
       "      <th>pmcid</th>\n",
       "      <th>publish_time</th>\n",
       "      <th>pubmed_id</th>\n",
       "      <th>sha</th>\n",
       "      <th>source_x</th>\n",
       "      <th>publish_year</th>\n",
       "    </tr>\n",
       "  </thead>\n",
       "  <tbody>\n",
       "    <tr>\n",
       "      <th>0</th>\n",
       "      <td>0</td>\n",
       "      <td>0015023cc06b5362d332b3baf348d11567ca2fbb</td>\n",
       "      <td>biorxiv_medrxiv</td>\n",
       "      <td>The RNA pseudoknots in foot-and-mouth disease virus are dispensable for genome replication but e...</td>\n",
       "      <td>word count: 194 22 Text word count: 5168 23 24 25 author/funder. All rights reserved. No reuse a...</td>\n",
       "      <td>VP3, and VP0 (which is further processed to VP2 and VP4 during virus assembly) (6). The P2 64 an...</td>\n",
       "      <td>NaN</td>\n",
       "      <td>NaN</td>\n",
       "      <td>Ward, J. C. J.; Lasecka-Dykes, L.; Neil, C.; Adeyemi, O.; Gold, S.; McLean, N.; Wright, C.; Hero...</td>\n",
       "      <td>http://doi.org/10.1101/2020.01.10.901801</td>\n",
       "      <td>True</td>\n",
       "      <td>NaN</td>\n",
       "      <td>See https://www.biorxiv.org/about-biorxiv</td>\n",
       "      <td>NaN</td>\n",
       "      <td>2020-01-11</td>\n",
       "      <td>NaN</td>\n",
       "      <td>0015023cc06b5362d332b3baf348d11567ca2fbb</td>\n",
       "      <td>biorxiv</td>\n",
       "      <td>2020</td>\n",
       "    </tr>\n",
       "    <tr>\n",
       "      <th>1</th>\n",
       "      <td>1</td>\n",
       "      <td>004f0f8bb66cf446678dc13cf2701feec4f36d76</td>\n",
       "      <td>biorxiv_medrxiv</td>\n",
       "      <td>Healthcare-resource-adjusted vulnerabilities towards the 2019-nCoV epidemic across China</td>\n",
       "      <td>NaN</td>\n",
       "      <td>The 2019-nCoV epidemic has spread across China and 24 other countries 1-3 as of February 8, 2020...</td>\n",
       "      <td>NaN</td>\n",
       "      <td>NaN</td>\n",
       "      <td>NaN</td>\n",
       "      <td>http://doi.org/10.1101/2020.02.11.20022111</td>\n",
       "      <td>True</td>\n",
       "      <td>NaN</td>\n",
       "      <td>See https://www.medrxiv.org/submit-a-manuscript</td>\n",
       "      <td>NaN</td>\n",
       "      <td>NaN</td>\n",
       "      <td>NaN</td>\n",
       "      <td>004f0f8bb66cf446678dc13cf2701feec4f36d76</td>\n",
       "      <td>medrxiv</td>\n",
       "      <td>-1</td>\n",
       "    </tr>\n",
       "  </tbody>\n",
       "</table>\n",
       "</div>"
      ],
      "text/plain": [
       "   Unnamed: 0                                    doc_id           source  \\\n",
       "0           0  0015023cc06b5362d332b3baf348d11567ca2fbb  biorxiv_medrxiv   \n",
       "1           1  004f0f8bb66cf446678dc13cf2701feec4f36d76  biorxiv_medrxiv   \n",
       "\n",
       "                                                                                                 title  \\\n",
       "0  The RNA pseudoknots in foot-and-mouth disease virus are dispensable for genome replication but e...   \n",
       "1             Healthcare-resource-adjusted vulnerabilities towards the 2019-nCoV epidemic across China   \n",
       "\n",
       "                                                                                              abstract  \\\n",
       "0  word count: 194 22 Text word count: 5168 23 24 25 author/funder. All rights reserved. No reuse a...   \n",
       "1                                                                                                  NaN   \n",
       "\n",
       "                                                                                             text_body  \\\n",
       "0  VP3, and VP0 (which is further processed to VP2 and VP4 during virus assembly) (6). The P2 64 an...   \n",
       "1  The 2019-nCoV epidemic has spread across China and 24 other countries 1-3 as of February 8, 2020...   \n",
       "\n",
       "   Microsoft Academic Paper ID WHO #Covidence  \\\n",
       "0                          NaN            NaN   \n",
       "1                          NaN            NaN   \n",
       "\n",
       "                                                                                               authors  \\\n",
       "0  Ward, J. C. J.; Lasecka-Dykes, L.; Neil, C.; Adeyemi, O.; Gold, S.; McLean, N.; Wright, C.; Hero...   \n",
       "1                                                                                                  NaN   \n",
       "\n",
       "                                          doi  has_full_text journal  \\\n",
       "0    http://doi.org/10.1101/2020.01.10.901801           True     NaN   \n",
       "1  http://doi.org/10.1101/2020.02.11.20022111           True     NaN   \n",
       "\n",
       "                                           license pmcid publish_time  \\\n",
       "0        See https://www.biorxiv.org/about-biorxiv   NaN   2020-01-11   \n",
       "1  See https://www.medrxiv.org/submit-a-manuscript   NaN          NaN   \n",
       "\n",
       "   pubmed_id                                       sha source_x  publish_year  \n",
       "0        NaN  0015023cc06b5362d332b3baf348d11567ca2fbb  biorxiv          2020  \n",
       "1        NaN  004f0f8bb66cf446678dc13cf2701feec4f36d76  medrxiv            -1  "
      ]
     },
     "execution_count": 65,
     "metadata": {},
     "output_type": "execute_result"
    }
   ],
   "source": [
    "all_data.head(2)"
   ]
  },
  {
   "cell_type": "markdown",
   "metadata": {},
   "source": [
    "### We consider the text body, but the approach could also be applied to the abstracts only."
   ]
  },
  {
   "cell_type": "code",
   "execution_count": 66,
   "metadata": {
    "ExecuteTime": {
     "end_time": "2020-04-25T16:59:59.603178Z",
     "start_time": "2020-04-25T16:59:59.599178Z"
    }
   },
   "outputs": [],
   "source": [
    "all_texts = all_data.text_body"
   ]
  },
  {
   "cell_type": "code",
   "execution_count": 67,
   "metadata": {
    "ExecuteTime": {
     "end_time": "2020-04-25T17:00:00.338190Z",
     "start_time": "2020-04-25T17:00:00.331187Z"
    }
   },
   "outputs": [
    {
     "data": {
      "text/plain": [
       "'VP3, and VP0 (which is further processed to VP2 and VP4 during virus assembly) (6). The P2 64 and P3 regions encode the non-structural proteins 2B and 2C and 3A, 3B (1-3) (VPg), 3C pro and 4 structural protein-coding region is replaced by reporter genes, allow the study of genome 68 replication without the requirement for high containment (9, 10) ( figure 1A ).\\n The FMDV 5′ UTR is the largest known picornavirus UTR, comprising approximately 1300 71 nucleotides and containing several highly struc'"
      ]
     },
     "execution_count": 67,
     "metadata": {},
     "output_type": "execute_result"
    }
   ],
   "source": [
    "all_texts[0][:500]"
   ]
  },
  {
   "cell_type": "markdown",
   "metadata": {},
   "source": [
    "## Latend Dirichlet Allocation"
   ]
  },
  {
   "cell_type": "markdown",
   "metadata": {},
   "source": [
    "### Medium Model"
   ]
  },
  {
   "cell_type": "code",
   "execution_count": 68,
   "metadata": {
    "ExecuteTime": {
     "end_time": "2020-04-25T17:00:15.617633Z",
     "start_time": "2020-04-25T17:00:03.009574Z"
    }
   },
   "outputs": [],
   "source": [
    "import en_core_sci_md\n",
    "nlp = en_core_sci_md.load(disable=[\"tagger\", \"parser\", \"ner\"])\n",
    "nlp.max_length = 2000000"
   ]
  },
  {
   "cell_type": "code",
   "execution_count": 69,
   "metadata": {
    "ExecuteTime": {
     "end_time": "2020-04-25T17:00:15.632635Z",
     "start_time": "2020-04-25T17:00:15.621637Z"
    }
   },
   "outputs": [],
   "source": [
    "#########################################################################################################################\n",
    "#\n",
    "#    Title: Topic Modeling: Finding Related Articles\n",
    "#    Author: Daniel Wolffram\n",
    "#    Date: 2020\n",
    "#    Code version: 10\n",
    "#    Availability: https://www.kaggle.com/danielwolffram/topic-modeling-finding-related-articles?scriptVersionId=30463507\n",
    "# \n",
    "#########################################################################################################################\n",
    "def spacy_tokenizer(sentence):\n",
    "    return [word.lemma_ for word in nlp(sentence) if not (word.like_num or word.is_stop or word.is_punct or word.is_space)] # remove numbers (e.g. from references [1], etc.)\n",
    "\n",
    "def print_top_words(model, feature_names, n_top_words):\n",
    "    for topic_idx, topic in enumerate(model.components_):\n",
    "        message = \"\\nTopic #%d: \" % topic_idx\n",
    "        message += \" \".join([feature_names[i]\n",
    "                             for i in topic.argsort()[:-n_top_words - 1:-1]])\n",
    "        print(message)\n",
    "    print()"
   ]
  },
  {
   "cell_type": "markdown",
   "metadata": {},
   "source": [
    "### New stop words list "
   ]
  },
  {
   "cell_type": "code",
   "execution_count": 70,
   "metadata": {
    "ExecuteTime": {
     "end_time": "2020-04-25T17:00:15.649636Z",
     "start_time": "2020-04-25T17:00:15.636635Z"
    }
   },
   "outputs": [],
   "source": [
    "#########################################################################################################################\n",
    "#\n",
    "#    Title: Topic Modeling: Finding Related Articles\n",
    "#    Author: Daniel Wolffram\n",
    "#    Date: 2020\n",
    "#    Code version: 10\n",
    "#    Availability: https://www.kaggle.com/danielwolffram/topic-modeling-finding-related-articles?scriptVersionId=30463507\n",
    "# \n",
    "#########################################################################################################################\n",
    "customize_stop_words = [\n",
    "    'doi', 'preprint', 'copyright', 'peer', 'reviewed', 'org', 'https', 'et', 'al', 'author', 'figure', \n",
    "    'rights', 'reserved', 'permission', 'used', 'using', 'biorxiv', 'fig', 'fig.', 'al.',\n",
    "    'di', 'la', 'il', 'del', 'le', 'della', 'dei', 'delle', 'una', 'da',  'dell',  'non', 'si'\n",
    "]\n",
    "\n",
    "for w in customize_stop_words:\n",
    "    nlp.vocab[w].is_stop = True"
   ]
  },
  {
   "cell_type": "code",
   "execution_count": 71,
   "metadata": {
    "ExecuteTime": {
     "end_time": "2020-04-25T17:06:17.270576Z",
     "start_time": "2020-04-25T17:00:17.522640Z"
    }
   },
   "outputs": [
    {
     "name": "stderr",
     "output_type": "stream",
     "text": [
      "100%|████████████████████████████████████████████████████████████████████████████| 13202/13202 [05:53<00:00, 37.34it/s]\n"
     ]
    },
    {
     "data": {
      "text/plain": [
       "(13202, 641818)"
      ]
     },
     "execution_count": 71,
     "metadata": {},
     "output_type": "execute_result"
    }
   ],
   "source": [
    "tf_vectorizer = CountVectorizer(tokenizer = spacy_tokenizer)\n",
    "\n",
    "tf = tf_vectorizer.fit_transform(tqdm(all_texts))\n",
    "\n",
    "tf.shape"
   ]
  },
  {
   "cell_type": "code",
   "execution_count": 72,
   "metadata": {
    "ExecuteTime": {
     "end_time": "2020-04-25T17:08:44.725777Z",
     "start_time": "2020-04-25T17:08:26.955903Z"
    }
   },
   "outputs": [
    {
     "data": {
      "text/plain": [
       "['tf.csv']"
      ]
     },
     "execution_count": 72,
     "metadata": {},
     "output_type": "execute_result"
    }
   ],
   "source": [
    "joblib.dump(tf_vectorizer, 'tf_vectorizer.csv')\n",
    "joblib.dump(tf, 'tf.csv')"
   ]
  },
  {
   "cell_type": "code",
   "execution_count": 73,
   "metadata": {
    "ExecuteTime": {
     "end_time": "2020-04-25T17:25:09.812018Z",
     "start_time": "2020-04-25T17:13:32.138742Z"
    }
   },
   "outputs": [
    {
     "data": {
      "text/plain": [
       "LatentDirichletAllocation(batch_size=128, doc_topic_prior=None,\n",
       "                          evaluate_every=-1, learning_decay=0.7,\n",
       "                          learning_method='batch', learning_offset=10.0,\n",
       "                          max_doc_update_iter=100, max_iter=10,\n",
       "                          mean_change_tol=0.001, n_components=50, n_jobs=-1,\n",
       "                          perp_tol=0.1, random_state=0, topic_word_prior=None,\n",
       "                          total_samples=1000000.0, verbose=0)"
      ]
     },
     "execution_count": 73,
     "metadata": {},
     "output_type": "execute_result"
    }
   ],
   "source": [
    "lda_tf = LatentDirichletAllocation(n_components=50, random_state=0, n_jobs=-1)\n",
    "lda_tf.fit(tf)"
   ]
  },
  {
   "cell_type": "code",
   "execution_count": 74,
   "metadata": {
    "ExecuteTime": {
     "end_time": "2020-04-25T17:25:10.647021Z",
     "start_time": "2020-04-25T17:25:09.853020Z"
    }
   },
   "outputs": [
    {
     "data": {
      "text/plain": [
       "['lda.csv']"
      ]
     },
     "execution_count": 74,
     "metadata": {},
     "output_type": "execute_result"
    }
   ],
   "source": [
    "joblib.dump(lda_tf, 'lda.csv')"
   ]
  },
  {
   "cell_type": "code",
   "execution_count": 75,
   "metadata": {
    "ExecuteTime": {
     "end_time": "2020-04-25T17:25:11.567025Z",
     "start_time": "2020-04-25T17:25:10.661022Z"
    }
   },
   "outputs": [
    {
     "data": {
      "text/plain": [
       "['lda.pkl']"
      ]
     },
     "execution_count": 75,
     "metadata": {},
     "output_type": "execute_result"
    }
   ],
   "source": [
    "joblib.dump(lda_tf, 'lda.pkl')"
   ]
  },
  {
   "cell_type": "code",
   "execution_count": 76,
   "metadata": {
    "ExecuteTime": {
     "end_time": "2020-04-25T17:25:12.561020Z",
     "start_time": "2020-04-25T17:25:11.575022Z"
    }
   },
   "outputs": [],
   "source": [
    "lda_tf = joblib.load('lda.pkl')"
   ]
  },
  {
   "cell_type": "markdown",
   "metadata": {},
   "source": [
    "## Discovered Topics"
   ]
  },
  {
   "cell_type": "code",
   "execution_count": 77,
   "metadata": {
    "ExecuteTime": {
     "end_time": "2020-04-25T17:26:50.002619Z",
     "start_time": "2020-04-25T17:26:44.843078Z"
    }
   },
   "outputs": [
    {
     "name": "stdout",
     "output_type": "stream",
     "text": [
      "\n",
      "Topic #0: disease increase cell study effect lung cancer cause include patient tissue lesion show treatment clinical report associate find inflammation bacterium inflammatory image damage activity reduce\n",
      "\n",
      "Topic #1: q prp cell ifit1 show datum sc resistance increase bind observe mm model line week numb antibiotic prion concentration ifit3 result complex time growth license\n",
      "\n",
      "Topic #2: cell virus viral hiv-1 infection entry hiv fusion ifitm3 virion protein particle receptor target membrane human env antiviral t replication host inhibit glycoprotein infect envelope\n",
      "\n",
      "Topic #3: ace2 ang ii activity ace heart increase diabetes level mouse kidney cardiac facemask effect ras receptor study renal ang-(1 plasma cardiovascular hypertension expression angiotensin inhibitor\n",
      "\n",
      "Topic #4: cat sample fcov fip t. study c type result fipv ° show p. antibody control gondii high temperature test table min extract feline fee time\n",
      "\n",
      "Topic #5: dog cat = study p group disease concentration clinical test sample horse serum day < n canine compare blood report include treatment increase healthy high\n",
      "\n",
      "Topic #6: chikv trna à1 base target u spectrum domain method pseudoknot small frequency ires e2 modification structure detection pair pseudoknots c e1 veev system algorithm alphavirus\n",
      "\n",
      "Topic #7: e è un con che o n t sono have s r nel alla ha più gli tra c ed degli p salute l ad\n",
      "\n",
      "Topic #8: sample pcr assay rna primer c virus detect ° positive strain ibv test sequence detection study dna min gene result kit reaction viral perform rt-pcr\n",
      "\n",
      "Topic #9: virus species bat host viral human genome sequence family study find genus identify include gene know diversity different rodent analysis group evolution rna high range\n",
      "\n",
      "Topic #10: compound activity concentration drug e. acid c show ml group value coli solution test table result inhibitor = high µm antiviral bacterium active inhibition reaction\n",
      "\n",
      "Topic #11: plant extract medicine chinese leave tcm production herbal niclosamide effect herb a. traditional china root flavonoid leaf compound expression component product growth tobacco rice l.\n",
      "\n",
      "Topic #12: protein cell viral virus bind signal infection pathway target activation activity complex replication inhibit rna show interaction expression response host induce factor domain function cellular\n",
      "\n",
      "Topic #13: study respiratory virus infection patient child test sample age viral pneumonia rsv influenza year clinical case pathogen detect group high include positive symptom specimen result\n",
      "\n",
      "Topic #14: protein rna mutant cell viral virus replication activity domain site bind mm l cleavage plasmid show protease wt contain residue interaction motif mutation sequence result\n",
      "\n",
      "Topic #15: health study public datum system information participant research include provide care response need work train medical level report support use service emergency practice country review\n",
      "\n",
      "Topic #16: rna 5p poly(a synthesis suicide tail rtd-1 sbv cd147 bcov image ra cld va nt gnps utr result registration mirna hire1a sgmrna mirnas length usp14\n",
      "\n",
      "Topic #17: woman infant pregnancy pregnant maternal birth mother migrant neonatal newborn placenta neonate delivery fetal fetus placental pertussis trimester preterm gestation baby bear gestational congenital pyr\n",
      "\n",
      "Topic #18: gene expression analysis identify pathway datum protein mouse interaction network study response function table target biological set associate include profile database differentially transcript map process\n",
      "\n",
      "Topic #19: antibody mouse vaccine cell response antigen serum immune igg group neutralize challenge protein vector induce day recombinant immunization titer animal high show protection study t\n",
      "\n",
      "Topic #20: gene rna codon mrna sequence translation site expression transcript genome frameshifting protein ribosome mrnas rnas level region structure read value analysis frame nucleotide usage efficiency\n",
      "\n",
      "Topic #21: mers-cov sars-cov coronavirus virus sequence human s camel protein cov sample strain infection genome respiratory viral study region spike bat sars show gene covs rna\n",
      "\n",
      "Topic #22: model datum r numb time value method = parameter individual estimate network t result rate distribution set case probability different give size population epidemic transmission\n",
      "\n",
      "Topic #23: case outbreak report datum disease transmission surveillance epidemic influenza country health contact numb estimate infection period time day risk china population year public study rate\n",
      "\n",
      "Topic #24: cell mouse expression macrophage tissue tumor cytokine activation increase t level human study show receptor induce express b signal role result culture inflammatory response lps\n",
      "\n",
      "Topic #25: bird duck wild poultry avian chicken ev71 goose species aiv marmoset turkey waterfowl domestic nhp ibdv nov nrf2 cilium lipid eps ciliary live find sample\n",
      "\n",
      "Topic #26: ebov gp cell vsv golgi bfa kshv filovirus g c egr-1 h npc1 gp1 b er glycoprotein expression transport marv ebolavirus antibody bud ebola tfr1\n",
      "\n",
      "Topic #27: infection virus viral cell response lung infect immune mouse host replication influenza human respiratory study protein epithelial type iav show cytokine strain induce increase tissue\n",
      "\n",
      "Topic #28: group day animal treatment control study p effect dose level compare mouse significantly weight significant rat < increase tissue ± difference = treat show time\n",
      "\n",
      "Topic #29: cat study cancer genotype sample allele = felv snps analysis fiv association test p gene polymorphism exon protein table snp associate population control datum infection\n",
      "\n",
      "Topic #30: virus influenza human ha strain viral isolate cell infection h5n1 study sequence assay show infect titer gene na subtype test bat antibody ferret sample c\n",
      "\n",
      "Topic #31: peptide epitope bind protein antibody sequence residue phage region human amino antigen mhc acid identify class domain predict cell affinity library show study vaccine display\n",
      "\n",
      "Topic #32: patient hospital infection case day study sars report care respiratory disease include symptom clinical contact high test admission severe ed medical rate = healthcare control\n",
      "\n",
      "Topic #33: cell protein h infection virus viral show expression c control assay infect result effect medium incubate level min antibody culture mm activity replication indicate wash\n",
      "\n",
      "Topic #34: zikv zika health state ihr public law global policy security flaviviruses experiment international microcephaly governance laboratory mosquito regulation human flavivirus asian zikv-infected african legal z2\n",
      "\n",
      "Topic #35: detection method target system particle surface assay use dna nanoparticle application develope technique approach technology process high allow base specific signal sample design require sensitivity\n",
      "\n",
      "Topic #36: vaccine influenza vaccination pandemic study trial clinical drug treatment efficacy h1n1 use antiviral risk response virus include effective development vaccinate disease safety dose year high\n",
      "\n",
      "Topic #37: pedv pig strain piglet virus tgev porcine s swine diarrhea gene viral genome cell n intestinal sequence sow protein isolate group rna ped vero dpi\n",
      "\n",
      "Topic #38: sequence dna rna probe primer mutation clone pcr region mm genome structure contain c reaction target bind assay result show product base strand template fragment\n",
      "\n",
      "Topic #39: animal study farm calve herd sample high cattle risk age infection pig market test prevalence day = air poultry factor disease milk increase period numb\n",
      "\n",
      "Topic #40: protein membrane bind structure residue domain cell form interaction fusion site show complex peptide acid surface contain er mm ph region result c structural receptor\n",
      "\n",
      "Topic #41: sequence genome read analysis datum gene cluster sample protein database identify alignment tree strain virus region nucleotide method phylogenetic viral table base result reference include\n",
      "\n",
      "Topic #42: holder peer-reviewed author/funder license = medrxiv population model rate display available grant reuse p perpetuity international strain covid-19 allow genetic effect estimate time sample cc-by-nc-nd\n",
      "\n",
      "Topic #43: infection dengue virus denv mosquito tb wnv disease study hev infect blood viral high fever transmission pcv2 cmv donor recipient vector hbv infectious risk pathogen\n",
      "\n",
      "Topic #44: + cell mouse t infection cd8 response cd4 cytokine expression level day increase infect immune wt viral nk control show high brain lung compare datum\n",
      "\n",
      "Topic #45: ad pilgrim study bee hajj receptor level shelter increase brain report dpp-4 effect high uri type aβ risk infection honey disease tau ms find include\n",
      "\n",
      "Topic #46: de en sftsv syphilis que y gn sfts blood para se edc os donor gm alv-j e alv m. o à plasma -PRON- por las\n",
      "\n",
      "Topic #47: patient study group = level p treatment result increase mortality high score asthma icu ± outcome clinical method blood < day therapy compare lung sepsis\n",
      "\n"
     ]
    },
    {
     "name": "stdout",
     "output_type": "stream",
     "text": [
      "Topic #48: disease human health pathogen animal infectious country population global risk emerge new control research include increase cause infection area world example development approach africa change\n",
      "\n",
      "Topic #49: cell expression gene protein infection response level prrsv express signal show study ifn analysis pathway result immune control type virus antibody induce h c datum\n",
      "\n"
     ]
    }
   ],
   "source": [
    "tfidf_feature_names = tf_vectorizer.get_feature_names()\n",
    "print_top_words(lda_tf, tfidf_feature_names, 25)"
   ]
  },
  {
   "cell_type": "markdown",
   "metadata": {},
   "source": [
    "### Visualization"
   ]
  },
  {
   "cell_type": "code",
   "execution_count": 78,
   "metadata": {
    "ExecuteTime": {
     "end_time": "2020-04-25T17:50:10.630291Z",
     "start_time": "2020-04-25T17:26:55.893754Z"
    }
   },
   "outputs": [],
   "source": [
    "#########################################################################################################################\n",
    "#\n",
    "#    Title: Topic Modeling: Finding Related Articles\n",
    "#    Author: Daniel Wolffram\n",
    "#    Date: 2020\n",
    "#    Code version: 10\n",
    "#    Availability: https://www.kaggle.com/danielwolffram/topic-modeling-finding-related-articles?scriptVersionId=30463507\n",
    "# \n",
    "#########################################################################################################################\n",
    "viz = pyLDAvis.sklearn.prepare(lda_tf, tf, tf_vectorizer)\n",
    "pyLDAvis.display(viz)\n",
    "pyLDAvis.save_html(viz, 'lda.html')"
   ]
  },
  {
   "cell_type": "code",
   "execution_count": 79,
   "metadata": {
    "ExecuteTime": {
     "end_time": "2020-04-25T17:50:57.908864Z",
     "start_time": "2020-04-25T17:50:10.662295Z"
    }
   },
   "outputs": [],
   "source": [
    "topic_dist = pd.DataFrame(lda_tf.transform(tf))"
   ]
  },
  {
   "cell_type": "code",
   "execution_count": 80,
   "metadata": {
    "ExecuteTime": {
     "end_time": "2020-04-25T17:50:59.531869Z",
     "start_time": "2020-04-25T17:50:57.913825Z"
    }
   },
   "outputs": [],
   "source": [
    "topic_dist.to_csv('topic_dist.csv', index=False)"
   ]
  },
  {
   "cell_type": "code",
   "execution_count": 81,
   "metadata": {
    "ExecuteTime": {
     "end_time": "2020-04-25T17:50:59.660833Z",
     "start_time": "2020-04-25T17:50:59.536827Z"
    }
   },
   "outputs": [
    {
     "data": {
      "text/html": [
       "<div>\n",
       "<style scoped>\n",
       "    .dataframe tbody tr th:only-of-type {\n",
       "        vertical-align: middle;\n",
       "    }\n",
       "\n",
       "    .dataframe tbody tr th {\n",
       "        vertical-align: top;\n",
       "    }\n",
       "\n",
       "    .dataframe thead th {\n",
       "        text-align: right;\n",
       "    }\n",
       "</style>\n",
       "<table border=\"1\" class=\"dataframe\">\n",
       "  <thead>\n",
       "    <tr style=\"text-align: right;\">\n",
       "      <th></th>\n",
       "      <th>0</th>\n",
       "      <th>1</th>\n",
       "      <th>2</th>\n",
       "      <th>3</th>\n",
       "      <th>4</th>\n",
       "      <th>5</th>\n",
       "      <th>6</th>\n",
       "      <th>7</th>\n",
       "      <th>8</th>\n",
       "      <th>9</th>\n",
       "      <th>10</th>\n",
       "      <th>11</th>\n",
       "      <th>12</th>\n",
       "      <th>13</th>\n",
       "      <th>14</th>\n",
       "      <th>15</th>\n",
       "      <th>16</th>\n",
       "      <th>17</th>\n",
       "      <th>18</th>\n",
       "      <th>19</th>\n",
       "      <th>20</th>\n",
       "      <th>21</th>\n",
       "      <th>22</th>\n",
       "      <th>23</th>\n",
       "      <th>24</th>\n",
       "      <th>25</th>\n",
       "      <th>26</th>\n",
       "      <th>27</th>\n",
       "      <th>28</th>\n",
       "      <th>29</th>\n",
       "      <th>30</th>\n",
       "      <th>31</th>\n",
       "      <th>32</th>\n",
       "      <th>33</th>\n",
       "      <th>34</th>\n",
       "      <th>35</th>\n",
       "      <th>36</th>\n",
       "      <th>37</th>\n",
       "      <th>38</th>\n",
       "      <th>39</th>\n",
       "      <th>40</th>\n",
       "      <th>41</th>\n",
       "      <th>42</th>\n",
       "      <th>43</th>\n",
       "      <th>44</th>\n",
       "      <th>45</th>\n",
       "      <th>46</th>\n",
       "      <th>47</th>\n",
       "      <th>48</th>\n",
       "      <th>49</th>\n",
       "    </tr>\n",
       "  </thead>\n",
       "  <tbody>\n",
       "    <tr>\n",
       "      <th>0</th>\n",
       "      <td>0.000025</td>\n",
       "      <td>0.000025</td>\n",
       "      <td>0.000025</td>\n",
       "      <td>0.000025</td>\n",
       "      <td>0.000025</td>\n",
       "      <td>0.000025</td>\n",
       "      <td>0.000025</td>\n",
       "      <td>0.000025</td>\n",
       "      <td>0.000025</td>\n",
       "      <td>0.000025</td>\n",
       "      <td>0.000025</td>\n",
       "      <td>0.000025</td>\n",
       "      <td>0.000025</td>\n",
       "      <td>0.000025</td>\n",
       "      <td>0.259887</td>\n",
       "      <td>0.000025</td>\n",
       "      <td>0.000025</td>\n",
       "      <td>0.000025</td>\n",
       "      <td>0.000025</td>\n",
       "      <td>0.000025</td>\n",
       "      <td>0.000025</td>\n",
       "      <td>0.000025</td>\n",
       "      <td>0.000025</td>\n",
       "      <td>0.000025</td>\n",
       "      <td>0.000025</td>\n",
       "      <td>0.000025</td>\n",
       "      <td>0.000025</td>\n",
       "      <td>0.000025</td>\n",
       "      <td>0.000025</td>\n",
       "      <td>0.000025</td>\n",
       "      <td>0.000025</td>\n",
       "      <td>0.000025</td>\n",
       "      <td>0.000025</td>\n",
       "      <td>0.000025</td>\n",
       "      <td>0.000025</td>\n",
       "      <td>0.000025</td>\n",
       "      <td>0.000025</td>\n",
       "      <td>0.000025</td>\n",
       "      <td>0.442560</td>\n",
       "      <td>0.000025</td>\n",
       "      <td>0.000025</td>\n",
       "      <td>0.064784</td>\n",
       "      <td>0.231597</td>\n",
       "      <td>0.000025</td>\n",
       "      <td>0.000025</td>\n",
       "      <td>0.000025</td>\n",
       "      <td>0.000025</td>\n",
       "      <td>0.000025</td>\n",
       "      <td>0.000025</td>\n",
       "      <td>0.000025</td>\n",
       "    </tr>\n",
       "    <tr>\n",
       "      <th>1</th>\n",
       "      <td>0.000050</td>\n",
       "      <td>0.000050</td>\n",
       "      <td>0.000050</td>\n",
       "      <td>0.000050</td>\n",
       "      <td>0.000050</td>\n",
       "      <td>0.000050</td>\n",
       "      <td>0.000050</td>\n",
       "      <td>0.000050</td>\n",
       "      <td>0.000050</td>\n",
       "      <td>0.000050</td>\n",
       "      <td>0.000050</td>\n",
       "      <td>0.000050</td>\n",
       "      <td>0.000050</td>\n",
       "      <td>0.038465</td>\n",
       "      <td>0.000050</td>\n",
       "      <td>0.133305</td>\n",
       "      <td>0.000050</td>\n",
       "      <td>0.000050</td>\n",
       "      <td>0.000050</td>\n",
       "      <td>0.000050</td>\n",
       "      <td>0.000050</td>\n",
       "      <td>0.000050</td>\n",
       "      <td>0.012764</td>\n",
       "      <td>0.784700</td>\n",
       "      <td>0.000050</td>\n",
       "      <td>0.000050</td>\n",
       "      <td>0.000050</td>\n",
       "      <td>0.000050</td>\n",
       "      <td>0.000050</td>\n",
       "      <td>0.000050</td>\n",
       "      <td>0.000050</td>\n",
       "      <td>0.000050</td>\n",
       "      <td>0.000050</td>\n",
       "      <td>0.000050</td>\n",
       "      <td>0.000050</td>\n",
       "      <td>0.000050</td>\n",
       "      <td>0.000050</td>\n",
       "      <td>0.000050</td>\n",
       "      <td>0.000050</td>\n",
       "      <td>0.000050</td>\n",
       "      <td>0.000050</td>\n",
       "      <td>0.000050</td>\n",
       "      <td>0.028499</td>\n",
       "      <td>0.000050</td>\n",
       "      <td>0.000050</td>\n",
       "      <td>0.000050</td>\n",
       "      <td>0.000050</td>\n",
       "      <td>0.000050</td>\n",
       "      <td>0.000050</td>\n",
       "      <td>0.000050</td>\n",
       "    </tr>\n",
       "    <tr>\n",
       "      <th>2</th>\n",
       "      <td>0.000010</td>\n",
       "      <td>0.000010</td>\n",
       "      <td>0.000010</td>\n",
       "      <td>0.000010</td>\n",
       "      <td>0.000010</td>\n",
       "      <td>0.000010</td>\n",
       "      <td>0.000010</td>\n",
       "      <td>0.000010</td>\n",
       "      <td>0.581407</td>\n",
       "      <td>0.000010</td>\n",
       "      <td>0.000010</td>\n",
       "      <td>0.000010</td>\n",
       "      <td>0.000010</td>\n",
       "      <td>0.000010</td>\n",
       "      <td>0.000010</td>\n",
       "      <td>0.000010</td>\n",
       "      <td>0.000010</td>\n",
       "      <td>0.000010</td>\n",
       "      <td>0.000010</td>\n",
       "      <td>0.000010</td>\n",
       "      <td>0.000010</td>\n",
       "      <td>0.000010</td>\n",
       "      <td>0.000010</td>\n",
       "      <td>0.000010</td>\n",
       "      <td>0.000010</td>\n",
       "      <td>0.000010</td>\n",
       "      <td>0.000010</td>\n",
       "      <td>0.000010</td>\n",
       "      <td>0.000010</td>\n",
       "      <td>0.000010</td>\n",
       "      <td>0.000010</td>\n",
       "      <td>0.000010</td>\n",
       "      <td>0.000010</td>\n",
       "      <td>0.000010</td>\n",
       "      <td>0.000010</td>\n",
       "      <td>0.000010</td>\n",
       "      <td>0.003909</td>\n",
       "      <td>0.000010</td>\n",
       "      <td>0.000010</td>\n",
       "      <td>0.000010</td>\n",
       "      <td>0.000010</td>\n",
       "      <td>0.355169</td>\n",
       "      <td>0.059073</td>\n",
       "      <td>0.000010</td>\n",
       "      <td>0.000010</td>\n",
       "      <td>0.000010</td>\n",
       "      <td>0.000010</td>\n",
       "      <td>0.000010</td>\n",
       "      <td>0.000010</td>\n",
       "      <td>0.000010</td>\n",
       "    </tr>\n",
       "    <tr>\n",
       "      <th>3</th>\n",
       "      <td>0.000008</td>\n",
       "      <td>0.000008</td>\n",
       "      <td>0.000008</td>\n",
       "      <td>0.000008</td>\n",
       "      <td>0.000008</td>\n",
       "      <td>0.000008</td>\n",
       "      <td>0.000008</td>\n",
       "      <td>0.000008</td>\n",
       "      <td>0.000008</td>\n",
       "      <td>0.000008</td>\n",
       "      <td>0.000008</td>\n",
       "      <td>0.000008</td>\n",
       "      <td>0.000008</td>\n",
       "      <td>0.067244</td>\n",
       "      <td>0.000008</td>\n",
       "      <td>0.000008</td>\n",
       "      <td>0.000008</td>\n",
       "      <td>0.000008</td>\n",
       "      <td>0.000008</td>\n",
       "      <td>0.000008</td>\n",
       "      <td>0.000008</td>\n",
       "      <td>0.000008</td>\n",
       "      <td>0.000008</td>\n",
       "      <td>0.797320</td>\n",
       "      <td>0.000008</td>\n",
       "      <td>0.000008</td>\n",
       "      <td>0.000008</td>\n",
       "      <td>0.000008</td>\n",
       "      <td>0.000008</td>\n",
       "      <td>0.000008</td>\n",
       "      <td>0.000008</td>\n",
       "      <td>0.000008</td>\n",
       "      <td>0.000008</td>\n",
       "      <td>0.000008</td>\n",
       "      <td>0.000008</td>\n",
       "      <td>0.000008</td>\n",
       "      <td>0.000008</td>\n",
       "      <td>0.000008</td>\n",
       "      <td>0.000008</td>\n",
       "      <td>0.000008</td>\n",
       "      <td>0.000008</td>\n",
       "      <td>0.000008</td>\n",
       "      <td>0.135038</td>\n",
       "      <td>0.000008</td>\n",
       "      <td>0.000008</td>\n",
       "      <td>0.000008</td>\n",
       "      <td>0.000008</td>\n",
       "      <td>0.000008</td>\n",
       "      <td>0.000008</td>\n",
       "      <td>0.000008</td>\n",
       "    </tr>\n",
       "    <tr>\n",
       "      <th>4</th>\n",
       "      <td>0.005689</td>\n",
       "      <td>0.000009</td>\n",
       "      <td>0.020226</td>\n",
       "      <td>0.043477</td>\n",
       "      <td>0.000009</td>\n",
       "      <td>0.000009</td>\n",
       "      <td>0.000009</td>\n",
       "      <td>0.000009</td>\n",
       "      <td>0.000009</td>\n",
       "      <td>0.000009</td>\n",
       "      <td>0.000009</td>\n",
       "      <td>0.000009</td>\n",
       "      <td>0.000009</td>\n",
       "      <td>0.000009</td>\n",
       "      <td>0.000009</td>\n",
       "      <td>0.090508</td>\n",
       "      <td>0.000009</td>\n",
       "      <td>0.000009</td>\n",
       "      <td>0.317526</td>\n",
       "      <td>0.000009</td>\n",
       "      <td>0.135642</td>\n",
       "      <td>0.063361</td>\n",
       "      <td>0.029706</td>\n",
       "      <td>0.000009</td>\n",
       "      <td>0.032777</td>\n",
       "      <td>0.000009</td>\n",
       "      <td>0.000009</td>\n",
       "      <td>0.091177</td>\n",
       "      <td>0.000009</td>\n",
       "      <td>0.000009</td>\n",
       "      <td>0.000009</td>\n",
       "      <td>0.000009</td>\n",
       "      <td>0.007241</td>\n",
       "      <td>0.000009</td>\n",
       "      <td>0.000009</td>\n",
       "      <td>0.000009</td>\n",
       "      <td>0.000009</td>\n",
       "      <td>0.000009</td>\n",
       "      <td>0.000009</td>\n",
       "      <td>0.000009</td>\n",
       "      <td>0.000009</td>\n",
       "      <td>0.000009</td>\n",
       "      <td>0.162339</td>\n",
       "      <td>0.000009</td>\n",
       "      <td>0.000009</td>\n",
       "      <td>0.000009</td>\n",
       "      <td>0.000009</td>\n",
       "      <td>0.000009</td>\n",
       "      <td>0.000009</td>\n",
       "      <td>0.000009</td>\n",
       "    </tr>\n",
       "  </tbody>\n",
       "</table>\n",
       "</div>"
      ],
      "text/plain": [
       "          0         1         2         3         4         5         6  \\\n",
       "0  0.000025  0.000025  0.000025  0.000025  0.000025  0.000025  0.000025   \n",
       "1  0.000050  0.000050  0.000050  0.000050  0.000050  0.000050  0.000050   \n",
       "2  0.000010  0.000010  0.000010  0.000010  0.000010  0.000010  0.000010   \n",
       "3  0.000008  0.000008  0.000008  0.000008  0.000008  0.000008  0.000008   \n",
       "4  0.005689  0.000009  0.020226  0.043477  0.000009  0.000009  0.000009   \n",
       "\n",
       "          7         8         9        10        11        12        13  \\\n",
       "0  0.000025  0.000025  0.000025  0.000025  0.000025  0.000025  0.000025   \n",
       "1  0.000050  0.000050  0.000050  0.000050  0.000050  0.000050  0.038465   \n",
       "2  0.000010  0.581407  0.000010  0.000010  0.000010  0.000010  0.000010   \n",
       "3  0.000008  0.000008  0.000008  0.000008  0.000008  0.000008  0.067244   \n",
       "4  0.000009  0.000009  0.000009  0.000009  0.000009  0.000009  0.000009   \n",
       "\n",
       "         14        15        16        17        18        19        20  \\\n",
       "0  0.259887  0.000025  0.000025  0.000025  0.000025  0.000025  0.000025   \n",
       "1  0.000050  0.133305  0.000050  0.000050  0.000050  0.000050  0.000050   \n",
       "2  0.000010  0.000010  0.000010  0.000010  0.000010  0.000010  0.000010   \n",
       "3  0.000008  0.000008  0.000008  0.000008  0.000008  0.000008  0.000008   \n",
       "4  0.000009  0.090508  0.000009  0.000009  0.317526  0.000009  0.135642   \n",
       "\n",
       "         21        22        23        24        25        26        27  \\\n",
       "0  0.000025  0.000025  0.000025  0.000025  0.000025  0.000025  0.000025   \n",
       "1  0.000050  0.012764  0.784700  0.000050  0.000050  0.000050  0.000050   \n",
       "2  0.000010  0.000010  0.000010  0.000010  0.000010  0.000010  0.000010   \n",
       "3  0.000008  0.000008  0.797320  0.000008  0.000008  0.000008  0.000008   \n",
       "4  0.063361  0.029706  0.000009  0.032777  0.000009  0.000009  0.091177   \n",
       "\n",
       "         28        29        30        31        32        33        34  \\\n",
       "0  0.000025  0.000025  0.000025  0.000025  0.000025  0.000025  0.000025   \n",
       "1  0.000050  0.000050  0.000050  0.000050  0.000050  0.000050  0.000050   \n",
       "2  0.000010  0.000010  0.000010  0.000010  0.000010  0.000010  0.000010   \n",
       "3  0.000008  0.000008  0.000008  0.000008  0.000008  0.000008  0.000008   \n",
       "4  0.000009  0.000009  0.000009  0.000009  0.007241  0.000009  0.000009   \n",
       "\n",
       "         35        36        37        38        39        40        41  \\\n",
       "0  0.000025  0.000025  0.000025  0.442560  0.000025  0.000025  0.064784   \n",
       "1  0.000050  0.000050  0.000050  0.000050  0.000050  0.000050  0.000050   \n",
       "2  0.000010  0.003909  0.000010  0.000010  0.000010  0.000010  0.355169   \n",
       "3  0.000008  0.000008  0.000008  0.000008  0.000008  0.000008  0.000008   \n",
       "4  0.000009  0.000009  0.000009  0.000009  0.000009  0.000009  0.000009   \n",
       "\n",
       "         42        43        44        45        46        47        48  \\\n",
       "0  0.231597  0.000025  0.000025  0.000025  0.000025  0.000025  0.000025   \n",
       "1  0.028499  0.000050  0.000050  0.000050  0.000050  0.000050  0.000050   \n",
       "2  0.059073  0.000010  0.000010  0.000010  0.000010  0.000010  0.000010   \n",
       "3  0.135038  0.000008  0.000008  0.000008  0.000008  0.000008  0.000008   \n",
       "4  0.162339  0.000009  0.000009  0.000009  0.000009  0.000009  0.000009   \n",
       "\n",
       "         49  \n",
       "0  0.000025  \n",
       "1  0.000050  \n",
       "2  0.000010  \n",
       "3  0.000008  \n",
       "4  0.000009  "
      ]
     },
     "execution_count": 81,
     "metadata": {},
     "output_type": "execute_result"
    }
   ],
   "source": [
    "topic_dist.head()"
   ]
  },
  {
   "cell_type": "code",
   "execution_count": 82,
   "metadata": {
    "ExecuteTime": {
     "end_time": "2020-04-25T17:57:08.503856Z",
     "start_time": "2020-04-25T17:57:08.496858Z"
    }
   },
   "outputs": [
    {
     "data": {
      "text/plain": [
       "(13202, 50)"
      ]
     },
     "execution_count": 82,
     "metadata": {},
     "output_type": "execute_result"
    }
   ],
   "source": [
    "topic_dist.shape"
   ]
  },
  {
   "cell_type": "markdown",
   "metadata": {},
   "source": [
    "## Get \"Nearest\" Papers (in Topic Space)"
   ]
  },
  {
   "cell_type": "code",
   "execution_count": 83,
   "metadata": {
    "ExecuteTime": {
     "end_time": "2020-04-25T17:57:14.274643Z",
     "start_time": "2020-04-25T17:57:14.256641Z"
    }
   },
   "outputs": [],
   "source": [
    "#########################################################################################################################\n",
    "#\n",
    "#    Title: Topic Modeling: Finding Related Articles\n",
    "#    Author: Daniel Wolffram\n",
    "#    Date: 2020\n",
    "#    Code version: 10\n",
    "#    Availability: https://www.kaggle.com/danielwolffram/topic-modeling-finding-related-articles?scriptVersionId=30463507\n",
    "# \n",
    "#########################################################################################################################\n",
    "def get_k_nearest_docs(doc_dist, k=5, lower=1950, upper=2020, only_covid19=False):\n",
    "    '''\n",
    "    doc_dist: topic distribution (sums to 1) of one article\n",
    "    \n",
    "    Returns the index of the k nearest articles (as by Jensen–Shannon divergence in topic space). \n",
    "    '''\n",
    "    \n",
    "    relevant_time = all_data.publish_year.between(lower, upper)\n",
    "    \n",
    "    if only_covid19:\n",
    "        is_covid19_article = all_data.text_body.str.contains('COVID-19|SARS-CoV-2|2019-nCov')\n",
    "        topic_dist_temp = topic_dist[relevant_time & is_covid19_article]\n",
    "        \n",
    "    else:\n",
    "        topic_dist_temp = topic_dist[relevant_time]\n",
    "         \n",
    "    distances = topic_dist_temp.apply(lambda x: jensenshannon(x, doc_dist), axis=1)\n",
    "    k_nearest = distances[distances != 0].nsmallest(n=k).index\n",
    "        \n",
    "    return k_nearest"
   ]
  },
  {
   "cell_type": "markdown",
   "metadata": {},
   "source": [
    "## Search related papers to a chosen one"
   ]
  },
  {
   "cell_type": "code",
   "execution_count": 84,
   "metadata": {
    "ExecuteTime": {
     "end_time": "2020-04-25T17:57:15.918383Z",
     "start_time": "2020-04-25T17:57:15.909401Z"
    }
   },
   "outputs": [],
   "source": [
    "#########################################################################################################################\n",
    "#\n",
    "#    Title: Topic Modeling: Finding Related Articles\n",
    "#    Author: Daniel Wolffram\n",
    "#    Date: 2020\n",
    "#    Code version: 10\n",
    "#    Availability: https://www.kaggle.com/danielwolffram/topic-modeling-finding-related-articles?scriptVersionId=30463507\n",
    "# \n",
    "#########################################################################################################################\n",
    "def recommendation(doc_id, k=5, lower=1950, upper=2020, only_covid19=False):\n",
    "    '''\n",
    "    Returns the title of the k papers that are closest (topic-wise) to the paper given by paper_id.\n",
    "    '''\n",
    "    \n",
    "    print(all_data.title[all_data.doc_id == doc_id].values[0])\n",
    "\n",
    "    recommended = get_k_nearest_docs(topic_dist[all_data.doc_id == doc_id].iloc[0], k, lower, upper, only_covid19)\n",
    "    recommended = all_data.iloc[recommended]\n",
    "    \n",
    "    h = '<br/>'.join(['<a href=\"' + l + '\" target=\"_blank\">'+ n + '</a>' for l, n in recommended[['doi','title']].values])\n",
    "    display(HTML(h))"
   ]
  },
  {
   "cell_type": "code",
   "execution_count": 85,
   "metadata": {
    "ExecuteTime": {
     "end_time": "2020-04-25T17:57:18.336398Z",
     "start_time": "2020-04-25T17:57:17.648380Z"
    }
   },
   "outputs": [
    {
     "name": "stdout",
     "output_type": "stream",
     "text": [
      "The effect of inhibition of PP1 and TNFα signaling on pathogenesis of SARS coronavirus\n"
     ]
    },
    {
     "data": {
      "text/html": [
       "<a href=\"http://dx.doi.org/10.1128/mBio.00271-13\" target=\"_blank\">Mechanisms of Severe Acute Respiratory Syndrome Coronavirus- Induced Acute Lung Injury</a><br/><a href=\"http://dx.doi.org/10.1371/journal.pone.0069374\" target=\"_blank\">A Network Integration Approach to Predict Conserved Regulators Related to Pathogenicity of Influenza and SARS-CoV Respiratory Viruses</a><br/><a href=\"http://dx.doi.org/10.1007/s00335-018-9750-y\" target=\"_blank\">Of mice and men -the host response to influenza virus infection 2</a><br/><a href=\"http://dx.doi.org/10.1186/1752-0509-5-202\" target=\"_blank\">A chemokine gene expression signature derived from meta-analysis predicts the pathogenicity of viral respiratory infections</a><br/><a href=\"http://dx.doi.org/10.1371/journal.pone.0126843\" target=\"_blank\">Multiplexed Component Analysis to Identify Genes Contributing to the Immune Response during Acute SIV Infection</a>"
      ],
      "text/plain": [
       "<IPython.core.display.HTML object>"
      ]
     },
     "metadata": {},
     "output_type": "display_data"
    }
   ],
   "source": [
    "recommendation('a137eb51461b4a4ed3980aa5b9cb2f2c1cf0292a', k=5, lower=2005, upper=2018, only_covid19=False)"
   ]
  },
  {
   "cell_type": "code",
   "execution_count": 86,
   "metadata": {
    "ExecuteTime": {
     "end_time": "2020-04-25T17:57:34.286378Z",
     "start_time": "2020-04-25T17:57:25.287381Z"
    }
   },
   "outputs": [
    {
     "name": "stdout",
     "output_type": "stream",
     "text": [
      "The effect of inhibition of PP1 and TNFα signaling on pathogenesis of SARS coronavirus\n"
     ]
    },
    {
     "data": {
      "text/html": [
       "<a href=\"http://doi.org/10.1101/2020.02.19.957118\" target=\"_blank\">Mucin 4 Protects Female Mice from Coronavirus Pathogenesis</a><br/><a href=\"http://doi.org/10.1101/2020.02.27.967588\" target=\"_blank\">TWIRLS, an automated topic-wise inference method based on massive literature, suggests a possible mechanism via ACE2 for the pathological changes in the human host after coronavirus infection</a><br/><a href=\"http://doi.org/10.1038/s41421-020-0147-1\" target=\"_blank\">Cell Discovery Comparative genetic analysis of the novel coronavirus (2019-nCoV/SARS-CoV-2) receptor ACE2 in different populations</a><br/><a href=\"http://doi.org/10.1101/2020.02.27.967885\" target=\"_blank\">Prediction of receptorome for human-infecting virome</a><br/><a href=\"http://doi.org/10.1101/2020.01.26.919985\" target=\"_blank\">Single-cell RNA expression profiling of ACE2, the putative receptor of Wuhan 2019-nCov</a>"
      ],
      "text/plain": [
       "<IPython.core.display.HTML object>"
      ]
     },
     "metadata": {},
     "output_type": "display_data"
    }
   ],
   "source": [
    "recommendation('a137eb51461b4a4ed3980aa5b9cb2f2c1cf0292a', k=5, lower=1950, upper=2020, only_covid19=True)"
   ]
  },
  {
   "cell_type": "code",
   "execution_count": 87,
   "metadata": {
    "ExecuteTime": {
     "end_time": "2020-04-25T17:57:36.453379Z",
     "start_time": "2020-04-25T17:57:34.290379Z"
    }
   },
   "outputs": [
    {
     "name": "stdout",
     "output_type": "stream",
     "text": [
      "The role of absolute humidity on transmission rates of the COVID-19 outbreak\n"
     ]
    },
    {
     "data": {
      "text/html": [
       "<a href=\"http://doi.org/10.1186/s40249-020-00640-3\" target=\"_blank\">A mathematical model for simulating the phase-based transmissibility of a novel coronavirus</a><br/><a href=\"http://doi.org/10.1016/j.ijid.2020.02.058\" target=\"_blank\">-NC-ND license (http://creativecommons.org/licenses/by-nc-nd/4.0/)</a><br/><a href=\"http://doi.org/10.3390/jcm9020601\" target=\"_blank\">Clinical Medicine Assessing the Impact of Reduced Travel on Exportation Dynamics of Novel Coronavirus Infection (COVID-19)</a><br/><a href=\"http://doi.org/10.1016/j.ijid.2020.02.033\" target=\"_blank\">Estimation of the reproductive number of novel coronavirus (COVID-19) and the probable outbreak size on the Diamond Princess cruise ship: A data-driven analysis</a><br/><a href=\"http://doi.org/10.1093/jtm/taaa030\" target=\"_blank\">COVID-19 outbreak on the Diamond Princess cruise ship: estimating the epidemic potential and effectiveness of public health countermeasures</a>"
      ],
      "text/plain": [
       "<IPython.core.display.HTML object>"
      ]
     },
     "metadata": {},
     "output_type": "display_data"
    }
   ],
   "source": [
    "recommendation('90b5ecf991032f3918ad43b252e17d1171b4ea63', k=5, only_covid19=True)"
   ]
  },
  {
   "cell_type": "code",
   "execution_count": 88,
   "metadata": {
    "ExecuteTime": {
     "end_time": "2020-04-25T17:57:38.542433Z",
     "start_time": "2020-04-25T17:57:36.456379Z"
    }
   },
   "outputs": [
    {
     "name": "stdout",
     "output_type": "stream",
     "text": [
      "Potential inhibitors for 2019-nCoV coronavirus M protease from clinically approved medicines\n"
     ]
    },
    {
     "data": {
      "text/html": [
       "<a href=\"http://doi.org/10.1101/2020.03.02.968388\" target=\"_blank\">Crystal structure of Nsp15 endoribonuclease NendoU from SARS-CoV-2 Running Title: Structure of Nsp15 from SARS-CoV-2</a><br/><a href=\"http://doi.org/10.1101/2020.02.17.952879\" target=\"_blank\">X-ray Structure of Main Protease of the Novel Coronavirus SARS-CoV-2 Enables Design of a-Ketoamide Inhibitors</a><br/><a href=\"http://doi.org/10.1101/2020.02.26.964882\" target=\"_blank\">Structure of M pro from COVID-19 virus and discovery of its inhibitors</a><br/><a href=\"http://doi.org/10.1101/2020.02.25.965582\" target=\"_blank\">Screening of FDA-approved drugs using a MERS-CoV clinical isolate from South Korea identifies potential therapeutic options for COVID-19</a><br/><a href=\"http://doi.org/10.1016/j.apsb.2020.02.008\" target=\"_blank\">Journal Pre-proof Analysis of therapeutic targets for SARS-CoV-2 and discovery of potential drugs by computational methods Analysis of therapeutic targets for SARS-CoV-2 and discovery of potential drugs by computational methods</a>"
      ],
      "text/plain": [
       "<IPython.core.display.HTML object>"
      ]
     },
     "metadata": {},
     "output_type": "display_data"
    }
   ],
   "source": [
    "recommendation('c04c7fb330a409a00f67040dde0f83b3da88eacb', k=5, only_covid19=True)"
   ]
  },
  {
   "cell_type": "code",
   "execution_count": 89,
   "metadata": {
    "ExecuteTime": {
     "end_time": "2020-04-25T17:57:39.416434Z",
     "start_time": "2020-04-25T17:57:38.546436Z"
    }
   },
   "outputs": [
    {
     "name": "stdout",
     "output_type": "stream",
     "text": [
      "Estimation of the epidemic properties of the 2019 novel coronavirus: A mathematical modeling study\n"
     ]
    },
    {
     "data": {
      "text/html": [
       "<a href=\"http://dx.doi.org/10.1038/s41598-018-19406-x\" target=\"_blank\">Methodological supplement for: Quantifying the Risk and Cost of Active Monitoring for Infectious Diseases Estimation of incubation period</a><br/><a href=\"http://dx.doi.org/10.1186/s12879-017-2934-3\" target=\"_blank\">The impact of regular school closure on seasonal influenza epidemics: a data-driven spatial transmission model for Belgium</a><br/><a href=\"http://doi.org/10.1101/230565\" target=\"_blank\">The impact of regular school closure on seasonal influenza epidemics: a data-driven spatial transmission model for Belgium</a><br/><a href=\"http://dx.doi.org/10.1371/journal.pmed.0030361\" target=\"_blank\">Supporting Protocol S1: Model definition Disease transmission</a><br/><a href=\"http://doi.org/10.3390/jcm9020523\" target=\"_blank\">Clinical Medicine Real-Time Estimation of the Risk of Death from Novel Coronavirus (COVID-19) Infection: Inference Using Exported Cases</a><br/><a href=\"http://dx.doi.org/10.3201/eid1201.050593\" target=\"_blank\">Real-time Estimates in Early Detection of SARS</a><br/><a href=\"http://dx.doi.org/10.1186/s12874-017-0300-1\" target=\"_blank\">A statistical method utilizing information of imported cases to estimate the transmissibility for an influenza pandemic</a><br/><a href=\"http://doi.org/10.1016/j.idm.2020.02.002\" target=\"_blank\">-NC-ND license (http://creativecommons.org/licenses/by-nc-nd/4.0/)</a><br/><a href=\"http://dx.doi.org/10.1371/journal.pntd.0004867\" target=\"_blank\">Epidemic in West Africa</a><br/><a href=\"http://dx.doi.org/10.3201/eid1201.050396\" target=\"_blank\">Real-time Forecast of Multiphase Outbreak</a>"
      ],
      "text/plain": [
       "<IPython.core.display.HTML object>"
      ]
     },
     "metadata": {},
     "output_type": "display_data"
    }
   ],
   "source": [
    "recommendation('36521caf90f471c9da1a4e84f8562440d73ead9a', k=10)"
   ]
  },
  {
   "cell_type": "markdown",
   "metadata": {},
   "source": [
    "## Widget: Pick a COVID-19-Paper"
   ]
  },
  {
   "cell_type": "code",
   "execution_count": 90,
   "metadata": {
    "ExecuteTime": {
     "end_time": "2020-04-25T17:57:44.262437Z",
     "start_time": "2020-04-25T17:57:44.236435Z"
    }
   },
   "outputs": [],
   "source": [
    "#########################################################################################################################\n",
    "#\n",
    "#    Title: Topic Modeling: Finding Related Articles\n",
    "#    Author: Daniel Wolffram\n",
    "#    Date: 2020\n",
    "#    Code version: 10\n",
    "#    Availability: https://www.kaggle.com/danielwolffram/topic-modeling-finding-related-articles?scriptVersionId=30463507\n",
    "# \n",
    "#########################################################################################################################\n",
    "def related_papers():\n",
    "    '''\n",
    "    Creates a widget where you can select one of many papers about covid-19 and then displays related articles from the whole dataset.\n",
    "    '''\n",
    "    covid_papers = all_data[all_data.text_body.str.contains('COVID-19|SARS-CoV-2|2019-nCov')][['doc_id', 'title']] # are there more names?\n",
    "    title_to_id = covid_papers.set_index('title')['doc_id'].to_dict()\n",
    "    \n",
    "    def main_function(bullet, k=5, year_range=[1950, 2020], only_covid19=False):\n",
    "        recommendation(title_to_id[bullet], k, lower=year_range[0], upper=year_range[1], only_covid19=only_covid19)\n",
    "    \n",
    "    yearW = widgets.IntRangeSlider(min=1950, max=2020, value=[2010, 2020], description='Year Range', \n",
    "                                   continuous_update=False, layout=Layout(width='40%'))\n",
    "    covidW = widgets.Checkbox(value=False,description='Only COVID-19-Papers',disabled=False, indent=False, layout=Layout(width='20%'))\n",
    "    kWidget = widgets.IntSlider(value=10, description='k', max=50, min=1, layout=Layout(width='20%'))\n",
    "\n",
    "    bulletW = widgets.Select(options=title_to_id.keys(), layout=Layout(width='90%', height='200px'), description='Title:')\n",
    "\n",
    "    widget = widgets.interactive(main_function, bullet=bulletW, k=kWidget, year_range=yearW, only_covid19=covidW)\n",
    "\n",
    "    controls = VBox([Box(children=[widget.children[:-1][1], widget.children[:-1][2], widget.children[:-1][3]], \n",
    "                         layout=Layout(justify_content='space-around')), widget.children[:-1][0]])\n",
    "    output = widget.children[-1]\n",
    "    display(VBox([controls, output]))"
   ]
  },
  {
   "cell_type": "code",
   "execution_count": 91,
   "metadata": {
    "ExecuteTime": {
     "end_time": "2020-04-25T17:57:48.308873Z",
     "start_time": "2020-04-25T17:57:46.244880Z"
    }
   },
   "outputs": [
    {
     "data": {
      "application/vnd.jupyter.widget-view+json": {
       "model_id": "1031e337d35740609fec2d5d0c8fffc3",
       "version_major": 2,
       "version_minor": 0
      },
      "text/plain": [
       "VBox(children=(VBox(children=(Box(children=(IntSlider(value=10, description='k', layout=Layout(width='20%'), m…"
      ]
     },
     "metadata": {},
     "output_type": "display_data"
    }
   ],
   "source": [
    "related_papers()"
   ]
  },
  {
   "cell_type": "markdown",
   "metadata": {},
   "source": [
    "## Browse Tasks"
   ]
  },
  {
   "cell_type": "markdown",
   "metadata": {},
   "source": [
    "We can now also map a task or bullet point into the topic space and find related articles that might help to solve the question at hand.\n",
    "\n",
    "Note: Some of the bullet points are very short - results might not be reliable in this case.\n",
    "\n",
    "(A similar approach, but with a different underlying model, can be found in CORD-19 Search articles with Doc2Vec)"
   ]
  },
  {
   "cell_type": "code",
   "execution_count": 92,
   "metadata": {
    "ExecuteTime": {
     "end_time": "2020-04-25T17:57:54.128479Z",
     "start_time": "2020-04-25T17:57:54.096475Z"
    }
   },
   "outputs": [],
   "source": [
    "#########################################################################################################################\n",
    "#\n",
    "#    Title: Topic Modeling: Finding Related Articles\n",
    "#    Author: Daniel Wolffram\n",
    "#    Date: 2020\n",
    "#    Code version: 10\n",
    "#    Availability: https://www.kaggle.com/danielwolffram/topic-modeling-finding-related-articles?scriptVersionId=30463507\n",
    "# \n",
    "#########################################################################################################################\n",
    "task1 = [\"Range of incubation periods for the disease in humans (and how this varies across age and health status) and how long individuals are contagious, even after recovery.\",\n",
    "\"Prevalence of asymptomatic shedding and transmission (e.g., particularly children).\",\n",
    "\"Seasonality of transmission.\",\n",
    "\"Physical science of the coronavirus (e.g., charge distribution, adhesion to hydrophilic/phobic surfaces, environmental survival to inform decontamination efforts for affected areas and provide information about viral shedding).\",\n",
    "\"Persistence and stability on a multitude of substrates and sources (e.g., nasal discharge, sputum, urine, fecal matter, blood).\",\n",
    "\"Persistence of virus on surfaces of different materials (e,g., copper, stainless steel, plastic).\",\n",
    "\"Natural history of the virus and shedding of it from an infected person\",\n",
    "\"Implementation of diagnostics and products to improve clinical processes\",\n",
    "\"Disease models, including animal models for infection, disease and transmission\",\n",
    "\"Tools and studies to monitor phenotypic change and potential adaptation of the virus\",\n",
    "\"Immune response and immunity\",\n",
    "\"Effectiveness of movement control strategies to prevent secondary transmission in health care and community settings\",\n",
    " \"Effectiveness of personal protective equipment (PPE) and its usefulness to reduce risk of transmission in health care and community settings\",\n",
    "\"Role of the environment in transmission\"]\n",
    "\n",
    "task2 = ['Data on potential risks factors',\n",
    "'Smoking, pre-existing pulmonary disease',\n",
    "'Co-infections (determine whether co-existing respiratory/viral infections make the virus more transmissible or virulent) and other co-morbidities',\n",
    "'Neonates and pregnant women',\n",
    "'Socio-economic and behavioral factors to understand the economic impact of the virus and whether there were differences.',\n",
    "'Transmission dynamics of the virus, including the basic reproductive number, incubation period, serial interval, modes of transmission and environmental factors', \n",
    "'Severity of disease, including risk of fatality among symptomatic hospitalized patients, and high-risk patient groups',\n",
    "'Susceptibility of populations',\n",
    "'Public health mitigation measures that could be effective for control']\n",
    "\n",
    "task3 = ['Real-time tracking of whole genomes and a mechanism for coordinating the rapid dissemination of that information to inform the development of diagnostics and therapeutics and to track variations of the virus over time.',\n",
    "'Access to geographic and temporal diverse sample sets to understand geographic distribution and genomic differences, and determine whether there is more than one strain in circulation. Multi-lateral agreements such as the Nagoya Protocol could be leveraged.',\n",
    "'Evidence that livestock could be infected (e.g., field surveillance, genetic sequencing, receptor binding) and serve as a reservoir after the epidemic appears to be over.',\n",
    "'Evidence of whether farmers are infected, and whether farmers could have played a role in the origin.',\n",
    "'Surveillance of mixed wildlife- livestock farms for SARS-CoV-2 and other coronaviruses in Southeast Asia.',\n",
    "'Experimental infections to test host range for this pathogen.',\n",
    "'Animal host(s) and any evidence of continued spill-over to humans',\n",
    "'Socioeconomic and behavioral risk factors for this spill-over',\n",
    "'Sustainable risk reduction strategies']\n",
    "\n",
    "task4 = [\"Guidance on ways to scale up NPIs in a more coordinated way (e.g., establish funding, infrastructure and authorities to support real time, authoritative (qualified participants) collaboration with all states to gain consensus on consistent guidance and to mobilize resources to geographic areas where critical shortfalls are identified) to give us time to enhance our health care delivery system capacity to respond to an increase in cases.\",\n",
    "\"Rapid design and execution of experiments to examine and compare NPIs currently being implemented. DHS Centers for Excellence could potentially be leveraged to conduct these experiments.\",\n",
    "\"Rapid assessment of the likely efficacy of school closures, travel bans, bans on mass gatherings of various sizes, and other social distancing approaches.\",\n",
    "\"Methods to control the spread in communities, barriers to compliance and how these vary among different populations..\",\n",
    "\"Models of potential interventions to predict costs and benefits that take account of such factors as race, income, disability, age, geographic location, immigration status, housing status, employment status, and health insurance status.\",\n",
    "\"Policy changes necessary to enable the compliance of individuals with limited resources and the underserved with NPIs.\",\n",
    "\"Research on why people fail to comply with public health advice, even if they want to do so (e.g., social or financial costs may be too high).\",\n",
    "\"Research on the economic impact of this or any pandemic. This would include identifying policy and programmatic alternatives that lessen/mitigate risks to critical government services, food distribution and supplies, access to critical household supplies, and access to health diagnoses, treatment, and needed care, regardless of ability to pay.\"]\n",
    "\n",
    "task5 = [\"Effectiveness of drugs being developed and tried to treat COVID-19 patients. Clinical and bench trials to investigate less common viral inhibitors against COVID-19 such as naproxen, clarithromycin, and minocyclinethat that may exert effects on viral replication.\",\n",
    "\"Methods evaluating potential complication of Antibody-Dependent Enhancement (ADE) in vaccine recipients.\",\n",
    "\"Exploration of use of best animal models and their predictive value for a human vaccine.\",\n",
    "\"Capabilities to discover a therapeutic (not vaccine) for the disease, and clinical effectiveness studies to discover therapeutics, to include antiviral agents.\",\n",
    "\"Alternative models to aid decision makers in determining how to prioritize and distribute scarce, newly proven therapeutics as production ramps up. This could include identifying approaches for expanding production capacity to ensure equitable and timely distribution to populations in need.\",\n",
    "\"Efforts targeted at a universal coronavirus vaccine.\",\n",
    "\"Efforts to develop animal models and standardize challenge studies\",\n",
    "\"Efforts to develop prophylaxis clinical studies and prioritize in healthcare workers\",\n",
    "\"Approaches to evaluate risk for enhanced disease after vaccination\",\n",
    "\"Assays to evaluate vaccine immune response and process development for vaccines, alongside suitable animal models [in conjunction with therapeutics]\"]\n",
    "\n",
    "task6 = [\"Efforts to articulate and translate existing ethical principles and standards to salient issues in COVID-2019\", \n",
    "\"Efforts to embed ethics across all thematic areas, engage with novel ethical issues that arise and coordinate to minimize duplication of oversight\",\n",
    "\"Efforts to support sustained education, access, and capacity building in the area of ethics\",\n",
    "\"Efforts to establish a team at WHO that will be integrated within multidisciplinary research and operational platforms and that will connect with existing and expanded global networks of social sciences.\",\n",
    "\"Efforts to develop qualitative assessment frameworks to systematically collect information related to local barriers and enablers for the uptake and adherence to public health measures for prevention and control. This includes the rapid identification of the secondary impacts of these measures. (e.g. use of surgical masks, modification of health seeking behaviors for SRH, school closures)\",\n",
    "\"Efforts to identify how the burden of responding to the outbreak and implementing public health measures affects the physical and psychological health of those providing care for Covid-19 patients and identify the immediate needs that must be addressed.\",\n",
    "\"Efforts to identify the underlying drivers of fear, anxiety and stigma that fuel misinformation and rumor, particularly through social media.\"]\n",
    "\n",
    "task7 = [\"How widespread current exposure is to be able to make immediate policy recommendations on mitigation measures. Denominators for testing and a mechanism for rapidly sharing that information, including demographics, to the extent possible. Sampling methods to determine asymptomatic disease (e.g., use of serosurveys (such as convalescent samples) and early detection of disease (e.g., use of screening of neutralizing antibodies such as ELISAs).\",\n",
    "\"Efforts to increase capacity on existing diagnostic platforms and tap into existing surveillance platforms.\",\n",
    "\"Recruitment, support, and coordination of local expertise and capacity (public, private—commercial, and non-profit, including academic), including legal, ethical, communications, and operational issues.\",\n",
    "\"National guidance and guidelines about best practices to states (e.g., how states might leverage universities and private laboratories for testing purposes, communications to public health officials and the public).\",\n",
    "\"Development of a point-of-care test (like a rapid influenza test) and rapid bed-side tests, recognizing the tradeoffs between speed, accessibility, and accuracy.\",\n",
    "\"Rapid design and execution of targeted surveillance experiments calling for all potential testers using PCR in a defined area to start testing and report to a specific entity. These experiments could aid in collecting longitudinal samples, which are critical to understanding the impact of ad hoc local interventions (which also need to be recorded).\",\n",
    "\"Separation of assay development issues from instruments, and the role of the private sector to help quickly migrate assays onto those devices.\",\n",
    "\"Efforts to track the evolution of the virus (i.e., genetic drift or mutations) and avoid locking into specific reagents and surveillance/detection schemes.\",\n",
    "\"Latency issues and when there is sufficient viral load to detect the pathogen, and understanding of what is needed in terms of biological and environmental sampling.\",\n",
    "\"Use of diagnostics such as host response markers (e.g., cytokines) to detect early disease or predict severe disease progression, which would be important to understanding best clinical practice and efficacy of therapeutic interventions.\",\n",
    "\"Policies and protocols for screening and testing.\",\n",
    "\"Policies to mitigate the effects on supplies associated with mass testing, including swabs and reagents.\",\n",
    "\"Technology roadmap for diagnostics.\",\n",
    "\"Barriers to developing and scaling up new diagnostic tests (e.g., market forces), how future coalition and accelerator models (e.g., Coalition for Epidemic Preparedness Innovations) could provide critical funding for diagnostics, and opportunities for a streamlined regulatory environment.\",\n",
    "\"New platforms and technology (e.g., CRISPR) to improve response times and employ more holistic approaches to COVID-19 and future diseases.\",\n",
    "\"Coupling genomics and diagnostic testing on a large scale.\",\n",
    "\"Enhance capabilities for rapid sequencing and bioinformatics to target regions of the genome that will allow specificity for a particular variant.\",\n",
    "\"Enhance capacity (people, technology, data) for sequencing with advanced analytics for unknown pathogens, and explore capabilities for distinguishing naturally-occurring pathogens from intentional.\",\n",
    "\"One Health surveillance of humans and potential sources of future spillover or ongoing exposure for this organism and future pathogens, including both evolutionary hosts (e.g., bats) and transmission hosts (e.g., heavily trafficked and farmed wildlife and domestic food and companion species), inclusive of environmental, demographic, and occupational risk factors.\"]\n",
    "\n",
    "task8 = [\"Resources to support skilled nursing facilities and long term care facilities.\",\n",
    "\"Mobilization of surge medical staff to address shortages in overwhelmed communities\",\n",
    "\"Age-adjusted mortality data for Acute Respiratory Distress Syndrome (ARDS) with/without other organ failure – particularly for viral etiologies\",\n",
    "\"Extracorporeal membrane oxygenation (ECMO) outcomes data of COVID-19 patients\",\n",
    "\"Outcomes data for COVID-19 after mechanical ventilation adjusted for age.\",\n",
    "\"Knowledge of the frequency, manifestations, and course of extrapulmonary manifestations of COVID-19, including, but not limited to, possible cardiomyopathy and cardiac arrest.\",\n",
    "\"Application of regulatory standards (e.g., EUA, CLIA) and ability to adapt care to crisis standards of care level.\",\n",
    "\"Approaches for encouraging and facilitating the production of elastomeric respirators, which can save thousands of N95 masks.\",\n",
    "\"Best telemedicine practices, barriers and faciitators, and specific actions to remove/expand them within and across state boundaries.\",\n",
    "\"Guidance on the simple things people can do at home to take care of sick people and manage disease.\",\n",
    "\"Oral medications that might potentially work.\",\n",
    "\"Use of AI in real-time health care delivery to evaluate interventions, risk factors, and outcomes in a way that could not be done manually.\",\n",
    "\"Best practices and critical challenges and innovative solutions and technologies in hospital flow and organization, workforce protection, workforce allocation, community-based support resources, payment, and supply chain management to enhance capacity, efficiency, and outcomes.\",\n",
    "\"Efforts to define the natural history of disease to inform clinical care, public health interventions, infection prevention control, transmission, and clinical trials\",\n",
    "\"Efforts to develop a core clinical outcome set to maximize usability of data across a range of trials\",\n",
    "\"Efforts to determine adjunctive and supportive interventions that can improve the clinical outcomes of infected patients (e.g. steroids, high flow oxygen)\"]\n",
    "\n",
    "task9 = [\"Methods for coordinating data-gathering with standardized nomenclature.\",\n",
    "\"Sharing response information among planners, providers, and others.\",\n",
    "\"Understanding and mitigating barriers to information-sharing.\",\n",
    "\"How to recruit, support, and coordinate local (non-Federal) expertise and capacity relevant to public health emergency response (public, private, commercial and non-profit, including academic).\",\n",
    "\"Integration of federal/state/local public health surveillance systems.\",\n",
    "\"Value of investments in baseline public health response infrastructure preparedness\",\n",
    "\"Modes of communicating with target high-risk populations (elderly, health care workers).\",\n",
    "\"Risk communication and guidelines that are easy to understand and follow (include targeting at risk populations’ families too).\",\n",
    "\"Communication that indicates potential risk of disease to all population groups.\",\n",
    "\"Misunderstanding around containment and mitigation.\",\n",
    "\"Action plan to mitigate gaps and problems of inequity in the Nation’s public health capability, capacity, and funding to ensure all citizens in need are supported and can access information, surveillance, and treatment.\",\n",
    "\"Measures to reach marginalized and disadvantaged populations.\",\n",
    "\"Data systems and research priorities and agendas incorporate attention to the needs and circumstances of disadvantaged populations and underrepresented minorities.\",\n",
    "\"Mitigating threats to incarcerated people from COVID-19, assuring access to information, prevention, diagnosis, and treatment.\",\n",
    "\"Understanding coverage policies (barriers and opportunities) related to testing, treatment, and care\"]"
   ]
  },
  {
   "cell_type": "code",
   "execution_count": 93,
   "metadata": {
    "ExecuteTime": {
     "end_time": "2020-04-25T17:58:14.440156Z",
     "start_time": "2020-04-25T17:58:14.432161Z"
    }
   },
   "outputs": [],
   "source": [
    "#########################################################################################################################\n",
    "#\n",
    "#    Title: Topic Modeling: Finding Related Articles\n",
    "#    Author: Daniel Wolffram\n",
    "#    Date: 2020\n",
    "#    Code version: 10\n",
    "#    Availability: https://www.kaggle.com/danielwolffram/topic-modeling-finding-related-articles?scriptVersionId=30463507\n",
    "# \n",
    "#########################################################################################################################\n",
    "def relevant_articles(tasks, k=3, lower=1950, upper=2020, only_covid19=False):\n",
    "    tasks = [tasks] if type(tasks) is str else tasks \n",
    "    \n",
    "    tasks_tf = tf_vectorizer.transform(tasks)\n",
    "    tasks_topic_dist = pd.DataFrame(lda_tf.transform(tasks_tf))\n",
    "\n",
    "    for index, bullet in enumerate(tasks):\n",
    "        print(bullet)\n",
    "        recommended = get_k_nearest_docs(tasks_topic_dist.iloc[index], k, lower, upper, only_covid19)\n",
    "        recommended = all_data.iloc[recommended]\n",
    "\n",
    "        h = '<br/>'.join(['<a href=\"' + l + '\" target=\"_blank\">'+ n + '</a>' for l, n in recommended[['doi','title']].values])\n",
    "        display(HTML(h))"
   ]
  },
  {
   "cell_type": "markdown",
   "metadata": {},
   "source": [
    "### What is known about transmission, incubation, and environmental stability?"
   ]
  },
  {
   "cell_type": "code",
   "execution_count": 94,
   "metadata": {
    "ExecuteTime": {
     "end_time": "2020-04-25T17:58:46.163773Z",
     "start_time": "2020-04-25T17:58:16.456718Z"
    }
   },
   "outputs": [
    {
     "name": "stdout",
     "output_type": "stream",
     "text": [
      "Range of incubation periods for the disease in humans (and how this varies across age and health status) and how long individuals are contagious, even after recovery.\n"
     ]
    },
    {
     "data": {
      "text/html": [
       "<a href=\"http://doi.org/10.1017/S0950268820000424\" target=\"_blank\">Epidemiology and Infection Passengers' destinations from China: low risk of Novel Coronavirus (2019-nCoV) transmission into Africa and South America</a><br/><a href=\"http://doi.org/10.1101/2020.01.23.916726\" target=\"_blank\">Modelling the epidemic trend of the 2019 novel coronavirus outbreak in China</a><br/><a href=\"http://dx.doi.org/10.2807/1560-7917.ES.2020.25.3.2000044\" target=\"_blank\">nan</a><br/><a href=\"http://doi.org/10.1016/S2589-7500(20)30026-1\" target=\"_blank\">Early epidemiological analysis of the coronavirus disease 2019 outbreak based on crowdsourced data: a population- level observational study</a><br/><a href=\"http://doi.org/10.1016/S2214-109X(20)30074-7\" target=\"_blank\">Feasibility of controlling COVID-19 outbreaks by isolation of cases and contacts</a>"
      ],
      "text/plain": [
       "<IPython.core.display.HTML object>"
      ]
     },
     "metadata": {},
     "output_type": "display_data"
    },
    {
     "name": "stdout",
     "output_type": "stream",
     "text": [
      "Prevalence of asymptomatic shedding and transmission (e.g., particularly children).\n"
     ]
    },
    {
     "data": {
      "text/html": [
       "<a href=\"http://doi.org/10.2807/1560-7917.ES.2020.25.8.2000170\" target=\"_blank\">Rapid communication</a><br/><a href=\"http://doi.org/10.2807/1560-7917.ES.2020.25.8.2000171\" target=\"_blank\">Letter to the editor: Plenty of coronaviruses but no SARS-CoV-2</a><br/><a href=\"http://doi.org/10.1016/j.jmii.2020.02.011\" target=\"_blank\">Are children less susceptible to COVID-19?</a><br/><a href=\"http://doi.org/10.1016/j.jfma.2020.02.009\" target=\"_blank\">SARS-CoV-2 infection in children: Transmission dynamics and clinical characteristics</a><br/><a href=\"http://doi.org/10.1016/j.jmii.2020.02.012\" target=\"_blank\">Journal Pre-proof Asymptomatic carrier state, acute respiratory disease, and pneumonia due to severe acute respiratory syndrome coronavirus 2 (SARSCoV-2): Facts and myths</a>"
      ],
      "text/plain": [
       "<IPython.core.display.HTML object>"
      ]
     },
     "metadata": {},
     "output_type": "display_data"
    },
    {
     "name": "stdout",
     "output_type": "stream",
     "text": [
      "Seasonality of transmission.\n"
     ]
    },
    {
     "data": {
      "text/html": [
       "<a href=\"http://doi.org/10.1101/2020.01.23.916726\" target=\"_blank\">Modelling the epidemic trend of the 2019 novel coronavirus outbreak in China</a><br/><a href=\"http://dx.doi.org/10.2807/1560-7917.ES.2020.25.3.2000044\" target=\"_blank\">nan</a><br/><a href=\"http://doi.org/10.1017/S0950268820000424\" target=\"_blank\">Epidemiology and Infection Passengers' destinations from China: low risk of Novel Coronavirus (2019-nCoV) transmission into Africa and South America</a><br/><a href=\"http://doi.org/10.1016/S2589-7500(20)30026-1\" target=\"_blank\">Early epidemiological analysis of the coronavirus disease 2019 outbreak based on crowdsourced data: a population- level observational study</a><br/><a href=\"http://doi.org/10.1097/CM9.0000000000000776\" target=\"_blank\">From SARS-CoV to SARS-CoV-2 Outbreak: Similarities in the Early Epidemics and Prediction of Future Trends</a>"
      ],
      "text/plain": [
       "<IPython.core.display.HTML object>"
      ]
     },
     "metadata": {},
     "output_type": "display_data"
    },
    {
     "name": "stdout",
     "output_type": "stream",
     "text": [
      "Physical science of the coronavirus (e.g., charge distribution, adhesion to hydrophilic/phobic surfaces, environmental survival to inform decontamination efforts for affected areas and provide information about viral shedding).\n"
     ]
    },
    {
     "data": {
      "text/html": [
       "<a href=\"http://dx.doi.org/10.1002/cti2.1115\" target=\"_blank\">Frontiers in antiviral therapy and immunotherapy</a><br/><a href=\"http://doi.org/10.1097/CM9.0000000000000787\" target=\"_blank\">nan</a><br/><a href=\"http://doi.org/10.1097/CM9.0000000000000760\" target=\"_blank\">nan</a><br/><a href=\"http://doi.org/10.3390/healthcare8010046\" target=\"_blank\">On the Coronavirus (COVID-19) Outbreak and the Smart City Network: Universal Data Sharing Standards Coupled with Artificial Intelligence (AI) to Benefit Urban Health Monitoring and Management</a><br/><a href=\"http://doi.org/10.1097/CM9.0000000000000777\" target=\"_blank\">Science in the fight against the novel coronavirus disease</a>"
      ],
      "text/plain": [
       "<IPython.core.display.HTML object>"
      ]
     },
     "metadata": {},
     "output_type": "display_data"
    },
    {
     "name": "stdout",
     "output_type": "stream",
     "text": [
      "Persistence and stability on a multitude of substrates and sources (e.g., nasal discharge, sputum, urine, fecal matter, blood).\n"
     ]
    },
    {
     "data": {
      "text/html": [
       "<a href=\"http://doi.org/10.1101/2020.02.26.967026\" target=\"_blank\">CRISPR-based surveillance for COVID-19 using genomically-comprehensive machine learning design</a><br/><a href=\"http://doi.org/10.1101/2020.03.08.982637\" target=\"_blank\">Aerodynamic Characteristics and RNA Concentration of SARS-CoV-2 Aerosol in Wuhan Hospitals during COVID-19 Outbreak</a><br/><a href=\"http://doi.org/10.1101/2020.02.22.961268\" target=\"_blank\">A simple magnetic nanoparticles-based viral RNA extraction method for efficient detection of SARS-CoV-2</a><br/><a href=\"http://doi.org/10.1101/2020.03.08.980383\" target=\"_blank\">In silico approach to accelerate the development of mass spectrometry-based proteomics methods for detection of viral proteins: Application to COVID-19</a><br/><a href=\"http://doi.org/10.1016/j.jmii.2020.02.009\" target=\"_blank\">nan</a>"
      ],
      "text/plain": [
       "<IPython.core.display.HTML object>"
      ]
     },
     "metadata": {},
     "output_type": "display_data"
    },
    {
     "name": "stdout",
     "output_type": "stream",
     "text": [
      "Persistence of virus on surfaces of different materials (e,g., copper, stainless steel, plastic).\n"
     ]
    },
    {
     "data": {
      "text/html": [
       "<a href=\"http://doi.org/10.1016/j.infpip.2020.100044\" target=\"_blank\">Potential role of inanimate surfaces for the spread of coronaviruses and their inactivation with disinfectant agents</a><br/><a href=\"http://doi.org/10.1101/2020.02.16.951723\" target=\"_blank\">SARS-CoV-2 and SARS-CoV Spike-RBD Structure and Receptor Binding Comparison and Potential Implications on Neutralizing Antibody and Vaccine Development</a><br/><a href=\"http://doi.org/10.1101/2020.02.22.961268\" target=\"_blank\">A simple magnetic nanoparticles-based viral RNA extraction method for efficient detection of SARS-CoV-2</a><br/><a href=\"http://doi.org/10.1101/2020.02.20.958785\" target=\"_blank\">Inactivating porcine coronavirus before nuclei acid isolation with the temperature higher than 56 o C damages its genome integrity seriously</a><br/><a href=\"http://doi.org/10.1101/2020.02.29.965418\" target=\"_blank\">The within-host viral kinetics of SARS-CoV-2</a>"
      ],
      "text/plain": [
       "<IPython.core.display.HTML object>"
      ]
     },
     "metadata": {},
     "output_type": "display_data"
    },
    {
     "name": "stdout",
     "output_type": "stream",
     "text": [
      "Natural history of the virus and shedding of it from an infected person\n"
     ]
    },
    {
     "data": {
      "text/html": [
       "<a href=\"http://doi.org/10.1101/2020.01.23.916726\" target=\"_blank\">Modelling the epidemic trend of the 2019 novel coronavirus outbreak in China</a><br/><a href=\"http://dx.doi.org/10.2807/1560-7917.ES.2020.25.3.2000044\" target=\"_blank\">nan</a><br/><a href=\"http://doi.org/10.1017/S0950268820000424\" target=\"_blank\">Epidemiology and Infection Passengers' destinations from China: low risk of Novel Coronavirus (2019-nCoV) transmission into Africa and South America</a><br/><a href=\"http://doi.org/10.3390/ijerph17051633\" target=\"_blank\">Potential Factors Influencing Repeated SARS Outbreaks in China</a><br/><a href=\"http://doi.org/10.1097/CM9.0000000000000776\" target=\"_blank\">From SARS-CoV to SARS-CoV-2 Outbreak: Similarities in the Early Epidemics and Prediction of Future Trends</a>"
      ],
      "text/plain": [
       "<IPython.core.display.HTML object>"
      ]
     },
     "metadata": {},
     "output_type": "display_data"
    },
    {
     "name": "stdout",
     "output_type": "stream",
     "text": [
      "Implementation of diagnostics and products to improve clinical processes\n"
     ]
    },
    {
     "data": {
      "text/html": [
       "<a href=\"http://doi.org/10.1101/2020.03.08.980383\" target=\"_blank\">In silico approach to accelerate the development of mass spectrometry-based proteomics methods for detection of viral proteins: Application to COVID-19</a><br/><a href=\"http://doi.org/10.1101/2020.02.22.961268\" target=\"_blank\">A simple magnetic nanoparticles-based viral RNA extraction method for efficient detection of SARS-CoV-2</a><br/><a href=\"http://doi.org/10.1101/2020.02.26.967026\" target=\"_blank\">CRISPR-based surveillance for COVID-19 using genomically-comprehensive machine learning design</a><br/><a href=\"http://doi.org/10.1101/2020.02.29.971093\" target=\"_blank\">Mycroft-West et al. (2020) Running title: SARS-CoV-2 surface S1 Receptor Binding Domain binds heparin The 2019 coronavirus (SARS-CoV-2) surface protein (Spike) S1 Receptor Binding Domain undergoes conformational change upon heparin binding</a><br/><a href=\"http://doi.org/10.1101/2020.03.08.982637\" target=\"_blank\">Aerodynamic Characteristics and RNA Concentration of SARS-CoV-2 Aerosol in Wuhan Hospitals during COVID-19 Outbreak</a>"
      ],
      "text/plain": [
       "<IPython.core.display.HTML object>"
      ]
     },
     "metadata": {},
     "output_type": "display_data"
    },
    {
     "name": "stdout",
     "output_type": "stream",
     "text": [
      "Disease models, including animal models for infection, disease and transmission\n"
     ]
    },
    {
     "data": {
      "text/html": [
       "<a href=\"http://doi.org/10.1101/2020.03.02.974048\" target=\"_blank\">Speed and strength of an epidemic intervention</a><br/><a href=\"http://doi.org/10.3390/jcm9030674\" target=\"_blank\">Clinical Medicine Optimization Method for Forecasting Confirmed Cases of COVID-19 in China</a><br/><a href=\"http://doi.org/10.3390/jcm9030637\" target=\"_blank\">Epidemiological Identification of A Novel Pathogen in Real Time: Analysis of the Atypical Pneumonia Outbreak in Wuhan</a><br/><a href=\"http://doi.org/10.1097/CM9.0000000000000760\" target=\"_blank\">nan</a><br/><a href=\"http://dx.doi.org/10.1002/cti2.1115\" target=\"_blank\">Frontiers in antiviral therapy and immunotherapy</a>"
      ],
      "text/plain": [
       "<IPython.core.display.HTML object>"
      ]
     },
     "metadata": {},
     "output_type": "display_data"
    },
    {
     "name": "stdout",
     "output_type": "stream",
     "text": [
      "Tools and studies to monitor phenotypic change and potential adaptation of the virus\n"
     ]
    },
    {
     "data": {
      "text/html": [
       "<a href=\"http://doi.org/10.1101/2020.02.27.967588\" target=\"_blank\">TWIRLS, an automated topic-wise inference method based on massive literature, suggests a possible mechanism via ACE2 for the pathological changes in the human host after coronavirus infection</a><br/><a href=\"http://doi.org/10.1101/2020.02.19.957118\" target=\"_blank\">Mucin 4 Protects Female Mice from Coronavirus Pathogenesis</a><br/><a href=\"http://doi.org/10.1101/2020.01.26.919985\" target=\"_blank\">Single-cell RNA expression profiling of ACE2, the putative receptor of Wuhan 2019-nCov</a><br/><a href=\"http://doi.org/10.1038/s41421-020-0147-1\" target=\"_blank\">Cell Discovery Comparative genetic analysis of the novel coronavirus (2019-nCoV/SARS-CoV-2) receptor ACE2 in different populations</a><br/><a href=\"http://doi.org/10.1101/2020.02.27.967885\" target=\"_blank\">Prediction of receptorome for human-infecting virome</a>"
      ],
      "text/plain": [
       "<IPython.core.display.HTML object>"
      ]
     },
     "metadata": {},
     "output_type": "display_data"
    },
    {
     "name": "stdout",
     "output_type": "stream",
     "text": [
      "Immune response and immunity\n"
     ]
    },
    {
     "data": {
      "text/html": [
       "<a href=\"http://doi.org/10.1101/2020.02.25.963546\" target=\"_blank\">An Effective CTL Peptide Vaccine for Ebola Zaire Based on Survivors' CD8+ Targeting of a Particular Nucleocapsid Protein Epitope with Potential Implications for COVID-19 Vaccine Design</a><br/><a href=\"http://doi.org/10.1101/2020.02.16.951723\" target=\"_blank\">SARS-CoV-2 and SARS-CoV Spike-RBD Structure and Receptor Binding Comparison and Potential Implications on Neutralizing Antibody and Vaccine Development</a><br/><a href=\"http://doi.org/10.1038/s41586-020-2012-7\" target=\"_blank\">A pneumonia outbreak associated with a new coronavirus of probable bat origin</a><br/><a href=\"http://doi.org/10.1101/2020.02.19.957118\" target=\"_blank\">Mucin 4 Protects Female Mice from Coronavirus Pathogenesis</a><br/><a href=\"http://doi.org/10.1101/2020.03.06.980037\" target=\"_blank\">Monoclonal antibodies for the S2 subunit of spike of SARS-CoV cross-react with the newly-emerged SARS-CoV-2</a>"
      ],
      "text/plain": [
       "<IPython.core.display.HTML object>"
      ]
     },
     "metadata": {},
     "output_type": "display_data"
    },
    {
     "name": "stdout",
     "output_type": "stream",
     "text": [
      "Effectiveness of movement control strategies to prevent secondary transmission in health care and community settings\n"
     ]
    },
    {
     "data": {
      "text/html": [
       "<a href=\"http://doi.org/10.1101/2020.01.23.916726\" target=\"_blank\">Modelling the epidemic trend of the 2019 novel coronavirus outbreak in China</a><br/><a href=\"http://doi.org/10.1017/S0950268820000424\" target=\"_blank\">Epidemiology and Infection Passengers' destinations from China: low risk of Novel Coronavirus (2019-nCoV) transmission into Africa and South America</a><br/><a href=\"http://dx.doi.org/10.2807/1560-7917.ES.2020.25.3.2000044\" target=\"_blank\">nan</a><br/><a href=\"http://doi.org/10.1016/S2589-7500(20)30026-1\" target=\"_blank\">Early epidemiological analysis of the coronavirus disease 2019 outbreak based on crowdsourced data: a population- level observational study</a><br/><a href=\"http://doi.org/10.1016/S2214-109X(20)30074-7\" target=\"_blank\">Feasibility of controlling COVID-19 outbreaks by isolation of cases and contacts</a>"
      ],
      "text/plain": [
       "<IPython.core.display.HTML object>"
      ]
     },
     "metadata": {},
     "output_type": "display_data"
    },
    {
     "name": "stdout",
     "output_type": "stream",
     "text": [
      "Effectiveness of personal protective equipment (PPE) and its usefulness to reduce risk of transmission in health care and community settings\n"
     ]
    },
    {
     "data": {
      "text/html": [
       "<a href=\"http://doi.org/10.1093/pcmedi/pbaa006\" target=\"_blank\">nan</a><br/><a href=\"http://doi.org/10.1016/S2468-2667(20)30033-5\" target=\"_blank\">Comment</a><br/><a href=\"http://dx.doi.org/10.2471/BLT.20.251561\" target=\"_blank\">150 | b Health Emergencies Preparedness and Response, World Health Organization</a><br/><a href=\"http://doi.org/10.3399/bjgpopen20X101041\" target=\"_blank\">President, World Organisation of Family Doctors (WONca)</a><br/><a href=\"http://dx.doi.org/10.30773/pi.2020.0058\" target=\"_blank\">nan</a>"
      ],
      "text/plain": [
       "<IPython.core.display.HTML object>"
      ]
     },
     "metadata": {},
     "output_type": "display_data"
    },
    {
     "name": "stdout",
     "output_type": "stream",
     "text": [
      "Role of the environment in transmission\n"
     ]
    },
    {
     "data": {
      "text/html": [
       "<a href=\"http://dx.doi.org/10.1002/cti2.1115\" target=\"_blank\">Frontiers in antiviral therapy and immunotherapy</a><br/><a href=\"http://doi.org/10.1097/CM9.0000000000000760\" target=\"_blank\">nan</a><br/><a href=\"http://doi.org/10.1016/j.onehlt.2020.100124\" target=\"_blank\">To appear in: One Health</a><br/><a href=\"http://doi.org/10.2807/1560-7917.ES.2020.25.8.2000197\" target=\"_blank\">Authors' response: Plenty of coronaviruses but no SARS-CoV-2</a><br/><a href=\"http://doi.org/10.1097/CM9.0000000000000777\" target=\"_blank\">Science in the fight against the novel coronavirus disease</a>"
      ],
      "text/plain": [
       "<IPython.core.display.HTML object>"
      ]
     },
     "metadata": {},
     "output_type": "display_data"
    }
   ],
   "source": [
    "relevant_articles(task1, 5, only_covid19=True)"
   ]
  },
  {
   "cell_type": "markdown",
   "metadata": {},
   "source": [
    "### What do we know about COVID-19 risk factors?"
   ]
  },
  {
   "cell_type": "code",
   "execution_count": 95,
   "metadata": {
    "ExecuteTime": {
     "end_time": "2020-04-25T18:01:42.528877Z",
     "start_time": "2020-04-25T18:01:25.680475Z"
    },
    "scrolled": true
   },
   "outputs": [
    {
     "name": "stdout",
     "output_type": "stream",
     "text": [
      "Data on potential risks factors\n"
     ]
    },
    {
     "data": {
      "text/html": [
       "<a href=\"http://doi.org/10.1101/2020.01.23.916726\" target=\"_blank\">Modelling the epidemic trend of the 2019 novel coronavirus outbreak in China</a><br/><a href=\"http://doi.org/10.1017/S0950268820000424\" target=\"_blank\">Epidemiology and Infection Passengers' destinations from China: low risk of Novel Coronavirus (2019-nCoV) transmission into Africa and South America</a><br/><a href=\"http://dx.doi.org/10.2807/1560-7917.ES.2020.25.3.2000044\" target=\"_blank\">nan</a><br/><a href=\"http://doi.org/10.1016/S2589-7500(20)30026-1\" target=\"_blank\">Early epidemiological analysis of the coronavirus disease 2019 outbreak based on crowdsourced data: a population- level observational study</a><br/><a href=\"http://doi.org/10.1097/CM9.0000000000000776\" target=\"_blank\">From SARS-CoV to SARS-CoV-2 Outbreak: Similarities in the Early Epidemics and Prediction of Future Trends</a>"
      ],
      "text/plain": [
       "<IPython.core.display.HTML object>"
      ]
     },
     "metadata": {},
     "output_type": "display_data"
    },
    {
     "name": "stdout",
     "output_type": "stream",
     "text": [
      "Smoking, pre-existing pulmonary disease\n"
     ]
    },
    {
     "data": {
      "text/html": [
       "<a href=\"http://doi.org/10.1097/CM9.0000000000000778\" target=\"_blank\">nan</a><br/><a href=\"http://doi.org/10.1097/CM9.0000000000000761\" target=\"_blank\">Perspective Non-invasive respiratory support for patients with novel coronavirus pneumonia: clinical efficacy and reduction in risk of infection transmission</a><br/><a href=\"http://doi.org/10.1097/CM9.0000000000000775\" target=\"_blank\">Analysis of factors associated with disease outcomes in hospitalized patients with 2019 novel coronavirus disease</a><br/><a href=\"http://doi.org/10.1097/CM9.0000000000000783\" target=\"_blank\">Single-cell RNA sequencing data suggest a role for angiotensin- converting enzyme 2 in kidney impairment in patients infected with 2019-nCoV</a><br/><a href=\"http://doi.org/10.3346/jkms.2020.35.e89\" target=\"_blank\">nan</a>"
      ],
      "text/plain": [
       "<IPython.core.display.HTML object>"
      ]
     },
     "metadata": {},
     "output_type": "display_data"
    },
    {
     "name": "stdout",
     "output_type": "stream",
     "text": [
      "Co-infections (determine whether co-existing respiratory/viral infections make the virus more transmissible or virulent) and other co-morbidities\n"
     ]
    },
    {
     "data": {
      "text/html": [
       "<a href=\"http://doi.org/10.2807/1560-7917.ES.2020.25.8.2000170\" target=\"_blank\">Rapid communication</a><br/><a href=\"http://dx.doi.org/10.3346/jkms.2020.35.e86\" target=\"_blank\">nan</a><br/><a href=\"http://doi.org/10.2807/1560-7917.ES.2020.25.8.2000171\" target=\"_blank\">Letter to the editor: Plenty of coronaviruses but no SARS-CoV-2</a><br/><a href=\"http://doi.org/10.1016/j.jmii.2020.02.011\" target=\"_blank\">Are children less susceptible to COVID-19?</a><br/><a href=\"http://doi.org/10.1016/j.jfma.2020.02.009\" target=\"_blank\">SARS-CoV-2 infection in children: Transmission dynamics and clinical characteristics</a>"
      ],
      "text/plain": [
       "<IPython.core.display.HTML object>"
      ]
     },
     "metadata": {},
     "output_type": "display_data"
    },
    {
     "name": "stdout",
     "output_type": "stream",
     "text": [
      "Neonates and pregnant women\n"
     ]
    },
    {
     "data": {
      "text/html": [
       "<a href=\"http://doi.org/10.3390/v12020194\" target=\"_blank\">viruses Perspective Potential Maternal and Infant Outcomes from Coronavirus 2019-nCoV (SARS-CoV-2) Infecting Pregnant Women: Lessons from SARS, MERS, and Other Human Coronavirus Infections</a><br/><a href=\"http://doi.org/10.1101/2020.02.27.967760\" target=\"_blank\">TITLE PAGE The SARS-CoV-2 receptor ACE2 expression of maternal-fetal interface and fetal organs by single cell transcriptome study</a><br/><a href=\"http://doi.org/10.1136/archdischild-2020-318996\" target=\"_blank\">nan</a><br/><a href=\"http://doi.org/10.1016/j.jfma.2020.02.009\" target=\"_blank\">SARS-CoV-2 infection in children: Transmission dynamics and clinical characteristics</a><br/><a href=\"http://dx.doi.org/10.1002/cti2.1115\" target=\"_blank\">Frontiers in antiviral therapy and immunotherapy</a>"
      ],
      "text/plain": [
       "<IPython.core.display.HTML object>"
      ]
     },
     "metadata": {},
     "output_type": "display_data"
    },
    {
     "name": "stdout",
     "output_type": "stream",
     "text": [
      "Socio-economic and behavioral factors to understand the economic impact of the virus and whether there were differences.\n"
     ]
    },
    {
     "data": {
      "text/html": [
       "<a href=\"http://doi.org/10.2807/1560-7917.ES.2020.25.8.2000197\" target=\"_blank\">Authors' response: Plenty of coronaviruses but no SARS-CoV-2</a><br/><a href=\"http://dx.doi.org/10.1002/cti2.1115\" target=\"_blank\">Frontiers in antiviral therapy and immunotherapy</a><br/><a href=\"http://doi.org/10.1016/S2589-7500(20)30055-8\" target=\"_blank\">Comment</a><br/><a href=\"http://doi.org/10.3390/healthcare8010046\" target=\"_blank\">On the Coronavirus (COVID-19) Outbreak and the Smart City Network: Universal Data Sharing Standards Coupled with Artificial Intelligence (AI) to Benefit Urban Health Monitoring and Management</a><br/><a href=\"http://doi.org/10.3399/bjgpopen20X101041\" target=\"_blank\">President, World Organisation of Family Doctors (WONca)</a>"
      ],
      "text/plain": [
       "<IPython.core.display.HTML object>"
      ]
     },
     "metadata": {},
     "output_type": "display_data"
    },
    {
     "name": "stdout",
     "output_type": "stream",
     "text": [
      "Transmission dynamics of the virus, including the basic reproductive number, incubation period, serial interval, modes of transmission and environmental factors\n"
     ]
    },
    {
     "data": {
      "text/html": [
       "<a href=\"http://doi.org/10.1093/jtm/taaa030\" target=\"_blank\">COVID-19 outbreak on the Diamond Princess cruise ship: estimating the epidemic potential and effectiveness of public health countermeasures</a><br/><a href=\"http://doi.org/10.3390/jcm9030657\" target=\"_blank\">Backcalculating the Incidence of Infection with COVID-19 on the Diamond Princess</a><br/><a href=\"http://doi.org/10.1016/S2214-109X(20)30074-7\" target=\"_blank\">Feasibility of controlling COVID-19 outbreaks by isolation of cases and contacts</a><br/><a href=\"http://doi.org/10.3390/jcm9020601\" target=\"_blank\">Clinical Medicine Assessing the Impact of Reduced Travel on Exportation Dynamics of Novel Coronavirus Infection (COVID-19)</a><br/><a href=\"http://doi.org/10.1097/CM9.0000000000000782\" target=\"_blank\">Distribution of the COVID-19 Epidemic and Correlation with Population Emigration from Wuhan, China</a>"
      ],
      "text/plain": [
       "<IPython.core.display.HTML object>"
      ]
     },
     "metadata": {},
     "output_type": "display_data"
    },
    {
     "name": "stdout",
     "output_type": "stream",
     "text": [
      "Severity of disease, including risk of fatality among symptomatic hospitalized patients, and high-risk patient groups\n"
     ]
    },
    {
     "data": {
      "text/html": [
       "<a href=\"http://doi.org/10.3348/kjr.2020.0112\" target=\"_blank\">nan</a><br/><a href=\"http://doi.org/10.1136/archdischild-2020-318996\" target=\"_blank\">nan</a><br/><a href=\"http://doi.org/10.1016/j.jmii.2020.02.009\" target=\"_blank\">nan</a><br/><a href=\"http://doi.org/10.1016/j.jfma.2020.02.007\" target=\"_blank\">First case of Coronavirus Disease 2019 (COVID-19) pneumonia in Taiwan KEYWORDS-NC-ND license (http://creativecommons.org/licenses/by- nc-nd/4.0/)</a><br/><a href=\"http://doi.org/10.1038/s41368-020-0075-9\" target=\"_blank\">Transmission routes of 2019-nCoV and controls in dental practice</a>"
      ],
      "text/plain": [
       "<IPython.core.display.HTML object>"
      ]
     },
     "metadata": {},
     "output_type": "display_data"
    },
    {
     "name": "stdout",
     "output_type": "stream",
     "text": [
      "Susceptibility of populations\n"
     ]
    },
    {
     "data": {
      "text/html": [
       "<a href=\"http://doi.org/10.1038/s41421-020-0147-1\" target=\"_blank\">Cell Discovery Comparative genetic analysis of the novel coronavirus (2019-nCoV/SARS-CoV-2) receptor ACE2 in different populations</a><br/><a href=\"http://doi.org/10.1101/2020.03.04.977736\" target=\"_blank\">Novel Immunoglobulin Domain Proteins Provide Insights into Evolution and Pathogenesis Mechanisms of SARS-Related Coronaviruses</a><br/><a href=\"http://doi.org/10.1016/j.dib.2020.105340\" target=\"_blank\">Application of the ARIMA model on the COVID- 2019 epidemic dataset</a><br/><a href=\"http://doi.org/10.1101/2020.01.26.919985\" target=\"_blank\">Single-cell RNA expression profiling of ACE2, the putative receptor of Wuhan 2019-nCov</a><br/><a href=\"http://doi.org/10.1038/s41368-020-0074-x\" target=\"_blank\">High expression of ACE2 receptor of 2019-nCoV on the epithelial cells of oral mucosa</a>"
      ],
      "text/plain": [
       "<IPython.core.display.HTML object>"
      ]
     },
     "metadata": {},
     "output_type": "display_data"
    },
    {
     "name": "stdout",
     "output_type": "stream",
     "text": [
      "Public health mitigation measures that could be effective for control\n"
     ]
    },
    {
     "data": {
      "text/html": [
       "<a href=\"http://doi.org/10.1101/2020.01.23.916726\" target=\"_blank\">Modelling the epidemic trend of the 2019 novel coronavirus outbreak in China</a><br/><a href=\"http://doi.org/10.1017/S0950268820000424\" target=\"_blank\">Epidemiology and Infection Passengers' destinations from China: low risk of Novel Coronavirus (2019-nCoV) transmission into Africa and South America</a><br/><a href=\"http://dx.doi.org/10.2807/1560-7917.ES.2020.25.3.2000044\" target=\"_blank\">nan</a><br/><a href=\"http://doi.org/10.1016/S2589-7500(20)30026-1\" target=\"_blank\">Early epidemiological analysis of the coronavirus disease 2019 outbreak based on crowdsourced data: a population- level observational study</a><br/><a href=\"http://doi.org/10.1097/CM9.0000000000000776\" target=\"_blank\">From SARS-CoV to SARS-CoV-2 Outbreak: Similarities in the Early Epidemics and Prediction of Future Trends</a>"
      ],
      "text/plain": [
       "<IPython.core.display.HTML object>"
      ]
     },
     "metadata": {},
     "output_type": "display_data"
    }
   ],
   "source": [
    "relevant_articles(task2, 5, only_covid19=True)"
   ]
  },
  {
   "cell_type": "markdown",
   "metadata": {},
   "source": [
    "### What do we know about virus genetics, origin, and evolution?"
   ]
  },
  {
   "cell_type": "code",
   "execution_count": 96,
   "metadata": {
    "ExecuteTime": {
     "end_time": "2020-04-25T18:02:04.254832Z",
     "start_time": "2020-04-25T18:01:47.163395Z"
    },
    "scrolled": true
   },
   "outputs": [
    {
     "name": "stdout",
     "output_type": "stream",
     "text": [
      "Real-time tracking of whole genomes and a mechanism for coordinating the rapid dissemination of that information to inform the development of diagnostics and therapeutics and to track variations of the virus over time.\n"
     ]
    },
    {
     "data": {
      "text/html": [
       "<a href=\"http://doi.org/10.1101/2020.03.08.980383\" target=\"_blank\">In silico approach to accelerate the development of mass spectrometry-based proteomics methods for detection of viral proteins: Application to COVID-19</a><br/><a href=\"http://doi.org/10.1101/2020.02.26.967026\" target=\"_blank\">CRISPR-based surveillance for COVID-19 using genomically-comprehensive machine learning design</a><br/><a href=\"http://doi.org/10.1101/2020.02.21.959973\" target=\"_blank\">No more business as usual: agile and effective responses to emerging pathogen threats require open data and open analytics Authors and contributions</a><br/><a href=\"http://doi.org/10.1016/S2468-2667(20)30033-5\" target=\"_blank\">Comment</a><br/><a href=\"http://dx.doi.org/10.2471/BLT.20.251561\" target=\"_blank\">150 | b Health Emergencies Preparedness and Response, World Health Organization</a>"
      ],
      "text/plain": [
       "<IPython.core.display.HTML object>"
      ]
     },
     "metadata": {},
     "output_type": "display_data"
    },
    {
     "name": "stdout",
     "output_type": "stream",
     "text": [
      "Access to geographic and temporal diverse sample sets to understand geographic distribution and genomic differences, and determine whether there is more than one strain in circulation. Multi-lateral agreements such as the Nagoya Protocol could be leveraged.\n"
     ]
    },
    {
     "data": {
      "text/html": [
       "<a href=\"http://doi.org/10.1101/2020.03.02.968818\" target=\"_blank\">Rapid metagenomic characterization of a case of imported COVID-19 in Cambodia</a><br/><a href=\"http://doi.org/10.1016/S0140-6736(20)30419-0\" target=\"_blank\">nan</a><br/><a href=\"http://doi.org/10.1016/S2589-7500(20)30055-8\" target=\"_blank\">Comment</a><br/><a href=\"http://doi.org/10.1016/j.onehlt.2020.100124\" target=\"_blank\">To appear in: One Health</a><br/><a href=\"http://doi.org/10.1016/j.ijid.2020.02.052\" target=\"_blank\">nan</a>"
      ],
      "text/plain": [
       "<IPython.core.display.HTML object>"
      ]
     },
     "metadata": {},
     "output_type": "display_data"
    },
    {
     "name": "stdout",
     "output_type": "stream",
     "text": [
      "Evidence that livestock could be infected (e.g., field surveillance, genetic sequencing, receptor binding) and serve as a reservoir after the epidemic appears to be over.\n"
     ]
    },
    {
     "data": {
      "text/html": [
       "<a href=\"http://doi.org/10.1097/CM9.0000000000000760\" target=\"_blank\">nan</a><br/><a href=\"http://doi.org/10.1016/j.onehlt.2020.100124\" target=\"_blank\">To appear in: One Health</a><br/><a href=\"http://doi.org/10.1097/CM9.0000000000000777\" target=\"_blank\">Science in the fight against the novel coronavirus disease</a><br/><a href=\"http://doi.org/10.1016/S0140-6736(20)30419-0\" target=\"_blank\">nan</a><br/><a href=\"http://doi.org/10.1016/j.onehlt.2020.100123\" target=\"_blank\">Editorial Commentary</a>"
      ],
      "text/plain": [
       "<IPython.core.display.HTML object>"
      ]
     },
     "metadata": {},
     "output_type": "display_data"
    },
    {
     "name": "stdout",
     "output_type": "stream",
     "text": [
      "Evidence of whether farmers are infected, and whether farmers could have played a role in the origin.\n"
     ]
    },
    {
     "data": {
      "text/html": [
       "<a href=\"http://doi.org/10.1101/2020.03.08.982637\" target=\"_blank\">Aerodynamic Characteristics and RNA Concentration of SARS-CoV-2 Aerosol in Wuhan Hospitals during COVID-19 Outbreak</a><br/><a href=\"http://doi.org/10.1101/2020.03.04.976662\" target=\"_blank\">Genome-wide data inferring the evolution and population 1 demography of the novel pneumonia coronavirus (SARS-CoV-2)</a><br/><a href=\"http://doi.org/10.3390/ijerph17051633\" target=\"_blank\">Potential Factors Influencing Repeated SARS Outbreaks in China</a><br/><a href=\"http://doi.org/10.1038/s41368-020-0075-9\" target=\"_blank\">Transmission routes of 2019-nCoV and controls in dental practice</a><br/><a href=\"http://doi.org/10.2807/1560-7917.ES.2020.25.8.2000097\" target=\"_blank\">nan</a>"
      ],
      "text/plain": [
       "<IPython.core.display.HTML object>"
      ]
     },
     "metadata": {},
     "output_type": "display_data"
    },
    {
     "name": "stdout",
     "output_type": "stream",
     "text": [
      "Surveillance of mixed wildlife- livestock farms for SARS-CoV-2 and other coronaviruses in Southeast Asia.\n"
     ]
    },
    {
     "data": {
      "text/html": [
       "<a href=\"http://doi.org/10.1097/CM9.0000000000000760\" target=\"_blank\">nan</a><br/><a href=\"http://doi.org/10.1097/CM9.0000000000000787\" target=\"_blank\">nan</a><br/><a href=\"http://doi.org/10.3390/ijerph17051633\" target=\"_blank\">Potential Factors Influencing Repeated SARS Outbreaks in China</a><br/><a href=\"http://doi.org/10.1016/S0140-6736(20)30419-0\" target=\"_blank\">nan</a><br/><a href=\"http://doi.org/10.1097/CM9.0000000000000777\" target=\"_blank\">Science in the fight against the novel coronavirus disease</a>"
      ],
      "text/plain": [
       "<IPython.core.display.HTML object>"
      ]
     },
     "metadata": {},
     "output_type": "display_data"
    },
    {
     "name": "stdout",
     "output_type": "stream",
     "text": [
      "Experimental infections to test host range for this pathogen.\n"
     ]
    },
    {
     "data": {
      "text/html": [
       "<a href=\"http://doi.org/10.2807/1560-7917.ES.2020.25.8.2000170\" target=\"_blank\">Rapid communication</a><br/><a href=\"http://doi.org/10.1038/s41564-020-0695-z\" target=\"_blank\">Consensus statement The species Severe acute respiratory syndrome- related coronavirus: classifying 2019-nCoV and naming it SARS-CoV-2 Coronaviridae Study Group of the International Committee on Taxonomy of Viruses*</a><br/><a href=\"http://doi.org/10.1101/2020.02.07.937862\" target=\"_blank\">Severe acute respiratory syndrome-related coronavirus: The species and its viruses -a statement of the Coronavirus Study Group</a><br/><a href=\"http://dx.doi.org/10.3346/jkms.2020.35.e86\" target=\"_blank\">nan</a><br/><a href=\"http://doi.org/10.2807/1560-7917.ES.2020.25.8.2000171\" target=\"_blank\">Letter to the editor: Plenty of coronaviruses but no SARS-CoV-2</a>"
      ],
      "text/plain": [
       "<IPython.core.display.HTML object>"
      ]
     },
     "metadata": {},
     "output_type": "display_data"
    },
    {
     "name": "stdout",
     "output_type": "stream",
     "text": [
      "Animal host(s) and any evidence of continued spill-over to humans\n"
     ]
    },
    {
     "data": {
      "text/html": [
       "<a href=\"http://doi.org/10.1097/CM9.0000000000000760\" target=\"_blank\">nan</a><br/><a href=\"http://dx.doi.org/10.1002/cti2.1115\" target=\"_blank\">Frontiers in antiviral therapy and immunotherapy</a><br/><a href=\"http://doi.org/10.1016/j.onehlt.2020.100124\" target=\"_blank\">To appear in: One Health</a><br/><a href=\"http://doi.org/10.2807/1560-7917.ES.2020.25.8.2000197\" target=\"_blank\">Authors' response: Plenty of coronaviruses but no SARS-CoV-2</a><br/><a href=\"http://doi.org/10.1097/CM9.0000000000000777\" target=\"_blank\">Science in the fight against the novel coronavirus disease</a>"
      ],
      "text/plain": [
       "<IPython.core.display.HTML object>"
      ]
     },
     "metadata": {},
     "output_type": "display_data"
    },
    {
     "name": "stdout",
     "output_type": "stream",
     "text": [
      "Socioeconomic and behavioral risk factors for this spill-over\n"
     ]
    },
    {
     "data": {
      "text/html": [
       "<a href=\"http://dx.doi.org/10.1002/cti2.1115\" target=\"_blank\">Frontiers in antiviral therapy and immunotherapy</a><br/><a href=\"http://doi.org/10.1097/CM9.0000000000000760\" target=\"_blank\">nan</a><br/><a href=\"http://doi.org/10.1016/j.onehlt.2020.100124\" target=\"_blank\">To appear in: One Health</a><br/><a href=\"http://doi.org/10.2807/1560-7917.ES.2020.25.8.2000197\" target=\"_blank\">Authors' response: Plenty of coronaviruses but no SARS-CoV-2</a><br/><a href=\"http://doi.org/10.1097/CM9.0000000000000777\" target=\"_blank\">Science in the fight against the novel coronavirus disease</a>"
      ],
      "text/plain": [
       "<IPython.core.display.HTML object>"
      ]
     },
     "metadata": {},
     "output_type": "display_data"
    },
    {
     "name": "stdout",
     "output_type": "stream",
     "text": [
      "Sustainable risk reduction strategies\n"
     ]
    },
    {
     "data": {
      "text/html": [
       "<a href=\"http://dx.doi.org/10.1002/cti2.1115\" target=\"_blank\">Frontiers in antiviral therapy and immunotherapy</a><br/><a href=\"http://doi.org/10.1097/CM9.0000000000000777\" target=\"_blank\">Science in the fight against the novel coronavirus disease</a><br/><a href=\"http://doi.org/10.3346/jkms.2020.35.e89\" target=\"_blank\">nan</a><br/><a href=\"http://doi.org/10.1016/j.onehlt.2020.100124\" target=\"_blank\">To appear in: One Health</a><br/><a href=\"http://doi.org/10.1186/s12916-020-01533-w\" target=\"_blank\">Q&A: The novel coronavirus outbreak causing COVID-19</a>"
      ],
      "text/plain": [
       "<IPython.core.display.HTML object>"
      ]
     },
     "metadata": {},
     "output_type": "display_data"
    }
   ],
   "source": [
    "relevant_articles(task3, 5, only_covid19=True)"
   ]
  },
  {
   "cell_type": "markdown",
   "metadata": {},
   "source": [
    "### What do we know about non-pharmaceutical interventions?"
   ]
  },
  {
   "cell_type": "code",
   "execution_count": 97,
   "metadata": {
    "ExecuteTime": {
     "end_time": "2020-04-25T18:02:25.325895Z",
     "start_time": "2020-04-25T18:02:08.980542Z"
    },
    "scrolled": true
   },
   "outputs": [
    {
     "name": "stdout",
     "output_type": "stream",
     "text": [
      "Guidance on ways to scale up NPIs in a more coordinated way (e.g., establish funding, infrastructure and authorities to support real time, authoritative (qualified participants) collaboration with all states to gain consensus on consistent guidance and to mobilize resources to geographic areas where critical shortfalls are identified) to give us time to enhance our health care delivery system capacity to respond to an increase in cases.\n"
     ]
    },
    {
     "data": {
      "text/html": [
       "<a href=\"http://doi.org/10.1093/pcmedi/pbaa006\" target=\"_blank\">nan</a><br/><a href=\"http://dx.doi.org/10.2471/BLT.20.251561\" target=\"_blank\">150 | b Health Emergencies Preparedness and Response, World Health Organization</a><br/><a href=\"http://doi.org/10.1016/S2468-2667(20)30033-5\" target=\"_blank\">Comment</a><br/><a href=\"http://dx.doi.org/10.30773/pi.2020.0058\" target=\"_blank\">nan</a><br/><a href=\"http://doi.org/10.1016/j.jshs.2020.02.001\" target=\"_blank\">nan</a>"
      ],
      "text/plain": [
       "<IPython.core.display.HTML object>"
      ]
     },
     "metadata": {},
     "output_type": "display_data"
    },
    {
     "name": "stdout",
     "output_type": "stream",
     "text": [
      "Rapid design and execution of experiments to examine and compare NPIs currently being implemented. DHS Centers for Excellence could potentially be leveraged to conduct these experiments.\n"
     ]
    },
    {
     "data": {
      "text/html": [
       "<a href=\"http://doi.org/10.1016/j.jshs.2020.02.001\" target=\"_blank\">nan</a><br/><a href=\"http://doi.org/10.1093/pcmedi/pbaa006\" target=\"_blank\">nan</a><br/><a href=\"http://doi.org/10.3399/bjgpopen20X101041\" target=\"_blank\">President, World Organisation of Family Doctors (WONca)</a><br/><a href=\"http://doi.org/10.1016/S2468-2667(20)30033-5\" target=\"_blank\">Comment</a><br/><a href=\"http://doi.org/10.3390/healthcare8010046\" target=\"_blank\">On the Coronavirus (COVID-19) Outbreak and the Smart City Network: Universal Data Sharing Standards Coupled with Artificial Intelligence (AI) to Benefit Urban Health Monitoring and Management</a>"
      ],
      "text/plain": [
       "<IPython.core.display.HTML object>"
      ]
     },
     "metadata": {},
     "output_type": "display_data"
    },
    {
     "name": "stdout",
     "output_type": "stream",
     "text": [
      "Rapid assessment of the likely efficacy of school closures, travel bans, bans on mass gatherings of various sizes, and other social distancing approaches.\n"
     ]
    },
    {
     "data": {
      "text/html": [
       "<a href=\"http://doi.org/10.1101/2020.01.23.916726\" target=\"_blank\">Modelling the epidemic trend of the 2019 novel coronavirus outbreak in China</a><br/><a href=\"http://doi.org/10.1017/S0950268820000424\" target=\"_blank\">Epidemiology and Infection Passengers' destinations from China: low risk of Novel Coronavirus (2019-nCoV) transmission into Africa and South America</a><br/><a href=\"http://dx.doi.org/10.2807/1560-7917.ES.2020.25.3.2000044\" target=\"_blank\">nan</a><br/><a href=\"http://doi.org/10.1016/S2589-7500(20)30026-1\" target=\"_blank\">Early epidemiological analysis of the coronavirus disease 2019 outbreak based on crowdsourced data: a population- level observational study</a><br/><a href=\"http://doi.org/10.1016/S2214-109X(20)30074-7\" target=\"_blank\">Feasibility of controlling COVID-19 outbreaks by isolation of cases and contacts</a>"
      ],
      "text/plain": [
       "<IPython.core.display.HTML object>"
      ]
     },
     "metadata": {},
     "output_type": "display_data"
    },
    {
     "name": "stdout",
     "output_type": "stream",
     "text": [
      "Methods to control the spread in communities, barriers to compliance and how these vary among different populations..\n"
     ]
    },
    {
     "data": {
      "text/html": [
       "<a href=\"http://doi.org/10.1017/ice.2020.61\" target=\"_blank\">Identification of COVID-19 Can be Quicker through Artificial Intelligence framework using a Mobile Phone-Based Survey in the Populations when Cities/Towns Are Under Quarantine</a><br/><a href=\"http://doi.org/10.1186/s41256-020-00137-4\" target=\"_blank\">First two months of the 2019 Coronavirus Disease (COVID-19) epidemic in China: real- time surveillance and evaluation with a second derivative model</a><br/><a href=\"http://doi.org/10.3399/bjgpopen20X101041\" target=\"_blank\">President, World Organisation of Family Doctors (WONca)</a><br/><a href=\"http://doi.org/10.1016/j.dib.2020.105340\" target=\"_blank\">Application of the ARIMA model on the COVID- 2019 epidemic dataset</a><br/><a href=\"http://doi.org/10.1093/pcmedi/pbaa006\" target=\"_blank\">nan</a>"
      ],
      "text/plain": [
       "<IPython.core.display.HTML object>"
      ]
     },
     "metadata": {},
     "output_type": "display_data"
    },
    {
     "name": "stdout",
     "output_type": "stream",
     "text": [
      "Models of potential interventions to predict costs and benefits that take account of such factors as race, income, disability, age, geographic location, immigration status, housing status, employment status, and health insurance status.\n"
     ]
    },
    {
     "data": {
      "text/html": [
       "<a href=\"http://dx.doi.org/10.12998/wjcc.v8.i4.652\" target=\"_blank\">Fear can be more harmful than the severe acute respiratory syndrome coronavirus 2 in controlling the corona virus disease 2019 epidemic</a><br/><a href=\"http://doi.org/10.3399/bjgpopen20X101041\" target=\"_blank\">President, World Organisation of Family Doctors (WONca)</a><br/><a href=\"http://doi.org/10.3390/healthcare8010046\" target=\"_blank\">On the Coronavirus (COVID-19) Outbreak and the Smart City Network: Universal Data Sharing Standards Coupled with Artificial Intelligence (AI) to Benefit Urban Health Monitoring and Management</a><br/><a href=\"http://doi.org/10.1186/s41256-020-00135-6\" target=\"_blank\">The novel coronavirus outbreak in Wuhan, China</a><br/><a href=\"http://doi.org/10.1093/pcmedi/pbaa006\" target=\"_blank\">nan</a>"
      ],
      "text/plain": [
       "<IPython.core.display.HTML object>"
      ]
     },
     "metadata": {},
     "output_type": "display_data"
    },
    {
     "name": "stdout",
     "output_type": "stream",
     "text": [
      "Policy changes necessary to enable the compliance of individuals with limited resources and the underserved with NPIs.\n"
     ]
    },
    {
     "data": {
      "text/html": [
       "<a href=\"http://dx.doi.org/10.2471/BLT.20.251561\" target=\"_blank\">150 | b Health Emergencies Preparedness and Response, World Health Organization</a><br/><a href=\"http://doi.org/10.1093/pcmedi/pbaa006\" target=\"_blank\">nan</a><br/><a href=\"http://doi.org/10.1016/S2468-2667(20)30033-5\" target=\"_blank\">Comment</a><br/><a href=\"http://dx.doi.org/10.30773/pi.2020.0058\" target=\"_blank\">nan</a><br/><a href=\"http://doi.org/10.1016/j.jshs.2020.02.001\" target=\"_blank\">nan</a>"
      ],
      "text/plain": [
       "<IPython.core.display.HTML object>"
      ]
     },
     "metadata": {},
     "output_type": "display_data"
    },
    {
     "name": "stdout",
     "output_type": "stream",
     "text": [
      "Research on why people fail to comply with public health advice, even if they want to do so (e.g., social or financial costs may be too high).\n"
     ]
    },
    {
     "data": {
      "text/html": [
       "<a href=\"http://dx.doi.org/10.2471/BLT.20.251561\" target=\"_blank\">150 | b Health Emergencies Preparedness and Response, World Health Organization</a><br/><a href=\"http://doi.org/10.1093/pcmedi/pbaa006\" target=\"_blank\">nan</a><br/><a href=\"http://doi.org/10.1016/S2468-2667(20)30033-5\" target=\"_blank\">Comment</a><br/><a href=\"http://dx.doi.org/10.30773/pi.2020.0058\" target=\"_blank\">nan</a><br/><a href=\"http://doi.org/10.1016/j.jshs.2020.02.001\" target=\"_blank\">nan</a>"
      ],
      "text/plain": [
       "<IPython.core.display.HTML object>"
      ]
     },
     "metadata": {},
     "output_type": "display_data"
    },
    {
     "name": "stdout",
     "output_type": "stream",
     "text": [
      "Research on the economic impact of this or any pandemic. This would include identifying policy and programmatic alternatives that lessen/mitigate risks to critical government services, food distribution and supplies, access to critical household supplies, and access to health diagnoses, treatment, and needed care, regardless of ability to pay.\n"
     ]
    },
    {
     "data": {
      "text/html": [
       "<a href=\"http://doi.org/10.1016/S2468-2667(20)30033-5\" target=\"_blank\">Comment</a><br/><a href=\"http://dx.doi.org/10.2471/BLT.20.251561\" target=\"_blank\">150 | b Health Emergencies Preparedness and Response, World Health Organization</a><br/><a href=\"http://doi.org/10.1093/pcmedi/pbaa006\" target=\"_blank\">nan</a><br/><a href=\"http://doi.org/10.1016/j.jshs.2020.02.001\" target=\"_blank\">nan</a><br/><a href=\"http://doi.org/10.1016/j.jshs.2020.01.005\" target=\"_blank\">nan</a>"
      ],
      "text/plain": [
       "<IPython.core.display.HTML object>"
      ]
     },
     "metadata": {},
     "output_type": "display_data"
    }
   ],
   "source": [
    "relevant_articles(task4, 5, only_covid19=True)"
   ]
  },
  {
   "cell_type": "markdown",
   "metadata": {},
   "source": [
    "### What do we know about vaccines and therapeutics?"
   ]
  },
  {
   "cell_type": "code",
   "execution_count": 98,
   "metadata": {
    "ExecuteTime": {
     "end_time": "2020-04-25T18:02:49.978190Z",
     "start_time": "2020-04-25T18:02:29.995452Z"
    },
    "scrolled": true
   },
   "outputs": [
    {
     "name": "stdout",
     "output_type": "stream",
     "text": [
      "Effectiveness of drugs being developed and tried to treat COVID-19 patients. Clinical and bench trials to investigate less common viral inhibitors against COVID-19 such as naproxen, clarithromycin, and minocyclinethat that may exert effects on viral replication.\n"
     ]
    },
    {
     "data": {
      "text/html": [
       "<a href=\"http://doi.org/10.3346/jkms.2020.35.e89\" target=\"_blank\">nan</a><br/><a href=\"http://doi.org/10.1097/CM9.0000000000000778\" target=\"_blank\">nan</a><br/><a href=\"http://doi.org/10.1097/CM9.0000000000000775\" target=\"_blank\">Analysis of factors associated with disease outcomes in hospitalized patients with 2019 novel coronavirus disease</a><br/><a href=\"http://doi.org/10.1097/CM9.0000000000000761\" target=\"_blank\">Perspective Non-invasive respiratory support for patients with novel coronavirus pneumonia: clinical efficacy and reduction in risk of infection transmission</a><br/><a href=\"http://doi.org/10.1101/2020.02.25.965582\" target=\"_blank\">Screening of FDA-approved drugs using a MERS-CoV clinical isolate from South Korea identifies potential therapeutic options for COVID-19</a>"
      ],
      "text/plain": [
       "<IPython.core.display.HTML object>"
      ]
     },
     "metadata": {},
     "output_type": "display_data"
    },
    {
     "name": "stdout",
     "output_type": "stream",
     "text": [
      "Methods evaluating potential complication of Antibody-Dependent Enhancement (ADE) in vaccine recipients.\n"
     ]
    },
    {
     "data": {
      "text/html": [
       "<a href=\"http://doi.org/10.1101/2020.02.25.963546\" target=\"_blank\">An Effective CTL Peptide Vaccine for Ebola Zaire Based on Survivors' CD8+ Targeting of a Particular Nucleocapsid Protein Epitope with Potential Implications for COVID-19 Vaccine Design</a><br/><a href=\"http://doi.org/10.3346/jkms.2020.35.e89\" target=\"_blank\">nan</a><br/><a href=\"http://doi.org/10.1101/2020.03.10.985499\" target=\"_blank\">In silico Design of novel Multi-epitope recombinant Vaccine based on Coronavirus surface 2 glycoprotein 3 4</a><br/><a href=\"http://doi.org/10.1101/2020.02.16.951723\" target=\"_blank\">SARS-CoV-2 and SARS-CoV Spike-RBD Structure and Receptor Binding Comparison and Potential Implications on Neutralizing Antibody and Vaccine Development</a><br/><a href=\"http://doi.org/10.3390/healthcare8010051\" target=\"_blank\">Outbreak of Novel Coronavirus (SARS-Cov-2): First Evidences From International Scientific Literature and Pending Questions</a>"
      ],
      "text/plain": [
       "<IPython.core.display.HTML object>"
      ]
     },
     "metadata": {},
     "output_type": "display_data"
    },
    {
     "name": "stdout",
     "output_type": "stream",
     "text": [
      "Exploration of use of best animal models and their predictive value for a human vaccine.\n"
     ]
    },
    {
     "data": {
      "text/html": [
       "<a href=\"http://doi.org/10.1101/2020.03.02.974048\" target=\"_blank\">Speed and strength of an epidemic intervention</a><br/><a href=\"http://doi.org/10.3390/jcm9030674\" target=\"_blank\">Clinical Medicine Optimization Method for Forecasting Confirmed Cases of COVID-19 in China</a><br/><a href=\"http://doi.org/10.3390/jcm9030637\" target=\"_blank\">Epidemiological Identification of A Novel Pathogen in Real Time: Analysis of the Atypical Pneumonia Outbreak in Wuhan</a><br/><a href=\"http://doi.org/10.20535/ibb.2020.4.1.195074\" target=\"_blank\">STATISTICS-BASED PREDICTIONS OF CORONAVIRUS EPIDEMIC SPREADING IN MAINLAND CHINA</a><br/><a href=\"http://doi.org/10.3390/jcm9020596\" target=\"_blank\">nan</a>"
      ],
      "text/plain": [
       "<IPython.core.display.HTML object>"
      ]
     },
     "metadata": {},
     "output_type": "display_data"
    },
    {
     "name": "stdout",
     "output_type": "stream",
     "text": [
      "Capabilities to discover a therapeutic (not vaccine) for the disease, and clinical effectiveness studies to discover therapeutics, to include antiviral agents.\n"
     ]
    },
    {
     "data": {
      "text/html": [
       "<a href=\"http://doi.org/10.3346/jkms.2020.35.e89\" target=\"_blank\">nan</a><br/><a href=\"http://doi.org/10.1186/s12916-020-01533-w\" target=\"_blank\">Q&A: The novel coronavirus outbreak causing COVID-19</a><br/><a href=\"http://doi.org/10.1097/CM9.0000000000000777\" target=\"_blank\">Science in the fight against the novel coronavirus disease</a><br/><a href=\"http://doi.org/10.3390/healthcare8010051\" target=\"_blank\">Outbreak of Novel Coronavirus (SARS-Cov-2): First Evidences From International Scientific Literature and Pending Questions</a><br/><a href=\"http://doi.org/10.1101/2020.02.25.965582\" target=\"_blank\">Screening of FDA-approved drugs using a MERS-CoV clinical isolate from South Korea identifies potential therapeutic options for COVID-19</a>"
      ],
      "text/plain": [
       "<IPython.core.display.HTML object>"
      ]
     },
     "metadata": {},
     "output_type": "display_data"
    },
    {
     "name": "stdout",
     "output_type": "stream",
     "text": [
      "Alternative models to aid decision makers in determining how to prioritize and distribute scarce, newly proven therapeutics as production ramps up. This could include identifying approaches for expanding production capacity to ensure equitable and timely distribution to populations in need.\n"
     ]
    },
    {
     "data": {
      "text/html": [
       "<a href=\"http://dx.doi.org/10.1002/cti2.1115\" target=\"_blank\">Frontiers in antiviral therapy and immunotherapy</a><br/><a href=\"http://doi.org/10.1016/j.jshs.2020.01.005\" target=\"_blank\">nan</a><br/><a href=\"http://doi.org/10.1097/CM9.0000000000000777\" target=\"_blank\">Science in the fight against the novel coronavirus disease</a><br/><a href=\"http://doi.org/10.2807/1560-7917.ES.2020.25.8.2000197\" target=\"_blank\">Authors' response: Plenty of coronaviruses but no SARS-CoV-2</a><br/><a href=\"http://doi.org/10.1016/S2589-7500(20)30055-8\" target=\"_blank\">Comment</a>"
      ],
      "text/plain": [
       "<IPython.core.display.HTML object>"
      ]
     },
     "metadata": {},
     "output_type": "display_data"
    },
    {
     "name": "stdout",
     "output_type": "stream",
     "text": [
      "Efforts targeted at a universal coronavirus vaccine.\n"
     ]
    },
    {
     "data": {
      "text/html": [
       "<a href=\"http://doi.org/10.3346/jkms.2020.35.e89\" target=\"_blank\">nan</a><br/><a href=\"http://doi.org/10.1097/CM9.0000000000000787\" target=\"_blank\">nan</a><br/><a href=\"http://doi.org/10.1097/CM9.0000000000000777\" target=\"_blank\">Science in the fight against the novel coronavirus disease</a><br/><a href=\"http://doi.org/10.3390/healthcare8010051\" target=\"_blank\">Outbreak of Novel Coronavirus (SARS-Cov-2): First Evidences From International Scientific Literature and Pending Questions</a><br/><a href=\"http://doi.org/10.1007/s00134-020-05985-9\" target=\"_blank\">Angiotensin-converting enzyme 2 (ACE2) as a SARS-CoV-2 receptor: molecular mechanisms and potential therapeutic target</a>"
      ],
      "text/plain": [
       "<IPython.core.display.HTML object>"
      ]
     },
     "metadata": {},
     "output_type": "display_data"
    },
    {
     "name": "stdout",
     "output_type": "stream",
     "text": [
      "Efforts to develop animal models and standardize challenge studies\n"
     ]
    },
    {
     "data": {
      "text/html": [
       "<a href=\"http://dx.doi.org/10.1002/cti2.1115\" target=\"_blank\">Frontiers in antiviral therapy and immunotherapy</a><br/><a href=\"http://doi.org/10.1097/CM9.0000000000000760\" target=\"_blank\">nan</a><br/><a href=\"http://doi.org/10.1016/j.onehlt.2020.100124\" target=\"_blank\">To appear in: One Health</a><br/><a href=\"http://doi.org/10.2807/1560-7917.ES.2020.25.8.2000197\" target=\"_blank\">Authors' response: Plenty of coronaviruses but no SARS-CoV-2</a><br/><a href=\"http://doi.org/10.1097/CM9.0000000000000777\" target=\"_blank\">Science in the fight against the novel coronavirus disease</a>"
      ],
      "text/plain": [
       "<IPython.core.display.HTML object>"
      ]
     },
     "metadata": {},
     "output_type": "display_data"
    },
    {
     "name": "stdout",
     "output_type": "stream",
     "text": [
      "Efforts to develop prophylaxis clinical studies and prioritize in healthcare workers\n"
     ]
    },
    {
     "data": {
      "text/html": [
       "<a href=\"http://doi.org/10.3346/jkms.2020.35.e89\" target=\"_blank\">nan</a><br/><a href=\"http://doi.org/10.3390/healthcare8010051\" target=\"_blank\">Outbreak of Novel Coronavirus (SARS-Cov-2): First Evidences From International Scientific Literature and Pending Questions</a><br/><a href=\"http://doi.org/10.3390/v12020194\" target=\"_blank\">viruses Perspective Potential Maternal and Infant Outcomes from Coronavirus 2019-nCoV (SARS-CoV-2) Infecting Pregnant Women: Lessons from SARS, MERS, and Other Human Coronavirus Infections</a><br/><a href=\"http://doi.org/10.1186/s12916-020-01533-w\" target=\"_blank\">Q&A: The novel coronavirus outbreak causing COVID-19</a><br/><a href=\"http://doi.org/10.1097/CM9.0000000000000777\" target=\"_blank\">Science in the fight against the novel coronavirus disease</a>"
      ],
      "text/plain": [
       "<IPython.core.display.HTML object>"
      ]
     },
     "metadata": {},
     "output_type": "display_data"
    },
    {
     "name": "stdout",
     "output_type": "stream",
     "text": [
      "Approaches to evaluate risk for enhanced disease after vaccination\n"
     ]
    },
    {
     "data": {
      "text/html": [
       "<a href=\"http://doi.org/10.1097/CM9.0000000000000777\" target=\"_blank\">Science in the fight against the novel coronavirus disease</a><br/><a href=\"http://dx.doi.org/10.1002/cti2.1115\" target=\"_blank\">Frontiers in antiviral therapy and immunotherapy</a><br/><a href=\"http://doi.org/10.3346/jkms.2020.35.e89\" target=\"_blank\">nan</a><br/><a href=\"http://doi.org/10.1016/j.onehlt.2020.100124\" target=\"_blank\">To appear in: One Health</a><br/><a href=\"http://doi.org/10.1186/s12916-020-01533-w\" target=\"_blank\">Q&A: The novel coronavirus outbreak causing COVID-19</a>"
      ],
      "text/plain": [
       "<IPython.core.display.HTML object>"
      ]
     },
     "metadata": {},
     "output_type": "display_data"
    },
    {
     "name": "stdout",
     "output_type": "stream",
     "text": [
      "Assays to evaluate vaccine immune response and process development for vaccines, alongside suitable animal models [in conjunction with therapeutics]\n"
     ]
    },
    {
     "data": {
      "text/html": [
       "<a href=\"http://doi.org/10.1101/2020.02.25.963546\" target=\"_blank\">An Effective CTL Peptide Vaccine for Ebola Zaire Based on Survivors' CD8+ Targeting of a Particular Nucleocapsid Protein Epitope with Potential Implications for COVID-19 Vaccine Design</a><br/><a href=\"http://doi.org/10.1101/2020.02.16.951723\" target=\"_blank\">SARS-CoV-2 and SARS-CoV Spike-RBD Structure and Receptor Binding Comparison and Potential Implications on Neutralizing Antibody and Vaccine Development</a><br/><a href=\"http://doi.org/10.1101/2020.03.08.980383\" target=\"_blank\">In silico approach to accelerate the development of mass spectrometry-based proteomics methods for detection of viral proteins: Application to COVID-19</a><br/><a href=\"http://doi.org/10.1101/2020.02.22.961268\" target=\"_blank\">A simple magnetic nanoparticles-based viral RNA extraction method for efficient detection of SARS-CoV-2</a><br/><a href=\"http://doi.org/10.1101/2020.02.26.967026\" target=\"_blank\">CRISPR-based surveillance for COVID-19 using genomically-comprehensive machine learning design</a>"
      ],
      "text/plain": [
       "<IPython.core.display.HTML object>"
      ]
     },
     "metadata": {},
     "output_type": "display_data"
    }
   ],
   "source": [
    "relevant_articles(task5, 5, only_covid19=True)"
   ]
  },
  {
   "cell_type": "markdown",
   "metadata": {},
   "source": [
    "### What has been published about ethical and social science considerations?"
   ]
  },
  {
   "cell_type": "code",
   "execution_count": 99,
   "metadata": {
    "ExecuteTime": {
     "end_time": "2020-04-25T18:03:06.523448Z",
     "start_time": "2020-04-25T18:02:52.693193Z"
    },
    "scrolled": true
   },
   "outputs": [
    {
     "name": "stdout",
     "output_type": "stream",
     "text": [
      "Efforts to articulate and translate existing ethical principles and standards to salient issues in COVID-2019\n"
     ]
    },
    {
     "data": {
      "text/html": [
       "<a href=\"http://dx.doi.org/10.2471/BLT.20.251561\" target=\"_blank\">150 | b Health Emergencies Preparedness and Response, World Health Organization</a><br/><a href=\"http://doi.org/10.1093/pcmedi/pbaa006\" target=\"_blank\">nan</a><br/><a href=\"http://doi.org/10.1016/S2468-2667(20)30033-5\" target=\"_blank\">Comment</a><br/><a href=\"http://dx.doi.org/10.30773/pi.2020.0058\" target=\"_blank\">nan</a><br/><a href=\"http://doi.org/10.1016/j.jshs.2020.02.001\" target=\"_blank\">nan</a>"
      ],
      "text/plain": [
       "<IPython.core.display.HTML object>"
      ]
     },
     "metadata": {},
     "output_type": "display_data"
    },
    {
     "name": "stdout",
     "output_type": "stream",
     "text": [
      "Efforts to embed ethics across all thematic areas, engage with novel ethical issues that arise and coordinate to minimize duplication of oversight\n"
     ]
    },
    {
     "data": {
      "text/html": [
       "<a href=\"http://dx.doi.org/10.2471/BLT.20.251561\" target=\"_blank\">150 | b Health Emergencies Preparedness and Response, World Health Organization</a><br/><a href=\"http://doi.org/10.1093/pcmedi/pbaa006\" target=\"_blank\">nan</a><br/><a href=\"http://doi.org/10.1016/S2468-2667(20)30033-5\" target=\"_blank\">Comment</a><br/><a href=\"http://dx.doi.org/10.30773/pi.2020.0058\" target=\"_blank\">nan</a><br/><a href=\"http://doi.org/10.1016/j.jshs.2020.02.001\" target=\"_blank\">nan</a>"
      ],
      "text/plain": [
       "<IPython.core.display.HTML object>"
      ]
     },
     "metadata": {},
     "output_type": "display_data"
    },
    {
     "name": "stdout",
     "output_type": "stream",
     "text": [
      "Efforts to support sustained education, access, and capacity building in the area of ethics\n"
     ]
    },
    {
     "data": {
      "text/html": [
       "<a href=\"http://dx.doi.org/10.2471/BLT.20.251561\" target=\"_blank\">150 | b Health Emergencies Preparedness and Response, World Health Organization</a><br/><a href=\"http://doi.org/10.1093/pcmedi/pbaa006\" target=\"_blank\">nan</a><br/><a href=\"http://doi.org/10.1016/S2468-2667(20)30033-5\" target=\"_blank\">Comment</a><br/><a href=\"http://dx.doi.org/10.30773/pi.2020.0058\" target=\"_blank\">nan</a><br/><a href=\"http://doi.org/10.1016/j.jshs.2020.02.001\" target=\"_blank\">nan</a>"
      ],
      "text/plain": [
       "<IPython.core.display.HTML object>"
      ]
     },
     "metadata": {},
     "output_type": "display_data"
    },
    {
     "name": "stdout",
     "output_type": "stream",
     "text": [
      "Efforts to establish a team at WHO that will be integrated within multidisciplinary research and operational platforms and that will connect with existing and expanded global networks of social sciences.\n"
     ]
    },
    {
     "data": {
      "text/html": [
       "<a href=\"http://doi.org/10.2807/1560-7917.ES.2020.25.8.2000197\" target=\"_blank\">Authors' response: Plenty of coronaviruses but no SARS-CoV-2</a><br/><a href=\"http://doi.org/10.3390/healthcare8010046\" target=\"_blank\">On the Coronavirus (COVID-19) Outbreak and the Smart City Network: Universal Data Sharing Standards Coupled with Artificial Intelligence (AI) to Benefit Urban Health Monitoring and Management</a><br/><a href=\"http://doi.org/10.1016/S2589-7500(20)30055-8\" target=\"_blank\">Comment</a><br/><a href=\"http://dx.doi.org/10.2471/BLT.20.251561\" target=\"_blank\">150 | b Health Emergencies Preparedness and Response, World Health Organization</a><br/><a href=\"http://dx.doi.org/10.1002/cti2.1115\" target=\"_blank\">Frontiers in antiviral therapy and immunotherapy</a>"
      ],
      "text/plain": [
       "<IPython.core.display.HTML object>"
      ]
     },
     "metadata": {},
     "output_type": "display_data"
    },
    {
     "name": "stdout",
     "output_type": "stream",
     "text": [
      "Efforts to develop qualitative assessment frameworks to systematically collect information related to local barriers and enablers for the uptake and adherence to public health measures for prevention and control. This includes the rapid identification of the secondary impacts of these measures. (e.g. use of surgical masks, modification of health seeking behaviors for SRH, school closures)\n"
     ]
    },
    {
     "data": {
      "text/html": [
       "<a href=\"http://doi.org/10.1016/S2468-2667(20)30033-5\" target=\"_blank\">Comment</a><br/><a href=\"http://doi.org/10.1093/pcmedi/pbaa006\" target=\"_blank\">nan</a><br/><a href=\"http://dx.doi.org/10.2471/BLT.20.251561\" target=\"_blank\">150 | b Health Emergencies Preparedness and Response, World Health Organization</a><br/><a href=\"http://doi.org/10.1016/j.jshs.2020.02.001\" target=\"_blank\">nan</a><br/><a href=\"http://dx.doi.org/10.30773/pi.2020.0058\" target=\"_blank\">nan</a>"
      ],
      "text/plain": [
       "<IPython.core.display.HTML object>"
      ]
     },
     "metadata": {},
     "output_type": "display_data"
    },
    {
     "name": "stdout",
     "output_type": "stream",
     "text": [
      "Efforts to identify how the burden of responding to the outbreak and implementing public health measures affects the physical and psychological health of those providing care for Covid-19 patients and identify the immediate needs that must be addressed.\n"
     ]
    },
    {
     "data": {
      "text/html": [
       "<a href=\"http://doi.org/10.1093/pcmedi/pbaa006\" target=\"_blank\">nan</a><br/><a href=\"http://doi.org/10.1016/S2468-2667(20)30033-5\" target=\"_blank\">Comment</a><br/><a href=\"http://dx.doi.org/10.2471/BLT.20.251561\" target=\"_blank\">150 | b Health Emergencies Preparedness and Response, World Health Organization</a><br/><a href=\"http://doi.org/10.3399/bjgpopen20X101041\" target=\"_blank\">President, World Organisation of Family Doctors (WONca)</a><br/><a href=\"http://dx.doi.org/10.30773/pi.2020.0058\" target=\"_blank\">nan</a>"
      ],
      "text/plain": [
       "<IPython.core.display.HTML object>"
      ]
     },
     "metadata": {},
     "output_type": "display_data"
    },
    {
     "name": "stdout",
     "output_type": "stream",
     "text": [
      "Efforts to identify the underlying drivers of fear, anxiety and stigma that fuel misinformation and rumor, particularly through social media.\n"
     ]
    },
    {
     "data": {
      "text/html": [
       "<a href=\"http://dx.doi.org/10.2471/BLT.20.251561\" target=\"_blank\">150 | b Health Emergencies Preparedness and Response, World Health Organization</a><br/><a href=\"http://doi.org/10.1093/pcmedi/pbaa006\" target=\"_blank\">nan</a><br/><a href=\"http://doi.org/10.1016/S2468-2667(20)30033-5\" target=\"_blank\">Comment</a><br/><a href=\"http://doi.org/10.1016/j.jshs.2020.02.001\" target=\"_blank\">nan</a><br/><a href=\"http://doi.org/10.3399/bjgpopen20X101041\" target=\"_blank\">President, World Organisation of Family Doctors (WONca)</a>"
      ],
      "text/plain": [
       "<IPython.core.display.HTML object>"
      ]
     },
     "metadata": {},
     "output_type": "display_data"
    }
   ],
   "source": [
    "relevant_articles(task6, 5, only_covid19=True)"
   ]
  },
  {
   "cell_type": "markdown",
   "metadata": {},
   "source": [
    "### What do we know about diagnostics and surveillance?"
   ]
  },
  {
   "cell_type": "code",
   "execution_count": 100,
   "metadata": {
    "ExecuteTime": {
     "end_time": "2020-04-25T18:04:55.467450Z",
     "start_time": "2020-04-25T18:04:19.265733Z"
    }
   },
   "outputs": [
    {
     "name": "stdout",
     "output_type": "stream",
     "text": [
      "How widespread current exposure is to be able to make immediate policy recommendations on mitigation measures. Denominators for testing and a mechanism for rapidly sharing that information, including demographics, to the extent possible. Sampling methods to determine asymptomatic disease (e.g., use of serosurveys (such as convalescent samples) and early detection of disease (e.g., use of screening of neutralizing antibodies such as ELISAs).\n"
     ]
    },
    {
     "data": {
      "text/html": [
       "<a href=\"http://doi.org/10.1186/s12916-020-01533-w\" target=\"_blank\">Q&A: The novel coronavirus outbreak causing COVID-19</a><br/><a href=\"http://doi.org/10.1101/2020.01.23.916726\" target=\"_blank\">Modelling the epidemic trend of the 2019 novel coronavirus outbreak in China</a><br/><a href=\"http://doi.org/10.1017/S0950268820000424\" target=\"_blank\">Epidemiology and Infection Passengers' destinations from China: low risk of Novel Coronavirus (2019-nCoV) transmission into Africa and South America</a><br/><a href=\"http://dx.doi.org/10.2807/1560-7917.ES.2020.25.3.2000044\" target=\"_blank\">nan</a><br/><a href=\"http://doi.org/10.3390/jcm9030657\" target=\"_blank\">Backcalculating the Incidence of Infection with COVID-19 on the Diamond Princess</a>"
      ],
      "text/plain": [
       "<IPython.core.display.HTML object>"
      ]
     },
     "metadata": {},
     "output_type": "display_data"
    },
    {
     "name": "stdout",
     "output_type": "stream",
     "text": [
      "Efforts to increase capacity on existing diagnostic platforms and tap into existing surveillance platforms.\n"
     ]
    },
    {
     "data": {
      "text/html": [
       "<a href=\"http://dx.doi.org/10.1002/cti2.1115\" target=\"_blank\">Frontiers in antiviral therapy and immunotherapy</a><br/><a href=\"http://doi.org/10.1097/CM9.0000000000000760\" target=\"_blank\">nan</a><br/><a href=\"http://doi.org/10.1016/j.onehlt.2020.100124\" target=\"_blank\">To appear in: One Health</a><br/><a href=\"http://doi.org/10.2807/1560-7917.ES.2020.25.8.2000197\" target=\"_blank\">Authors' response: Plenty of coronaviruses but no SARS-CoV-2</a><br/><a href=\"http://doi.org/10.1101/2020.03.08.980383\" target=\"_blank\">In silico approach to accelerate the development of mass spectrometry-based proteomics methods for detection of viral proteins: Application to COVID-19</a>"
      ],
      "text/plain": [
       "<IPython.core.display.HTML object>"
      ]
     },
     "metadata": {},
     "output_type": "display_data"
    },
    {
     "name": "stdout",
     "output_type": "stream",
     "text": [
      "Recruitment, support, and coordination of local expertise and capacity (public, private—commercial, and non-profit, including academic), including legal, ethical, communications, and operational issues.\n"
     ]
    },
    {
     "data": {
      "text/html": [
       "<a href=\"http://dx.doi.org/10.2471/BLT.20.251561\" target=\"_blank\">150 | b Health Emergencies Preparedness and Response, World Health Organization</a><br/><a href=\"http://doi.org/10.1093/pcmedi/pbaa006\" target=\"_blank\">nan</a><br/><a href=\"http://doi.org/10.1016/S2468-2667(20)30033-5\" target=\"_blank\">Comment</a><br/><a href=\"http://dx.doi.org/10.30773/pi.2020.0058\" target=\"_blank\">nan</a><br/><a href=\"http://doi.org/10.1016/j.jshs.2020.02.001\" target=\"_blank\">nan</a>"
      ],
      "text/plain": [
       "<IPython.core.display.HTML object>"
      ]
     },
     "metadata": {},
     "output_type": "display_data"
    },
    {
     "name": "stdout",
     "output_type": "stream",
     "text": [
      "National guidance and guidelines about best practices to states (e.g., how states might leverage universities and private laboratories for testing purposes, communications to public health officials and the public).\n"
     ]
    },
    {
     "data": {
      "text/html": [
       "<a href=\"http://dx.doi.org/10.2471/BLT.20.251561\" target=\"_blank\">150 | b Health Emergencies Preparedness and Response, World Health Organization</a><br/><a href=\"http://doi.org/10.1093/pcmedi/pbaa006\" target=\"_blank\">nan</a><br/><a href=\"http://doi.org/10.1016/S2468-2667(20)30033-5\" target=\"_blank\">Comment</a><br/><a href=\"http://dx.doi.org/10.30773/pi.2020.0058\" target=\"_blank\">nan</a><br/><a href=\"http://doi.org/10.1016/j.jshs.2020.02.001\" target=\"_blank\">nan</a>"
      ],
      "text/plain": [
       "<IPython.core.display.HTML object>"
      ]
     },
     "metadata": {},
     "output_type": "display_data"
    },
    {
     "name": "stdout",
     "output_type": "stream",
     "text": [
      "Development of a point-of-care test (like a rapid influenza test) and rapid bed-side tests, recognizing the tradeoffs between speed, accessibility, and accuracy.\n"
     ]
    },
    {
     "data": {
      "text/html": [
       "<a href=\"http://doi.org/10.1101/2020.02.22.961268\" target=\"_blank\">A simple magnetic nanoparticles-based viral RNA extraction method for efficient detection of SARS-CoV-2</a><br/><a href=\"http://doi.org/10.1101/2020.03.08.980383\" target=\"_blank\">In silico approach to accelerate the development of mass spectrometry-based proteomics methods for detection of viral proteins: Application to COVID-19</a><br/><a href=\"http://doi.org/10.1101/2020.02.26.967026\" target=\"_blank\">CRISPR-based surveillance for COVID-19 using genomically-comprehensive machine learning design</a><br/><a href=\"http://doi.org/10.3346/jkms.2020.35.e89\" target=\"_blank\">nan</a><br/><a href=\"http://doi.org/10.1101/2020.02.29.971093\" target=\"_blank\">Mycroft-West et al. (2020) Running title: SARS-CoV-2 surface S1 Receptor Binding Domain binds heparin The 2019 coronavirus (SARS-CoV-2) surface protein (Spike) S1 Receptor Binding Domain undergoes conformational change upon heparin binding</a>"
      ],
      "text/plain": [
       "<IPython.core.display.HTML object>"
      ]
     },
     "metadata": {},
     "output_type": "display_data"
    },
    {
     "name": "stdout",
     "output_type": "stream",
     "text": [
      "Rapid design and execution of targeted surveillance experiments calling for all potential testers using PCR in a defined area to start testing and report to a specific entity. These experiments could aid in collecting longitudinal samples, which are critical to understanding the impact of ad hoc local interventions (which also need to be recorded).\n"
     ]
    },
    {
     "data": {
      "text/html": [
       "<a href=\"http://dx.doi.org/10.2471/BLT.20.251561\" target=\"_blank\">150 | b Health Emergencies Preparedness and Response, World Health Organization</a><br/><a href=\"http://doi.org/10.1093/pcmedi/pbaa006\" target=\"_blank\">nan</a><br/><a href=\"http://doi.org/10.1016/S2468-2667(20)30033-5\" target=\"_blank\">Comment</a><br/><a href=\"http://dx.doi.org/10.30773/pi.2020.0058\" target=\"_blank\">nan</a><br/><a href=\"http://doi.org/10.1016/j.jshs.2020.02.001\" target=\"_blank\">nan</a>"
      ],
      "text/plain": [
       "<IPython.core.display.HTML object>"
      ]
     },
     "metadata": {},
     "output_type": "display_data"
    },
    {
     "name": "stdout",
     "output_type": "stream",
     "text": [
      "Separation of assay development issues from instruments, and the role of the private sector to help quickly migrate assays onto those devices.\n"
     ]
    },
    {
     "data": {
      "text/html": [
       "<a href=\"http://doi.org/10.1101/2020.02.26.967026\" target=\"_blank\">CRISPR-based surveillance for COVID-19 using genomically-comprehensive machine learning design</a><br/><a href=\"http://doi.org/10.1016/S2468-2667(20)30033-5\" target=\"_blank\">Comment</a><br/><a href=\"http://dx.doi.org/10.2471/BLT.20.251561\" target=\"_blank\">150 | b Health Emergencies Preparedness and Response, World Health Organization</a><br/><a href=\"http://doi.org/10.1101/2020.03.08.980383\" target=\"_blank\">In silico approach to accelerate the development of mass spectrometry-based proteomics methods for detection of viral proteins: Application to COVID-19</a><br/><a href=\"http://doi.org/10.1093/pcmedi/pbaa006\" target=\"_blank\">nan</a>"
      ],
      "text/plain": [
       "<IPython.core.display.HTML object>"
      ]
     },
     "metadata": {},
     "output_type": "display_data"
    },
    {
     "name": "stdout",
     "output_type": "stream",
     "text": [
      "Efforts to track the evolution of the virus (i.e., genetic drift or mutations) and avoid locking into specific reagents and surveillance/detection schemes.\n"
     ]
    },
    {
     "data": {
      "text/html": [
       "<a href=\"http://doi.org/10.1101/2020.02.26.967026\" target=\"_blank\">CRISPR-based surveillance for COVID-19 using genomically-comprehensive machine learning design</a><br/><a href=\"http://doi.org/10.1101/2020.02.22.961268\" target=\"_blank\">A simple magnetic nanoparticles-based viral RNA extraction method for efficient detection of SARS-CoV-2</a><br/><a href=\"http://doi.org/10.1101/2020.03.04.976662\" target=\"_blank\">Genome-wide data inferring the evolution and population 1 demography of the novel pneumonia coronavirus (SARS-CoV-2)</a><br/><a href=\"http://doi.org/10.1101/2020.03.08.980383\" target=\"_blank\">In silico approach to accelerate the development of mass spectrometry-based proteomics methods for detection of viral proteins: Application to COVID-19</a><br/><a href=\"http://doi.org/10.1101/2020.02.29.971093\" target=\"_blank\">Mycroft-West et al. (2020) Running title: SARS-CoV-2 surface S1 Receptor Binding Domain binds heparin The 2019 coronavirus (SARS-CoV-2) surface protein (Spike) S1 Receptor Binding Domain undergoes conformational change upon heparin binding</a>"
      ],
      "text/plain": [
       "<IPython.core.display.HTML object>"
      ]
     },
     "metadata": {},
     "output_type": "display_data"
    },
    {
     "name": "stdout",
     "output_type": "stream",
     "text": [
      "Latency issues and when there is sufficient viral load to detect the pathogen, and understanding of what is needed in terms of biological and environmental sampling.\n"
     ]
    },
    {
     "data": {
      "text/html": [
       "<a href=\"http://doi.org/10.1097/CM9.0000000000000760\" target=\"_blank\">nan</a><br/><a href=\"http://dx.doi.org/10.1002/cti2.1115\" target=\"_blank\">Frontiers in antiviral therapy and immunotherapy</a><br/><a href=\"http://doi.org/10.1016/j.onehlt.2020.100124\" target=\"_blank\">To appear in: One Health</a><br/><a href=\"http://doi.org/10.1016/S0140-6736(20)30419-0\" target=\"_blank\">nan</a><br/><a href=\"http://doi.org/10.1101/2020.02.20.958785\" target=\"_blank\">Inactivating porcine coronavirus before nuclei acid isolation with the temperature higher than 56 o C damages its genome integrity seriously</a>"
      ],
      "text/plain": [
       "<IPython.core.display.HTML object>"
      ]
     },
     "metadata": {},
     "output_type": "display_data"
    },
    {
     "name": "stdout",
     "output_type": "stream",
     "text": [
      "Use of diagnostics such as host response markers (e.g., cytokines) to detect early disease or predict severe disease progression, which would be important to understanding best clinical practice and efficacy of therapeutic interventions.\n"
     ]
    },
    {
     "data": {
      "text/html": [
       "<a href=\"http://doi.org/10.1097/CM9.0000000000000777\" target=\"_blank\">Science in the fight against the novel coronavirus disease</a><br/><a href=\"http://dx.doi.org/10.1002/cti2.1115\" target=\"_blank\">Frontiers in antiviral therapy and immunotherapy</a><br/><a href=\"http://doi.org/10.3346/jkms.2020.35.e89\" target=\"_blank\">nan</a><br/><a href=\"http://doi.org/10.1016/j.onehlt.2020.100124\" target=\"_blank\">To appear in: One Health</a><br/><a href=\"http://doi.org/10.1186/s12916-020-01533-w\" target=\"_blank\">Q&A: The novel coronavirus outbreak causing COVID-19</a>"
      ],
      "text/plain": [
       "<IPython.core.display.HTML object>"
      ]
     },
     "metadata": {},
     "output_type": "display_data"
    },
    {
     "name": "stdout",
     "output_type": "stream",
     "text": [
      "Policies and protocols for screening and testing.\n"
     ]
    },
    {
     "data": {
      "text/html": [
       "<a href=\"http://doi.org/10.1101/2020.02.20.958785\" target=\"_blank\">Inactivating porcine coronavirus before nuclei acid isolation with the temperature higher than 56 o C damages its genome integrity seriously</a><br/><a href=\"http://doi.org/10.1101/2020.02.25.964775\" target=\"_blank\">Comparative analysis of primer-probe sets for the laboratory confirmation of SARS-CoV-2</a><br/><a href=\"http://doi.org/10.1101/2020.02.22.961268\" target=\"_blank\">A simple magnetic nanoparticles-based viral RNA extraction method for efficient detection of SARS-CoV-2</a><br/><a href=\"http://dx.doi.org/10.24171/j.phrp.2020.11.1.02\" target=\"_blank\">Article history: Identification of Coronavirus Isolated from a Patient in Korea with COVID-19</a><br/><a href=\"http://doi.org/10.1101/2020.03.02.972927\" target=\"_blank\">Viral Architecture of SARS-CoV-2 with Post-Fusion Spike Revealed by Cryo-EM</a>"
      ],
      "text/plain": [
       "<IPython.core.display.HTML object>"
      ]
     },
     "metadata": {},
     "output_type": "display_data"
    },
    {
     "name": "stdout",
     "output_type": "stream",
     "text": [
      "Policies to mitigate the effects on supplies associated with mass testing, including swabs and reagents.\n"
     ]
    },
    {
     "data": {
      "text/html": [
       "<a href=\"http://doi.org/10.1016/S2468-2667(20)30033-5\" target=\"_blank\">Comment</a><br/><a href=\"http://doi.org/10.1101/2020.02.26.967026\" target=\"_blank\">CRISPR-based surveillance for COVID-19 using genomically-comprehensive machine learning design</a><br/><a href=\"http://doi.org/10.3390/healthcare8010046\" target=\"_blank\">On the Coronavirus (COVID-19) Outbreak and the Smart City Network: Universal Data Sharing Standards Coupled with Artificial Intelligence (AI) to Benefit Urban Health Monitoring and Management</a><br/><a href=\"http://doi.org/10.1101/2020.03.08.982637\" target=\"_blank\">Aerodynamic Characteristics and RNA Concentration of SARS-CoV-2 Aerosol in Wuhan Hospitals during COVID-19 Outbreak</a><br/><a href=\"http://dx.doi.org/10.2471/BLT.20.251561\" target=\"_blank\">150 | b Health Emergencies Preparedness and Response, World Health Organization</a>"
      ],
      "text/plain": [
       "<IPython.core.display.HTML object>"
      ]
     },
     "metadata": {},
     "output_type": "display_data"
    },
    {
     "name": "stdout",
     "output_type": "stream",
     "text": [
      "Technology roadmap for diagnostics.\n"
     ]
    },
    {
     "data": {
      "text/html": [
       "<a href=\"http://dx.doi.org/10.1002/cti2.1115\" target=\"_blank\">Frontiers in antiviral therapy and immunotherapy</a><br/><a href=\"http://doi.org/10.1101/2020.03.08.980383\" target=\"_blank\">In silico approach to accelerate the development of mass spectrometry-based proteomics methods for detection of viral proteins: Application to COVID-19</a><br/><a href=\"http://doi.org/10.1101/2020.02.26.967026\" target=\"_blank\">CRISPR-based surveillance for COVID-19 using genomically-comprehensive machine learning design</a><br/><a href=\"http://doi.org/10.1101/2020.02.22.961268\" target=\"_blank\">A simple magnetic nanoparticles-based viral RNA extraction method for efficient detection of SARS-CoV-2</a><br/><a href=\"http://doi.org/10.1016/j.onehlt.2020.100124\" target=\"_blank\">To appear in: One Health</a>"
      ],
      "text/plain": [
       "<IPython.core.display.HTML object>"
      ]
     },
     "metadata": {},
     "output_type": "display_data"
    },
    {
     "name": "stdout",
     "output_type": "stream",
     "text": [
      "Barriers to developing and scaling up new diagnostic tests (e.g., market forces), how future coalition and accelerator models (e.g., Coalition for Epidemic Preparedness Innovations) could provide critical funding for diagnostics, and opportunities for a streamlined regulatory environment.\n"
     ]
    },
    {
     "data": {
      "text/html": [
       "<a href=\"http://doi.org/10.2807/1560-7917.ES.2020.25.8.2000197\" target=\"_blank\">Authors' response: Plenty of coronaviruses but no SARS-CoV-2</a><br/><a href=\"http://dx.doi.org/10.1002/cti2.1115\" target=\"_blank\">Frontiers in antiviral therapy and immunotherapy</a><br/><a href=\"http://doi.org/10.1016/S2589-7500(20)30055-8\" target=\"_blank\">Comment</a><br/><a href=\"http://doi.org/10.3390/healthcare8010046\" target=\"_blank\">On the Coronavirus (COVID-19) Outbreak and the Smart City Network: Universal Data Sharing Standards Coupled with Artificial Intelligence (AI) to Benefit Urban Health Monitoring and Management</a><br/><a href=\"http://doi.org/10.1097/CM9.0000000000000760\" target=\"_blank\">nan</a>"
      ],
      "text/plain": [
       "<IPython.core.display.HTML object>"
      ]
     },
     "metadata": {},
     "output_type": "display_data"
    },
    {
     "name": "stdout",
     "output_type": "stream",
     "text": [
      "New platforms and technology (e.g., CRISPR) to improve response times and employ more holistic approaches to COVID-19 and future diseases.\n"
     ]
    },
    {
     "data": {
      "text/html": [
       "<a href=\"http://doi.org/10.1101/2020.02.22.961268\" target=\"_blank\">A simple magnetic nanoparticles-based viral RNA extraction method for efficient detection of SARS-CoV-2</a><br/><a href=\"http://dx.doi.org/10.1002/cti2.1115\" target=\"_blank\">Frontiers in antiviral therapy and immunotherapy</a><br/><a href=\"http://doi.org/10.1101/2020.02.26.967026\" target=\"_blank\">CRISPR-based surveillance for COVID-19 using genomically-comprehensive machine learning design</a><br/><a href=\"http://doi.org/10.1016/j.onehlt.2020.100124\" target=\"_blank\">To appear in: One Health</a><br/><a href=\"http://doi.org/10.1101/2020.03.08.980383\" target=\"_blank\">In silico approach to accelerate the development of mass spectrometry-based proteomics methods for detection of viral proteins: Application to COVID-19</a>"
      ],
      "text/plain": [
       "<IPython.core.display.HTML object>"
      ]
     },
     "metadata": {},
     "output_type": "display_data"
    },
    {
     "name": "stdout",
     "output_type": "stream",
     "text": [
      "Coupling genomics and diagnostic testing on a large scale.\n"
     ]
    },
    {
     "data": {
      "text/html": [
       "<a href=\"http://doi.org/10.1101/2020.03.08.980383\" target=\"_blank\">In silico approach to accelerate the development of mass spectrometry-based proteomics methods for detection of viral proteins: Application to COVID-19</a><br/><a href=\"http://doi.org/10.1101/2020.02.22.961268\" target=\"_blank\">A simple magnetic nanoparticles-based viral RNA extraction method for efficient detection of SARS-CoV-2</a><br/><a href=\"http://doi.org/10.1101/2020.02.26.967026\" target=\"_blank\">CRISPR-based surveillance for COVID-19 using genomically-comprehensive machine learning design</a><br/><a href=\"http://doi.org/10.1101/2020.02.29.971093\" target=\"_blank\">Mycroft-West et al. (2020) Running title: SARS-CoV-2 surface S1 Receptor Binding Domain binds heparin The 2019 coronavirus (SARS-CoV-2) surface protein (Spike) S1 Receptor Binding Domain undergoes conformational change upon heparin binding</a><br/><a href=\"http://doi.org/10.1101/2020.03.08.982637\" target=\"_blank\">Aerodynamic Characteristics and RNA Concentration of SARS-CoV-2 Aerosol in Wuhan Hospitals during COVID-19 Outbreak</a>"
      ],
      "text/plain": [
       "<IPython.core.display.HTML object>"
      ]
     },
     "metadata": {},
     "output_type": "display_data"
    },
    {
     "name": "stdout",
     "output_type": "stream",
     "text": [
      "Enhance capabilities for rapid sequencing and bioinformatics to target regions of the genome that will allow specificity for a particular variant.\n"
     ]
    },
    {
     "data": {
      "text/html": [
       "<a href=\"http://doi.org/10.1101/2020.03.08.980383\" target=\"_blank\">In silico approach to accelerate the development of mass spectrometry-based proteomics methods for detection of viral proteins: Application to COVID-19</a><br/><a href=\"http://doi.org/10.1101/2020.03.02.968818\" target=\"_blank\">Rapid metagenomic characterization of a case of imported COVID-19 in Cambodia</a><br/><a href=\"http://doi.org/10.1101/2020.03.02.974311\" target=\"_blank\">Partial RdRp sequences offer a robust method for Coronavirus 1 subgenus classification. 2 Running title: Subgenus inference using Coronavirus RdRp</a><br/><a href=\"http://doi.org/10.1093/bioinformatics/btaa145\" target=\"_blank\">Genome Detective Coronavirus Typing Tool for rapid identification and characterization of novel coronavirus genomes</a><br/><a href=\"http://doi.org/10.1101/2020.02.03.932350\" target=\"_blank\">Machine learning using intrinsic genomic signatures for rapid classification of novel pathogens: COVID-19 case study</a>"
      ],
      "text/plain": [
       "<IPython.core.display.HTML object>"
      ]
     },
     "metadata": {},
     "output_type": "display_data"
    },
    {
     "name": "stdout",
     "output_type": "stream",
     "text": [
      "Enhance capacity (people, technology, data) for sequencing with advanced analytics for unknown pathogens, and explore capabilities for distinguishing naturally-occurring pathogens from intentional.\n"
     ]
    },
    {
     "data": {
      "text/html": [
       "<a href=\"http://doi.org/10.1016/S2589-7500(20)30055-8\" target=\"_blank\">Comment</a><br/><a href=\"http://dx.doi.org/10.1002/cti2.1115\" target=\"_blank\">Frontiers in antiviral therapy and immunotherapy</a><br/><a href=\"http://doi.org/10.2807/1560-7917.ES.2020.25.8.2000197\" target=\"_blank\">Authors' response: Plenty of coronaviruses but no SARS-CoV-2</a><br/><a href=\"http://doi.org/10.3390/healthcare8010046\" target=\"_blank\">On the Coronavirus (COVID-19) Outbreak and the Smart City Network: Universal Data Sharing Standards Coupled with Artificial Intelligence (AI) to Benefit Urban Health Monitoring and Management</a><br/><a href=\"http://doi.org/10.1101/2020.02.21.959973\" target=\"_blank\">No more business as usual: agile and effective responses to emerging pathogen threats require open data and open analytics Authors and contributions</a>"
      ],
      "text/plain": [
       "<IPython.core.display.HTML object>"
      ]
     },
     "metadata": {},
     "output_type": "display_data"
    },
    {
     "name": "stdout",
     "output_type": "stream",
     "text": [
      "One Health surveillance of humans and potential sources of future spillover or ongoing exposure for this organism and future pathogens, including both evolutionary hosts (e.g., bats) and transmission hosts (e.g., heavily trafficked and farmed wildlife and domestic food and companion species), inclusive of environmental, demographic, and occupational risk factors.\n"
     ]
    },
    {
     "data": {
      "text/html": [
       "<a href=\"http://doi.org/10.1097/CM9.0000000000000760\" target=\"_blank\">nan</a><br/><a href=\"http://dx.doi.org/10.1002/cti2.1115\" target=\"_blank\">Frontiers in antiviral therapy and immunotherapy</a><br/><a href=\"http://doi.org/10.1016/j.onehlt.2020.100124\" target=\"_blank\">To appear in: One Health</a><br/><a href=\"http://doi.org/10.3390/ijerph17051633\" target=\"_blank\">Potential Factors Influencing Repeated SARS Outbreaks in China</a><br/><a href=\"http://doi.org/10.2807/1560-7917.ES.2020.25.8.2000197\" target=\"_blank\">Authors' response: Plenty of coronaviruses but no SARS-CoV-2</a>"
      ],
      "text/plain": [
       "<IPython.core.display.HTML object>"
      ]
     },
     "metadata": {},
     "output_type": "display_data"
    }
   ],
   "source": [
    "relevant_articles(task7, 5, only_covid19=True)"
   ]
  },
  {
   "cell_type": "markdown",
   "metadata": {},
   "source": [
    "### What has been published about medical care?"
   ]
  },
  {
   "cell_type": "code",
   "execution_count": 101,
   "metadata": {
    "ExecuteTime": {
     "end_time": "2020-04-25T18:05:42.941104Z",
     "start_time": "2020-04-25T18:05:13.392478Z"
    }
   },
   "outputs": [
    {
     "name": "stdout",
     "output_type": "stream",
     "text": [
      "Resources to support skilled nursing facilities and long term care facilities.\n"
     ]
    },
    {
     "data": {
      "text/html": [
       "<a href=\"http://dx.doi.org/10.2471/BLT.20.251561\" target=\"_blank\">150 | b Health Emergencies Preparedness and Response, World Health Organization</a><br/><a href=\"http://doi.org/10.1093/pcmedi/pbaa006\" target=\"_blank\">nan</a><br/><a href=\"http://doi.org/10.1016/S2468-2667(20)30033-5\" target=\"_blank\">Comment</a><br/><a href=\"http://dx.doi.org/10.30773/pi.2020.0058\" target=\"_blank\">nan</a><br/><a href=\"http://doi.org/10.1016/j.jshs.2020.02.001\" target=\"_blank\">nan</a>"
      ],
      "text/plain": [
       "<IPython.core.display.HTML object>"
      ]
     },
     "metadata": {},
     "output_type": "display_data"
    },
    {
     "name": "stdout",
     "output_type": "stream",
     "text": [
      "Mobilization of surge medical staff to address shortages in overwhelmed communities\n"
     ]
    },
    {
     "data": {
      "text/html": [
       "<a href=\"http://dx.doi.org/10.2471/BLT.20.251561\" target=\"_blank\">150 | b Health Emergencies Preparedness and Response, World Health Organization</a><br/><a href=\"http://doi.org/10.1093/pcmedi/pbaa006\" target=\"_blank\">nan</a><br/><a href=\"http://doi.org/10.1016/S2468-2667(20)30033-5\" target=\"_blank\">Comment</a><br/><a href=\"http://dx.doi.org/10.30773/pi.2020.0058\" target=\"_blank\">nan</a><br/><a href=\"http://doi.org/10.1016/j.jshs.2020.02.001\" target=\"_blank\">nan</a>"
      ],
      "text/plain": [
       "<IPython.core.display.HTML object>"
      ]
     },
     "metadata": {},
     "output_type": "display_data"
    },
    {
     "name": "stdout",
     "output_type": "stream",
     "text": [
      "Age-adjusted mortality data for Acute Respiratory Distress Syndrome (ARDS) with/without other organ failure – particularly for viral etiologies\n"
     ]
    },
    {
     "data": {
      "text/html": [
       "<a href=\"http://doi.org/10.1097/CM9.0000000000000775\" target=\"_blank\">Analysis of factors associated with disease outcomes in hospitalized patients with 2019 novel coronavirus disease</a><br/><a href=\"http://doi.org/10.1097/CM9.0000000000000778\" target=\"_blank\">nan</a><br/><a href=\"http://doi.org/10.1097/CM9.0000000000000761\" target=\"_blank\">Perspective Non-invasive respiratory support for patients with novel coronavirus pneumonia: clinical efficacy and reduction in risk of infection transmission</a><br/><a href=\"http://doi.org/10.2807/1560-7917.ES.2020.25.8.2000170\" target=\"_blank\">Rapid communication</a><br/><a href=\"http://doi.org/10.2807/1560-7917.ES.2020.25.8.2000171\" target=\"_blank\">Letter to the editor: Plenty of coronaviruses but no SARS-CoV-2</a>"
      ],
      "text/plain": [
       "<IPython.core.display.HTML object>"
      ]
     },
     "metadata": {},
     "output_type": "display_data"
    },
    {
     "name": "stdout",
     "output_type": "stream",
     "text": [
      "Extracorporeal membrane oxygenation (ECMO) outcomes data of COVID-19 patients\n"
     ]
    },
    {
     "data": {
      "text/html": [
       "<a href=\"http://doi.org/10.1097/CM9.0000000000000778\" target=\"_blank\">nan</a><br/><a href=\"http://doi.org/10.1097/CM9.0000000000000761\" target=\"_blank\">Perspective Non-invasive respiratory support for patients with novel coronavirus pneumonia: clinical efficacy and reduction in risk of infection transmission</a><br/><a href=\"http://doi.org/10.1097/CM9.0000000000000775\" target=\"_blank\">Analysis of factors associated with disease outcomes in hospitalized patients with 2019 novel coronavirus disease</a><br/><a href=\"http://doi.org/10.1101/2020.01.31.929695\" target=\"_blank\">Molecular Modeling Evaluation of the Binding Effect of Ritonavir, Lopinavir and Darunavir to Severe Acute Respiratory Syndrome Coronavirus 2 Proteases</a><br/><a href=\"http://doi.org/10.3346/jkms.2020.35.e89\" target=\"_blank\">nan</a>"
      ],
      "text/plain": [
       "<IPython.core.display.HTML object>"
      ]
     },
     "metadata": {},
     "output_type": "display_data"
    },
    {
     "name": "stdout",
     "output_type": "stream",
     "text": [
      "Outcomes data for COVID-19 after mechanical ventilation adjusted for age.\n"
     ]
    },
    {
     "data": {
      "text/html": [
       "<a href=\"http://doi.org/10.1097/CM9.0000000000000778\" target=\"_blank\">nan</a><br/><a href=\"http://doi.org/10.1097/CM9.0000000000000761\" target=\"_blank\">Perspective Non-invasive respiratory support for patients with novel coronavirus pneumonia: clinical efficacy and reduction in risk of infection transmission</a><br/><a href=\"http://doi.org/10.1097/CM9.0000000000000775\" target=\"_blank\">Analysis of factors associated with disease outcomes in hospitalized patients with 2019 novel coronavirus disease</a><br/><a href=\"http://doi.org/10.3346/jkms.2020.35.e89\" target=\"_blank\">nan</a><br/><a href=\"http://doi.org/10.1097/CM9.0000000000000783\" target=\"_blank\">Single-cell RNA sequencing data suggest a role for angiotensin- converting enzyme 2 in kidney impairment in patients infected with 2019-nCoV</a>"
      ],
      "text/plain": [
       "<IPython.core.display.HTML object>"
      ]
     },
     "metadata": {},
     "output_type": "display_data"
    },
    {
     "name": "stdout",
     "output_type": "stream",
     "text": [
      "Knowledge of the frequency, manifestations, and course of extrapulmonary manifestations of COVID-19, including, but not limited to, possible cardiomyopathy and cardiac arrest.\n"
     ]
    },
    {
     "data": {
      "text/html": [
       "<a href=\"http://doi.org/10.3348/kjr.2020.0112\" target=\"_blank\">nan</a><br/><a href=\"http://doi.org/10.3348/kjr.2020.0132\" target=\"_blank\">Chest Radiographic and CT Findings of the 2019 Novel Coronavirus Disease (COVID-19): Analysis of Nine Patients Treated in Korea</a><br/><a href=\"http://doi.org/10.1016/j.jfma.2020.02.007\" target=\"_blank\">First case of Coronavirus Disease 2019 (COVID-19) pneumonia in Taiwan KEYWORDS-NC-ND license (http://creativecommons.org/licenses/by- nc-nd/4.0/)</a><br/><a href=\"http://doi.org/10.1136/archdischild-2020-318996\" target=\"_blank\">nan</a><br/><a href=\"http://doi.org/10.1016/j.jmii.2020.02.009\" target=\"_blank\">nan</a>"
      ],
      "text/plain": [
       "<IPython.core.display.HTML object>"
      ]
     },
     "metadata": {},
     "output_type": "display_data"
    },
    {
     "name": "stdout",
     "output_type": "stream",
     "text": [
      "Application of regulatory standards (e.g., EUA, CLIA) and ability to adapt care to crisis standards of care level.\n"
     ]
    },
    {
     "data": {
      "text/html": [
       "<a href=\"http://doi.org/10.1016/S2468-2667(20)30033-5\" target=\"_blank\">Comment</a><br/><a href=\"http://doi.org/10.1016/j.jshs.2020.01.005\" target=\"_blank\">nan</a><br/><a href=\"http://dx.doi.org/10.2471/BLT.20.251561\" target=\"_blank\">150 | b Health Emergencies Preparedness and Response, World Health Organization</a><br/><a href=\"http://doi.org/10.1016/j.jshs.2020.02.001\" target=\"_blank\">nan</a><br/><a href=\"http://doi.org/10.1093/pcmedi/pbaa006\" target=\"_blank\">nan</a>"
      ],
      "text/plain": [
       "<IPython.core.display.HTML object>"
      ]
     },
     "metadata": {},
     "output_type": "display_data"
    },
    {
     "name": "stdout",
     "output_type": "stream",
     "text": [
      "Approaches for encouraging and facilitating the production of elastomeric respirators, which can save thousands of N95 masks.\n"
     ]
    },
    {
     "data": {
      "text/html": [
       "<a href=\"http://dx.doi.org/10.1002/cti2.1115\" target=\"_blank\">Frontiers in antiviral therapy and immunotherapy</a><br/><a href=\"http://doi.org/10.1097/CM9.0000000000000760\" target=\"_blank\">nan</a><br/><a href=\"http://doi.org/10.1016/j.onehlt.2020.100124\" target=\"_blank\">To appear in: One Health</a><br/><a href=\"http://doi.org/10.2807/1560-7917.ES.2020.25.8.2000197\" target=\"_blank\">Authors' response: Plenty of coronaviruses but no SARS-CoV-2</a><br/><a href=\"http://doi.org/10.1097/CM9.0000000000000777\" target=\"_blank\">Science in the fight against the novel coronavirus disease</a>"
      ],
      "text/plain": [
       "<IPython.core.display.HTML object>"
      ]
     },
     "metadata": {},
     "output_type": "display_data"
    },
    {
     "name": "stdout",
     "output_type": "stream",
     "text": [
      "Best telemedicine practices, barriers and faciitators, and specific actions to remove/expand them within and across state boundaries.\n"
     ]
    },
    {
     "data": {
      "text/html": [
       "<a href=\"http://dx.doi.org/10.2471/BLT.20.251561\" target=\"_blank\">150 | b Health Emergencies Preparedness and Response, World Health Organization</a><br/><a href=\"http://doi.org/10.1093/pcmedi/pbaa006\" target=\"_blank\">nan</a><br/><a href=\"http://doi.org/10.1016/S2468-2667(20)30033-5\" target=\"_blank\">Comment</a><br/><a href=\"http://dx.doi.org/10.30773/pi.2020.0058\" target=\"_blank\">nan</a><br/><a href=\"http://doi.org/10.1016/j.jshs.2020.02.001\" target=\"_blank\">nan</a>"
      ],
      "text/plain": [
       "<IPython.core.display.HTML object>"
      ]
     },
     "metadata": {},
     "output_type": "display_data"
    },
    {
     "name": "stdout",
     "output_type": "stream",
     "text": [
      "Guidance on the simple things people can do at home to take care of sick people and manage disease.\n"
     ]
    },
    {
     "data": {
      "text/html": [
       "<a href=\"http://dx.doi.org/10.2471/BLT.20.251561\" target=\"_blank\">150 | b Health Emergencies Preparedness and Response, World Health Organization</a><br/><a href=\"http://doi.org/10.1093/pcmedi/pbaa006\" target=\"_blank\">nan</a><br/><a href=\"http://doi.org/10.1016/S2468-2667(20)30033-5\" target=\"_blank\">Comment</a><br/><a href=\"http://dx.doi.org/10.30773/pi.2020.0058\" target=\"_blank\">nan</a><br/><a href=\"http://doi.org/10.1016/j.jshs.2020.02.001\" target=\"_blank\">nan</a>"
      ],
      "text/plain": [
       "<IPython.core.display.HTML object>"
      ]
     },
     "metadata": {},
     "output_type": "display_data"
    },
    {
     "name": "stdout",
     "output_type": "stream",
     "text": [
      "Oral medications that might potentially work.\n"
     ]
    },
    {
     "data": {
      "text/html": [
       "<a href=\"http://doi.org/10.3346/jkms.2020.35.e89\" target=\"_blank\">nan</a><br/><a href=\"http://doi.org/10.1186/s12916-020-01533-w\" target=\"_blank\">Q&A: The novel coronavirus outbreak causing COVID-19</a><br/><a href=\"http://doi.org/10.1097/CM9.0000000000000777\" target=\"_blank\">Science in the fight against the novel coronavirus disease</a><br/><a href=\"http://doi.org/10.3390/healthcare8010051\" target=\"_blank\">Outbreak of Novel Coronavirus (SARS-Cov-2): First Evidences From International Scientific Literature and Pending Questions</a><br/><a href=\"http://doi.org/10.1101/2020.02.25.965582\" target=\"_blank\">Screening of FDA-approved drugs using a MERS-CoV clinical isolate from South Korea identifies potential therapeutic options for COVID-19</a>"
      ],
      "text/plain": [
       "<IPython.core.display.HTML object>"
      ]
     },
     "metadata": {},
     "output_type": "display_data"
    },
    {
     "name": "stdout",
     "output_type": "stream",
     "text": [
      "Use of AI in real-time health care delivery to evaluate interventions, risk factors, and outcomes in a way that could not be done manually.\n"
     ]
    },
    {
     "data": {
      "text/html": [
       "<a href=\"http://dx.doi.org/10.2471/BLT.20.251561\" target=\"_blank\">150 | b Health Emergencies Preparedness and Response, World Health Organization</a><br/><a href=\"http://doi.org/10.1093/pcmedi/pbaa006\" target=\"_blank\">nan</a><br/><a href=\"http://doi.org/10.1016/S2468-2667(20)30033-5\" target=\"_blank\">Comment</a><br/><a href=\"http://dx.doi.org/10.30773/pi.2020.0058\" target=\"_blank\">nan</a><br/><a href=\"http://doi.org/10.1016/j.jshs.2020.02.001\" target=\"_blank\">nan</a>"
      ],
      "text/plain": [
       "<IPython.core.display.HTML object>"
      ]
     },
     "metadata": {},
     "output_type": "display_data"
    },
    {
     "name": "stdout",
     "output_type": "stream",
     "text": [
      "Best practices and critical challenges and innovative solutions and technologies in hospital flow and organization, workforce protection, workforce allocation, community-based support resources, payment, and supply chain management to enhance capacity, efficiency, and outcomes.\n"
     ]
    },
    {
     "data": {
      "text/html": [
       "<a href=\"http://dx.doi.org/10.2471/BLT.20.251561\" target=\"_blank\">150 | b Health Emergencies Preparedness and Response, World Health Organization</a><br/><a href=\"http://doi.org/10.1093/pcmedi/pbaa006\" target=\"_blank\">nan</a><br/><a href=\"http://doi.org/10.1016/S2468-2667(20)30033-5\" target=\"_blank\">Comment</a><br/><a href=\"http://dx.doi.org/10.30773/pi.2020.0058\" target=\"_blank\">nan</a><br/><a href=\"http://doi.org/10.1016/j.jshs.2020.02.001\" target=\"_blank\">nan</a>"
      ],
      "text/plain": [
       "<IPython.core.display.HTML object>"
      ]
     },
     "metadata": {},
     "output_type": "display_data"
    },
    {
     "name": "stdout",
     "output_type": "stream",
     "text": [
      "Efforts to define the natural history of disease to inform clinical care, public health interventions, infection prevention control, transmission, and clinical trials\n"
     ]
    },
    {
     "data": {
      "text/html": [
       "<a href=\"http://doi.org/10.1097/CM9.0000000000000777\" target=\"_blank\">Science in the fight against the novel coronavirus disease</a><br/><a href=\"http://dx.doi.org/10.1002/cti2.1115\" target=\"_blank\">Frontiers in antiviral therapy and immunotherapy</a><br/><a href=\"http://doi.org/10.3390/v12020194\" target=\"_blank\">viruses Perspective Potential Maternal and Infant Outcomes from Coronavirus 2019-nCoV (SARS-CoV-2) Infecting Pregnant Women: Lessons from SARS, MERS, and Other Human Coronavirus Infections</a><br/><a href=\"http://doi.org/10.1186/s12916-020-01533-w\" target=\"_blank\">Q&A: The novel coronavirus outbreak causing COVID-19</a><br/><a href=\"http://doi.org/10.3346/jkms.2020.35.e89\" target=\"_blank\">nan</a>"
      ],
      "text/plain": [
       "<IPython.core.display.HTML object>"
      ]
     },
     "metadata": {},
     "output_type": "display_data"
    },
    {
     "name": "stdout",
     "output_type": "stream",
     "text": [
      "Efforts to develop a core clinical outcome set to maximize usability of data across a range of trials\n"
     ]
    },
    {
     "data": {
      "text/html": [
       "<a href=\"http://doi.org/10.1016/S2468-2667(20)30033-5\" target=\"_blank\">Comment</a><br/><a href=\"http://dx.doi.org/10.2471/BLT.20.251561\" target=\"_blank\">150 | b Health Emergencies Preparedness and Response, World Health Organization</a><br/><a href=\"http://doi.org/10.1093/pcmedi/pbaa006\" target=\"_blank\">nan</a><br/><a href=\"http://doi.org/10.1016/j.jshs.2020.01.005\" target=\"_blank\">nan</a><br/><a href=\"http://doi.org/10.1016/j.jshs.2020.02.001\" target=\"_blank\">nan</a>"
      ],
      "text/plain": [
       "<IPython.core.display.HTML object>"
      ]
     },
     "metadata": {},
     "output_type": "display_data"
    },
    {
     "name": "stdout",
     "output_type": "stream",
     "text": [
      "Efforts to determine adjunctive and supportive interventions that can improve the clinical outcomes of infected patients (e.g. steroids, high flow oxygen)\n"
     ]
    },
    {
     "data": {
      "text/html": [
       "<a href=\"http://doi.org/10.3346/jkms.2020.35.e89\" target=\"_blank\">nan</a><br/><a href=\"http://doi.org/10.1097/CM9.0000000000000778\" target=\"_blank\">nan</a><br/><a href=\"http://doi.org/10.1097/CM9.0000000000000761\" target=\"_blank\">Perspective Non-invasive respiratory support for patients with novel coronavirus pneumonia: clinical efficacy and reduction in risk of infection transmission</a><br/><a href=\"http://doi.org/10.1097/CM9.0000000000000775\" target=\"_blank\">Analysis of factors associated with disease outcomes in hospitalized patients with 2019 novel coronavirus disease</a><br/><a href=\"http://doi.org/10.1097/CM9.0000000000000783\" target=\"_blank\">Single-cell RNA sequencing data suggest a role for angiotensin- converting enzyme 2 in kidney impairment in patients infected with 2019-nCoV</a>"
      ],
      "text/plain": [
       "<IPython.core.display.HTML object>"
      ]
     },
     "metadata": {},
     "output_type": "display_data"
    }
   ],
   "source": [
    "relevant_articles(task8, 5, only_covid19=True)"
   ]
  },
  {
   "cell_type": "markdown",
   "metadata": {},
   "source": [
    "### What has been published about information sharing and inter-sectoral collaboration?"
   ]
  },
  {
   "cell_type": "code",
   "execution_count": 102,
   "metadata": {
    "ExecuteTime": {
     "end_time": "2020-04-25T18:06:23.014241Z",
     "start_time": "2020-04-25T18:05:53.227172Z"
    }
   },
   "outputs": [
    {
     "name": "stdout",
     "output_type": "stream",
     "text": [
      "Methods for coordinating data-gathering with standardized nomenclature.\n"
     ]
    },
    {
     "data": {
      "text/html": [
       "<a href=\"http://doi.org/10.1093/bioinformatics/btaa145\" target=\"_blank\">Genome Detective Coronavirus Typing Tool for rapid identification and characterization of novel coronavirus genomes</a><br/><a href=\"http://doi.org/10.1101/2020.03.02.968818\" target=\"_blank\">Rapid metagenomic characterization of a case of imported COVID-19 in Cambodia</a><br/><a href=\"http://doi.org/10.1101/2020.02.21.959973\" target=\"_blank\">No more business as usual: agile and effective responses to emerging pathogen threats require open data and open analytics Authors and contributions</a><br/><a href=\"http://doi.org/10.1101/2020.03.02.974311\" target=\"_blank\">Partial RdRp sequences offer a robust method for Coronavirus 1 subgenus classification. 2 Running title: Subgenus inference using Coronavirus RdRp</a><br/><a href=\"http://doi.org/10.1101/2020.02.03.932350\" target=\"_blank\">Machine learning using intrinsic genomic signatures for rapid classification of novel pathogens: COVID-19 case study</a>"
      ],
      "text/plain": [
       "<IPython.core.display.HTML object>"
      ]
     },
     "metadata": {},
     "output_type": "display_data"
    },
    {
     "name": "stdout",
     "output_type": "stream",
     "text": [
      "Sharing response information among planners, providers, and others.\n"
     ]
    },
    {
     "data": {
      "text/html": [
       "<a href=\"http://dx.doi.org/10.2471/BLT.20.251561\" target=\"_blank\">150 | b Health Emergencies Preparedness and Response, World Health Organization</a><br/><a href=\"http://doi.org/10.1093/pcmedi/pbaa006\" target=\"_blank\">nan</a><br/><a href=\"http://doi.org/10.1016/S2468-2667(20)30033-5\" target=\"_blank\">Comment</a><br/><a href=\"http://doi.org/10.1016/j.jshs.2020.02.001\" target=\"_blank\">nan</a><br/><a href=\"http://dx.doi.org/10.30773/pi.2020.0058\" target=\"_blank\">nan</a>"
      ],
      "text/plain": [
       "<IPython.core.display.HTML object>"
      ]
     },
     "metadata": {},
     "output_type": "display_data"
    },
    {
     "name": "stdout",
     "output_type": "stream",
     "text": [
      "Understanding and mitigating barriers to information-sharing.\n"
     ]
    },
    {
     "data": {
      "text/html": [
       "<a href=\"http://dx.doi.org/10.1002/cti2.1115\" target=\"_blank\">Frontiers in antiviral therapy and immunotherapy</a><br/><a href=\"http://doi.org/10.1097/CM9.0000000000000760\" target=\"_blank\">nan</a><br/><a href=\"http://doi.org/10.1016/j.onehlt.2020.100124\" target=\"_blank\">To appear in: One Health</a><br/><a href=\"http://doi.org/10.2807/1560-7917.ES.2020.25.8.2000197\" target=\"_blank\">Authors' response: Plenty of coronaviruses but no SARS-CoV-2</a><br/><a href=\"http://doi.org/10.1097/CM9.0000000000000777\" target=\"_blank\">Science in the fight against the novel coronavirus disease</a>"
      ],
      "text/plain": [
       "<IPython.core.display.HTML object>"
      ]
     },
     "metadata": {},
     "output_type": "display_data"
    },
    {
     "name": "stdout",
     "output_type": "stream",
     "text": [
      "How to recruit, support, and coordinate local (non-Federal) expertise and capacity relevant to public health emergency response (public, private, commercial and non-profit, including academic).\n"
     ]
    },
    {
     "data": {
      "text/html": [
       "<a href=\"http://dx.doi.org/10.2471/BLT.20.251561\" target=\"_blank\">150 | b Health Emergencies Preparedness and Response, World Health Organization</a><br/><a href=\"http://doi.org/10.1093/pcmedi/pbaa006\" target=\"_blank\">nan</a><br/><a href=\"http://doi.org/10.1016/S2468-2667(20)30033-5\" target=\"_blank\">Comment</a><br/><a href=\"http://dx.doi.org/10.30773/pi.2020.0058\" target=\"_blank\">nan</a><br/><a href=\"http://doi.org/10.1016/j.jshs.2020.02.001\" target=\"_blank\">nan</a>"
      ],
      "text/plain": [
       "<IPython.core.display.HTML object>"
      ]
     },
     "metadata": {},
     "output_type": "display_data"
    },
    {
     "name": "stdout",
     "output_type": "stream",
     "text": [
      "Integration of federal/state/local public health surveillance systems.\n"
     ]
    },
    {
     "data": {
      "text/html": [
       "<a href=\"http://dx.doi.org/10.2471/BLT.20.251561\" target=\"_blank\">150 | b Health Emergencies Preparedness and Response, World Health Organization</a><br/><a href=\"http://doi.org/10.1093/pcmedi/pbaa006\" target=\"_blank\">nan</a><br/><a href=\"http://doi.org/10.1016/S2468-2667(20)30033-5\" target=\"_blank\">Comment</a><br/><a href=\"http://doi.org/10.1016/j.jshs.2020.02.001\" target=\"_blank\">nan</a><br/><a href=\"http://dx.doi.org/10.30773/pi.2020.0058\" target=\"_blank\">nan</a>"
      ],
      "text/plain": [
       "<IPython.core.display.HTML object>"
      ]
     },
     "metadata": {},
     "output_type": "display_data"
    },
    {
     "name": "stdout",
     "output_type": "stream",
     "text": [
      "Value of investments in baseline public health response infrastructure preparedness\n"
     ]
    },
    {
     "data": {
      "text/html": [
       "<a href=\"http://dx.doi.org/10.2471/BLT.20.251561\" target=\"_blank\">150 | b Health Emergencies Preparedness and Response, World Health Organization</a><br/><a href=\"http://doi.org/10.1093/pcmedi/pbaa006\" target=\"_blank\">nan</a><br/><a href=\"http://doi.org/10.1016/S2468-2667(20)30033-5\" target=\"_blank\">Comment</a><br/><a href=\"http://dx.doi.org/10.30773/pi.2020.0058\" target=\"_blank\">nan</a><br/><a href=\"http://doi.org/10.1016/j.jshs.2020.02.001\" target=\"_blank\">nan</a>"
      ],
      "text/plain": [
       "<IPython.core.display.HTML object>"
      ]
     },
     "metadata": {},
     "output_type": "display_data"
    },
    {
     "name": "stdout",
     "output_type": "stream",
     "text": [
      "Modes of communicating with target high-risk populations (elderly, health care workers).\n"
     ]
    },
    {
     "data": {
      "text/html": [
       "<a href=\"http://doi.org/10.1016/S2468-2667(20)30033-5\" target=\"_blank\">Comment</a><br/><a href=\"http://doi.org/10.1016/j.jshs.2020.01.005\" target=\"_blank\">nan</a><br/><a href=\"http://doi.org/10.1016/j.jshs.2020.02.001\" target=\"_blank\">nan</a><br/><a href=\"http://dx.doi.org/10.2471/BLT.20.251561\" target=\"_blank\">150 | b Health Emergencies Preparedness and Response, World Health Organization</a><br/><a href=\"http://doi.org/10.1093/pcmedi/pbaa006\" target=\"_blank\">nan</a>"
      ],
      "text/plain": [
       "<IPython.core.display.HTML object>"
      ]
     },
     "metadata": {},
     "output_type": "display_data"
    },
    {
     "name": "stdout",
     "output_type": "stream",
     "text": [
      "Risk communication and guidelines that are easy to understand and follow (include targeting at risk populations’ families too).\n"
     ]
    },
    {
     "data": {
      "text/html": [
       "<a href=\"http://dx.doi.org/10.2471/BLT.20.251561\" target=\"_blank\">150 | b Health Emergencies Preparedness and Response, World Health Organization</a><br/><a href=\"http://doi.org/10.1093/pcmedi/pbaa006\" target=\"_blank\">nan</a><br/><a href=\"http://doi.org/10.1016/S2468-2667(20)30033-5\" target=\"_blank\">Comment</a><br/><a href=\"http://dx.doi.org/10.30773/pi.2020.0058\" target=\"_blank\">nan</a><br/><a href=\"http://doi.org/10.1016/j.jshs.2020.02.001\" target=\"_blank\">nan</a>"
      ],
      "text/plain": [
       "<IPython.core.display.HTML object>"
      ]
     },
     "metadata": {},
     "output_type": "display_data"
    },
    {
     "name": "stdout",
     "output_type": "stream",
     "text": [
      "Communication that indicates potential risk of disease to all population groups.\n"
     ]
    },
    {
     "data": {
      "text/html": [
       "<a href=\"http://dx.doi.org/10.1002/cti2.1115\" target=\"_blank\">Frontiers in antiviral therapy and immunotherapy</a><br/><a href=\"http://doi.org/10.2807/1560-7917.ES.2020.25.8.2000197\" target=\"_blank\">Authors' response: Plenty of coronaviruses but no SARS-CoV-2</a><br/><a href=\"http://doi.org/10.1016/S2589-7500(20)30055-8\" target=\"_blank\">Comment</a><br/><a href=\"http://doi.org/10.1097/CM9.0000000000000760\" target=\"_blank\">nan</a><br/><a href=\"http://doi.org/10.4081/pr.2020.8495\" target=\"_blank\">2019-nCoV: Polite with children!</a>"
      ],
      "text/plain": [
       "<IPython.core.display.HTML object>"
      ]
     },
     "metadata": {},
     "output_type": "display_data"
    },
    {
     "name": "stdout",
     "output_type": "stream",
     "text": [
      "Misunderstanding around containment and mitigation.\n"
     ]
    },
    {
     "data": {
      "text/html": [
       "<a href=\"http://doi.org/10.1101/2020.01.23.916726\" target=\"_blank\">Modelling the epidemic trend of the 2019 novel coronavirus outbreak in China</a><br/><a href=\"http://doi.org/10.1017/S0950268820000424\" target=\"_blank\">Epidemiology and Infection Passengers' destinations from China: low risk of Novel Coronavirus (2019-nCoV) transmission into Africa and South America</a><br/><a href=\"http://dx.doi.org/10.2807/1560-7917.ES.2020.25.3.2000044\" target=\"_blank\">nan</a><br/><a href=\"http://doi.org/10.1016/S2589-7500(20)30026-1\" target=\"_blank\">Early epidemiological analysis of the coronavirus disease 2019 outbreak based on crowdsourced data: a population- level observational study</a><br/><a href=\"http://doi.org/10.1097/CM9.0000000000000776\" target=\"_blank\">From SARS-CoV to SARS-CoV-2 Outbreak: Similarities in the Early Epidemics and Prediction of Future Trends</a>"
      ],
      "text/plain": [
       "<IPython.core.display.HTML object>"
      ]
     },
     "metadata": {},
     "output_type": "display_data"
    },
    {
     "name": "stdout",
     "output_type": "stream",
     "text": [
      "Action plan to mitigate gaps and problems of inequity in the Nation’s public health capability, capacity, and funding to ensure all citizens in need are supported and can access information, surveillance, and treatment.\n"
     ]
    },
    {
     "data": {
      "text/html": [
       "<a href=\"http://dx.doi.org/10.2471/BLT.20.251561\" target=\"_blank\">150 | b Health Emergencies Preparedness and Response, World Health Organization</a><br/><a href=\"http://doi.org/10.1093/pcmedi/pbaa006\" target=\"_blank\">nan</a><br/><a href=\"http://doi.org/10.1016/S2468-2667(20)30033-5\" target=\"_blank\">Comment</a><br/><a href=\"http://dx.doi.org/10.30773/pi.2020.0058\" target=\"_blank\">nan</a><br/><a href=\"http://doi.org/10.1016/j.jshs.2020.02.001\" target=\"_blank\">nan</a>"
      ],
      "text/plain": [
       "<IPython.core.display.HTML object>"
      ]
     },
     "metadata": {},
     "output_type": "display_data"
    },
    {
     "name": "stdout",
     "output_type": "stream",
     "text": [
      "Measures to reach marginalized and disadvantaged populations.\n"
     ]
    },
    {
     "data": {
      "text/html": [
       "<a href=\"http://dx.doi.org/10.1002/cti2.1115\" target=\"_blank\">Frontiers in antiviral therapy and immunotherapy</a><br/><a href=\"http://doi.org/10.1097/CM9.0000000000000760\" target=\"_blank\">nan</a><br/><a href=\"http://doi.org/10.1016/j.onehlt.2020.100124\" target=\"_blank\">To appear in: One Health</a><br/><a href=\"http://doi.org/10.2807/1560-7917.ES.2020.25.8.2000197\" target=\"_blank\">Authors' response: Plenty of coronaviruses but no SARS-CoV-2</a><br/><a href=\"http://doi.org/10.1097/CM9.0000000000000777\" target=\"_blank\">Science in the fight against the novel coronavirus disease</a>"
      ],
      "text/plain": [
       "<IPython.core.display.HTML object>"
      ]
     },
     "metadata": {},
     "output_type": "display_data"
    },
    {
     "name": "stdout",
     "output_type": "stream",
     "text": [
      "Data systems and research priorities and agendas incorporate attention to the needs and circumstances of disadvantaged populations and underrepresented minorities.\n"
     ]
    },
    {
     "data": {
      "text/html": [
       "<a href=\"http://dx.doi.org/10.2471/BLT.20.251561\" target=\"_blank\">150 | b Health Emergencies Preparedness and Response, World Health Organization</a><br/><a href=\"http://doi.org/10.1093/pcmedi/pbaa006\" target=\"_blank\">nan</a><br/><a href=\"http://doi.org/10.1016/S2468-2667(20)30033-5\" target=\"_blank\">Comment</a><br/><a href=\"http://dx.doi.org/10.30773/pi.2020.0058\" target=\"_blank\">nan</a><br/><a href=\"http://doi.org/10.1016/j.jshs.2020.02.001\" target=\"_blank\">nan</a>"
      ],
      "text/plain": [
       "<IPython.core.display.HTML object>"
      ]
     },
     "metadata": {},
     "output_type": "display_data"
    },
    {
     "name": "stdout",
     "output_type": "stream",
     "text": [
      "Mitigating threats to incarcerated people from COVID-19, assuring access to information, prevention, diagnosis, and treatment.\n"
     ]
    },
    {
     "data": {
      "text/html": [
       "<a href=\"http://doi.org/10.1186/s12916-020-01533-w\" target=\"_blank\">Q&A: The novel coronavirus outbreak causing COVID-19</a><br/><a href=\"http://doi.org/10.3390/healthcare8010051\" target=\"_blank\">Outbreak of Novel Coronavirus (SARS-Cov-2): First Evidences From International Scientific Literature and Pending Questions</a><br/><a href=\"http://doi.org/10.3346/jkms.2020.35.e89\" target=\"_blank\">nan</a><br/><a href=\"http://doi.org/10.1101/2020.01.23.916726\" target=\"_blank\">Modelling the epidemic trend of the 2019 novel coronavirus outbreak in China</a><br/><a href=\"http://doi.org/10.1017/S0950268820000424\" target=\"_blank\">Epidemiology and Infection Passengers' destinations from China: low risk of Novel Coronavirus (2019-nCoV) transmission into Africa and South America</a>"
      ],
      "text/plain": [
       "<IPython.core.display.HTML object>"
      ]
     },
     "metadata": {},
     "output_type": "display_data"
    },
    {
     "name": "stdout",
     "output_type": "stream",
     "text": [
      "Understanding coverage policies (barriers and opportunities) related to testing, treatment, and care\n"
     ]
    },
    {
     "data": {
      "text/html": [
       "<a href=\"http://doi.org/10.1016/S2468-2667(20)30033-5\" target=\"_blank\">Comment</a><br/><a href=\"http://dx.doi.org/10.2471/BLT.20.251561\" target=\"_blank\">150 | b Health Emergencies Preparedness and Response, World Health Organization</a><br/><a href=\"http://doi.org/10.1016/j.jshs.2020.01.005\" target=\"_blank\">nan</a><br/><a href=\"http://doi.org/10.1093/pcmedi/pbaa006\" target=\"_blank\">nan</a><br/><a href=\"http://doi.org/10.1016/j.jshs.2020.02.001\" target=\"_blank\">nan</a>"
      ],
      "text/plain": [
       "<IPython.core.display.HTML object>"
      ]
     },
     "metadata": {},
     "output_type": "display_data"
    }
   ],
   "source": [
    "relevant_articles(task9, 5, only_covid19=True)"
   ]
  },
  {
   "cell_type": "markdown",
   "metadata": {},
   "source": [
    "## Widget: Pick a Task"
   ]
  },
  {
   "cell_type": "code",
   "execution_count": 103,
   "metadata": {
    "ExecuteTime": {
     "end_time": "2020-04-25T18:06:23.697243Z",
     "start_time": "2020-04-25T18:06:23.681278Z"
    }
   },
   "outputs": [],
   "source": [
    "#########################################################################################################################\n",
    "#\n",
    "#    Title: Topic Modeling: Finding Related Articles\n",
    "#    Author: Daniel Wolffram\n",
    "#    Date: 2020\n",
    "#    Code version: 10\n",
    "#    Availability: https://www.kaggle.com/danielwolffram/topic-modeling-finding-related-articles?scriptVersionId=30463507\n",
    "# \n",
    "#########################################################################################################################\n",
    "def relevant_articles_for_task():\n",
    "    tasks={'What is known about transmission, incubation, and environmental stability?': task1,\n",
    "           'What do we know about COVID-19 risk factors?': task2, \n",
    "           'What do we know about virus genetics, origin, and evolution?': task3, \n",
    "           'What do we know about non-pharmaceutical interventions?': task4,\n",
    "           'What do we know about vaccines and therapeutics?': task5, \n",
    "           'What has been published about ethical and social science considerations?': task6, \n",
    "           'What do we know about diagnostics and surveillance?': task7,\n",
    "           'What has been published about medical care?': task8, \n",
    "           'What has been published about information sharing and inter-sectoral collaboration?': task9}\n",
    "\n",
    "    def main_function(bullet, task, k=5, year_range=[1950, 2020], only_covid19=False):\n",
    "        relevant_articles([bullet], k, lower=year_range[0], upper=year_range[1], only_covid19=only_covid19)\n",
    "        bulletW.options = tasks[task]    \n",
    "\n",
    "    yearW = widgets.IntRangeSlider(min=1950, max=2020, value=[2010, 2020], description='Year Range', \n",
    "                                   continuous_update=False, layout=Layout(width='40%'))\n",
    "    covidW = widgets.Checkbox(value=True,description='Only COVID-19-Papers',disabled=False, indent=False, layout=Layout(width='20%'))\n",
    "    kWidget = widgets.IntSlider(value=10, description='k', max=50, min=1, layout=Layout(width='30%'))\n",
    "\n",
    "    taskW = widgets.Dropdown(options=tasks.keys(), layout=Layout(width='90%', height='50px'), description='Task:')\n",
    "    init = taskW.value\n",
    "    bulletW = widgets.Select(options=tasks[init], layout=Layout(width='90%', height='200px'), description='Bullet Point:')\n",
    "\n",
    "    widget = widgets.interactive(main_function, task=taskW, bullet=bulletW, k=kWidget, year_range=yearW, only_covid19=covidW)\n",
    "    \n",
    "    controls = VBox([HBox([widget.children[2], widget.children[3], widget.children[4]], layout=Layout(width='90%', justify_content='space-around')),\n",
    "                     widget.children[1],\n",
    "                     widget.children[0]], layout=Layout(align_items='center'))\n",
    "    \n",
    "    output = widget.children[-1]\n",
    "    display(VBox([controls, output]))"
   ]
  },
  {
   "cell_type": "code",
   "execution_count": 104,
   "metadata": {
    "ExecuteTime": {
     "end_time": "2020-04-25T18:06:26.487401Z",
     "start_time": "2020-04-25T18:06:26.400411Z"
    }
   },
   "outputs": [
    {
     "data": {
      "application/vnd.jupyter.widget-view+json": {
       "model_id": "0d0c8b6e33b94cfa9c1f28a8c2934d2c",
       "version_major": 2,
       "version_minor": 0
      },
      "text/plain": [
       "VBox(children=(VBox(children=(HBox(children=(IntSlider(value=10, description='k', layout=Layout(width='30%'), …"
      ]
     },
     "metadata": {},
     "output_type": "display_data"
    }
   ],
   "source": [
    "relevant_articles_for_task()"
   ]
  },
  {
   "cell_type": "markdown",
   "metadata": {},
   "source": [
    "## Widget: Free Text Search"
   ]
  },
  {
   "cell_type": "code",
   "execution_count": 105,
   "metadata": {
    "ExecuteTime": {
     "end_time": "2020-04-25T18:06:31.543465Z",
     "start_time": "2020-04-25T18:06:31.529462Z"
    }
   },
   "outputs": [],
   "source": [
    "#########################################################################################################################\n",
    "#\n",
    "#    Title: Topic Modeling: Finding Related Articles\n",
    "#    Author: Daniel Wolffram\n",
    "#    Date: 2020\n",
    "#    Code version: 10\n",
    "#    Availability: https://www.kaggle.com/danielwolffram/topic-modeling-finding-related-articles?scriptVersionId=30463507\n",
    "# \n",
    "#########################################################################################################################\n",
    "def relevant_articles_for_text():    \n",
    "    textW = widgets.Textarea(\n",
    "        value='',\n",
    "        placeholder='Type something',\n",
    "        description='',\n",
    "        disabled=False,\n",
    "        layout=Layout(width='90%', height='200px')\n",
    "    )\n",
    "\n",
    "    yearW = widgets.IntRangeSlider(min=1950, max=2020, value=[2010, 2020], description='Year Range', \n",
    "                               continuous_update=False, layout=Layout(width='40%'))\n",
    "    covidW = widgets.Checkbox(value=True,description='Only COVID-19-Papers',disabled=False, indent=False, layout=Layout(width='25%'))\n",
    "    kWidget = widgets.IntSlider(value=10, description='k', max=50, min=1, layout=Layout(width='25%'))\n",
    "\n",
    "    button = widgets.Button(description=\"Search\")\n",
    "\n",
    "    display(VBox([HBox([kWidget, yearW, covidW], layout=Layout(width='90%', justify_content='space-around')),\n",
    "        textW, button], layout=Layout(align_items='center')))\n",
    "\n",
    "    def on_button_clicked(b):\n",
    "        clear_output()\n",
    "        display(VBox([HBox([kWidget, yearW, covidW], layout=Layout(width='90%', justify_content='space-around')),\n",
    "            textW, button], layout=Layout(align_items='center')))        \n",
    "        relevant_articles(textW.value, kWidget.value, yearW.value[0], yearW.value[1], covidW.value)\n",
    "\n",
    "    button.on_click(on_button_clicked)"
   ]
  },
  {
   "cell_type": "code",
   "execution_count": 106,
   "metadata": {
    "ExecuteTime": {
     "end_time": "2020-04-25T18:06:33.435742Z",
     "start_time": "2020-04-25T18:06:33.362743Z"
    }
   },
   "outputs": [
    {
     "data": {
      "application/vnd.jupyter.widget-view+json": {
       "model_id": "b3885a63945e47bb9e2e7694200f5780",
       "version_major": 2,
       "version_minor": 0
      },
      "text/plain": [
       "VBox(children=(HBox(children=(IntSlider(value=10, description='k', layout=Layout(width='25%'), max=50, min=1),…"
      ]
     },
     "metadata": {},
     "output_type": "display_data"
    },
    {
     "name": "stdout",
     "output_type": "stream",
     "text": [
      "covid 19 covid-19 corona virus\n"
     ]
    },
    {
     "data": {
      "text/html": [
       "<a href=\"http://doi.org/10.1101/2020.03.04.976662\" target=\"_blank\">Genome-wide data inferring the evolution and population 1 demography of the novel pneumonia coronavirus (SARS-CoV-2)</a><br/><a href=\"http://doi.org/10.1101/2020.02.27.967760\" target=\"_blank\">TITLE PAGE The SARS-CoV-2 receptor ACE2 expression of maternal-fetal interface and fetal organs by single cell transcriptome study</a><br/><a href=\"http://doi.org/10.1101/2020.02.29.965418\" target=\"_blank\">The within-host viral kinetics of SARS-CoV-2</a><br/><a href=\"http://doi.org/10.1101/2020.03.07.982264\" target=\"_blank\">SARS-CoV-2 sensitive to type I interferon pretreatment</a><br/><a href=\"http://doi.org/10.1101/2020.02.20.958272\" target=\"_blank\">A Multiscale and Comparative Model for Receptor Binding of 2019 Novel Coronavirus and the Implication of its Life Cycle in Host Cells</a><br/><a href=\"http://doi.org/10.1101/2020.01.26.919985\" target=\"_blank\">Single-cell RNA expression profiling of ACE2, the putative receptor of Wuhan 2019-nCov</a><br/><a href=\"http://doi.org/10.1101/2020.02.19.957118\" target=\"_blank\">Mucin 4 Protects Female Mice from Coronavirus Pathogenesis</a><br/><a href=\"http://doi.org/10.1101/2020.02.27.967588\" target=\"_blank\">TWIRLS, an automated topic-wise inference method based on massive literature, suggests a possible mechanism via ACE2 for the pathological changes in the human host after coronavirus infection</a><br/><a href=\"http://doi.org/10.1136/archdischild-2020-318996\" target=\"_blank\">nan</a><br/><a href=\"http://doi.org/10.1101/2020.03.02.973255\" target=\"_blank\">Evidence for RNA editing in the transcriptome of 2019 Novel Coronavirus</a>"
      ],
      "text/plain": [
       "<IPython.core.display.HTML object>"
      ]
     },
     "metadata": {},
     "output_type": "display_data"
    }
   ],
   "source": [
    "relevant_articles_for_text()"
   ]
  },
  {
   "cell_type": "markdown",
   "metadata": {},
   "source": [
    "## Finding Related Sentences (GloVe and cosine_similarity)"
   ]
  },
  {
   "cell_type": "code",
   "execution_count": 107,
   "metadata": {
    "ExecuteTime": {
     "end_time": "2020-04-25T18:07:08.338704Z",
     "start_time": "2020-04-25T18:07:08.331704Z"
    }
   },
   "outputs": [],
   "source": [
    "from scipy.spatial import distance\n",
    "from scipy import spatial"
   ]
  },
  {
   "cell_type": "markdown",
   "metadata": {},
   "source": [
    "### Load Data \"Kaggle_Covid19_All_Sources.csv\""
   ]
  },
  {
   "cell_type": "code",
   "execution_count": 108,
   "metadata": {
    "ExecuteTime": {
     "end_time": "2020-04-25T18:07:15.233472Z",
     "start_time": "2020-04-25T18:07:10.320974Z"
    }
   },
   "outputs": [],
   "source": [
    "all_data = pd.read_csv('Kaggle_Covid19_All_Sources.csv')"
   ]
  },
  {
   "cell_type": "code",
   "execution_count": 109,
   "metadata": {
    "ExecuteTime": {
     "end_time": "2020-04-25T18:07:16.966740Z",
     "start_time": "2020-04-25T18:07:16.933770Z"
    }
   },
   "outputs": [],
   "source": [
    "all_data['publish_year'] = all_data.publish_time.str[:4].fillna(-1).astype(int)"
   ]
  },
  {
   "cell_type": "code",
   "execution_count": 110,
   "metadata": {
    "ExecuteTime": {
     "end_time": "2020-04-25T18:07:18.572531Z",
     "start_time": "2020-04-25T18:07:18.322175Z"
    }
   },
   "outputs": [],
   "source": [
    "tf = joblib.load('tf.csv')"
   ]
  },
  {
   "cell_type": "code",
   "execution_count": 111,
   "metadata": {
    "ExecuteTime": {
     "end_time": "2020-04-25T18:07:20.977416Z",
     "start_time": "2020-04-25T18:07:19.592344Z"
    }
   },
   "outputs": [],
   "source": [
    "lda_tf = joblib.load('lda.pkl')"
   ]
  },
  {
   "cell_type": "code",
   "execution_count": 112,
   "metadata": {
    "ExecuteTime": {
     "end_time": "2020-04-25T18:07:22.507879Z",
     "start_time": "2020-04-25T18:07:22.233616Z"
    }
   },
   "outputs": [],
   "source": [
    "topic_dist = pd.read_csv('topic_dist.csv')"
   ]
  },
  {
   "cell_type": "markdown",
   "metadata": {},
   "source": [
    "### Split Text into Sentences"
   ]
  },
  {
   "cell_type": "code",
   "execution_count": 113,
   "metadata": {
    "ExecuteTime": {
     "end_time": "2020-04-25T18:09:20.193921Z",
     "start_time": "2020-04-25T18:07:35.662663Z"
    }
   },
   "outputs": [],
   "source": [
    "sentences = []\n",
    "for s in all_data.text_body:\n",
    "    sentences.append(sent_tokenize(s))\n",
    "sentences = [y for x in sentences for y in x]"
   ]
  },
  {
   "cell_type": "markdown",
   "metadata": {},
   "source": [
    "### Extract word vectors"
   ]
  },
  {
   "cell_type": "markdown",
   "metadata": {},
   "source": [
    "Download GloVe: Global Vectors for Word Representation Wikipedia 2014 + Gigaword 5\n",
    "Ref: Jeffrey Pennington, Richard Socher, and Christopher D. Manning. 2014. GloVe: Global Vectors for Word Representation. \n"
   ]
  },
  {
   "cell_type": "code",
   "execution_count": 66,
   "metadata": {
    "ExecuteTime": {
     "end_time": "2020-04-23T19:42:50.394741Z",
     "start_time": "2020-04-23T19:42:32.041962Z"
    }
   },
   "outputs": [
    {
     "name": "stdout",
     "output_type": "stream",
     "text": [
      "Archive:  glove.6B.zip\n",
      "  inflating: glove.6B.50d.txt        \n",
      "  inflating: glove.6B.100d.txt       \n",
      "  inflating: glove.6B.200d.txt       \n",
      "  inflating: glove.6B.300d.txt       \n"
     ]
    }
   ],
   "source": [
    "!unzip glove*.zip"
   ]
  },
  {
   "cell_type": "code",
   "execution_count": 114,
   "metadata": {
    "ExecuteTime": {
     "end_time": "2020-04-25T18:09:41.361552Z",
     "start_time": "2020-04-25T18:09:26.098306Z"
    }
   },
   "outputs": [],
   "source": [
    "#########################################################################################################################\n",
    "#\n",
    "#    Title: An Introduction to Text Summarization using the TextRank Algorithm (with Python implementation)\n",
    "#    Author: Prateek Joshi\n",
    "#    Date: 2018\n",
    "#    Code version: 1\n",
    "#    Availability: https://www.analyticsvidhya.com/blog/2018/11/introduction-text-summarization-textrank-python/\n",
    "#########################################################################################################################\n",
    "\n",
    "# Extract word vectors\n",
    "word_embeddings = {}\n",
    "f = open('glove.6B.100d.txt', encoding='utf-8')\n",
    "for line in f:\n",
    "    values = line.split()\n",
    "    word = values[0]\n",
    "    coefs = np.asarray(values[1:], dtype='float32')\n",
    "    word_embeddings[word] = coefs\n",
    "f.close()"
   ]
  },
  {
   "cell_type": "markdown",
   "metadata": {},
   "source": [
    "### Clean sentences"
   ]
  },
  {
   "cell_type": "code",
   "execution_count": 115,
   "metadata": {
    "ExecuteTime": {
     "end_time": "2020-04-25T18:09:43.531662Z",
     "start_time": "2020-04-25T18:09:43.515660Z"
    }
   },
   "outputs": [],
   "source": [
    "def fun_clean_sentences(sentences):\n",
    "\n",
    "    # remove punctuations, numbers and special characters\n",
    "    clean_sentences = pd.Series(sentences).str.replace(\"[^a-zA-Z]\", \" \")\n",
    "\n",
    "    # make alphabets lowercase\n",
    "    clean_sentences = [s.lower() for s in clean_sentences]\n",
    "    stop_words = stopwords.words('english')\n",
    "    stop_words.extend(['background', 'methods', 'introduction', 'conclusions', 'results', \n",
    "                   'purpose', 'materials', 'discussions','methodology','result analysis'])\n",
    "    def remove_stopwords(sen):\n",
    "        sen_new = \" \".join([i for i in sen if i not in stop_words])\n",
    "        return sen_new\n",
    "    clean_sentences = [remove_stopwords(r.split()) for r in clean_sentences]\n",
    "    return clean_sentences\n",
    "    "
   ]
  },
  {
   "cell_type": "code",
   "execution_count": 116,
   "metadata": {
    "ExecuteTime": {
     "end_time": "2020-04-25T18:11:49.279284Z",
     "start_time": "2020-04-25T18:09:45.007852Z"
    }
   },
   "outputs": [],
   "source": [
    "clean_sentences = fun_clean_sentences(sentences)"
   ]
  },
  {
   "cell_type": "markdown",
   "metadata": {},
   "source": [
    "### Vector Representation of Text-body Sentences"
   ]
  },
  {
   "cell_type": "code",
   "execution_count": 117,
   "metadata": {
    "ExecuteTime": {
     "end_time": "2020-04-25T18:13:10.268682Z",
     "start_time": "2020-04-25T18:11:57.354207Z"
    }
   },
   "outputs": [],
   "source": [
    "#########################################################################################################################\n",
    "#\n",
    "#    Title: An Introduction to Text Summarization using the TextRank Algorithm (with Python implementation)\n",
    "#    Author: Prateek Joshi\n",
    "#    Date: 2018\n",
    "#    Code version: 1\n",
    "#    Availability: https://www.analyticsvidhya.com/blog/2018/11/introduction-text-summarization-textrank-python/\n",
    "#########################################################################################################################\n",
    "        \n",
    "sentence_vectors = []\n",
    "for i in clean_sentences:\n",
    "    if len(i) != 0:\n",
    "        v = sum([word_embeddings.get(w, np.zeros((100,))) for w in i.split()])/(len(i.split())+0.001)\n",
    "    else:\n",
    "        v = np.zeros((100,))\n",
    "    sentence_vectors.append(v)"
   ]
  },
  {
   "cell_type": "markdown",
   "metadata": {},
   "source": [
    "### Vector Representation of Question Sentences"
   ]
  },
  {
   "cell_type": "code",
   "execution_count": 118,
   "metadata": {
    "ExecuteTime": {
     "end_time": "2020-04-25T18:13:13.704293Z",
     "start_time": "2020-04-25T18:13:13.696294Z"
    }
   },
   "outputs": [],
   "source": [
    "questions = [\"Range of incubation periods for the disease in humans (and how this varies across age and health status) and how long individuals are contagious, even after recovery. days, years, time, period, childern, kid, young, senior, adults, old, COVID-19, 2019-nCov, 'coronavirus', 'cov-2', 'sars-cov-2', 'sars-cov, hcov, 2019-ncov\",\n",
    "\"Prevalence of asymptomatic shedding and transmission (e.g., particularly children).\",\n",
    "\"Seasonality of transmission. spring, winter, summer, autumn, fall, cold, hot, warm\",\n",
    "\"Physical science of the coronavirus (e.g., charge distribution, adhesion to hydrophilic/phobic surfaces, environmental survival to inform decontamination efforts for affected areas and provide information about viral shedding).\",\n",
    "\"Persistence and stability on a multitude of substrates and sources (e.g., nasal discharge, sputum, urine, fecal matter, blood).\",\n",
    "\"Persistence of virus on surfaces of different materials (e,g., copper, stainless steel, plastic,paper, wood, metal, food, cloth, hair, skin, porcelain).\",\n",
    "\"Natural history of the virus and shedding of it from an infected person\",\n",
    "\"Implementation of diagnostics and products to improve clinical processes\",\n",
    "\"Disease models, including animal models for infection, disease and transmission\",\n",
    "\"Tools and studies to monitor phenotypic change and potential adaptation of the virus\",\n",
    "\"Immune response and immunity\",\n",
    "\"Effectiveness of movement control strategies to prevent secondary transmission in health care and community settings\",\n",
    "\"Effectiveness of personal protective equipment (PPE) and its usefulness to reduce risk of transmission in health care and community settings, mask, google, gloves\",\n",
    "\"Role of the environment in transmission\"]"
   ]
  },
  {
   "cell_type": "code",
   "execution_count": 119,
   "metadata": {
    "ExecuteTime": {
     "end_time": "2020-04-25T18:13:16.411187Z",
     "start_time": "2020-04-25T18:13:16.384610Z"
    }
   },
   "outputs": [],
   "source": [
    "#########################################################################################################################\n",
    "#\n",
    "#    Title: An Introduction to Text Summarization using the TextRank Algorithm (with Python implementation)\n",
    "#    Author: Prateek Joshi\n",
    "#    Date: 2018\n",
    "#    Code version: 1\n",
    "#    Availability: https://www.analyticsvidhya.com/blog/2018/11/introduction-text-summarization-textrank-python/\n",
    "#########################################################################################################################\n",
    "\n",
    "clean_questions = fun_clean_sentences(questions)\n",
    "question_vectors = []\n",
    "for i in clean_questions:\n",
    "    if len(i) != 0:\n",
    "        v = sum([word_embeddings.get(w, np.zeros((100,))) for w in i.split()])/(len(i.split())+0.001)\n",
    "    else:\n",
    "        v = np.zeros((100,))\n",
    "    question_vectors.append(v)"
   ]
  },
  {
   "cell_type": "markdown",
   "metadata": {},
   "source": [
    "### Cosine Similarity Matrix"
   ]
  },
  {
   "cell_type": "code",
   "execution_count": 120,
   "metadata": {
    "ExecuteTime": {
     "end_time": "2020-04-25T18:13:44.822160Z",
     "start_time": "2020-04-25T18:13:22.482081Z"
    }
   },
   "outputs": [],
   "source": [
    "sim_mat= cosine_similarity(sentence_vectors, question_vectors)\n",
    "sim_mat_df = pd.DataFrame(sim_mat)"
   ]
  },
  {
   "cell_type": "code",
   "execution_count": 121,
   "metadata": {
    "ExecuteTime": {
     "end_time": "2020-04-25T18:13:48.315160Z",
     "start_time": "2020-04-25T18:13:48.165162Z"
    }
   },
   "outputs": [
    {
     "data": {
      "text/plain": [
       "[array([ 0.02598357,  0.28678034,  0.14133468, -0.05999389, -0.25050776,\n",
       "         0.06722982,  0.0099764 , -0.0545159 , -0.12801499, -0.107351  ,\n",
       "        -0.12949992,  0.04054813,  0.39085074, -0.07860075,  0.38762581,\n",
       "        -0.13924788,  0.03399591, -0.06326686, -0.22715112, -0.0834815 ,\n",
       "         0.08473672,  0.02601746, -0.09232635,  0.03516977,  0.08181691,\n",
       "         0.09949684,  0.15261544, -0.28712908, -0.26239698,  0.07720456,\n",
       "        -0.02225858,  0.2132642 ,  0.1177438 , -0.14531829,  0.01536673,\n",
       "         0.01753675, -0.08392329,  0.10756533, -0.15314619, -0.0931374 ,\n",
       "        -0.35264745, -0.08428739, -0.03105246, -0.1670065 ,  0.24759063,\n",
       "         0.0225693 ,  0.32225427, -0.2098243 , -0.01991602, -0.32972661,\n",
       "         0.1620186 , -0.32015048, -0.06429728,  0.63006004,  0.06188462,\n",
       "        -1.13237943, -0.04947465, -0.13596332,  0.90605182,  0.39211474,\n",
       "        -0.04900051,  0.70174528,  0.00291355, -0.07888153,  0.39033658,\n",
       "         0.38007339,  0.03124955, -0.19778275,  0.32081626, -0.12066836,\n",
       "        -0.00858995, -0.13723268, -0.20960521,  0.17614763,  0.16241167,\n",
       "        -0.09879376, -0.24883804, -0.18622127, -0.47975574, -0.34878387,\n",
       "         0.273225  ,  0.14779345, -0.09252474,  0.0077679 , -0.90542328,\n",
       "         0.09875295,  0.05723924,  0.0189097 , -0.20679232,  0.02193786,\n",
       "        -0.05687296,  0.05033871,  0.14601768, -0.13538118, -0.29572067,\n",
       "         0.12224231, -0.11423395, -0.29726713,  0.19160391, -0.29376824]),\n",
       " array([-0.06213985,  0.4091287 , -0.0156568 ,  0.23681083, -0.3495989 ,\n",
       "         0.14649919, -0.13779652,  0.04731293, -0.1437865 , -0.20282178,\n",
       "         0.18030013, -0.0659795 , -0.04899852,  0.02189451,  0.37723035,\n",
       "        -0.34217685, -0.21056491, -0.27391514,  0.27146396,  0.06430694,\n",
       "         0.08943756, -0.0667329 ,  0.2788894 ,  0.38955352,  0.25252897,\n",
       "         0.19192012,  0.5092241 , -0.01672254, -0.24643669,  0.1713267 ,\n",
       "         0.4072425 ,  0.30672902,  0.06578439, -0.05439645,  0.18341829,\n",
       "        -0.04263392,  0.27410695,  0.14859141, -0.0829655 ,  0.33569762,\n",
       "        -0.00137821,  0.10175826, -0.3438266 , -0.38798773, -0.04031372,\n",
       "         0.2080481 ,  0.12619422, -0.17751245, -0.0651456 , -0.41417322,\n",
       "         0.1908825 , -0.06306636, -0.29695714,  0.34126246, -0.12109049,\n",
       "        -1.0503961 , -0.15042058, -0.09495437,  1.0510961 ,  0.12621085,\n",
       "        -0.15028371,  0.25882265,  0.02577318, -0.16354953,  0.52648914,\n",
       "         0.41988   ,  0.35687914, -0.26837844,  0.62839925, -0.058069  ,\n",
       "        -0.2414518 , -0.2513272 , -0.02439869,  0.10559618,  0.5279065 ,\n",
       "         0.05316849,  0.0164192 , -0.06053713, -0.4165619 , -0.51323   ,\n",
       "         0.13781801, -0.16057597, -0.27404612,  0.1835497 , -1.1539656 ,\n",
       "        -0.11527058,  0.06370541, -0.2787651 , -0.45566964,  0.05442263,\n",
       "        -0.3673672 ,  0.14358114,  0.41715822,  0.02210327, -0.24373965,\n",
       "         0.14436282, -0.31935298, -0.5549731 ,  0.24231121, -0.16844793],\n",
       "       dtype=float32),\n",
       " array([-2.5785619e-01,  3.5961103e-01,  2.3709726e-01, -2.3211081e-02,\n",
       "        -1.0523367e-01, -2.8740466e-01,  2.6994631e-01,  4.1262370e-01,\n",
       "        -6.3799226e-01, -3.3172050e-01, -2.3425934e-01, -3.0520067e-01,\n",
       "         4.4921133e-01,  1.5356065e-01,  3.6344644e-01, -1.1114118e-01,\n",
       "        -2.2015077e-01, -2.3248965e-01,  6.5466456e-02, -2.8449613e-01,\n",
       "        -1.6849716e-01,  2.8628105e-01,  2.7511504e-01,  3.0128875e-01,\n",
       "        -1.8923311e-02,  5.2937353e-01, -2.7704528e-01, -2.0205501e-01,\n",
       "         8.7025493e-02, -2.0534845e-01, -1.3179469e-01,  9.2465743e-02,\n",
       "         1.0399740e-01, -2.3055054e-01, -2.5559759e-01,  4.9146590e-01,\n",
       "        -4.4472955e-02, -2.5365692e-01,  6.9853805e-02, -4.1804919e-01,\n",
       "        -1.8832767e-01, -3.6900309e-01, -2.1719860e-01, -2.6113158e-01,\n",
       "         4.1761723e-01, -1.2027686e-01,  2.6879683e-01, -4.8690131e-01,\n",
       "         6.1059594e-01, -7.2176582e-01,  1.2228746e-01, -2.4806218e-01,\n",
       "         1.3706478e-01,  4.4877508e-01,  1.0692340e-01, -1.9241624e+00,\n",
       "         1.0506329e-01,  2.8768530e-01,  1.2267454e+00,  1.2747036e-01,\n",
       "        -2.0278671e-01,  9.4971991e-01, -3.2661432e-01, -4.4022698e-02,\n",
       "         7.2459960e-01,  7.7232584e-02,  1.5255485e-01, -8.4235072e-01,\n",
       "         1.8269642e-01, -5.0210917e-01,  2.9476758e-02, -3.9059943e-01,\n",
       "        -2.4444872e-01,  4.0407211e-01, -6.3372150e-02,  3.4500650e-01,\n",
       "         7.4700542e-02, -1.5646645e-01, -1.3003801e-01,  6.6634938e-02,\n",
       "         2.8132495e-01,  2.4977062e-04, -5.5720925e-01,  3.5670039e-01,\n",
       "        -5.0042003e-01, -7.1737953e-02,  9.6781604e-02,  3.6991313e-02,\n",
       "         5.1014900e-02,  1.8243557e-01,  1.5637644e-01,  2.2985159e-01,\n",
       "         1.2171485e-02,  1.8267873e-01, -4.5406559e-01,  5.5854015e-02,\n",
       "        -2.9811746e-01,  2.5578043e-01,  3.5614851e-01,  1.1380851e-02],\n",
       "       dtype=float32),\n",
       " array([-1.98404208e-01,  1.21276811e-01,  2.38545705e-02,  1.41721576e-01,\n",
       "        -8.53442624e-02, -1.52766421e-01, -1.16123267e-01, -1.06387183e-01,\n",
       "        -2.75790244e-02,  2.23865330e-01,  9.72493514e-02, -3.31943274e-01,\n",
       "         7.24353865e-02, -1.83727160e-01,  1.88123390e-01,  4.08839546e-02,\n",
       "         2.06299382e-03,  1.61929661e-03,  1.56483687e-02,  2.33917497e-02,\n",
       "        -9.33965296e-02, -1.35856003e-01,  4.07214127e-02,  2.56516412e-02,\n",
       "        -8.05434883e-02,  1.35636225e-01,  2.99556851e-01, -3.07766572e-02,\n",
       "        -2.34935641e-01, -5.90405948e-02, -2.52769832e-02,  2.10079581e-01,\n",
       "        -1.21168010e-01,  7.37679377e-03,  2.96544805e-02, -2.99450941e-02,\n",
       "         1.07231028e-01,  1.15959622e-01, -2.49170110e-01,  1.05600066e-01,\n",
       "        -1.63851678e-01, -1.84158310e-01, -1.53206408e-01, -3.68434221e-01,\n",
       "         1.00746065e-01,  2.23356932e-01, -9.12985019e-03,  6.99241981e-02,\n",
       "        -1.53111681e-01, -2.15101436e-01,  2.89214849e-01,  7.39522278e-02,\n",
       "        -8.70560035e-02,  5.94239533e-01,  1.34013444e-01, -8.42978477e-01,\n",
       "         1.22896574e-01, -2.25157723e-01,  1.23022902e+00,  2.78164864e-01,\n",
       "        -1.30086511e-01,  3.77590328e-01, -3.59873623e-02, -8.11609849e-02,\n",
       "         6.84215784e-01,  3.17665935e-01,  1.46711931e-01,  8.34353045e-02,\n",
       "         5.70129395e-01, -2.81528115e-01, -1.41433150e-01, -2.21884310e-01,\n",
       "         1.80955648e-01, -1.10725239e-01,  2.85720825e-01, -4.88536060e-02,\n",
       "         3.18984240e-02, -7.66827911e-02, -4.90932405e-01,  3.82863544e-02,\n",
       "         1.93346933e-01,  1.63658336e-01, -3.63931686e-01,  1.53771847e-01,\n",
       "        -1.05320215e+00,  2.34601781e-01,  2.44871691e-01,  7.18319193e-02,\n",
       "        -3.61728042e-01, -3.35007273e-02, -8.03461149e-02, -6.17272221e-02,\n",
       "         1.35042429e-01, -5.18511457e-04,  1.37277976e-01,  1.64673015e-01,\n",
       "        -3.21824327e-02, -3.85113657e-01,  4.91844505e-01,  3.53594832e-02],\n",
       "       dtype=float32),\n",
       " array([-0.2000274 ,  0.1884956 ,  0.16865967, -0.09214027, -0.2170787 ,\n",
       "         0.16495806, -0.04498443,  0.16851   ,  0.01427391,  0.04517955,\n",
       "        -0.13202392, -0.14054874, -0.06753588,  0.16116138,  0.0655574 ,\n",
       "        -0.04096849, -0.10465938, -0.09210556,  0.2694635 , -0.08965103,\n",
       "        -0.15283845, -0.23008156, -0.13461319,  0.11204268,  0.06596488,\n",
       "         0.36102992,  0.19409855,  0.05254281,  0.19078997,  0.01664739,\n",
       "         0.38782215, -0.08623639, -0.34416023,  0.05351868,  0.3394949 ,\n",
       "        -0.01324805,  0.2249222 ,  0.18115541, -0.20577316,  0.25040978,\n",
       "        -0.06236155, -0.28683388, -0.2774765 , -0.41213003, -0.07418264,\n",
       "         0.20721498, -0.22109686, -0.3669223 , -0.17803474, -0.27375603,\n",
       "         0.4581875 ,  0.07485823, -0.00639997,  0.39740518, -0.20401399,\n",
       "        -0.6343362 ,  0.00514241, -0.24298643,  0.839081  ,  0.13557744,\n",
       "        -0.07289958,  0.31775218,  0.00541819,  0.11713763,  0.589115  ,\n",
       "         0.35895202,  0.43157166, -0.38264313,  0.39074537, -0.51678634,\n",
       "        -0.15310629,  0.02422177,  0.4163081 , -0.04556375,  0.30294836,\n",
       "         0.12936862, -0.21901412, -0.2895436 , -0.32037756, -0.02354366,\n",
       "         0.28087065,  0.2912609 , -0.46138564,  0.01340483, -0.7892114 ,\n",
       "         0.23186421,  0.22478037, -0.11247104, -0.30828032,  0.14674446,\n",
       "        -0.4210342 ,  0.08311772, -0.15973109,  0.37588897,  0.25051865,\n",
       "         0.11766716, -0.209156  , -0.51738375, -0.03323634,  0.14694515],\n",
       "       dtype=float32),\n",
       " array([-0.35830754,  0.6780995 , -0.10384263, -0.28554225,  0.01165223,\n",
       "        -0.27977562, -0.1721974 ,  0.14984618, -0.06994729,  0.17882511,\n",
       "         0.09909989, -0.4704024 ,  0.3641243 ,  0.49656075,  0.01615245,\n",
       "         0.15988155,  0.18951938, -0.03976557,  0.43474087, -0.5618339 ,\n",
       "         0.13344881,  0.03180252, -0.02790878,  0.06519469,  0.5300673 ,\n",
       "         0.34925485,  0.1965934 , -0.347894  , -0.21726593, -0.11597796,\n",
       "         0.20631854,  0.22442062, -0.13753004, -0.2702658 ,  0.19207667,\n",
       "         0.15597291,  0.1662411 ,  0.02209049,  0.1016138 , -0.13977471,\n",
       "         0.02951502, -0.59195715, -0.2693583 , -0.4718465 , -0.22004883,\n",
       "         0.19427595, -0.39137068,  0.04860231, -0.00707694, -0.42803666,\n",
       "         0.10135609,  0.12994501,  0.03974813,  0.65712655, -0.25969765,\n",
       "        -1.135162  , -0.44621804,  0.12986962,  1.0720712 ,  0.18004715,\n",
       "         0.03111475,  0.6396239 , -0.23954773,  0.4891221 ,  0.5108706 ,\n",
       "        -0.06910852,  0.6989688 ,  0.03415254,  0.15486999, -0.57099473,\n",
       "        -0.20497231,  0.31815723,  0.3405599 ,  0.37385365,  0.4694795 ,\n",
       "         0.12024576,  0.05591874,  0.03841065, -0.15734534,  0.24711557,\n",
       "         0.3567773 ,  0.04705922, -0.4569435 ,  0.30360317, -0.7140943 ,\n",
       "        -0.15591334,  0.2914347 , -0.20906712, -0.17063783,  0.15595044,\n",
       "         0.07501738, -0.28166434,  0.11664331,  0.05226221, -0.09202745,\n",
       "        -0.20911656, -0.47153524, -0.54579026,  0.6046322 , -0.11198755],\n",
       "       dtype=float32),\n",
       " array([ 0.40207136,  0.60600567,  0.46843192,  0.06234812, -0.20923679,\n",
       "         0.23565406,  0.25704214, -0.13492088,  0.1830475 , -0.2084679 ,\n",
       "        -0.25970948,  0.15789768,  0.6509245 , -0.09467838,  0.4230378 ,\n",
       "        -0.06873702,  0.184892  , -0.00134798,  0.14613733,  0.14732045,\n",
       "         0.1438807 ,  0.08713948,  0.18584053,  0.03474421,  0.20416148,\n",
       "         0.08283321,  0.26366273, -0.14418714, -0.15270406,  0.14665389,\n",
       "         0.03141308,  0.5218023 , -0.06196132, -0.17006716, -0.00775037,\n",
       "        -0.30208415, -0.47293517, -0.13654391, -0.19148083,  0.14044125,\n",
       "        -0.49650562, -0.03453591, -0.2000428 , -0.5461323 ,  0.36706445,\n",
       "         0.5804933 ,  0.2513901 , -0.2005749 , -0.38056657, -0.53734547,\n",
       "         0.32383233, -0.04044824,  0.16342443,  0.73392606, -0.29946676,\n",
       "        -1.2036095 , -0.21408099, -0.11980686,  1.2756873 ,  0.32742375,\n",
       "         0.14088152,  0.8144493 , -0.0047392 , -0.18355441,  0.6983553 ,\n",
       "         0.6001008 ,  0.3234211 , -0.33478415,  0.5978262 , -0.21080354,\n",
       "        -0.09047692, -0.08104765, -0.0039745 ,  0.28472087,  0.40268123,\n",
       "        -0.07156374, -0.23301585, -0.2894391 , -0.70929015,  0.16901898,\n",
       "         0.33544442,  0.18980779, -0.51437175,  0.18386436, -1.066039  ,\n",
       "         0.00971354,  0.18563624,  0.05454176, -0.2607762 ,  0.09955343,\n",
       "         0.1818127 , -0.1888337 ,  0.3968772 , -0.10653907, -0.41960275,\n",
       "         0.20661907, -0.22959606, -0.8020114 ,  0.18702266, -0.22698216],\n",
       "       dtype=float32),\n",
       " array([-0.02915964, -0.06548091, -0.08261473,  0.4672988 , -0.04231345,\n",
       "        -0.71396935,  0.25747707,  0.04901983, -0.2194779 ,  0.19290285,\n",
       "        -0.21941344, -0.41275954,  0.33908018,  0.00688718,  0.16947927,\n",
       "         0.16991153,  0.3558715 ,  0.33783886,  0.08305649,  0.05825896,\n",
       "        -0.50586903, -0.43116647,  0.31874904,  0.42275622, -0.50681555,\n",
       "         0.07528781,  0.39058658, -0.22237922, -0.72377604, -0.04205599,\n",
       "        -0.27133974,  0.3316614 , -0.4466039 , -0.18708   ,  0.16956007,\n",
       "         0.15220113,  0.15508747,  0.03906382, -0.3627526 , -0.11377122,\n",
       "         0.02545993, -0.19394436, -0.3370205 , -0.31727046, -0.47344822,\n",
       "         0.3288537 , -0.0172203 , -0.07335428, -0.46425268, -0.6035944 ,\n",
       "         0.33524582,  0.05417772, -0.43899515,  0.65963256,  0.21159972,\n",
       "        -0.8114516 ,  0.08906348, -0.3439583 ,  1.2199605 , -0.12035829,\n",
       "        -0.05039495,  0.10527411,  0.13128477,  0.06747941,  0.52867854,\n",
       "         0.24954435, -0.20902182, -0.02316448,  0.5568955 , -0.32051325,\n",
       "         0.21898983,  0.11919814,  0.14538693, -0.17637196,  0.30977836,\n",
       "        -0.1907587 , -0.33013114,  0.21996552, -0.48737207, -0.2725972 ,\n",
       "         0.53086483,  0.4367509 , -0.55110145,  0.7313014 , -1.6134143 ,\n",
       "         0.64022005,  0.65331775, -0.17807701, -0.604216  , -0.07152408,\n",
       "        -0.01668721, -0.00487119, -0.1067952 ,  0.24059324,  0.15366772,\n",
       "         0.41668656,  0.16326986, -0.46570492,  0.92269796,  0.39517748],\n",
       "       dtype=float32),\n",
       " array([ 0.0244787 ,  0.45060575,  0.21545194,  0.08725035, -0.0663842 ,\n",
       "        -0.17125235,  0.30085862, -0.03992376, -0.02685803, -0.20642394,\n",
       "        -0.22289711,  0.04599299,  0.5854381 ,  0.15683614,  0.7780403 ,\n",
       "         0.20030494, -0.0135708 , -0.05385827,  0.16087049, -0.25926757,\n",
       "         0.07685538, -0.30649355,  0.21688212,  0.17900512,  0.34390825,\n",
       "         0.32760277,  0.38898262, -0.3748844 , -0.37333083,  0.3321712 ,\n",
       "         0.26930133,  0.3861711 , -0.190865  , -0.03583952,  0.36798248,\n",
       "         0.10325884,  0.08883139, -0.04709036, -0.25367403,  0.21458316,\n",
       "        -0.22833607,  0.06165179, -0.59015125, -0.56063503,  0.14109483,\n",
       "         0.5084764 ,  0.32894275, -0.41631794, -0.55849767, -0.39838618,\n",
       "         0.33205175, -0.03411574, -0.39568678,  0.76188356,  0.25457245,\n",
       "        -1.2130619 , -0.38289624,  0.04666317,  1.0840557 ,  0.3267334 ,\n",
       "         0.14599977,  0.7878777 ,  0.2754268 ,  0.10190901,  0.8621784 ,\n",
       "         0.50715494, -0.26623172, -0.40160728,  0.75428325, -0.11930484,\n",
       "        -0.21796276, -0.09686376, -0.20609672,  0.11719934,  0.46681663,\n",
       "        -0.1630731 ,  0.128968  ,  0.1253732 , -0.76050234, -0.24917358,\n",
       "         0.49626794,  0.18793575, -0.40448993,  0.19423634, -1.5916134 ,\n",
       "         0.21957467,  0.3508949 , -0.2007424 , -0.71220845,  0.17297792,\n",
       "         0.23830995, -0.44013762,  0.39962164, -0.00359129, -0.21240231,\n",
       "         0.08872566, -0.5019332 , -0.81800145,  1.121821  , -0.5672221 ],\n",
       "       dtype=float32),\n",
       " array([-1.30734146e-01,  1.20368712e-01,  1.49134081e-02,  1.99239448e-01,\n",
       "        -1.22835889e-01, -2.19999969e-01, -8.00025277e-03, -1.85439825e-01,\n",
       "         3.03736944e-02, -7.59887546e-02, -3.67451668e-01, -2.20571145e-01,\n",
       "         1.97218329e-01, -1.85678259e-01,  3.13610762e-01,  2.83939511e-01,\n",
       "         1.76717654e-01,  2.75579542e-01,  1.06511690e-01,  6.47406355e-02,\n",
       "        -2.90418774e-01, -4.96034205e-01,  1.65331081e-01, -1.50754765e-01,\n",
       "         1.24787271e-01, -7.16372728e-02,  2.07353756e-01, -2.25225598e-01,\n",
       "        -3.55815530e-01,  4.72338460e-02, -1.47104084e-01,  3.52980703e-01,\n",
       "        -2.35059351e-01,  1.05784521e-01,  3.93178344e-01, -3.90907377e-01,\n",
       "         7.00654986e-04, -1.00782014e-01, -2.35549301e-01, -1.33081228e-01,\n",
       "        -6.53756917e-01, -1.94629375e-02, -6.11387312e-01, -1.34385705e-01,\n",
       "        -3.73903550e-02,  3.02345663e-01, -8.08980167e-02, -3.77840668e-01,\n",
       "        -5.47383964e-01, -2.30852380e-01,  3.16865623e-01,  7.27444068e-02,\n",
       "        -1.12581789e-01,  7.27967680e-01,  2.98653811e-01, -1.33155715e+00,\n",
       "        -1.33868396e-01, -4.21983451e-01,  9.84699309e-01,  2.55505610e-02,\n",
       "        -6.52087331e-02,  8.16745222e-01, -1.74764395e-01, -3.69678810e-02,\n",
       "         8.40923548e-01,  3.42338085e-01, -2.23367080e-01, -9.69591364e-02,\n",
       "         5.34216940e-01, -5.27390279e-02, -2.95860581e-02,  9.46169123e-02,\n",
       "         8.27771500e-02, -1.18657714e-02, -3.50572430e-02, -3.36121857e-01,\n",
       "        -2.08038107e-01, -8.98391381e-02, -4.60783631e-01, -8.53959620e-02,\n",
       "         3.86609137e-01, -2.09984735e-01, -2.96156853e-01,  2.06224155e-02,\n",
       "        -1.42845523e+00,  9.49026123e-02,  5.07414579e-01, -1.53599545e-01,\n",
       "        -4.08696920e-01, -1.35829881e-01,  9.65885445e-02,  9.92016718e-02,\n",
       "         9.97605249e-02, -9.26565379e-02,  4.51406017e-02,  1.92614526e-01,\n",
       "        -2.02337742e-01, -6.60602927e-01,  4.49538827e-01,  1.03069738e-01],\n",
       "       dtype=float32)]"
      ]
     },
     "execution_count": 121,
     "metadata": {},
     "output_type": "execute_result"
    }
   ],
   "source": [
    "question_vectors[:10]"
   ]
  },
  {
   "cell_type": "markdown",
   "metadata": {},
   "source": [
    "Print out the top n most similar sentences with given question sentences (starting from 1)"
   ]
  },
  {
   "cell_type": "code",
   "execution_count": 122,
   "metadata": {
    "ExecuteTime": {
     "end_time": "2020-04-25T18:14:09.719919Z",
     "start_time": "2020-04-25T18:14:09.695922Z"
    }
   },
   "outputs": [],
   "source": [
    "def top_n_similar_sentences_glove_cosine(n_question, n=10):\n",
    "    print(f\"QUESTION #{n_question}: {questions[n_question-1]}\\n\\n\")\n",
    "    top_n_similar_sentences = []\n",
    "    top_n_sim = sim_mat_df.loc[:,(n_question-1)].nlargest(n)\n",
    "    for idx in top_n_sim.index:\n",
    "        top_n_similar_sentences.append(sentences[idx])\n",
    "    return(top_n_similar_sentences)"
   ]
  },
  {
   "cell_type": "markdown",
   "metadata": {},
   "source": [
    "## Glove-Cosine after LDA selected articles"
   ]
  },
  {
   "cell_type": "markdown",
   "metadata": {},
   "source": [
    "### Get \"Nearest\" Papers (in Topic Space)"
   ]
  },
  {
   "cell_type": "code",
   "execution_count": 123,
   "metadata": {
    "ExecuteTime": {
     "end_time": "2020-04-25T18:14:36.641640Z",
     "start_time": "2020-04-25T18:14:36.615640Z"
    }
   },
   "outputs": [],
   "source": [
    "#########################################################################################################################\n",
    "#\n",
    "#    Title: Topic Modeling: Finding Related Articles\n",
    "#    Author: Daniel Wolffram\n",
    "#    Date: 2020\n",
    "#    Code version: 10\n",
    "#    Availability: https://www.kaggle.com/danielwolffram/topic-modeling-finding-related-articles?scriptVersionId=30463507\n",
    "# \n",
    "#########################################################################################################################\n",
    "def get_k_nearest_docs(doc_dist, k=5, lower=1950, upper=2020, only_covid19=False):\n",
    "    '''\n",
    "    doc_dist: topic distribution (sums to 1) of one article\n",
    "    \n",
    "    Returns the index of the k nearest articles (as by Jensen–Shannon divergence in topic space). \n",
    "    '''\n",
    "    \n",
    "    relevant_time = all_data.publish_year.between(lower, upper)\n",
    "    \n",
    "    if only_covid19:\n",
    "        is_covid19_article = all_data.text_body.str.contains('COVID-19|SARS-CoV-2|2019-nCov')\n",
    "        topic_dist_temp = topic_dist[relevant_time & is_covid19_article]\n",
    "        \n",
    "    else:\n",
    "        topic_dist_temp = topic_dist[relevant_time]\n",
    "         \n",
    "    distances = topic_dist_temp.apply(lambda x: jensenshannon(x, doc_dist), axis=1)\n",
    "    k_nearest = distances[distances != 0].nsmallest(n=k).index\n",
    "        \n",
    "    return k_nearest"
   ]
  },
  {
   "cell_type": "code",
   "execution_count": 124,
   "metadata": {
    "ExecuteTime": {
     "end_time": "2020-04-25T18:14:38.241118Z",
     "start_time": "2020-04-25T18:14:38.227118Z"
    }
   },
   "outputs": [],
   "source": [
    "#########################################################################################################################\n",
    "#\n",
    "#    Title: Topic Modeling: Finding Related Articles\n",
    "#    Author: Daniel Wolffram\n",
    "#    Date: 2020\n",
    "#    Code version: 10\n",
    "#    Availability: https://www.kaggle.com/danielwolffram/topic-modeling-finding-related-articles?scriptVersionId=30463507\n",
    "# \n",
    "#########################################################################################################################\n",
    "def relevant_articles_doc_id(tasks, k=3, lower=1950, upper=2020, only_covid19=False):\n",
    "    tasks = [tasks] if type(tasks) is str else tasks \n",
    "    \n",
    "    tasks_tf = tf_vectorizer.transform(tasks)\n",
    "    tasks_topic_dist = pd.DataFrame(lda_tf.transform(tasks_tf))\n",
    "\n",
    "    for index, bullet in enumerate(tasks):\n",
    "\n",
    "        recommended = get_k_nearest_docs(tasks_topic_dist.iloc[index], k, lower, upper, only_covid19)\n",
    "        recommended = pd.DataFrame(all_data.iloc[recommended])\n",
    "        recommended_doc_id = recommended.doc_id\n",
    "    return recommended_doc_id"
   ]
  },
  {
   "cell_type": "code",
   "execution_count": 125,
   "metadata": {
    "ExecuteTime": {
     "end_time": "2020-04-25T18:14:39.259006Z",
     "start_time": "2020-04-25T18:14:39.216002Z"
    }
   },
   "outputs": [],
   "source": [
    "stop_words = stopwords.words('english')\n",
    "stop_words.extend(['background', 'methods', 'introduction', 'conclusions', 'results', \n",
    "               'purpose', 'materials', 'discussions','methodology','result analysis'])\n",
    "\n",
    "def remove_stopwords(sen):\n",
    "    sen_new = \" \".join([i for i in sen if i not in stop_words])\n",
    "    return sen_new\n",
    "\n",
    "def fun_clean_sentences(sentences):\n",
    "\n",
    "    clean_sentences = pd.Series(sentences).str.replace(\"[^a-zA-Z]\", \" \")\n",
    "\n",
    "    clean_sentences = [s.lower() for s in clean_sentences]\n",
    "\n",
    "    clean_sentences = [remove_stopwords(r.split()) for r in clean_sentences]\n",
    "    return clean_sentences\n",
    "    "
   ]
  },
  {
   "cell_type": "code",
   "execution_count": 126,
   "metadata": {
    "ExecuteTime": {
     "end_time": "2020-04-25T18:14:40.266454Z",
     "start_time": "2020-04-25T18:14:40.255449Z"
    }
   },
   "outputs": [],
   "source": [
    "def top_n_similar_sentences(n_question, sentence_df, n=10):\n",
    "    print(f\"QUESTION #{n_question}: {task1[n_question-1]}\\n\\n\")\n",
    "    top_n_similar_sentences = []\n",
    "    for i in range(len(sentence_df)):\n",
    "        sentence_df['sim_score'][i] = sentence_df['sim_score'][i][0][0]\n",
    "    top_n_similar_sentences = sentence_df.sort_values(by=['sim_score'], ascending=False).iloc[0:n,]\n",
    "    return(top_n_similar_sentences)"
   ]
  },
  {
   "cell_type": "code",
   "execution_count": 127,
   "metadata": {
    "ExecuteTime": {
     "end_time": "2020-04-25T18:14:41.153680Z",
     "start_time": "2020-04-25T18:14:41.146677Z"
    }
   },
   "outputs": [],
   "source": [
    "#########################################################################################################################\n",
    "#\n",
    "#    Title: An Introduction to Text Summarization using the TextRank Algorithm (with Python implementation)\n",
    "#    Author: Prateek Joshi\n",
    "#    Date: 2018\n",
    "#    Code version: 1\n",
    "#    Availability: https://www.analyticsvidhya.com/blog/2018/11/introduction-text-summarization-textrank-python/\n",
    "#########################################################################################################################\n",
    "\n",
    "def glove_vectorizer(clean_sentences):\n",
    "    sentence_vectors = []\n",
    "    for i in clean_sentences:\n",
    "        if len(i) != 0:\n",
    "            v = sum([word_embeddings.get(w, np.zeros((100,))) for w in i.split()])/(len(i.split())+0.001)\n",
    "        else:\n",
    "            v = np.zeros((100,))\n",
    "        sentence_vectors.append(v)\n",
    "    return sentence_vectors"
   ]
  },
  {
   "cell_type": "code",
   "execution_count": 128,
   "metadata": {
    "ExecuteTime": {
     "end_time": "2020-04-25T18:14:41.964679Z",
     "start_time": "2020-04-25T18:14:41.955677Z"
    }
   },
   "outputs": [],
   "source": [
    "def get_recommanded_articles(question_no, top_n_articles, lower=1950, upper=2020, only_covid19=True):\n",
    "    recommanded_articles = pd.DataFrame(columns=all_data.columns)\n",
    "    recommended_doc_id = relevant_articles_doc_id(tasks=task1[question_no-1], k=top_n_articles, lower=lower, upper=upper, only_covid19=only_covid19)    \n",
    "    recommended_doc_id = list(recommended_doc_id)\n",
    "    for i in range(len(recommended_doc_id)):\n",
    "        recommanded_articles = recommanded_articles.append(all_data[all_data.doc_id == recommended_doc_id[i]])[['doc_id', 'title', 'text_body', 'doi']]\n",
    "    return recommanded_articles"
   ]
  },
  {
   "cell_type": "code",
   "execution_count": 129,
   "metadata": {
    "ExecuteTime": {
     "end_time": "2020-04-25T18:14:43.074162Z",
     "start_time": "2020-04-25T18:14:43.067194Z"
    }
   },
   "outputs": [],
   "source": [
    "def sent_tokenizer(text):\n",
    "    sentences = []\n",
    "    for s in text:\n",
    "        sentences.append(sent_tokenize(s))\n",
    "    sentences = [y for x in sentences for y in x]\n",
    "    return sentences"
   ]
  },
  {
   "cell_type": "code",
   "execution_count": 130,
   "metadata": {
    "ExecuteTime": {
     "end_time": "2020-04-25T18:14:44.404168Z",
     "start_time": "2020-04-25T18:14:44.389162Z"
    }
   },
   "outputs": [],
   "source": [
    "def top_n_similar_sentences_LDA_glove_cosine(question_no, top_n_articles, top_n_sentences, only_covid19=True):\n",
    "    recommanded_articles = get_recommanded_articles(question_no, top_n_articles, only_covid19=only_covid19)\n",
    "    sentence_df = pd.DataFrame(columns = ['doc_id','title','sentences','clean_sentences', 'sentence_vectors', 'sim_score'])\n",
    "    for i in range(len(recommanded_articles)):\n",
    "        article_df = pd.DataFrame(columns = ['doc_id','title','sentences'])    \n",
    "        sentences = sent_tokenize(recommanded_articles.iloc[i].text_body)\n",
    "        article_df['sentences'] = sentences\n",
    "        article_df['doc_id'] = recommanded_articles.iloc[i].doc_id\n",
    "        article_df['title'] = recommanded_articles.iloc[i].title\n",
    "        article_df['doi'] = recommanded_articles.iloc[i].doi\n",
    "        sentence_df = sentence_df.append(article_df, ignore_index=True)\n",
    "    clean_questions = fun_clean_sentences(questions[question_no-1])\n",
    "    question_vectors = glove_vectorizer(clean_questions)\n",
    "    for i in range(len(sentence_df)):\n",
    "        sentence_df.loc[i,'clean_sentences'] = fun_clean_sentences(sentence_df.iloc[i].sentences)\n",
    "        sentence_df.loc[i,'sentence_vectors'] = glove_vectorizer(sentence_df.iloc[i].clean_sentences)\n",
    "        sentence_df.loc[i,'sim_score'] = cosine_similarity(sentence_df.iloc[i].sentence_vectors, question_vectors)\n",
    "    similar_sentences = top_n_similar_sentences(question_no, sentence_df, top_n_sentences)\n",
    "    for i in range(len(similar_sentences)):\n",
    "        l,n = similar_sentences.iloc[i][['doi','title']].values\n",
    "        if n !=n:\n",
    "            n = 'no title'\n",
    "            h = '<a href=\"' + l + '\" target=\"_blank\">'+ n + '</a>'\n",
    "        else:\n",
    "            h = '<a href=\"' + l + '\" target=\"_blank\">'+ n + '</a>'\n",
    "        print(similar_sentences.iloc[i].sentences)\n",
    "        display(HTML(h))"
   ]
  },
  {
   "cell_type": "markdown",
   "metadata": {},
   "source": [
    "## Comparations of results of two approches"
   ]
  },
  {
   "cell_type": "markdown",
   "metadata": {},
   "source": [
    "Question 1: "
   ]
  },
  {
   "cell_type": "code",
   "execution_count": 131,
   "metadata": {
    "ExecuteTime": {
     "end_time": "2020-04-25T18:14:50.811014Z",
     "start_time": "2020-04-25T18:14:50.525014Z"
    }
   },
   "outputs": [
    {
     "name": "stdout",
     "output_type": "stream",
     "text": [
      "QUESTION #1: Range of incubation periods for the disease in humans (and how this varies across age and health status) and how long individuals are contagious, even after recovery. days, years, time, period, childern, kid, young, senior, adults, old, COVID-19, 2019-nCov, 'coronavirus', 'cov-2', 'sars-cov-2', 'sars-cov, hcov, 2019-ncov\n",
      "\n",
      "\n"
     ]
    },
    {
     "data": {
      "text/plain": [
       "['Depending on how much time has passed since exposure to the primary infected individual, those infected may not yet be symptomatic -this period of time between infection and symptoms is an important epidemiological trait of an infectious disease called the incubation period.',\n",
       " 'It is known that people infected with hepatitis A virus experience an incubation period of 28 days ranging 15-50 days to become ill [16, 24] .',\n",
       " 'In microbiological terms, the book describes the emergence and spread of a pandemic whose infection and mortality rates are 100%, with an incubation period of a few days, whose symptoms make those infected extremely dangerous to society, and for which there is no treatment.',\n",
       " 'Of the 154 SARS patients who satisfied the WHO definition for SARS, their age range was 20-80 years (mean 41.5 years).',\n",
       " 'If we assume a particular infectious pathogen has a contact rate, = 0.75, with an incubation period of two days, = 0.5, and an infectious period of five days, = 0.2 (similar properties to a highly contagious flu virus), the solution to the SEIR model shows that nearly the entire population will contract the disease over the course of a month.',\n",
       " 'The median incubation period for SARS appears to be approximately 4-6 days; most patients become ill within 2 to 10 days after exposure (8, 12, 17, 18) .',\n",
       " 'A proportion of them come into contact with infectious individuals and become infected, and this process persists for a long period of time.',\n",
       " 'In addition, the asymptomatic incubation period for individuals infected with 2019-nCov was estimated to range from 1 to 14 days (most likely 3e10 days), longer than that of SARS-CoV.',\n",
       " 'The incubation period was determined to be 7 days in January, and it was recently estimated to be 3 days, which means that 2019-nCoV infected people become more likely to develop symptoms.',\n",
       " 'Different from SARS, however, the new 13 COVID-19 seems to have longer incubation period and thus is more contagious [11] .',\n",
       " 'Even SARS-CoV infection, which had a dramatic effect on adults, was mainly associated with relatively mild disease in almost all patients <12 years of age (28, 34) .',\n",
       " 'Most of the sheep suffering from Ovine progressive pneumonia (OPP) do not show the clinical signs until the age of 2 years due to the long incubation period of the virus.',\n",
       " 'The last 2 incubation stages are regarded as early infectious period during which patients may already spread the infection.',\n",
       " 'We excluded individuals accompanying sick family members and those who had a history of fever within the past seven days to minimize the possibility of infectious diseases in the incubation period.',\n",
       " 'Since the mean generation time is smaller than the mean incubation period, on average, a patient may become infectious 3.9 days before showing major symptoms.',\n",
       " 'The results of this study indicate that, in Sweden, a highly contagious disease might have spread over a larger area in the time span of one incubation period.',\n",
       " 'During this incubation period, patients are contagious, and it has been reported that each case infected on average 3.77 other people (uncertainty range 2.23-4.82) [36] .',\n",
       " 'During this incubation period, patients are contagious, and it has been reported that each case infected on average 3.77 other people (uncertainty range 2.23-4.82) [36] .',\n",
       " '19 females (mean age 46.29 +/-11.02y., BMI = 28.26 +/-6.88) and 3 males, (all except one being health care workers) were assessed about 19.8 months after onset of the acute SARS illness (range: 13 to 36 months) with hospitalization and/or quarantine for SARS.',\n",
       " 'For example, influenza is known to have a short latent period of less than 2 days before becoming infectious [17] , followed by a pre-symptomatic infection during which disease can be transmitted without showing clinical symptoms; however, the latent period of SARS is estimated to be longer and may be comparable to the duration of a complete course of influenza infection [17] .',\n",
       " 'The incubation period was defined as the time from exposure to the onset of illness, which was estimated among patients who could provide the exact date of close contact with individuals from Wuhan with confirmed or suspected SARS-Cov-2 infection.',\n",
       " 'The mean age of all SARS patients in Singapore was 35 years (range 1.3-90 years), and 32.4% were male.',\n",
       " '8 The average duration (3.8 days) and pattern (with time of epidemic and age) of onset of symptoms to hospital admission of SARS patients in mainland China were comparable to other affected areas.',\n",
       " 'For the susceptible-exposed-infected-recovered (SEIR) model, the mean incubation period was set to 0.9 days, and the average time an individual remained infectious was set to 1.8 days.',\n",
       " 'Individuals become symptomatic after an average incubation period of 10 days (range 2-21 days) [12] , and infectiousness is increased during the later stages of disease [13] .',\n",
       " 'We aim to recruit at least 2500 participants ≥1 year old presenting with influenza-like illness (ILI), with symptom duration ≤72 hours in primary care over three consecutive periods of confirmed high influenza incidence.',\n",
       " 'We aim to recruit at least 2500 participants ≥1 year old presenting with influenza-like illness (ILI), with symptom duration ≤72 hours in primary care over three consecutive periods of confirmed high influenza incidence.',\n",
       " 'Usually, COVID-19 has an incubation period of 2-7 days 2 with no obvious 41 symptoms, during which time the virus can spread from infected to uninfected individuals.',\n",
       " 'In such a scenario it is not surprising that entry screening would add little benefit, since most journeys are shorter than the average 1.5-2 day incubation period for influenza A virus infections [5, 13] .',\n",
       " 'The results of this study indicate that in Sweden a highly contagious disease might spread over a large area in the time span of one incubation period.']"
      ]
     },
     "execution_count": 131,
     "metadata": {},
     "output_type": "execute_result"
    }
   ],
   "source": [
    "top_n_similar_sentences_glove_cosine(1,30)"
   ]
  },
  {
   "cell_type": "code",
   "execution_count": 162,
   "metadata": {
    "ExecuteTime": {
     "end_time": "2020-04-25T19:45:28.747959Z",
     "start_time": "2020-04-25T19:45:24.607966Z"
    }
   },
   "outputs": [
    {
     "name": "stdout",
     "output_type": "stream",
     "text": [
      "QUESTION #1: Range of incubation periods for the disease in humans (and how this varies across age and health status) and how long individuals are contagious, even after recovery.\n",
      "\n",
      "\n",
      "A detailed analysis of one of the early COVID-19 clusters by Chan and colleagues 19 revealed symptomatic infections in five adult members of the same household, while a child in the same household aged 10 years was infected but remained asymptomatic, potentially indicating biological differences in the risk of clinical disease driven by age.\n"
     ]
    },
    {
     "data": {
      "text/html": [
       "<a href=\"http://doi.org/10.1016/S2589-7500(20)30026-1\" target=\"_blank\">Early epidemiological analysis of the coronavirus disease 2019 outbreak based on crowdsourced data: a population- level observational study</a>"
      ],
      "text/plain": [
       "<IPython.core.display.HTML object>"
      ]
     },
     "metadata": {},
     "output_type": "display_data"
    },
    {
     "name": "stdout",
     "output_type": "stream",
     "text": [
      "In any case, if the age distribution of cases reported here was to be confirmed and the epidemic were to progress globally, we would expect an increase in respiratory mortality concentrated among people aged 30 years and older.\n"
     ]
    },
    {
     "data": {
      "text/html": [
       "<a href=\"http://doi.org/10.1016/S2589-7500(20)30026-1\" target=\"_blank\">Early epidemiological analysis of the coronavirus disease 2019 outbreak based on crowdsourced data: a population- level observational study</a>"
      ],
      "text/plain": [
       "<IPython.core.display.HTML object>"
      ]
     },
     "metadata": {},
     "output_type": "display_data"
    },
    {
     "name": "stdout",
     "output_type": "stream",
     "text": [
      "Adjustment for the age demographics of China confirmed a deficit of infections among children, with a RR below 0·5 in patients younger than 15 years (figure 1).\n"
     ]
    },
    {
     "data": {
      "text/html": [
       "<a href=\"http://doi.org/10.1016/S2589-7500(20)30026-1\" target=\"_blank\">Early epidemiological analysis of the coronavirus disease 2019 outbreak based on crowdsourced data: a population- level observational study</a>"
      ],
      "text/plain": [
       "<IPython.core.display.HTML object>"
      ]
     },
     "metadata": {},
     "output_type": "display_data"
    },
    {
     "name": "stdout",
     "output_type": "stream",
     "text": [
      "If the current intervention continues, the number of infected individuals is expected to peak in early March 2020 (80 days since initiation) with a peak population size of 827 (421-1232) infectious individuals in China.\n"
     ]
    },
    {
     "data": {
      "text/html": [
       "<a href=\"http://doi.org/10.1101/2020.01.23.916726\" target=\"_blank\">Modelling the epidemic trend of the 2019 novel coronavirus outbreak in China</a>"
      ],
      "text/plain": [
       "<IPython.core.display.HTML object>"
      ]
     },
     "metadata": {},
     "output_type": "display_data"
    },
    {
     "name": "stdout",
     "output_type": "stream",
     "text": [
      "Even in the period after Jan 18, 2020, when awareness of the outbreak increased, a shorter delay between symptom onset and seeking care at a hospital or clinic was seen for international patients than for those in mainland China (Wilcoxon test p<0·0001).\n"
     ]
    },
    {
     "data": {
      "text/html": [
       "<a href=\"http://doi.org/10.1016/S2589-7500(20)30026-1\" target=\"_blank\">Early epidemiological analysis of the coronavirus disease 2019 outbreak based on crowdsourced data: a population- level observational study</a>"
      ],
      "text/plain": [
       "<IPython.core.display.HTML object>"
      ]
     },
     "metadata": {},
     "output_type": "display_data"
    },
    {
     "name": "stdout",
     "output_type": "stream",
     "text": [
      "A key area of uncertainty is whether, and for how long, individuals are infectious before symptom onset, and whether subclinical infection occurs; both are likely to make the outbreak harder to control.\n"
     ]
    },
    {
     "data": {
      "text/html": [
       "<a href=\"http://doi.org/10.1016/S2214-109X(20)30074-7\" target=\"_blank\">Feasibility of controlling COVID-19 outbreaks by isolation of cases and contacts</a>"
      ],
      "text/plain": [
       "<IPython.core.display.HTML object>"
      ]
     },
     "metadata": {},
     "output_type": "display_data"
    },
    {
     "name": "stdout",
     "output_type": "stream",
     "text": [
      "Patient-level information is important to estimate key time-to-delay events (such as the incubation period and interval between symptom onset and visit to a hospital), analyse the age profile of infected patients, reconstruct epidemic curves by onset dates, and infer transmission parameters.\n"
     ]
    },
    {
     "data": {
      "text/html": [
       "<a href=\"http://doi.org/10.1016/S2589-7500(20)30026-1\" target=\"_blank\">Early epidemiological analysis of the coronavirus disease 2019 outbreak based on crowdsourced data: a population- level observational study</a>"
      ],
      "text/plain": [
       "<IPython.core.display.HTML object>"
      ]
     },
     "metadata": {},
     "output_type": "display_data"
    },
    {
     "name": "stdout",
     "output_type": "stream",
     "text": [
      "Across the study period, the median delay between symptom onset and seeking care at a hospital or clinic was 2 days (IQR 0-5 days) in mainland China ( figure 4 ).\n"
     ]
    },
    {
     "data": {
      "text/html": [
       "<a href=\"http://doi.org/10.1016/S2589-7500(20)30026-1\" target=\"_blank\">Early epidemiological analysis of the coronavirus disease 2019 outbreak based on crowdsourced data: a population- level observational study</a>"
      ],
      "text/plain": [
       "<IPython.core.display.HTML object>"
      ]
     },
     "metadata": {},
     "output_type": "display_data"
    },
    {
     "name": "stdout",
     "output_type": "stream",
     "text": [
      "A series of epidemiological criteria were required for COVID-19 testing, including travel history to Wuhan within the past 2 weeks; residence in Wuhan within the past 2 weeks; contact with individuals from Wuhan (with fever and respiratory symptoms) within the past 2 weeks; and being part of an established disease cluster.\n"
     ]
    },
    {
     "data": {
      "text/html": [
       "<a href=\"http://doi.org/10.1016/S2589-7500(20)30026-1\" target=\"_blank\">Early epidemiological analysis of the coronavirus disease 2019 outbreak based on crowdsourced data: a population- level observational study</a>"
      ],
      "text/plain": [
       "<IPython.core.display.HTML object>"
      ]
     },
     "metadata": {},
     "output_type": "display_data"
    },
    {
     "name": "stdout",
     "output_type": "stream",
     "text": [
      "Nevertheless, we would also expect children younger than 5 years to be at risk of severe outcomes and to be reported to the healthcare system, as is seen for other respiratory infections.\n"
     ]
    },
    {
     "data": {
      "text/html": [
       "<a href=\"http://doi.org/10.1016/S2589-7500(20)30026-1\" target=\"_blank\">Early epidemiological analysis of the coronavirus disease 2019 outbreak based on crowdsourced data: a population- level observational study</a>"
      ],
      "text/plain": [
       "<IPython.core.display.HTML object>"
      ]
     },
     "metadata": {},
     "output_type": "display_data"
    },
    {
     "name": "stdout",
     "output_type": "stream",
     "text": [
      "This mortality pattern would be substantially different from the profile of the 2009 influenza pandemic, for which excess mortality was concentrated in those younger than 65 years.\n"
     ]
    },
    {
     "data": {
      "text/html": [
       "<a href=\"http://doi.org/10.1016/S2589-7500(20)30026-1\" target=\"_blank\">Early epidemiological analysis of the coronavirus disease 2019 outbreak based on crowdsourced data: a population- level observational study</a>"
      ],
      "text/plain": [
       "<IPython.core.display.HTML object>"
      ]
     },
     "metadata": {},
     "output_type": "display_data"
    },
    {
     "name": "stdout",
     "output_type": "stream",
     "text": [
      "This sampling approach ensured that the serial interval and incubation period for each case was correlated, and prevented biologically implausible scenarios where a case could develop symptoms soon after exposure, but not become infectious until very late after exposure and vice versa.\n"
     ]
    },
    {
     "data": {
      "text/html": [
       "<a href=\"http://doi.org/10.1016/S2214-109X(20)30074-7\" target=\"_blank\">Feasibility of controlling COVID-19 outbreaks by isolation of cases and contacts</a>"
      ],
      "text/plain": [
       "<IPython.core.display.HTML object>"
      ]
     },
     "metadata": {},
     "output_type": "display_data"
    },
    {
     "name": "stdout",
     "output_type": "stream",
     "text": [
      "Secondary cases were only created if the person with the infection had not been isolated by the time of infection.\n"
     ]
    },
    {
     "data": {
      "text/html": [
       "<a href=\"http://doi.org/10.1016/S2214-109X(20)30074-7\" target=\"_blank\">Feasibility of controlling COVID-19 outbreaks by isolation of cases and contacts</a>"
      ],
      "text/plain": [
       "<IPython.core.display.HTML object>"
      ]
     },
     "metadata": {},
     "output_type": "display_data"
    },
    {
     "name": "stdout",
     "output_type": "stream",
     "text": [
      "However, we acknowledge that in the early phase of the epidemic, the death cases are likely under-reported as many infected cases have not progressed to the critical stage.\n"
     ]
    },
    {
     "data": {
      "text/html": [
       "<a href=\"http://doi.org/10.1101/2020.01.23.916726\" target=\"_blank\">Modelling the epidemic trend of the 2019 novel coronavirus outbreak in China</a>"
      ],
      "text/plain": [
       "<IPython.core.display.HTML object>"
      ]
     },
     "metadata": {},
     "output_type": "display_data"
    },
    {
     "name": "stdout",
     "output_type": "stream",
     "text": [
      "cough, lethargy, myalgia) infected individuals was identified early in the course of this outbreak, with human-to-human transmission detected in international case series [7] .\n"
     ]
    },
    {
     "data": {
      "text/html": [
       "<a href=\"http://doi.org/10.1017/S0950268820000424\" target=\"_blank\">Epidemiology and Infection Passengers' destinations from China: low risk of Novel Coronavirus (2019-nCoV) transmission into Africa and South America</a>"
      ],
      "text/plain": [
       "<IPython.core.display.HTML object>"
      ]
     },
     "metadata": {},
     "output_type": "display_data"
    },
    {
     "name": "stdout",
     "output_type": "stream",
     "text": [
      "For SARS in Hong Kong, the average time from illness to death for fatal cases was 24 days [26] .\n"
     ]
    },
    {
     "data": {
      "text/html": [
       "<a href=\"http://dx.doi.org/10.2807/1560-7917.ES.2020.25.3.2000044\" target=\"_blank\">no title</a>"
      ],
      "text/plain": [
       "<IPython.core.display.HTML object>"
      ]
     },
     "metadata": {},
     "output_type": "display_data"
    },
    {
     "name": "stdout",
     "output_type": "stream",
     "text": [
      "23\n",
      " Outbreak control was defined as no new infections between 12 and 16 weeks after the initial cases.\n"
     ]
    },
    {
     "data": {
      "text/html": [
       "<a href=\"http://doi.org/10.1016/S2214-109X(20)30074-7\" target=\"_blank\">Feasibility of controlling COVID-19 outbreaks by isolation of cases and contacts</a>"
      ],
      "text/plain": [
       "<IPython.core.display.HTML object>"
      ]
     },
     "metadata": {},
     "output_type": "display_data"
    },
    {
     "name": "stdout",
     "output_type": "stream",
     "text": [
      "Increased awareness of prodromal symptoms, and therefore short delays until isolation-as seen in the SARS outbreak in Beijing in 2003 35 -would increase control of outbreaks in our model.\n"
     ]
    },
    {
     "data": {
      "text/html": [
       "<a href=\"http://doi.org/10.1016/S2214-109X(20)30074-7\" target=\"_blank\">Feasibility of controlling COVID-19 outbreaks by isolation of cases and contacts</a>"
      ],
      "text/plain": [
       "<IPython.core.display.HTML object>"
      ]
     },
     "metadata": {},
     "output_type": "display_data"
    },
    {
     "name": "stdout",
     "output_type": "stream",
     "text": [
      "Our line list comprised 507 patients reported from Jan 13, to Jan 31, 2020, including 364 (72%) from mainland China and 143 (28%) from outside of China (table) The age distribution of COVID-19 cases was skewed towards older age groups with a median age of 45 years (IQR 33-56) for patients who were alive or who had an unknown outcome at the time of reporting (figure 1).\n"
     ]
    },
    {
     "data": {
      "text/html": [
       "<a href=\"http://doi.org/10.1016/S2589-7500(20)30026-1\" target=\"_blank\">Early epidemiological analysis of the coronavirus disease 2019 outbreak based on crowdsourced data: a population- level observational study</a>"
      ],
      "text/plain": [
       "<IPython.core.display.HTML object>"
      ]
     },
     "metadata": {},
     "output_type": "display_data"
    },
    {
     "name": "stdout",
     "output_type": "stream",
     "text": [
      "Although the data so far suggest that the disease is mild in most cases and that the case fatality rate is currently reported to be lower than SARS or MERS, the situation is likely to go on for months and could cause severe disruption in countries that are not well prepared.\n"
     ]
    },
    {
     "data": {
      "text/html": [
       "<a href=\"http://doi.org/10.1017/S0950268820000424\" target=\"_blank\">Epidemiology and Infection Passengers' destinations from China: low risk of Novel Coronavirus (2019-nCoV) transmission into Africa and South America</a>"
      ],
      "text/plain": [
       "<IPython.core.display.HTML object>"
      ]
     },
     "metadata": {},
     "output_type": "display_data"
    },
    {
     "name": "stdout",
     "output_type": "stream",
     "text": [
      "Given that the cases reported outside Wuhan have mostly not been severe, it would be reasonable to infer that there might be a large number of undetected relatively mild infections in Wuhan and that the infection fatality risk is below 1% or even below 0.1%.\n"
     ]
    },
    {
     "data": {
      "text/html": [
       "<a href=\"http://dx.doi.org/10.2807/1560-7917.ES.2020.25.3.2000044\" target=\"_blank\">no title</a>"
      ],
      "text/plain": [
       "<IPython.core.display.HTML object>"
      ]
     },
     "metadata": {},
     "output_type": "display_data"
    },
    {
     "name": "stdout",
     "output_type": "stream",
     "text": [
      "Effective contact tracing and isolation could contribute to reducing the overall size of an outbreak or bringing it under control over a longer time period.\n"
     ]
    },
    {
     "data": {
      "text/html": [
       "<a href=\"http://doi.org/10.1016/S2214-109X(20)30074-7\" target=\"_blank\">Feasibility of controlling COVID-19 outbreaks by isolation of cases and contacts</a>"
      ],
      "text/plain": [
       "<IPython.core.display.HTML object>"
      ]
     },
     "metadata": {},
     "output_type": "display_data"
    },
    {
     "name": "stdout",
     "output_type": "stream",
     "text": [
      "Based on this definition, we reported the probability that an outbreak of a severe acute respiratory syndrome coronavirus 2-like pathogen would be controlled within 12 weeks for each scenario, assuming that the basic reproduction number remained constant and no other interventions were implemented.\n"
     ]
    },
    {
     "data": {
      "text/html": [
       "<a href=\"http://doi.org/10.1016/S2214-109X(20)30074-7\" target=\"_blank\">Feasibility of controlling COVID-19 outbreaks by isolation of cases and contacts</a>"
      ],
      "text/plain": [
       "<IPython.core.display.HTML object>"
      ]
     },
     "metadata": {},
     "output_type": "display_data"
    },
    {
     "name": "stdout",
     "output_type": "stream",
     "text": [
      "While the overall severity profile among cases may change as more mild cases are identified, we estimate a risk of fatality among hospitalised cases at 14% (95% confidence interval: 3.9-32%).\n"
     ]
    },
    {
     "data": {
      "text/html": [
       "<a href=\"http://dx.doi.org/10.2807/1560-7917.ES.2020.25.3.2000044\" target=\"_blank\">no title</a>"
      ],
      "text/plain": [
       "<IPython.core.display.HTML object>"
      ]
     },
     "metadata": {},
     "output_type": "display_data"
    },
    {
     "name": "stdout",
     "output_type": "stream",
     "text": [
      "Our model indicates that every one-day reduction in this duration would reduce the peak population size by 72-84% and the cumulative infected cases and deaths both by 68-80% (Figure 1c,d) .\n"
     ]
    },
    {
     "data": {
      "text/html": [
       "<a href=\"http://doi.org/10.1101/2020.01.23.916726\" target=\"_blank\">Modelling the epidemic trend of the 2019 novel coronavirus outbreak in China</a>"
      ],
      "text/plain": [
       "<IPython.core.display.HTML object>"
      ]
     },
     "metadata": {},
     "output_type": "display_data"
    },
    {
     "name": "stdout",
     "output_type": "stream",
     "text": [
      "[13] [14] [15] [16] The incubation period is a useful parameter to guide isolation and contact tracing; based on existing data, the disease status of a contact should be known with near certainty after a period of observation of 14 days.\n"
     ]
    },
    {
     "data": {
      "text/html": [
       "<a href=\"http://doi.org/10.1016/S2589-7500(20)30026-1\" target=\"_blank\">Early epidemiological analysis of the coronavirus disease 2019 outbreak based on crowdsourced data: a population- level observational study</a>"
      ],
      "text/plain": [
       "<IPython.core.display.HTML object>"
      ]
     },
     "metadata": {},
     "output_type": "display_data"
    },
    {
     "name": "stdout",
     "output_type": "stream",
     "text": [
      "We calculated the effective reproduction number (R eff ) of the simulation as the average number of secondary cases produced by each infected person in the presence of isolation and contact tracing.\n"
     ]
    },
    {
     "data": {
      "text/html": [
       "<a href=\"http://doi.org/10.1016/S2214-109X(20)30074-7\" target=\"_blank\">Feasibility of controlling COVID-19 outbreaks by isolation of cases and contacts</a>"
      ],
      "text/plain": [
       "<IPython.core.display.HTML object>"
      ]
     },
     "metadata": {},
     "output_type": "display_data"
    },
    {
     "name": "stdout",
     "output_type": "stream",
     "text": [
      "As an example (figure 1), a person infected with the virus could potentially produce three secondary infections (because three is drawn from the negative binomial distribution), but only two transmissions might occur before the case is isolated.\n"
     ]
    },
    {
     "data": {
      "text/html": [
       "<a href=\"http://doi.org/10.1016/S2214-109X(20)30074-7\" target=\"_blank\">Feasibility of controlling COVID-19 outbreaks by isolation of cases and contacts</a>"
      ],
      "text/plain": [
       "<IPython.core.display.HTML object>"
      ]
     },
     "metadata": {},
     "output_type": "display_data"
    },
    {
     "name": "stdout",
     "output_type": "stream",
     "text": [
      "Facing the rapidly rising epidemic, the Chinese government has timely amended the Law of the PRC on the Prevention and Treatment of Infectious Diseases on 20 th January 2020 to include the 2019-nCov as a class-B infection but manage it as a class-A infection due to its severity [8] .\n"
     ]
    },
    {
     "data": {
      "text/html": [
       "<a href=\"http://doi.org/10.1101/2020.01.23.916726\" target=\"_blank\">Modelling the epidemic trend of the 2019 novel coronavirus outbreak in China</a>"
      ],
      "text/plain": [
       "<IPython.core.display.HTML object>"
      ]
     },
     "metadata": {},
     "output_type": "display_data"
    },
    {
     "name": "stdout",
     "output_type": "stream",
     "text": [
      "This occurs because with better contact tracing it becomes possible to control outbreaks with higher numbers of weekly cases.\n"
     ]
    },
    {
     "data": {
      "text/html": [
       "<a href=\"http://doi.org/10.1016/S2214-109X(20)30074-7\" target=\"_blank\">Feasibility of controlling COVID-19 outbreaks by isolation of cases and contacts</a>"
      ],
      "text/plain": [
       "<IPython.core.display.HTML object>"
      ]
     },
     "metadata": {},
     "output_type": "display_data"
    }
   ],
   "source": [
    "top_n_similar_sentences_LDA_glove_cosine(1, 5, 30)"
   ]
  },
  {
   "cell_type": "markdown",
   "metadata": {},
   "source": [
    "Question 2: "
   ]
  },
  {
   "cell_type": "code",
   "execution_count": 133,
   "metadata": {
    "ExecuteTime": {
     "end_time": "2020-04-25T18:15:14.543232Z",
     "start_time": "2020-04-25T18:15:14.372234Z"
    }
   },
   "outputs": [
    {
     "name": "stdout",
     "output_type": "stream",
     "text": [
      "QUESTION #2: Prevalence of asymptomatic shedding and transmission (e.g., particularly children).\n",
      "\n",
      "\n"
     ]
    },
    {
     "data": {
      "text/plain": [
       "['F I G U R E 1 Viral load variation among the groups of asymptomatic contacts, children possibly not transmitting RSV, and children possibly transmitting RSV (11 days) , and additional studies related to RSV infection among these patients would understand the dynamic of this type of viral infection.',\n",
       " 'Furthermore, mother-to-child transmission of GBV-C reduces the vertical transmission of HIV-1 from GBV-C/HIV-1 coinfected mothers [21] , and recently it was reported that accidental GBV-C acquisition via transfusion is associated with a significant reduction in mortality in HIV-infected individuals [22] .',\n",
       " 'Both pregnancies that end with vertical transmission of the infection, the mothers were in third stage of HIV-infection with severe immune suppression (CD4 <200/μl) and high viral load of HIV > 100 000 c/μl.',\n",
       " 'Infants carrying H4 or H6 haplotypes had increased risk of IU HIV-1-infection, whereas H2 haplotype carriers were less likely to be infected during pregnancy compared to infant noncarriers ( Table 1) .',\n",
       " 'Although the numbers are small, dissemination of the infection seems to be less intense in HIV-infected patients with C. gattii compared to C. neoformans.',\n",
       " 'The parameters b, l 1 , l 2 , k, r, g a , g I and g r represent human-tohuman transmission rate per unit time, the relative transmissibility of asymptomatic and hospitalized classes, the rate of progression from exposed class E to symptomatic I or asymptomatic infectious class A, the proportion of symptomatic infections, the hospitalization rate of symptomatic individuals, the recovery rate without being hospitalized, and the recovery rate of hospitalized \\n We used the Gillespie algorithm to study random interactions occurring in the given system of equations.',\n",
       " 'The symptomatic children have higher viral load than their asymptomatic contacts (P < .0001).',\n",
       " 'The risk of developing chronic hepatitis ranges from >90% in newborns of hepatitis B e antigen (HBeAg)-positive mothers, 25-35% in children under the age of 5 and <5% in adults (29) .',\n",
       " \"RSV A/B and PeV were the most associated pathogens with patient's demographic situation and the manifestations of ARTIs: RSV A/B infection increases with the increasing number of siblings and occurs more in children with a primary care in the nursery (p<0.05).\",\n",
       " 'Additionally, other concepts are poorly explained, e.g., the discussions on dengue secondary infections and authochthonous transmission.',\n",
       " 'Among such common risk factors, some have long been recognised, such as sexual behaviours for sexually transmitted diseases (e.g., [44] ), socio-economic status for infections particularly prevalent in poor regions such as helminth infection and malaria [45] , or age for many diseases (e.g., [46] ).',\n",
       " 'When compared to LRTI-episodes associated with the identification of only a single virus the detection of multiple viruses in HIV-infected children was significantly associated with a higher frequency of bronchial breathing (aOR 2.11; p = 0.015) and in HIV-uninfected children with a higher prevalence of cyanosis (aOR 2.50; p = 0.008) and wheezing (aOR 1.55; p = 0.006); Table 6 .',\n",
       " 'Peak HBoV infection was observed in children under the age of 5, both in cases and controls, with significantly higher HBoV incidence in children between 1 and 4 in asymptomatic controls than in the cases of gastroenteritis (POR = 0.6; p,0.02).',\n",
       " 'Consequently, if the number of fully asymptomatic transmissions is smaller than other transmissions (in the case of influenza and smallpox), R 0 is an increasing function of g. However, when there are substantial pre-symptomatic transmissions (e.g.',\n",
       " '[94] provided preliminary data which are consistent with our hypothesis that synergy between C4 deficiency and MBL excess may predispose children and adolescents to certain infections: 26% (n = 22) of Finnish patients with recurrent respiratory infections vs.14% (n = 10) of healthy controls (p = 0.048) had C4A deficiency.',\n",
       " 'Applications of MF in biocrimes also include the tracking of sexually transmitted diseases and healthcare malpractice linked to the transmission of HIV [e.g., 31-36, 53, 184] and HCV [e.g., 54, 55].',\n",
       " \"ÃÃ Children with a viral co-infection had significantly higher rates of runny noses, p: 0.02 W -Tachypnea was defined as a respiratory rate over the 99.th percentile for the child's age [16] .\",\n",
       " 'Patients with cough had significantly higher viral loads than those who did not have these signs/symptoms, irrespective of age or virus type (Fig 2B-2E-2H ).',\n",
       " 'This includes many types of cancer, and certain chronic virus infections (e.g.',\n",
       " 'The only significant differences were mean age (which was significantly higher in the children with a single viral infection than in those with coinfections) (P < 0AE001), and the radiographic finding of alveolar pneumonia, which was significantly more frequent in the children with co-infections (P < 0AE05).',\n",
       " 'Resistance pattern of the E. cloacae Ceph detected in baby E were identical to the E. cloacae Ceph strains detected in mother C and baby C which might indicate bacterial transmission from mother C to baby E.\\n In total, cumulative incidence of nosocomial MDRGN transmissions amounted to n = 2 in 43 patients, resulting in 4.7% (0.6-15.8) in OV.',\n",
       " 'In the absence of interventions, we have to multiply these contact rates with the contagiousness factors b L , b A , b M and b V to obtain the effective contact rates:\\n during the early infectious period, of asymptomatic cases, of moderately sick cases, of (untreated) very sick cases.',\n",
       " 'Susceptible individuals S a, r are infected at a rate λ a (t) which depends on their age a and on time t. Infected individuals, E a, r , incubate the infection for a mean duration D E .',\n",
       " 'These children possibly transmitting the virus to their asymptomatic contacts had significantly higher viral load than children who probably not transmit (P < .0001).',\n",
       " 'Monocytes from 16 G6PD-deficient subjects showed mean virus infection percentage of 40.86867.330% at 48 hours post infection.',\n",
       " 'The proportion of patients with multiple symptoms (i.e., the number of symptoms ≥3) was higher in patients with paramyxovirus infection than those without viral infection (75.0% vs 61.3%, p < 0.001).',\n",
       " 'Higher morbidity and mortality was usually generated by influenza A (H3N2) predominance in the elderly, in the patients with chronic conditions, and in small children as well.',\n",
       " 'In adults, comorbidity was seen more often (86%) and chronic diseases were more diverse (e.g.',\n",
       " 'Patients co-infected with HIV show hepatitis B chronicity rates as much as six times higher than hepatitis B patients who are HIV seronegative.',\n",
       " 'Susceptible individuals without bore hole access become infected with the Hepatitis E virus at a rate bc, where b is the transmission rate of HEV from the contaminated environment c, to the human.']"
      ]
     },
     "execution_count": 133,
     "metadata": {},
     "output_type": "execute_result"
    }
   ],
   "source": [
    "top_n_similar_sentences_glove_cosine(2,30)"
   ]
  },
  {
   "cell_type": "code",
   "execution_count": 163,
   "metadata": {
    "ExecuteTime": {
     "end_time": "2020-04-25T19:45:41.341961Z",
     "start_time": "2020-04-25T19:45:37.775961Z"
    },
    "scrolled": false
   },
   "outputs": [
    {
     "name": "stdout",
     "output_type": "stream",
     "text": [
      "QUESTION #2: Prevalence of asymptomatic shedding and transmission (e.g., particularly children).\n",
      "\n",
      "\n",
      "After the stage, likely after mid-January, 2020, the virus further spread to the family via infected adults to cause intrafamilial transmission, especially transmission to the elderly and children, who are vulnerable to the infection.\n"
     ]
    },
    {
     "data": {
      "text/html": [
       "<a href=\"http://doi.org/10.1016/j.jfma.2020.02.009\" target=\"_blank\">SARS-CoV-2 infection in children: Transmission dynamics and clinical characteristics</a>"
      ],
      "text/plain": [
       "<IPython.core.display.HTML object>"
      ]
     },
     "metadata": {},
     "output_type": "display_data"
    },
    {
     "name": "stdout",
     "output_type": "stream",
     "text": [
      "With more diagnostic detection done, the proportion of mild infections mainly in children and young adults became higher.\n"
     ]
    },
    {
     "data": {
      "text/html": [
       "<a href=\"http://doi.org/10.1016/j.jfma.2020.02.009\" target=\"_blank\">SARS-CoV-2 infection in children: Transmission dynamics and clinical characteristics</a>"
      ],
      "text/plain": [
       "<IPython.core.display.HTML object>"
      ]
     },
     "metadata": {},
     "output_type": "display_data"
    },
    {
     "name": "stdout",
     "output_type": "stream",
     "text": [
      "1B , during the emerging stage of the SARS-CoV-2 outbreak, the infection was disseminated by person-to-person transmission in the community almost exclusively among adults.\n"
     ]
    },
    {
     "data": {
      "text/html": [
       "<a href=\"http://doi.org/10.1016/j.jfma.2020.02.009\" target=\"_blank\">SARS-CoV-2 infection in children: Transmission dynamics and clinical characteristics</a>"
      ],
      "text/plain": [
       "<IPython.core.display.HTML object>"
      ]
     },
     "metadata": {},
     "output_type": "display_data"
    },
    {
     "name": "stdout",
     "output_type": "stream",
     "text": [
      "First, asymptomatic cases were diagnosed based on positive viral nucleic acid test results, but without any COVID-19 symptoms, such as fever, gastrointestinal, or respiratory symptoms, and no significant abnormalities on chest radiograph 7, 8 However, the transmission of COVID-19 through asymptomatic carriers via person-to-person contact was observed in many reports.\n"
     ]
    },
    {
     "data": {
      "text/html": [
       "<a href=\"http://doi.org/10.1016/j.jmii.2020.02.012\" target=\"_blank\">Journal Pre-proof Asymptomatic carrier state, acute respiratory disease, and pneumonia due to severe acute respiratory syndrome coronavirus 2 (SARSCoV-2): Facts and myths</a>"
      ],
      "text/plain": [
       "<IPython.core.display.HTML object>"
      ]
     },
     "metadata": {},
     "output_type": "display_data"
    },
    {
     "name": "stdout",
     "output_type": "stream",
     "text": [
      "9 Similarly, at the beginning of the 2009 pandemic H1N1 influenza outbreak, the percentage age distributions for mortality and morbidity for patients with severe pneumonia show a marked shift to persons between the ages of 5 and 59 years, as compared with distributions observed during previous periods of epidemic influenza.\n"
     ]
    },
    {
     "data": {
      "text/html": [
       "<a href=\"http://doi.org/10.1016/j.jmii.2020.02.011\" target=\"_blank\">Are children less susceptible to COVID-19?</a>"
      ],
      "text/plain": [
       "<IPython.core.display.HTML object>"
      ]
     },
     "metadata": {},
     "output_type": "display_data"
    },
    {
     "name": "stdout",
     "output_type": "stream",
     "text": [
      "reported that the viral load detected in asymptomatic patients was similar to that found in symptomatic patients; however, the viral loads from patients with severe diseases were higher than those in patients with mild-to-moderate presentations.\n"
     ]
    },
    {
     "data": {
      "text/html": [
       "<a href=\"http://doi.org/10.1016/j.jmii.2020.02.012\" target=\"_blank\">Journal Pre-proof Asymptomatic carrier state, acute respiratory disease, and pneumonia due to severe acute respiratory syndrome coronavirus 2 (SARSCoV-2): Facts and myths</a>"
      ],
      "text/plain": [
       "<IPython.core.display.HTML object>"
      ]
     },
     "metadata": {},
     "output_type": "display_data"
    },
    {
     "name": "stdout",
     "output_type": "stream",
     "text": [
      "The number of pediatric patients may increase in the future and a lower number of pediatric patients at the beginning of a pandemic does not necessarily mean that children are less susceptible to the infection.\n"
     ]
    },
    {
     "data": {
      "text/html": [
       "<a href=\"http://doi.org/10.1016/j.jmii.2020.02.011\" target=\"_blank\">Are children less susceptible to COVID-19?</a>"
      ],
      "text/plain": [
       "<IPython.core.display.HTML object>"
      ]
     },
     "metadata": {},
     "output_type": "display_data"
    },
    {
     "name": "stdout",
     "output_type": "stream",
     "text": [
      "It is essential to know the incubation period, the time elapsing between the moment of exposure to an infectious agent and the appearance of signs and Furthermore, patients with pneumonia were older, with a higher prevalence of smoking history, more underlying diseases, and were more likely to have fever, myalgia/fatigue, dyspnea, headache, and nausea/vomiting compared to patients with ARD (all p < .05) ( Table 3 ).\n"
     ]
    },
    {
     "data": {
      "text/html": [
       "<a href=\"http://doi.org/10.1016/j.jmii.2020.02.012\" target=\"_blank\">Journal Pre-proof Asymptomatic carrier state, acute respiratory disease, and pneumonia due to severe acute respiratory syndrome coronavirus 2 (SARSCoV-2): Facts and myths</a>"
      ],
      "text/plain": [
       "<IPython.core.display.HTML object>"
      ]
     },
     "metadata": {},
     "output_type": "display_data"
    },
    {
     "name": "stdout",
     "output_type": "stream",
     "text": [
      "7e11 Most infected children have mild clinical manifestations and usually have a good prognosis.\n"
     ]
    },
    {
     "data": {
      "text/html": [
       "<a href=\"http://doi.org/10.1016/j.jfma.2020.02.009\" target=\"_blank\">SARS-CoV-2 infection in children: Transmission dynamics and clinical characteristics</a>"
      ],
      "text/plain": [
       "<IPython.core.display.HTML object>"
      ]
     },
     "metadata": {},
     "output_type": "display_data"
    },
    {
     "name": "stdout",
     "output_type": "stream",
     "text": [
      "First, the clinical manifestation of COVID-19 ranges from the asymptomatic carrier 19 state to severe pneumonia; however, most early reports only showed the findings of SARS-CoV-2 pneumonia, in which the ratio of male patients was much larger than that of female patients, there were no pediatric cases, and the mortality rate was high.\n"
     ]
    },
    {
     "data": {
      "text/html": [
       "<a href=\"http://doi.org/10.1016/j.jmii.2020.02.012\" target=\"_blank\">Journal Pre-proof Asymptomatic carrier state, acute respiratory disease, and pneumonia due to severe acute respiratory syndrome coronavirus 2 (SARSCoV-2): Facts and myths</a>"
      ],
      "text/plain": [
       "<IPython.core.display.HTML object>"
      ]
     },
     "metadata": {},
     "output_type": "display_data"
    },
    {
     "name": "stdout",
     "output_type": "stream",
     "text": [
      "Thus, it is surprising to see that all the attention focused on a virus whose mortality ultimately appears to be of the same order of magnitude as that of common coronaviruses or other respiratory viruses such as influenza or respiratory syncytial virus, while the four common HCoV diagnosed go unnoticed although their incidence is high.\n"
     ]
    },
    {
     "data": {
      "text/html": [
       "<a href=\"http://doi.org/10.2807/1560-7917.ES.2020.25.8.2000171\" target=\"_blank\">Letter to the editor: Plenty of coronaviruses but no SARS-CoV-2</a>"
      ],
      "text/plain": [
       "<IPython.core.display.HTML object>"
      ]
     },
     "metadata": {},
     "output_type": "display_data"
    },
    {
     "name": "stdout",
     "output_type": "stream",
     "text": [
      "Adults with COVID-19 usually showed a significant or progressive decrease in the absolute number of peripheral blood lymphocytes at the early stage of the disease.\n"
     ]
    },
    {
     "data": {
      "text/html": [
       "<a href=\"http://doi.org/10.1016/j.jfma.2020.02.009\" target=\"_blank\">SARS-CoV-2 infection in children: Transmission dynamics and clinical characteristics</a>"
      ],
      "text/plain": [
       "<IPython.core.display.HTML object>"
      ]
     },
     "metadata": {},
     "output_type": "display_data"
    },
    {
     "name": "stdout",
     "output_type": "stream",
     "text": [
      "T lymphocyte subsets showed a decrease in both CD4 þ and CD8 þ T cell subsets, and neutrophil-to-lymphocyte ratio is an early and reliable indicator for the development of severe COVID-19, suggesting that SARS-CoV-2 can consume lymphocytes, which may also be an important reason for the virus to proliferate and spread in the early stage of the disease.\n"
     ]
    },
    {
     "data": {
      "text/html": [
       "<a href=\"http://doi.org/10.1016/j.jfma.2020.02.009\" target=\"_blank\">SARS-CoV-2 infection in children: Transmission dynamics and clinical characteristics</a>"
      ],
      "text/plain": [
       "<IPython.core.display.HTML object>"
      ]
     },
     "metadata": {},
     "output_type": "display_data"
    },
    {
     "name": "stdout",
     "output_type": "stream",
     "text": [
      "13 In children, however, white blood cell count and absolute lymphocyte count were mostly normal, and no lymphocyte depletion occurred, suggesting less immune dysfunction after the SARS-CoV-2 infection.\n"
     ]
    },
    {
     "data": {
      "text/html": [
       "<a href=\"http://doi.org/10.1016/j.jfma.2020.02.009\" target=\"_blank\">SARS-CoV-2 infection in children: Transmission dynamics and clinical characteristics</a>"
      ],
      "text/plain": [
       "<IPython.core.display.HTML object>"
      ]
     },
     "metadata": {},
     "output_type": "display_data"
    },
    {
     "name": "stdout",
     "output_type": "stream",
     "text": [
      "10 We assume that neonates born to infected mothers via vaginal delivery could still be at risk for the infection due to close baby-mother contact during the delivery.\n"
     ]
    },
    {
     "data": {
      "text/html": [
       "<a href=\"http://doi.org/10.1016/j.jfma.2020.02.009\" target=\"_blank\">SARS-CoV-2 infection in children: Transmission dynamics and clinical characteristics</a>"
      ],
      "text/plain": [
       "<IPython.core.display.HTML object>"
      ]
     },
     "metadata": {},
     "output_type": "display_data"
    },
    {
     "name": "stdout",
     "output_type": "stream",
     "text": [
      "The positive correlation of the accumulated cases from adult and pediatric populations strongly supports the transmission dynamics of pediatric patients we described (Fig.\n"
     ]
    },
    {
     "data": {
      "text/html": [
       "<a href=\"http://doi.org/10.1016/j.jfma.2020.02.009\" target=\"_blank\">SARS-CoV-2 infection in children: Transmission dynamics and clinical characteristics</a>"
      ],
      "text/plain": [
       "<IPython.core.display.HTML object>"
      ]
     },
     "metadata": {},
     "output_type": "display_data"
    },
    {
     "name": "stdout",
     "output_type": "stream",
     "text": [
      "11, 17 Fortunately, no evidence was found for intrauterine infection caused by vertical transmission in women who contracted COVID-19 pneumonia in late pregnancy.\n"
     ]
    },
    {
     "data": {
      "text/html": [
       "<a href=\"http://doi.org/10.1016/j.jmii.2020.02.012\" target=\"_blank\">Journal Pre-proof Asymptomatic carrier state, acute respiratory disease, and pneumonia due to severe acute respiratory syndrome coronavirus 2 (SARSCoV-2): Facts and myths</a>"
      ],
      "text/plain": [
       "<IPython.core.display.HTML object>"
      ]
     },
     "metadata": {},
     "output_type": "display_data"
    },
    {
     "name": "stdout",
     "output_type": "stream",
     "text": [
      "11 A difference in the distribution, maturation, and functioning of viral receptors is frequently mentioned as a possible reason of the age-related difference in incidence.\n"
     ]
    },
    {
     "data": {
      "text/html": [
       "<a href=\"http://doi.org/10.1016/j.jmii.2020.02.011\" target=\"_blank\">Are children less susceptible to COVID-19?</a>"
      ],
      "text/plain": [
       "<IPython.core.display.HTML object>"
      ]
     },
     "metadata": {},
     "output_type": "display_data"
    },
    {
     "name": "stdout",
     "output_type": "stream",
     "text": [
      "17 This finding may not be consistent with a relatively low susceptibility of children to COVID-19.\n"
     ]
    },
    {
     "data": {
      "text/html": [
       "<a href=\"http://doi.org/10.1016/j.jmii.2020.02.011\" target=\"_blank\">Are children less susceptible to COVID-19?</a>"
      ],
      "text/plain": [
       "<IPython.core.display.HTML object>"
      ]
     },
     "metadata": {},
     "output_type": "display_data"
    },
    {
     "name": "stdout",
     "output_type": "stream",
     "text": [
      "In one study using the MulBSTA score system, 46 which includes six indices, namely multilocular infiltration, lymphopenia, bacterial co-infection, smoking history, hypertension, and age, revealed that these indices were poor prognostic factors.\n"
     ]
    },
    {
     "data": {
      "text/html": [
       "<a href=\"http://doi.org/10.1016/j.jmii.2020.02.012\" target=\"_blank\">Journal Pre-proof Asymptomatic carrier state, acute respiratory disease, and pneumonia due to severe acute respiratory syndrome coronavirus 2 (SARSCoV-2): Facts and myths</a>"
      ],
      "text/plain": [
       "<IPython.core.display.HTML object>"
      ]
     },
     "metadata": {},
     "output_type": "display_data"
    },
    {
     "name": "stdout",
     "output_type": "stream",
     "text": [
      "[12] [13] [14] Subsequent to the publication of the studies of patients with only ARD or mild pneumonia, we found the ratio of male-to-female patients decreased, children or neonates could contract COVID-19, and the mortality rate declined compared to that of previous reports.\n"
     ]
    },
    {
     "data": {
      "text/html": [
       "<a href=\"http://doi.org/10.1016/j.jmii.2020.02.012\" target=\"_blank\">Journal Pre-proof Asymptomatic carrier state, acute respiratory disease, and pneumonia due to severe acute respiratory syndrome coronavirus 2 (SARSCoV-2): Facts and myths</a>"
      ],
      "text/plain": [
       "<IPython.core.display.HTML object>"
      ]
     },
     "metadata": {},
     "output_type": "display_data"
    },
    {
     "name": "stdout",
     "output_type": "stream",
     "text": [
      "15 Similarly, the China CDC reported that patients aged ≥ 80 years had the highest case fatality rate, 14.8%, among different age groups, and the case fatality rate of patients in which disease severity was critical was 49.0%.\n"
     ]
    },
    {
     "data": {
      "text/html": [
       "<a href=\"http://doi.org/10.1016/j.jmii.2020.02.012\" target=\"_blank\">Journal Pre-proof Asymptomatic carrier state, acute respiratory disease, and pneumonia due to severe acute respiratory syndrome coronavirus 2 (SARSCoV-2): Facts and myths</a>"
      ],
      "text/plain": [
       "<IPython.core.display.HTML object>"
      ]
     },
     "metadata": {},
     "output_type": "display_data"
    },
    {
     "name": "stdout",
     "output_type": "stream",
     "text": [
      "Among these, the most relevant is influenza, usually characterised by fever, myalgia, headache and non-productive cough, that may also cause complications with high morbidity and mortality rate, such as pneumonia, myocarditis, central nervous system disease and death [10, 11] .\n"
     ]
    },
    {
     "data": {
      "text/html": [
       "<a href=\"http://doi.org/10.2807/1560-7917.ES.2020.25.8.2000170\" target=\"_blank\">Rapid communication</a>"
      ],
      "text/plain": [
       "<IPython.core.display.HTML object>"
      ]
     },
     "metadata": {},
     "output_type": "display_data"
    },
    {
     "name": "stdout",
     "output_type": "stream",
     "text": [
      "Nevertheless, all these children belonged to familial cluster circles, so aggregative onset is an important feature in pediatric cases, and this is also a strong indicator that the virus is highly contagious.\n"
     ]
    },
    {
     "data": {
      "text/html": [
       "<a href=\"http://doi.org/10.1016/j.jfma.2020.02.009\" target=\"_blank\">SARS-CoV-2 infection in children: Transmission dynamics and clinical characteristics</a>"
      ],
      "text/plain": [
       "<IPython.core.display.HTML object>"
      ]
     },
     "metadata": {},
     "output_type": "display_data"
    },
    {
     "name": "stdout",
     "output_type": "stream",
     "text": [
      "This illustrated the major disconnect between the fear of a hypothetical spread in France of a virus emerging in the Middle East and the reality of the absence of diagnosed cases, while concomitantly the very real and high incidence of respiratory viruses common worldwide and in our country and their associated mortality appeared largely neglected.\n"
     ]
    },
    {
     "data": {
      "text/html": [
       "<a href=\"http://doi.org/10.2807/1560-7917.ES.2020.25.8.2000171\" target=\"_blank\">Letter to the editor: Plenty of coronaviruses but no SARS-CoV-2</a>"
      ],
      "text/plain": [
       "<IPython.core.display.HTML object>"
      ]
     },
     "metadata": {},
     "output_type": "display_data"
    },
    {
     "name": "stdout",
     "output_type": "stream",
     "text": [
      "However, this study involved a population of only 18 patients, including one asymptomatic patient.\n"
     ]
    },
    {
     "data": {
      "text/html": [
       "<a href=\"http://doi.org/10.1016/j.jmii.2020.02.012\" target=\"_blank\">Journal Pre-proof Asymptomatic carrier state, acute respiratory disease, and pneumonia due to severe acute respiratory syndrome coronavirus 2 (SARSCoV-2): Facts and myths</a>"
      ],
      "text/plain": [
       "<IPython.core.display.HTML object>"
      ]
     },
     "metadata": {},
     "output_type": "display_data"
    },
    {
     "name": "stdout",
     "output_type": "stream",
     "text": [
      "12 Other suggested reasons include children having a more active innate immune response, healthier respiratory tracts because they have not been exposed to as much cigarette smoke and air pollution as adults, and fewer underlying disorders.\n"
     ]
    },
    {
     "data": {
      "text/html": [
       "<a href=\"http://doi.org/10.1016/j.jmii.2020.02.011\" target=\"_blank\">Are children less susceptible to COVID-19?</a>"
      ],
      "text/plain": [
       "<IPython.core.display.HTML object>"
      ]
     },
     "metadata": {},
     "output_type": "display_data"
    },
    {
     "name": "stdout",
     "output_type": "stream",
     "text": [
      "Nevertheless, those aged 15e24 and 25e44 years experienced sharply elevated death rates.\n"
     ]
    },
    {
     "data": {
      "text/html": [
       "<a href=\"http://doi.org/10.1016/j.jmii.2020.02.011\" target=\"_blank\">Are children less susceptible to COVID-19?</a>"
      ],
      "text/plain": [
       "<IPython.core.display.HTML object>"
      ]
     },
     "metadata": {},
     "output_type": "display_data"
    },
    {
     "name": "stdout",
     "output_type": "stream",
     "text": [
      "14 Most, if not all, of the infants received regular immunizations, including BCG, in China and other Asian countries, and it is well known that influenza can cause more ARDS in the adults, yet very less in children.\n"
     ]
    },
    {
     "data": {
      "text/html": [
       "<a href=\"http://doi.org/10.1016/j.jfma.2020.02.009\" target=\"_blank\">SARS-CoV-2 infection in children: Transmission dynamics and clinical characteristics</a>"
      ],
      "text/plain": [
       "<IPython.core.display.HTML object>"
      ]
     },
     "metadata": {},
     "output_type": "display_data"
    },
    {
     "name": "stdout",
     "output_type": "stream",
     "text": [
      "Usually they recover within 1e2 weeks after the onset of the disease.\n"
     ]
    },
    {
     "data": {
      "text/html": [
       "<a href=\"http://doi.org/10.1016/j.jfma.2020.02.009\" target=\"_blank\">SARS-CoV-2 infection in children: Transmission dynamics and clinical characteristics</a>"
      ],
      "text/plain": [
       "<IPython.core.display.HTML object>"
      ]
     },
     "metadata": {},
     "output_type": "display_data"
    }
   ],
   "source": [
    "top_n_similar_sentences_LDA_glove_cosine(2, 5, 30)"
   ]
  },
  {
   "cell_type": "markdown",
   "metadata": {},
   "source": [
    "Question 3: "
   ]
  },
  {
   "cell_type": "code",
   "execution_count": 135,
   "metadata": {
    "ExecuteTime": {
     "end_time": "2020-04-25T18:15:19.954252Z",
     "start_time": "2020-04-25T18:15:19.796251Z"
    }
   },
   "outputs": [
    {
     "name": "stdout",
     "output_type": "stream",
     "text": [
      "QUESTION #3: Seasonality of transmission. spring, winter, summer, autumn, fall, cold, hot, warm\n",
      "\n",
      "\n"
     ]
    },
    {
     "data": {
      "text/plain": [
       "['The weather during spring and autumn is usually warm during the days and cooler at nights.',\n",
       " 'The spring and autumn are relatively short when compared with the duration of summer and winter.',\n",
       " 'Adenovirus was most likely to be detected in summer, followed by spring, winter and autumn.',\n",
       " 'RSV was most likely to be detected in winter, followed by spring, autumn, and summer.',\n",
       " 'IFVB was active in cold winter and IFVA was active in autumn, while both were rarely detected in summer.',\n",
       " 'positivity was low in spring-summer and high in fall-winter, although no significant differences were observed (38.8, 40.9, 47.3 and 49.5% in spring, summer, fall and winter, respectively).',\n",
       " 'The area has a continental monsoon climate, winter is longer than other seasons, and summer is warm.',\n",
       " 'In detail, ADV infection was prevalent in summer (20/34, 58.8%) and spring (10/34, 29.4%) seasons, FLU was prevalent in spring (7/14, 50%) and winter (4/14, 28.5%), HMPV in winter (2/4, 50%), HCoV in autumn/winter (3/7, 42.8%), HRV in autumn (34/86, 39.5%) and summer (30/86, 34.8%), PIV in summer (13/24, 34.8%) and RSV in winter (24/25, 96%) (Fig.',\n",
       " 'In winter, 124 (23%) were sampled; in spring, 137 (25%); in summer, 150 (28%); and in fall, 129 (24%) ( p<0.25.',\n",
       " 'A seasonal distribution of WUV was noted in summer, autumn and winter.',\n",
       " 'We found that RSV was detected mainly during winter and spring, which corresponds with the cold and dry seasons.',\n",
       " 'The co-infections were more frequently detected in spring (98/215, 45.6%) and winter (47/215, 21.9%) than in summer (40/215, 18.6%) and autumn (30/215, 14%).',\n",
       " 'the summer or winter.',\n",
       " 'In this study, PIV was isolated throughout the year and appeared to alternate with peaks in RSVand HMPV infection, increasing as autumn turned to winter and summer turned to autumn (Fig.',\n",
       " 'Influenza A was most likely to be detected in winter, followed by spring, autumn, and summer.',\n",
       " 'It is hot during the day and cold at night and the mixing of hot and cold weather brings on a cold.\"',\n",
       " 'In this study, two seasonal peaks of RSV were found at the changes of season from winter to spring and from summer to autumn.',\n",
       " 'HPIV-2 and HPIV-4 were not isolated as frequently as HPIV-3 and HPIV-1, and the seasonal peak of HPIV-2 and HPIV-4 was in the turn of winter to spring (December 2010 to March 2011).',\n",
       " 'In this study, two seasonal peaks of RSV occurred at the changes of seasons from winter to spring and from summer to autumn.',\n",
       " 'The specific seasonal PDRs were: 48.01% (1,668/3,474) in spring, 51.12% (1,646/ 3,216) in summer, 58.43% (1,806/3,091) in autumn, and 34.33% (934/2,721) in winter ( Fig  1D) .',\n",
       " 'RV/EV was most frequently seen in the autumn and winter months, RSV A/B and HMPV in the winter and spring months, HCoVs in the spring months, AdV in the spring and summer months, and HBoV and PIVs in the summer months.',\n",
       " 'In regions with persistently warm temperatures and high humidity, RSV activity is continuous throughout the year, peaking in summer and early autumn.',\n",
       " 'Figure 2 : Distribution of sixteen respiratory viruses during spring, summer, autumn, and winter.',\n",
       " '3, 4, 8, 13 The seasonal incidence of GBS in one study was 22% in autumn, 25% in winter, 27% in spring, and 26% in summer.',\n",
       " 'ADV mainly occurred in summer and autumn, although it was generally distributed all year round; HMPV occurred at the change of season from spring to summer and from winter to spring; EV and HBoV occurred mostly in summer and HBoV was prevalent in winter ( Figure 4 ).',\n",
       " 'In between, spring can feature lengthy periods of cloudy, often rainy, weather, while Autumn is generally mild to dry and sunny.',\n",
       " 'After April, the weather turns hot (average 40°C) and remains dry during the summer months.',\n",
       " 'The number of AECOPD in winter and spring was larger than that in summer and autumn ( Figure 2 ) ( < 0.05).',\n",
       " 'In this study, we found that RSV occurred during the change of seasons from winter to spring and from summer to autumn.',\n",
       " 'mainly occurred in summer (warm and humid season) [5, 33] .']"
      ]
     },
     "execution_count": 135,
     "metadata": {},
     "output_type": "execute_result"
    }
   ],
   "source": [
    "top_n_similar_sentences_glove_cosine(3,30)"
   ]
  },
  {
   "cell_type": "code",
   "execution_count": 164,
   "metadata": {
    "ExecuteTime": {
     "end_time": "2020-04-25T19:45:56.554669Z",
     "start_time": "2020-04-25T19:45:52.493147Z"
    },
    "scrolled": false
   },
   "outputs": [
    {
     "name": "stdout",
     "output_type": "stream",
     "text": [
      "QUESTION #3: Seasonality of transmission.\n",
      "\n",
      "\n",
      "In 2003, the spring festival transport period started from Jan 17 to Feb 25, 2020 and coincided with the peak incidence [ Figure 1F , purple box].\n"
     ]
    },
    {
     "data": {
      "text/html": [
       "<a href=\"http://doi.org/10.1097/CM9.0000000000000776\" target=\"_blank\">From SARS-CoV to SARS-CoV-2 Outbreak: Similarities in the Early Epidemics and Prediction of Future Trends</a>"
      ],
      "text/plain": [
       "<IPython.core.display.HTML object>"
      ]
     },
     "metadata": {},
     "output_type": "display_data"
    },
    {
     "name": "stdout",
     "output_type": "stream",
     "text": [
      "Both outbreaks happened in the winter, when the two provinces have similar climate patterns suitable for virus survival and spread.\n"
     ]
    },
    {
     "data": {
      "text/html": [
       "<a href=\"http://doi.org/10.1097/CM9.0000000000000776\" target=\"_blank\">From SARS-CoV to SARS-CoV-2 Outbreak: Similarities in the Early Epidemics and Prediction of Future Trends</a>"
      ],
      "text/plain": [
       "<IPython.core.display.HTML object>"
      ]
     },
     "metadata": {},
     "output_type": "display_data"
    },
    {
     "name": "stdout",
     "output_type": "stream",
     "text": [
      "Coincidentally, the SARS outbreak duration also coincided with the Chinese spring festival.\n"
     ]
    },
    {
     "data": {
      "text/html": [
       "<a href=\"http://doi.org/10.1097/CM9.0000000000000776\" target=\"_blank\">From SARS-CoV to SARS-CoV-2 Outbreak: Similarities in the Early Epidemics and Prediction of Future Trends</a>"
      ],
      "text/plain": [
       "<IPython.core.display.HTML object>"
      ]
     },
     "metadata": {},
     "output_type": "display_data"
    },
    {
     "name": "stdout",
     "output_type": "stream",
     "text": [
      "The spring festival travel period in 2020 started from Jan 10 to Feb 18, which coincided with the rapid increase in SARS-CoV-2 cases between Jan 10 and 22, 2020 [ Figure 1F , red box].\n"
     ]
    },
    {
     "data": {
      "text/html": [
       "<a href=\"http://doi.org/10.1097/CM9.0000000000000776\" target=\"_blank\">From SARS-CoV to SARS-CoV-2 Outbreak: Similarities in the Early Epidemics and Prediction of Future Trends</a>"
      ],
      "text/plain": [
       "<IPython.core.display.HTML object>"
      ]
     },
     "metadata": {},
     "output_type": "display_data"
    },
    {
     "name": "stdout",
     "output_type": "stream",
     "text": [
      "Similar to the SARS outbreak, this outbreak also occurred during the spring festival, the most important of the Chinese traditional festivals, when 3 billion people travel throughout the country [6] .\n"
     ]
    },
    {
     "data": {
      "text/html": [
       "<a href=\"http://doi.org/10.1097/CM9.0000000000000776\" target=\"_blank\">From SARS-CoV to SARS-CoV-2 Outbreak: Similarities in the Early Epidemics and Prediction of Future Trends</a>"
      ],
      "text/plain": [
       "<IPython.core.display.HTML object>"
      ]
     },
     "metadata": {},
     "output_type": "display_data"
    },
    {
     "name": "stdout",
     "output_type": "stream",
     "text": [
      "This person reported no previous visit to wet markets in Wuhan nor contact with any other case within 2 weeks before illness onset.\n"
     ]
    },
    {
     "data": {
      "text/html": [
       "<a href=\"http://dx.doi.org/10.2807/1560-7917.ES.2020.25.3.2000044\" target=\"_blank\">no title</a>"
      ],
      "text/plain": [
       "<IPython.core.display.HTML object>"
      ]
     },
     "metadata": {},
     "output_type": "display_data"
    },
    {
     "name": "stdout",
     "output_type": "stream",
     "text": [
      "One cluster of three close relatives all with illness onset on the same day, were thought to have occurred through a common exposure since they all lived together and worked in the same stall in the Southern China Seafood Wholesale Market.\n"
     ]
    },
    {
     "data": {
      "text/html": [
       "<a href=\"http://dx.doi.org/10.2807/1560-7917.ES.2020.25.3.2000044\" target=\"_blank\">no title</a>"
      ],
      "text/plain": [
       "<IPython.core.display.HTML object>"
      ]
     },
     "metadata": {},
     "output_type": "display_data"
    },
    {
     "name": "stdout",
     "output_type": "stream",
     "text": [
      "Each year, the Chinese government launches a 40-day spring festival transport support system, and during this period, billions of people migrate around China.\n"
     ]
    },
    {
     "data": {
      "text/html": [
       "<a href=\"http://doi.org/10.1097/CM9.0000000000000776\" target=\"_blank\">From SARS-CoV to SARS-CoV-2 Outbreak: Similarities in the Early Epidemics and Prediction of Future Trends</a>"
      ],
      "text/plain": [
       "<IPython.core.display.HTML object>"
      ]
     },
     "metadata": {},
     "output_type": "display_data"
    },
    {
     "name": "stdout",
     "output_type": "stream",
     "text": [
      "The timing of this outbreak around the lunar new year widely celebrated in China coincides with a period of highest annual human movement patterns in the region and between China and globally [8] , increasing the potential for rapid geographic dispersal of the infection.\n"
     ]
    },
    {
     "data": {
      "text/html": [
       "<a href=\"http://doi.org/10.1017/S0950268820000424\" target=\"_blank\">Epidemiology and Infection Passengers' destinations from China: low risk of Novel Coronavirus (2019-nCoV) transmission into Africa and South America</a>"
      ],
      "text/plain": [
       "<IPython.core.display.HTML object>"
      ]
     },
     "metadata": {},
     "output_type": "display_data"
    },
    {
     "name": "stdout",
     "output_type": "stream",
     "text": [
      "While wet markets selling such perishable food products are common in China, they usually do not sell such a wide variety of wild animals.\n"
     ]
    },
    {
     "data": {
      "text/html": [
       "<a href=\"http://dx.doi.org/10.2807/1560-7917.ES.2020.25.3.2000044\" target=\"_blank\">no title</a>"
      ],
      "text/plain": [
       "<IPython.core.display.HTML object>"
      ]
     },
     "metadata": {},
     "output_type": "display_data"
    },
    {
     "name": "stdout",
     "output_type": "stream",
     "text": [
      "These super-spreaders may be distributed in different places and are difficult to track.\n"
     ]
    },
    {
     "data": {
      "text/html": [
       "<a href=\"http://doi.org/10.1097/CM9.0000000000000776\" target=\"_blank\">From SARS-CoV to SARS-CoV-2 Outbreak: Similarities in the Early Epidemics and Prediction of Future Trends</a>"
      ],
      "text/plain": [
       "<IPython.core.display.HTML object>"
      ]
     },
     "metadata": {},
     "output_type": "display_data"
    },
    {
     "name": "stdout",
     "output_type": "stream",
     "text": [
      "The lack of exposure history to wet markets in Wuhan in two of four generally-mild exported cases indicated that there might be a larger number of undetected infections in Wuhan.\n"
     ]
    },
    {
     "data": {
      "text/html": [
       "<a href=\"http://dx.doi.org/10.2807/1560-7917.ES.2020.25.3.2000044\" target=\"_blank\">no title</a>"
      ],
      "text/plain": [
       "<IPython.core.display.HTML object>"
      ]
     },
     "metadata": {},
     "output_type": "display_data"
    },
    {
     "name": "stdout",
     "output_type": "stream",
     "text": [
      "This market is a large open complex of 50,000 square metres including sections selling seafood, fresh meat, produce, other perishable goods, and a very wide variety of live wild animals for consumption.\n"
     ]
    },
    {
     "data": {
      "text/html": [
       "<a href=\"http://dx.doi.org/10.2807/1560-7917.ES.2020.25.3.2000044\" target=\"_blank\">no title</a>"
      ],
      "text/plain": [
       "<IPython.core.display.HTML object>"
      ]
     },
     "metadata": {},
     "output_type": "display_data"
    },
    {
     "name": "stdout",
     "output_type": "stream",
     "text": [
      "Given previous trends, this is unlikely to be the incidence peak of this new virus outbreak.\n"
     ]
    },
    {
     "data": {
      "text/html": [
       "<a href=\"http://doi.org/10.1097/CM9.0000000000000776\" target=\"_blank\">From SARS-CoV to SARS-CoV-2 Outbreak: Similarities in the Early Epidemics and Prediction of Future Trends</a>"
      ],
      "text/plain": [
       "<IPython.core.display.HTML object>"
      ]
     },
     "metadata": {},
     "output_type": "display_data"
    },
    {
     "name": "stdout",
     "output_type": "stream",
     "text": [
      "If the current intervention continues, the number of infected individuals is expected to peak in early March 2020 (80 days since initiation) with a peak population size of 827 (421-1232) infectious individuals in China.\n"
     ]
    },
    {
     "data": {
      "text/html": [
       "<a href=\"http://doi.org/10.1101/2020.01.23.916726\" target=\"_blank\">Modelling the epidemic trend of the 2019 novel coronavirus outbreak in China</a>"
      ],
      "text/plain": [
       "<IPython.core.display.HTML object>"
      ]
     },
     "metadata": {},
     "output_type": "display_data"
    },
    {
     "name": "stdout",
     "output_type": "stream",
     "text": [
      "Scenario 1 comprises a large zoonotic spillover event starting in early December 2019, perhaps over a number of days or weeks, and very limited human-to-human transmission subsequently.\n"
     ]
    },
    {
     "data": {
      "text/html": [
       "<a href=\"http://dx.doi.org/10.2807/1560-7917.ES.2020.25.3.2000044\" target=\"_blank\">no title</a>"
      ],
      "text/plain": [
       "<IPython.core.display.HTML object>"
      ]
     },
     "metadata": {},
     "output_type": "display_data"
    },
    {
     "name": "stdout",
     "output_type": "stream",
     "text": [
      "The current duration from symptom onset to isolation is about six days.\n"
     ]
    },
    {
     "data": {
      "text/html": [
       "<a href=\"http://doi.org/10.1101/2020.01.23.916726\" target=\"_blank\">Modelling the epidemic trend of the 2019 novel coronavirus outbreak in China</a>"
      ],
      "text/plain": [
       "<IPython.core.display.HTML object>"
      ]
     },
     "metadata": {},
     "output_type": "display_data"
    },
    {
     "name": "stdout",
     "output_type": "stream",
     "text": [
      "Nevertheless, as China is facing its 'Spring Festival travel rush' and the epidemic has spread beyond its borders, further investigation on its potential spatiotemporal transmission pattern and novel intervention strategies are warranted.\n"
     ]
    },
    {
     "data": {
      "text/html": [
       "<a href=\"http://doi.org/10.1101/2020.01.23.916726\" target=\"_blank\">Modelling the epidemic trend of the 2019 novel coronavirus outbreak in China</a>"
      ],
      "text/plain": [
       "<IPython.core.display.HTML object>"
      ]
     },
     "metadata": {},
     "output_type": "display_data"
    },
    {
     "name": "stdout",
     "output_type": "stream",
     "text": [
      "Nevertheless, low and middle countries on these continents are more likely to see the ongoing spread and major disruption from the introduction of a single case, even if the risk of importation is lower.\n"
     ]
    },
    {
     "data": {
      "text/html": [
       "<a href=\"http://doi.org/10.1017/S0950268820000424\" target=\"_blank\">Epidemiology and Infection Passengers' destinations from China: low risk of Novel Coronavirus (2019-nCoV) transmission into Africa and South America</a>"
      ],
      "text/plain": [
       "<IPython.core.display.HTML object>"
      ]
     },
     "metadata": {},
     "output_type": "display_data"
    },
    {
     "name": "stdout",
     "output_type": "stream",
     "text": [
      "This large-scale migration has brought favorable conditions for disease spread that are difficult to control.\n"
     ]
    },
    {
     "data": {
      "text/html": [
       "<a href=\"http://doi.org/10.1097/CM9.0000000000000776\" target=\"_blank\">From SARS-CoV to SARS-CoV-2 Outbreak: Similarities in the Early Epidemics and Prediction of Future Trends</a>"
      ],
      "text/plain": [
       "<IPython.core.display.HTML object>"
      ]
     },
     "metadata": {},
     "output_type": "display_data"
    },
    {
     "name": "stdout",
     "output_type": "stream",
     "text": [
      "Across the study period, the median delay between symptom onset and seeking care at a hospital or clinic was 2 days (IQR 0-5 days) in mainland China ( figure 4 ).\n"
     ]
    },
    {
     "data": {
      "text/html": [
       "<a href=\"http://doi.org/10.1016/S2589-7500(20)30026-1\" target=\"_blank\">Early epidemiological analysis of the coronavirus disease 2019 outbreak based on crowdsourced data: a population- level observational study</a>"
      ],
      "text/plain": [
       "<IPython.core.display.HTML object>"
      ]
     },
     "metadata": {},
     "output_type": "display_data"
    },
    {
     "name": "stdout",
     "output_type": "stream",
     "text": [
      "Compared to the SARS outbreak of 2003, the situation in 2020 differs due to the increased frequency and volume of international air travel.\n"
     ]
    },
    {
     "data": {
      "text/html": [
       "<a href=\"http://doi.org/10.1017/S0950268820000424\" target=\"_blank\">Epidemiology and Infection Passengers' destinations from China: low risk of Novel Coronavirus (2019-nCoV) transmission into Africa and South America</a>"
      ],
      "text/plain": [
       "<IPython.core.display.HTML object>"
      ]
     },
     "metadata": {},
     "output_type": "display_data"
    },
    {
     "name": "stdout",
     "output_type": "stream",
     "text": [
      "We did not consider the risk associated with the travel route through water and land which might have an impact in the spread of 2019-nCoV.\n"
     ]
    },
    {
     "data": {
      "text/html": [
       "<a href=\"http://doi.org/10.1017/S0950268820000424\" target=\"_blank\">Epidemiology and Infection Passengers' destinations from China: low risk of Novel Coronavirus (2019-nCoV) transmission into Africa and South America</a>"
      ],
      "text/plain": [
       "<IPython.core.display.HTML object>"
      ]
     },
     "metadata": {},
     "output_type": "display_data"
    },
    {
     "name": "stdout",
     "output_type": "stream",
     "text": [
      "Because we are now in the early stage of the outbreak, we must be prepared for subsequent larger-scale outbreaks and predict the scale of the outbreak.\n"
     ]
    },
    {
     "data": {
      "text/html": [
       "<a href=\"http://doi.org/10.1097/CM9.0000000000000776\" target=\"_blank\">From SARS-CoV to SARS-CoV-2 Outbreak: Similarities in the Early Epidemics and Prediction of Future Trends</a>"
      ],
      "text/plain": [
       "<IPython.core.display.HTML object>"
      ]
     },
     "metadata": {},
     "output_type": "display_data"
    },
    {
     "name": "stdout",
     "output_type": "stream",
     "text": [
      "This person was in their 70s and had landed in Bangkok on 13 January, reporting an illness onset on 6 January and unclear history of exposure to the market in Wuhan.\n"
     ]
    },
    {
     "data": {
      "text/html": [
       "<a href=\"http://dx.doi.org/10.2807/1560-7917.ES.2020.25.3.2000044\" target=\"_blank\">no title</a>"
      ],
      "text/plain": [
       "<IPython.core.display.HTML object>"
      ]
     },
     "metadata": {},
     "output_type": "display_data"
    },
    {
     "name": "stdout",
     "output_type": "stream",
     "text": [
      "13, 14 A narrow window of exposure could be defined for a subset of patients who had a short stay in Wuhan, at a time when the epidemic was still localised to Wuhan.\n"
     ]
    },
    {
     "data": {
      "text/html": [
       "<a href=\"http://doi.org/10.1016/S2589-7500(20)30026-1\" target=\"_blank\">Early epidemiological analysis of the coronavirus disease 2019 outbreak based on crowdsourced data: a population- level observational study</a>"
      ],
      "text/plain": [
       "<IPython.core.display.HTML object>"
      ]
     },
     "metadata": {},
     "output_type": "display_data"
    },
    {
     "name": "stdout",
     "output_type": "stream",
     "text": [
      "Although the data so far suggest that the disease is mild in most cases and that the case fatality rate is currently reported to be lower than SARS or MERS, the situation is likely to go on for months and could cause severe disruption in countries that are not well prepared.\n"
     ]
    },
    {
     "data": {
      "text/html": [
       "<a href=\"http://doi.org/10.1017/S0950268820000424\" target=\"_blank\">Epidemiology and Infection Passengers' destinations from China: low risk of Novel Coronavirus (2019-nCoV) transmission into Africa and South America</a>"
      ],
      "text/plain": [
       "<IPython.core.display.HTML object>"
      ]
     },
     "metadata": {},
     "output_type": "display_data"
    },
    {
     "name": "stdout",
     "output_type": "stream",
     "text": [
      "A series of epidemiological criteria were required for COVID-19 testing, including travel history to Wuhan within the past 2 weeks; residence in Wuhan within the past 2 weeks; contact with individuals from Wuhan (with fever and respiratory symptoms) within the past 2 weeks; and being part of an established disease cluster.\n"
     ]
    },
    {
     "data": {
      "text/html": [
       "<a href=\"http://doi.org/10.1016/S2589-7500(20)30026-1\" target=\"_blank\">Early epidemiological analysis of the coronavirus disease 2019 outbreak based on crowdsourced data: a population- level observational study</a>"
      ],
      "text/plain": [
       "<IPython.core.display.HTML object>"
      ]
     },
     "metadata": {},
     "output_type": "display_data"
    },
    {
     "name": "stdout",
     "output_type": "stream",
     "text": [
      "Setting the upper limit of cumulative incidence (K) to 50,000, 60,000, or 70,000, the end date of incidences will be in 56 days (Mar 6, 2020), 60 days (Mar 10, 2020), or 62 days (Mar 12, 2020), respectively.\n"
     ]
    },
    {
     "data": {
      "text/html": [
       "<a href=\"http://doi.org/10.1097/CM9.0000000000000776\" target=\"_blank\">From SARS-CoV to SARS-CoV-2 Outbreak: Similarities in the Early Epidemics and Prediction of Future Trends</a>"
      ],
      "text/plain": [
       "<IPython.core.display.HTML object>"
      ]
     },
     "metadata": {},
     "output_type": "display_data"
    },
    {
     "name": "stdout",
     "output_type": "stream",
     "text": [
      "As of Jan 31, 2020, province-level epidemic curves are only available by date of reporting, rather than date of symptom onset, which usually inflates recent case counts if detection has increased.\n"
     ]
    },
    {
     "data": {
      "text/html": [
       "<a href=\"http://doi.org/10.1016/S2589-7500(20)30026-1\" target=\"_blank\">Early epidemiological analysis of the coronavirus disease 2019 outbreak based on crowdsourced data: a population- level observational study</a>"
      ],
      "text/plain": [
       "<IPython.core.display.HTML object>"
      ]
     },
     "metadata": {},
     "output_type": "display_data"
    }
   ],
   "source": [
    "top_n_similar_sentences_LDA_glove_cosine(3, 5, 30)"
   ]
  },
  {
   "cell_type": "markdown",
   "metadata": {},
   "source": [
    "Question 4: "
   ]
  },
  {
   "cell_type": "code",
   "execution_count": 137,
   "metadata": {
    "ExecuteTime": {
     "end_time": "2020-04-25T18:15:25.721130Z",
     "start_time": "2020-04-25T18:15:25.556125Z"
    }
   },
   "outputs": [
    {
     "name": "stdout",
     "output_type": "stream",
     "text": [
      "QUESTION #4: Physical science of the coronavirus (e.g., charge distribution, adhesion to hydrophilic/phobic surfaces, environmental survival to inform decontamination efforts for affected areas and provide information about viral shedding).\n",
      "\n",
      "\n"
     ]
    },
    {
     "data": {
      "text/plain": [
       "['This study, aimed at controlling the microbial bioburden and infectious reservoir on inanimate, everyday objects, builds upon our previous work in the development of photo-activated, antimicrobial polymers for the prevention of medical device associated infection [34, 35, 37] , thereby expanding scope of photoactive materials for potential infection control applications in a healthcare setting.',\n",
       " 'Understanding infectious disease transmission is a complex problem due to the many factors involved, such as environmental conditions, human activity (e.g., more crowding in buildings during wintertime), hygiene, and host susceptibility.',\n",
       " 'The review addresses the following topics: a) the burden of waterborne disease, both globally and in the United States, with discussion of the dramatic underreporting of disease; b) etiology ofwaterborne disease, e.g., direct contamination of water by enteric pathogens and growth of opportunistic pathogens within distribution system biofilms; c) characteristics of waterborne pathogens; d) water treatment and pathogen survival strategies; e) advances and limitations in methodology; and f) critical needs for future research.',\n",
       " 'The virulence risk factors we identify suggest that broadly targeting direct contact or respiratory transmission interfaces within ecological systems and/or tailoring detection assays towards certain virus families (e.g., Hantaviridae) or tissues (e.g., neural tissue) could contribute to a viable strategy to detect future virulent zoonoses.',\n",
       " 'The primary goal of environmental engineering processes is to contain the infectious agent in a limited area and to minimize or rapidly decrease the viral load in the environment so that in the event of a breach in infection control process or protection equipment, the chance of healthcare workers or other patients becoming infected is minimized.',\n",
       " 'In regard to the numerous parameters rele vant to individual environmental compart ments, we are not aware of the availability of comprehensive data on a) anti biotic resistance development by anti biotics and other coselect ing agents; b) the flow of ARG (resistome) and acquisition elements (e.g, integrons) in native environmental compartment bacteria; or c) the likely range in rates of horizontal and vertical gene transfer within environ mental compartments.',\n",
       " 'Finding RV-C cell receptor, in addition to other key information on these viruses was made possible thanks to the development of new functional culture systems, which allowed the growth and characterization of difficult to study respiratory pathogens.',\n",
       " 'The aim of this scoping review was to draw from existing literature to characterize specific capacities required to build resilient health systems in the face of infectious disease emergencies and natural hazards, with an emphasis on highlighting potential efforts that health system actors (e.g.',\n",
       " 'To prevent or manage risks associated with dissemination of recombinant MV vectors into the environment during viral vector administration, application of specific work practices should be applied and personnel should wear personal protective equipment to prevent or manage risks:\\n Operations producing aerosols such as the puncture of a vial should be limited or strictly contained during preparation and administration of the recombinant MV vector.',\n",
       " 'It is thus conceivable that the development of a multiplexing MS-based SNV assay for SARS-CoV could further reduce the required amount of starting material, which would be especially beneficial for analyzing uncultured clinical samples, in which viral materials are often limited.',\n",
       " 'Deeper biochemical knowledge of the complex p7 nature will in due course help to describe the molecular mechanisms of ion channel and its folding which can be a vital to achieve an efficient drug against human and animal virus particles.',\n",
       " 'Moreover, for a range of anti biotics consid ered to be of environmental concern, MCDA approaches could be used for risk ranking according to criteria based on relevant con tributing factors (e.g., mobility of resistance determinants in genetic elements, antibiotic resistance transfer rates in different environ mental compartments, accumulation levels of anti biotics in environmental compartments, environmental fate and transport to expo sure points).',\n",
       " 'However, it does provide data that refine our knowledge of the functional relationship between host and viral diversity, including traits associated with increased risk of spillover and subsequent emergence (e.g., viruses closely related to and sharing receptor binding domains with known lethal agents [20] ) and, also, facilitates the development of rapid diagnostic tests for intervention and control.',\n",
       " 'Rapid detection allows for optimal preparation on the level of individuals (e.g., early recognition, quarantine and swift start of adequate treatment of individual patients), on the level of populations (e.g., fast vaccination and other preventive measures), and on the level of organizations (e.g., timely preparation and education of hospital personnel, adequate distribution of therapeutics and medical equipment, and preparation of research infrastructures), thereby hopefully limiting burden caused by each novel rapidly spreading disease.',\n",
       " 'Based on a lack of epidemiological data that would provide evidence of a benefit for the patient from surface disinfection (e.g., from a significant reduction of nosocomial infection rates), some scientists postulate that cleaning of surfaces with non-antimicrobial detergents is generally sufficient [1] .',\n",
       " 'Hence, ecological niche models provide a tool to extract associations between environmental factors (e.g., climate and land cover) and outbreak occurrence data, use those associations to characterize the environmental requirements for the disease agent and vector, and subsequently project those associations to predict the geographic distribution of LSDV in underreporting regions (30) .',\n",
       " 'Additionally, we recommend that future studies use more physiologically relevant media (e.g., respiratory fluid) to test the hypotheses that (i) medium composition has an effect on virus infectivity when exposed to different environmental conditions and (ii) glycoproteins provide a protective effect for virus in droplets against changes in RH and temperature.',\n",
       " 'These mechanisms enable bacterial cells to communicate with their hosts, external environment, and between one another, allowing them to establish specific responses or develop specialized structures (e.g., biofilms) to ensure their survival, colonization, and dissemination.',\n",
       " 'This study provides a better understanding of the factors associated with negative psychological responses due to H1N1, which would give useful insights to designing primary prevention of mental health distress at the initial phase of this and outbreaks of other emerging respiratory infectious diseases.',\n",
       " 'However, receptors or co-receptors of several viruses have been difficult to identify because of the lack of reliable cell culture systems, an insufficient amount of native viral particles, or difficulty in handling because of the requirement for biosafety level (BSL)-3 or -4 containment.',\n",
       " 'Chemiluminescence (CL) is a practical opto-chemical approach for designing real-life sensing applications, e.g., safety control within food and pharmaceutical industries, environmental hazardous contaminants monitoring and clinical examination, using the discharged radiation for high sensitivity analysis of the target molecule [13] [14] [15] [16] [17] [18] .',\n",
       " 'Although polymer-based vectors elicit a relatively less strong immune response than lipid-based vectors, effective siRNA delivery to a local area in lung diseases requires more attention to the development of non-toxic delivery vectors.',\n",
       " \"As the molecular basis for the envelope's resistance against acidic environments and gastrointestinal enzymes is unclear, further research has to be carried out in this area which is important for the control of future SARS outbreaks.\",\n",
       " 'Empirical data on social structure suggests that community structuring is extensive in epidemiological contacts [25, 26, 27] relevant for infectious diseases transmitted by the respiratory or close-contact route (e.g.',\n",
       " 'Basic information about the temporal and causal patterns of viral shedding and their relationships to clinical outcomes is critical to further understand the virus and to shape prevention and control measures needed to limit transmission.',\n",
       " 'Shelter data collection systems have historically focused on intake and outcome information or individual animal tracking, resulting in a lack of useful data to tailor disease control programs, measure impacts of protocols or prevent misallocation of resources [6] .',\n",
       " 'Understanding the spatial distribution, temporal patterns and climatic risk factors of ARIs should aid the health authorities in outbreak preparation and assist in allocating resources for the prevention and control of the diseases, especially in settings where vaccines for viral and bacterial pathogens of ARIs are not routinely available.',\n",
       " 'Understanding the spatial distribution, 327 temporal patterns and climatic risk factors of ARIs should aid health authorities in outbreak preparation 328 and assist in allocating resources for the prevention and control of the diseases, especially in settings 329\\n where vaccines for viral and bacterial pathogens of ARIs are not routinely available.',\n",
       " \"Gaining an understanding of a host population's distribution of contacts provides structural information useful in characterizing and intervening in disease outbreaks, and has been demonstrated in numerous human, wildlife and livestock disease systems (e.g.\",\n",
       " 'The main developments of the model for the current study include the addition of: (1) seasonal disease cycles; (2) environmental infection events simulating persistence of PEDv in the environment which allowed for reoccurrence of the disease at previously infected sites; (3) on-farm infections from visitor vehicles other than hog or feed trucks; (4) agent adaptive functionalities (e.g., human behavioral processes such as willingness to adopt biosecurity and psychological distancing); (5) risk attitude categories derived from digital field experiments and; (6) webDb database for data input and output.']"
      ]
     },
     "execution_count": 137,
     "metadata": {},
     "output_type": "execute_result"
    }
   ],
   "source": [
    "top_n_similar_sentences_glove_cosine(4,30)"
   ]
  },
  {
   "cell_type": "code",
   "execution_count": 165,
   "metadata": {
    "ExecuteTime": {
     "end_time": "2020-04-25T19:46:10.094672Z",
     "start_time": "2020-04-25T19:46:06.656674Z"
    },
    "scrolled": false
   },
   "outputs": [
    {
     "name": "stdout",
     "output_type": "stream",
     "text": [
      "QUESTION #4: Physical science of the coronavirus (e.g., charge distribution, adhesion to hydrophilic/phobic surfaces, environmental survival to inform decontamination efforts for affected areas and provide information about viral shedding).\n",
      "\n",
      "\n",
      "[8] supports that data from various technological products can help enrich health databases, provide more accurate, efficient, comprehensive and real-time information on outbreaks and their dispersal, thus aiding in the provision of better urban fabric risk management decisions.\n"
     ]
    },
    {
     "data": {
      "text/html": [
       "<a href=\"http://doi.org/10.3390/healthcare8010046\" target=\"_blank\">On the Coronavirus (COVID-19) Outbreak and the Smart City Network: Universal Data Sharing Standards Coupled with Artificial Intelligence (AI) to Benefit Urban Health Monitoring and Management</a>"
      ],
      "text/plain": [
       "<IPython.core.display.HTML object>"
      ]
     },
     "metadata": {},
     "output_type": "display_data"
    },
    {
     "name": "stdout",
     "output_type": "stream",
     "text": [
      "4 I anticipate international efforts in these areas over the coming decade will enable the tapping of useful new biological functions and processes, methods for controlling infection, and the deployment of symbiotic or subclinical viruses in new therapies and biotechnologies that are so crucially needed.\n"
     ]
    },
    {
     "data": {
      "text/html": [
       "<a href=\"http://dx.doi.org/10.1002/cti2.1115\" target=\"_blank\">Frontiers in antiviral therapy and immunotherapy</a>"
      ],
      "text/plain": [
       "<IPython.core.display.HTML object>"
      ]
     },
     "metadata": {},
     "output_type": "display_data"
    },
    {
     "name": "stdout",
     "output_type": "stream",
     "text": [
      "This is valid as smart cities host a rich array of technological products [6, 7] that can assist in early detection of outbreaks; either through thermal cameras or Internet of Things (IoT) sensors, and early discussions could render efforts towards better management of similar situations in case of future potential outbreaks, and to improve the health fabric of cities generally.\n"
     ]
    },
    {
     "data": {
      "text/html": [
       "<a href=\"http://doi.org/10.3390/healthcare8010046\" target=\"_blank\">On the Coronavirus (COVID-19) Outbreak and the Smart City Network: Universal Data Sharing Standards Coupled with Artificial Intelligence (AI) to Benefit Urban Health Monitoring and Management</a>"
      ],
      "text/plain": [
       "<IPython.core.display.HTML object>"
      ]
     },
     "metadata": {},
     "output_type": "display_data"
    },
    {
     "name": "stdout",
     "output_type": "stream",
     "text": [
      "2 These frame Australia's Medical Research and Innovation Priorities, which include antimicrobial resistance, global health and health security, drug repurposing and translational research infrastructure, 15 capturing many of the key elements of this CTI Special Feature.\n"
     ]
    },
    {
     "data": {
      "text/html": [
       "<a href=\"http://dx.doi.org/10.1002/cti2.1115\" target=\"_blank\">Frontiers in antiviral therapy and immunotherapy</a>"
      ],
      "text/plain": [
       "<IPython.core.display.HTML object>"
      ]
     },
     "metadata": {},
     "output_type": "display_data"
    },
    {
     "name": "stdout",
     "output_type": "stream",
     "text": [
      "Multidisciplinary research in biomedical, social, and environmental sciences is required to achieve a deeper understanding of disease transmission and develop more effective systems for emergency response.\n"
     ]
    },
    {
     "data": {
      "text/html": [
       "<a href=\"http://doi.org/10.1097/CM9.0000000000000777\" target=\"_blank\">Science in the fight against the novel coronavirus disease</a>"
      ],
      "text/plain": [
       "<IPython.core.display.HTML object>"
      ]
     },
     "metadata": {},
     "output_type": "display_data"
    },
    {
     "name": "stdout",
     "output_type": "stream",
     "text": [
      "Similarly, though substantial data and information on the disease has been shared, Wetsman [26] acknowledges that there is a lack of some vital information, like the ease of spread of the virus from person-to-person, and this is a key to containing the disease as interactions between people from different parts of the globe are still active.\n"
     ]
    },
    {
     "data": {
      "text/html": [
       "<a href=\"http://doi.org/10.3390/healthcare8010046\" target=\"_blank\">On the Coronavirus (COVID-19) Outbreak and the Smart City Network: Universal Data Sharing Standards Coupled with Artificial Intelligence (AI) to Benefit Urban Health Monitoring and Management</a>"
      ],
      "text/plain": [
       "<IPython.core.display.HTML object>"
      ]
     },
     "metadata": {},
     "output_type": "display_data"
    },
    {
     "name": "stdout",
     "output_type": "stream",
     "text": [
      "On this, the saddest part is that some global cities are less prepared to handle the challenges posed by this type of outbreak for lack of information on issues like symptoms of the virus, the protective measures to be taken, and the treatment procedures that an infected person should be processed through, amongst other issues.\n"
     ]
    },
    {
     "data": {
      "text/html": [
       "<a href=\"http://doi.org/10.3390/healthcare8010046\" target=\"_blank\">On the Coronavirus (COVID-19) Outbreak and the Smart City Network: Universal Data Sharing Standards Coupled with Artificial Intelligence (AI) to Benefit Urban Health Monitoring and Management</a>"
      ],
      "text/plain": [
       "<IPython.core.display.HTML object>"
      ]
     },
     "metadata": {},
     "output_type": "display_data"
    },
    {
     "name": "stdout",
     "output_type": "stream",
     "text": [
      "We must also take full advantage of existing knowledge and experience to improve the diagnosis, treatment, prevention, and control of the disease and accelerate the development of drugs and vaccines to save lives.\n"
     ]
    },
    {
     "data": {
      "text/html": [
       "<a href=\"http://doi.org/10.1097/CM9.0000000000000777\" target=\"_blank\">Science in the fight against the novel coronavirus disease</a>"
      ],
      "text/plain": [
       "<IPython.core.display.HTML object>"
      ]
     },
     "metadata": {},
     "output_type": "display_data"
    },
    {
     "name": "stdout",
     "output_type": "stream",
     "text": [
      "[33] hail these devices for their role in transforming the health care sector especially by allowing for Connected Health (CH) care, where data collected from them can be analyzed and provide insightful information on the health scenario in any given area.\n"
     ]
    },
    {
     "data": {
      "text/html": [
       "<a href=\"http://doi.org/10.3390/healthcare8010046\" target=\"_blank\">On the Coronavirus (COVID-19) Outbreak and the Smart City Network: Universal Data Sharing Standards Coupled with Artificial Intelligence (AI) to Benefit Urban Health Monitoring and Management</a>"
      ],
      "text/plain": [
       "<IPython.core.display.HTML object>"
      ]
     },
     "metadata": {},
     "output_type": "display_data"
    },
    {
     "name": "stdout",
     "output_type": "stream",
     "text": [
      "Such data-sharing truth is emphasized in situations like the recent case of Coronavirus outbreak threatening the global health environment, facilitated by air transportation.\n"
     ]
    },
    {
     "data": {
      "text/html": [
       "<a href=\"http://doi.org/10.3390/healthcare8010046\" target=\"_blank\">On the Coronavirus (COVID-19) Outbreak and the Smart City Network: Universal Data Sharing Standards Coupled with Artificial Intelligence (AI) to Benefit Urban Health Monitoring and Management</a>"
      ],
      "text/plain": [
       "<IPython.core.display.HTML object>"
      ]
     },
     "metadata": {},
     "output_type": "display_data"
    },
    {
     "name": "stdout",
     "output_type": "stream",
     "text": [
      "It is therefore an urgent priority for local and international health and wildlife regulatory authorities to structure and implement robust control mechanisms that effectively reduce human exposure to wild game meat and their products.\n"
     ]
    },
    {
     "data": {
      "text/html": [
       "<a href=\"http://doi.org/10.1097/CM9.0000000000000760\" target=\"_blank\">no title</a>"
      ],
      "text/plain": [
       "<IPython.core.display.HTML object>"
      ]
     },
     "metadata": {},
     "output_type": "display_data"
    },
    {
     "name": "stdout",
     "output_type": "stream",
     "text": [
      "[36] and Allam [37] , it would be possible to facilitate early detection, achieve better diagnosis and provide better urban management decisions for increased efficiency for virus containment.\n"
     ]
    },
    {
     "data": {
      "text/html": [
       "<a href=\"http://doi.org/10.3390/healthcare8010046\" target=\"_blank\">On the Coronavirus (COVID-19) Outbreak and the Smart City Network: Universal Data Sharing Standards Coupled with Artificial Intelligence (AI) to Benefit Urban Health Monitoring and Management</a>"
      ],
      "text/plain": [
       "<IPython.core.display.HTML object>"
      ]
     },
     "metadata": {},
     "output_type": "display_data"
    },
    {
     "name": "stdout",
     "output_type": "stream",
     "text": [
      "However, these exact processes ultimately restrict viral infectivity by strongly limiting virus genome sizes and their incorporation of new information.\n"
     ]
    },
    {
     "data": {
      "text/html": [
       "<a href=\"http://dx.doi.org/10.1002/cti2.1115\" target=\"_blank\">Frontiers in antiviral therapy and immunotherapy</a>"
      ],
      "text/plain": [
       "<IPython.core.display.HTML object>"
      ]
     },
     "metadata": {},
     "output_type": "display_data"
    },
    {
     "name": "stdout",
     "output_type": "stream",
     "text": [
      "While the significance of such data in advancing efficiency, productivity and processes in different sectors is being lauded, there are criticisms arising as to the nature of data collection, storage, management and accessibility by only a small group of users.\n"
     ]
    },
    {
     "data": {
      "text/html": [
       "<a href=\"http://doi.org/10.3390/healthcare8010046\" target=\"_blank\">On the Coronavirus (COVID-19) Outbreak and the Smart City Network: Universal Data Sharing Standards Coupled with Artificial Intelligence (AI) to Benefit Urban Health Monitoring and Management</a>"
      ],
      "text/plain": [
       "<IPython.core.display.HTML object>"
      ]
     },
     "metadata": {},
     "output_type": "display_data"
    },
    {
     "name": "stdout",
     "output_type": "stream",
     "text": [
      "The sharing of data has also been quicker, as immediately after the virus' genetic sequence was discovered, Chinese scientists were able to share the information with the WHO, thus helping in its identification and enabling the auctioning of precautionary measures in other countries.\n"
     ]
    },
    {
     "data": {
      "text/html": [
       "<a href=\"http://doi.org/10.3390/healthcare8010046\" target=\"_blank\">On the Coronavirus (COVID-19) Outbreak and the Smart City Network: Universal Data Sharing Standards Coupled with Artificial Intelligence (AI) to Benefit Urban Health Monitoring and Management</a>"
      ],
      "text/plain": [
       "<IPython.core.display.HTML object>"
      ]
     },
     "metadata": {},
     "output_type": "display_data"
    },
    {
     "name": "stdout",
     "output_type": "stream",
     "text": [
      "For the effective control of the spread of a newly identified virus, we must first understand its infection and pathogenicity patterns, as quickly and as thoroughly as possible, to provide insights into the outbreak and develop targeted prevention and control strategies.\n"
     ]
    },
    {
     "data": {
      "text/html": [
       "<a href=\"http://doi.org/10.1097/CM9.0000000000000777\" target=\"_blank\">Science in the fight against the novel coronavirus disease</a>"
      ],
      "text/plain": [
       "<IPython.core.display.HTML object>"
      ]
     },
     "metadata": {},
     "output_type": "display_data"
    },
    {
     "name": "stdout",
     "output_type": "stream",
     "text": [
      "Though these are not specifically fashioned to track the present case of virus outbreak, they are able to track other related parameters like heartbeat, blood pressure, body temperature and others variables, that when analyzed can offer valuable insights.\n"
     ]
    },
    {
     "data": {
      "text/html": [
       "<a href=\"http://doi.org/10.3390/healthcare8010046\" target=\"_blank\">On the Coronavirus (COVID-19) Outbreak and the Smart City Network: Universal Data Sharing Standards Coupled with Artificial Intelligence (AI) to Benefit Urban Health Monitoring and Management</a>"
      ],
      "text/plain": [
       "<IPython.core.display.HTML object>"
      ]
     },
     "metadata": {},
     "output_type": "display_data"
    },
    {
     "name": "stdout",
     "output_type": "stream",
     "text": [
      "While thermal cameras are not sufficient on their own for the detection of pandemics -like the case of the COVID-19, the integration of such products with artificial intelligence (AI) can provide added benefits.\n"
     ]
    },
    {
     "data": {
      "text/html": [
       "<a href=\"http://doi.org/10.3390/healthcare8010046\" target=\"_blank\">On the Coronavirus (COVID-19) Outbreak and the Smart City Network: Universal Data Sharing Standards Coupled with Artificial Intelligence (AI) to Benefit Urban Health Monitoring and Management</a>"
      ],
      "text/plain": [
       "<IPython.core.display.HTML object>"
      ]
     },
     "metadata": {},
     "output_type": "display_data"
    },
    {
     "name": "stdout",
     "output_type": "stream",
     "text": [
      "Despite recent advances in the therapeutic control of immune function and viral infection, current therapies are often challenging to develop, expensive to deploy and readily select for resistance-conferring mutants.\n"
     ]
    },
    {
     "data": {
      "text/html": [
       "<a href=\"http://dx.doi.org/10.1002/cti2.1115\" target=\"_blank\">Frontiers in antiviral therapy and immunotherapy</a>"
      ],
      "text/plain": [
       "<IPython.core.display.HTML object>"
      ]
     },
     "metadata": {},
     "output_type": "display_data"
    },
    {
     "name": "stdout",
     "output_type": "stream",
     "text": [
      "7 They also discuss their recent work revealing how two IFN-cinducible factors exhibit broad-spectrum inhibition of IAV, measles (MV), zika (ZikV) and HIV by suppressing furin activity.\n"
     ]
    },
    {
     "data": {
      "text/html": [
       "<a href=\"http://dx.doi.org/10.1002/cti2.1115\" target=\"_blank\">Frontiers in antiviral therapy and immunotherapy</a>"
      ],
      "text/plain": [
       "<IPython.core.display.HTML object>"
      ]
     },
     "metadata": {},
     "output_type": "display_data"
    },
    {
     "name": "stdout",
     "output_type": "stream",
     "text": [
      "Nakagawa and colleagues here report on their latest experiments using this system, further improving its performance for use in resource-poor contexts for meningitis diagnoses.\n"
     ]
    },
    {
     "data": {
      "text/html": [
       "<a href=\"http://dx.doi.org/10.1002/cti2.1115\" target=\"_blank\">Frontiers in antiviral therapy and immunotherapy</a>"
      ],
      "text/plain": [
       "<IPython.core.display.HTML object>"
      ]
     },
     "metadata": {},
     "output_type": "display_data"
    },
    {
     "name": "stdout",
     "output_type": "stream",
     "text": [
      "The spread of infectious diseases is affected not only by the biological characteristics of the pathogen but also by various other factors such as politics, culture, economy, and the environment.\n"
     ]
    },
    {
     "data": {
      "text/html": [
       "<a href=\"http://doi.org/10.1097/CM9.0000000000000777\" target=\"_blank\">Science in the fight against the novel coronavirus disease</a>"
      ],
      "text/plain": [
       "<IPython.core.display.HTML object>"
      ]
     },
     "metadata": {},
     "output_type": "display_data"
    },
    {
     "name": "stdout",
     "output_type": "stream",
     "text": [
      "This is possible by ensuring collaborative, proactive measures to control outbreak spread and thus, human movements.\n"
     ]
    },
    {
     "data": {
      "text/html": [
       "<a href=\"http://doi.org/10.3390/healthcare8010046\" target=\"_blank\">On the Coronavirus (COVID-19) Outbreak and the Smart City Network: Universal Data Sharing Standards Coupled with Artificial Intelligence (AI) to Benefit Urban Health Monitoring and Management</a>"
      ],
      "text/plain": [
       "<IPython.core.display.HTML object>"
      ]
     },
     "metadata": {},
     "output_type": "display_data"
    },
    {
     "name": "stdout",
     "output_type": "stream",
     "text": [
      "Latest technological tools have also allowed for the receipt of information in realtime, in contrast to traditional epidemiological approaches that would have required months to identify the outbreak type [25] .\n"
     ]
    },
    {
     "data": {
      "text/html": [
       "<a href=\"http://doi.org/10.3390/healthcare8010046\" target=\"_blank\">On the Coronavirus (COVID-19) Outbreak and the Smart City Network: Universal Data Sharing Standards Coupled with Artificial Intelligence (AI) to Benefit Urban Health Monitoring and Management</a>"
      ],
      "text/plain": [
       "<IPython.core.display.HTML object>"
      ]
     },
     "metadata": {},
     "output_type": "display_data"
    },
    {
     "name": "stdout",
     "output_type": "stream",
     "text": [
      "Through this platform, scientists from other regions were observed to gain access to information and are, subsequently, able to act in a much faster capacity; like in the case of scientists from the Virus Identification Laboratory based at Doherty Institute, Australia, who managed to grow a similar virus in the laboratory after accessing the data shared by the Chinese scientists [5] .\n"
     ]
    },
    {
     "data": {
      "text/html": [
       "<a href=\"http://doi.org/10.3390/healthcare8010046\" target=\"_blank\">On the Coronavirus (COVID-19) Outbreak and the Smart City Network: Universal Data Sharing Standards Coupled with Artificial Intelligence (AI) to Benefit Urban Health Monitoring and Management</a>"
      ],
      "text/plain": [
       "<IPython.core.display.HTML object>"
      ]
     },
     "metadata": {},
     "output_type": "display_data"
    },
    {
     "name": "stdout",
     "output_type": "stream",
     "text": [
      "Beyond the aspect of pandemic preparedness and response, the case of COVID-19 virus and its spread provide a fascinating case study for the thematics of urban health.\n"
     ]
    },
    {
     "data": {
      "text/html": [
       "<a href=\"http://doi.org/10.3390/healthcare8010046\" target=\"_blank\">On the Coronavirus (COVID-19) Outbreak and the Smart City Network: Universal Data Sharing Standards Coupled with Artificial Intelligence (AI) to Benefit Urban Health Monitoring and Management</a>"
      ],
      "text/plain": [
       "<IPython.core.display.HTML object>"
      ]
     },
     "metadata": {},
     "output_type": "display_data"
    },
    {
     "name": "stdout",
     "output_type": "stream",
     "text": [
      "Such could lead to an even earlier detection scenario of future virus outbreaks, and in the better curative management of the same, without minimal compromise on urban functions and on an urban economy.\n"
     ]
    },
    {
     "data": {
      "text/html": [
       "<a href=\"http://doi.org/10.3390/healthcare8010046\" target=\"_blank\">On the Coronavirus (COVID-19) Outbreak and the Smart City Network: Universal Data Sharing Standards Coupled with Artificial Intelligence (AI) to Benefit Urban Health Monitoring and Management</a>"
      ],
      "text/plain": [
       "<IPython.core.display.HTML object>"
      ]
     },
     "metadata": {},
     "output_type": "display_data"
    },
    {
     "name": "stdout",
     "output_type": "stream",
     "text": [
      "Altogether, there exist significant differences in transmission, pathogenesis, clinical treatment, and vaccine development between these two viruses.\n"
     ]
    },
    {
     "data": {
      "text/html": [
       "<a href=\"http://doi.org/10.1097/CM9.0000000000000787\" target=\"_blank\">no title</a>"
      ],
      "text/plain": [
       "<IPython.core.display.HTML object>"
      ]
     },
     "metadata": {},
     "output_type": "display_data"
    },
    {
     "name": "stdout",
     "output_type": "stream",
     "text": [
      "However, while the potential for the data market is understood, such issues like privacy of information, data protection and sharing, and obligatory requirements of healthcare management and monitoring, among others, are critical.\n"
     ]
    },
    {
     "data": {
      "text/html": [
       "<a href=\"http://doi.org/10.3390/healthcare8010046\" target=\"_blank\">On the Coronavirus (COVID-19) Outbreak and the Smart City Network: Universal Data Sharing Standards Coupled with Artificial Intelligence (AI) to Benefit Urban Health Monitoring and Management</a>"
      ],
      "text/plain": [
       "<IPython.core.display.HTML object>"
      ]
     },
     "metadata": {},
     "output_type": "display_data"
    },
    {
     "name": "stdout",
     "output_type": "stream",
     "text": [
      "With a collaborated data sharing protocol, it would be possible to have a larger dataset resulting in increased processing capabilities especially with technologies that are powered by artificial intelligence (AI) tools.\n"
     ]
    },
    {
     "data": {
      "text/html": [
       "<a href=\"http://doi.org/10.3390/healthcare8010046\" target=\"_blank\">On the Coronavirus (COVID-19) Outbreak and the Smart City Network: Universal Data Sharing Standards Coupled with Artificial Intelligence (AI) to Benefit Urban Health Monitoring and Management</a>"
      ],
      "text/plain": [
       "<IPython.core.display.HTML object>"
      ]
     },
     "metadata": {},
     "output_type": "display_data"
    }
   ],
   "source": [
    "top_n_similar_sentences_LDA_glove_cosine(4, 5, 30)"
   ]
  },
  {
   "cell_type": "markdown",
   "metadata": {},
   "source": [
    "Question 5: "
   ]
  },
  {
   "cell_type": "code",
   "execution_count": 139,
   "metadata": {
    "ExecuteTime": {
     "end_time": "2020-04-25T18:15:30.070236Z",
     "start_time": "2020-04-25T18:15:29.900682Z"
    }
   },
   "outputs": [
    {
     "name": "stdout",
     "output_type": "stream",
     "text": [
      "QUESTION #5: Persistence and stability on a multitude of substrates and sources (e.g., nasal discharge, sputum, urine, fecal matter, blood).\n",
      "\n",
      "\n"
     ]
    },
    {
     "data": {
      "text/plain": [
       "['A liquid extract of each fecal sample (1:5 dilution) was used for NMH analysis and fecal NMH concentrations were back-calculated for the wet weight of the fecal samples and expressed in ng/g feces.',\n",
       " 'The presence of surrounding organic material (e.g., blood, saliva, mucus, etc.)',\n",
       " 'Viral RNAs could be found in nasal discharge, sputum, and sometimes blood or feces.',\n",
       " 'Viral RNAs could be found in nasal discharge, sputum, and sometimes blood or feces.',\n",
       " 'In particular, the concentration of PEDV nucleic acid in individual pig rectal swabs was significantly lower than oral fluid or penbased fecal samples.',\n",
       " 'Shedding in urine was not strictly associated with high blood loads (no significant correlation between blood and urine loads was observed, p S > 0.05) or blood contamination of the urine sample (data not shown).',\n",
       " 'feces, blood or tissues) and viral detection method (e.g.',\n",
       " 'A positive result from blood or pleural fluid (e.g., for meningitis, cerebrospinal fluid) samples by molecular test is of great value for pathogen identification.',\n",
       " 'On the day of admission, blood samples were analyzed for complete blood count (CBC) with bacterial culture, blood gas analysis with electrolytes, and C-reactive proteins.',\n",
       " 'Viral load is a measure of the number of viral particles present in an organism or bodily fluid, e.g., the mass/volume of bat faeces, urine, saliva or bushmeat.',\n",
       " 'Inhibitors could be detected for all types of samples, but with highly variable rates (analysis performed for series including a minimum of 10 samples): less than 10% in the case of pleural effusions and sputum samples, genital and pharynx swabs, lymph nodes and placentas; 10% to 30% for EDTA whole blood, white blood cells, sera, biopsies, pericardial and peritoneal effusions, bronchial aspiration, CSF, amniotic fluids, others swabs, urine, aqueous humor and culture cells; 30% to 50% for plasma, BAL and stools; more than 50% for heparinized plasma and bone marrow.',\n",
       " 'Blood analyses, including blood counts, renal function, electrolytes, CRP levels, and arterial gases, were performed in all exacerbations, and a spontaneous sputum sample was obtained before the administration of antibiotics.',\n",
       " 'After adjusting for baseline characteristics, the proportions of patients for whom full blood count, electrolyte/urea/creatinine levels, liver function, or C-reactive protein were assessed were similar, as were the proportions for urine microscopy, culture and sensitivity tests.',\n",
       " 'No differences were found between pen fecal samples and oral fluid samples over the monitoring period, except at 55 DPE when 6 of 6 oral fluid and 1 of 6 pen fecal samples were positive (p = 0.015).',\n",
       " 'Some other continuous variables with respect to pathogenesis of diarrhea such as fecal consistency, number of bacteria or viral particle excreted per g of feces, differences in the body weight gain were not included in the meta-analysis.',\n",
       " 'Indeed, the presence of viral vectors in organs might be indicative of potential shedding which corresponds to the dissemination of viral vector in any form into the environment via excreta (urine, faeces, sweat, saliva, nasopharyngal fluids), blood and semen from the treated patient.',\n",
       " 'Nanosensors have been used as invasive measurement to monitor important physiological variables, such as blood gases, ions, metabolites, blood pressure, and blood flow [235] .',\n",
       " 'For swab samples that were also assessed by PCR in blood (n = 15 for saliva, n = 28 for feces), both corresponding positive saliva samples were positive in blood; most positive fecal samples were also PCR positive in blood, although one fecal-positive sample was PCR negative in blood (S4 Fig).',\n",
       " 'In order to put the correct diagnosis, biological investigations (blood cell identification, ESR, fibrinogen, blood glucose, C-reactive protein, urine analysis, blood cultures, serum urea and creatinine, urine culture, exudate lingual for yeast, etc.)',\n",
       " 'Total RNA was extracted from 300 μL of swab suspension, whole blood, fecal suspension, tissue homogenate and body effusion using Trizol.',\n",
       " 'Studies were included if they involved direct amplification and detection of genetic material from one of six representative sample types: blood, dried blood spot, serum and plasma, saliva and sputum, swabs, urine, and stool.',\n",
       " 'To detect the possible blood content in the fecal samples, an occult blood test was performed in all fecal specimens as described in Materials and Methods section.',\n",
       " 'For the other types of biological samples, reduced positive frequency rates were found in blood lymphocytes (38%, 95% CI: 29-48), blood (37%, 95% CI: 24-50 (molecular assays)) and nasal fluids (33%, 95% CI: 0-81) ( Fig  4A) .',\n",
       " 'Bacterial infections were confirmed by positive culture results in various samples from each patient (i.e., blood, urine, or cerebrospinal fluid).',\n",
       " 'The present case report demonstrated that C. difficile antigen and toxin A&B genes and proteins turned into negative, and stool consistency and frequency and faecal blood and mucus became normal after oral FMT in a dog with large bowel diarrhoea.',\n",
       " 'As secondary outcomes, we compared ordering of typical biochemistry and haematology tests (full blood count; electrolyte, urea, creatinine levels; liver function test; blood gas analysis; C-reactive protein level) and microbiology tests (blood culture; urine microscopy, culture and sensitivity analysis; sputum culture; respiratory bacteria and virus serology) during the two study periods.',\n",
       " 'Blood was collected for individual measurement of blood ammonia levels.',\n",
       " 'Similarly, the downregulation of SLC5A1 in fecal RNA can be partially related to the time of increased inflammatory response observed in blood biomarkers and fecal score.',\n",
       " 'Clinical samples, such as blood, urine, stools, and sputum, contain inhibitors that can interfere with PCR, causing amplification failure and increasing the false-negative results.',\n",
       " 'Detection of ZIKV RNA can be achieved in several sample types derived from infected individuals including blood-derived samples (whole blood, plasma, serum), other body fluids (semen, urine, saliva, vaginal secretions), and cytological specimens [43, [78] [79] [80] .']"
      ]
     },
     "execution_count": 139,
     "metadata": {},
     "output_type": "execute_result"
    }
   ],
   "source": [
    "top_n_similar_sentences_glove_cosine(5,30)"
   ]
  },
  {
   "cell_type": "code",
   "execution_count": 161,
   "metadata": {
    "ExecuteTime": {
     "end_time": "2020-04-25T19:42:11.866010Z",
     "start_time": "2020-04-25T19:42:06.545685Z"
    },
    "scrolled": false
   },
   "outputs": [
    {
     "name": "stdout",
     "output_type": "stream",
     "text": [
      "QUESTION #5: Persistence and stability on a multitude of substrates and sources (e.g., nasal discharge, sputum, urine, fecal matter, blood).\n",
      "\n",
      "\n",
      "In these traditional methods, the samples need pre-lysis in an appropriate buffer to release nucleic acids from viral particles before binding to the column membrane and multiple centrifugation steps are required to enable binding, washing and elution of extracted nucleic acids.\n"
     ]
    },
    {
     "data": {
      "text/html": [
       "<a href=\"http://doi.org/10.1101/2020.02.22.961268\" target=\"_blank\">A simple magnetic nanoparticles-based viral RNA extraction method for efficient detection of SARS-CoV-2</a>"
      ],
      "text/plain": [
       "<IPython.core.display.HTML object>"
      ]
     },
     "metadata": {},
     "output_type": "display_data"
    },
    {
     "name": "stdout",
     "output_type": "stream",
     "text": [
      "Among other goals for this work, we plan to evaluate: (1) sensitivity of the SARS-CoV-2 assay against clinical isolates and patient samples-including sputum, throat, and nasal swabs-some of which may be challenging sample types to test; (2) specificity at both the species and subspecies levels against highly related viruses.\n"
     ]
    },
    {
     "data": {
      "text/html": [
       "<a href=\"http://doi.org/10.1101/2020.02.26.967026\" target=\"_blank\">CRISPR-based surveillance for COVID-19 using genomically-comprehensive machine learning design</a>"
      ],
      "text/plain": [
       "<IPython.core.display.HTML object>"
      ]
     },
     "metadata": {},
     "output_type": "display_data"
    },
    {
     "name": "stdout",
     "output_type": "stream",
     "text": [
      "By following a simple lysis/binding-washing-elution protocol shown in Scheme2, 10 5 copies of SARS-CoV-2 pseudovirus in 200 μL serum samples were extracted and subject to RT-PCR analysis.\n"
     ]
    },
    {
     "data": {
      "text/html": [
       "<a href=\"http://doi.org/10.1101/2020.02.22.961268\" target=\"_blank\">A simple magnetic nanoparticles-based viral RNA extraction method for efficient detection of SARS-CoV-2</a>"
      ],
      "text/plain": [
       "<IPython.core.display.HTML object>"
      ]
     },
     "metadata": {},
     "output_type": "display_data"
    },
    {
     "name": "stdout",
     "output_type": "stream",
     "text": [
      "Three types of aerosol samples were collected: 1) Aerosol samples of total suspended particles (TSP) with no upper size limit to quantify RNA concentration of SARS-CoV-2 aerosol; 2) Aerodynamic size segregated aerosol samples to determine the size distribution of airborne SARS-CoV-2; 3) Aerosol deposition samples to determine the deposition rate of airborne SARS-CoV-2.\n"
     ]
    },
    {
     "data": {
      "text/html": [
       "<a href=\"http://doi.org/10.1101/2020.03.08.982637\" target=\"_blank\">Aerodynamic Characteristics and RNA Concentration of SARS-CoV-2 Aerosol in Wuhan Hospitals during COVID-19 Outbreak</a>"
      ],
      "text/plain": [
       "<IPython.core.display.HTML object>"
      ]
     },
     "metadata": {},
     "output_type": "display_data"
    },
    {
     "name": "stdout",
     "output_type": "stream",
     "text": [
      "This result suggests that our pcMNPs-based viral RNA extraction protocol not only exhibits nearly 100% RNA extraction efficiency in serum samples, but also provides high-purity products without PCR inhibitors.\n"
     ]
    },
    {
     "data": {
      "text/html": [
       "<a href=\"http://doi.org/10.1101/2020.02.22.961268\" target=\"_blank\">A simple magnetic nanoparticles-based viral RNA extraction method for efficient detection of SARS-CoV-2</a>"
      ],
      "text/plain": [
       "<IPython.core.display.HTML object>"
      ]
     },
     "metadata": {},
     "output_type": "display_data"
    },
    {
     "name": "stdout",
     "output_type": "stream",
     "text": [
      "11 Our finding has confirmed the aerosol transmission as an important pathway for surface contamination.\n"
     ]
    },
    {
     "data": {
      "text/html": [
       "<a href=\"http://doi.org/10.1101/2020.03.08.982637\" target=\"_blank\">Aerodynamic Characteristics and RNA Concentration of SARS-CoV-2 Aerosol in Wuhan Hospitals during COVID-19 Outbreak</a>"
      ],
      "text/plain": [
       "<IPython.core.display.HTML object>"
      ]
     },
     "metadata": {},
     "output_type": "display_data"
    },
    {
     "name": "stdout",
     "output_type": "stream",
     "text": [
      "The measurement of the fragment ions (MS2) has a higher specificity and lower level of false positives and is the method of choice in clinical diagnostics.\n"
     ]
    },
    {
     "data": {
      "text/html": [
       "<a href=\"http://doi.org/10.1101/2020.03.08.980383\" target=\"_blank\">In silico approach to accelerate the development of mass spectrometry-based proteomics methods for detection of viral proteins: Application to COVID-19</a>"
      ],
      "text/plain": [
       "<IPython.core.display.HTML object>"
      ]
     },
     "metadata": {},
     "output_type": "display_data"
    },
    {
     "name": "stdout",
     "output_type": "stream",
     "text": [
      "Our findings add support to a hypothesis that virus-laden aerosol deposition may play a role in surface contamination and subsequent contact by susceptible people resulting in human infection.\n"
     ]
    },
    {
     "data": {
      "text/html": [
       "<a href=\"http://doi.org/10.1101/2020.03.08.982637\" target=\"_blank\">Aerodynamic Characteristics and RNA Concentration of SARS-CoV-2 Aerosol in Wuhan Hospitals during COVID-19 Outbreak</a>"
      ],
      "text/plain": [
       "<IPython.core.display.HTML object>"
      ]
     },
     "metadata": {},
     "output_type": "display_data"
    },
    {
     "name": "stdout",
     "output_type": "stream",
     "text": [
      "This may come from either the patient's breath or the aerosolization of the virus-laden aerosol from patient's faeces or urine during use.\n"
     ]
    },
    {
     "data": {
      "text/html": [
       "<a href=\"http://doi.org/10.1101/2020.03.08.982637\" target=\"_blank\">Aerodynamic Characteristics and RNA Concentration of SARS-CoV-2 Aerosol in Wuhan Hospitals during COVID-19 Outbreak</a>"
      ],
      "text/plain": [
       "<IPython.core.display.HTML object>"
      ]
     },
     "metadata": {},
     "output_type": "display_data"
    },
    {
     "name": "stdout",
     "output_type": "stream",
     "text": [
      "The much longer integration time of 7 days for the deposition sample has contributed to the accumulation of virus sediment.\n"
     ]
    },
    {
     "data": {
      "text/html": [
       "<a href=\"http://doi.org/10.1101/2020.03.08.982637\" target=\"_blank\">Aerodynamic Characteristics and RNA Concentration of SARS-CoV-2 Aerosol in Wuhan Hospitals during COVID-19 Outbreak</a>"
      ],
      "text/plain": [
       "<IPython.core.display.HTML object>"
      ]
     },
     "metadata": {},
     "output_type": "display_data"
    },
    {
     "name": "stdout",
     "output_type": "stream",
     "text": [
      "In these experiments, the serum sample without pseudoviruses was used as a negative control, while the PCR reaction mixture directly spiked with 10 5 copies of pseudoviruses was regarded as a positive control.\n"
     ]
    },
    {
     "data": {
      "text/html": [
       "<a href=\"http://doi.org/10.1101/2020.02.22.961268\" target=\"_blank\">A simple magnetic nanoparticles-based viral RNA extraction method for efficient detection of SARS-CoV-2</a>"
      ],
      "text/plain": [
       "<IPython.core.display.HTML object>"
      ]
     },
     "metadata": {},
     "output_type": "display_data"
    },
    {
     "name": "stdout",
     "output_type": "stream",
     "text": [
      "In RNA extraction, one lysis/binding step and one washing step are required for nucleic acids extraction and purification from complex samples.\n"
     ]
    },
    {
     "data": {
      "text/html": [
       "<a href=\"http://doi.org/10.1101/2020.02.22.961268\" target=\"_blank\">A simple magnetic nanoparticles-based viral RNA extraction method for efficient detection of SARS-CoV-2</a>"
      ],
      "text/plain": [
       "<IPython.core.display.HTML object>"
      ]
     },
     "metadata": {},
     "output_type": "display_data"
    },
    {
     "name": "stdout",
     "output_type": "stream",
     "text": [
      "For the latter, we intend to use a mixture of synthetic targets reflecting different viral sequences, and patient samples or viral seedstocks when available.\n"
     ]
    },
    {
     "data": {
      "text/html": [
       "<a href=\"http://doi.org/10.1101/2020.02.26.967026\" target=\"_blank\">CRISPR-based surveillance for COVID-19 using genomically-comprehensive machine learning design</a>"
      ],
      "text/plain": [
       "<IPython.core.display.HTML object>"
      ]
     },
     "metadata": {},
     "output_type": "display_data"
    },
    {
     "name": "stdout",
     "output_type": "stream",
     "text": [
      "[16] [17] [18] Proteolytic digestion of a protein mixture increases the total number of molecules present and thereby increases the relative background noise of the sample.\n"
     ]
    },
    {
     "data": {
      "text/html": [
       "<a href=\"http://doi.org/10.1101/2020.03.08.980383\" target=\"_blank\">In silico approach to accelerate the development of mass spectrometry-based proteomics methods for detection of viral proteins: Application to COVID-19</a>"
      ],
      "text/plain": [
       "<IPython.core.display.HTML object>"
      ]
     },
     "metadata": {},
     "output_type": "display_data"
    },
    {
     "name": "stdout",
     "output_type": "stream",
     "text": [
      "The aerosol deposition sample collected from the Renmin Hospital ICU room had raw counts of SARS-CoV-2 RNA significantly above the detection limit as shown in Table S1 , although the TSP aerosol sample concentration inside this ICU room was below detection limit during the 3 hour sampling period.\n"
     ]
    },
    {
     "data": {
      "text/html": [
       "<a href=\"http://doi.org/10.1101/2020.03.08.982637\" target=\"_blank\">Aerodynamic Characteristics and RNA Concentration of SARS-CoV-2 Aerosol in Wuhan Hospitals during COVID-19 Outbreak</a>"
      ],
      "text/plain": [
       "<IPython.core.display.HTML object>"
      ]
     },
     "metadata": {},
     "output_type": "display_data"
    },
    {
     "name": "stdout",
     "output_type": "stream",
     "text": [
      "After fast washing steps to eliminate trace impurities, purified nucleic acids can be further released from the surface of MNPs by elution buffer with altered ionic strength.\n"
     ]
    },
    {
     "data": {
      "text/html": [
       "<a href=\"http://doi.org/10.1101/2020.02.22.961268\" target=\"_blank\">A simple magnetic nanoparticles-based viral RNA extraction method for efficient detection of SARS-CoV-2</a>"
      ],
      "text/plain": [
       "<IPython.core.display.HTML object>"
      ]
     },
     "metadata": {},
     "output_type": "display_data"
    },
    {
     "name": "stdout",
     "output_type": "stream",
     "text": [
      "The concentration reported by the procedure equals copies of template per microliter of the final 1x ddPCR reaction, which was normalized to copies m -3 in all the results, and hence the virus or viral RNA concentration in aerosol is expressed in copies m -3 hereafter.\n"
     ]
    },
    {
     "data": {
      "text/html": [
       "<a href=\"http://doi.org/10.1101/2020.03.08.982637\" target=\"_blank\">Aerodynamic Characteristics and RNA Concentration of SARS-CoV-2 Aerosol in Wuhan Hospitals during COVID-19 Outbreak</a>"
      ],
      "text/plain": [
       "<IPython.core.display.HTML object>"
      ]
     },
     "metadata": {},
     "output_type": "display_data"
    },
    {
     "name": "stdout",
     "output_type": "stream",
     "text": [
      "A high throughput automated RNA extraction method was adapted using a commercial NP968-C automatic nucleic acid extraction system (TIANLONG, Xi'an, China), which could simultaneously process up to 32 parallel samples in 96-well sample plates.\n"
     ]
    },
    {
     "data": {
      "text/html": [
       "<a href=\"http://doi.org/10.1101/2020.02.22.961268\" target=\"_blank\">A simple magnetic nanoparticles-based viral RNA extraction method for efficient detection of SARS-CoV-2</a>"
      ],
      "text/plain": [
       "<IPython.core.display.HTML object>"
      ]
     },
     "metadata": {},
     "output_type": "display_data"
    },
    {
     "name": "stdout",
     "output_type": "stream",
     "text": [
      "9 At present, there is little information on the characteristics of airborne SARS-CoV-2 containing aerosols, their concentration patterns and behaviour during airborne transmission due to the difficulties in sampling virus-laden aerosols and challenges in their quantification at low concentration.\n"
     ]
    },
    {
     "data": {
      "text/html": [
       "<a href=\"http://doi.org/10.1101/2020.03.08.982637\" target=\"_blank\">Aerodynamic Characteristics and RNA Concentration of SARS-CoV-2 Aerosol in Wuhan Hospitals during COVID-19 Outbreak</a>"
      ],
      "text/plain": [
       "<IPython.core.display.HTML object>"
      ]
     },
     "metadata": {},
     "output_type": "display_data"
    },
    {
     "name": "stdout",
     "output_type": "stream",
     "text": [
      "[13] [14] In the control and diagnosis towards SARS-CoV-2 currently, silica-based spin column RNA extraction methods are widely used, in which a silica membrane or glass fiber is applied to bind nucleic acids.\n"
     ]
    },
    {
     "data": {
      "text/html": [
       "<a href=\"http://doi.org/10.1101/2020.02.22.961268\" target=\"_blank\">A simple magnetic nanoparticles-based viral RNA extraction method for efficient detection of SARS-CoV-2</a>"
      ],
      "text/plain": [
       "<IPython.core.display.HTML object>"
      ]
     },
     "metadata": {},
     "output_type": "display_data"
    },
    {
     "name": "stdout",
     "output_type": "stream",
     "text": [
      "As shown in Figure4B, the amplification curve of the automated sample is very close to that of the positive control and manually performed Direct RT-PCR samples, which suggests that our pcMNPs-based method is highly suitable for the automated high throughput viral RNA extraction.\n"
     ]
    },
    {
     "data": {
      "text/html": [
       "<a href=\"http://doi.org/10.1101/2020.02.22.961268\" target=\"_blank\">A simple magnetic nanoparticles-based viral RNA extraction method for efficient detection of SARS-CoV-2</a>"
      ],
      "text/plain": [
       "<IPython.core.display.HTML object>"
      ]
     },
     "metadata": {},
     "output_type": "display_data"
    },
    {
     "name": "stdout",
     "output_type": "stream",
     "text": [
      "[11] [12] Low extraction quality, on the other hand, may contain a variety of PCR inhibitors, which gives unreliable readouts during amplification.\n"
     ]
    },
    {
     "data": {
      "text/html": [
       "<a href=\"http://doi.org/10.1101/2020.02.22.961268\" target=\"_blank\">A simple magnetic nanoparticles-based viral RNA extraction method for efficient detection of SARS-CoV-2</a>"
      ],
      "text/plain": [
       "<IPython.core.display.HTML object>"
      ]
     },
     "metadata": {},
     "output_type": "display_data"
    },
    {
     "name": "stdout",
     "output_type": "stream",
     "text": [
      "We extensively tested this assay using a synthetic RNA target and determined the limit of detection to be 10 copies/µl using both fluorescent and lateral flow detection ( Figure 1 ).\n"
     ]
    },
    {
     "data": {
      "text/html": [
       "<a href=\"http://doi.org/10.1101/2020.02.26.967026\" target=\"_blank\">CRISPR-based surveillance for COVID-19 using genomically-comprehensive machine learning design</a>"
      ],
      "text/plain": [
       "<IPython.core.display.HTML object>"
      ]
     },
     "metadata": {},
     "output_type": "display_data"
    },
    {
     "name": "stdout",
     "output_type": "stream",
     "text": [
      "In detail, 400 μL of lysis/binding buffer, 40 μg pcMNPs and 200 μL of the sample containing a specific number of pseudovirus particles was sequentially author/funder.\n"
     ]
    },
    {
     "data": {
      "text/html": [
       "<a href=\"http://doi.org/10.1101/2020.02.22.961268\" target=\"_blank\">A simple magnetic nanoparticles-based viral RNA extraction method for efficient detection of SARS-CoV-2</a>"
      ],
      "text/plain": [
       "<IPython.core.display.HTML object>"
      ]
     },
     "metadata": {},
     "output_type": "display_data"
    },
    {
     "name": "stdout",
     "output_type": "stream",
     "text": [
      "[9] [10] While RT-PCR-based methods have been widely used in COVID-19 diagnosis, their application in accurate diagnosis of viral infection and epidemic control is severely hampered by their laborious and time-consuming sample processing steps.\n"
     ]
    },
    {
     "data": {
      "text/html": [
       "<a href=\"http://doi.org/10.1101/2020.02.22.961268\" target=\"_blank\">A simple magnetic nanoparticles-based viral RNA extraction method for efficient detection of SARS-CoV-2</a>"
      ],
      "text/plain": [
       "<IPython.core.display.HTML object>"
      ]
     },
     "metadata": {},
     "output_type": "display_data"
    },
    {
     "name": "stdout",
     "output_type": "stream",
     "text": [
      "While the mass to charge (m/z) ratio of a peptide or protein (MS1) may be a specific diagnostic in some materials, the majority of LCMS methods employ tandem MS in which the peptide or protein parent ion is subjected to gas phase collision to produce fragment ions.\n"
     ]
    },
    {
     "data": {
      "text/html": [
       "<a href=\"http://doi.org/10.1101/2020.03.08.980383\" target=\"_blank\">In silico approach to accelerate the development of mass spectrometry-based proteomics methods for detection of viral proteins: Application to COVID-19</a>"
      ],
      "text/plain": [
       "<IPython.core.display.HTML object>"
      ]
     },
     "metadata": {},
     "output_type": "display_data"
    },
    {
     "name": "stdout",
     "output_type": "stream",
     "text": [
      "A very low frequency of the residues will create very large peptides, or undigested (\"intact\") proteins in some cases, that are difficult to detect and fragment.\n"
     ]
    },
    {
     "data": {
      "text/html": [
       "<a href=\"http://doi.org/10.1101/2020.03.08.980383\" target=\"_blank\">In silico approach to accelerate the development of mass spectrometry-based proteomics methods for detection of viral proteins: Application to COVID-19</a>"
      ],
      "text/plain": [
       "<IPython.core.display.HTML object>"
      ]
     },
     "metadata": {},
     "output_type": "display_data"
    },
    {
     "name": "stdout",
     "output_type": "stream",
     "text": [
      "Because no centrifugation steps are required, MNPs-based methods allow fully automated nucleic acid purification, which is highly important in current SARS-CoV-2 diagnosis.\n"
     ]
    },
    {
     "data": {
      "text/html": [
       "<a href=\"http://doi.org/10.1101/2020.02.22.961268\" target=\"_blank\">A simple magnetic nanoparticles-based viral RNA extraction method for efficient detection of SARS-CoV-2</a>"
      ],
      "text/plain": [
       "<IPython.core.display.HTML object>"
      ]
     },
     "metadata": {},
     "output_type": "display_data"
    },
    {
     "name": "stdout",
     "output_type": "stream",
     "text": [
      "Secondly, pcMNPs have excellent viral RNA binding performances, which results in 10-copy sensitivity and the high linearity over 5 logs of gradient in SARS-CoV-2 viral RNA detection using RT-PCR.\n"
     ]
    },
    {
     "data": {
      "text/html": [
       "<a href=\"http://doi.org/10.1101/2020.02.22.961268\" target=\"_blank\">A simple magnetic nanoparticles-based viral RNA extraction method for efficient detection of SARS-CoV-2</a>"
      ],
      "text/plain": [
       "<IPython.core.display.HTML object>"
      ]
     },
     "metadata": {},
     "output_type": "display_data"
    },
    {
     "name": "stdout",
     "output_type": "stream",
     "text": [
      "In DDA, the masses of all ions are observed in a relatively wide m/z range (MS1); the MS1 peptide ions meeting user-defined thresholds are subjected to fragmentation.\n"
     ]
    },
    {
     "data": {
      "text/html": [
       "<a href=\"http://doi.org/10.1101/2020.03.08.980383\" target=\"_blank\">In silico approach to accelerate the development of mass spectrometry-based proteomics methods for detection of viral proteins: Application to COVID-19</a>"
      ],
      "text/plain": [
       "<IPython.core.display.HTML object>"
      ]
     },
     "metadata": {},
     "output_type": "display_data"
    }
   ],
   "source": [
    "top_n_similar_sentences_LDA_glove_cosine(5, 5, 30)"
   ]
  },
  {
   "cell_type": "markdown",
   "metadata": {},
   "source": [
    "Question 6: "
   ]
  },
  {
   "cell_type": "code",
   "execution_count": 141,
   "metadata": {
    "ExecuteTime": {
     "end_time": "2020-04-25T18:15:35.108174Z",
     "start_time": "2020-04-25T18:15:34.953173Z"
    }
   },
   "outputs": [
    {
     "name": "stdout",
     "output_type": "stream",
     "text": [
      "QUESTION #6: Persistence of virus on surfaces of different materials (e,g., copper, stainless steel, plastic,paper, wood, metal, food, cloth, hair, skin, porcelain).\n",
      "\n",
      "\n"
     ]
    },
    {
     "data": {
      "text/plain": [
       "['Non-animal food-contact swabs were analyzed by surface type (metal garage, metal tabletop, concrete floor, and rubber boot bottoms worn during the experiment).',\n",
       " 'It can survive on plastic surfaces, stainless steel, glass slides, and paper files.',\n",
       " 'Thus, the material itself (vinyl chloride, aluminum, plastic, stainless steel) had no effect on the diminishing bacterial numbers under dry conditions.',\n",
       " 'Virus recovery from surfaces of Styrofoam, nitrile gloves, aluminum foil, Tyvek ® coverall, metal, rubber, plastic, cardboard, and cloth showed no significant differences between the materials at RT, suggesting that storage temperature had a substantial influence on virus survival.',\n",
       " 'There was a significant difference in appearance between purified HuCoV-229E exposed to stainless steel and that exposed to copper surfaces (Fig.',\n",
       " 'Virus that had been exposed to copper and brass surfaces demon- was applied to 1-cm 2 coupons of a range of brasses (A and B [early time points only]), copper nickels (C), and control metal surfaces that did not contain copper (stainless steel, zinc, and nickel).',\n",
       " 'Interactive effect of decontamination step × surface (concrete, metal, plastic, and rubber) on incidence of sample contamination with PEDV (P < 0.0018; SEM for concrete, metal, plastic and rubber = ±2.05, ±1.14, ±2.91, and ±2.39, respectively).',\n",
       " 'Wood and steel surface coatings were prepared using these NIPUs.',\n",
       " '[14] conducted a water contact angle analysis on the striped, netted, and dotted surface of coatings subject to LSTO, and revealed that coatings composed of titanium, stainless steel (AISI 316L), aluminum alloy (A16061), and tungsten carbide also exhibited superhydrophobic surfaces.',\n",
       " 'Nevertheless, viable virus was recovered at 4 h (but not later) from the silver-impregnated cloth, soft toy fabric and in trace quantities, from light switch material.',\n",
       " 'The non-animal food-contact surfaces were reported in the results text using descriptive statistics; non-animal food-contact swabs were organized by surface type (metal garage, metal tabletop, concrete floor, and rubber boot bottoms worn during the experiment) among treatments.',\n",
       " 'It is sufficient to say that the chemical is of importance in adhesives for particle board and plywood production; resins to mold a variety of plastic parts for automobiles, appliances and hardware; wrinkle-resistance in textile manufacturing; strengthening of various paper products (grocery bags, wax paper, napkins and tissues, and filter paper); specimen preservation; mildew prevention; insulation; and protective coatings.',\n",
       " 'Methods: Live cultures of Strep equi were inoculated onto various sites and equipment comprising an outdoor fence post, a piece of plain wood (indoors), the sole of a shoe, cotton overalls, inside a nasogastric tube, a dental rasp and the bottom of a wet plastic bucket.',\n",
       " 'Four mice were put into glass exposure vessels with stainless steel wire mesh lids and then placed in a closed glass exposure chamber.',\n",
       " 'The bare and salt-coated filters were fixed with carbon tape (Ted Pella, Inc., Redding, CA) to a metal, flat substrate and 3 μ L of DI water were added on the surface of the filters.',\n",
       " 'Specifically, the plastic and rubber surfaces were smoother compared to the concrete and metal surfaces.',\n",
       " 'The PEDV inoculation solution (40 μL) was applied to the center of a sample of stainless steel, aluminum, plastic, or galvanized steel.',\n",
       " 'Our results are consistent with previous studies on virus survival on glass, stainless steel, and plastic for up to 10 days [26, 27] .',\n",
       " 'The particularity of this ink lies in its absence of pigment or dye; it is the action of metal salts (iron or copper sulfate) which, added to the tannic material (the gall nut), gives the black hue, most often dark violet before aging.',\n",
       " 'Additionally, detectible PEDV seemed to persist on some animal food-contact surfaces, such as plastic and rubber conveyors, more than others such as metal.',\n",
       " 'They are also used in selfcleaning fabrics, glass and other products.',\n",
       " 'A 10% homogenate (w/v) was made in Minimum Essential Medium Eagle containing 4% fetal bovine serum (Lonza) in a Retsch Mixer Mill 400 using a 25 ml stainless steel grinding jar and a single 20mm stainless steel grinding ball (Retsch).',\n",
       " \"A variety of non-porous plastic surfaces representing objects highly likely to be touched by multiple individuals such as light switch, telephone and keyboard plastics were also tested, as well as porous and non-porous 'background' materials such as various wood surfaces, glass, Perspex/plexiglass (poly (methyl methacrylate) -a thermoplastic often used as a light or shatterresistant alternative to glass) and metals.\",\n",
       " 'The differences between the plastic and rubber vs concrete and metal surfaces could be attributed the specific characteristics of each surface type.',\n",
       " 'The four corners of the filter were painted to the aluminum stub using Flash Dry silver paint.',\n",
       " 'Briefly, mice were acclimated to a clean plastic cage (46 cm×23.5 cm×20 cm) without wood chip bedding for 30 min, and then presented with a filter paper soaked in mineral oil placed in a 35 mm polystyrene dish for 3 min.',\n",
       " 'For this, the coverslip was put on a drop (20 µl) of antibody solution that was added on a sheet of parafilm inside a humidity chamber (a glass dish in which the parafilm was placed on wet paper tissue).',\n",
       " 'A volume of 500 μl distilled water was added to the conical tube containing the swab brushes and vortexed to remove biological material from the brush.',\n",
       " \"These included fibrous materials such as the ubiquitous J-clothH (Associated Brands) widely used for cleaning, a silver impregnated fabric with known bacteriostatic properties (Toray Textiles Europe Ltd.) of the type sometimes encountered in hospital staff clothing to combat nosocomial bacterial infections, as well as fabric from a child's soft toy.\",\n",
       " 'The preparation was applied to copper and stainless steel as described in the Figure 6 legend and was removed by gentle pipetting.']"
      ]
     },
     "execution_count": 141,
     "metadata": {},
     "output_type": "execute_result"
    }
   ],
   "source": [
    "top_n_similar_sentences_glove_cosine(6,30)"
   ]
  },
  {
   "cell_type": "code",
   "execution_count": 166,
   "metadata": {
    "ExecuteTime": {
     "end_time": "2020-04-25T19:46:36.212262Z",
     "start_time": "2020-04-25T19:46:32.664258Z"
    },
    "scrolled": false
   },
   "outputs": [
    {
     "name": "stdout",
     "output_type": "stream",
     "text": [
      "QUESTION #6: Persistence of virus on surfaces of different materials (e,g., copper, stainless steel, plastic).\n",
      "\n",
      "\n",
      "RBD is shown in a space-filled model with colored surface.\n"
     ]
    },
    {
     "data": {
      "text/html": [
       "<a href=\"http://doi.org/10.1101/2020.02.16.951723\" target=\"_blank\">SARS-CoV-2 and SARS-CoV Spike-RBD Structure and Receptor Binding Comparison and Potential Implications on Neutralizing Antibody and Vaccine Development</a>"
      ],
      "text/plain": [
       "<IPython.core.display.HTML object>"
      ]
     },
     "metadata": {},
     "output_type": "display_data"
    },
    {
     "name": "stdout",
     "output_type": "stream",
     "text": [
      "Indicated proteins were coated on 96 well plates using CBS buffer over night at 4℃.\n"
     ]
    },
    {
     "data": {
      "text/html": [
       "<a href=\"http://doi.org/10.1101/2020.02.16.951723\" target=\"_blank\">SARS-CoV-2 and SARS-CoV Spike-RBD Structure and Receptor Binding Comparison and Potential Implications on Neutralizing Antibody and Vaccine Development</a>"
      ],
      "text/plain": [
       "<IPython.core.display.HTML object>"
      ]
     },
     "metadata": {},
     "output_type": "display_data"
    },
    {
     "name": "stdout",
     "output_type": "stream",
     "text": [
      "[13] [14] In the control and diagnosis towards SARS-CoV-2 currently, silica-based spin column RNA extraction methods are widely used, in which a silica membrane or glass fiber is applied to bind nucleic acids.\n"
     ]
    },
    {
     "data": {
      "text/html": [
       "<a href=\"http://doi.org/10.1101/2020.02.22.961268\" target=\"_blank\">A simple magnetic nanoparticles-based viral RNA extraction method for efficient detection of SARS-CoV-2</a>"
      ],
      "text/plain": [
       "<IPython.core.display.HTML object>"
      ]
     },
     "metadata": {},
     "output_type": "display_data"
    },
    {
     "name": "stdout",
     "output_type": "stream",
     "text": [
      "Bare magnetic nanoparticles (MNPs) were prepared based on a simple coprecipitation protocol as previously reported.\n"
     ]
    },
    {
     "data": {
      "text/html": [
       "<a href=\"http://doi.org/10.1101/2020.02.22.961268\" target=\"_blank\">A simple magnetic nanoparticles-based viral RNA extraction method for efficient detection of SARS-CoV-2</a>"
      ],
      "text/plain": [
       "<IPython.core.display.HTML object>"
      ]
     },
     "metadata": {},
     "output_type": "display_data"
    },
    {
     "name": "stdout",
     "output_type": "stream",
     "text": [
      "ACE2 is shown as gray tube model.\n"
     ]
    },
    {
     "data": {
      "text/html": [
       "<a href=\"http://doi.org/10.1101/2020.02.16.951723\" target=\"_blank\">SARS-CoV-2 and SARS-CoV Spike-RBD Structure and Receptor Binding Comparison and Potential Implications on Neutralizing Antibody and Vaccine Development</a>"
      ],
      "text/plain": [
       "<IPython.core.display.HTML object>"
      ]
     },
     "metadata": {},
     "output_type": "display_data"
    },
    {
     "name": "stdout",
     "output_type": "stream",
     "text": [
      "After centrifuge for 1 min at 12,000×g, the column was placed onto a fresh 2 mL EP collection tube, followed by adding 600 µL washing buffer and then centrifuge for 30 sec at 12,000×g.\n"
     ]
    },
    {
     "data": {
      "text/html": [
       "<a href=\"http://doi.org/10.1101/2020.02.20.958785\" target=\"_blank\">Inactivating porcine coronavirus before nuclei acid isolation with the temperature higher than 56 o C damages its genome integrity seriously</a>"
      ],
      "text/plain": [
       "<IPython.core.display.HTML object>"
      ]
     },
     "metadata": {},
     "output_type": "display_data"
    },
    {
     "name": "stdout",
     "output_type": "stream",
     "text": [
      "BSA was used for blocking at room temperature for 1h.\n"
     ]
    },
    {
     "data": {
      "text/html": [
       "<a href=\"http://doi.org/10.1101/2020.02.16.951723\" target=\"_blank\">SARS-CoV-2 and SARS-CoV Spike-RBD Structure and Receptor Binding Comparison and Potential Implications on Neutralizing Antibody and Vaccine Development</a>"
      ],
      "text/plain": [
       "<IPython.core.display.HTML object>"
      ]
     },
     "metadata": {},
     "output_type": "display_data"
    },
    {
     "name": "stdout",
     "output_type": "stream",
     "text": [
      "Data on the transmissibility of coronaviruses from contaminated surfaces to hands were not found.\n"
     ]
    },
    {
     "data": {
      "text/html": [
       "<a href=\"http://doi.org/10.1016/j.infpip.2020.100044\" target=\"_blank\">Potential role of inanimate surfaces for the spread of coronaviruses and their inactivation with disinfectant agents</a>"
      ],
      "text/plain": [
       "<IPython.core.display.HTML object>"
      ]
     },
     "metadata": {},
     "output_type": "display_data"
    },
    {
     "name": "stdout",
     "output_type": "stream",
     "text": [
      "The mixture was vortexed thoroughly and then transferred into a column placed onto a 2 mL EP collection tube.\n"
     ]
    },
    {
     "data": {
      "text/html": [
       "<a href=\"http://doi.org/10.1101/2020.02.20.958785\" target=\"_blank\">Inactivating porcine coronavirus before nuclei acid isolation with the temperature higher than 56 o C damages its genome integrity seriously</a>"
      ],
      "text/plain": [
       "<IPython.core.display.HTML object>"
      ]
     },
     "metadata": {},
     "output_type": "display_data"
    },
    {
     "name": "stdout",
     "output_type": "stream",
     "text": [
      "A high throughput automated RNA extraction method was adapted using a commercial NP968-C automatic nucleic acid extraction system (TIANLONG, Xi'an, China), which could simultaneously process up to 32 parallel samples in 96-well sample plates.\n"
     ]
    },
    {
     "data": {
      "text/html": [
       "<a href=\"http://doi.org/10.1101/2020.02.22.961268\" target=\"_blank\">A simple magnetic nanoparticles-based viral RNA extraction method for efficient detection of SARS-CoV-2</a>"
      ],
      "text/plain": [
       "<IPython.core.display.HTML object>"
      ]
     },
     "metadata": {},
     "output_type": "display_data"
    },
    {
     "name": "stdout",
     "output_type": "stream",
     "text": [
      "Once the program was finished, the 96-well sample plate was removed and the 15 μL of the eluted product was analysed using the conventional RT-PCR protocol as described above.\n"
     ]
    },
    {
     "data": {
      "text/html": [
       "<a href=\"http://doi.org/10.1101/2020.02.22.961268\" target=\"_blank\">A simple magnetic nanoparticles-based viral RNA extraction method for efficient detection of SARS-CoV-2</a>"
      ],
      "text/plain": [
       "<IPython.core.display.HTML object>"
      ]
     },
     "metadata": {},
     "output_type": "display_data"
    },
    {
     "name": "stdout",
     "output_type": "stream",
     "text": [
      "Finally, the 96-well sample plate was plugged onto the matrix and RNA extraction was performed by following an optimized program (TableS1).\n"
     ]
    },
    {
     "data": {
      "text/html": [
       "<a href=\"http://doi.org/10.1101/2020.02.22.961268\" target=\"_blank\">A simple magnetic nanoparticles-based viral RNA extraction method for efficient detection of SARS-CoV-2</a>"
      ],
      "text/plain": [
       "<IPython.core.display.HTML object>"
      ]
     },
     "metadata": {},
     "output_type": "display_data"
    },
    {
     "name": "stdout",
     "output_type": "stream",
     "text": [
      "The pseudovirus samples were obtained from Zeesan Biotech (Xiamen, China) and the standard samples were freshly prepared by step-wise dilution of pseudovirus in fetal calf serum purchased from Thermofisher (Massachusetts, USA) before nucleic acid extraction experiments.\n"
     ]
    },
    {
     "data": {
      "text/html": [
       "<a href=\"http://doi.org/10.1101/2020.02.22.961268\" target=\"_blank\">A simple magnetic nanoparticles-based viral RNA extraction method for efficient detection of SARS-CoV-2</a>"
      ],
      "text/plain": [
       "<IPython.core.display.HTML object>"
      ]
     },
     "metadata": {},
     "output_type": "display_data"
    },
    {
     "name": "stdout",
     "output_type": "stream",
     "text": [
      "Thoroughly cleaning environmental surfaces with water and detergent and applying commonly used hospital-level disinfectants (such as sodium hypochlorite) are effective and sufficient procedures.\"\n"
     ]
    },
    {
     "data": {
      "text/html": [
       "<a href=\"http://doi.org/10.1016/j.infpip.2020.100044\" target=\"_blank\">Potential role of inanimate surfaces for the spread of coronaviruses and their inactivation with disinfectant agents</a>"
      ],
      "text/plain": [
       "<IPython.core.display.HTML object>"
      ]
     },
     "metadata": {},
     "output_type": "display_data"
    },
    {
     "name": "stdout",
     "output_type": "stream",
     "text": [
      "It has been postulated that coronaviruses can be transmitted from contaminated dry surfaces including selfinoculation of mucous membranes of the nose, eyes or mouth [4, 5] .\n"
     ]
    },
    {
     "data": {
      "text/html": [
       "<a href=\"http://doi.org/10.1016/j.infpip.2020.100044\" target=\"_blank\">Potential role of inanimate surfaces for the spread of coronaviruses and their inactivation with disinfectant agents</a>"
      ],
      "text/plain": [
       "<IPython.core.display.HTML object>"
      ]
     },
     "metadata": {},
     "output_type": "display_data"
    },
    {
     "name": "stdout",
     "output_type": "stream",
     "text": [
      "200 μL of as-prepared standard samples with a known copy number of viral particles (down to 10 copies) were incubated with 400 μL lysis/binding buffer (1 M NaI, 2.5 M NaCl, 10% Triton X-100, 40% polyethylene glycol 8000, 25 mM EDTA) and 40 μg pcMNPs for 10 min at room temperature on a rotating shaker.\n"
     ]
    },
    {
     "data": {
      "text/html": [
       "<a href=\"http://doi.org/10.1101/2020.02.22.961268\" target=\"_blank\">A simple magnetic nanoparticles-based viral RNA extraction method for efficient detection of SARS-CoV-2</a>"
      ],
      "text/plain": [
       "<IPython.core.display.HTML object>"
      ]
     },
     "metadata": {},
     "output_type": "display_data"
    },
    {
     "name": "stdout",
     "output_type": "stream",
     "text": [
      "Briefly, 500 µL samples preserved in R503 was first added into a 1.5 ml EP tube containing 200 µL of absolute ethanol and 200 µL samples preserved in Hank's solution was added into a 1.5 ml EP tube containing 500 µL lysis buffer.\n"
     ]
    },
    {
     "data": {
      "text/html": [
       "<a href=\"http://doi.org/10.1101/2020.02.20.958785\" target=\"_blank\">Inactivating porcine coronavirus before nuclei acid isolation with the temperature higher than 56 o C damages its genome integrity seriously</a>"
      ],
      "text/plain": [
       "<IPython.core.display.HTML object>"
      ]
     },
     "metadata": {},
     "output_type": "display_data"
    },
    {
     "name": "stdout",
     "output_type": "stream",
     "text": [
      "The supernatant containing pseudovirus was collected after 48-72 hours and filtered through a 0.45μm filter and stored at -80℃ for longtime storage or 4℃ for short time storage.\n"
     ]
    },
    {
     "data": {
      "text/html": [
       "<a href=\"http://doi.org/10.1101/2020.02.16.951723\" target=\"_blank\">SARS-CoV-2 and SARS-CoV Spike-RBD Structure and Receptor Binding Comparison and Potential Implications on Neutralizing Antibody and Vaccine Development</a>"
      ],
      "text/plain": [
       "<IPython.core.display.HTML object>"
      ]
     },
     "metadata": {},
     "output_type": "display_data"
    },
    {
     "name": "stdout",
     "output_type": "stream",
     "text": [
      "After centrifuge for 2 min at 12,000×g, the column was then placed onto a 1.5 ml collection tube.\n"
     ]
    },
    {
     "data": {
      "text/html": [
       "<a href=\"http://doi.org/10.1101/2020.02.20.958785\" target=\"_blank\">Inactivating porcine coronavirus before nuclei acid isolation with the temperature higher than 56 o C damages its genome integrity seriously</a>"
      ],
      "text/plain": [
       "<IPython.core.display.HTML object>"
      ]
     },
     "metadata": {},
     "output_type": "display_data"
    },
    {
     "name": "stdout",
     "output_type": "stream",
     "text": [
      "293T-ACE2 cells were plated in 96-well plate at 1,0000 cells/well in 100 μ L DMEM+10% FBS.\n"
     ]
    },
    {
     "data": {
      "text/html": [
       "<a href=\"http://doi.org/10.1101/2020.02.16.951723\" target=\"_blank\">SARS-CoV-2 and SARS-CoV Spike-RBD Structure and Receptor Binding Comparison and Potential Implications on Neutralizing Antibody and Vaccine Development</a>"
      ],
      "text/plain": [
       "<IPython.core.display.HTML object>"
      ]
     },
     "metadata": {},
     "output_type": "display_data"
    },
    {
     "name": "stdout",
     "output_type": "stream",
     "text": [
      "As compared with traditional column-based nucleic acids extraction methods, our pcMNPs-based method has several advantages ( Table 2) .\n"
     ]
    },
    {
     "data": {
      "text/html": [
       "<a href=\"http://doi.org/10.1101/2020.02.22.961268\" target=\"_blank\">A simple magnetic nanoparticles-based viral RNA extraction method for efficient detection of SARS-CoV-2</a>"
      ],
      "text/plain": [
       "<IPython.core.display.HTML object>"
      ]
     },
     "metadata": {},
     "output_type": "display_data"
    },
    {
     "name": "stdout",
     "output_type": "stream",
     "text": [
      "During the extraction process, although the shaking pattern of magnetic rods was set at the most vigorous level, no breakage or leakage of pcMNPs were observed, since the eluted solution are colourless and transparent (FigureS4).\n"
     ]
    },
    {
     "data": {
      "text/html": [
       "<a href=\"http://doi.org/10.1101/2020.02.22.961268\" target=\"_blank\">A simple magnetic nanoparticles-based viral RNA extraction method for efficient detection of SARS-CoV-2</a>"
      ],
      "text/plain": [
       "<IPython.core.display.HTML object>"
      ]
     },
     "metadata": {},
     "output_type": "display_data"
    },
    {
     "name": "stdout",
     "output_type": "stream",
     "text": [
      "On the other hand, significant portions of RBD (marked in pink) outside the RBM motif are highly conserved.\n"
     ]
    },
    {
     "data": {
      "text/html": [
       "<a href=\"http://doi.org/10.1101/2020.02.16.951723\" target=\"_blank\">SARS-CoV-2 and SARS-CoV Spike-RBD Structure and Receptor Binding Comparison and Potential Implications on Neutralizing Antibody and Vaccine Development</a>"
      ],
      "text/plain": [
       "<IPython.core.display.HTML object>"
      ]
     },
     "metadata": {},
     "output_type": "display_data"
    },
    {
     "name": "stdout",
     "output_type": "stream",
     "text": [
      "Compared with the control group that the sample was stored at 4 o C, both DNA and RNA in the samples incubated at 56 o C for 30 -60 minutes also displayed obvious degradation, among which the 28 S and 18 S bands of total RNA of human cells were obviously smeared, and the large bands of genomic DNA became weaker while there were almost no visible genomic DNA and 28 S RNA bands in the sample incubated at 92 o C for 5 minutes (Fig 1D) .\n"
     ]
    },
    {
     "data": {
      "text/html": [
       "<a href=\"http://doi.org/10.1101/2020.02.20.958785\" target=\"_blank\">Inactivating porcine coronavirus before nuclei acid isolation with the temperature higher than 56 o C damages its genome integrity seriously</a>"
      ],
      "text/plain": [
       "<IPython.core.display.HTML object>"
      ]
     },
     "metadata": {},
     "output_type": "display_data"
    },
    {
     "name": "stdout",
     "output_type": "stream",
     "text": [
      "Although the viral load of coronaviruses on inanimate surfaces is not known during an outbreak situation it seems plausible to reduce the viral load on surfaces by disinfection, especially on frequent touch surfaces in the immediate patient surrounding where the highest viral load can be expected.\n"
     ]
    },
    {
     "data": {
      "text/html": [
       "<a href=\"http://doi.org/10.1016/j.infpip.2020.100044\" target=\"_blank\">Potential role of inanimate surfaces for the spread of coronaviruses and their inactivation with disinfectant agents</a>"
      ],
      "text/plain": [
       "<IPython.core.display.HTML object>"
      ]
     },
     "metadata": {},
     "output_type": "display_data"
    },
    {
     "name": "stdout",
     "output_type": "stream",
     "text": [
      "For the disinfection of small surfaces ethanol (62%e71%; carrier tests) revealed a similar efficacy against coronavirus [7] .\n"
     ]
    },
    {
     "data": {
      "text/html": [
       "<a href=\"http://doi.org/10.1016/j.infpip.2020.100044\" target=\"_blank\">Potential role of inanimate surfaces for the spread of coronaviruses and their inactivation with disinfectant agents</a>"
      ],
      "text/plain": [
       "<IPython.core.display.HTML object>"
      ]
     },
     "metadata": {},
     "output_type": "display_data"
    },
    {
     "name": "stdout",
     "output_type": "stream",
     "text": [
      "Then 100μL/well of the antibody-PSV mixture was added onto the 293T/ACE2 cell wells and incubated for author/funder.\n"
     ]
    },
    {
     "data": {
      "text/html": [
       "<a href=\"http://doi.org/10.1101/2020.02.16.951723\" target=\"_blank\">SARS-CoV-2 and SARS-CoV Spike-RBD Structure and Receptor Binding Comparison and Potential Implications on Neutralizing Antibody and Vaccine Development</a>"
      ],
      "text/plain": [
       "<IPython.core.display.HTML object>"
      ]
     },
     "metadata": {},
     "output_type": "display_data"
    },
    {
     "name": "stdout",
     "output_type": "stream",
     "text": [
      "The human embryonic kidney 293T cell line (Cat:CRL-11268) used for pseudovirus (PSV) packaging were purchased from ATCC.\n"
     ]
    },
    {
     "data": {
      "text/html": [
       "<a href=\"http://doi.org/10.1101/2020.02.16.951723\" target=\"_blank\">SARS-CoV-2 and SARS-CoV Spike-RBD Structure and Receptor Binding Comparison and Potential Implications on Neutralizing Antibody and Vaccine Development</a>"
      ],
      "text/plain": [
       "<IPython.core.display.HTML object>"
      ]
     },
     "metadata": {},
     "output_type": "display_data"
    },
    {
     "name": "stdout",
     "output_type": "stream",
     "text": [
      "[11] [12] Low extraction quality, on the other hand, may contain a variety of PCR inhibitors, which gives unreliable readouts during amplification.\n"
     ]
    },
    {
     "data": {
      "text/html": [
       "<a href=\"http://doi.org/10.1101/2020.02.22.961268\" target=\"_blank\">A simple magnetic nanoparticles-based viral RNA extraction method for efficient detection of SARS-CoV-2</a>"
      ],
      "text/plain": [
       "<IPython.core.display.HTML object>"
      ]
     },
     "metadata": {},
     "output_type": "display_data"
    },
    {
     "name": "stdout",
     "output_type": "stream",
     "text": [
      "On the other hand, the interaction patterns in both complex structures' interfaces are somewhat different ( Figure 1A and Table S2 ).\n"
     ]
    },
    {
     "data": {
      "text/html": [
       "<a href=\"http://doi.org/10.1101/2020.02.16.951723\" target=\"_blank\">SARS-CoV-2 and SARS-CoV Spike-RBD Structure and Receptor Binding Comparison and Potential Implications on Neutralizing Antibody and Vaccine Development</a>"
      ],
      "text/plain": [
       "<IPython.core.display.HTML object>"
      ]
     },
     "metadata": {},
     "output_type": "display_data"
    }
   ],
   "source": [
    "top_n_similar_sentences_LDA_glove_cosine(6, 5, 30)"
   ]
  },
  {
   "cell_type": "markdown",
   "metadata": {},
   "source": [
    "Question 7: "
   ]
  },
  {
   "cell_type": "code",
   "execution_count": 143,
   "metadata": {
    "ExecuteTime": {
     "end_time": "2020-04-25T18:15:43.121210Z",
     "start_time": "2020-04-25T18:15:42.948211Z"
    }
   },
   "outputs": [
    {
     "name": "stdout",
     "output_type": "stream",
     "text": [
      "QUESTION #7: Natural history of the virus and shedding of it from an infected person\n",
      "\n",
      "\n"
     ]
    },
    {
     "data": {
      "text/plain": [
       "['When that virus infects people, a new and unknown form of influenza that is transmitted from person to person develops.',\n",
       " 'When that virus infects people, a new and unknown form of influenza that is transmitted from person to person develops.',\n",
       " '27 It is important\\n During the course of their life, humans are infected by several strains of influenza virus.',\n",
       " \"Scientists think that the occasional outbreaks of the disease occur because the virus ''jumps'' from an infected animal to a person (a rare event) and then is transmitted between people by direct contact with infected blood or other body fluids or parts.\",\n",
       " 'Many of these respiratory viruses spread easily from person to person, or can be spread from an animal reservoir (23) .',\n",
       " 'This is probably because, compared with some other viruses, the flu virus is transmitted from one person to another very quickly and affects many people.',\n",
       " 'Based on finding that the utilized virus was virulent and caused EBOV hemorrhagic disease, we infected the remaining 13 animals on day 70 with the same challenge virus stock and dose.',\n",
       " 'also examined the Ebola virus effective reproduction number, which indicates how many people, on average, an infected person passes the virus on to.',\n",
       " 'Initially, the 2019-CoV outbreak was reported as limited person-to-person transmission and a contaminated source from infected or sick wild animals in the wet market may have been the common origin.',\n",
       " 'Initially, the 2019-CoV outbreak was reported as limited person-to-person transmission and a contaminated source from infected or sick wild animals in the wet market may have been the common origin.',\n",
       " 'Shared pathogen exchange is perhaps best illustrated in the case of influenza, where humans serve as the source of influenza A virus (IAV) infection of pigs, and, after further evolution of the virus, it returns from pigs to humans, causing new outbreaks.',\n",
       " 'Influenza virus is one of the general viruses in human life that can be easily infected from human to human [7] .',\n",
       " 'Further, animal flu viruses transmitted to humans are usually dead-end infections, and the virus does not have the capacity to be acquired between humans easily.',\n",
       " 'We speculate that the viruses that affected the 17 healthy persons >2 years ago were antigenically closer to the recently isolated animal SARS-CoV-like virus than human SARS-CoV, but interspecies transmission from animal to human was probably inefficient as the viruses might not have adapted in the new host.',\n",
       " 'It is thought that some proportion of animals can continue to shed the virus for up to 20-30 days after infection [25] .',\n",
       " 'This is in contrast to natural infection where humans are infected with an unknown amount of virus in an unknown route, which must be considered when extrapolating results from animal model studies.',\n",
       " 'Infectious disease occurs when a person is infected by a pathogen from another person or an animal.',\n",
       " 'Although influenza virus infections are primarily spread by person-to-person transmission via aerosolized droplets, infection with new avian-or swine-origin IAV can take place and may have great risk for pandemic potential if the virus acquires the ability to be transmitted between humans [54, 55] .',\n",
       " 'Since then, the virus has spread from person to person and from country to country, causing the most severe epidemics in human history, with a death rate of about 30% of those infected.',\n",
       " 'Currently, there are 129 known human viral pathogens [29] and at least 219 viruses that can infect humans [30] , with more being discovered every year [31, 32] .',\n",
       " 'Avian influenza is another example of a virus appearing first in animals before causing a human disease.',\n",
       " 'Possible human-to-human transmission was described [302] , however the infection mostly occurred by handling infected meat and inhaling natural virus aerosols [287, 306] .',\n",
       " 'For example, multiple people could be infected with a zoonotic infection through butchering and/or consumption of a single infected animal.',\n",
       " 'During an infectious disease outbreak such as MERS-CoV (or MERS for short), the transmission usually forms networks of infected individuals (cluster of outbreaks) probably because of the way the virus crosses from one infected individual to another susceptible individual.',\n",
       " 'Cats in our study were not co-infected with multiple strains of FECV and FIPV at the same time and were generally infected with one predominant virus strain.',\n",
       " 'Compared to the seasonal flu, the pandemic flu occurs rarely but transmits more easily between human beings and spreads quickly all over the world, because the virus is often novel to human immune system.',\n",
       " 'We have gained extraordinarily detailed knowledge in the past decade about the molecular nature of influenza virus and other respiratory viruses yet surprisingly little is known about how respiratory viruses are transmitted from person to person.',\n",
       " 'After an individual is exposed, the transmission of virus particles from one person to another will make an \"exposed\" person become \"infected\".',\n",
       " 'Vaccines may reduce viral replication in the index case, but active virus may still be present when the infected person leaves the laboratory, potentially infecting unvaccinated persons.',\n",
       " 'We were not able to perform culture for influenza virus in this study, so it is possible that some of the infected travellers were not shedding viable virus.']"
      ]
     },
     "execution_count": 143,
     "metadata": {},
     "output_type": "execute_result"
    }
   ],
   "source": [
    "top_n_similar_sentences_glove_cosine(7,30)"
   ]
  },
  {
   "cell_type": "code",
   "execution_count": 167,
   "metadata": {
    "ExecuteTime": {
     "end_time": "2020-04-25T19:46:49.588290Z",
     "start_time": "2020-04-25T19:46:45.627293Z"
    },
    "scrolled": false
   },
   "outputs": [
    {
     "name": "stdout",
     "output_type": "stream",
     "text": [
      "QUESTION #7: Natural history of the virus and shedding of it from an infected person\n",
      "\n",
      "\n",
      "Before viruses in wildlife make a jump to infect human beings, they usually accumulate a series of mutations in their viral genomes [42] and invade human beings as a result of human occupation of their normal ecosystem, as exemplified with a story of initial human infection by HIV carried by chimpanzees in rainforests of West Africa [43, 44] .\n"
     ]
    },
    {
     "data": {
      "text/html": [
       "<a href=\"http://doi.org/10.3390/ijerph17051633\" target=\"_blank\">Potential Factors Influencing Repeated SARS Outbreaks in China</a>"
      ],
      "text/plain": [
       "<IPython.core.display.HTML object>"
      ]
     },
     "metadata": {},
     "output_type": "display_data"
    },
    {
     "name": "stdout",
     "output_type": "stream",
     "text": [
      "cough, lethargy, myalgia) infected individuals was identified early in the course of this outbreak, with human-to-human transmission detected in international case series [7] .\n"
     ]
    },
    {
     "data": {
      "text/html": [
       "<a href=\"http://doi.org/10.1017/S0950268820000424\" target=\"_blank\">Epidemiology and Infection Passengers' destinations from China: low risk of Novel Coronavirus (2019-nCoV) transmission into Africa and South America</a>"
      ],
      "text/plain": [
       "<IPython.core.display.HTML object>"
      ]
     },
     "metadata": {},
     "output_type": "display_data"
    },
    {
     "name": "stdout",
     "output_type": "stream",
     "text": [
      "At the outset, SARS-COVs might have a species barrier before it can be transmitted to humans.\n"
     ]
    },
    {
     "data": {
      "text/html": [
       "<a href=\"http://doi.org/10.3390/ijerph17051633\" target=\"_blank\">Potential Factors Influencing Repeated SARS Outbreaks in China</a>"
      ],
      "text/plain": [
       "<IPython.core.display.HTML object>"
      ]
     },
     "metadata": {},
     "output_type": "display_data"
    },
    {
     "name": "stdout",
     "output_type": "stream",
     "text": [
      "The increased vulnerability of human beings in winter time and the increased human exposure to wild animals during holidays made infection to SARS-COV-2 more likely.\n"
     ]
    },
    {
     "data": {
      "text/html": [
       "<a href=\"http://doi.org/10.3390/ijerph17051633\" target=\"_blank\">Potential Factors Influencing Repeated SARS Outbreaks in China</a>"
      ],
      "text/plain": [
       "<IPython.core.display.HTML object>"
      ]
     },
     "metadata": {},
     "output_type": "display_data"
    },
    {
     "name": "stdout",
     "output_type": "stream",
     "text": [
      "This mini-review evaluated the common epidemiological patterns of both SARS epidemics in China and identified cold, dry winter as a common environmental condition conducive for SARS virus infection to human beings.\n"
     ]
    },
    {
     "data": {
      "text/html": [
       "<a href=\"http://doi.org/10.3390/ijerph17051633\" target=\"_blank\">Potential Factors Influencing Repeated SARS Outbreaks in China</a>"
      ],
      "text/plain": [
       "<IPython.core.display.HTML object>"
      ]
     },
     "metadata": {},
     "output_type": "display_data"
    },
    {
     "name": "stdout",
     "output_type": "stream",
     "text": [
      "The separate evolution and the recombination of these viruses might lead to the creation of various SARS-CoVs capable of cross-species transmission and ultimate infection of human beings.\n"
     ]
    },
    {
     "data": {
      "text/html": [
       "<a href=\"http://doi.org/10.3390/ijerph17051633\" target=\"_blank\">Potential Factors Influencing Repeated SARS Outbreaks in China</a>"
      ],
      "text/plain": [
       "<IPython.core.display.HTML object>"
      ]
     },
     "metadata": {},
     "output_type": "display_data"
    },
    {
     "name": "stdout",
     "output_type": "stream",
     "text": [
      "Before the emergence of SARS-CoV, four CoVs were known as human coronaviruses (HCoVs), i.e., CoVs capable of infecting human beings.\n"
     ]
    },
    {
     "data": {
      "text/html": [
       "<a href=\"http://doi.org/10.3390/ijerph17051633\" target=\"_blank\">Potential Factors Influencing Repeated SARS Outbreaks in China</a>"
      ],
      "text/plain": [
       "<IPython.core.display.HTML object>"
      ]
     },
     "metadata": {},
     "output_type": "display_data"
    },
    {
     "name": "stdout",
     "output_type": "stream",
     "text": [
      "Although the remotely occurring SARS-2 usually have a human-human linkage and can be traced to a single source of infection, some Wuhan cases and the surrounding cases in Hubei Province still lack reliable sources of infection.\n"
     ]
    },
    {
     "data": {
      "text/html": [
       "<a href=\"http://doi.org/10.3390/ijerph17051633\" target=\"_blank\">Potential Factors Influencing Repeated SARS Outbreaks in China</a>"
      ],
      "text/plain": [
       "<IPython.core.display.HTML object>"
      ]
     },
     "metadata": {},
     "output_type": "display_data"
    },
    {
     "name": "stdout",
     "output_type": "stream",
     "text": [
      "SARS-CoV-2 has entered human communities, and eliminating virus from human bodies does not means its eradication in nature.\n"
     ]
    },
    {
     "data": {
      "text/html": [
       "<a href=\"http://doi.org/10.3390/ijerph17051633\" target=\"_blank\">Potential Factors Influencing Repeated SARS Outbreaks in China</a>"
      ],
      "text/plain": [
       "<IPython.core.display.HTML object>"
      ]
     },
     "metadata": {},
     "output_type": "display_data"
    },
    {
     "name": "stdout",
     "output_type": "stream",
     "text": [
      "Four strains of coronaviruses are known to spread easily in humans, causing generally-mild acute respiratory illnesses known as the common cold [1] .\n"
     ]
    },
    {
     "data": {
      "text/html": [
       "<a href=\"http://dx.doi.org/10.2807/1560-7917.ES.2020.25.3.2000044\" target=\"_blank\">no title</a>"
      ],
      "text/plain": [
       "<IPython.core.display.HTML object>"
      ]
     },
     "metadata": {},
     "output_type": "display_data"
    },
    {
     "name": "stdout",
     "output_type": "stream",
     "text": [
      "At the same time, because Zhejiang is a natural habitat for bamboo rats, it is possible that some farms directly introduced wild bamboo rats, which were already infected with SARS-COV-2 virus.\n"
     ]
    },
    {
     "data": {
      "text/html": [
       "<a href=\"http://doi.org/10.3390/ijerph17051633\" target=\"_blank\">Potential Factors Influencing Repeated SARS Outbreaks in China</a>"
      ],
      "text/plain": [
       "<IPython.core.display.HTML object>"
      ]
     },
     "metadata": {},
     "output_type": "display_data"
    },
    {
     "name": "stdout",
     "output_type": "stream",
     "text": [
      "Thus, humans might become unfortunate hosts for SARS-CoVs as a result of some inappropriate interactions with wildlife and thus exposure to unfriendly viruses ( Figure 2 \n",
      " Having identified some relevant natural and social factors common for affecting both SARS epidemics, it is also necessary to discuss if variations in these factors contributed to the unique outbreak of SARS-2 in Wuhan.\n"
     ]
    },
    {
     "data": {
      "text/html": [
       "<a href=\"http://doi.org/10.3390/ijerph17051633\" target=\"_blank\">Potential Factors Influencing Repeated SARS Outbreaks in China</a>"
      ],
      "text/plain": [
       "<IPython.core.display.HTML object>"
      ]
     },
     "metadata": {},
     "output_type": "display_data"
    },
    {
     "name": "stdout",
     "output_type": "stream",
     "text": [
      "The cold and dry winter helped viruses to survive in the environment and eventually found some ways to cross the species barrier, a phenomenon known as \"viral chatter\" [50] .\n"
     ]
    },
    {
     "data": {
      "text/html": [
       "<a href=\"http://doi.org/10.3390/ijerph17051633\" target=\"_blank\">Potential Factors Influencing Repeated SARS Outbreaks in China</a>"
      ],
      "text/plain": [
       "<IPython.core.display.HTML object>"
      ]
     },
     "metadata": {},
     "output_type": "display_data"
    },
    {
     "name": "stdout",
     "output_type": "stream",
     "text": [
      "Thus, in order for these bats and/or rats to pass the virus to humans, they must have first been able to migrate or be moved to Wuhan and also must have carried viruses that actually achieved mutations for affording the capability of infecting human beings.\n"
     ]
    },
    {
     "data": {
      "text/html": [
       "<a href=\"http://doi.org/10.3390/ijerph17051633\" target=\"_blank\">Potential Factors Influencing Repeated SARS Outbreaks in China</a>"
      ],
      "text/plain": [
       "<IPython.core.display.HTML object>"
      ]
     },
     "metadata": {},
     "output_type": "display_data"
    },
    {
     "name": "stdout",
     "output_type": "stream",
     "text": [
      "The model of SARS-COV-2 transmission, similar to Nipah virus, is that farms are built around bat habitats, causing bats to pass the virus to animals through saliva, urine, and feces [30] .\n"
     ]
    },
    {
     "data": {
      "text/html": [
       "<a href=\"http://doi.org/10.3390/ijerph17051633\" target=\"_blank\">Potential Factors Influencing Repeated SARS Outbreaks in China</a>"
      ],
      "text/plain": [
       "<IPython.core.display.HTML object>"
      ]
     },
     "metadata": {},
     "output_type": "display_data"
    },
    {
     "name": "stdout",
     "output_type": "stream",
     "text": [
      "Five days later, clusters of cases, including 15 healthcare workers, were confirmed to have been infected via patients, confirming that SARS-CoV-2 also has human-to-human transmission capability [ Figure 1E ].\n"
     ]
    },
    {
     "data": {
      "text/html": [
       "<a href=\"http://doi.org/10.1097/CM9.0000000000000776\" target=\"_blank\">From SARS-CoV to SARS-CoV-2 Outbreak: Similarities in the Early Epidemics and Prediction of Future Trends</a>"
      ],
      "text/plain": [
       "<IPython.core.display.HTML object>"
      ]
     },
     "metadata": {},
     "output_type": "display_data"
    },
    {
     "name": "stdout",
     "output_type": "stream",
     "text": [
      "How could this likely single source of virus quickly infect so many people in such large geographic area?\n"
     ]
    },
    {
     "data": {
      "text/html": [
       "<a href=\"http://doi.org/10.3390/ijerph17051633\" target=\"_blank\">Potential Factors Influencing Repeated SARS Outbreaks in China</a>"
      ],
      "text/plain": [
       "<IPython.core.display.HTML object>"
      ]
     },
     "metadata": {},
     "output_type": "display_data"
    },
    {
     "name": "stdout",
     "output_type": "stream",
     "text": [
      "Therefore, when bats carrying SARS-COV-2 virus forage at Huanan Seafood Market, they may pass the virus directly or indirectly to intermediate hosts.\n"
     ]
    },
    {
     "data": {
      "text/html": [
       "<a href=\"http://doi.org/10.3390/ijerph17051633\" target=\"_blank\">Potential Factors Influencing Repeated SARS Outbreaks in China</a>"
      ],
      "text/plain": [
       "<IPython.core.display.HTML object>"
      ]
     },
     "metadata": {},
     "output_type": "display_data"
    },
    {
     "name": "stdout",
     "output_type": "stream",
     "text": [
      "A much larger number of coronaviruses have been detected in animals, particularly in bats, but have not been found in humans [2] .\n"
     ]
    },
    {
     "data": {
      "text/html": [
       "<a href=\"http://dx.doi.org/10.2807/1560-7917.ES.2020.25.3.2000044\" target=\"_blank\">no title</a>"
      ],
      "text/plain": [
       "<IPython.core.display.HTML object>"
      ]
     },
     "metadata": {},
     "output_type": "display_data"
    },
    {
     "name": "stdout",
     "output_type": "stream",
     "text": [
      "For the above reasons, the bamboo rats carrying SARS-COV-2 virus were transported from the infected place to the incident site in the same way that civets spread SARS-CoV [32] .\n"
     ]
    },
    {
     "data": {
      "text/html": [
       "<a href=\"http://doi.org/10.3390/ijerph17051633\" target=\"_blank\">Potential Factors Influencing Repeated SARS Outbreaks in China</a>"
      ],
      "text/plain": [
       "<IPython.core.display.HTML object>"
      ]
     },
     "metadata": {},
     "output_type": "display_data"
    },
    {
     "name": "stdout",
     "output_type": "stream",
     "text": [
      "This suggests that the way the bats spread the virus is not only via direct contact, but also through feces.\n"
     ]
    },
    {
     "data": {
      "text/html": [
       "<a href=\"http://doi.org/10.3390/ijerph17051633\" target=\"_blank\">Potential Factors Influencing Repeated SARS Outbreaks in China</a>"
      ],
      "text/plain": [
       "<IPython.core.display.HTML object>"
      ]
     },
     "metadata": {},
     "output_type": "display_data"
    },
    {
     "name": "stdout",
     "output_type": "stream",
     "text": [
      "Quarantine of patients (both confirmed and suspected), isolation of susceptible population, and protection of high-risk professions are necessary measures for reducing exposure to the viruses and eliminating the risk of getting infected by the viruses.\n"
     ]
    },
    {
     "data": {
      "text/html": [
       "<a href=\"http://doi.org/10.3390/ijerph17051633\" target=\"_blank\">Potential Factors Influencing Repeated SARS Outbreaks in China</a>"
      ],
      "text/plain": [
       "<IPython.core.display.HTML object>"
      ]
     },
     "metadata": {},
     "output_type": "display_data"
    },
    {
     "name": "stdout",
     "output_type": "stream",
     "text": [
      "However, due to human activities, the virus has expanded its host of infection.\n"
     ]
    },
    {
     "data": {
      "text/html": [
       "<a href=\"http://doi.org/10.3390/ijerph17051633\" target=\"_blank\">Potential Factors Influencing Repeated SARS Outbreaks in China</a>"
      ],
      "text/plain": [
       "<IPython.core.display.HTML object>"
      ]
     },
     "metadata": {},
     "output_type": "display_data"
    },
    {
     "name": "stdout",
     "output_type": "stream",
     "text": [
      "Therefore, there are two possible places for bamboo rat be infected with SARS-COV-2.\n"
     ]
    },
    {
     "data": {
      "text/html": [
       "<a href=\"http://doi.org/10.3390/ijerph17051633\" target=\"_blank\">Potential Factors Influencing Repeated SARS Outbreaks in China</a>"
      ],
      "text/plain": [
       "<IPython.core.display.HTML object>"
      ]
     },
     "metadata": {},
     "output_type": "display_data"
    },
    {
     "name": "stdout",
     "output_type": "stream",
     "text": [
      "If there had been only one case infected by human-to-human transmission among the first 41 identified cases by that date, it implies R 0 was 0.02 (i.e.\n"
     ]
    },
    {
     "data": {
      "text/html": [
       "<a href=\"http://dx.doi.org/10.2807/1560-7917.ES.2020.25.3.2000044\" target=\"_blank\">no title</a>"
      ],
      "text/plain": [
       "<IPython.core.display.HTML object>"
      ]
     },
     "metadata": {},
     "output_type": "display_data"
    },
    {
     "name": "stdout",
     "output_type": "stream",
     "text": [
      "The isolated virus showed more than 95% genome sequence identity with human and civet SARS-CoVs.\n"
     ]
    },
    {
     "data": {
      "text/html": [
       "<a href=\"http://doi.org/10.3390/ijerph17051633\" target=\"_blank\">Potential Factors Influencing Repeated SARS Outbreaks in China</a>"
      ],
      "text/plain": [
       "<IPython.core.display.HTML object>"
      ]
     },
     "metadata": {},
     "output_type": "display_data"
    },
    {
     "name": "stdout",
     "output_type": "stream",
     "text": [
      "Subsequent case investigations also showed that SARS-CoV had the capability to multiply and continuously undergo human-to-human transmission [ Figure 1D ]; at least four generations of cases were identified from one original patient.\n"
     ]
    },
    {
     "data": {
      "text/html": [
       "<a href=\"http://doi.org/10.1097/CM9.0000000000000776\" target=\"_blank\">From SARS-CoV to SARS-CoV-2 Outbreak: Similarities in the Early Epidemics and Prediction of Future Trends</a>"
      ],
      "text/plain": [
       "<IPython.core.display.HTML object>"
      ]
     },
     "metadata": {},
     "output_type": "display_data"
    },
    {
     "name": "stdout",
     "output_type": "stream",
     "text": [
      "Prior to December 2019 when clusters of pneumonia cases with unknown aetiology were detected in Wuhan, China, only two additional strains of coronaviruses had caused outbreaks of severe acute respiratory disease around the world [3] .\n"
     ]
    },
    {
     "data": {
      "text/html": [
       "<a href=\"http://dx.doi.org/10.2807/1560-7917.ES.2020.25.3.2000044\" target=\"_blank\">no title</a>"
      ],
      "text/plain": [
       "<IPython.core.display.HTML object>"
      ]
     },
     "metadata": {},
     "output_type": "display_data"
    },
    {
     "name": "stdout",
     "output_type": "stream",
     "text": [
      "On 31 December 2019, local hospitals in Wuhan, China reported that they had detected a series of cases of Novel Coronavirus-infected pneumonia to the World Health Organization (WHO) [1] .\n"
     ]
    },
    {
     "data": {
      "text/html": [
       "<a href=\"http://doi.org/10.1017/S0950268820000424\" target=\"_blank\">Epidemiology and Infection Passengers' destinations from China: low risk of Novel Coronavirus (2019-nCoV) transmission into Africa and South America</a>"
      ],
      "text/plain": [
       "<IPython.core.display.HTML object>"
      ]
     },
     "metadata": {},
     "output_type": "display_data"
    },
    {
     "name": "stdout",
     "output_type": "stream",
     "text": [
      "Although the origins and the occurrences of SARS-CoV-2 are both unclear, the control measures for the current epidemic should focus on immediate cut-off of transmission of the disease and through disinfection of infected locations.\n"
     ]
    },
    {
     "data": {
      "text/html": [
       "<a href=\"http://doi.org/10.3390/ijerph17051633\" target=\"_blank\">Potential Factors Influencing Repeated SARS Outbreaks in China</a>"
      ],
      "text/plain": [
       "<IPython.core.display.HTML object>"
      ]
     },
     "metadata": {},
     "output_type": "display_data"
    }
   ],
   "source": [
    "top_n_similar_sentences_LDA_glove_cosine(7, 5, 30)"
   ]
  },
  {
   "cell_type": "markdown",
   "metadata": {},
   "source": [
    "Question 8: "
   ]
  },
  {
   "cell_type": "code",
   "execution_count": 145,
   "metadata": {
    "ExecuteTime": {
     "end_time": "2020-04-25T18:31:23.647957Z",
     "start_time": "2020-04-25T18:31:23.457953Z"
    }
   },
   "outputs": [
    {
     "name": "stdout",
     "output_type": "stream",
     "text": [
      "QUESTION #8: Implementation of diagnostics and products to improve clinical processes\n",
      "\n",
      "\n"
     ]
    },
    {
     "data": {
      "text/plain": [
       "['There is a need for availability of data and information on humanvector-pathogen-ecosystem interfaces, drugs and vaccines development as well as diagnostics techniques and tools from preclinical to clinical levels.',\n",
       " 'Improving the optimization and implementation of protocols suitable for clinical samples will no doubt improve microbial diagnosis in clinical practice.',\n",
       " 'These techniques are expected to greatly accelerate the identification of specific phage binders, facilitating mAb development for use in research, clinical diagnostics, and pharmaceuticals for the treatment of human disease.',\n",
       " 'Integration of knowledge about microbiology and immunology, establishment of efficient vaccine development strategies, and streamlining of regulatory approval processes may facilitate this trend.',\n",
       " 'Tools from information technology and progress in microbiology will reduce diagnostic uncertainty and improve antimicrobial dosing, selection, and treatment duration.',\n",
       " 'There were 8 key elements needed for accreditation: 1) developing Standard Operating Procedures for all microbiology tests used for clinical diagnosis, 2) laboratory training for all microbiology assays 3) training for microbiology equipment (e.g., BACTEC), 4) equipment preventive maintenance, 5) participation in External Quality Assessment panel for microbiology 6) internal quality control 7) quality improvement protocols and 8) process improvement and control protocols.',\n",
       " 'While these challenges may considerably impede clinical development of AMPs, the incorporation of innovative formulations can speed the process of bringing AMP products to clinical phases.',\n",
       " 'Thus, it is our interest to enhance the collaboration between imaging specialists and to optimise and adapt the different use of imaging to the comprehensive clinical management of the oncological patient.',\n",
       " 'The present findings is useful in designing molecular diagnostics for clinical applications and for improved understanding of FeLV infection outcome and epidemiology.',\n",
       " 'pathogens and antibodies) that is vital for both clinical and public health decision-making; for advancing basic scientific understanding; and for evaluating the products of enhanced diagnostic, drug and vaccine development pipelines.',\n",
       " 'Optimization and implementation of the protocols suitable for clinical samples will no doubt improve the microbial diagnosis in clinical practice.',\n",
       " 'Understanding of these processes and underlying molecular mechanisms is necessary to develop antiviral drugs and approaches in human healthcare and animal production.',\n",
       " '‚ Enhance laboratory capacity and improve the availability of diagnostics tools.',\n",
       " 'In vitro diagnostic systems (IVDS) include analysers that automate the diagnostic process in clinical laboratories.',\n",
       " 'The development, standardisation, and optimisation of the different imaging acquisition protocols (for US, CT, MR and PET) and data analyses (physiological and biochemical computing, fusion of modalities, adequate measurements) will change some clinical research and patient care scenarios.',\n",
       " 'A key focus is the elucidation of disease processes and management protocols resulting in improved outcomes for the patient.',\n",
       " 'Thus unique physiologic assessment methodologies should be developed to examine and improve the quality of patient care, enhance the precision of clinical research, aid in resource allocation, improve the accuracy of prognostic decisions, and objectively measure the impact of clinical interventions and pathways in the ED.',\n",
       " 'It is also essential that existing mechanisms for the development of standard operating procedures and accreditation of laboratory methods be applied to microbial sequencing.',\n",
       " '• Access to unapproved experimental interventions should be underpinned by a robust monitoring and evaluation component that will inform product development and licensure.',\n",
       " 'Opportunities to implement a One Health approach are enhanced by the availability of new technologies and methodologies, including surveillance tools, diagnostics, and vaccines that have been developed through applied research Fig.',\n",
       " 'Implementation of validated preclinical assessment in mdx mice 37, [40] [41] [42] that includes in vivo functional end points and histopathology and biochemical markers will facilitate more rigorous comparison of preclinical data from different laboratories and expedite evaluation in the mdx mouse, leading to effective clinical treatments for DMD.',\n",
       " '47 Research and development priorities for these diseases include development of suitable diagnostic tests, assessment of potential treatments, identification of key knowledge gaps, production platforms, behavioural interventions and acceleration of vaccine development.',\n",
       " 'Sequencing technologies will also underpin clinical trials evaluating the effect of a therapeutic alteration of the microbiome in a range of conditions.',\n",
       " \"Integrating telehealth into existing health service delivery patterns will require a reliable technological infrastructure, effective clinical demonstrations, assessment of practitioners' readiness, and careful integration of technologies into workflow and policy synchronization.\",\n",
       " 'All of these technologies will support the development of preparations and formulations for the clinical application of this DNA vaccine pcDNA-CCOL2A1 in the near future.',\n",
       " 'Advances in basic science research and development of molecular technology and diagnostics have enhanced understanding of disease aetiology, pathogenesis, and molecular epidemiology, which provide basis for appropriate detection, prevention, and control measures as well as rational design of vaccine, by which some diseases have been successfully eliminated.',\n",
       " 'Sharing of laboratory diagnostic research facilities, diagnostic protocols, and application of proficiency testing would help build experience and improve quality results.',\n",
       " 'Advanced molecular diagnostic tests have to be interpreted in the context of available clinical and diagnostic information in order to improve clinical management.',\n",
       " 'Personalised medicine, with the help of biosensors, lab-on-chip systems, individual genetics, smartphones monitoring parameters, and microfluidic devices, will improve the primary healthcare system.',\n",
       " '123−126 Coordination chemistry-based sample preparation technologies have enabled significant improvements in the sensitivities of point-of-care diagnostics.']"
      ]
     },
     "execution_count": 145,
     "metadata": {},
     "output_type": "execute_result"
    }
   ],
   "source": [
    "top_n_similar_sentences_glove_cosine(8,30)"
   ]
  },
  {
   "cell_type": "code",
   "execution_count": 168,
   "metadata": {
    "ExecuteTime": {
     "end_time": "2020-04-25T19:47:01.468506Z",
     "start_time": "2020-04-25T19:46:57.788834Z"
    },
    "scrolled": false
   },
   "outputs": [
    {
     "name": "stdout",
     "output_type": "stream",
     "text": [
      "QUESTION #8: Implementation of diagnostics and products to improve clinical processes\n",
      "\n",
      "\n",
      "13 Incremental improvements in rapid sample preparation techniques, chromatography, and data processing have also contributed to the increasing use of LCMS-based clinical testing.\n"
     ]
    },
    {
     "data": {
      "text/html": [
       "<a href=\"http://doi.org/10.1101/2020.03.08.980383\" target=\"_blank\">In silico approach to accelerate the development of mass spectrometry-based proteomics methods for detection of viral proteins: Application to COVID-19</a>"
      ],
      "text/plain": [
       "<IPython.core.display.HTML object>"
      ]
     },
     "metadata": {},
     "output_type": "display_data"
    },
    {
     "name": "stdout",
     "output_type": "stream",
     "text": [
      "Ongoing SARS-CoV-2 sequencing is key to developing and monitoring diagnostics and similar surveillance tools.\n"
     ]
    },
    {
     "data": {
      "text/html": [
       "<a href=\"http://doi.org/10.1101/2020.02.26.967026\" target=\"_blank\">CRISPR-based surveillance for COVID-19 using genomically-comprehensive machine learning design</a>"
      ],
      "text/plain": [
       "<IPython.core.display.HTML object>"
      ]
     },
     "metadata": {},
     "output_type": "display_data"
    },
    {
     "name": "stdout",
     "output_type": "stream",
     "text": [
      "The subfractionation of existing heparin preparations against anticoagulant activities (with proven low-toxicity profiles, good bioavailability and industrial-scale manufacturing) for off-label pathologies, provides an attractive strategy for quickly and effectively responding to COVID-19 and for the development of next generation heparin-based therapeutics.\n"
     ]
    },
    {
     "data": {
      "text/html": [
       "<a href=\"http://doi.org/10.1101/2020.02.29.971093\" target=\"_blank\">Mycroft-West et al. (2020) Running title: SARS-CoV-2 surface S1 Receptor Binding Domain binds heparin The 2019 coronavirus (SARS-CoV-2) surface protein (Spike) S1 Receptor Binding Domain undergoes conformational change upon heparin binding</a>"
      ],
      "text/plain": [
       "<IPython.core.display.HTML object>"
      ]
     },
     "metadata": {},
     "output_type": "display_data"
    },
    {
     "name": "stdout",
     "output_type": "stream",
     "text": [
      "Today, protein array and antibody-based methods are falling out of favor in both research and clinical diagnostics, due in large part to the improvements in LCMS technology.\n"
     ]
    },
    {
     "data": {
      "text/html": [
       "<a href=\"http://doi.org/10.1101/2020.03.08.980383\" target=\"_blank\">In silico approach to accelerate the development of mass spectrometry-based proteomics methods for detection of viral proteins: Application to COVID-19</a>"
      ],
      "text/plain": [
       "<IPython.core.display.HTML object>"
      ]
     },
     "metadata": {},
     "output_type": "display_data"
    },
    {
     "name": "stdout",
     "output_type": "stream",
     "text": [
      "Although much simpler and faster than spin column-based methods, most MNPs-based extraction strategies still contain multiple processing steps such as lysis, binding, washing and elution, which increases operational difficulties in real clinical diagnosis.\n"
     ]
    },
    {
     "data": {
      "text/html": [
       "<a href=\"http://doi.org/10.1101/2020.02.22.961268\" target=\"_blank\">A simple magnetic nanoparticles-based viral RNA extraction method for efficient detection of SARS-CoV-2</a>"
      ],
      "text/plain": [
       "<IPython.core.display.HTML object>"
      ]
     },
     "metadata": {},
     "output_type": "display_data"
    },
    {
     "name": "stdout",
     "output_type": "stream",
     "text": [
      "Because no centrifugation steps are required, MNPs-based methods allow fully automated nucleic acid purification, which is highly important in current SARS-CoV-2 diagnosis.\n"
     ]
    },
    {
     "data": {
      "text/html": [
       "<a href=\"http://doi.org/10.1101/2020.02.22.961268\" target=\"_blank\">A simple magnetic nanoparticles-based viral RNA extraction method for efficient detection of SARS-CoV-2</a>"
      ],
      "text/plain": [
       "<IPython.core.display.HTML object>"
      ]
     },
     "metadata": {},
     "output_type": "display_data"
    },
    {
     "name": "stdout",
     "output_type": "stream",
     "text": [
      "In conclusion, due to its simplicity, robustness, and excellent performances, our pcMNPs-based method may provide a promising alternative to solve the laborious and time-consuming viral RNA extraction operations, and thus exhibits a great potential in the high throughput SARS-CoV-2 molecular diagnosis.\n"
     ]
    },
    {
     "data": {
      "text/html": [
       "<a href=\"http://doi.org/10.1101/2020.02.22.961268\" target=\"_blank\">A simple magnetic nanoparticles-based viral RNA extraction method for efficient detection of SARS-CoV-2</a>"
      ],
      "text/plain": [
       "<IPython.core.display.HTML object>"
      ]
     },
     "metadata": {},
     "output_type": "display_data"
    },
    {
     "name": "stdout",
     "output_type": "stream",
     "text": [
      "Given recent studies concerning high variability in antibody production, LCMS-based methods are an attractive alternative approach for the rapid identification of small molecules, proteins, and peptides in clinical settings where consistency is paramount.\n"
     ]
    },
    {
     "data": {
      "text/html": [
       "<a href=\"http://doi.org/10.1101/2020.03.08.980383\" target=\"_blank\">In silico approach to accelerate the development of mass spectrometry-based proteomics methods for detection of viral proteins: Application to COVID-19</a>"
      ],
      "text/plain": [
       "<IPython.core.display.HTML object>"
      ]
     },
     "metadata": {},
     "output_type": "display_data"
    },
    {
     "name": "stdout",
     "output_type": "stream",
     "text": [
      "Here, we describe preliminary tests for the ability of the SARS-CoV-2 S1 RBD to bind heparin, an important prerequisite for the underpinning research related to the development of SARS-CoV-2 heparin-based therapeutic.\n"
     ]
    },
    {
     "data": {
      "text/html": [
       "<a href=\"http://doi.org/10.1101/2020.02.29.971093\" target=\"_blank\">Mycroft-West et al. (2020) Running title: SARS-CoV-2 surface S1 Receptor Binding Domain binds heparin The 2019 coronavirus (SARS-CoV-2) surface protein (Spike) S1 Receptor Binding Domain undergoes conformational change upon heparin binding</a>"
      ],
      "text/plain": [
       "<IPython.core.display.HTML object>"
      ]
     },
     "metadata": {},
     "output_type": "display_data"
    },
    {
     "name": "stdout",
     "output_type": "stream",
     "text": [
      "We have been developing algorithms and machine learning models for rapidly designing nucleic acid detection assays, linked in a system called ADAPT (manuscript in preparation).\n"
     ]
    },
    {
     "data": {
      "text/html": [
       "<a href=\"http://doi.org/10.1101/2020.02.26.967026\" target=\"_blank\">CRISPR-based surveillance for COVID-19 using genomically-comprehensive machine learning design</a>"
      ],
      "text/plain": [
       "<IPython.core.display.HTML object>"
      ]
     },
     "metadata": {},
     "output_type": "display_data"
    },
    {
     "name": "stdout",
     "output_type": "stream",
     "text": [
      "Efficient and robust nucleic acids extraction from complex clinical samples is the first and the most important step for subsequent molecular diagnosis, but currently it is still highly labour intensive and time-consuming.\n"
     ]
    },
    {
     "data": {
      "text/html": [
       "<a href=\"http://doi.org/10.1101/2020.02.22.961268\" target=\"_blank\">A simple magnetic nanoparticles-based viral RNA extraction method for efficient detection of SARS-CoV-2</a>"
      ],
      "text/plain": [
       "<IPython.core.display.HTML object>"
      ]
     },
     "metadata": {},
     "output_type": "display_data"
    },
    {
     "name": "stdout",
     "output_type": "stream",
     "text": [
      "The prominent proteomic technical journals, the Journal of Proteome Research and Molecular and Cellular Proteomics, strictly require that all unprocessed instrument files and processed results are made publicly available through these services.\n"
     ]
    },
    {
     "data": {
      "text/html": [
       "<a href=\"http://doi.org/10.1101/2020.03.08.980383\" target=\"_blank\">In silico approach to accelerate the development of mass spectrometry-based proteomics methods for detection of viral proteins: Application to COVID-19</a>"
      ],
      "text/plain": [
       "<IPython.core.display.HTML object>"
      ]
     },
     "metadata": {},
     "output_type": "display_data"
    },
    {
     "name": "stdout",
     "output_type": "stream",
     "text": [
      "[9] [10] While RT-PCR-based methods have been widely used in COVID-19 diagnosis, their application in accurate diagnosis of viral infection and epidemic control is severely hampered by their laborious and time-consuming sample processing steps.\n"
     ]
    },
    {
     "data": {
      "text/html": [
       "<a href=\"http://doi.org/10.1101/2020.02.22.961268\" target=\"_blank\">A simple magnetic nanoparticles-based viral RNA extraction method for efficient detection of SARS-CoV-2</a>"
      ],
      "text/plain": [
       "<IPython.core.display.HTML object>"
      ]
     },
     "metadata": {},
     "output_type": "display_data"
    },
    {
     "name": "stdout",
     "output_type": "stream",
     "text": [
      "11, 12 A review of this growth by Grebe and Singh described a clinical lab with no LCMS systems in 1998 that completed over 2 million individual LCMS clinical assays in 2010.\n"
     ]
    },
    {
     "data": {
      "text/html": [
       "<a href=\"http://doi.org/10.1101/2020.03.08.980383\" target=\"_blank\">In silico approach to accelerate the development of mass spectrometry-based proteomics methods for detection of viral proteins: Application to COVID-19</a>"
      ],
      "text/plain": [
       "<IPython.core.display.HTML object>"
      ]
     },
     "metadata": {},
     "output_type": "display_data"
    },
    {
     "name": "stdout",
     "output_type": "stream",
     "text": [
      "Our work demonstrates not only the feasibility of this approach, but also its ability to rapidly develop methods even in the face of limitation of access to sample experimental data.\n"
     ]
    },
    {
     "data": {
      "text/html": [
       "<a href=\"http://doi.org/10.1101/2020.03.08.980383\" target=\"_blank\">In silico approach to accelerate the development of mass spectrometry-based proteomics methods for detection of viral proteins: Application to COVID-19</a>"
      ],
      "text/plain": [
       "<IPython.core.display.HTML object>"
      ]
     },
     "metadata": {},
     "output_type": "display_data"
    },
    {
     "name": "stdout",
     "output_type": "stream",
     "text": [
      "Traditional drug development processes are slow and ineffective against emerging public health threats such as the current SARS-CoV-2 coronavirus outbreak which makes the repurposing of existing drugs a timely and attractive alternative.\n"
     ]
    },
    {
     "data": {
      "text/html": [
       "<a href=\"http://doi.org/10.1101/2020.02.29.971093\" target=\"_blank\">Mycroft-West et al. (2020) Running title: SARS-CoV-2 surface S1 Receptor Binding Domain binds heparin The 2019 coronavirus (SARS-CoV-2) surface protein (Spike) S1 Receptor Binding Domain undergoes conformational change upon heparin binding</a>"
      ],
      "text/plain": [
       "<IPython.core.display.HTML object>"
      ]
     },
     "metadata": {},
     "output_type": "display_data"
    },
    {
     "name": "stdout",
     "output_type": "stream",
     "text": [
      "Overall, the updated MB-based extraction method had highly extraction efficiency and compatibility of PCR amplification in any of the patterns, which dramatically simplified laborious sample processing work and was ideally suitable for RT-PCR assay of SARS-CoV-2 with a sensitivity of 10 copies at least.\n"
     ]
    },
    {
     "data": {
      "text/html": [
       "<a href=\"http://doi.org/10.1101/2020.02.22.961268\" target=\"_blank\">A simple magnetic nanoparticles-based viral RNA extraction method for efficient detection of SARS-CoV-2</a>"
      ],
      "text/plain": [
       "<IPython.core.display.HTML object>"
      ]
     },
     "metadata": {},
     "output_type": "display_data"
    },
    {
     "name": "stdout",
     "output_type": "stream",
     "text": [
      "Thus, fast, convenient and automated nucleic acids extraction methods are highly desirable not just in the molecular diagnosis of SARS-CoV-2, but also in the monitoring and prevention of other infectious diseases.\n"
     ]
    },
    {
     "data": {
      "text/html": [
       "<a href=\"http://doi.org/10.1101/2020.02.22.961268\" target=\"_blank\">A simple magnetic nanoparticles-based viral RNA extraction method for efficient detection of SARS-CoV-2</a>"
      ],
      "text/plain": [
       "<IPython.core.display.HTML object>"
      ]
     },
     "metadata": {},
     "output_type": "display_data"
    },
    {
     "name": "stdout",
     "output_type": "stream",
     "text": [
      "New tools that employ deep learning algorithms have been demonstrated to produce theoretical MS2 spectra superior to previous prediction models and, in the absence of true experimental data, are the best resources currently available.\n"
     ]
    },
    {
     "data": {
      "text/html": [
       "<a href=\"http://doi.org/10.1101/2020.03.08.980383\" target=\"_blank\">In silico approach to accelerate the development of mass spectrometry-based proteomics methods for detection of viral proteins: Application to COVID-19</a>"
      ],
      "text/plain": [
       "<IPython.core.display.HTML object>"
      ]
     },
     "metadata": {},
     "output_type": "display_data"
    },
    {
     "name": "stdout",
     "output_type": "stream",
     "text": [
      "First, high case counts overwhelm diagnostic testing capacity, underscoring the need for a rapid pipeline for sample processing [5, 6] .\n"
     ]
    },
    {
     "data": {
      "text/html": [
       "<a href=\"http://doi.org/10.1101/2020.02.26.967026\" target=\"_blank\">CRISPR-based surveillance for COVID-19 using genomically-comprehensive machine learning design</a>"
      ],
      "text/plain": [
       "<IPython.core.display.HTML object>"
      ]
     },
     "metadata": {},
     "output_type": "display_data"
    },
    {
     "name": "stdout",
     "output_type": "stream",
     "text": [
      "https://doi.org/10.1101/2020.02.22.961268 doi: bioRxiv preprint sequences of SARS-CoV2 have been fully revealed and various RT-PCR-based detection kits have been developed, timely diagnosis of COVID-19 is still highly challenging partially due to the lack of satisfactory viral RNA extraction strategy.\n"
     ]
    },
    {
     "data": {
      "text/html": [
       "<a href=\"http://doi.org/10.1101/2020.02.22.961268\" target=\"_blank\">A simple magnetic nanoparticles-based viral RNA extraction method for efficient detection of SARS-CoV-2</a>"
      ],
      "text/plain": [
       "<IPython.core.display.HTML object>"
      ]
     },
     "metadata": {},
     "output_type": "display_data"
    },
    {
     "name": "stdout",
     "output_type": "stream",
     "text": [
      "We have not yet experimentally tested most of these designs, instead focusing our efforts so far on extensively testing a point-of-care assay for SARS-CoV-2 using the Cas13-based SHERLOCK technology [6, 8, 9] .\n"
     ]
    },
    {
     "data": {
      "text/html": [
       "<a href=\"http://doi.org/10.1101/2020.02.26.967026\" target=\"_blank\">CRISPR-based surveillance for COVID-19 using genomically-comprehensive machine learning design</a>"
      ],
      "text/plain": [
       "<IPython.core.display.HTML object>"
      ]
     },
     "metadata": {},
     "output_type": "display_data"
    },
    {
     "name": "stdout",
     "output_type": "stream",
     "text": [
      "• Predicted sensitivity : Assays are predicted by our machine learning model to have high detection activity against the full scope of targeted genomic diversity (here, based on Lwa Cas13a activity only).\n"
     ]
    },
    {
     "data": {
      "text/html": [
       "<a href=\"http://doi.org/10.1101/2020.02.26.967026\" target=\"_blank\">CRISPR-based surveillance for COVID-19 using genomically-comprehensive machine learning design</a>"
      ],
      "text/plain": [
       "<IPython.core.display.HTML object>"
      ]
     },
     "metadata": {},
     "output_type": "display_data"
    },
    {
     "name": "stdout",
     "output_type": "stream",
     "text": [
      "We and others, relying on this data [14] , have shown that it is possible to rapidly design CRISPR-based tools for detection and surveillance during an outbreak.\n"
     ]
    },
    {
     "data": {
      "text/html": [
       "<a href=\"http://doi.org/10.1101/2020.02.26.967026\" target=\"_blank\">CRISPR-based surveillance for COVID-19 using genomically-comprehensive machine learning design</a>"
      ],
      "text/plain": [
       "<IPython.core.display.HTML object>"
      ]
     },
     "metadata": {},
     "output_type": "display_data"
    },
    {
     "name": "stdout",
     "output_type": "stream",
     "text": [
      "The Prosit spectral libraries (Supplemental Material) enable the interrogation of DIA data and may be used for DDA experiments that employ tools such as the MSPepSearch (NIST).\n"
     ]
    },
    {
     "data": {
      "text/html": [
       "<a href=\"http://doi.org/10.1101/2020.03.08.980383\" target=\"_blank\">In silico approach to accelerate the development of mass spectrometry-based proteomics methods for detection of viral proteins: Application to COVID-19</a>"
      ],
      "text/plain": [
       "<IPython.core.display.HTML object>"
      ]
     },
     "metadata": {},
     "output_type": "display_data"
    },
    {
     "name": "stdout",
     "output_type": "stream",
     "text": [
      "Our in silico developed materials facilitate both global and targeted analysis by providing all necessary materials for both DDA and DIA investigation of these materials through the production of FASTA databases, spectral libraries and a list of predicted PTMs investigators should consider when searching with historic peptide search engines.\n"
     ]
    },
    {
     "data": {
      "text/html": [
       "<a href=\"http://doi.org/10.1101/2020.03.08.980383\" target=\"_blank\">In silico approach to accelerate the development of mass spectrometry-based proteomics methods for detection of viral proteins: Application to COVID-19</a>"
      ],
      "text/plain": [
       "<IPython.core.display.HTML object>"
      ]
     },
     "metadata": {},
     "output_type": "display_data"
    },
    {
     "name": "stdout",
     "output_type": "stream",
     "text": [
      "In vitro validation of this method is required and outside the scope of this paper given our lack of access to such samples.\n"
     ]
    },
    {
     "data": {
      "text/html": [
       "<a href=\"http://doi.org/10.1101/2020.03.08.980383\" target=\"_blank\">In silico approach to accelerate the development of mass spectrometry-based proteomics methods for detection of viral proteins: Application to COVID-19</a>"
      ],
      "text/plain": [
       "<IPython.core.display.HTML object>"
      ]
     },
     "metadata": {},
     "output_type": "display_data"
    },
    {
     "name": "stdout",
     "output_type": "stream",
     "text": [
      "Therefore, it is important to characterize these other pathogens, for both patient diagnostics and outbreak response.\n"
     ]
    },
    {
     "data": {
      "text/html": [
       "<a href=\"http://doi.org/10.1101/2020.02.26.967026\" target=\"_blank\">CRISPR-based surveillance for COVID-19 using genomically-comprehensive machine learning design</a>"
      ],
      "text/plain": [
       "<IPython.core.display.HTML object>"
      ]
     },
     "metadata": {},
     "output_type": "display_data"
    },
    {
     "name": "stdout",
     "output_type": "stream",
     "text": [
      "Therefore, the feasibility of automating viral RNA extraction procedure based on our pcMNPs was subsequently evaluated.\n"
     ]
    },
    {
     "data": {
      "text/html": [
       "<a href=\"http://doi.org/10.1101/2020.02.22.961268\" target=\"_blank\">A simple magnetic nanoparticles-based viral RNA extraction method for efficient detection of SARS-CoV-2</a>"
      ],
      "text/plain": [
       "<IPython.core.display.HTML object>"
      ]
     },
     "metadata": {},
     "output_type": "display_data"
    },
    {
     "name": "stdout",
     "output_type": "stream",
     "text": [
      "Such a lack of understanding limits effective risk assessment, prevention and control of COVID-19 disease outbreaks.\n"
     ]
    },
    {
     "data": {
      "text/html": [
       "<a href=\"http://doi.org/10.1101/2020.03.08.982637\" target=\"_blank\">Aerodynamic Characteristics and RNA Concentration of SARS-CoV-2 Aerosol in Wuhan Hospitals during COVID-19 Outbreak</a>"
      ],
      "text/plain": [
       "<IPython.core.display.HTML object>"
      ]
     },
     "metadata": {},
     "output_type": "display_data"
    }
   ],
   "source": [
    "top_n_similar_sentences_LDA_glove_cosine(8, 5, 30)"
   ]
  },
  {
   "cell_type": "markdown",
   "metadata": {},
   "source": [
    "Question 9: "
   ]
  },
  {
   "cell_type": "code",
   "execution_count": 147,
   "metadata": {
    "ExecuteTime": {
     "end_time": "2020-04-25T18:31:29.799906Z",
     "start_time": "2020-04-25T18:31:29.645909Z"
    }
   },
   "outputs": [
    {
     "name": "stdout",
     "output_type": "stream",
     "text": [
      "QUESTION #9: Disease models, including animal models for infection, disease and transmission\n",
      "\n",
      "\n"
     ]
    },
    {
     "data": {
      "text/plain": [
       "['More recently it has been shown that novel combinations of alleles have also resulted in new models for human disease such a spontaneous colitis [67] , and that F1 hybrids of CC mice were used to create an improved mouse model for Ebola virus disease [68] including hemorrhagic signs of disease previously not observed in a small animal model.',\n",
       " 'The ferret is the most suitable disease model for human influenza infection as it displays very human-like disease [20] [21] [22] .',\n",
       " 'The MA15 virus will enhance the use of the mouse model for SARS because infection with this virus in mice reproduces many aspects of severe human disease, including morbidity, mortality, and pulmonary pathology.',\n",
       " 'Ferrets are commonly used as experimental models of infection for a variety of respiratory viruses due to their susceptibility to these viruses and the close resemblance of the pathological features to those found in human infections [11, 12] , including the development of severe respiratory and neurological disease during henipavirus infection [13] [14] [15] .',\n",
       " 'On the other hand, the susceptible-exposed infectious recovery compartmentalized disease transmission model was implemented to simulate the dengue virus transmission within human populations ( Figure 1B ).',\n",
       " 'While camels and alpacas are natural hosts for MERS-CoV infection and have been used as disease models, 45 they develop a self-limited upper respiratory infection different from human infection.',\n",
       " 'An ideal animal model for the study of a human disease is one which utilizes a route of infection that mimics the natural transmission of the pathogen; the ability to obtain disease with an infectious dose equivalent to that causing disease in humans; as well having a disease course, morbidity and mortality similar to that seen with human disease.',\n",
       " 'For example, viral infection in an animal model of type I diabetes prevents disease development [15, 16] .',\n",
       " 'We have previously shown that golden hamsters are a suitable small animal model for NiV infection [45] , since they develop CNS manifestations of disease similar to the human disease, unlike the cat [58] or the ferret [59] , which develop primarily respiratory disease.',\n",
       " 'FLUAV spread and transmission has been observed in this model and the animals developed several but not all symptoms seen in human patients [35] .',\n",
       " 'Two categories of zoonotic diseases have been described: 4 (1) diseases for which transmission events to humans are rare but once occurred, horizontal transmission from human-to-human maintains a more or less sustainable infectious cycle (for example: ebola virus, from naturally infected chiropteran to human epidemics); (2) diseases for which direct or vector-mediated animal-tohuman transmission remains the common source of human infection (for example: Rift Valley fever virus (RVFV), mosquito-transmitted from infected domestic ungulates).',\n",
       " 'Mouse-adapted EBOV causes similar acute disease in mice, offering a useful animal model to study EBOV infection [3, 4] .',\n",
       " 'FIV infection and disease in domestic cats bears many similarities to HIV infection and AIDS in humans including similar routes of infection, cell and tissue tropism, clinical symptoms and course of disease [6, 7] .',\n",
       " 'Mice infected with different strains of Mouse Hepatitis Virus (MHV), the prototype of betacoronaviruses, provide animal models for human diseases.',\n",
       " 'This is in contrast to IAV mouse models that have proven robust viral replication and disease that closely model human disease.',\n",
       " 'Since then, the immunogenic potential of ICs, alone or in combination with different types of adjuvants, has been tested in several viral infection systems, including animal models of human infections, for example, those involving HBV, HIV, RSV or flaviviruses.',\n",
       " 'Different animal models have been developed to address various sCNDD, cardiovascular disease complications, and T2DM.',\n",
       " 'A number of animal disease models have been recognized or developed which have similarities with MS. As shown in Table 1 , they include viral infections alone or combined with immunologic defects.',\n",
       " 'The absence of severe respiratory disease and kidney disease in these nonhuman primates makes it imperative that additional animal models be developed.',\n",
       " 'Discovery that the rhesus monkey and the white mouse are susceptible to infection with YFV, providing models for subsequent studies on the pathogenesis, transmission, epidemiology, and control of the disease; 3.',\n",
       " 'Transport/Transmission models Epidemiology studies can link disease cases together and develop a disease transport and transmission model [8] .',\n",
       " 'A dynamic transmission model of an infectious disease can be constructed by using the patterns of disease occurrence and transmission, and the relationships between the disease and social factors.',\n",
       " 'reported adapted viral strains (Asibi/hamster p7) allow the reproduction of yellow fever disease in hamsters with features similar to the human disease (59) .',\n",
       " 'Infectious disease models are developed and informed using a combination of available evidence, for example on infection transmission, disease natural history and intervention effectiveness.',\n",
       " 'Results in animal models may be useful in human disease.',\n",
       " 'One particular challenge with the use of animal models for development of a prophylactic HIV-1 vaccine is that there are very few naturally occurring disease models of HIV-1.',\n",
       " \"The dynamics of pTfh during acute viral infection in patients hasn't been previously reported, despite limited data on HIV and SIV infections in animal models 12, 13, 54 .\",\n",
       " 'We show here a new ferret model of Nipah virus pathogenesis in which the underlying pathology closely mirrors the illness seen in Nipah virus-infected humans, including both respiratory and neurological disease.',\n",
       " 'In experimental settings, animal-to-animal transmission has been shown for alpacas, making them a possible risk population for human infections [58] .',\n",
       " 'The caprine arthritis-encephalitis virus (CAEV) and the Maedi-Visna virus (MVV) present an example of closely related lentiviruses establishing in the inner-body organ systems of sheep and goats.']"
      ]
     },
     "execution_count": 147,
     "metadata": {},
     "output_type": "execute_result"
    }
   ],
   "source": [
    "top_n_similar_sentences_glove_cosine(9,30)"
   ]
  },
  {
   "cell_type": "code",
   "execution_count": 169,
   "metadata": {
    "ExecuteTime": {
     "end_time": "2020-04-25T19:47:14.325364Z",
     "start_time": "2020-04-25T19:47:10.479838Z"
    },
    "scrolled": false
   },
   "outputs": [
    {
     "name": "stdout",
     "output_type": "stream",
     "text": [
      "QUESTION #9: Disease models, including animal models for infection, disease and transmission\n",
      "\n",
      "\n",
      "The second component, f late , models HIV transmission during the asymptomatic stage and the disease stage (after progression to Acquired Immune Deficiency Syndrome (AIDS)).\n"
     ]
    },
    {
     "data": {
      "text/html": [
       "<a href=\"http://doi.org/10.1101/2020.03.02.974048\" target=\"_blank\">Speed and strength of an epidemic intervention</a>"
      ],
      "text/plain": [
       "<IPython.core.display.HTML object>"
      ]
     },
     "metadata": {},
     "output_type": "display_data"
    },
    {
     "name": "stdout",
     "output_type": "stream",
     "text": [
      "Furin, along with other PCSK family members, is widely implicated in immune regulation, cancer and the entry, maturation or release of a broad array of evolutionarily diverse viruses including human papillomavirus (HPV), influenza (IAV), Ebola (EboV), dengue (DenV) and human immunodeficiency virus (HIV).\n"
     ]
    },
    {
     "data": {
      "text/html": [
       "<a href=\"http://dx.doi.org/10.1002/cti2.1115\" target=\"_blank\">Frontiers in antiviral therapy and immunotherapy</a>"
      ],
      "text/plain": [
       "<IPython.core.display.HTML object>"
      ]
     },
     "metadata": {},
     "output_type": "display_data"
    },
    {
     "name": "stdout",
     "output_type": "stream",
     "text": [
      "It has been noted that the two previously known human coronaviruses causing epidemic disease and spread, SARS-CoV and MERS-CoV, had a relatively low rate of spread from an individual infected patient (an index referred to as its basic reproductive number-R。).\n"
     ]
    },
    {
     "data": {
      "text/html": [
       "<a href=\"http://doi.org/10.1097/CM9.0000000000000760\" target=\"_blank\">no title</a>"
      ],
      "text/plain": [
       "<IPython.core.display.HTML object>"
      ]
     },
     "metadata": {},
     "output_type": "display_data"
    },
    {
     "name": "stdout",
     "output_type": "stream",
     "text": [
      "Coronaviruses have in the past been known to be the etiologic agents of mild upper respiratory infections in humans, similar to the ubiquitous and relatively benign \"common cold\"-type upper respiratory illnesses induced by the human rhinoviruses in adults and children.\n"
     ]
    },
    {
     "data": {
      "text/html": [
       "<a href=\"http://doi.org/10.1097/CM9.0000000000000760\" target=\"_blank\">no title</a>"
      ],
      "text/plain": [
       "<IPython.core.display.HTML object>"
      ]
     },
     "metadata": {},
     "output_type": "display_data"
    },
    {
     "name": "stdout",
     "output_type": "stream",
     "text": [
      "Observed characteristics of the outbreak led us to believe that the cluster of cases was due to \"Disease X\" (i.e., an infectious disease of previously unknown viral etiology).\n"
     ]
    },
    {
     "data": {
      "text/html": [
       "<a href=\"http://doi.org/10.3390/jcm9030637\" target=\"_blank\">Epidemiological Identification of A Novel Pathogen in Real Time: Analysis of the Atypical Pneumonia Outbreak in Wuhan</a>"
      ],
      "text/plain": [
       "<IPython.core.display.HTML object>"
      ]
     },
     "metadata": {},
     "output_type": "display_data"
    },
    {
     "name": "stdout",
     "output_type": "stream",
     "text": [
      "In our HIV example, both the HIV epidemic and the test-and-treat intervention can be best characterized using speed.\n"
     ]
    },
    {
     "data": {
      "text/html": [
       "<a href=\"http://doi.org/10.1101/2020.03.02.974048\" target=\"_blank\">Speed and strength of an epidemic intervention</a>"
      ],
      "text/plain": [
       "<IPython.core.display.HTML object>"
      ]
     },
     "metadata": {},
     "output_type": "display_data"
    },
    {
     "name": "stdout",
     "output_type": "stream",
     "text": [
      "We model the infection kernel of the HIV as a sum of two gamma distributions:\n",
      " The first component, f early (τ ), models early HIV transmission during the acute infection stage.\n"
     ]
    },
    {
     "data": {
      "text/html": [
       "<a href=\"http://doi.org/10.1101/2020.03.02.974048\" target=\"_blank\">Speed and strength of an epidemic intervention</a>"
      ],
      "text/plain": [
       "<IPython.core.display.HTML object>"
      ]
     },
     "metadata": {},
     "output_type": "display_data"
    },
    {
     "name": "stdout",
     "output_type": "stream",
     "text": [
      "The outbreaks of two previous coronaviruses, SARS-CoV and MERS-CoV in 2003 and 2012, respectively, have approved the transmission from animal to animal, and human to human [4] .\n"
     ]
    },
    {
     "data": {
      "text/html": [
       "<a href=\"http://doi.org/10.3390/jcm9030674\" target=\"_blank\">Clinical Medicine Optimization Method for Forecasting Confirmed Cases of COVID-19 in China</a>"
      ],
      "text/plain": [
       "<IPython.core.display.HTML object>"
      ]
     },
     "metadata": {},
     "output_type": "display_data"
    },
    {
     "name": "stdout",
     "output_type": "stream",
     "text": [
      "In this instance, atypical pneumonia combined with reduced white blood cell counts and the lack of response to antibiotics indicated that the pathogen was consistent with viral rather than bacterial infection.\n"
     ]
    },
    {
     "data": {
      "text/html": [
       "<a href=\"http://doi.org/10.3390/jcm9030637\" target=\"_blank\">Epidemiological Identification of A Novel Pathogen in Real Time: Analysis of the Atypical Pneumonia Outbreak in Wuhan</a>"
      ],
      "text/plain": [
       "<IPython.core.display.HTML object>"
      ]
     },
     "metadata": {},
     "output_type": "display_data"
    },
    {
     "name": "stdout",
     "output_type": "stream",
     "text": [
      "The probability that the outbreak is due to an unknown pathogen (Disease X) increases as more information becomes available, for two reasons: (i) the current outbreak can be seen to exhibit characteristics that are not similar to those observed in previous outbreaks, and; (ii) previously observed pathogens are ruled out by laboratory test results.\n"
     ]
    },
    {
     "data": {
      "text/html": [
       "<a href=\"http://doi.org/10.3390/jcm9030637\" target=\"_blank\">Epidemiological Identification of A Novel Pathogen in Real Time: Analysis of the Atypical Pneumonia Outbreak in Wuhan</a>"
      ],
      "text/plain": [
       "<IPython.core.display.HTML object>"
      ]
     },
     "metadata": {},
     "output_type": "display_data"
    },
    {
     "name": "stdout",
     "output_type": "stream",
     "text": [
      "In our model, disease incidence at time t is given by:\n",
      " Here, K(τ, t) is the infection kernel describing how infectious we expect an individual infected τ time units ago to be in the population.\n"
     ]
    },
    {
     "data": {
      "text/html": [
       "<a href=\"http://doi.org/10.1101/2020.03.02.974048\" target=\"_blank\">Speed and strength of an epidemic intervention</a>"
      ],
      "text/plain": [
       "<IPython.core.display.HTML object>"
      ]
     },
     "metadata": {},
     "output_type": "display_data"
    },
    {
     "name": "stdout",
     "output_type": "stream",
     "text": [
      "For instance, most cases shared a history of visiting or working at a seafood market in Wuhan [3] , where exposure to the novel coronavirus is suspected to have occurred with no evidence of direct human-to-human transmission [2] , although human-to-human transmission was found later to be common.\n"
     ]
    },
    {
     "data": {
      "text/html": [
       "<a href=\"http://doi.org/10.3390/jcm9030637\" target=\"_blank\">Epidemiological Identification of A Novel Pathogen in Real Time: Analysis of the Atypical Pneumonia Outbreak in Wuhan</a>"
      ],
      "text/plain": [
       "<IPython.core.display.HTML object>"
      ]
     },
     "metadata": {},
     "output_type": "display_data"
    },
    {
     "name": "stdout",
     "output_type": "stream",
     "text": [
      "Because the only information on 30 December 2019 was that cases had symptoms of atypical pneumonia, the distances between the ongoing outbreak and the eleven known pathogens were all zero; thus, all eleven candidate pathogens initially showed an identical probability of 8.3% (i.e., 1/12, when the possibility of Disease X is accounted for).\n"
     ]
    },
    {
     "data": {
      "text/html": [
       "<a href=\"http://doi.org/10.3390/jcm9030637\" target=\"_blank\">Epidemiological Identification of A Novel Pathogen in Real Time: Analysis of the Atypical Pneumonia Outbreak in Wuhan</a>"
      ],
      "text/plain": [
       "<IPython.core.display.HTML object>"
      ]
     },
     "metadata": {},
     "output_type": "display_data"
    },
    {
     "name": "stdout",
     "output_type": "stream",
     "text": [
      "It is now hypothesized that one of the reservoir coronavirus species in bats crossed the species barrier to an intermediate mammal host (presumed to be a masked civet) sold at the wet market at the epicenter of the current epidemic, with subsequent mutation and transmission to humans, initiating the present epidemic of COVID-19.\n"
     ]
    },
    {
     "data": {
      "text/html": [
       "<a href=\"http://doi.org/10.1097/CM9.0000000000000760\" target=\"_blank\">no title</a>"
      ],
      "text/plain": [
       "<IPython.core.display.HTML object>"
      ]
     },
     "metadata": {},
     "output_type": "display_data"
    },
    {
     "name": "stdout",
     "output_type": "stream",
     "text": [
      "In particular, we provided an alternative explanation for the result of Eaton and Hallett (2014) who used detailed mathematical modeling of HIV transmission to show that the amount of early transmission does not affect the effectiveness of the ART: we can control an outbreak if we can identify infected individuals and enroll them on ART faster than the observed rate at which new cases are generated, which does not depend on the estimates of the amount of early transmission.\n"
     ]
    },
    {
     "data": {
      "text/html": [
       "<a href=\"http://doi.org/10.1101/2020.03.02.974048\" target=\"_blank\">Speed and strength of an epidemic intervention</a>"
      ],
      "text/plain": [
       "<IPython.core.display.HTML object>"
      ]
     },
     "metadata": {},
     "output_type": "display_data"
    },
    {
     "name": "stdout",
     "output_type": "stream",
     "text": [
      "Now imagine an intervention that reduces transmission at a constant hazard rate φ across the disease generation ( Fig.\n"
     ]
    },
    {
     "data": {
      "text/html": [
       "<a href=\"http://doi.org/10.1101/2020.03.02.974048\" target=\"_blank\">Speed and strength of an epidemic intervention</a>"
      ],
      "text/plain": [
       "<IPython.core.display.HTML object>"
      ]
     },
     "metadata": {},
     "output_type": "display_data"
    },
    {
     "name": "stdout",
     "output_type": "stream",
     "text": [
      "In particular, we study how the amount of early HIV transmission affects estimates of intervention effectiveness.\n"
     ]
    },
    {
     "data": {
      "text/html": [
       "<a href=\"http://doi.org/10.1101/2020.03.02.974048\" target=\"_blank\">Speed and strength of an epidemic intervention</a>"
      ],
      "text/plain": [
       "<IPython.core.display.HTML object>"
      ]
     },
     "metadata": {},
     "output_type": "display_data"
    },
    {
     "name": "stdout",
     "output_type": "stream",
     "text": [
      "Next, we consider a \"test-and-treat\" strategy in which infected individuals are identified, linked to care and receive antiretroviral therapy (ART) with the goal of both preserving health and preventing transmission through viral suppression.\n"
     ]
    },
    {
     "data": {
      "text/html": [
       "<a href=\"http://doi.org/10.1101/2020.03.02.974048\" target=\"_blank\">Speed and strength of an epidemic intervention</a>"
      ],
      "text/plain": [
       "<IPython.core.display.HTML object>"
      ]
     },
     "metadata": {},
     "output_type": "display_data"
    },
    {
     "name": "stdout",
     "output_type": "stream",
     "text": [
      "As the outbreak unfolded, we calculated in real-time the probability that the pathogen responsible for the atypical pneumonia cases was novel (Disease X), as opposed to the outbreak instead being generated by a previously known pathogen that can cause atypical pneumonia.\n"
     ]
    },
    {
     "data": {
      "text/html": [
       "<a href=\"http://doi.org/10.3390/jcm9030637\" target=\"_blank\">Epidemiological Identification of A Novel Pathogen in Real Time: Analysis of the Atypical Pneumonia Outbreak in Wuhan</a>"
      ],
      "text/plain": [
       "<IPython.core.display.HTML object>"
      ]
     },
     "metadata": {},
     "output_type": "display_data"
    },
    {
     "name": "stdout",
     "output_type": "stream",
     "text": [
      "For example, in the classic case of vaccination to eliminate a previously established childhood disease, both disease spread and intervention can be clearly characterized using strength (Anderson and May, 1985) .\n"
     ]
    },
    {
     "data": {
      "text/html": [
       "<a href=\"http://doi.org/10.1101/2020.03.02.974048\" target=\"_blank\">Speed and strength of an epidemic intervention</a>"
      ],
      "text/plain": [
       "<IPython.core.display.HTML object>"
      ]
     },
     "metadata": {},
     "output_type": "display_data"
    },
    {
     "name": "stdout",
     "output_type": "stream",
     "text": [
      "Despite the future improvements to our statistical modelling framework that are required, including the need to test our approach using data from outbreaks of previously known pathogens, this short study demonstrated clearly that the ongoing outbreak is consistent with causation by a novel pathogen, \"Disease X\".\n"
     ]
    },
    {
     "data": {
      "text/html": [
       "<a href=\"http://doi.org/10.3390/jcm9030637\" target=\"_blank\">Epidemiological Identification of A Novel Pathogen in Real Time: Analysis of the Atypical Pneumonia Outbreak in Wuhan</a>"
      ],
      "text/plain": [
       "<IPython.core.display.HTML object>"
      ]
     },
     "metadata": {},
     "output_type": "display_data"
    },
    {
     "name": "stdout",
     "output_type": "stream",
     "text": [
      "We suggest that infectious disease modelers should be aware of the complementarity of these two frameworks when analyzing disease outbreaks.\n"
     ]
    },
    {
     "data": {
      "text/html": [
       "<a href=\"http://doi.org/10.1101/2020.03.02.974048\" target=\"_blank\">Speed and strength of an epidemic intervention</a>"
      ],
      "text/plain": [
       "<IPython.core.display.HTML object>"
      ]
     },
     "metadata": {},
     "output_type": "display_data"
    },
    {
     "name": "stdout",
     "output_type": "stream",
     "text": [
      "Six coronavirus species had, prior to the 08 th January 2020, been known to cause disease in humans.\n"
     ]
    },
    {
     "data": {
      "text/html": [
       "<a href=\"http://doi.org/10.1097/CM9.0000000000000760\" target=\"_blank\">no title</a>"
      ],
      "text/plain": [
       "<IPython.core.display.HTML object>"
      ]
     },
     "metadata": {},
     "output_type": "display_data"
    },
    {
     "name": "stdout",
     "output_type": "stream",
     "text": [
      "An impressive series of rapid virological examinations ruled out common pneumonia-causing viruses such as influenza viruses, adenoviruses, and the coronaviruses associated with Middle East respiratory syndrome (MERS) and severe acute respiratory syndrome (SARS) [2] [3] [4] [5] .\n"
     ]
    },
    {
     "data": {
      "text/html": [
       "<a href=\"http://doi.org/10.3390/jcm9030637\" target=\"_blank\">Epidemiological Identification of A Novel Pathogen in Real Time: Analysis of the Atypical Pneumonia Outbreak in Wuhan</a>"
      ],
      "text/plain": [
       "<IPython.core.display.HTML object>"
      ]
     },
     "metadata": {},
     "output_type": "display_data"
    },
    {
     "name": "stdout",
     "output_type": "stream",
     "text": [
      "Subsequent to the severe acute respiratory syndrome (SARS) outbreak in China 2003, and the Middle East respiratory syndrome (MERS) outbreak in the Middle East in 2012, global concerns regarding the pathogenicity and epidemic/ pandemic potential of novel human coronaviruses began to emerge, with some experts predicting that novel coronaviruses could likely again cross the species barrier and present humans with future pandemic-potential infections [1] .\n"
     ]
    },
    {
     "data": {
      "text/html": [
       "<a href=\"http://doi.org/10.1097/CM9.0000000000000760\" target=\"_blank\">no title</a>"
      ],
      "text/plain": [
       "<IPython.core.display.HTML object>"
      ]
     },
     "metadata": {},
     "output_type": "display_data"
    },
    {
     "name": "stdout",
     "output_type": "stream",
     "text": [
      "Although virological investigation is the gold standard for pathogen identification, and the virus has now been confirmed to be a novel coronavirus that is a relative of SARS, laboratory-based outcomes can only be obtained after successfully sequencing the novel virus, which can sometimes be a lengthy process.\n"
     ]
    },
    {
     "data": {
      "text/html": [
       "<a href=\"http://doi.org/10.3390/jcm9030637\" target=\"_blank\">Epidemiological Identification of A Novel Pathogen in Real Time: Analysis of the Atypical Pneumonia Outbreak in Wuhan</a>"
      ],
      "text/plain": [
       "<IPython.core.display.HTML object>"
      ]
     },
     "metadata": {},
     "output_type": "display_data"
    },
    {
     "name": "stdout",
     "output_type": "stream",
     "text": [
      "SARS-CoV-2 is the seventh coronavirus species that is now known to infect humans, is also zoonotic in origin, and is the causative organism for the current viral pneumonia epidemic in China.\n"
     ]
    },
    {
     "data": {
      "text/html": [
       "<a href=\"http://doi.org/10.1097/CM9.0000000000000760\" target=\"_blank\">no title</a>"
      ],
      "text/plain": [
       "<IPython.core.display.HTML object>"
      ]
     },
     "metadata": {},
     "output_type": "display_data"
    },
    {
     "name": "stdout",
     "output_type": "stream",
     "text": [
      "A significantly large variety of coronavirus species cause a diverse range of diseases in domesticated and wild mammals and birds, and these animals may also be carriers of and reservoirs for coronaviruses [2] .\n"
     ]
    },
    {
     "data": {
      "text/html": [
       "<a href=\"http://doi.org/10.1097/CM9.0000000000000760\" target=\"_blank\">no title</a>"
      ],
      "text/plain": [
       "<IPython.core.display.HTML object>"
      ]
     },
     "metadata": {},
     "output_type": "display_data"
    },
    {
     "name": "stdout",
     "output_type": "stream",
     "text": [
      "Four species are endemic in human populations, and cause mild common cold symptoms in immunocompetent humans.\n"
     ]
    },
    {
     "data": {
      "text/html": [
       "<a href=\"http://doi.org/10.1097/CM9.0000000000000760\" target=\"_blank\">no title</a>"
      ],
      "text/plain": [
       "<IPython.core.display.HTML object>"
      ]
     },
     "metadata": {},
     "output_type": "display_data"
    },
    {
     "name": "stdout",
     "output_type": "stream",
     "text": [
      "The two remaining species, SARS-CoV and MERS-CoV, are zoonotic in origin, and their infection of humans may have fatal outcomes.\n"
     ]
    },
    {
     "data": {
      "text/html": [
       "<a href=\"http://doi.org/10.1097/CM9.0000000000000760\" target=\"_blank\">no title</a>"
      ],
      "text/plain": [
       "<IPython.core.display.HTML object>"
      ]
     },
     "metadata": {},
     "output_type": "display_data"
    }
   ],
   "source": [
    "top_n_similar_sentences_LDA_glove_cosine(9, 5, 30)"
   ]
  },
  {
   "cell_type": "markdown",
   "metadata": {},
   "source": [
    "Question 10: "
   ]
  },
  {
   "cell_type": "code",
   "execution_count": 149,
   "metadata": {
    "ExecuteTime": {
     "end_time": "2020-04-25T18:31:35.956297Z",
     "start_time": "2020-04-25T18:31:35.792298Z"
    }
   },
   "outputs": [
    {
     "name": "stdout",
     "output_type": "stream",
     "text": [
      "QUESTION #10: Tools and studies to monitor phenotypic change and potential adaptation of the virus\n",
      "\n",
      "\n"
     ]
    },
    {
     "data": {
      "text/plain": [
       "['We demonstrate viral genetic and phenotypic differences in viruses from West Africa, which may be relevant to differences in zoonotic potential, highlighting the need for studies of MERS-CoV at the animal-human interface.',\n",
       " 'New animal models that recapitulate features of human lung disease allow preclinical studies to refine delivery protocols and measure novel metrics of phenotypic correction.',\n",
       " 'Theoretically, a replicating RNA virus expresses a range of genetic and phenotypic variants and has the potential to generate novel virions, which may be selected in response to environmental pressures.',\n",
       " 'To assess the risk and potential for human pathogenicity of novel bat viruses, it is crucial to establish valid research tools for comparative in vitro infection modeling.',\n",
       " 'Future experimental studies on these reassortant viruses, that assess viral transmissibility between species, together with epidemiological studies, such as viral monitoring within Indonesian animal populations using serological tests and PCR detection, would give more clues to these questions.',\n",
       " 'Since technologies of bacterial detection cannot be applied directly to virus detection, (refer to Section 8.5 Current Challenges and Future Trends for more detail) this review focuses on the current limited foodborne virus detection, and the possibilities of adopting technologies and devices indirectly from bacterial studies, basic virus studies, and human clinical virus studies.',\n",
       " 'While the differences in the pathology may severely hamper the predictive value of mouse studies using therapeutic strategies that rely on targeting mouse-specific virus-host interaction or the pathologic response by rodents, interventions that target viral replication can be evaluated with a high degree of confidence in this model.',\n",
       " 'Studies using the newly emerging mouse model and clinical studies in humans demonstrate that the adaptive immune response is key in controlling astrovirus infection and disease.',\n",
       " 'In summary, the EVOC system constitutes a useful biological tool with a wide range of possible applications for the study of influenza infection, including the evaluation of mutants obtained by reverse genetics, the study of natural variability and reassortment events, the effects of antiviral drugs in natural target cells, investigation of host susceptibility and range of influenza viruses and the development of mathematical models of infection dynamics.',\n",
       " '141 As for immunological studies, transcriptomic sequencing in ferrets \\n While the ferret model has unique potential for informative studies into pathogenic viral infections as noted above, addressing several key knowledge gaps will substantially advance the ferret as an immunological model.',\n",
       " 'This review has summarized the characterization studies of relevant arboviruses in knockout out IFNAR mice to provide a small animal model for studying pathogenesis and control strategies.',\n",
       " 'Larger epidemiologic studies using genetic and serologic screening will be necessary to provide more insight into the distribution and pathogenic potential of recoviruses in humans.',\n",
       " 'A detailed description of MERS-CoV evolution is useful to assess public health risks, to help identify the source of new infections, and to detect viral adaptation to human transmission.',\n",
       " 'The use of new tools such as those deployed here and other novel biochemical, genetic, and experimental approaches will allow quantitative analysis of the expression of various Sia moieties and of their effects on pathogens and host responses.',\n",
       " 'The identification of such genes is critical to our understanding of viral adaptation during host switching, and to the development of animal models in which to study human viruses.',\n",
       " 'Furthermore, the identification of new human pathogens requires a continuous study to monitor the potential impact of these animals in their diffusion.',\n",
       " 'Isolation and phenotypic characterization should be critical components of virus discovery programs because the analysis of novel viral sequences is not currently enough to predict the likelihood of that virus causing a zoonotic disease event [10] .',\n",
       " 'Pioneering studies have ignored the high genetic variability of viruses in fitness and in mode of action.',\n",
       " 'As a complement to human genome wide association studies, here we apply a new approach designed to dissect the identity and contributions of monogenic and oligogenic variants on multiple traits in complex disease outcomes following acute virus infection in a mouse model of human populations.',\n",
       " 'As datasets from global host-pathogen interaction studies continue to become available, novel meta-analyses at the systems level may allow particular patterns associated with pathogen, host, and disease pathology to be observed, which can feed back into models for vaccine development.',\n",
       " '7, 8 Thus, novel systemic approaches are required to predict protective immune responses from high throughput sequencing and bioinformatics analysis and to identify potential antigenic targets to guide and accelerate vaccine development.',\n",
       " 'Presently, the roles of trogocytosis in immune responses to virus infection are not known, and additional research will be needed to determine how this process impacts virus pathogenesis and to further explore potential integrations with ADCP.',\n",
       " 'In this study, our purpose of using AOAA in mouse study is to demonstrate the role of GLDC for development of severe influenza, although our data implicated the potential therapeutic application of GLDC inhibition.',\n",
       " 'Due to the widespread presence of FFV in domestic cat populations and the knowledge gaps that remain about FFV pathogenicity, especially considering its use in vaccine and gene therapy development, biochemical and histopathologic data from an in vivo FFV experimental infection in healthy SPF domestic cats [10] were further analyzed with emphasis on clinical, immunological, and pathological characteristics and changes during early infection.',\n",
       " 'Further research needs to be conducted to better understand the epidemiology, pathogenic mechanisms, and potential cross-species transmission of this novel BNoV.',\n",
       " 'In fundamental virus studies, it also enables researchers to test the consequences of defined genetic differences on phenotype, such as growth properties, cell-virus interaction, replication cycle characteristics, pathogenicity, or others -the approach known as \"reverse genetics\".',\n",
       " 'Therefore, it is important to perform genotypic characterization of ERVA strains in order to understand the molecular epidemiology of ERVA, identify novel viral reassortants and potential interspecies transmission, and assess vaccine performance in the field.',\n",
       " 'Nevertheless, these preliminary studies show the potential of untargeted metagenomic sequencing to detect novel and known human pathogens.',\n",
       " 'The genetic engineering of mouse models designed to fill this need should be seen as a priority in this research field, because this will be the only rigorous way to evaluate the role of pDCs in vivo in the defense against herpesviruses and more generally in the orchestration of the immune responses to viral infections.',\n",
       " '2 With the advent of new, sequence-based technologies that do not rely on the ability to isolate viruses for their identification, it is now possible to define and characterise viruses in different environmental samples in greater detail than ever before, which has resulted in an increased interest in the role the viral assemblage of the human gut microbiota plays in health and disease.']"
      ]
     },
     "execution_count": 149,
     "metadata": {},
     "output_type": "execute_result"
    }
   ],
   "source": [
    "top_n_similar_sentences_glove_cosine(10,30)"
   ]
  },
  {
   "cell_type": "code",
   "execution_count": 170,
   "metadata": {
    "ExecuteTime": {
     "end_time": "2020-04-25T19:47:28.774372Z",
     "start_time": "2020-04-25T19:47:24.578373Z"
    },
    "scrolled": false
   },
   "outputs": [
    {
     "name": "stdout",
     "output_type": "stream",
     "text": [
      "QUESTION #10: Tools and studies to monitor phenotypic change and potential adaptation of the virus\n",
      "\n",
      "\n",
      "Importantly, 149\n",
      " Muc4 has been detected in synovial sarcomas in humans, thus presenting a novel tissue Screening genetically diverse mouse models provides an opportunity to identify natural 163 variation in novel factors which drive viral disease responses.\n"
     ]
    },
    {
     "data": {
      "text/html": [
       "<a href=\"http://doi.org/10.1101/2020.02.19.957118\" target=\"_blank\">Mucin 4 Protects Female Mice from Coronavirus Pathogenesis</a>"
      ],
      "text/plain": [
       "<IPython.core.display.HTML object>"
      ]
     },
     "metadata": {},
     "output_type": "display_data"
    },
    {
     "name": "stdout",
     "output_type": "stream",
     "text": [
      "It could facilitate identification of human virus receptors in either computational or experimental studies.\n"
     ]
    },
    {
     "data": {
      "text/html": [
       "<a href=\"http://doi.org/10.1101/2020.02.27.967885\" target=\"_blank\">Prediction of receptorome for human-infecting virome</a>"
      ],
      "text/plain": [
       "<IPython.core.display.HTML object>"
      ]
     },
     "metadata": {},
     "output_type": "display_data"
    },
    {
     "name": "stdout",
     "output_type": "stream",
     "text": [
      "developed an in silico computational framework (P-HIPSTer) that employs structural information to predict more than 280,000 PPIs between 1,001 human-infecting viruses and humans, and made a series of new findings about human-virus interactions (Lasso et al., 2019) .\n"
     ]
    },
    {
     "data": {
      "text/html": [
       "<a href=\"http://doi.org/10.1101/2020.02.27.967885\" target=\"_blank\">Prediction of receptorome for human-infecting virome</a>"
      ],
      "text/plain": [
       "<IPython.core.display.HTML object>"
      ]
     },
     "metadata": {},
     "output_type": "display_data"
    },
    {
     "name": "stdout",
     "output_type": "stream",
     "text": [
      "Daily results for all pathology-related data types (histopathology, weight 329 change, and footpad swelling) was analyzed by three-way ANOVA to determine the impact of 330 mouse strain, sex, and infection status.\n"
     ]
    },
    {
     "data": {
      "text/html": [
       "<a href=\"http://doi.org/10.1101/2020.02.19.957118\" target=\"_blank\">Mucin 4 Protects Female Mice from Coronavirus Pathogenesis</a>"
      ],
      "text/plain": [
       "<IPython.core.display.HTML object>"
      ]
     },
     "metadata": {},
     "output_type": "display_data"
    },
    {
     "name": "stdout",
     "output_type": "stream",
     "text": [
      "In this study, we used TWIRLS, a machine-based approach to collect, summarize, and analyze about 15,000 biomedical articles related to coronavirus, with the aim to elucidate the mechanisms underlying coronavirus-induced host pathological changes.\n"
     ]
    },
    {
     "data": {
      "text/html": [
       "<a href=\"http://doi.org/10.1101/2020.02.27.967588\" target=\"_blank\">TWIRLS, an automated topic-wise inference method based on massive literature, suggests a possible mechanism via ACE2 for the pathological changes in the human host after coronavirus infection</a>"
      ],
      "text/plain": [
       "<IPython.core.display.HTML object>"
      ]
     },
     "metadata": {},
     "output_type": "display_data"
    },
    {
     "name": "stdout",
     "output_type": "stream",
     "text": [
      "Our initial hypothesis for Muc4 to play a 176 role in controlling virus replication proved incorrect, or, at the very least, substantially more 177 complex than a simple, direct correlate; however, our exploration found a disease-interaction 178 that played a role in pathogenesis across multiple viruses.\n"
     ]
    },
    {
     "data": {
      "text/html": [
       "<a href=\"http://doi.org/10.1101/2020.02.19.957118\" target=\"_blank\">Mucin 4 Protects Female Mice from Coronavirus Pathogenesis</a>"
      ],
      "text/plain": [
       "<IPython.core.display.HTML object>"
      ]
     },
     "metadata": {},
     "output_type": "display_data"
    },
    {
     "name": "stdout",
     "output_type": "stream",
     "text": [
      "Therefore, TWIRLS clusters CSSEs according to the rules defined by CSHG distribution, as genetic level research can accurately answer and solve physiological and pathological problems.\n"
     ]
    },
    {
     "data": {
      "text/html": [
       "<a href=\"http://doi.org/10.1101/2020.02.27.967588\" target=\"_blank\">TWIRLS, an automated topic-wise inference method based on massive literature, suggests a possible mechanism via ACE2 for the pathological changes in the human host after coronavirus infection</a>"
      ],
      "text/plain": [
       "<IPython.core.display.HTML object>"
      ]
     },
     "metadata": {},
     "output_type": "display_data"
    },
    {
     "name": "stdout",
     "output_type": "stream",
     "text": [
      "These studies can also provide 164 therapeutic, prophylactic and molecular insights into emerging pathogens, which are difficult to 165 study during the context of an outbreak.\n"
     ]
    },
    {
     "data": {
      "text/html": [
       "<a href=\"http://doi.org/10.1101/2020.02.19.957118\" target=\"_blank\">Mucin 4 Protects Female Mice from Coronavirus Pathogenesis</a>"
      ],
      "text/plain": [
       "<IPython.core.display.HTML object>"
      ]
     },
     "metadata": {},
     "output_type": "display_data"
    },
    {
     "name": "stdout",
     "output_type": "stream",
     "text": [
      "Here, prior phenotypic QTL analysis, bioinformatics, 166\n",
      " and RNA expression analysis were leveraged to identify Muc4 as a high priority candidate gene 167 driving differences in SARS-CoV titer.\n"
     ]
    },
    {
     "data": {
      "text/html": [
       "<a href=\"http://doi.org/10.1101/2020.02.19.957118\" target=\"_blank\">Mucin 4 Protects Female Mice from Coronavirus Pathogenesis</a>"
      ],
      "text/plain": [
       "<IPython.core.display.HTML object>"
      ]
     },
     "metadata": {},
     "output_type": "display_data"
    },
    {
     "name": "stdout",
     "output_type": "stream",
     "text": [
      "By combining this system with generalized interaction databases, we can reveal further associations that can provide a deeper understanding of the biological mechanisms of the disease phenotype caused by virus-host interactions.\n"
     ]
    },
    {
     "data": {
      "text/html": [
       "<a href=\"http://doi.org/10.1101/2020.02.27.967588\" target=\"_blank\">TWIRLS, an automated topic-wise inference method based on massive literature, suggests a possible mechanism via ACE2 for the pathological changes in the human host after coronavirus infection</a>"
      ],
      "text/plain": [
       "<IPython.core.display.HTML object>"
      ]
     },
     "metadata": {},
     "output_type": "display_data"
    },
    {
     "name": "stdout",
     "output_type": "stream",
     "text": [
      "Therefore, genetic analysis of expression quantitative trait loci (eQTLs) 8 and potential functional coding variants in ACE2 among populations are required for further epidemiological investigations of 2019-nCoV/SARS-CoV-2 spreading in East Asian (EAS) and other populations.\n"
     ]
    },
    {
     "data": {
      "text/html": [
       "<a href=\"http://doi.org/10.1038/s41421-020-0147-1\" target=\"_blank\">Cell Discovery Comparative genetic analysis of the novel coronavirus (2019-nCoV/SARS-CoV-2) receptor ACE2 in different populations</a>"
      ],
      "text/plain": [
       "<IPython.core.display.HTML object>"
      ]
     },
     "metadata": {},
     "output_type": "display_data"
    },
    {
     "name": "stdout",
     "output_type": "stream",
     "text": [
      "Combining the RF model with the model of PPI predictions such as Lasso's work can help identify virus-receptor interactions.\n"
     ]
    },
    {
     "data": {
      "text/html": [
       "<a href=\"http://doi.org/10.1101/2020.02.27.967885\" target=\"_blank\">Prediction of receptorome for human-infecting virome</a>"
      ],
      "text/plain": [
       "<IPython.core.display.HTML object>"
      ]
     },
     "metadata": {},
     "output_type": "display_data"
    },
    {
     "name": "stdout",
     "output_type": "stream",
     "text": [
      "We found that these two genes are assigned to the C5 category, which has a corresponding HR label of \"Spike protein (S) of coronavirus\", suggesting that TWIRLS can automatically provide an interface to summarize human findings and help human experts quickly understand the research directions and necessary knowledge in this field.\n"
     ]
    },
    {
     "data": {
      "text/html": [
       "<a href=\"http://doi.org/10.1101/2020.02.27.967588\" target=\"_blank\">TWIRLS, an automated topic-wise inference method based on massive literature, suggests a possible mechanism via ACE2 for the pathological changes in the human host after coronavirus infection</a>"
      ],
      "text/plain": [
       "<IPython.core.display.HTML object>"
      ]
     },
     "metadata": {},
     "output_type": "display_data"
    },
    {
     "name": "stdout",
     "output_type": "stream",
     "text": [
      "These studies could facilitate identification of human virus receptors.\n"
     ]
    },
    {
     "data": {
      "text/html": [
       "<a href=\"http://doi.org/10.1101/2020.02.27.967885\" target=\"_blank\">Prediction of receptorome for human-infecting virome</a>"
      ],
      "text/plain": [
       "<IPython.core.display.HTML object>"
      ]
     },
     "metadata": {},
     "output_type": "display_data"
    },
    {
     "name": "stdout",
     "output_type": "stream",
     "text": [
      "Subsequently, these linker genes may contain information on the biological mechanisms that may be important for understanding the disease.\n"
     ]
    },
    {
     "data": {
      "text/html": [
       "<a href=\"http://doi.org/10.1101/2020.02.27.967588\" target=\"_blank\">TWIRLS, an automated topic-wise inference method based on massive literature, suggests a possible mechanism via ACE2 for the pathological changes in the human host after coronavirus infection</a>"
      ],
      "text/plain": [
       "<IPython.core.display.HTML object>"
      ]
     },
     "metadata": {},
     "output_type": "display_data"
    },
    {
     "name": "stdout",
     "output_type": "stream",
     "text": [
      "Here, we developed a computational model to predict the receptorome of the human-infecting virome based on the features of human virus receptors and protein sequences.\n"
     ]
    },
    {
     "data": {
      "text/html": [
       "<a href=\"http://doi.org/10.1101/2020.02.27.967885\" target=\"_blank\">Prediction of receptorome for human-infecting virome</a>"
      ],
      "text/plain": [
       "<IPython.core.display.HTML object>"
      ]
     },
     "metadata": {},
     "output_type": "display_data"
    },
    {
     "name": "stdout",
     "output_type": "stream",
     "text": [
      "To systematically investigate the candidate functional coding variants in ACE2 and the allele frequency (AF) differences between populations, we analyzed all the 1700 variants (Supplementary Table S1) in ACE2 gene region from the ChinaMAP (China Metabolic Analytics Project, under reviewing) and 1KGP (1000 Genomes Project) 9 databases.\n"
     ]
    },
    {
     "data": {
      "text/html": [
       "<a href=\"http://doi.org/10.1038/s41421-020-0147-1\" target=\"_blank\">Cell Discovery Comparative genetic analysis of the novel coronavirus (2019-nCoV/SARS-CoV-2) receptor ACE2 in different populations</a>"
      ],
      "text/plain": [
       "<IPython.core.display.HTML object>"
      ]
     },
     "metadata": {},
     "output_type": "display_data"
    },
    {
     "name": "stdout",
     "output_type": "stream",
     "text": [
      "This study provides a biological background for the epidemic investigation of the 2019-nCov infection disease, and could be informative for future anti-ACE2 therapeutic strategy development.\n"
     ]
    },
    {
     "data": {
      "text/html": [
       "<a href=\"http://doi.org/10.1101/2020.01.26.919985\" target=\"_blank\">Single-cell RNA expression profiling of ACE2, the putative receptor of Wuhan 2019-nCov</a>"
      ],
      "text/plain": [
       "<IPython.core.display.HTML object>"
      ]
     },
     "metadata": {},
     "output_type": "display_data"
    },
    {
     "name": "stdout",
     "output_type": "stream",
     "text": [
      "The development of computational methods for identifying the human virus receptors is in great need.\n"
     ]
    },
    {
     "data": {
      "text/html": [
       "<a href=\"http://doi.org/10.1101/2020.02.27.967885\" target=\"_blank\">Prediction of receptorome for human-infecting virome</a>"
      ],
      "text/plain": [
       "<IPython.core.display.HTML object>"
      ]
     },
     "metadata": {},
     "output_type": "display_data"
    },
    {
     "name": "stdout",
     "output_type": "stream",
     "text": [
      "Therefore, TWIRLS can be used to guide human researchers by providing further potential therapeutic target information for the treatment of acute viral lung injury based on the regulation of RAS.\n"
     ]
    },
    {
     "data": {
      "text/html": [
       "<a href=\"http://doi.org/10.1101/2020.02.27.967588\" target=\"_blank\">TWIRLS, an automated topic-wise inference method based on massive literature, suggests a possible mechanism via ACE2 for the pathological changes in the human host after coronavirus infection</a>"
      ],
      "text/plain": [
       "<IPython.core.display.HTML object>"
      ]
     },
     "metadata": {},
     "output_type": "display_data"
    },
    {
     "name": "stdout",
     "output_type": "stream",
     "text": [
      "By establishing a random distribution of one of the candidate genes in a control sample, the significance of this gene appearing in the local samples can be determined when the frequency of the current gene is an outlier of the random distribution of the control samples (see Methods for details).\n"
     ]
    },
    {
     "data": {
      "text/html": [
       "<a href=\"http://doi.org/10.1101/2020.02.27.967588\" target=\"_blank\">TWIRLS, an automated topic-wise inference method based on massive literature, suggests a possible mechanism via ACE2 for the pathological changes in the human host after coronavirus infection</a>"
      ],
      "text/plain": [
       "<IPython.core.display.HTML object>"
      ]
     },
     "metadata": {},
     "output_type": "display_data"
    },
    {
     "name": "stdout",
     "output_type": "stream",
     "text": [
      "The sooner this information is added to the current clinical knowledge of these viruses, the better the control and treatment of this disease.\n"
     ]
    },
    {
     "data": {
      "text/html": [
       "<a href=\"http://doi.org/10.1101/2020.02.27.967588\" target=\"_blank\">TWIRLS, an automated topic-wise inference method based on massive literature, suggests a possible mechanism via ACE2 for the pathological changes in the human host after coronavirus infection</a>"
      ],
      "text/plain": [
       "<IPython.core.display.HTML object>"
      ]
     },
     "metadata": {},
     "output_type": "display_data"
    },
    {
     "name": "stdout",
     "output_type": "stream",
     "text": [
      "Transformed daily 327\n",
      " Buxco results were similarly analyzed by two-way ANOVA to determine the impact of infection 328 and mouse strain.\n"
     ]
    },
    {
     "data": {
      "text/html": [
       "<a href=\"http://doi.org/10.1101/2020.02.19.957118\" target=\"_blank\">Mucin 4 Protects Female Mice from Coronavirus Pathogenesis</a>"
      ],
      "text/plain": [
       "<IPython.core.display.HTML object>"
      ]
     },
     "metadata": {},
     "output_type": "display_data"
    },
    {
     "name": "stdout",
     "output_type": "stream",
     "text": [
      "Currently, several experimental approaches have been developed in identifying virus receptors.\n"
     ]
    },
    {
     "data": {
      "text/html": [
       "<a href=\"http://doi.org/10.1101/2020.02.27.967885\" target=\"_blank\">Prediction of receptorome for human-infecting virome</a>"
      ],
      "text/plain": [
       "<IPython.core.display.HTML object>"
      ]
     },
     "metadata": {},
     "output_type": "display_data"
    },
    {
     "name": "stdout",
     "output_type": "stream",
     "text": [
      "The study would greatly facilitate identification of human virus receptors.\n"
     ]
    },
    {
     "data": {
      "text/html": [
       "<a href=\"http://doi.org/10.1101/2020.02.27.967885\" target=\"_blank\">Prediction of receptorome for human-infecting virome</a>"
      ],
      "text/plain": [
       "<IPython.core.display.HTML object>"
      ]
     },
     "metadata": {},
     "output_type": "display_data"
    },
    {
     "name": "stdout",
     "output_type": "stream",
     "text": [
      "Firstly, the number of human virus receptor proteins was much less than that of human membrane proteins in the modeling, which may hinder accurate modeling.\n"
     ]
    },
    {
     "data": {
      "text/html": [
       "<a href=\"http://doi.org/10.1101/2020.02.27.967885\" target=\"_blank\">Prediction of receptorome for human-infecting virome</a>"
      ],
      "text/plain": [
       "<IPython.core.display.HTML object>"
      ]
     },
     "metadata": {},
     "output_type": "display_data"
    },
    {
     "name": "stdout",
     "output_type": "stream",
     "text": [
      "Largescale and multiple tissue-level analysis of single-cell RNAseq would be more accurate for the expression analysis of ACE2 in different populations.\n"
     ]
    },
    {
     "data": {
      "text/html": [
       "<a href=\"http://doi.org/10.1038/s41421-020-0147-1\" target=\"_blank\">Cell Discovery Comparative genetic analysis of the novel coronavirus (2019-nCoV/SARS-CoV-2) receptor ACE2 in different populations</a>"
      ],
      "text/plain": [
       "<IPython.core.display.HTML object>"
      ]
     },
     "metadata": {},
     "output_type": "display_data"
    },
    {
     "name": "stdout",
     "output_type": "stream",
     "text": [
      "The genes that serve as linkers are potential targets for gain-and loss-of-function experiments to identify those systems described by the meaningful entities in these categories.\n"
     ]
    },
    {
     "data": {
      "text/html": [
       "<a href=\"http://doi.org/10.1101/2020.02.27.967588\" target=\"_blank\">TWIRLS, an automated topic-wise inference method based on massive literature, suggests a possible mechanism via ACE2 for the pathological changes in the human host after coronavirus infection</a>"
      ],
      "text/plain": [
       "<IPython.core.display.HTML object>"
      ]
     },
     "metadata": {},
     "output_type": "display_data"
    },
    {
     "name": "stdout",
     "output_type": "stream",
     "text": [
      "In contrast, the ACE2 expression analysis using the RNA-seq and microarray datasets from control lung tissues indicated there were no significant differences between Asian and Caucasian, or male and female 11 .\n"
     ]
    },
    {
     "data": {
      "text/html": [
       "<a href=\"http://doi.org/10.1038/s41421-020-0147-1\" target=\"_blank\">Cell Discovery Comparative genetic analysis of the novel coronavirus (2019-nCoV/SARS-CoV-2) receptor ACE2 in different populations</a>"
      ],
      "text/plain": [
       "<IPython.core.display.HTML object>"
      ]
     },
     "metadata": {},
     "output_type": "display_data"
    },
    {
     "name": "stdout",
     "output_type": "stream",
     "text": [
      "Combination of the model with Lasso's work further predicted receptors for 693 human-infecting viruses.\n"
     ]
    },
    {
     "data": {
      "text/html": [
       "<a href=\"http://doi.org/10.1101/2020.02.27.967885\" target=\"_blank\">Prediction of receptorome for human-infecting virome</a>"
      ],
      "text/plain": [
       "<IPython.core.display.HTML object>"
      ]
     },
     "metadata": {},
     "output_type": "display_data"
    }
   ],
   "source": [
    "top_n_similar_sentences_LDA_glove_cosine(10, 5, 30)"
   ]
  },
  {
   "cell_type": "markdown",
   "metadata": {},
   "source": [
    "Question 11: "
   ]
  },
  {
   "cell_type": "code",
   "execution_count": 151,
   "metadata": {
    "ExecuteTime": {
     "end_time": "2020-04-25T18:31:42.744056Z",
     "start_time": "2020-04-25T18:31:42.553052Z"
    }
   },
   "outputs": [
    {
     "name": "stdout",
     "output_type": "stream",
     "text": [
      "QUESTION #11: Immune response and immunity\n",
      "\n",
      "\n"
     ]
    },
    {
     "data": {
      "text/plain": [
       "['Immune response.',\n",
       " 'Immune Response.',\n",
       " 'They confer protection mainly through humoral immune responses with little or no cellular immunity.',\n",
       " 'Protection against IAV infection is also provided by the humoral immune response.',\n",
       " 'Activation of innate immunity in response to IFV regulates anti-viral protective immunity 31 .',\n",
       " 'Activation of innate immunity in response to IFV regulates anti-viral protective immunity 26 .',\n",
       " 'Apart from the humoral immune response, cell-mediated immune response is also induced after mucosal vaccination.',\n",
       " 'As the antigens are expressed intracellularly, both humoral and cell-mediated immunity can be activated to offer broad immune protection.',\n",
       " 'Regardless of any humoral immune response elicited in these animals it is unlikely that antibody alone confers protection.',\n",
       " 'Evidence indicates that the maternal immune system may tolerate fetal antigens by suppressing cell-mediated immunity while retaining normal humoral immunity.',\n",
       " 'This result suggests that a humoral immune response in the absence of cellular immune mechanisms is insufficient to provide protection from Mhf infection.',\n",
       " 'HIV-induced immune activation is not limited to specific immunity, but exerts its effects on innate immunity as well.',\n",
       " 'Emphasis on cell-mediated immunity versus humoral immunity changes according to the type of T-helper lymphocytes responding to an infectious threat.',\n",
       " 'Subsequently, both the T cell (cell-mediated immunity) and the B cell (humoral immunity) arms of the adaptive immune response are stimulated for a specific response [14] .',\n",
       " '1\\n Step 2: Immune Response\\n When immune tolerance has been surpassed, antigen-specific immune response is triggered to eliminate foreign agents.',\n",
       " 'Similarly, some viral-vectored vaccines can elicit specific antibody and cellular immune responses with neutralizing activity and protection, but they might also induce anti-vector immunity or present preexisting immunity, causing some harmful immune responses.',\n",
       " 'The cellular immunity is needed to clear the infection, whereas the humoral immune response (antibody mediated) is required for protection from initial and subsequent RSV infections.',\n",
       " 'Yet, most commercial vaccines are delivered systemically, which only induces humoral immune protection without pathogen-specific mucosal immunity.',\n",
       " 'Antigens play a role in triggering an adaptive immune response that activates the human immune response.',\n",
       " 'Innate immunity and inflammation, two faces of the same biological coin\\n The first line of immune defense against pathogens, before adaptive immunity (antibodies, T cell responses) develops, is called innate immunity.',\n",
       " 'Kimman and others (1987) and Uttenthal and others (2000) conclude that maternal antibodies markedly suppress the humoral immune response, leading to shorter duration of humoral immunity.',\n",
       " '1997) or regulation of immune response.',\n",
       " 'Since a strong mucosal immune response at the initial site of infection is an essential defense against pathogens, we investigated whether Dectin-1, Dectin-2, and Mincle agonists induce effective mucosal immunity.',\n",
       " 'Mucosal immunity might be more difficult to achieve and confer sterile immunity, which might allow the virus to infect cells of the respiratory tract before being neutralized by the humoral immune response elicited by the vaccine.',\n",
       " 'They are known to induce balanced immune responses that induce both humoral and cellular immunity.',\n",
       " 'The innate immune system induces immediate defense against infection, but also activates a long-lasting adaptive immunity.',\n",
       " 'The innate immune response is an important element of antiviral defense and adaptive immunity.',\n",
       " 'This indicates that the humoral immune response is effective against CMV infection in the absence of a T cell-mediated response [42] .',\n",
       " 'Oral vaccination can stimulate a protective mucosal immune response as well as be crucial for passive lactogenic immunity [28] .',\n",
       " 'Thus, after activation by innate immunity, GBP5 may in return, amplify this immune response.']"
      ]
     },
     "execution_count": 151,
     "metadata": {},
     "output_type": "execute_result"
    }
   ],
   "source": [
    "top_n_similar_sentences_glove_cosine(11,30)"
   ]
  },
  {
   "cell_type": "code",
   "execution_count": 171,
   "metadata": {
    "ExecuteTime": {
     "end_time": "2020-04-25T19:47:40.629978Z",
     "start_time": "2020-04-25T19:47:36.517982Z"
    },
    "scrolled": false
   },
   "outputs": [
    {
     "name": "stdout",
     "output_type": "stream",
     "text": [
      "QUESTION #11: Immune response and immunity\n",
      "\n",
      "\n",
      "We saw what appears to be an innate immune response at the 10,000 PFU EBOV exposure level.\n"
     ]
    },
    {
     "data": {
      "text/html": [
       "<a href=\"http://doi.org/10.1101/2020.02.25.963546\" target=\"_blank\">An Effective CTL Peptide Vaccine for Ebola Zaire Based on Survivors' CD8+ Targeting of a Particular Nucleocapsid Protein Epitope with Potential Implications for COVID-19 Vaccine Design</a>"
      ],
      "text/plain": [
       "<IPython.core.display.HTML object>"
      ]
     },
     "metadata": {},
     "output_type": "display_data"
    },
    {
     "name": "stdout",
     "output_type": "stream",
     "text": [
      "It has been suggested that EBOV can mediate an innate immunity response through stimulation of TLR-4 [28] .\n"
     ]
    },
    {
     "data": {
      "text/html": [
       "<a href=\"http://doi.org/10.1101/2020.02.25.963546\" target=\"_blank\">An Effective CTL Peptide Vaccine for Ebola Zaire Based on Survivors' CD8+ Targeting of a Particular Nucleocapsid Protein Epitope with Potential Implications for COVID-19 Vaccine Design</a>"
      ],
      "text/plain": [
       "<IPython.core.display.HTML object>"
      ]
     },
     "metadata": {},
     "output_type": "display_data"
    },
    {
     "name": "stdout",
     "output_type": "stream",
     "text": [
      "Hence, the S2 subunit may serve as an important antigen for inducing 2 0 2 both humoral as well as cell-mediated immunity against SARS-CoV and SARS-CoV-2.\n"
     ]
    },
    {
     "data": {
      "text/html": [
       "<a href=\"http://doi.org/10.1101/2020.03.06.980037\" target=\"_blank\">Monoclonal antibodies for the S2 subunit of spike of SARS-CoV cross-react with the newly-emerged SARS-CoV-2</a>"
      ],
      "text/plain": [
       "<IPython.core.display.HTML object>"
      ]
     },
     "metadata": {},
     "output_type": "display_data"
    },
    {
     "name": "stdout",
     "output_type": "stream",
     "text": [
      "We chose Muc4 192 as our priority candidate gene for follow up, with the initial hypothesis that Muc4 suppressed 193 apoptosis and possible the interferon response, and that its absence in a Muc4 -/mouse would 194 therefore lead to increased apoptosis and inflammation, thereby inhibiting Our validation utilized a Muc4 -/mouse and confirmed a role for Muc4 in protection from 197 SARS-CoV-and CHIKV-induced disease and pathogenesis.\n"
     ]
    },
    {
     "data": {
      "text/html": [
       "<a href=\"http://doi.org/10.1101/2020.02.19.957118\" target=\"_blank\">Mucin 4 Protects Female Mice from Coronavirus Pathogenesis</a>"
      ],
      "text/plain": [
       "<IPython.core.display.HTML object>"
      ]
     },
     "metadata": {},
     "output_type": "display_data"
    },
    {
     "name": "stdout",
     "output_type": "stream",
     "text": [
      "Other vaccine studies have Dosing \n",
      " Most preventative vaccines are designed to elicit a humoral immune response, typically via the administration of whole protein from a pathogen.\n"
     ]
    },
    {
     "data": {
      "text/html": [
       "<a href=\"http://doi.org/10.1101/2020.02.25.963546\" target=\"_blank\">An Effective CTL Peptide Vaccine for Ebola Zaire Based on Survivors' CD8+ Targeting of a Particular Nucleocapsid Protein Epitope with Potential Implications for COVID-19 Vaccine Design</a>"
      ],
      "text/plain": [
       "<IPython.core.display.HTML object>"
      ]
     },
     "metadata": {},
     "output_type": "display_data"
    },
    {
     "name": "stdout",
     "output_type": "stream",
     "text": [
      "The neutralization mechanism of these non-blocking antibodies is not clear yet.\n"
     ]
    },
    {
     "data": {
      "text/html": [
       "<a href=\"http://doi.org/10.1101/2020.02.16.951723\" target=\"_blank\">SARS-CoV-2 and SARS-CoV Spike-RBD Structure and Receptor Binding Comparison and Potential Implications on Neutralizing Antibody and Vaccine Development</a>"
      ],
      "text/plain": [
       "<IPython.core.display.HTML object>"
      ]
     },
     "metadata": {},
     "output_type": "display_data"
    },
    {
     "name": "stdout",
     "output_type": "stream",
     "text": [
      "Interaction of EBOV specific antibody, NHP lung tissue and EBOV delivered to NHPs via aerosol can produce a more lethal effect than in NHPs without 210 circulating anti-EBOV antibody exposed to aerosolized EBOV (unpublished conference presentation).\n"
     ]
    },
    {
     "data": {
      "text/html": [
       "<a href=\"http://doi.org/10.1101/2020.02.25.963546\" target=\"_blank\">An Effective CTL Peptide Vaccine for Ebola Zaire Based on Survivors' CD8+ Targeting of a Particular Nucleocapsid Protein Epitope with Potential Implications for COVID-19 Vaccine Design</a>"
      ],
      "text/plain": [
       "<IPython.core.display.HTML object>"
      ]
     },
     "metadata": {},
     "output_type": "display_data"
    },
    {
     "name": "stdout",
     "output_type": "stream",
     "text": [
      "Other potential 72 targets included Lrrc33, Sec22a, Parp14, and Ildr1; however, these genes either have little 73 known linkage to viral replication and the immune response (e.g., Lrrc33, Sec22a, and Ildr1) or 74 the directionality of the correlation did not support their relationship to viral titer in the lung 75 (Parp14).\n"
     ]
    },
    {
     "data": {
      "text/html": [
       "<a href=\"http://doi.org/10.1101/2020.02.19.957118\" target=\"_blank\">Mucin 4 Protects Female Mice from Coronavirus Pathogenesis</a>"
      ],
      "text/plain": [
       "<IPython.core.display.HTML object>"
      ]
     },
     "metadata": {},
     "output_type": "display_data"
    },
    {
     "name": "stdout",
     "output_type": "stream",
     "text": [
      "Developing potent and cross-protective therapeutic antibodies and vaccines is possible but could be challenging.\n"
     ]
    },
    {
     "data": {
      "text/html": [
       "<a href=\"http://doi.org/10.1101/2020.02.16.951723\" target=\"_blank\">SARS-CoV-2 and SARS-CoV Spike-RBD Structure and Receptor Binding Comparison and Potential Implications on Neutralizing Antibody and Vaccine Development</a>"
      ],
      "text/plain": [
       "<IPython.core.display.HTML object>"
      ]
     },
     "metadata": {},
     "output_type": "display_data"
    },
    {
     "name": "stdout",
     "output_type": "stream",
     "text": [
      "The neutralization mechanism for these non-blocking but cross-reactive antibodies is likely unrelated to ACE2 blockage.\n"
     ]
    },
    {
     "data": {
      "text/html": [
       "<a href=\"http://doi.org/10.1101/2020.02.16.951723\" target=\"_blank\">SARS-CoV-2 and SARS-CoV Spike-RBD Structure and Receptor Binding Comparison and Potential Implications on Neutralizing Antibody and Vaccine Development</a>"
      ],
      "text/plain": [
       "<IPython.core.display.HTML object>"
      ]
     },
     "metadata": {},
     "output_type": "display_data"
    },
    {
     "name": "stdout",
     "output_type": "stream",
     "text": [
      "However, coronavirus is a single-stranded RNA virus prone to rapid mutations during transmission, nAbs without cross-reactivity to a broad spectrum of viral mutants could lead to treatment failure 10, [27] [28] [29] , therefore, highly potent and cross-protective nAbs and prophylactic vaccines against SARS-CoV-2 are in urgent needs.\n"
     ]
    },
    {
     "data": {
      "text/html": [
       "<a href=\"http://doi.org/10.1101/2020.02.16.951723\" target=\"_blank\">SARS-CoV-2 and SARS-CoV Spike-RBD Structure and Receptor Binding Comparison and Potential Implications on Neutralizing Antibody and Vaccine Development</a>"
      ],
      "text/plain": [
       "<IPython.core.display.HTML object>"
      ]
     },
     "metadata": {},
     "output_type": "display_data"
    },
    {
     "name": "stdout",
     "output_type": "stream",
     "text": [
      "In contrast,\n",
      " a T-cell vaccine is meant to elicit a cellular immune response directing CD8+ NP44-52 is located within one of the EBOV nucleocapsid proteins considered 8 author/funder.\n"
     ]
    },
    {
     "data": {
      "text/html": [
       "<a href=\"http://doi.org/10.1101/2020.02.25.963546\" target=\"_blank\">An Effective CTL Peptide Vaccine for Ebola Zaire Based on Survivors' CD8+ Targeting of a Particular Nucleocapsid Protein Epitope with Potential Implications for COVID-19 Vaccine Design</a>"
      ],
      "text/plain": [
       "<IPython.core.display.HTML object>"
      ]
     },
     "metadata": {},
     "output_type": "display_data"
    },
    {
     "name": "stdout",
     "output_type": "stream",
     "text": [
      "ELISPOT analysis of PBMCs taken from the peripheral blood of COVID-19 controllers and progres-285 sors to assess the presence of a differential response to the 53 peptides could lead to a broadly applicable protective CTL vaccine against COVID-19 by incorporating peptides into the vaccine that are more commonly targeted for CD8+ attack by the controllers versus the progressors.\n"
     ]
    },
    {
     "data": {
      "text/html": [
       "<a href=\"http://doi.org/10.1101/2020.02.25.963546\" target=\"_blank\">An Effective CTL Peptide Vaccine for Ebola Zaire Based on Survivors' CD8+ Targeting of a Particular Nucleocapsid Protein Epitope with Potential Implications for COVID-19 Vaccine Design</a>"
      ],
      "text/plain": [
       "<IPython.core.display.HTML object>"
      ]
     },
     "metadata": {},
     "output_type": "display_data"
    },
    {
     "name": "stdout",
     "output_type": "stream",
     "text": [
      "This suggests that a CTL vaccine may be more effective for prophylaxis against filovirus protection than an antibody vaccine if the anticipated route of EBOV exposure is via aerosol.\n"
     ]
    },
    {
     "data": {
      "text/html": [
       "<a href=\"http://doi.org/10.1101/2020.02.25.963546\" target=\"_blank\">An Effective CTL Peptide Vaccine for Ebola Zaire Based on Survivors' CD8+ Targeting of a Particular Nucleocapsid Protein Epitope with Potential Implications for COVID-19 Vaccine Design</a>"
      ],
      "text/plain": [
       "<IPython.core.display.HTML object>"
      ]
     },
     "metadata": {},
     "output_type": "display_data"
    },
    {
     "name": "stdout",
     "output_type": "stream",
     "text": [
      "Whether these non-blocking RBD antibodies also interfere with S2 protein's configuration change remains to be investigated.\n"
     ]
    },
    {
     "data": {
      "text/html": [
       "<a href=\"http://doi.org/10.1101/2020.02.16.951723\" target=\"_blank\">SARS-CoV-2 and SARS-CoV Spike-RBD Structure and Receptor Binding Comparison and Potential Implications on Neutralizing Antibody and Vaccine Development</a>"
      ],
      "text/plain": [
       "<IPython.core.display.HTML object>"
      ]
     },
     "metadata": {},
     "output_type": "display_data"
    },
    {
     "name": "stdout",
     "output_type": "stream",
     "text": [
      "Due to the limited number of antibodies obtained, it is difficult to conclude whether there is a consistent pattern between ACE2 blockage and neutralizing potency, but one can speculate that neutralizing antibodies targeting conserved epitopes outside the RBM region may be cross-protective but may also be less potent due to the lack of ACE2 blocking activities.\n"
     ]
    },
    {
     "data": {
      "text/html": [
       "<a href=\"http://doi.org/10.1101/2020.02.16.951723\" target=\"_blank\">SARS-CoV-2 and SARS-CoV Spike-RBD Structure and Receptor Binding Comparison and Potential Implications on Neutralizing Antibody and Vaccine Development</a>"
      ],
      "text/plain": [
       "<IPython.core.display.HTML object>"
      ]
     },
     "metadata": {},
     "output_type": "display_data"
    },
    {
     "name": "stdout",
     "output_type": "stream",
     "text": [
      "Mechanism of neutralization for the non-blocking RBD antibodies remains to be investigated.\n"
     ]
    },
    {
     "data": {
      "text/html": [
       "<a href=\"http://doi.org/10.1101/2020.02.16.951723\" target=\"_blank\">SARS-CoV-2 and SARS-CoV Spike-RBD Structure and Receptor Binding Comparison and Potential Implications on Neutralizing Antibody and Vaccine Development</a>"
      ],
      "text/plain": [
       "<IPython.core.display.HTML object>"
      ]
     },
     "metadata": {},
     "output_type": "display_data"
    },
    {
     "name": "stdout",
     "output_type": "stream",
     "text": [
      "Virus-specific nucleotidepositive and viral-protein seroconversion was observed in all patients tested and provides evidence of an association between the disease and the presence of this virus.\n"
     ]
    },
    {
     "data": {
      "text/html": [
       "<a href=\"http://doi.org/10.1038/s41586-020-2012-7\" target=\"_blank\">A pneumonia outbreak associated with a new coronavirus of probable bat origin</a>"
      ],
      "text/plain": [
       "<IPython.core.display.HTML object>"
      ]
     },
     "metadata": {},
     "output_type": "display_data"
    },
    {
     "name": "stdout",
     "output_type": "stream",
     "text": [
      "Although peptide vaccines are by their nature HLA restricted, it may be possible to create a CTL vaccine directed against EBOV for use alone or in conjunction with a whole protein vaccine to produce an antibody response in tandem, by incorporating additional Class I peptides from epitopes targeted by controllers to broaden the HLA cov- in-vitro testing is also possible.\n"
     ]
    },
    {
     "data": {
      "text/html": [
       "<a href=\"http://doi.org/10.1101/2020.02.25.963546\" target=\"_blank\">An Effective CTL Peptide Vaccine for Ebola Zaire Based on Survivors' CD8+ Targeting of a Particular Nucleocapsid Protein Epitope with Potential Implications for COVID-19 Vaccine Design</a>"
      ],
      "text/plain": [
       "<IPython.core.display.HTML object>"
      ]
     },
     "metadata": {},
     "output_type": "display_data"
    },
    {
     "name": "stdout",
     "output_type": "stream",
     "text": [
      "The above experimental results are consistent with our structure modeling analysis, which indicates that SARS-CoV-2 virus likely infects human cells through similar mechanisms as SARS-CoV virus by binding to human ACE2 with comparable affinities, and hence may possess similar transmissibility.\n"
     ]
    },
    {
     "data": {
      "text/html": [
       "<a href=\"http://doi.org/10.1101/2020.02.16.951723\" target=\"_blank\">SARS-CoV-2 and SARS-CoV Spike-RBD Structure and Receptor Binding Comparison and Potential Implications on Neutralizing Antibody and Vaccine Development</a>"
      ],
      "text/plain": [
       "<IPython.core.display.HTML object>"
      ]
     },
     "metadata": {},
     "output_type": "display_data"
    },
    {
     "name": "stdout",
     "output_type": "stream",
     "text": [
      "IF N −γ release as quantified by ELISPOT after the spleens were harvested on day 14 100 after immunization showed that the immune response to the 9mer NP44-52 was higher than the immune response after vaccination with NP43-53 and that this difference was statistically significant (P < 0.0001) Figure 2 .\n"
     ]
    },
    {
     "data": {
      "text/html": [
       "<a href=\"http://doi.org/10.1101/2020.02.25.963546\" target=\"_blank\">An Effective CTL Peptide Vaccine for Ebola Zaire Based on Survivors' CD8+ Targeting of a Particular Nucleocapsid Protein Epitope with Potential Implications for COVID-19 Vaccine Design</a>"
      ],
      "text/plain": [
       "<IPython.core.display.HTML object>"
      ]
     },
     "metadata": {},
     "output_type": "display_data"
    },
    {
     "name": "stdout",
     "output_type": "stream",
     "text": [
      "Understanding whether antibodies raised from SARS-CoV spike protein immunization have cross-reactivity to the new SARS-CoV-2 will offer important insights and guidance to therapeutic antibody and prophylactic vaccine development.\n"
     ]
    },
    {
     "data": {
      "text/html": [
       "<a href=\"http://doi.org/10.1101/2020.02.16.951723\" target=\"_blank\">SARS-CoV-2 and SARS-CoV Spike-RBD Structure and Receptor Binding Comparison and Potential Implications on Neutralizing Antibody and Vaccine Development</a>"
      ],
      "text/plain": [
       "<IPython.core.display.HTML object>"
      ]
     },
     "metadata": {},
     "output_type": "display_data"
    },
    {
     "name": "stdout",
     "output_type": "stream",
     "text": [
      "mouse using an adjuvanted microsphere peptide vaccine formulation containing NP44-52 is enough to confer immunity in mice.\n"
     ]
    },
    {
     "data": {
      "text/html": [
       "<a href=\"http://doi.org/10.1101/2020.02.25.963546\" target=\"_blank\">An Effective CTL Peptide Vaccine for Ebola Zaire Based on Survivors' CD8+ Targeting of a Particular Nucleocapsid Protein Epitope with Potential Implications for COVID-19 Vaccine Design</a>"
      ],
      "text/plain": [
       "<IPython.core.display.HTML object>"
      ]
     },
     "metadata": {},
     "output_type": "display_data"
    },
    {
     "name": "stdout",
     "output_type": "stream",
     "text": [
      "If researchers act now during the COVID-19 outbreak, perhaps controller and progressor blood samples could be collected and prospectively analyzed, quickly creating a database of optimal candidate class I peptides for inclusion into a CTL 295 vaccine with potentially broad HLA coverage for subsequent rapid manufacture and deployment.\n"
     ]
    },
    {
     "data": {
      "text/html": [
       "<a href=\"http://doi.org/10.1101/2020.02.25.963546\" target=\"_blank\">An Effective CTL Peptide Vaccine for Ebola Zaire Based on Survivors' CD8+ Targeting of a Particular Nucleocapsid Protein Epitope with Potential Implications for COVID-19 Vaccine Design</a>"
      ],
      "text/plain": [
       "<IPython.core.display.HTML object>"
      ]
     },
     "metadata": {},
     "output_type": "display_data"
    },
    {
     "name": "stdout",
     "output_type": "stream",
     "text": [
      "In the long term, broad-spectrum antiviral drugs and vaccines should be prepared for emerging infectious diseases that are caused by this cluster of viruses in the future.\n"
     ]
    },
    {
     "data": {
      "text/html": [
       "<a href=\"http://doi.org/10.1038/s41586-020-2012-7\" target=\"_blank\">A pneumonia outbreak associated with a new coronavirus of probable bat origin</a>"
      ],
      "text/plain": [
       "<IPython.core.display.HTML object>"
      ]
     },
     "metadata": {},
     "output_type": "display_data"
    },
    {
     "name": "stdout",
     "output_type": "stream",
     "text": [
      "Due to the nature of RNA virus' rapid mutation rates, changes in the S-protein's amino acid sequence, especially in the RBD's receptor binding motif, could have significant impact on virus infectivity, pathogenicity, transmissibility, and cross-protection from previous coronavirus infection, as well as therapeutic antibody and prophylactic vaccine development.\n"
     ]
    },
    {
     "data": {
      "text/html": [
       "<a href=\"http://doi.org/10.1101/2020.02.16.951723\" target=\"_blank\">SARS-CoV-2 and SARS-CoV Spike-RBD Structure and Receptor Binding Comparison and Potential Implications on Neutralizing Antibody and Vaccine Development</a>"
      ],
      "text/plain": [
       "<IPython.core.display.HTML object>"
      ]
     },
     "metadata": {},
     "output_type": "display_data"
    },
    {
     "name": "stdout",
     "output_type": "stream",
     "text": [
      "Neutralizing antibodies targeting epitopes in these regions could potentially have cross-protective activities against different mutant strains.\n"
     ]
    },
    {
     "data": {
      "text/html": [
       "<a href=\"http://doi.org/10.1101/2020.02.16.951723\" target=\"_blank\">SARS-CoV-2 and SARS-CoV Spike-RBD Structure and Receptor Binding Comparison and Potential Implications on Neutralizing Antibody and Vaccine Development</a>"
      ],
      "text/plain": [
       "<IPython.core.display.HTML object>"
      ]
     },
     "metadata": {},
     "output_type": "display_data"
    },
    {
     "name": "stdout",
     "output_type": "stream",
     "text": [
      "Although speculative, it is possible that Muc4 functions not to modulate local viral 244 replication, but rather to limit disseminated disease.\n"
     ]
    },
    {
     "data": {
      "text/html": [
       "<a href=\"http://doi.org/10.1101/2020.02.19.957118\" target=\"_blank\">Mucin 4 Protects Female Mice from Coronavirus Pathogenesis</a>"
      ],
      "text/plain": [
       "<IPython.core.display.HTML object>"
      ]
     },
     "metadata": {},
     "output_type": "display_data"
    },
    {
     "name": "stdout",
     "output_type": "stream",
     "text": [
      "It is known that antibodies targeting the S2 region could block S2 protein's configuration change and hence interfere with virus entry into host cells.\n"
     ]
    },
    {
     "data": {
      "text/html": [
       "<a href=\"http://doi.org/10.1101/2020.02.16.951723\" target=\"_blank\">SARS-CoV-2 and SARS-CoV Spike-RBD Structure and Receptor Binding Comparison and Potential Implications on Neutralizing Antibody and Vaccine Development</a>"
      ],
      "text/plain": [
       "<IPython.core.display.HTML object>"
      ]
     },
     "metadata": {},
     "output_type": "display_data"
    },
    {
     "name": "stdout",
     "output_type": "stream",
     "text": [
      "The disease was determined to be caused by virus-induced pneumonia by clinicians according to clinical symptoms and other criteria, including a rise in body temperature, decreases in the number of lymphocytes and white blood cells (although levels of the latter were sometimes normal), new pulmonary infiltrates on chest radiography and no obvious improvement after treatment with antibiotics for three days.\n"
     ]
    },
    {
     "data": {
      "text/html": [
       "<a href=\"http://doi.org/10.1038/s41586-020-2012-7\" target=\"_blank\">A pneumonia outbreak associated with a new coronavirus of probable bat origin</a>"
      ],
      "text/plain": [
       "<IPython.core.display.HTML object>"
      ]
     },
     "metadata": {},
     "output_type": "display_data"
    }
   ],
   "source": [
    "top_n_similar_sentences_LDA_glove_cosine(11, 5, 30)"
   ]
  },
  {
   "cell_type": "markdown",
   "metadata": {},
   "source": [
    "Question 12: "
   ]
  },
  {
   "cell_type": "code",
   "execution_count": 153,
   "metadata": {
    "ExecuteTime": {
     "end_time": "2020-04-25T18:31:49.080435Z",
     "start_time": "2020-04-25T18:31:48.911430Z"
    }
   },
   "outputs": [
    {
     "name": "stdout",
     "output_type": "stream",
     "text": [
      "QUESTION #12: Effectiveness of movement control strategies to prevent secondary transmission in health care and community settings\n",
      "\n",
      "\n"
     ]
    },
    {
     "data": {
      "text/plain": [
       "['In resource-limited settings, relative to resource-adequate settings, there continues to be a paucity of data in support of infection prevention and control, and patient safety interventions to ensure that regional, if not national, healthcare systems work effectively to improve infection prevention and control interventions.',\n",
       " 'Thus, studies to prevent transmission in healthcare setting are critical for the development of control measures.',\n",
       " 'Hence, our current working toolbox available to control the spread of Ebola still hinges on supportive medical care to increase the survival of those infected and basic non-pharmaceutical public health measures [96] to prevent transmission, namely: 1) infection control measures including standard precautions in health care settings; 2) rapid contact tracing and isolation of infectious individuals; and 3) social distancing interventions in the community which may include the dissemination of awareness campaigns to inform the population on how to avoid contracting the disease, quarantining individuals potentially exposed to infectious individuals and restricting the movement of communities exhibiting local transmission to prevent onward transmission.',\n",
       " 'Efforts are needed to develop and disseminate reasonable guidelines for infection control and prevention for healthcare facilities and communities in resource-poor settings, especially when one considers our fi nding that handwashing prevents disease transmission.',\n",
       " 'Our findings suggest that the guidelines to control infection transmission in primary care should take into consideration the infrastructure and resource constraints as well as the importance of personalized communication between PCPs and their patients.',\n",
       " 'Strategies to prevent and control infection are recommended to limit secondary transmission in healthcare settings and among household contacts (9, 10) .',\n",
       " 'Uncovering the mechanisms of seasonality for disease systems would empower the public health community to better control infection.',\n",
       " 'System level improvements, such as incorporation of emerging infectious diseases into medical schools and continuous medical education programs, the implementation of isolation and infection control measures, and appropriate nursing-to-patient ratios would also improve preparedness [12] .',\n",
       " 'Interventions focused solely on education or training are unlikely to improve infection control in these hospitals; interventions should also aim to improve infrastructure and to establish administrative initiatives, such as developing and implementing infection control guidelines, monitoring of routine cleaning and providing incentives for infection control activities among healthcare staff.',\n",
       " 'Rapid diagnostics are also critical to identify pathogens for which targeted public health interventions can be employed to control disease transmission in the community.',\n",
       " 'For example, those can be addressed by the health system, such as access to healthcare, or by educational programs such as raising the level of awareness on proper management of infection and prevention practices.',\n",
       " 'Robust health systems moderate the effects of health risks and vulnerabilities [15] by providing a continuum of health services including primary, secondary and tertiary prevention, as well as other intersectoral actions to protect and promote health.',\n",
       " 'To gradually improve the care system for children with chronic diseases such as CKD, it is necessary to improve the service function and operation mechanism of \"internet+ CKD health management\", including health assessment of children with .',\n",
       " 'Importantly, the system of malaria control expanded into a primary health care system (PHCS).',\n",
       " 'Participatory epidemiology aims to give a voice to communities while increasing our understanding of health problems and the options for their prevention, control and surveillance [1, 2] .',\n",
       " 'In addition, fast recognition and isolation, disease prevention, and control steps are crucial for preventing the MERS-COV transmission in households, communities, and healthcare offices [16, 17] .',\n",
       " 'These additional interventions include the use of household protection kits, designed to reduce transmission in the community; improvements in infection control protocols in health care settings that reduce transmission among health care workers; and the impact of rapid diagnostic kits in Ebola treatment centers, which reduce the time to isolation for infectious individuals seeking hospitalization.',\n",
       " 'We have shown how the use of a stochastic model of infection and medical and social interventions can be used to support risk assessment and epidemic preparedness in the presence of limited data concerning the pathogen, the population, and available health care infrastructure.',\n",
       " 'Detailed data regarding control interventions would also be critical to assess their effectiveness in reducing secondary transmissions including information on the changing numbers of isolation and treatment centers, healthcare workers, intensity of contact tracing activities and awareness campaigns in the community.',\n",
       " 'This approach has also been successfully used to enhance the development of health policies and programs [17, 18] , enable modeling of health care systems [19] , and guide chronic disease prevention and interventions [20] [21] [22] .',\n",
       " 'Develop, implement and strengthen the support structures essenƟal to an effecƟve respiratory health management strategy for all sectors, including policy and legislaƟon, partnerships, community supports, and health care system delivery and design\\n Drive effecƟve prevenƟon and management of respiratory disease and its risk factors, through enhanced, coordinated research and surveillance efforts that are then translated into both improved health outcomes and economic benefits\\n Improve the quality of life for everyone in Canada through early detecƟon and beƩer management of respiratory diseases\\n Prevent and moderate the impact of respiratory illness through the development and implementaƟon of effecƟve, coordinated: health promoƟon, awareness, exposure reducƟon, and smoking prevenƟon/cessaƟon acƟviƟes Figure 1 ) Key strategies of the National Lung Health Framework, adapted from reference 2',\n",
       " 'The harmonization of patients\\' pathways is one of the aims of the National Health Service and takes place in two different ways: overcoming the fragmentation of the care pathway, by promoting functional operative integration between health and social care providers, and the availability of solid organization and technology for managing chronic conditions, according to the \"population health management approach\".',\n",
       " 'These findings show the main issues that should be addressed to improve infection control practice in primary care, to minimize the risk of disease transmission to both patients and health care workers.',\n",
       " 'This study highlights the need for integrated One Health approaches to model zoonoses more effectively in order to betterinform disease control and prevention.',\n",
       " 'Studies have suggested that possible mechanisms of social capital for the adoption of health behaviors during a disease outbreak could be via community norms promoting healthy lifestyle, diffusion of health information, promotion of access to local health services, and cohesive social networks to provide affective support [23] .',\n",
       " '2−4 As the global community moves toward control and elimination of infectious disease, it has become evident that there is a pressing need for diagnostic strategies that can be applied in primary health care settings.',\n",
       " 'Innovations in health care, arrangements in primary care and family medicine system, and effective and accountable health management are the key steps toward our goal for strengthening PHC services.',\n",
       " 'For example, the indicated domestic causes of MERS were individual problems of vulnerabilities of the national infectious disease management system and nosocomial infection prevention control, inefficiency of health care delivery systems, health care use and nursing culture, as well as correlations between the problems [4] .',\n",
       " '14 Change to subcritical transmission (reproduction number below 1) tends to occur when Ebola response organizations deploy control, prevention and care measures, 15, 16 communities adopt more protective behaviors, 17, 18 and/or transmission decreases in a social network.',\n",
       " '[12] Change to subcritical transmission (reproduction number below 1) tends to occur when Ebola response organizations deploy control, prevention and care measures, [13, 14] communities adopt more protective behaviors, [15, 16] and/or transmission decreases in a social network.']"
      ]
     },
     "execution_count": 153,
     "metadata": {},
     "output_type": "execute_result"
    }
   ],
   "source": [
    "top_n_similar_sentences_glove_cosine(12,30)"
   ]
  },
  {
   "cell_type": "code",
   "execution_count": 172,
   "metadata": {
    "ExecuteTime": {
     "end_time": "2020-04-25T19:47:54.837196Z",
     "start_time": "2020-04-25T19:47:50.948196Z"
    },
    "scrolled": false
   },
   "outputs": [
    {
     "name": "stdout",
     "output_type": "stream",
     "text": [
      "QUESTION #12: Effectiveness of movement control strategies to prevent secondary transmission in health care and community settings\n",
      "\n",
      "\n",
      "This type of transmission would make effective contact tracing challenging, and good respiratory and hand hygiene would be crucial to reduce this route of transmission, coupled with environmental decontamination in health-care settings.\n"
     ]
    },
    {
     "data": {
      "text/html": [
       "<a href=\"http://doi.org/10.1016/S2214-109X(20)30074-7\" target=\"_blank\">Feasibility of controlling COVID-19 outbreaks by isolation of cases and contacts</a>"
      ],
      "text/plain": [
       "<IPython.core.display.HTML object>"
      ]
     },
     "metadata": {},
     "output_type": "display_data"
    },
    {
     "name": "stdout",
     "output_type": "stream",
     "text": [
      "If COVID-19 can be controlled by isolation and contact tracing, then public health efforts should be focused on this strategy; however, if this is not enough to control outbreaks, then additional resources might be needed for additional interventions.\n"
     ]
    },
    {
     "data": {
      "text/html": [
       "<a href=\"http://doi.org/10.1016/S2214-109X(20)30074-7\" target=\"_blank\">Feasibility of controlling COVID-19 outbreaks by isolation of cases and contacts</a>"
      ],
      "text/plain": [
       "<IPython.core.display.HTML object>"
      ]
     },
     "metadata": {},
     "output_type": "display_data"
    },
    {
     "name": "stdout",
     "output_type": "stream",
     "text": [
      "International investment needs to be directed especially to countries with limited healthcare and public health surveillance capacity to enable the detection of cases and disease control [16, 17] Our estimation showed a lower risk of transmission in Africa and South America.\n"
     ]
    },
    {
     "data": {
      "text/html": [
       "<a href=\"http://doi.org/10.1017/S0950268820000424\" target=\"_blank\">Epidemiology and Infection Passengers' destinations from China: low risk of Novel Coronavirus (2019-nCoV) transmission into Africa and South America</a>"
      ],
      "text/plain": [
       "<IPython.core.display.HTML object>"
      ]
     },
     "metadata": {},
     "output_type": "display_data"
    },
    {
     "name": "stdout",
     "output_type": "stream",
     "text": [
      "In this population-level observational study, we used crowdsourced reports from DXY.cn, a social network for Chinese physicians, health-care professionals, pharmacies, and health-care facilities established in 2000.\n"
     ]
    },
    {
     "data": {
      "text/html": [
       "<a href=\"http://doi.org/10.1016/S2589-7500(20)30026-1\" target=\"_blank\">Early epidemiological analysis of the coronavirus disease 2019 outbreak based on crowdsourced data: a population- level observational study</a>"
      ],
      "text/plain": [
       "<IPython.core.display.HTML object>"
      ]
     },
     "metadata": {},
     "output_type": "display_data"
    },
    {
     "name": "stdout",
     "output_type": "stream",
     "text": [
      "Future studies based on larger samples of patients with COVID-19 could explore in more detail the transmission dynamics of the outbreak in different locations, the effectiveness of interventions, and the demographic factors driving transmission.\n"
     ]
    },
    {
     "data": {
      "text/html": [
       "<a href=\"http://doi.org/10.1016/S2589-7500(20)30026-1\" target=\"_blank\">Early epidemiological analysis of the coronavirus disease 2019 outbreak based on crowdsourced data: a population- level observational study</a>"
      ],
      "text/plain": [
       "<IPython.core.display.HTML object>"
      ]
     },
     "metadata": {},
     "output_type": "display_data"
    },
    {
     "name": "stdout",
     "output_type": "stream",
     "text": [
      "Line list data can help assess the effectiveness of interventions and the potential for widespread transmission beyond the initial foci of infection.\n"
     ]
    },
    {
     "data": {
      "text/html": [
       "<a href=\"http://doi.org/10.1016/S2589-7500(20)30026-1\" target=\"_blank\">Early epidemiological analysis of the coronavirus disease 2019 outbreak based on crowdsourced data: a population- level observational study</a>"
      ],
      "text/plain": [
       "<IPython.core.display.HTML object>"
      ]
     },
     "metadata": {},
     "output_type": "display_data"
    },
    {
     "name": "stdout",
     "output_type": "stream",
     "text": [
      "The authors suggest an ongoing risk-based approach to the prioritisation of and investment by international and national agencies and authorities, in emergency interventions for the prevention of movement of 2019-nCoV (SARS-COV-2) through human travel.\n"
     ]
    },
    {
     "data": {
      "text/html": [
       "<a href=\"http://doi.org/10.1017/S0950268820000424\" target=\"_blank\">Epidemiology and Infection Passengers' destinations from China: low risk of Novel Coronavirus (2019-nCoV) transmission into Africa and South America</a>"
      ],
      "text/plain": [
       "<IPython.core.display.HTML object>"
      ]
     },
     "metadata": {},
     "output_type": "display_data"
    },
    {
     "name": "stdout",
     "output_type": "stream",
     "text": [
      "Future research on the transmission characteristics could improve precision on control estimates.\n"
     ]
    },
    {
     "data": {
      "text/html": [
       "<a href=\"http://doi.org/10.1016/S2214-109X(20)30074-7\" target=\"_blank\">Feasibility of controlling COVID-19 outbreaks by isolation of cases and contacts</a>"
      ],
      "text/plain": [
       "<IPython.core.display.HTML object>"
      ]
     },
     "metadata": {},
     "output_type": "display_data"
    },
    {
     "name": "stdout",
     "output_type": "stream",
     "text": [
      "Closure of certain routes, targeted airport screening, risk communication, public awareness and targeted training and vigilance of health workers associated with the portals of entry of visitors to their countries will help mitigate the force of further spread of 2019-nCoV.\n"
     ]
    },
    {
     "data": {
      "text/html": [
       "<a href=\"http://doi.org/10.1017/S0950268820000424\" target=\"_blank\">Epidemiology and Infection Passengers' destinations from China: low risk of Novel Coronavirus (2019-nCoV) transmission into Africa and South America</a>"
      ],
      "text/plain": [
       "<IPython.core.display.HTML object>"
      ]
     },
     "metadata": {},
     "output_type": "display_data"
    },
    {
     "name": "stdout",
     "output_type": "stream",
     "text": [
      "We assessed the ability of isolation and contact tracing to control disease outbreaks in areas without widespread transmission using a mathematical model.\n"
     ]
    },
    {
     "data": {
      "text/html": [
       "<a href=\"http://doi.org/10.1016/S2214-109X(20)30074-7\" target=\"_blank\">Feasibility of controlling COVID-19 outbreaks by isolation of cases and contacts</a>"
      ],
      "text/plain": [
       "<IPython.core.display.HTML object>"
      ]
     },
     "metadata": {},
     "output_type": "display_data"
    },
    {
     "name": "stdout",
     "output_type": "stream",
     "text": [
      "Notably, DXY.cn does not generate data outside of traditional surveillance systems but rather provides a channel of rapid communication between the public and health authorities.\n"
     ]
    },
    {
     "data": {
      "text/html": [
       "<a href=\"http://doi.org/10.1016/S2589-7500(20)30026-1\" target=\"_blank\">Early epidemiological analysis of the coronavirus disease 2019 outbreak based on crowdsourced data: a population- level observational study</a>"
      ],
      "text/plain": [
       "<IPython.core.display.HTML object>"
      ]
     },
     "metadata": {},
     "output_type": "display_data"
    },
    {
     "name": "stdout",
     "output_type": "stream",
     "text": [
      "12 Line lists provide unique information on the delays between symptom onset and detection by the health-care system, reporting delays, and travel histories.\n"
     ]
    },
    {
     "data": {
      "text/html": [
       "<a href=\"http://doi.org/10.1016/S2589-7500(20)30026-1\" target=\"_blank\">Early epidemiological analysis of the coronavirus disease 2019 outbreak based on crowdsourced data: a population- level observational study</a>"
      ],
      "text/plain": [
       "<IPython.core.display.HTML object>"
      ]
     },
     "metadata": {},
     "output_type": "display_data"
    },
    {
     "name": "stdout",
     "output_type": "stream",
     "text": [
      "A crowd sourced system would not be expected to catch all cases, especially if many cases are too mild to be captured by the health-care system, digital surveillance, or social media.\n"
     ]
    },
    {
     "data": {
      "text/html": [
       "<a href=\"http://doi.org/10.1016/S2589-7500(20)30026-1\" target=\"_blank\">Early epidemiological analysis of the coronavirus disease 2019 outbreak based on crowdsourced data: a population- level observational study</a>"
      ],
      "text/plain": [
       "<IPython.core.display.HTML object>"
      ]
     },
     "metadata": {},
     "output_type": "display_data"
    },
    {
     "name": "stdout",
     "output_type": "stream",
     "text": [
      "Furthermore, because patient data in our dataset were captured by the health system, they are biased towards the more severe spectrum of the disease, especially for patients from mainland China.\n"
     ]
    },
    {
     "data": {
      "text/html": [
       "<a href=\"http://doi.org/10.1016/S2589-7500(20)30026-1\" target=\"_blank\">Early epidemiological analysis of the coronavirus disease 2019 outbreak based on crowdsourced data: a population- level observational study</a>"
      ],
      "text/plain": [
       "<IPython.core.display.HTML object>"
      ]
     },
     "metadata": {},
     "output_type": "display_data"
    },
    {
     "name": "stdout",
     "output_type": "stream",
     "text": [
      "The model could be modified to include some transmission after isolation (such as in hospitals), which would decrease the probability of achieving control.\n"
     ]
    },
    {
     "data": {
      "text/html": [
       "<a href=\"http://doi.org/10.1016/S2214-109X(20)30074-7\" target=\"_blank\">Feasibility of controlling COVID-19 outbreaks by isolation of cases and contacts</a>"
      ],
      "text/plain": [
       "<IPython.core.display.HTML object>"
      ]
     },
     "metadata": {},
     "output_type": "display_data"
    },
    {
     "name": "stdout",
     "output_type": "stream",
     "text": [
      "We simplified our model to determine the effect of contact tracing and isolation on the control of outbreaks under different scenarios of transmission; however, as more data becomes available, the model can be updated or tailored to particular public health contexts.\n"
     ]
    },
    {
     "data": {
      "text/html": [
       "<a href=\"http://doi.org/10.1016/S2214-109X(20)30074-7\" target=\"_blank\">Feasibility of controlling COVID-19 outbreaks by isolation of cases and contacts</a>"
      ],
      "text/plain": [
       "<IPython.core.display.HTML object>"
      ]
     },
     "metadata": {},
     "output_type": "display_data"
    },
    {
     "name": "stdout",
     "output_type": "stream",
     "text": [
      "This might be of concern to local authorities for reducing the health-care surges, and might limit geographical spread.\n"
     ]
    },
    {
     "data": {
      "text/html": [
       "<a href=\"http://doi.org/10.1016/S2214-109X(20)30074-7\" target=\"_blank\">Feasibility of controlling COVID-19 outbreaks by isolation of cases and contacts</a>"
      ],
      "text/plain": [
       "<IPython.core.display.HTML object>"
      ]
     },
     "metadata": {},
     "output_type": "display_data"
    },
    {
     "name": "stdout",
     "output_type": "stream",
     "text": [
      "It can be effective but might require intensive public health effort and cooperation to effectively reach and monitor all contacts.\n"
     ]
    },
    {
     "data": {
      "text/html": [
       "<a href=\"http://doi.org/10.1016/S2214-109X(20)30074-7\" target=\"_blank\">Feasibility of controlling COVID-19 outbreaks by isolation of cases and contacts</a>"
      ],
      "text/plain": [
       "<IPython.core.display.HTML object>"
      ]
     },
     "metadata": {},
     "output_type": "display_data"
    },
    {
     "name": "stdout",
     "output_type": "stream",
     "text": [
      "To estimate trends in the strength of case detection and interventions, we analysed delays between symptom onset and visit to a health-care provider, at a hospital or clinic, and from seeking care at a hospital or clinic to reporting, by time period and location.\n"
     ]
    },
    {
     "data": {
      "text/html": [
       "<a href=\"http://doi.org/10.1016/S2589-7500(20)30026-1\" target=\"_blank\">Early epidemiological analysis of the coronavirus disease 2019 outbreak based on crowdsourced data: a population- level observational study</a>"
      ],
      "text/plain": [
       "<IPython.core.display.HTML object>"
      ]
     },
     "metadata": {},
     "output_type": "display_data"
    },
    {
     "name": "stdout",
     "output_type": "stream",
     "text": [
      "Our model did not include other control measures that might decrease the reproduction number and therefore also increase the probability of achieving control of an outbreak.\n"
     ]
    },
    {
     "data": {
      "text/html": [
       "<a href=\"http://doi.org/10.1016/S2214-109X(20)30074-7\" target=\"_blank\">Feasibility of controlling COVID-19 outbreaks by isolation of cases and contacts</a>"
      ],
      "text/plain": [
       "<IPython.core.display.HTML object>"
      ]
     },
     "metadata": {},
     "output_type": "display_data"
    },
    {
     "name": "stdout",
     "output_type": "stream",
     "text": [
      "We searched DXY.cn, a Chinese health-care-oriented social network that broadcasts information from local and national health authorities, to reconstruct patient-level information on COVID-19 in China.\n"
     ]
    },
    {
     "data": {
      "text/html": [
       "<a href=\"http://doi.org/10.1016/S2589-7500(20)30026-1\" target=\"_blank\">Early epidemiological analysis of the coronavirus disease 2019 outbreak based on crowdsourced data: a population- level observational study</a>"
      ],
      "text/plain": [
       "<IPython.core.display.HTML object>"
      ]
     },
     "metadata": {},
     "output_type": "display_data"
    },
    {
     "name": "stdout",
     "output_type": "stream",
     "text": [
      "The robustness of control measures is likely to be affected both by differences in transmission between countries, but also by the concurrent number of cases that require contact tracing in each scenario.\n"
     ]
    },
    {
     "data": {
      "text/html": [
       "<a href=\"http://doi.org/10.1016/S2214-109X(20)30074-7\" target=\"_blank\">Feasibility of controlling COVID-19 outbreaks by isolation of cases and contacts</a>"
      ],
      "text/plain": [
       "<IPython.core.display.HTML object>"
      ]
     },
     "metadata": {},
     "output_type": "display_data"
    },
    {
     "name": "stdout",
     "output_type": "stream",
     "text": [
      "We determined conditions in which case isolation, contact tracing, and preventing transmission by contacts who are infected would be sufficient to control a new COVID-19 outbreak in the absence of other control measures.\n"
     ]
    },
    {
     "data": {
      "text/html": [
       "<a href=\"http://doi.org/10.1016/S2214-109X(20)30074-7\" target=\"_blank\">Feasibility of controlling COVID-19 outbreaks by isolation of cases and contacts</a>"
      ],
      "text/plain": [
       "<IPython.core.display.HTML object>"
      ]
     },
     "metadata": {},
     "output_type": "display_data"
    },
    {
     "name": "stdout",
     "output_type": "stream",
     "text": [
      "A quick diagnosis that leads to quarantine and integrated interventions will have a major impact on its future trend.\n"
     ]
    },
    {
     "data": {
      "text/html": [
       "<a href=\"http://doi.org/10.1101/2020.01.23.916726\" target=\"_blank\">Modelling the epidemic trend of the 2019 novel coronavirus outbreak in China</a>"
      ],
      "text/plain": [
       "<IPython.core.display.HTML object>"
      ]
     },
     "metadata": {},
     "output_type": "display_data"
    },
    {
     "name": "stdout",
     "output_type": "stream",
     "text": [
      "7 These efforts can help generate and disseminate detailed information in the early stages of an outbreak when little other data are available, enabling independent estimation of key parameters that affect interventions.\n"
     ]
    },
    {
     "data": {
      "text/html": [
       "<a href=\"http://doi.org/10.1016/S2589-7500(20)30026-1\" target=\"_blank\">Early epidemiological analysis of the coronavirus disease 2019 outbreak based on crowdsourced data: a population- level observational study</a>"
      ],
      "text/plain": [
       "<IPython.core.display.HTML object>"
      ]
     },
     "metadata": {},
     "output_type": "display_data"
    },
    {
     "name": "stdout",
     "output_type": "stream",
     "text": [
      "The main issue with the quality of patient-level data obtained during health emergencies is the potential lack of information from locations overwhelmed by the outbreak (in this case, Hubei province and other provinces with weaker health infrastructures).\n"
     ]
    },
    {
     "data": {
      "text/html": [
       "<a href=\"http://doi.org/10.1016/S2589-7500(20)30026-1\" target=\"_blank\">Early epidemiological analysis of the coronavirus disease 2019 outbreak based on crowdsourced data: a population- level observational study</a>"
      ],
      "text/plain": [
       "<IPython.core.display.HTML object>"
      ]
     },
     "metadata": {},
     "output_type": "display_data"
    },
    {
     "name": "stdout",
     "output_type": "stream",
     "text": [
      "We further looked in more detail at the risk to Africa where the health infrastructure would be challenged tracking a new epidemic across its 54 countries.\n"
     ]
    },
    {
     "data": {
      "text/html": [
       "<a href=\"http://doi.org/10.1017/S0950268820000424\" target=\"_blank\">Epidemiology and Infection Passengers' destinations from China: low risk of Novel Coronavirus (2019-nCoV) transmission into Africa and South America</a>"
      ],
      "text/plain": [
       "<IPython.core.display.HTML object>"
      ]
     },
     "metadata": {},
     "output_type": "display_data"
    },
    {
     "name": "stdout",
     "output_type": "stream",
     "text": [
      "The aim of the current study was to explore the effect of sustained transmission from the four Chinese cities of Wuhan, Beijing, Shanghai and Guangzhou on international disease importation risk to 168 countries and territories, with a specific focus on Africa where current levels of healthcare infrastructure could provide a significant challenge for managing this novel epidemic.\n"
     ]
    },
    {
     "data": {
      "text/html": [
       "<a href=\"http://doi.org/10.1017/S0950268820000424\" target=\"_blank\">Epidemiology and Infection Passengers' destinations from China: low risk of Novel Coronavirus (2019-nCoV) transmission into Africa and South America</a>"
      ],
      "text/plain": [
       "<IPython.core.display.HTML object>"
      ]
     },
     "metadata": {},
     "output_type": "display_data"
    },
    {
     "name": "stdout",
     "output_type": "stream",
     "text": [
      "Hence countries ranked as high risk in our model (4 th and 3 rd quantiles) should take all steps necessary to ensure prompt detection of cases and the capacity to manage these cases to prevent ongoing spread.\n"
     ]
    },
    {
     "data": {
      "text/html": [
       "<a href=\"http://doi.org/10.1017/S0950268820000424\" target=\"_blank\">Epidemiology and Infection Passengers' destinations from China: low risk of Novel Coronavirus (2019-nCoV) transmission into Africa and South America</a>"
      ],
      "text/plain": [
       "<IPython.core.display.HTML object>"
      ]
     },
     "metadata": {},
     "output_type": "display_data"
    },
    {
     "name": "stdout",
     "output_type": "stream",
     "text": [
      "31 Values of the natural history represent the current best understanding of COVID-19 transmission, and we used 20 index cases and a short delay to isolation to represent a relatively large influx into a setting of high awareness of possible infection.\n"
     ]
    },
    {
     "data": {
      "text/html": [
       "<a href=\"http://doi.org/10.1016/S2214-109X(20)30074-7\" target=\"_blank\">Feasibility of controlling COVID-19 outbreaks by isolation of cases and contacts</a>"
      ],
      "text/plain": [
       "<IPython.core.display.HTML object>"
      ]
     },
     "metadata": {},
     "output_type": "display_data"
    }
   ],
   "source": [
    "top_n_similar_sentences_LDA_glove_cosine(12, 5, 30)"
   ]
  },
  {
   "cell_type": "markdown",
   "metadata": {},
   "source": [
    "Question 13: "
   ]
  },
  {
   "cell_type": "code",
   "execution_count": 155,
   "metadata": {
    "ExecuteTime": {
     "end_time": "2020-04-25T18:31:54.153480Z",
     "start_time": "2020-04-25T18:31:53.987479Z"
    }
   },
   "outputs": [
    {
     "name": "stdout",
     "output_type": "stream",
     "text": [
      "QUESTION #13: Effectiveness of personal protective equipment (PPE) and its usefulness to reduce risk of transmission in health care and community settings, mask, google, gloves\n",
      "\n",
      "\n"
     ]
    },
    {
     "data": {
      "text/plain": [
       "['Effective use of personal protective equipment (PPE) is essential to protect personnel and patients in healthcare settings [1] .',\n",
       " 'Effective use of personal protective equipment (PPE) by healthcare workers (HCWs) is an important component of infection prevention in healthcare settings.',\n",
       " 'Third, healthcare providers need to be better trained to maximize the effectiveness of infection control measures, including use of masks, respirators, and other personal protective equipment.',\n",
       " 'A key aspect of patient isolation is proper use of personal protective equipment (PPE) to protect HCWs from pathogen exposure during patient care.',\n",
       " 'have shown that in health care settings, the use of masks could reduce the transmission of infl uenza [23] .',\n",
       " 'Other factors that affect the use of personal protective equipment, such as staff and management attitudes about the value of respirator use, fatigue and the availability of replacement masks, also need to be considered.',\n",
       " 'Triage, isolation and infection control are key, as well as personal protective equipment (PPE) for health care workers.',\n",
       " 'The health care providers were instructed to use WHO standard Personal Protective Equipment (PPE) including N95 masks during handling of the patients.',\n",
       " 'Depending on the risk assessment, the employer has to provide personal protective equipment (PPE).',\n",
       " 'To prevent the transmission of EID spread in a workplace, HCWs are advised to wear personal protective equipment (PPE), including face masks, bioprotective suits, and medical gloves, according to the standard infection prevention and control guidance (8, 9) .',\n",
       " 'Compared with other resource-poor settings, confl ict situations, because of disrupted health services, may have even more substandard infection control, insuffi cient trained staff, and personal protective equipment (PPE), which make EHF containment diffi cult.',\n",
       " 'Thus, adequately training healthcare workers in the use of personal protective equipment is an important aspect of reducing the incidence of SARS infection.',\n",
       " 'Healthcare professionals that clean must use respiratory personal protection equipment.',\n",
       " 'Hand hygiene, use of personal protective equipment (PPE) and working on intensive care units (ICUs) have been associated with risk of influenza [40] .',\n",
       " 'Specifically, we aimed to determine hospital bedcapacity for isolation, public health workforce capacity for contact tracing and health care worker (HCW) personal protective equipment (PPE) requirements under different attack scenarios.',\n",
       " 'There is some evidence that training programs and the use of personal protective equipment are associated with a decreased risk of transmission of SARS [10] .',\n",
       " 'Given that the correct choice of respiratory protective equipment regardless of the specifications and limitations of the users reduces their efficiency and can lead to irreparable damages to medical staff and hospital infection control system, the \"N95 Respirator Masks Ergonomic Analysis among Medical Staff Inventory\" can present a full assessment of ergonomic aspects of a half-face respirator (24, 25) .',\n",
       " \"The questionnaire contained 42 items and it is beneficial to use it in the health care system to evaluate the ergonomic problems of the masks and to have optimal choice in this respect and it can be used in the promotion of the staffs' behavior in wearing these masks when necessary.\",\n",
       " 'Healthcare workers, in order to protect themselves and other patients, should practice standard precautions, including hand-washing hygiene before and after patient contact, use of personal protective equipment, adequate sterilization of patient care equipment before subsequent use, and respiratory etiquette (giving masks to patients with coughs and encouraging patients to appropriately cover their mouths) [7] .',\n",
       " 'Our study assesses the efficacy of surgical masks in providing secondary protection to healthcare workers and others in relation to masks and respirators used for personal protection.',\n",
       " 'Teleman and others [25] showed that hand washing and use of mask can reduce the transmission of Influenza in health care settings.',\n",
       " 'Although there is limited data to support the use of face masks and/or respirators in healthcare and community settings, evidence suggests that given the potential loss of effectiveness with incorrect usage, general advice should be to only use masks/ respirators under very particular, specified circumstances, and in combination with other personal protective practices [20] .',\n",
       " 'The use of personal protective equipment by health care workers is one of the most crucial measures to protect them against diseases.',\n",
       " 'So educating and training the medical staff on universal precautions, risk assessment, and use of personal protective equipment is crucial.',\n",
       " 'There was much debate over whether to use conventional masks or respirators in health care settings.',\n",
       " 'To avoid transmission, nurses were extensively trained in SARS patient care, the use of personal protective equipment, the potential risks for transmission, and preparedness for high levels of stress.',\n",
       " 'Furthermore, recognition of environmental contacts and self-contact by HCWs may motivate improved use of personal protective equipment (PPE) and hand hygiene, which we have found to be inadequate among HCWs at this hospital [10] .',\n",
       " 'The correct use of personal protective equipment (PPE) as part of comprehensive IPC measures contributes to the prevention of EVD transmission in healthcare settings by providing a protective barrier from contaminated fluids.',\n",
       " 'Students were introduced to infection prevention bundles, personal protective equipment (PPE), and the transmission-based isolation precautions during a multidisciplinary patient safety seminar.',\n",
       " 'Experience in hospitals has suggested that appropriate infection control measures, including use of personal protective equipment, personal hygiene, and environmental measures, such as area isolation, protect healthcare workers from SARS (2, 3) .']"
      ]
     },
     "execution_count": 155,
     "metadata": {},
     "output_type": "execute_result"
    }
   ],
   "source": [
    "top_n_similar_sentences_glove_cosine(13,30)"
   ]
  },
  {
   "cell_type": "code",
   "execution_count": 173,
   "metadata": {
    "ExecuteTime": {
     "end_time": "2020-04-25T19:48:07.063740Z",
     "start_time": "2020-04-25T19:48:03.643735Z"
    },
    "scrolled": false
   },
   "outputs": [
    {
     "name": "stdout",
     "output_type": "stream",
     "text": [
      "QUESTION #13: Effectiveness of personal protective equipment (PPE) and its usefulness to reduce risk of transmission in health care and community settings\n",
      "\n",
      "\n",
      "However, there are still many problems with the current psychological interventions, including effective utilization of Internet resources/tools, and efficient cooperation between medical staffs and psychologists.\n"
     ]
    },
    {
     "data": {
      "text/html": [
       "<a href=\"http://doi.org/10.1093/pcmedi/pbaa006\" target=\"_blank\">no title</a>"
      ],
      "text/plain": [
       "<IPython.core.display.HTML object>"
      ]
     },
     "metadata": {},
     "output_type": "display_data"
    },
    {
     "name": "stdout",
     "output_type": "stream",
     "text": [
      "Whilst strong epidemiology and surveillance systems are indispensable tools for the detection and monitoring of outbreaks and public health emergencies, strong primary care systems form the foundation of any emergency response.\n"
     ]
    },
    {
     "data": {
      "text/html": [
       "<a href=\"http://doi.org/10.3399/bjgpopen20X101041\" target=\"_blank\">President, World Organisation of Family Doctors (WONca)</a>"
      ],
      "text/plain": [
       "<IPython.core.display.HTML object>"
      ]
     },
     "metadata": {},
     "output_type": "display_data"
    },
    {
     "name": "stdout",
     "output_type": "stream",
     "text": [
      "Decent access to primary health care is essential in health emergencies, and its infrastructure crucial for containment, 10 just as good access to high-quality primary care is at the foundation of any strong health system.\n"
     ]
    },
    {
     "data": {
      "text/html": [
       "<a href=\"http://doi.org/10.3399/bjgpopen20X101041\" target=\"_blank\">President, World Organisation of Family Doctors (WONca)</a>"
      ],
      "text/plain": [
       "<IPython.core.display.HTML object>"
      ]
     },
     "metadata": {},
     "output_type": "display_data"
    },
    {
     "name": "stdout",
     "output_type": "stream",
     "text": [
      "As the 'front door' of the health system, primary care professionals should be involved in planning and action for health emergency risk management.\n"
     ]
    },
    {
     "data": {
      "text/html": [
       "<a href=\"http://doi.org/10.3399/bjgpopen20X101041\" target=\"_blank\">President, World Organisation of Family Doctors (WONca)</a>"
      ],
      "text/plain": [
       "<IPython.core.display.HTML object>"
      ]
     },
     "metadata": {},
     "output_type": "display_data"
    },
    {
     "name": "stdout",
     "output_type": "stream",
     "text": [
      "5) is an effective method for understanding and managing psychological impacts among medical staffs, including managing the full risk and resilience in the responder \"hazard specific\" stress.\n"
     ]
    },
    {
     "data": {
      "text/html": [
       "<a href=\"http://doi.org/10.1093/pcmedi/pbaa006\" target=\"_blank\">no title</a>"
      ],
      "text/plain": [
       "<IPython.core.display.HTML object>"
      ]
     },
     "metadata": {},
     "output_type": "display_data"
    },
    {
     "name": "stdout",
     "output_type": "stream",
     "text": [
      "9 Strong health systems built on comprehensive primary care are able to integrate both functions, disseminating the emergency response resources and information required to community-level staff who have the breadth of training required to manage new suspected cases alongside routine family medicine.\n"
     ]
    },
    {
     "data": {
      "text/html": [
       "<a href=\"http://doi.org/10.3399/bjgpopen20X101041\" target=\"_blank\">President, World Organisation of Family Doctors (WONca)</a>"
      ],
      "text/plain": [
       "<IPython.core.display.HTML object>"
      ]
     },
     "metadata": {},
     "output_type": "display_data"
    },
    {
     "name": "stdout",
     "output_type": "stream",
     "text": [
      "In the UK, primary care handles over 95% of all health system activity.\n"
     ]
    },
    {
     "data": {
      "text/html": [
       "<a href=\"http://doi.org/10.3399/bjgpopen20X101041\" target=\"_blank\">President, World Organisation of Family Doctors (WONca)</a>"
      ],
      "text/plain": [
       "<IPython.core.display.HTML object>"
      ]
     },
     "metadata": {},
     "output_type": "display_data"
    },
    {
     "name": "stdout",
     "output_type": "stream",
     "text": [
      "To guarantee their continued effective work, their mental health status should be monitored and a continuum of timely interventions should be made available to support them.\n"
     ]
    },
    {
     "data": {
      "text/html": [
       "<a href=\"http://doi.org/10.1093/pcmedi/pbaa006\" target=\"_blank\">no title</a>"
      ],
      "text/plain": [
       "<IPython.core.display.HTML object>"
      ]
     },
     "metadata": {},
     "output_type": "display_data"
    },
    {
     "name": "stdout",
     "output_type": "stream",
     "text": [
      "[3] [4] [5] Sudden outbreaks of public health events always pose huge challenges to the mental health service system.\n"
     ]
    },
    {
     "data": {
      "text/html": [
       "<a href=\"http://doi.org/10.1093/pcmedi/pbaa006\" target=\"_blank\">no title</a>"
      ],
      "text/plain": [
       "<IPython.core.display.HTML object>"
      ]
     },
     "metadata": {},
     "output_type": "display_data"
    },
    {
     "name": "stdout",
     "output_type": "stream",
     "text": [
      "8 suggested three important factors: 1) multidisciplinary mental health teams (psychiatrists, psychiatric nurses, clinical psychologists, and other mental health professionals), 2) clear communication with regular and accurate updates about the COVID-19 outbreak, and 3) establishment of secure services to provide psychological counseling (e.g., electronic devices and applications).\n"
     ]
    },
    {
     "data": {
      "text/html": [
       "<a href=\"http://dx.doi.org/10.30773/pi.2020.0058\" target=\"_blank\">no title</a>"
      ],
      "text/plain": [
       "<IPython.core.display.HTML object>"
      ]
     },
     "metadata": {},
     "output_type": "display_data"
    },
    {
     "name": "stdout",
     "output_type": "stream",
     "text": [
      "11 With the support for remote psychological intervention provided by the development of Internet technology, especially the widespread application of 4G or 5G networks and smartphones, we developed a new intervention model to handle the present COVID-19 public health event.\n"
     ]
    },
    {
     "data": {
      "text/html": [
       "<a href=\"http://doi.org/10.1093/pcmedi/pbaa006\" target=\"_blank\">no title</a>"
      ],
      "text/plain": [
       "<IPython.core.display.HTML object>"
      ]
     },
     "metadata": {},
     "output_type": "display_data"
    },
    {
     "name": "stdout",
     "output_type": "stream",
     "text": [
      "WHO member states have repeatedly affirmed their commitment to developing their primary care systems with a view to training up community-based health professionals who are able to provide care across the spectrum of prevention, preparedness, response, and recovery.\n"
     ]
    },
    {
     "data": {
      "text/html": [
       "<a href=\"http://doi.org/10.3399/bjgpopen20X101041\" target=\"_blank\">President, World Organisation of Family Doctors (WONca)</a>"
      ],
      "text/plain": [
       "<IPython.core.display.HTML object>"
      ]
     },
     "metadata": {},
     "output_type": "display_data"
    },
    {
     "name": "stdout",
     "output_type": "stream",
     "text": [
      "8 could be a good reference for providing mental health care in response to the COVID-19 outbreak in Korea.\n"
     ]
    },
    {
     "data": {
      "text/html": [
       "<a href=\"http://dx.doi.org/10.30773/pi.2020.0058\" target=\"_blank\">no title</a>"
      ],
      "text/plain": [
       "<IPython.core.display.HTML object>"
      ]
     },
     "metadata": {},
     "output_type": "display_data"
    },
    {
     "name": "stdout",
     "output_type": "stream",
     "text": [
      "4 The resources needed to do this effectively may not be routinely available, however, particularly in low-resource settings.\n"
     ]
    },
    {
     "data": {
      "text/html": [
       "<a href=\"http://doi.org/10.3399/bjgpopen20X101041\" target=\"_blank\">President, World Organisation of Family Doctors (WONca)</a>"
      ],
      "text/plain": [
       "<IPython.core.display.HTML object>"
      ]
     },
     "metadata": {},
     "output_type": "display_data"
    },
    {
     "name": "stdout",
     "output_type": "stream",
     "text": [
      "7 The absence of mental health and psychosocial support systems and the lack of well-trained psychiatrists and/or psychologists in these regions increased the risks of psychological distress and progression to psychopathology.\n"
     ]
    },
    {
     "data": {
      "text/html": [
       "<a href=\"http://doi.org/10.1093/pcmedi/pbaa006\" target=\"_blank\">no title</a>"
      ],
      "text/plain": [
       "<IPython.core.display.HTML object>"
      ]
     },
     "metadata": {},
     "output_type": "display_data"
    },
    {
     "name": "stdout",
     "output_type": "stream",
     "text": [
      "Responding to such concerns is not usually part of public health approaches to epidemic communications, which emphasise biomedical and epidemiological information.\n"
     ]
    },
    {
     "data": {
      "text/html": [
       "<a href=\"http://doi.org/10.1016/S2468-2667(20)30033-5\" target=\"_blank\">Comment</a>"
      ],
      "text/plain": [
       "<IPython.core.display.HTML object>"
      ]
     },
     "metadata": {},
     "output_type": "display_data"
    },
    {
     "name": "stdout",
     "output_type": "stream",
     "text": [
      "Tracking heroisation and blame dynamics in realtime, as epidemics unfold, can help health authorities to understand public attitudes both to the threats posed by epidemics and the hope offered by health interventions, to fine-tune targeted health communication strategies accordingly, to identify and amplify local and international heroes, to identify and counter attempts to blame, scapegoat, and spread misinformation, and to improve crisis management practices for the future.\n"
     ]
    },
    {
     "data": {
      "text/html": [
       "<a href=\"http://doi.org/10.1016/S2468-2667(20)30033-5\" target=\"_blank\">Comment</a>"
      ],
      "text/plain": [
       "<IPython.core.display.HTML object>"
      ]
     },
     "metadata": {},
     "output_type": "display_data"
    },
    {
     "name": "stdout",
     "output_type": "stream",
     "text": [
      "Heroes can include, for example, whistle-blowers (who put their careers on the line to alert the public) and health workers (who generate essential information while doing their work).\n"
     ]
    },
    {
     "data": {
      "text/html": [
       "<a href=\"http://doi.org/10.1016/S2468-2667(20)30033-5\" target=\"_blank\">Comment</a>"
      ],
      "text/plain": [
       "<IPython.core.display.HTML object>"
      ]
     },
     "metadata": {},
     "output_type": "display_data"
    },
    {
     "name": "stdout",
     "output_type": "stream",
     "text": [
      "Follow-up is performed regardless of whether the individual reports mental health problems or not.\n"
     ]
    },
    {
     "data": {
      "text/html": [
       "<a href=\"http://doi.org/10.1093/pcmedi/pbaa006\" target=\"_blank\">no title</a>"
      ],
      "text/plain": [
       "<IPython.core.display.HTML object>"
      ]
     },
     "metadata": {},
     "output_type": "display_data"
    },
    {
     "name": "stdout",
     "output_type": "stream",
     "text": [
      "WONCA (the global professional body for family medicine) has actively championed the ways in which primary care can be supported to deliver care during population emergencies.\n"
     ]
    },
    {
     "data": {
      "text/html": [
       "<a href=\"http://doi.org/10.3399/bjgpopen20X101041\" target=\"_blank\">President, World Organisation of Family Doctors (WONca)</a>"
      ],
      "text/plain": [
       "<IPython.core.display.HTML object>"
      ]
     },
     "metadata": {},
     "output_type": "display_data"
    },
    {
     "name": "stdout",
     "output_type": "stream",
     "text": [
      "But trust is a crucial support to public health systems.\n"
     ]
    },
    {
     "data": {
      "text/html": [
       "<a href=\"http://doi.org/10.1016/S2468-2667(20)30033-5\" target=\"_blank\">Comment</a>"
      ],
      "text/plain": [
       "<IPython.core.display.HTML object>"
      ]
     },
     "metadata": {},
     "output_type": "display_data"
    },
    {
     "name": "stdout",
     "output_type": "stream",
     "text": [
      "It is also necessary that the detailed mental health problems of the confirmed or suspected COV-ID-19 patients, healthcare workers treating the infected patients, and public should be collected to update the information regarding the distress caused by infectious disease outbreaks and provide more advancedmental health care for COVID-19 pneumonia.\n"
     ]
    },
    {
     "data": {
      "text/html": [
       "<a href=\"http://dx.doi.org/10.30773/pi.2020.0058\" target=\"_blank\">no title</a>"
      ],
      "text/plain": [
       "<IPython.core.display.HTML object>"
      ]
     },
     "metadata": {},
     "output_type": "display_data"
    },
    {
     "name": "stdout",
     "output_type": "stream",
     "text": [
      "15 In the APD process, medical staffs receive a pre-event stress training focusing on the psychosocial impact of high-casualty events on the hospital and field disaster settings.\n"
     ]
    },
    {
     "data": {
      "text/html": [
       "<a href=\"http://doi.org/10.1093/pcmedi/pbaa006\" target=\"_blank\">no title</a>"
      ],
      "text/plain": [
       "<IPython.core.display.HTML object>"
      ]
     },
     "metadata": {},
     "output_type": "display_data"
    },
    {
     "name": "stdout",
     "output_type": "stream",
     "text": [
      "Medical staffs working for the quarantined are the special group who need a lot of social support, and they are also an important force to provide social support for the isolated patients.\n"
     ]
    },
    {
     "data": {
      "text/html": [
       "<a href=\"http://doi.org/10.1093/pcmedi/pbaa006\" target=\"_blank\">no title</a>"
      ],
      "text/plain": [
       "<IPython.core.display.HTML object>"
      ]
     },
     "metadata": {},
     "output_type": "display_data"
    },
    {
     "name": "stdout",
     "output_type": "stream",
     "text": [
      "To improve timely access to data in the context of the COVID-19 emergency the Bulletin of the World Health Organization will implement an \"COVID-19 Open\" data sharing and reporting protocol, which will apply during the current COVID-19 emergency.\n"
     ]
    },
    {
     "data": {
      "text/html": [
       "<a href=\"http://dx.doi.org/10.2471/BLT.20.251561\" target=\"_blank\">150 | b Health Emergencies Preparedness and Response, World Health Organization</a>"
      ],
      "text/plain": [
       "<IPython.core.display.HTML object>"
      ]
     },
     "metadata": {},
     "output_type": "display_data"
    },
    {
     "name": "stdout",
     "output_type": "stream",
     "text": [
      "National primary care bodies can coordinate with public health leads to cascade information to practitioners, communicate with the public, and collate health intelligence from the frontline primary care.\n"
     ]
    },
    {
     "data": {
      "text/html": [
       "<a href=\"http://doi.org/10.3399/bjgpopen20X101041\" target=\"_blank\">President, World Organisation of Family Doctors (WONca)</a>"
      ],
      "text/plain": [
       "<IPython.core.display.HTML object>"
      ]
     },
     "metadata": {},
     "output_type": "display_data"
    },
    {
     "name": "stdout",
     "output_type": "stream",
     "text": [
      "Psychological assistance (such as hotline, online consulting) is used to identify and help the target groups who need intervention.\n"
     ]
    },
    {
     "data": {
      "text/html": [
       "<a href=\"http://doi.org/10.1093/pcmedi/pbaa006\" target=\"_blank\">no title</a>"
      ],
      "text/plain": [
       "<IPython.core.display.HTML object>"
      ]
     },
     "metadata": {},
     "output_type": "display_data"
    },
    {
     "name": "stdout",
     "output_type": "stream",
     "text": [
      "12 Specifically, psychological crisis interventions should be integrated into the treatment of pneumonia and blocking of the transmission routes.\n"
     ]
    },
    {
     "data": {
      "text/html": [
       "<a href=\"http://doi.org/10.1093/pcmedi/pbaa006\" target=\"_blank\">no title</a>"
      ],
      "text/plain": [
       "<IPython.core.display.HTML object>"
      ]
     },
     "metadata": {},
     "output_type": "display_data"
    },
    {
     "name": "stdout",
     "output_type": "stream",
     "text": [
      "Moreover, mental health care services for the COVID-19 outbreak are being provided by national hospitals and community mental health centers throughout the country.\n"
     ]
    },
    {
     "data": {
      "text/html": [
       "<a href=\"http://dx.doi.org/10.30773/pi.2020.0058\" target=\"_blank\">no title</a>"
      ],
      "text/plain": [
       "<IPython.core.display.HTML object>"
      ]
     },
     "metadata": {},
     "output_type": "display_data"
    },
    {
     "name": "stdout",
     "output_type": "stream",
     "text": [
      "WHO has asked all countries to prepare for cases including through surveillance, tracing, treatment and isolation practices, and by sharing data.\n"
     ]
    },
    {
     "data": {
      "text/html": [
       "<a href=\"http://doi.org/10.3399/bjgpopen20X101041\" target=\"_blank\">President, World Organisation of Family Doctors (WONca)</a>"
      ],
      "text/plain": [
       "<IPython.core.display.HTML object>"
      ]
     },
     "metadata": {},
     "output_type": "display_data"
    }
   ],
   "source": [
    "top_n_similar_sentences_LDA_glove_cosine(13, 5, 30)"
   ]
  },
  {
   "cell_type": "markdown",
   "metadata": {},
   "source": [
    "Question 14: "
   ]
  },
  {
   "cell_type": "code",
   "execution_count": 157,
   "metadata": {
    "ExecuteTime": {
     "end_time": "2020-04-25T18:31:58.775969Z",
     "start_time": "2020-04-25T18:31:58.597958Z"
    }
   },
   "outputs": [
    {
     "name": "stdout",
     "output_type": "stream",
     "text": [
      "QUESTION #14: Role of the environment in transmission\n",
      "\n",
      "\n"
     ]
    },
    {
     "data": {
      "text/plain": [
       "['Uncov- ering the basic mechanisms governing complex human behaviors in resource-poor urban environments is paramount for developing better infrastructure, fostering local economic development and responding to the emergence, transmission and propagation of infectious disease threats.',\n",
       " 'Thus, studies to prevent transmission in healthcare setting are critical for the development of control measures.',\n",
       " 'Therefore, improved understanding of the potential wildlife host involvement in the transmission of emerging flaviviruses is essential.',\n",
       " 'Economic behavior is known to play a key role in disease transmission.',\n",
       " 'Static and dynamic interactions can play a role in disease transmission [3, 4] .',\n",
       " 'Human, animal, and vector interactions play a major role in disease transmission and form a dynamic transmission cycle.',\n",
       " 'These events underscore the potential for aerosol transmission in non-health care settings and the dramatic role such transmission can play in the global transmission of respiratory diseases.',\n",
       " 'Intervention strategies are contingent on both understanding key environmental drivers of transmission and the dynamics of ongoing human-to-human transmission, particularly in outbreak situations [67] .',\n",
       " 'Assessment of the relative roles of these mechanisms is vital for the development of efficient disease control strategies.',\n",
       " 'The emergent space-time pattern of disease in a given region depends on the parameters of both the disease transmission model and the spatial and social network structures in place in the environment in which transmission takes place.',\n",
       " 'Understanding transmission of influenza and the factors that affect transmission is crucial for designing effective control strategies.',\n",
       " 'While these developments underscore the utility of transmission models for supporting policy development in parasite control, a growing realization is that these models can be useful for this purpose only if the biological processes are well defined and demographic and environmental stochasticity are either well-characterized or unimportant for meeting the goal of the policy modelling exercise [9] [10] [11] [13] [14] [15] [16] .',\n",
       " '15 International cooperation projects have played a vital role in exploring models for the prevention of mother-to-child transmission of HIV (PMTCT).',\n",
       " 'The environmental conditions and human interaction within different means of transport and their associated built environments can lead to successful transmission of airborne diseases.',\n",
       " 'Mobility does play an important role in local dynamics of HIV.',\n",
       " 'In spite of the potential significance of fomitemediated transmission, there is a longer tradition of environmental risk assessment and modeling environmental infection transmission through water [6, 7] , food [8, 9] , and even the air [10] ; only recently has there been published work on fomite-mediated transmission [5, [11] [12] [13] [14] .',\n",
       " 'Of particular interest to the ERA is the characteristics of the MVA vector, its interaction with the host and the environment that may result in immediate or delayed risk to human and animal health as well as to the environment.',\n",
       " 'The above control strategies only focused on social contact characteristics without considering human spatial interaction patterns that play a vital role in shaping disease spread process.',\n",
       " 'Some models use a single social network for both the disease transmission process and the formation of behaviour.',\n",
       " 'The regional network structure is seen as one that promotes the sharing of knowledge, resources, and best practices and thereby improves country-level efficiency in adopting effective surveillance and response systems.',\n",
       " '6 Understanding these features is critical for the scientific representation of the epidemic and the efficient control of its transmission.',\n",
       " 'This paper aims to review the existing evidence on disease transmission in transport built environments with a view to highlight the factors increasing the vulnerability of them to disease transmission, discuss the potential protection measures and identify future direction for research to enhance the resilience of transport infrastructures to biological hazards.',\n",
       " 'However, there is a distinction between climate suitability for transmission and realized transmission because even when climate is suitable for malaria transmission, many additional factors interrupt transmission 14 .',\n",
       " 'However, some clusters of outbreaks from secondary transmission in the health care setting have been reported, and human-tohuman transmission is considered to play an important role in secondary transmission [3] [4] [5] .',\n",
       " 'It has recently been shown that dromedaries play a key role in the transmission of MERS-CoV at the animal-human interface 16 .',\n",
       " 'Airborne disease transmission in the built environment is a complex process, and acquisition and transmission of pathogens is the end result of successful interaction between infectious agents (reservoir), hosts and transmission pathways (environment).',\n",
       " 'Hence, amplification of human-to-human transmission can result in the presence of suboptimal infection control measures in healthcare settings [24] [25] [26] .',\n",
       " 'In addition, the shortcomings of the transmission dynamic model itself have also become the direct cause of limiting its prediction effect.',\n",
       " 'The transmission environment may also contribute to the difference.',\n",
       " 'As there is no direct (host-to-host) transmission, exposure of susceptible hosts to environmental pathogen in the environment is a necessary step in the transmission process.']"
      ]
     },
     "execution_count": 157,
     "metadata": {},
     "output_type": "execute_result"
    }
   ],
   "source": [
    "top_n_similar_sentences_glove_cosine(14,30)"
   ]
  },
  {
   "cell_type": "code",
   "execution_count": 174,
   "metadata": {
    "ExecuteTime": {
     "end_time": "2020-04-25T19:48:21.089761Z",
     "start_time": "2020-04-25T19:48:17.570741Z"
    },
    "scrolled": false
   },
   "outputs": [
    {
     "name": "stdout",
     "output_type": "stream",
     "text": [
      "QUESTION #14: Role of the environment in transmission\n",
      "\n",
      "\n",
      "This review does not aspire to cover the large subject of human-to-human transmission control, but also here a mixture of measures is important from strictly medical (transmission routes, efficiency of PPE, vaccines, antivirals and so on) to more social science-oriented (How do people behave when they suspect they could be infected?\n"
     ]
    },
    {
     "data": {
      "text/html": [
       "<a href=\"http://doi.org/10.1016/j.onehlt.2020.100124\" target=\"_blank\">To appear in: One Health</a>"
      ],
      "text/plain": [
       "<IPython.core.display.HTML object>"
      ]
     },
     "metadata": {},
     "output_type": "display_data"
    },
    {
     "name": "stdout",
     "output_type": "stream",
     "text": [
      "There is an urgent need for the implementation of multidisciplinary One Health to address the current complex health challenges at the human-animal-environment interface [42, 43] One Health approaches in China have recently been described [49] [50] [51] [52] .\n"
     ]
    },
    {
     "data": {
      "text/html": [
       "<a href=\"http://doi.org/10.1016/j.onehlt.2020.100124\" target=\"_blank\">To appear in: One Health</a>"
      ],
      "text/plain": [
       "<IPython.core.display.HTML object>"
      ]
     },
     "metadata": {},
     "output_type": "display_data"
    },
    {
     "name": "stdout",
     "output_type": "stream",
     "text": [
      "[3] Studies also showed that the virus has strong human-to-human transmission capability.\n"
     ]
    },
    {
     "data": {
      "text/html": [
       "<a href=\"http://doi.org/10.1097/CM9.0000000000000777\" target=\"_blank\">Science in the fight against the novel coronavirus disease</a>"
      ],
      "text/plain": [
       "<IPython.core.display.HTML object>"
      ]
     },
     "metadata": {},
     "output_type": "display_data"
    },
    {
     "name": "stdout",
     "output_type": "stream",
     "text": [
      "The implementation and development of One Health collaborations on a global scale are critical to reduce the threats of emerging viruses [42, 43] .\n"
     ]
    },
    {
     "data": {
      "text/html": [
       "<a href=\"http://doi.org/10.1016/j.onehlt.2020.100124\" target=\"_blank\">To appear in: One Health</a>"
      ],
      "text/plain": [
       "<IPython.core.display.HTML object>"
      ]
     },
     "metadata": {},
     "output_type": "display_data"
    },
    {
     "name": "stdout",
     "output_type": "stream",
     "text": [
      "Fuelled by the availability of new research technologies, as well as changing disease, cost and other pressing issues of our time, further growth in this exciting space will undoubtedly continue.\n"
     ]
    },
    {
     "data": {
      "text/html": [
       "<a href=\"http://dx.doi.org/10.1002/cti2.1115\" target=\"_blank\">Frontiers in antiviral therapy and immunotherapy</a>"
      ],
      "text/plain": [
       "<IPython.core.display.HTML object>"
      ]
     },
     "metadata": {},
     "output_type": "display_data"
    },
    {
     "name": "stdout",
     "output_type": "stream",
     "text": [
      "2 These frame Australia's Medical Research and Innovation Priorities, which include antimicrobial resistance, global health and health security, drug repurposing and translational research infrastructure, 15 capturing many of the key elements of this CTI Special Feature.\n"
     ]
    },
    {
     "data": {
      "text/html": [
       "<a href=\"http://dx.doi.org/10.1002/cti2.1115\" target=\"_blank\">Frontiers in antiviral therapy and immunotherapy</a>"
      ],
      "text/plain": [
       "<IPython.core.display.HTML object>"
      ]
     },
     "metadata": {},
     "output_type": "display_data"
    },
    {
     "name": "stdout",
     "output_type": "stream",
     "text": [
      "It is therefore an urgent priority for local and international health and wildlife regulatory authorities to structure and implement robust control mechanisms that effectively reduce human exposure to wild game meat and their products.\n"
     ]
    },
    {
     "data": {
      "text/html": [
       "<a href=\"http://doi.org/10.1097/CM9.0000000000000760\" target=\"_blank\">no title</a>"
      ],
      "text/plain": [
       "<IPython.core.display.HTML object>"
      ]
     },
     "metadata": {},
     "output_type": "display_data"
    },
    {
     "name": "stdout",
     "output_type": "stream",
     "text": [
      "We must also take full advantage of existing knowledge and experience to improve the diagnosis, treatment, prevention, and control of the disease and accelerate the development of drugs and vaccines to save lives.\n"
     ]
    },
    {
     "data": {
      "text/html": [
       "<a href=\"http://doi.org/10.1097/CM9.0000000000000777\" target=\"_blank\">Science in the fight against the novel coronavirus disease</a>"
      ],
      "text/plain": [
       "<IPython.core.display.HTML object>"
      ]
     },
     "metadata": {},
     "output_type": "display_data"
    },
    {
     "name": "stdout",
     "output_type": "stream",
     "text": [
      "Multidisciplinary research in biomedical, social, and environmental sciences is required to achieve a deeper understanding of disease transmission and develop more effective systems for emergency response.\n"
     ]
    },
    {
     "data": {
      "text/html": [
       "<a href=\"http://doi.org/10.1097/CM9.0000000000000777\" target=\"_blank\">Science in the fight against the novel coronavirus disease</a>"
      ],
      "text/plain": [
       "<IPython.core.display.HTML object>"
      ]
     },
     "metadata": {},
     "output_type": "display_data"
    },
    {
     "name": "stdout",
     "output_type": "stream",
     "text": [
      "iii) Decreasing the human-to-human transmission.\n"
     ]
    },
    {
     "data": {
      "text/html": [
       "<a href=\"http://doi.org/10.1016/j.onehlt.2020.100124\" target=\"_blank\">To appear in: One Health</a>"
      ],
      "text/plain": [
       "<IPython.core.display.HTML object>"
      ]
     },
     "metadata": {},
     "output_type": "display_data"
    },
    {
     "name": "stdout",
     "output_type": "stream",
     "text": [
      "4 I anticipate international efforts in these areas over the coming decade will enable the tapping of useful new biological functions and processes, methods for controlling infection, and the deployment of symbiotic or subclinical viruses in new therapies and biotechnologies that are so crucially needed.\n"
     ]
    },
    {
     "data": {
      "text/html": [
       "<a href=\"http://dx.doi.org/10.1002/cti2.1115\" target=\"_blank\">Frontiers in antiviral therapy and immunotherapy</a>"
      ],
      "text/plain": [
       "<IPython.core.display.HTML object>"
      ]
     },
     "metadata": {},
     "output_type": "display_data"
    },
    {
     "name": "stdout",
     "output_type": "stream",
     "text": [
      "Therefore, it is needless to state that for each phase in the control and mitigation of a novel emerging pathogen, adequate laboratory preparedness and response are crucial.\n"
     ]
    },
    {
     "data": {
      "text/html": [
       "<a href=\"http://doi.org/10.2807/1560-7917.ES.2020.25.8.2000197\" target=\"_blank\">Authors' response: Plenty of coronaviruses but no SARS-CoV-2</a>"
      ],
      "text/plain": [
       "<IPython.core.display.HTML object>"
      ]
     },
     "metadata": {},
     "output_type": "display_data"
    },
    {
     "name": "stdout",
     "output_type": "stream",
     "text": [
      "Managing this requires international cooperation using traditional and proven public health strategies that ultimately succeeded inthe SARS epidemic.\n"
     ]
    },
    {
     "data": {
      "text/html": [
       "<a href=\"http://doi.org/10.1097/CM9.0000000000000760\" target=\"_blank\">no title</a>"
      ],
      "text/plain": [
       "<IPython.core.display.HTML object>"
      ]
     },
     "metadata": {},
     "output_type": "display_data"
    },
    {
     "name": "stdout",
     "output_type": "stream",
     "text": [
      "Infections due to SARS-CoV-2 among healthcare workers and family clusters were also reported and human-to-human transmission has been confirmed [37] , however further investigations are required to determine and understand the full extent of this mode of transmission.\n"
     ]
    },
    {
     "data": {
      "text/html": [
       "<a href=\"http://doi.org/10.1016/j.onehlt.2020.100124\" target=\"_blank\">To appear in: One Health</a>"
      ],
      "text/plain": [
       "<IPython.core.display.HTML object>"
      ]
     },
     "metadata": {},
     "output_type": "display_data"
    },
    {
     "name": "stdout",
     "output_type": "stream",
     "text": [
      "Therefore, we maintain that the urgent implementation and monitoring of diagnostic capacities and capabilities for SARS-CoV-2 in Europe is proportional to the containment and expected mitigation phase of the global public health response and is critical for care of local patients.\n"
     ]
    },
    {
     "data": {
      "text/html": [
       "<a href=\"http://doi.org/10.2807/1560-7917.ES.2020.25.8.2000197\" target=\"_blank\">Authors' response: Plenty of coronaviruses but no SARS-CoV-2</a>"
      ],
      "text/plain": [
       "<IPython.core.display.HTML object>"
      ]
     },
     "metadata": {},
     "output_type": "display_data"
    },
    {
     "name": "stdout",
     "output_type": "stream",
     "text": [
      "Nakagawa and colleagues here report on their latest experiments using this system, further improving its performance for use in resource-poor contexts for meningitis diagnoses.\n"
     ]
    },
    {
     "data": {
      "text/html": [
       "<a href=\"http://dx.doi.org/10.1002/cti2.1115\" target=\"_blank\">Frontiers in antiviral therapy and immunotherapy</a>"
      ],
      "text/plain": [
       "<IPython.core.display.HTML object>"
      ]
     },
     "metadata": {},
     "output_type": "display_data"
    },
    {
     "name": "stdout",
     "output_type": "stream",
     "text": [
      "The spread of infectious diseases is affected not only by the biological characteristics of the pathogen but also by various other factors such as politics, culture, economy, and the environment.\n"
     ]
    },
    {
     "data": {
      "text/html": [
       "<a href=\"http://doi.org/10.1097/CM9.0000000000000777\" target=\"_blank\">Science in the fight against the novel coronavirus disease</a>"
      ],
      "text/plain": [
       "<IPython.core.display.HTML object>"
      ]
     },
     "metadata": {},
     "output_type": "display_data"
    },
    {
     "name": "stdout",
     "output_type": "stream",
     "text": [
      "There are two main lines of combat against this public health threat: (1) control and prevention of the epidemic and (2) scientific research.\n"
     ]
    },
    {
     "data": {
      "text/html": [
       "<a href=\"http://doi.org/10.1097/CM9.0000000000000777\" target=\"_blank\">Science in the fight against the novel coronavirus disease</a>"
      ],
      "text/plain": [
       "<IPython.core.display.HTML object>"
      ]
     },
     "metadata": {},
     "output_type": "display_data"
    },
    {
     "name": "stdout",
     "output_type": "stream",
     "text": [
      "Emerging infections in humans and animals, along with other threats such as antimicrobial resistance, are difficult challenges to humanity, to a large extent driven by increasing food production and other issues related to a growing and more resource-demanding population.\n"
     ]
    },
    {
     "data": {
      "text/html": [
       "<a href=\"http://doi.org/10.1016/j.onehlt.2020.100124\" target=\"_blank\">To appear in: One Health</a>"
      ],
      "text/plain": [
       "<IPython.core.display.HTML object>"
      ]
     },
     "metadata": {},
     "output_type": "display_data"
    },
    {
     "name": "stdout",
     "output_type": "stream",
     "text": [
      "In this Clinical & Translational Immunology Special Feature, I illustrate a strategic vision integrating these themes to create new, effective, economical and robust antiviral therapies and immunotherapies, with both the realities and the opportunities afforded to researchers working in our changing world squarely in mind.\n"
     ]
    },
    {
     "data": {
      "text/html": [
       "<a href=\"http://dx.doi.org/10.1002/cti2.1115\" target=\"_blank\">Frontiers in antiviral therapy and immunotherapy</a>"
      ],
      "text/plain": [
       "<IPython.core.display.HTML object>"
      ]
     },
     "metadata": {},
     "output_type": "display_data"
    },
    {
     "name": "stdout",
     "output_type": "stream",
     "text": [
      "So far, there is no evidence of airborne transmission of the SARS-CoV-2, however precautionary measures are recommended due to the lack of information excluding this mode of transmission.\n"
     ]
    },
    {
     "data": {
      "text/html": [
       "<a href=\"http://doi.org/10.1016/j.onehlt.2020.100124\" target=\"_blank\">To appear in: One Health</a>"
      ],
      "text/plain": [
       "<IPython.core.display.HTML object>"
      ]
     },
     "metadata": {},
     "output_type": "display_data"
    },
    {
     "name": "stdout",
     "output_type": "stream",
     "text": [
      "While the current response strategy is still focused on containment, it is becoming increasingly clear that the epidemic may turn global, in which case mitigation will be the next option to control the impact of the pandemic.\n"
     ]
    },
    {
     "data": {
      "text/html": [
       "<a href=\"http://doi.org/10.2807/1560-7917.ES.2020.25.8.2000197\" target=\"_blank\">Authors' response: Plenty of coronaviruses but no SARS-CoV-2</a>"
      ],
      "text/plain": [
       "<IPython.core.display.HTML object>"
      ]
     },
     "metadata": {},
     "output_type": "display_data"
    },
    {
     "name": "stdout",
     "output_type": "stream",
     "text": [
      "7 They also discuss their recent work revealing how two IFN-cinducible factors exhibit broad-spectrum inhibition of IAV, measles (MV), zika (ZikV) and HIV by suppressing furin activity.\n"
     ]
    },
    {
     "data": {
      "text/html": [
       "<a href=\"http://dx.doi.org/10.1002/cti2.1115\" target=\"_blank\">Frontiers in antiviral therapy and immunotherapy</a>"
      ],
      "text/plain": [
       "<IPython.core.display.HTML object>"
      ]
     },
     "metadata": {},
     "output_type": "display_data"
    },
    {
     "name": "stdout",
     "output_type": "stream",
     "text": [
      "For the effective control of the spread of a newly identified virus, we must first understand its infection and pathogenicity patterns, as quickly and as thoroughly as possible, to provide insights into the outbreak and develop targeted prevention and control strategies.\n"
     ]
    },
    {
     "data": {
      "text/html": [
       "<a href=\"http://doi.org/10.1097/CM9.0000000000000777\" target=\"_blank\">Science in the fight against the novel coronavirus disease</a>"
      ],
      "text/plain": [
       "<IPython.core.display.HTML object>"
      ]
     },
     "metadata": {},
     "output_type": "display_data"
    },
    {
     "name": "stdout",
     "output_type": "stream",
     "text": [
      "Each preventable zoonotic outbreak costs the country of origin and the world vast amounts of money and resources, and an inestimable cost in human lives, and if emerging zoonotic outbreaks can be prevented by severely limiting human exposure to wild animals and their trade, then effective measures to ensure that this occurs should be implemented by regulatory government authorities globally as soon as it is practicable.\n"
     ]
    },
    {
     "data": {
      "text/html": [
       "<a href=\"http://doi.org/10.1097/CM9.0000000000000760\" target=\"_blank\">no title</a>"
      ],
      "text/plain": [
       "<IPython.core.display.HTML object>"
      ]
     },
     "metadata": {},
     "output_type": "display_data"
    },
    {
     "name": "stdout",
     "output_type": "stream",
     "text": [
      "Scientific research is of vital importance for tackling emerging infectious diseases and developing effective intervention methods.\n"
     ]
    },
    {
     "data": {
      "text/html": [
       "<a href=\"http://doi.org/10.1097/CM9.0000000000000777\" target=\"_blank\">Science in the fight against the novel coronavirus disease</a>"
      ],
      "text/plain": [
       "<IPython.core.display.HTML object>"
      ]
     },
     "metadata": {},
     "output_type": "display_data"
    },
    {
     "name": "stdout",
     "output_type": "stream",
     "text": [
      "Ominously, a further mathematical model, proposed by Tang et al, [9] suggests that the basic reproductive number for SARS-CoV-2 might be as high as 6.47. outbreak to the global economy will, without doubt, be scrupulously studied after the present outbreak ends, and the global economic costs will be immense, and the human cost, agonizing.\n"
     ]
    },
    {
     "data": {
      "text/html": [
       "<a href=\"http://doi.org/10.1097/CM9.0000000000000760\" target=\"_blank\">no title</a>"
      ],
      "text/plain": [
       "<IPython.core.display.HTML object>"
      ]
     },
     "metadata": {},
     "output_type": "display_data"
    },
    {
     "name": "stdout",
     "output_type": "stream",
     "text": [
      "6 These RBPs include tristetraprolin and AUF1, which promote degradation of AU-rich element (ARE)-containing mRNA; members of the Roquin and Regnase families, which respectively promote or effect degradation of mRNAs harbouring stem-loop structures; and the increasingly apparent role of the RNA methylation machinery in controlling inflammatory mRNA stability.\n"
     ]
    },
    {
     "data": {
      "text/html": [
       "<a href=\"http://dx.doi.org/10.1002/cti2.1115\" target=\"_blank\">Frontiers in antiviral therapy and immunotherapy</a>"
      ],
      "text/plain": [
       "<IPython.core.display.HTML object>"
      ]
     },
     "metadata": {},
     "output_type": "display_data"
    },
    {
     "name": "stdout",
     "output_type": "stream",
     "text": [
      "By expanding and cooperatively leveraging our respective research strengths, our efforts may yet solve the many pressing disease, cost and other sustainability issues of our time.\n"
     ]
    },
    {
     "data": {
      "text/html": [
       "<a href=\"http://dx.doi.org/10.1002/cti2.1115\" target=\"_blank\">Frontiers in antiviral therapy and immunotherapy</a>"
      ],
      "text/plain": [
       "<IPython.core.display.HTML object>"
      ]
     },
     "metadata": {},
     "output_type": "display_data"
    },
    {
     "name": "stdout",
     "output_type": "stream",
     "text": [
      "One of the cornerstones and a prerequisite for a proper public health and clinical response is the availability of a reliable diagnostic and reference laboratory service with adequate capacity.\n"
     ]
    },
    {
     "data": {
      "text/html": [
       "<a href=\"http://doi.org/10.2807/1560-7917.ES.2020.25.8.2000197\" target=\"_blank\">Authors' response: Plenty of coronaviruses but no SARS-CoV-2</a>"
      ],
      "text/plain": [
       "<IPython.core.display.HTML object>"
      ]
     },
     "metadata": {},
     "output_type": "display_data"
    }
   ],
   "source": [
    "top_n_similar_sentences_LDA_glove_cosine(14, 5, 30)"
   ]
  }
 ],
 "metadata": {
  "kernelspec": {
   "display_name": "Python 3",
   "language": "python",
   "name": "python3"
  },
  "language_info": {
   "codemirror_mode": {
    "name": "ipython",
    "version": 3
   },
   "file_extension": ".py",
   "mimetype": "text/x-python",
   "name": "python",
   "nbconvert_exporter": "python",
   "pygments_lexer": "ipython3",
   "version": "3.7.4"
  },
  "toc": {
   "base_numbering": 1,
   "nav_menu": {},
   "number_sections": true,
   "sideBar": true,
   "skip_h1_title": false,
   "title_cell": "Table of Contents",
   "title_sidebar": "Contents",
   "toc_cell": false,
   "toc_position": {
    "height": "calc(100% - 180px)",
    "left": "10px",
    "top": "150px",
    "width": "384px"
   },
   "toc_section_display": true,
   "toc_window_display": true
  }
 },
 "nbformat": 4,
 "nbformat_minor": 2
}
